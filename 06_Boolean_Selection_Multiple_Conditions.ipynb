{
  "nbformat": 4,
  "nbformat_minor": 0,
  "metadata": {
    "kernelspec": {
      "display_name": "Python 3",
      "language": "python",
      "name": "python3"
    },
    "language_info": {
      "codemirror_mode": {
        "name": "ipython",
        "version": 3
      },
      "file_extension": ".py",
      "mimetype": "text/x-python",
      "name": "python",
      "nbconvert_exporter": "python",
      "pygments_lexer": "ipython3",
      "version": "3.7.3"
    },
    "varInspector": {
      "cols": {
        "lenName": 16,
        "lenType": 16,
        "lenVar": 40
      },
      "kernels_config": {
        "python": {
          "delete_cmd_postfix": "",
          "delete_cmd_prefix": "del ",
          "library": "var_list.py",
          "varRefreshCmd": "print(var_dic_list())"
        },
        "r": {
          "delete_cmd_postfix": ") ",
          "delete_cmd_prefix": "rm(",
          "library": "var_list.r",
          "varRefreshCmd": "cat(var_dic_list()) "
        }
      },
      "types_to_exclude": [
        "module",
        "function",
        "builtin_function_or_method",
        "instance",
        "_Feature"
      ],
      "window_display": false
    },
    "colab": {
      "name": "06. Boolean Selection Multiple Conditions.ipynb",
      "provenance": [],
      "include_colab_link": true
    }
  },
  "cells": [
    {
      "cell_type": "markdown",
      "metadata": {
        "id": "view-in-github",
        "colab_type": "text"
      },
      "source": [
        "<a href=\"https://colab.research.google.com/github/cnrgrl/PANDAS/blob/main/06_Boolean_Selection_Multiple_Conditions.ipynb\" target=\"_parent\"><img src=\"https://colab.research.google.com/assets/colab-badge.svg\" alt=\"Open In Colab\"/></a>"
      ]
    },
    {
      "cell_type": "code",
      "metadata": {
        "id": "OevuMBJ12JmV",
        "colab": {
          "base_uri": "https://localhost:8080/",
          "height": 121
        },
        "outputId": "32bf956f-997c-4f22-bc3d-30cd8783f22b"
      },
      "source": [
        "# uncomment the following line, if you are using google collab\n",
        "!rm -r Pandas\n",
        "!git clone https://github.com/Wuebbelt/Pandas.git"
      ],
      "execution_count": null,
      "outputs": [
        {
          "output_type": "stream",
          "text": [
            "Cloning into 'Pandas'...\n",
            "remote: Enumerating objects: 77, done.\u001b[K\n",
            "remote: Counting objects:   1% (1/77)\u001b[K\rremote: Counting objects:   2% (2/77)\u001b[K\rremote: Counting objects:   3% (3/77)\u001b[K\rremote: Counting objects:   5% (4/77)\u001b[K\rremote: Counting objects:   6% (5/77)\u001b[K\rremote: Counting objects:   7% (6/77)\u001b[K\rremote: Counting objects:   9% (7/77)\u001b[K\rremote: Counting objects:  10% (8/77)\u001b[K\rremote: Counting objects:  11% (9/77)\u001b[K\rremote: Counting objects:  12% (10/77)\u001b[K\rremote: Counting objects:  14% (11/77)\u001b[K\rremote: Counting objects:  15% (12/77)\u001b[K\rremote: Counting objects:  16% (13/77)\u001b[K\rremote: Counting objects:  18% (14/77)\u001b[K\rremote: Counting objects:  19% (15/77)\u001b[K\rremote: Counting objects:  20% (16/77)\u001b[K\rremote: Counting objects:  22% (17/77)\u001b[K\rremote: Counting objects:  23% (18/77)\u001b[K\rremote: Counting objects:  24% (19/77)\u001b[K\rremote: Counting objects:  25% (20/77)\u001b[K\rremote: Counting objects:  27% (21/77)\u001b[K\rremote: Counting objects:  28% (22/77)\u001b[K\rremote: Counting objects:  29% (23/77)\u001b[K\rremote: Counting objects:  31% (24/77)\u001b[K\rremote: Counting objects:  32% (25/77)\u001b[K\rremote: Counting objects:  33% (26/77)\u001b[K\rremote: Counting objects:  35% (27/77)\u001b[K\rremote: Counting objects:  36% (28/77)\u001b[K\rremote: Counting objects:  37% (29/77)\u001b[K\rremote: Counting objects:  38% (30/77)\u001b[K\rremote: Counting objects:  40% (31/77)\u001b[K\rremote: Counting objects:  41% (32/77)\u001b[K\rremote: Counting objects:  42% (33/77)\u001b[K\rremote: Counting objects:  44% (34/77)\u001b[K\rremote: Counting objects:  45% (35/77)\u001b[K\rremote: Counting objects:  46% (36/77)\u001b[K\rremote: Counting objects:  48% (37/77)\u001b[K\rremote: Counting objects:  49% (38/77)\u001b[K\rremote: Counting objects:  50% (39/77)\u001b[K\rremote: Counting objects:  51% (40/77)\u001b[K\rremote: Counting objects:  53% (41/77)\u001b[K\rremote: Counting objects:  54% (42/77)\u001b[K\rremote: Counting objects:  55% (43/77)\u001b[K\rremote: Counting objects:  57% (44/77)\u001b[K\rremote: Counting objects:  58% (45/77)\u001b[K\rremote: Counting objects:  59% (46/77)\u001b[K\rremote: Counting objects:  61% (47/77)\u001b[K\rremote: Counting objects:  62% (48/77)\u001b[K\rremote: Counting objects:  63% (49/77)\u001b[K\rremote: Counting objects:  64% (50/77)\u001b[K\rremote: Counting objects:  66% (51/77)\u001b[K\rremote: Counting objects:  67% (52/77)\u001b[K\rremote: Counting objects:  68% (53/77)\u001b[K\rremote: Counting objects:  70% (54/77)\u001b[K\rremote: Counting objects:  71% (55/77)\u001b[K\rremote: Counting objects:  72% (56/77)\u001b[K\rremote: Counting objects:  74% (57/77)\u001b[K\rremote: Counting objects:  75% (58/77)\u001b[K\rremote: Counting objects:  76% (59/77)\u001b[K\rremote: Counting objects:  77% (60/77)\u001b[K\rremote: Counting objects:  79% (61/77)\u001b[K\rremote: Counting objects:  80% (62/77)\u001b[K\rremote: Counting objects:  81% (63/77)\u001b[K\rremote: Counting objects:  83% (64/77)\u001b[K\rremote: Counting objects:  84% (65/77)\u001b[K\rremote: Counting objects:  85% (66/77)\u001b[K\rremote: Counting objects:  87% (67/77)\u001b[K\rremote: Counting objects:  88% (68/77)\u001b[K\rremote: Counting objects:  89% (69/77)\u001b[K\rremote: Counting objects:  90% (70/77)\u001b[K\rremote: Counting objects:  92% (71/77)\u001b[K\rremote: Counting objects:  93% (72/77)\u001b[K\rremote: Counting objects:  94% (73/77)\u001b[K\rremote: Counting objects:  96% (74/77)\u001b[K\rremote: Counting objects:  97% (75/77)\u001b[K\rremote: Counting objects:  98% (76/77)\u001b[K\rremote: Counting objects: 100% (77/77)\u001b[K\rremote: Counting objects: 100% (77/77), done.\u001b[K\n",
            "remote: Compressing objects: 100% (66/66), done.\u001b[K\n",
            "remote: Total 77 (delta 12), reused 75 (delta 10), pack-reused 0\u001b[K\n",
            "Unpacking objects: 100% (77/77), done.\n"
          ],
          "name": "stdout"
        }
      ]
    },
    {
      "cell_type": "markdown",
      "metadata": {
        "id": "Di5VwxfS2IjT"
      },
      "source": [
        "# Boolean Selection Multiple Conditions\n",
        "\n",
        "Thus far, our boolean selections involved just a single condition. It is possible to have as many conditions as you would like. To do so, you will need to combine your boolean expressions using the three logical operators, and, or, and not.\n",
        "\n",
        "## Logical operators\n",
        "\n",
        "Core Python provides the logical operators `and`, `or`, and `not` to combine multiple conditions together. These operators always return a boolean value. Let's take a look at a few simple examples to review. \n",
        "\n",
        "We begin by testing whether five is greater than three and that 10 is greater than 20. There are two conditions here with the first evaluating as `True` and the second as `False`. The `and` operator only returns `True` if both conditions are `True`, so in this case it returns `False`"
      ]
    },
    {
      "cell_type": "code",
      "metadata": {
        "id": "3YY6klIo2IjX",
        "colab": {
          "base_uri": "https://localhost:8080/",
          "height": 34
        },
        "outputId": "fc8f1c8e-d072-4f37-dc47-bf8eeafab532"
      },
      "source": [
        "5 > 3 and 10 > 20"
      ],
      "execution_count": null,
      "outputs": [
        {
          "output_type": "execute_result",
          "data": {
            "text/plain": [
              "False"
            ]
          },
          "metadata": {
            "tags": []
          },
          "execution_count": 18
        }
      ]
    },
    {
      "cell_type": "markdown",
      "metadata": {
        "id": "tlFxVONu2Ijb"
      },
      "source": [
        "Let's keep the same conditions and change the logical operator to `or` which returns `True` if one or more of the conditions evaluate as `True`."
      ]
    },
    {
      "cell_type": "code",
      "metadata": {
        "id": "NV4z_shw2Ijc",
        "colab": {
          "base_uri": "https://localhost:8080/",
          "height": 34
        },
        "outputId": "cbead328-0fec-4d37-b9a1-a204fb06d785"
      },
      "source": [
        "5 > 3 or 10 > 20"
      ],
      "execution_count": null,
      "outputs": [
        {
          "output_type": "execute_result",
          "data": {
            "text/plain": [
              "True"
            ]
          },
          "metadata": {
            "tags": []
          },
          "execution_count": 19
        }
      ]
    },
    {
      "cell_type": "markdown",
      "metadata": {
        "id": "FPrNYW832Ije"
      },
      "source": [
        "The `not` operator inverts a condition. Below, we invert the last expression. Because `not` has higher precedence than `or`, we use parentheses to ensure the `or` condition is evaluated first."
      ]
    },
    {
      "cell_type": "code",
      "metadata": {
        "id": "sCN5OYmi2Ijf",
        "colab": {
          "base_uri": "https://localhost:8080/",
          "height": 34
        },
        "outputId": "b9c7df3e-9c40-4dc6-ce47-adc0118c0f9c"
      },
      "source": [
        "not (5 > 3 or 10 > 20)"
      ],
      "execution_count": null,
      "outputs": [
        {
          "output_type": "execute_result",
          "data": {
            "text/plain": [
              "False"
            ]
          },
          "metadata": {
            "tags": []
          },
          "execution_count": 20
        }
      ]
    },
    {
      "cell_type": "markdown",
      "metadata": {
        "id": "oZqDip4T2Ijh"
      },
      "source": [
        "### Different logical operators for boolean Series\n",
        "\n",
        "These built-in logical operators do not work for creating multiple conditions with a boolean Series. Instead, you must use the following operators.\n",
        "\n",
        "* `&` for and (ampersand character)\n",
        "* `|` for or (pipe character)\n",
        "* `~` for not (tilde character)\n",
        "\n",
        "Let's use the bikes dataset to make our multiple condition queries."
      ]
    },
    {
      "cell_type": "code",
      "metadata": {
        "id": "wre41dK62Iji",
        "colab": {
          "base_uri": "https://localhost:8080/",
          "height": 267
        },
        "outputId": "b27286c6-b10d-4c4d-d14e-6dd9afab521c"
      },
      "source": [
        "import pandas as pd\n",
        "bikes = pd.read_csv('Pandas/bikes.csv')\n",
        "bikes.head(3)"
      ],
      "execution_count": null,
      "outputs": [
        {
          "output_type": "execute_result",
          "data": {
            "text/html": [
              "<div>\n",
              "<style scoped>\n",
              "    .dataframe tbody tr th:only-of-type {\n",
              "        vertical-align: middle;\n",
              "    }\n",
              "\n",
              "    .dataframe tbody tr th {\n",
              "        vertical-align: top;\n",
              "    }\n",
              "\n",
              "    .dataframe thead th {\n",
              "        text-align: right;\n",
              "    }\n",
              "</style>\n",
              "<table border=\"1\" class=\"dataframe\">\n",
              "  <thead>\n",
              "    <tr style=\"text-align: right;\">\n",
              "      <th></th>\n",
              "      <th>trip_id</th>\n",
              "      <th>usertype</th>\n",
              "      <th>gender</th>\n",
              "      <th>starttime</th>\n",
              "      <th>stoptime</th>\n",
              "      <th>tripduration</th>\n",
              "      <th>from_station_name</th>\n",
              "      <th>latitude_start</th>\n",
              "      <th>longitude_start</th>\n",
              "      <th>dpcapacity_start</th>\n",
              "      <th>to_station_name</th>\n",
              "      <th>latitude_end</th>\n",
              "      <th>longitude_end</th>\n",
              "      <th>dpcapacity_end</th>\n",
              "      <th>temperature</th>\n",
              "      <th>visibility</th>\n",
              "      <th>wind_speed</th>\n",
              "      <th>precipitation</th>\n",
              "      <th>events</th>\n",
              "    </tr>\n",
              "  </thead>\n",
              "  <tbody>\n",
              "    <tr>\n",
              "      <th>0</th>\n",
              "      <td>7147</td>\n",
              "      <td>Subscriber</td>\n",
              "      <td>Male</td>\n",
              "      <td>2013-06-28 19:01:00</td>\n",
              "      <td>2013-06-28 19:17:00</td>\n",
              "      <td>993</td>\n",
              "      <td>Lake Shore Dr &amp; Monroe St</td>\n",
              "      <td>41.881050</td>\n",
              "      <td>-87.616970</td>\n",
              "      <td>11.0</td>\n",
              "      <td>Michigan Ave &amp; Oak St</td>\n",
              "      <td>41.90096</td>\n",
              "      <td>-87.623777</td>\n",
              "      <td>15.0</td>\n",
              "      <td>73.9</td>\n",
              "      <td>10.0</td>\n",
              "      <td>12.7</td>\n",
              "      <td>-9999.0</td>\n",
              "      <td>mostlycloudy</td>\n",
              "    </tr>\n",
              "    <tr>\n",
              "      <th>1</th>\n",
              "      <td>7524</td>\n",
              "      <td>Subscriber</td>\n",
              "      <td>Male</td>\n",
              "      <td>2013-06-28 22:53:00</td>\n",
              "      <td>2013-06-28 23:03:00</td>\n",
              "      <td>623</td>\n",
              "      <td>Clinton St &amp; Washington Blvd</td>\n",
              "      <td>41.883380</td>\n",
              "      <td>-87.641170</td>\n",
              "      <td>31.0</td>\n",
              "      <td>Wells St &amp; Walton St</td>\n",
              "      <td>41.89993</td>\n",
              "      <td>-87.634430</td>\n",
              "      <td>19.0</td>\n",
              "      <td>69.1</td>\n",
              "      <td>10.0</td>\n",
              "      <td>6.9</td>\n",
              "      <td>-9999.0</td>\n",
              "      <td>partlycloudy</td>\n",
              "    </tr>\n",
              "    <tr>\n",
              "      <th>2</th>\n",
              "      <td>10927</td>\n",
              "      <td>Subscriber</td>\n",
              "      <td>Male</td>\n",
              "      <td>2013-06-30 14:43:00</td>\n",
              "      <td>2013-06-30 15:01:00</td>\n",
              "      <td>1040</td>\n",
              "      <td>Sheffield Ave &amp; Kingsbury St</td>\n",
              "      <td>41.909592</td>\n",
              "      <td>-87.653497</td>\n",
              "      <td>15.0</td>\n",
              "      <td>Dearborn St &amp; Monroe St</td>\n",
              "      <td>41.88132</td>\n",
              "      <td>-87.629521</td>\n",
              "      <td>23.0</td>\n",
              "      <td>73.0</td>\n",
              "      <td>10.0</td>\n",
              "      <td>16.1</td>\n",
              "      <td>-9999.0</td>\n",
              "      <td>mostlycloudy</td>\n",
              "    </tr>\n",
              "  </tbody>\n",
              "</table>\n",
              "</div>"
            ],
            "text/plain": [
              "   trip_id    usertype gender  ... wind_speed precipitation        events\n",
              "0     7147  Subscriber   Male  ...       12.7       -9999.0  mostlycloudy\n",
              "1     7524  Subscriber   Male  ...        6.9       -9999.0  partlycloudy\n",
              "2    10927  Subscriber   Male  ...       16.1       -9999.0  mostlycloudy\n",
              "\n",
              "[3 rows x 19 columns]"
            ]
          },
          "metadata": {
            "tags": []
          },
          "execution_count": 21
        }
      ]
    },
    {
      "cell_type": "markdown",
      "metadata": {
        "id": "hWXvKYHV2Ijk"
      },
      "source": [
        "### Our first multiple condition expression\n",
        "\n",
        "Let's find all the rides longer than 1,000 seconds by males. This query has two conditions - trip durations greater than 1,000 and a gender of 'Male'. The way we approach the problem is to assign each condition to a separate variable. Since we desire both of the conditions to be true, we must use the and (`&`) operator.\n",
        "Each single condition is placed on its own line before using the `&` operator to create the final filter that completes the boolean selection."
      ]
    },
    {
      "cell_type": "code",
      "metadata": {
        "id": "5UCZz9KG2Ijl",
        "colab": {
          "base_uri": "https://localhost:8080/",
          "height": 267
        },
        "outputId": "ff411712-d207-4d40-a639-918464f4000f"
      },
      "source": [
        "filt1 = bikes['tripduration'] > 1000\n",
        "filt2 = bikes['gender'] == 'Male'\n",
        "filt = filt1 & filt2\n",
        "bikes[filt].head(3)"
      ],
      "execution_count": null,
      "outputs": [
        {
          "output_type": "execute_result",
          "data": {
            "text/html": [
              "<div>\n",
              "<style scoped>\n",
              "    .dataframe tbody tr th:only-of-type {\n",
              "        vertical-align: middle;\n",
              "    }\n",
              "\n",
              "    .dataframe tbody tr th {\n",
              "        vertical-align: top;\n",
              "    }\n",
              "\n",
              "    .dataframe thead th {\n",
              "        text-align: right;\n",
              "    }\n",
              "</style>\n",
              "<table border=\"1\" class=\"dataframe\">\n",
              "  <thead>\n",
              "    <tr style=\"text-align: right;\">\n",
              "      <th></th>\n",
              "      <th>trip_id</th>\n",
              "      <th>usertype</th>\n",
              "      <th>gender</th>\n",
              "      <th>starttime</th>\n",
              "      <th>stoptime</th>\n",
              "      <th>tripduration</th>\n",
              "      <th>from_station_name</th>\n",
              "      <th>latitude_start</th>\n",
              "      <th>longitude_start</th>\n",
              "      <th>dpcapacity_start</th>\n",
              "      <th>to_station_name</th>\n",
              "      <th>latitude_end</th>\n",
              "      <th>longitude_end</th>\n",
              "      <th>dpcapacity_end</th>\n",
              "      <th>temperature</th>\n",
              "      <th>visibility</th>\n",
              "      <th>wind_speed</th>\n",
              "      <th>precipitation</th>\n",
              "      <th>events</th>\n",
              "    </tr>\n",
              "  </thead>\n",
              "  <tbody>\n",
              "    <tr>\n",
              "      <th>2</th>\n",
              "      <td>10927</td>\n",
              "      <td>Subscriber</td>\n",
              "      <td>Male</td>\n",
              "      <td>2013-06-30 14:43:00</td>\n",
              "      <td>2013-06-30 15:01:00</td>\n",
              "      <td>1040</td>\n",
              "      <td>Sheffield Ave &amp; Kingsbury St</td>\n",
              "      <td>41.909592</td>\n",
              "      <td>-87.653497</td>\n",
              "      <td>15.0</td>\n",
              "      <td>Dearborn St &amp; Monroe St</td>\n",
              "      <td>41.881320</td>\n",
              "      <td>-87.629521</td>\n",
              "      <td>23.0</td>\n",
              "      <td>73.0</td>\n",
              "      <td>10.0</td>\n",
              "      <td>16.1</td>\n",
              "      <td>-9999.0</td>\n",
              "      <td>mostlycloudy</td>\n",
              "    </tr>\n",
              "    <tr>\n",
              "      <th>8</th>\n",
              "      <td>21028</td>\n",
              "      <td>Subscriber</td>\n",
              "      <td>Male</td>\n",
              "      <td>2013-07-03 15:21:00</td>\n",
              "      <td>2013-07-03 15:42:00</td>\n",
              "      <td>1300</td>\n",
              "      <td>Clinton St &amp; Washington Blvd</td>\n",
              "      <td>41.883380</td>\n",
              "      <td>-87.641170</td>\n",
              "      <td>31.0</td>\n",
              "      <td>Wood St &amp; Division St</td>\n",
              "      <td>41.903320</td>\n",
              "      <td>-87.672730</td>\n",
              "      <td>15.0</td>\n",
              "      <td>71.1</td>\n",
              "      <td>8.0</td>\n",
              "      <td>0.0</td>\n",
              "      <td>-9999.0</td>\n",
              "      <td>cloudy</td>\n",
              "    </tr>\n",
              "    <tr>\n",
              "      <th>10</th>\n",
              "      <td>24383</td>\n",
              "      <td>Subscriber</td>\n",
              "      <td>Male</td>\n",
              "      <td>2013-07-04 17:17:00</td>\n",
              "      <td>2013-07-04 17:42:00</td>\n",
              "      <td>1523</td>\n",
              "      <td>Morgan St &amp; 18th St</td>\n",
              "      <td>41.858086</td>\n",
              "      <td>-87.651073</td>\n",
              "      <td>15.0</td>\n",
              "      <td>Damen Ave &amp; Pierce Ave</td>\n",
              "      <td>41.909396</td>\n",
              "      <td>-87.677692</td>\n",
              "      <td>19.0</td>\n",
              "      <td>79.0</td>\n",
              "      <td>10.0</td>\n",
              "      <td>9.2</td>\n",
              "      <td>-9999.0</td>\n",
              "      <td>mostlycloudy</td>\n",
              "    </tr>\n",
              "  </tbody>\n",
              "</table>\n",
              "</div>"
            ],
            "text/plain": [
              "    trip_id    usertype gender  ... wind_speed precipitation        events\n",
              "2     10927  Subscriber   Male  ...       16.1       -9999.0  mostlycloudy\n",
              "8     21028  Subscriber   Male  ...        0.0       -9999.0        cloudy\n",
              "10    24383  Subscriber   Male  ...        9.2       -9999.0  mostlycloudy\n",
              "\n",
              "[3 rows x 19 columns]"
            ]
          },
          "metadata": {
            "tags": []
          },
          "execution_count": 22
        }
      ]
    },
    {
      "cell_type": "markdown",
      "metadata": {
        "id": "5-lA-BV72Ijo"
      },
      "source": [
        "## Multiple conditions in one line\n",
        "It is possible to combine the entire expression into a single line. Many pandas users like doing this so it is a good idea to know how it's done as you will definitely encounter it.\n",
        "\n",
        "### Use parentheses to separate conditions\n",
        "\n",
        "You must encapsulate each condition within a set of parentheses in order to make this work. Each condition is separated like this:\n",
        "\n",
        "```\n",
        "(bikes['tripduration'] > 1000) & (bikes['events'] == 'cloudy')\n",
        "```\n",
        "\n",
        "### Same results\n",
        "\n",
        "The above expression is placed inside of *just the brackets* to get the same results. Again, I prefer assigning each condition to its own variable name for better readability."
      ]
    },
    {
      "cell_type": "code",
      "metadata": {
        "id": "Elz5emKY2Ijp",
        "colab": {
          "base_uri": "https://localhost:8080/",
          "height": 267
        },
        "outputId": "b8a3a5db-14c0-45f1-ca04-50390c66656c"
      },
      "source": [
        "bikes[(bikes['tripduration'] > 1000) & (bikes['gender'] == 'Male')].head(3)"
      ],
      "execution_count": null,
      "outputs": [
        {
          "output_type": "execute_result",
          "data": {
            "text/html": [
              "<div>\n",
              "<style scoped>\n",
              "    .dataframe tbody tr th:only-of-type {\n",
              "        vertical-align: middle;\n",
              "    }\n",
              "\n",
              "    .dataframe tbody tr th {\n",
              "        vertical-align: top;\n",
              "    }\n",
              "\n",
              "    .dataframe thead th {\n",
              "        text-align: right;\n",
              "    }\n",
              "</style>\n",
              "<table border=\"1\" class=\"dataframe\">\n",
              "  <thead>\n",
              "    <tr style=\"text-align: right;\">\n",
              "      <th></th>\n",
              "      <th>trip_id</th>\n",
              "      <th>usertype</th>\n",
              "      <th>gender</th>\n",
              "      <th>starttime</th>\n",
              "      <th>stoptime</th>\n",
              "      <th>tripduration</th>\n",
              "      <th>from_station_name</th>\n",
              "      <th>latitude_start</th>\n",
              "      <th>longitude_start</th>\n",
              "      <th>dpcapacity_start</th>\n",
              "      <th>to_station_name</th>\n",
              "      <th>latitude_end</th>\n",
              "      <th>longitude_end</th>\n",
              "      <th>dpcapacity_end</th>\n",
              "      <th>temperature</th>\n",
              "      <th>visibility</th>\n",
              "      <th>wind_speed</th>\n",
              "      <th>precipitation</th>\n",
              "      <th>events</th>\n",
              "    </tr>\n",
              "  </thead>\n",
              "  <tbody>\n",
              "    <tr>\n",
              "      <th>2</th>\n",
              "      <td>10927</td>\n",
              "      <td>Subscriber</td>\n",
              "      <td>Male</td>\n",
              "      <td>2013-06-30 14:43:00</td>\n",
              "      <td>2013-06-30 15:01:00</td>\n",
              "      <td>1040</td>\n",
              "      <td>Sheffield Ave &amp; Kingsbury St</td>\n",
              "      <td>41.909592</td>\n",
              "      <td>-87.653497</td>\n",
              "      <td>15.0</td>\n",
              "      <td>Dearborn St &amp; Monroe St</td>\n",
              "      <td>41.881320</td>\n",
              "      <td>-87.629521</td>\n",
              "      <td>23.0</td>\n",
              "      <td>73.0</td>\n",
              "      <td>10.0</td>\n",
              "      <td>16.1</td>\n",
              "      <td>-9999.0</td>\n",
              "      <td>mostlycloudy</td>\n",
              "    </tr>\n",
              "    <tr>\n",
              "      <th>8</th>\n",
              "      <td>21028</td>\n",
              "      <td>Subscriber</td>\n",
              "      <td>Male</td>\n",
              "      <td>2013-07-03 15:21:00</td>\n",
              "      <td>2013-07-03 15:42:00</td>\n",
              "      <td>1300</td>\n",
              "      <td>Clinton St &amp; Washington Blvd</td>\n",
              "      <td>41.883380</td>\n",
              "      <td>-87.641170</td>\n",
              "      <td>31.0</td>\n",
              "      <td>Wood St &amp; Division St</td>\n",
              "      <td>41.903320</td>\n",
              "      <td>-87.672730</td>\n",
              "      <td>15.0</td>\n",
              "      <td>71.1</td>\n",
              "      <td>8.0</td>\n",
              "      <td>0.0</td>\n",
              "      <td>-9999.0</td>\n",
              "      <td>cloudy</td>\n",
              "    </tr>\n",
              "    <tr>\n",
              "      <th>10</th>\n",
              "      <td>24383</td>\n",
              "      <td>Subscriber</td>\n",
              "      <td>Male</td>\n",
              "      <td>2013-07-04 17:17:00</td>\n",
              "      <td>2013-07-04 17:42:00</td>\n",
              "      <td>1523</td>\n",
              "      <td>Morgan St &amp; 18th St</td>\n",
              "      <td>41.858086</td>\n",
              "      <td>-87.651073</td>\n",
              "      <td>15.0</td>\n",
              "      <td>Damen Ave &amp; Pierce Ave</td>\n",
              "      <td>41.909396</td>\n",
              "      <td>-87.677692</td>\n",
              "      <td>19.0</td>\n",
              "      <td>79.0</td>\n",
              "      <td>10.0</td>\n",
              "      <td>9.2</td>\n",
              "      <td>-9999.0</td>\n",
              "      <td>mostlycloudy</td>\n",
              "    </tr>\n",
              "  </tbody>\n",
              "</table>\n",
              "</div>"
            ],
            "text/plain": [
              "    trip_id    usertype gender  ... wind_speed precipitation        events\n",
              "2     10927  Subscriber   Male  ...       16.1       -9999.0  mostlycloudy\n",
              "8     21028  Subscriber   Male  ...        0.0       -9999.0        cloudy\n",
              "10    24383  Subscriber   Male  ...        9.2       -9999.0  mostlycloudy\n",
              "\n",
              "[3 rows x 19 columns]"
            ]
          },
          "metadata": {
            "tags": []
          },
          "execution_count": 23
        }
      ]
    },
    {
      "cell_type": "markdown",
      "metadata": {
        "id": "tcixpOm_2Ijs"
      },
      "source": [
        "## Using an `or` condition\n",
        "\n",
        "Let's find all the rides that were done by females **or** had trip durations longer than 1,000 seconds. In this example, we need at least one of the conditions to be true, which necessitates the use of the or (`|`) operator."
      ]
    },
    {
      "cell_type": "code",
      "metadata": {
        "id": "XqKzmES32Ijs",
        "colab": {
          "base_uri": "https://localhost:8080/",
          "height": 267
        },
        "outputId": "5f925c45-0810-4f0f-b2e9-4f9872f1419e"
      },
      "source": [
        "filt1 = bikes['tripduration'] > 1000\n",
        "filt2 = bikes['gender'] == 'Female'\n",
        "filt = filt1 | filt2\n",
        "bikes[filt].head(3)"
      ],
      "execution_count": null,
      "outputs": [
        {
          "output_type": "execute_result",
          "data": {
            "text/html": [
              "<div>\n",
              "<style scoped>\n",
              "    .dataframe tbody tr th:only-of-type {\n",
              "        vertical-align: middle;\n",
              "    }\n",
              "\n",
              "    .dataframe tbody tr th {\n",
              "        vertical-align: top;\n",
              "    }\n",
              "\n",
              "    .dataframe thead th {\n",
              "        text-align: right;\n",
              "    }\n",
              "</style>\n",
              "<table border=\"1\" class=\"dataframe\">\n",
              "  <thead>\n",
              "    <tr style=\"text-align: right;\">\n",
              "      <th></th>\n",
              "      <th>trip_id</th>\n",
              "      <th>usertype</th>\n",
              "      <th>gender</th>\n",
              "      <th>starttime</th>\n",
              "      <th>stoptime</th>\n",
              "      <th>tripduration</th>\n",
              "      <th>from_station_name</th>\n",
              "      <th>latitude_start</th>\n",
              "      <th>longitude_start</th>\n",
              "      <th>dpcapacity_start</th>\n",
              "      <th>to_station_name</th>\n",
              "      <th>latitude_end</th>\n",
              "      <th>longitude_end</th>\n",
              "      <th>dpcapacity_end</th>\n",
              "      <th>temperature</th>\n",
              "      <th>visibility</th>\n",
              "      <th>wind_speed</th>\n",
              "      <th>precipitation</th>\n",
              "      <th>events</th>\n",
              "    </tr>\n",
              "  </thead>\n",
              "  <tbody>\n",
              "    <tr>\n",
              "      <th>2</th>\n",
              "      <td>10927</td>\n",
              "      <td>Subscriber</td>\n",
              "      <td>Male</td>\n",
              "      <td>2013-06-30 14:43:00</td>\n",
              "      <td>2013-06-30 15:01:00</td>\n",
              "      <td>1040</td>\n",
              "      <td>Sheffield Ave &amp; Kingsbury St</td>\n",
              "      <td>41.909592</td>\n",
              "      <td>-87.653497</td>\n",
              "      <td>15.0</td>\n",
              "      <td>Dearborn St &amp; Monroe St</td>\n",
              "      <td>41.88132</td>\n",
              "      <td>-87.629521</td>\n",
              "      <td>23.0</td>\n",
              "      <td>73.0</td>\n",
              "      <td>10.0</td>\n",
              "      <td>16.1</td>\n",
              "      <td>-9999.0</td>\n",
              "      <td>mostlycloudy</td>\n",
              "    </tr>\n",
              "    <tr>\n",
              "      <th>8</th>\n",
              "      <td>21028</td>\n",
              "      <td>Subscriber</td>\n",
              "      <td>Male</td>\n",
              "      <td>2013-07-03 15:21:00</td>\n",
              "      <td>2013-07-03 15:42:00</td>\n",
              "      <td>1300</td>\n",
              "      <td>Clinton St &amp; Washington Blvd</td>\n",
              "      <td>41.883380</td>\n",
              "      <td>-87.641170</td>\n",
              "      <td>31.0</td>\n",
              "      <td>Wood St &amp; Division St</td>\n",
              "      <td>41.90332</td>\n",
              "      <td>-87.672730</td>\n",
              "      <td>15.0</td>\n",
              "      <td>71.1</td>\n",
              "      <td>8.0</td>\n",
              "      <td>0.0</td>\n",
              "      <td>-9999.0</td>\n",
              "      <td>cloudy</td>\n",
              "    </tr>\n",
              "    <tr>\n",
              "      <th>9</th>\n",
              "      <td>23558</td>\n",
              "      <td>Subscriber</td>\n",
              "      <td>Female</td>\n",
              "      <td>2013-07-04 15:00:00</td>\n",
              "      <td>2013-07-04 15:16:00</td>\n",
              "      <td>922</td>\n",
              "      <td>Lakeview Ave &amp; Fullerton Pkwy</td>\n",
              "      <td>41.925858</td>\n",
              "      <td>-87.638973</td>\n",
              "      <td>19.0</td>\n",
              "      <td>Racine Ave &amp; Congress Pkwy</td>\n",
              "      <td>41.87464</td>\n",
              "      <td>-87.657030</td>\n",
              "      <td>19.0</td>\n",
              "      <td>81.0</td>\n",
              "      <td>10.0</td>\n",
              "      <td>12.7</td>\n",
              "      <td>-9999.0</td>\n",
              "      <td>mostlycloudy</td>\n",
              "    </tr>\n",
              "  </tbody>\n",
              "</table>\n",
              "</div>"
            ],
            "text/plain": [
              "   trip_id    usertype  gender  ... wind_speed precipitation        events\n",
              "2    10927  Subscriber    Male  ...       16.1       -9999.0  mostlycloudy\n",
              "8    21028  Subscriber    Male  ...        0.0       -9999.0        cloudy\n",
              "9    23558  Subscriber  Female  ...       12.7       -9999.0  mostlycloudy\n",
              "\n",
              "[3 rows x 19 columns]"
            ]
          },
          "metadata": {
            "tags": []
          },
          "execution_count": 24
        }
      ]
    },
    {
      "cell_type": "markdown",
      "metadata": {
        "id": "gdVQdvTG2Iju"
      },
      "source": [
        "## Inverting a condition with the not operator\n",
        "The tilde character, `~`, represents the not operator and inverts a condition. For instance, if we wanted all the rides with trip duration less than or equal to 1000, we could do it like this:"
      ]
    },
    {
      "cell_type": "code",
      "metadata": {
        "id": "HWDAVbmL2Ijv",
        "colab": {
          "base_uri": "https://localhost:8080/",
          "height": 267
        },
        "outputId": "64cb0773-c29d-4b3a-a532-9a2e4df96b0a"
      },
      "source": [
        "filt = bikes['tripduration'] > 1000\n",
        "bikes[~filt].head(3)"
      ],
      "execution_count": null,
      "outputs": [
        {
          "output_type": "execute_result",
          "data": {
            "text/html": [
              "<div>\n",
              "<style scoped>\n",
              "    .dataframe tbody tr th:only-of-type {\n",
              "        vertical-align: middle;\n",
              "    }\n",
              "\n",
              "    .dataframe tbody tr th {\n",
              "        vertical-align: top;\n",
              "    }\n",
              "\n",
              "    .dataframe thead th {\n",
              "        text-align: right;\n",
              "    }\n",
              "</style>\n",
              "<table border=\"1\" class=\"dataframe\">\n",
              "  <thead>\n",
              "    <tr style=\"text-align: right;\">\n",
              "      <th></th>\n",
              "      <th>trip_id</th>\n",
              "      <th>usertype</th>\n",
              "      <th>gender</th>\n",
              "      <th>starttime</th>\n",
              "      <th>stoptime</th>\n",
              "      <th>tripduration</th>\n",
              "      <th>from_station_name</th>\n",
              "      <th>latitude_start</th>\n",
              "      <th>longitude_start</th>\n",
              "      <th>dpcapacity_start</th>\n",
              "      <th>to_station_name</th>\n",
              "      <th>latitude_end</th>\n",
              "      <th>longitude_end</th>\n",
              "      <th>dpcapacity_end</th>\n",
              "      <th>temperature</th>\n",
              "      <th>visibility</th>\n",
              "      <th>wind_speed</th>\n",
              "      <th>precipitation</th>\n",
              "      <th>events</th>\n",
              "    </tr>\n",
              "  </thead>\n",
              "  <tbody>\n",
              "    <tr>\n",
              "      <th>0</th>\n",
              "      <td>7147</td>\n",
              "      <td>Subscriber</td>\n",
              "      <td>Male</td>\n",
              "      <td>2013-06-28 19:01:00</td>\n",
              "      <td>2013-06-28 19:17:00</td>\n",
              "      <td>993</td>\n",
              "      <td>Lake Shore Dr &amp; Monroe St</td>\n",
              "      <td>41.881050</td>\n",
              "      <td>-87.616970</td>\n",
              "      <td>11.0</td>\n",
              "      <td>Michigan Ave &amp; Oak St</td>\n",
              "      <td>41.900960</td>\n",
              "      <td>-87.623777</td>\n",
              "      <td>15.0</td>\n",
              "      <td>73.9</td>\n",
              "      <td>10.0</td>\n",
              "      <td>12.7</td>\n",
              "      <td>-9999.0</td>\n",
              "      <td>mostlycloudy</td>\n",
              "    </tr>\n",
              "    <tr>\n",
              "      <th>1</th>\n",
              "      <td>7524</td>\n",
              "      <td>Subscriber</td>\n",
              "      <td>Male</td>\n",
              "      <td>2013-06-28 22:53:00</td>\n",
              "      <td>2013-06-28 23:03:00</td>\n",
              "      <td>623</td>\n",
              "      <td>Clinton St &amp; Washington Blvd</td>\n",
              "      <td>41.883380</td>\n",
              "      <td>-87.641170</td>\n",
              "      <td>31.0</td>\n",
              "      <td>Wells St &amp; Walton St</td>\n",
              "      <td>41.899930</td>\n",
              "      <td>-87.634430</td>\n",
              "      <td>19.0</td>\n",
              "      <td>69.1</td>\n",
              "      <td>10.0</td>\n",
              "      <td>6.9</td>\n",
              "      <td>-9999.0</td>\n",
              "      <td>partlycloudy</td>\n",
              "    </tr>\n",
              "    <tr>\n",
              "      <th>3</th>\n",
              "      <td>12907</td>\n",
              "      <td>Subscriber</td>\n",
              "      <td>Male</td>\n",
              "      <td>2013-07-01 10:05:00</td>\n",
              "      <td>2013-07-01 10:16:00</td>\n",
              "      <td>667</td>\n",
              "      <td>Carpenter St &amp; Huron St</td>\n",
              "      <td>41.894556</td>\n",
              "      <td>-87.653449</td>\n",
              "      <td>19.0</td>\n",
              "      <td>Clark St &amp; Randolph St</td>\n",
              "      <td>41.884576</td>\n",
              "      <td>-87.631890</td>\n",
              "      <td>31.0</td>\n",
              "      <td>72.0</td>\n",
              "      <td>10.0</td>\n",
              "      <td>16.1</td>\n",
              "      <td>-9999.0</td>\n",
              "      <td>mostlycloudy</td>\n",
              "    </tr>\n",
              "  </tbody>\n",
              "</table>\n",
              "</div>"
            ],
            "text/plain": [
              "   trip_id    usertype gender  ... wind_speed precipitation        events\n",
              "0     7147  Subscriber   Male  ...       12.7       -9999.0  mostlycloudy\n",
              "1     7524  Subscriber   Male  ...        6.9       -9999.0  partlycloudy\n",
              "3    12907  Subscriber   Male  ...       16.1       -9999.0  mostlycloudy\n",
              "\n",
              "[3 rows x 19 columns]"
            ]
          },
          "metadata": {
            "tags": []
          },
          "execution_count": 25
        }
      ]
    },
    {
      "cell_type": "markdown",
      "metadata": {
        "id": "MDKfAiZH2Ijx"
      },
      "source": [
        "Of course, inverting a single conditions like this isn't too useful as we can use the less than or equal to operator instead."
      ]
    },
    {
      "cell_type": "code",
      "metadata": {
        "id": "q6kZziCo2Ijx",
        "colab": {
          "base_uri": "https://localhost:8080/",
          "height": 267
        },
        "outputId": "c3bdc5a3-3298-454b-b263-a2ebd18b547c"
      },
      "source": [
        "filt = bikes['tripduration'] <= 1000\n",
        "bikes[filt].head(3)"
      ],
      "execution_count": null,
      "outputs": [
        {
          "output_type": "execute_result",
          "data": {
            "text/html": [
              "<div>\n",
              "<style scoped>\n",
              "    .dataframe tbody tr th:only-of-type {\n",
              "        vertical-align: middle;\n",
              "    }\n",
              "\n",
              "    .dataframe tbody tr th {\n",
              "        vertical-align: top;\n",
              "    }\n",
              "\n",
              "    .dataframe thead th {\n",
              "        text-align: right;\n",
              "    }\n",
              "</style>\n",
              "<table border=\"1\" class=\"dataframe\">\n",
              "  <thead>\n",
              "    <tr style=\"text-align: right;\">\n",
              "      <th></th>\n",
              "      <th>trip_id</th>\n",
              "      <th>usertype</th>\n",
              "      <th>gender</th>\n",
              "      <th>starttime</th>\n",
              "      <th>stoptime</th>\n",
              "      <th>tripduration</th>\n",
              "      <th>from_station_name</th>\n",
              "      <th>latitude_start</th>\n",
              "      <th>longitude_start</th>\n",
              "      <th>dpcapacity_start</th>\n",
              "      <th>to_station_name</th>\n",
              "      <th>latitude_end</th>\n",
              "      <th>longitude_end</th>\n",
              "      <th>dpcapacity_end</th>\n",
              "      <th>temperature</th>\n",
              "      <th>visibility</th>\n",
              "      <th>wind_speed</th>\n",
              "      <th>precipitation</th>\n",
              "      <th>events</th>\n",
              "    </tr>\n",
              "  </thead>\n",
              "  <tbody>\n",
              "    <tr>\n",
              "      <th>0</th>\n",
              "      <td>7147</td>\n",
              "      <td>Subscriber</td>\n",
              "      <td>Male</td>\n",
              "      <td>2013-06-28 19:01:00</td>\n",
              "      <td>2013-06-28 19:17:00</td>\n",
              "      <td>993</td>\n",
              "      <td>Lake Shore Dr &amp; Monroe St</td>\n",
              "      <td>41.881050</td>\n",
              "      <td>-87.616970</td>\n",
              "      <td>11.0</td>\n",
              "      <td>Michigan Ave &amp; Oak St</td>\n",
              "      <td>41.900960</td>\n",
              "      <td>-87.623777</td>\n",
              "      <td>15.0</td>\n",
              "      <td>73.9</td>\n",
              "      <td>10.0</td>\n",
              "      <td>12.7</td>\n",
              "      <td>-9999.0</td>\n",
              "      <td>mostlycloudy</td>\n",
              "    </tr>\n",
              "    <tr>\n",
              "      <th>1</th>\n",
              "      <td>7524</td>\n",
              "      <td>Subscriber</td>\n",
              "      <td>Male</td>\n",
              "      <td>2013-06-28 22:53:00</td>\n",
              "      <td>2013-06-28 23:03:00</td>\n",
              "      <td>623</td>\n",
              "      <td>Clinton St &amp; Washington Blvd</td>\n",
              "      <td>41.883380</td>\n",
              "      <td>-87.641170</td>\n",
              "      <td>31.0</td>\n",
              "      <td>Wells St &amp; Walton St</td>\n",
              "      <td>41.899930</td>\n",
              "      <td>-87.634430</td>\n",
              "      <td>19.0</td>\n",
              "      <td>69.1</td>\n",
              "      <td>10.0</td>\n",
              "      <td>6.9</td>\n",
              "      <td>-9999.0</td>\n",
              "      <td>partlycloudy</td>\n",
              "    </tr>\n",
              "    <tr>\n",
              "      <th>3</th>\n",
              "      <td>12907</td>\n",
              "      <td>Subscriber</td>\n",
              "      <td>Male</td>\n",
              "      <td>2013-07-01 10:05:00</td>\n",
              "      <td>2013-07-01 10:16:00</td>\n",
              "      <td>667</td>\n",
              "      <td>Carpenter St &amp; Huron St</td>\n",
              "      <td>41.894556</td>\n",
              "      <td>-87.653449</td>\n",
              "      <td>19.0</td>\n",
              "      <td>Clark St &amp; Randolph St</td>\n",
              "      <td>41.884576</td>\n",
              "      <td>-87.631890</td>\n",
              "      <td>31.0</td>\n",
              "      <td>72.0</td>\n",
              "      <td>10.0</td>\n",
              "      <td>16.1</td>\n",
              "      <td>-9999.0</td>\n",
              "      <td>mostlycloudy</td>\n",
              "    </tr>\n",
              "  </tbody>\n",
              "</table>\n",
              "</div>"
            ],
            "text/plain": [
              "   trip_id    usertype gender  ... wind_speed precipitation        events\n",
              "0     7147  Subscriber   Male  ...       12.7       -9999.0  mostlycloudy\n",
              "1     7524  Subscriber   Male  ...        6.9       -9999.0  partlycloudy\n",
              "3    12907  Subscriber   Male  ...       16.1       -9999.0  mostlycloudy\n",
              "\n",
              "[3 rows x 19 columns]"
            ]
          },
          "metadata": {
            "tags": []
          },
          "execution_count": 26
        }
      ]
    },
    {
      "cell_type": "markdown",
      "metadata": {
        "id": "zl9uBDdp2Ijz"
      },
      "source": [
        "### Invert a more complex condition\n",
        "Typically, we save the not operator for reversing more complex conditions. Let's reverse the condition for selecting rides by females or those with duration over 1,000 seconds. Logically, this should return only male riders with duration 1,000 or less."
      ]
    },
    {
      "cell_type": "code",
      "metadata": {
        "id": "UU39sOYc2Ij0",
        "colab": {
          "base_uri": "https://localhost:8080/",
          "height": 267
        },
        "outputId": "0450ab2f-f33c-4997-8fb8-609cb5a56198"
      },
      "source": [
        "filt1 = bikes['tripduration'] > 1000\n",
        "filt2 = bikes['gender'] == 'Female'\n",
        "filt = ~(filt1 | filt2)\n",
        "bikes[filt].head(3)"
      ],
      "execution_count": null,
      "outputs": [
        {
          "output_type": "execute_result",
          "data": {
            "text/html": [
              "<div>\n",
              "<style scoped>\n",
              "    .dataframe tbody tr th:only-of-type {\n",
              "        vertical-align: middle;\n",
              "    }\n",
              "\n",
              "    .dataframe tbody tr th {\n",
              "        vertical-align: top;\n",
              "    }\n",
              "\n",
              "    .dataframe thead th {\n",
              "        text-align: right;\n",
              "    }\n",
              "</style>\n",
              "<table border=\"1\" class=\"dataframe\">\n",
              "  <thead>\n",
              "    <tr style=\"text-align: right;\">\n",
              "      <th></th>\n",
              "      <th>trip_id</th>\n",
              "      <th>usertype</th>\n",
              "      <th>gender</th>\n",
              "      <th>starttime</th>\n",
              "      <th>stoptime</th>\n",
              "      <th>tripduration</th>\n",
              "      <th>from_station_name</th>\n",
              "      <th>latitude_start</th>\n",
              "      <th>longitude_start</th>\n",
              "      <th>dpcapacity_start</th>\n",
              "      <th>to_station_name</th>\n",
              "      <th>latitude_end</th>\n",
              "      <th>longitude_end</th>\n",
              "      <th>dpcapacity_end</th>\n",
              "      <th>temperature</th>\n",
              "      <th>visibility</th>\n",
              "      <th>wind_speed</th>\n",
              "      <th>precipitation</th>\n",
              "      <th>events</th>\n",
              "    </tr>\n",
              "  </thead>\n",
              "  <tbody>\n",
              "    <tr>\n",
              "      <th>0</th>\n",
              "      <td>7147</td>\n",
              "      <td>Subscriber</td>\n",
              "      <td>Male</td>\n",
              "      <td>2013-06-28 19:01:00</td>\n",
              "      <td>2013-06-28 19:17:00</td>\n",
              "      <td>993</td>\n",
              "      <td>Lake Shore Dr &amp; Monroe St</td>\n",
              "      <td>41.881050</td>\n",
              "      <td>-87.616970</td>\n",
              "      <td>11.0</td>\n",
              "      <td>Michigan Ave &amp; Oak St</td>\n",
              "      <td>41.900960</td>\n",
              "      <td>-87.623777</td>\n",
              "      <td>15.0</td>\n",
              "      <td>73.9</td>\n",
              "      <td>10.0</td>\n",
              "      <td>12.7</td>\n",
              "      <td>-9999.0</td>\n",
              "      <td>mostlycloudy</td>\n",
              "    </tr>\n",
              "    <tr>\n",
              "      <th>1</th>\n",
              "      <td>7524</td>\n",
              "      <td>Subscriber</td>\n",
              "      <td>Male</td>\n",
              "      <td>2013-06-28 22:53:00</td>\n",
              "      <td>2013-06-28 23:03:00</td>\n",
              "      <td>623</td>\n",
              "      <td>Clinton St &amp; Washington Blvd</td>\n",
              "      <td>41.883380</td>\n",
              "      <td>-87.641170</td>\n",
              "      <td>31.0</td>\n",
              "      <td>Wells St &amp; Walton St</td>\n",
              "      <td>41.899930</td>\n",
              "      <td>-87.634430</td>\n",
              "      <td>19.0</td>\n",
              "      <td>69.1</td>\n",
              "      <td>10.0</td>\n",
              "      <td>6.9</td>\n",
              "      <td>-9999.0</td>\n",
              "      <td>partlycloudy</td>\n",
              "    </tr>\n",
              "    <tr>\n",
              "      <th>3</th>\n",
              "      <td>12907</td>\n",
              "      <td>Subscriber</td>\n",
              "      <td>Male</td>\n",
              "      <td>2013-07-01 10:05:00</td>\n",
              "      <td>2013-07-01 10:16:00</td>\n",
              "      <td>667</td>\n",
              "      <td>Carpenter St &amp; Huron St</td>\n",
              "      <td>41.894556</td>\n",
              "      <td>-87.653449</td>\n",
              "      <td>19.0</td>\n",
              "      <td>Clark St &amp; Randolph St</td>\n",
              "      <td>41.884576</td>\n",
              "      <td>-87.631890</td>\n",
              "      <td>31.0</td>\n",
              "      <td>72.0</td>\n",
              "      <td>10.0</td>\n",
              "      <td>16.1</td>\n",
              "      <td>-9999.0</td>\n",
              "      <td>mostlycloudy</td>\n",
              "    </tr>\n",
              "  </tbody>\n",
              "</table>\n",
              "</div>"
            ],
            "text/plain": [
              "   trip_id    usertype gender  ... wind_speed precipitation        events\n",
              "0     7147  Subscriber   Male  ...       12.7       -9999.0  mostlycloudy\n",
              "1     7524  Subscriber   Male  ...        6.9       -9999.0  partlycloudy\n",
              "3    12907  Subscriber   Male  ...       16.1       -9999.0  mostlycloudy\n",
              "\n",
              "[3 rows x 19 columns]"
            ]
          },
          "metadata": {
            "tags": []
          },
          "execution_count": 27
        }
      ]
    },
    {
      "cell_type": "markdown",
      "metadata": {
        "id": "kNF_8rhw2Ij2"
      },
      "source": [
        "### Even more complex conditions\n",
        "\n",
        "It is possible to build extremely complex conditions to select rows of your DataFrame that meet a very specific query. For instance, we can select males riders with trip duration between 5,000 and 10,000 seconds along with female riders with trip duration between 2,000 and 3,000 seconds. With multiple conditions, it's probably best to break out the logic into multiple steps:"
      ]
    },
    {
      "cell_type": "code",
      "metadata": {
        "id": "TeKs2d0D2Ij3",
        "colab": {
          "base_uri": "https://localhost:8080/",
          "height": 267
        },
        "outputId": "df127144-d9b7-4a84-ee2e-942dbe79362b"
      },
      "source": [
        "filt1 = ((bikes['gender'] == 'Male') &\n",
        "         (bikes['tripduration'] >= 5000) &\n",
        "         (bikes['tripduration'] <= 10000))\n",
        "\n",
        "filt2 = ((bikes['gender'] == 'Female') &\n",
        "         (bikes['tripduration'] >= 2000) &\n",
        "         (bikes['tripduration'] <= 3000))\n",
        "filt = filt1 | filt2\n",
        "bikes[filt].head(3)"
      ],
      "execution_count": null,
      "outputs": [
        {
          "output_type": "execute_result",
          "data": {
            "text/html": [
              "<div>\n",
              "<style scoped>\n",
              "    .dataframe tbody tr th:only-of-type {\n",
              "        vertical-align: middle;\n",
              "    }\n",
              "\n",
              "    .dataframe tbody tr th {\n",
              "        vertical-align: top;\n",
              "    }\n",
              "\n",
              "    .dataframe thead th {\n",
              "        text-align: right;\n",
              "    }\n",
              "</style>\n",
              "<table border=\"1\" class=\"dataframe\">\n",
              "  <thead>\n",
              "    <tr style=\"text-align: right;\">\n",
              "      <th></th>\n",
              "      <th>trip_id</th>\n",
              "      <th>usertype</th>\n",
              "      <th>gender</th>\n",
              "      <th>starttime</th>\n",
              "      <th>stoptime</th>\n",
              "      <th>tripduration</th>\n",
              "      <th>from_station_name</th>\n",
              "      <th>latitude_start</th>\n",
              "      <th>longitude_start</th>\n",
              "      <th>dpcapacity_start</th>\n",
              "      <th>to_station_name</th>\n",
              "      <th>latitude_end</th>\n",
              "      <th>longitude_end</th>\n",
              "      <th>dpcapacity_end</th>\n",
              "      <th>temperature</th>\n",
              "      <th>visibility</th>\n",
              "      <th>wind_speed</th>\n",
              "      <th>precipitation</th>\n",
              "      <th>events</th>\n",
              "    </tr>\n",
              "  </thead>\n",
              "  <tbody>\n",
              "    <tr>\n",
              "      <th>18</th>\n",
              "      <td>40924</td>\n",
              "      <td>Subscriber</td>\n",
              "      <td>Male</td>\n",
              "      <td>2013-07-09 13:12:00</td>\n",
              "      <td>2013-07-09 14:42:00</td>\n",
              "      <td>5396</td>\n",
              "      <td>Canal St &amp; Jackson Blvd</td>\n",
              "      <td>41.878114</td>\n",
              "      <td>-87.639971</td>\n",
              "      <td>35.0</td>\n",
              "      <td>Millennium Park</td>\n",
              "      <td>41.881032</td>\n",
              "      <td>-87.624084</td>\n",
              "      <td>35.0</td>\n",
              "      <td>79.0</td>\n",
              "      <td>10.0</td>\n",
              "      <td>13.8</td>\n",
              "      <td>0.0</td>\n",
              "      <td>cloudy</td>\n",
              "    </tr>\n",
              "    <tr>\n",
              "      <th>173</th>\n",
              "      <td>178550</td>\n",
              "      <td>Subscriber</td>\n",
              "      <td>Female</td>\n",
              "      <td>2013-08-08 08:49:00</td>\n",
              "      <td>2013-08-08 09:31:00</td>\n",
              "      <td>2502</td>\n",
              "      <td>Sheffield Ave &amp; Addison St</td>\n",
              "      <td>41.946880</td>\n",
              "      <td>-87.654450</td>\n",
              "      <td>27.0</td>\n",
              "      <td>Dearborn St &amp; Adams St</td>\n",
              "      <td>41.879356</td>\n",
              "      <td>-87.629791</td>\n",
              "      <td>19.0</td>\n",
              "      <td>71.1</td>\n",
              "      <td>10.0</td>\n",
              "      <td>10.4</td>\n",
              "      <td>-9999.0</td>\n",
              "      <td>mostlycloudy</td>\n",
              "    </tr>\n",
              "    <tr>\n",
              "      <th>258</th>\n",
              "      <td>253476</td>\n",
              "      <td>Subscriber</td>\n",
              "      <td>Female</td>\n",
              "      <td>2013-08-17 22:10:00</td>\n",
              "      <td>2013-08-17 22:53:00</td>\n",
              "      <td>2566</td>\n",
              "      <td>Millennium Park</td>\n",
              "      <td>41.881032</td>\n",
              "      <td>-87.624084</td>\n",
              "      <td>35.0</td>\n",
              "      <td>Theater on the Lake</td>\n",
              "      <td>41.926277</td>\n",
              "      <td>-87.630834</td>\n",
              "      <td>15.0</td>\n",
              "      <td>69.1</td>\n",
              "      <td>10.0</td>\n",
              "      <td>5.8</td>\n",
              "      <td>-9999.0</td>\n",
              "      <td>clear</td>\n",
              "    </tr>\n",
              "  </tbody>\n",
              "</table>\n",
              "</div>"
            ],
            "text/plain": [
              "     trip_id    usertype  gender  ... wind_speed precipitation        events\n",
              "18     40924  Subscriber    Male  ...       13.8           0.0        cloudy\n",
              "173   178550  Subscriber  Female  ...       10.4       -9999.0  mostlycloudy\n",
              "258   253476  Subscriber  Female  ...        5.8       -9999.0         clear\n",
              "\n",
              "[3 rows x 19 columns]"
            ]
          },
          "metadata": {
            "tags": []
          },
          "execution_count": 28
        }
      ]
    },
    {
      "cell_type": "markdown",
      "metadata": {
        "id": "nIMXQI8k2Ij6"
      },
      "source": [
        "## Many equality conditions in a single column\n",
        "\n",
        "Occasionally, we want to test equality in a single column with multiple values. This is most common in string columns. For instance, let's say we wanted to find all the rides where the events were either rain, snow, tstorms or sleet. One way to do this would be with four or conditions."
      ]
    },
    {
      "cell_type": "code",
      "metadata": {
        "id": "jt9NTBsh2Ij7",
        "colab": {
          "base_uri": "https://localhost:8080/",
          "height": 267
        },
        "outputId": "009febb6-81d8-4946-b4ea-7051ccf0ae2d"
      },
      "source": [
        "filt = ((bikes['events'] == 'rain') | \n",
        "        (bikes['events'] == 'snow') | \n",
        "        (bikes['events'] == 'tstorms') | \n",
        "        (bikes['events'] == 'sleet'))\n",
        "bikes[filt].head(3)"
      ],
      "execution_count": null,
      "outputs": [
        {
          "output_type": "execute_result",
          "data": {
            "text/html": [
              "<div>\n",
              "<style scoped>\n",
              "    .dataframe tbody tr th:only-of-type {\n",
              "        vertical-align: middle;\n",
              "    }\n",
              "\n",
              "    .dataframe tbody tr th {\n",
              "        vertical-align: top;\n",
              "    }\n",
              "\n",
              "    .dataframe thead th {\n",
              "        text-align: right;\n",
              "    }\n",
              "</style>\n",
              "<table border=\"1\" class=\"dataframe\">\n",
              "  <thead>\n",
              "    <tr style=\"text-align: right;\">\n",
              "      <th></th>\n",
              "      <th>trip_id</th>\n",
              "      <th>usertype</th>\n",
              "      <th>gender</th>\n",
              "      <th>starttime</th>\n",
              "      <th>stoptime</th>\n",
              "      <th>tripduration</th>\n",
              "      <th>from_station_name</th>\n",
              "      <th>latitude_start</th>\n",
              "      <th>longitude_start</th>\n",
              "      <th>dpcapacity_start</th>\n",
              "      <th>to_station_name</th>\n",
              "      <th>latitude_end</th>\n",
              "      <th>longitude_end</th>\n",
              "      <th>dpcapacity_end</th>\n",
              "      <th>temperature</th>\n",
              "      <th>visibility</th>\n",
              "      <th>wind_speed</th>\n",
              "      <th>precipitation</th>\n",
              "      <th>events</th>\n",
              "    </tr>\n",
              "  </thead>\n",
              "  <tbody>\n",
              "    <tr>\n",
              "      <th>45</th>\n",
              "      <td>66336</td>\n",
              "      <td>Subscriber</td>\n",
              "      <td>Male</td>\n",
              "      <td>2013-07-15 16:43:00</td>\n",
              "      <td>2013-07-15 16:55:00</td>\n",
              "      <td>727</td>\n",
              "      <td>Greenwood Ave &amp; 47th St</td>\n",
              "      <td>41.809835</td>\n",
              "      <td>-87.599383</td>\n",
              "      <td>15.0</td>\n",
              "      <td>State St &amp; Harrison St</td>\n",
              "      <td>41.873958</td>\n",
              "      <td>-87.627739</td>\n",
              "      <td>19.0</td>\n",
              "      <td>82.9</td>\n",
              "      <td>10.0</td>\n",
              "      <td>5.8</td>\n",
              "      <td>0.0</td>\n",
              "      <td>rain</td>\n",
              "    </tr>\n",
              "    <tr>\n",
              "      <th>78</th>\n",
              "      <td>89180</td>\n",
              "      <td>Subscriber</td>\n",
              "      <td>Male</td>\n",
              "      <td>2013-07-21 16:35:00</td>\n",
              "      <td>2013-07-21 17:06:00</td>\n",
              "      <td>1809</td>\n",
              "      <td>Michigan Ave &amp; Pearson St</td>\n",
              "      <td>41.897660</td>\n",
              "      <td>-87.623510</td>\n",
              "      <td>23.0</td>\n",
              "      <td>Millennium Park</td>\n",
              "      <td>41.881032</td>\n",
              "      <td>-87.624084</td>\n",
              "      <td>35.0</td>\n",
              "      <td>82.4</td>\n",
              "      <td>10.0</td>\n",
              "      <td>11.5</td>\n",
              "      <td>0.0</td>\n",
              "      <td>tstorms</td>\n",
              "    </tr>\n",
              "    <tr>\n",
              "      <th>79</th>\n",
              "      <td>89228</td>\n",
              "      <td>Subscriber</td>\n",
              "      <td>Male</td>\n",
              "      <td>2013-07-21 16:47:00</td>\n",
              "      <td>2013-07-21 17:03:00</td>\n",
              "      <td>999</td>\n",
              "      <td>Carpenter St &amp; Huron St</td>\n",
              "      <td>41.894556</td>\n",
              "      <td>-87.653449</td>\n",
              "      <td>19.0</td>\n",
              "      <td>Carpenter St &amp; Huron St</td>\n",
              "      <td>41.894556</td>\n",
              "      <td>-87.653449</td>\n",
              "      <td>19.0</td>\n",
              "      <td>82.4</td>\n",
              "      <td>10.0</td>\n",
              "      <td>11.5</td>\n",
              "      <td>0.0</td>\n",
              "      <td>tstorms</td>\n",
              "    </tr>\n",
              "  </tbody>\n",
              "</table>\n",
              "</div>"
            ],
            "text/plain": [
              "    trip_id    usertype gender  ... wind_speed precipitation   events\n",
              "45    66336  Subscriber   Male  ...        5.8           0.0     rain\n",
              "78    89180  Subscriber   Male  ...       11.5           0.0  tstorms\n",
              "79    89228  Subscriber   Male  ...       11.5           0.0  tstorms\n",
              "\n",
              "[3 rows x 19 columns]"
            ]
          },
          "metadata": {
            "tags": []
          },
          "execution_count": 29
        }
      ]
    },
    {
      "cell_type": "markdown",
      "metadata": {
        "id": "cqjVEJv_2Ij9"
      },
      "source": [
        "### Use the `isin` method instead\n",
        "\n",
        "Instead of using an operator, we use the `isin` method. Pass it a list (or a set) of all the values you want to test equality with. The `isin` method returns a boolean Series and in this example, the same exact boolean Series as the previous one."
      ]
    },
    {
      "cell_type": "code",
      "metadata": {
        "id": "tuYVSvc52Ij-",
        "colab": {
          "base_uri": "https://localhost:8080/",
          "height": 267
        },
        "outputId": "1388a94d-1ecb-4e73-e4b0-8f789c542e25"
      },
      "source": [
        "filt = bikes['events'].isin(['rain', 'snow', 'tstorms', 'sleet'])\n",
        "bikes[filt].head(3)"
      ],
      "execution_count": null,
      "outputs": [
        {
          "output_type": "execute_result",
          "data": {
            "text/html": [
              "<div>\n",
              "<style scoped>\n",
              "    .dataframe tbody tr th:only-of-type {\n",
              "        vertical-align: middle;\n",
              "    }\n",
              "\n",
              "    .dataframe tbody tr th {\n",
              "        vertical-align: top;\n",
              "    }\n",
              "\n",
              "    .dataframe thead th {\n",
              "        text-align: right;\n",
              "    }\n",
              "</style>\n",
              "<table border=\"1\" class=\"dataframe\">\n",
              "  <thead>\n",
              "    <tr style=\"text-align: right;\">\n",
              "      <th></th>\n",
              "      <th>trip_id</th>\n",
              "      <th>usertype</th>\n",
              "      <th>gender</th>\n",
              "      <th>starttime</th>\n",
              "      <th>stoptime</th>\n",
              "      <th>tripduration</th>\n",
              "      <th>from_station_name</th>\n",
              "      <th>latitude_start</th>\n",
              "      <th>longitude_start</th>\n",
              "      <th>dpcapacity_start</th>\n",
              "      <th>to_station_name</th>\n",
              "      <th>latitude_end</th>\n",
              "      <th>longitude_end</th>\n",
              "      <th>dpcapacity_end</th>\n",
              "      <th>temperature</th>\n",
              "      <th>visibility</th>\n",
              "      <th>wind_speed</th>\n",
              "      <th>precipitation</th>\n",
              "      <th>events</th>\n",
              "    </tr>\n",
              "  </thead>\n",
              "  <tbody>\n",
              "    <tr>\n",
              "      <th>45</th>\n",
              "      <td>66336</td>\n",
              "      <td>Subscriber</td>\n",
              "      <td>Male</td>\n",
              "      <td>2013-07-15 16:43:00</td>\n",
              "      <td>2013-07-15 16:55:00</td>\n",
              "      <td>727</td>\n",
              "      <td>Greenwood Ave &amp; 47th St</td>\n",
              "      <td>41.809835</td>\n",
              "      <td>-87.599383</td>\n",
              "      <td>15.0</td>\n",
              "      <td>State St &amp; Harrison St</td>\n",
              "      <td>41.873958</td>\n",
              "      <td>-87.627739</td>\n",
              "      <td>19.0</td>\n",
              "      <td>82.9</td>\n",
              "      <td>10.0</td>\n",
              "      <td>5.8</td>\n",
              "      <td>0.0</td>\n",
              "      <td>rain</td>\n",
              "    </tr>\n",
              "    <tr>\n",
              "      <th>78</th>\n",
              "      <td>89180</td>\n",
              "      <td>Subscriber</td>\n",
              "      <td>Male</td>\n",
              "      <td>2013-07-21 16:35:00</td>\n",
              "      <td>2013-07-21 17:06:00</td>\n",
              "      <td>1809</td>\n",
              "      <td>Michigan Ave &amp; Pearson St</td>\n",
              "      <td>41.897660</td>\n",
              "      <td>-87.623510</td>\n",
              "      <td>23.0</td>\n",
              "      <td>Millennium Park</td>\n",
              "      <td>41.881032</td>\n",
              "      <td>-87.624084</td>\n",
              "      <td>35.0</td>\n",
              "      <td>82.4</td>\n",
              "      <td>10.0</td>\n",
              "      <td>11.5</td>\n",
              "      <td>0.0</td>\n",
              "      <td>tstorms</td>\n",
              "    </tr>\n",
              "    <tr>\n",
              "      <th>79</th>\n",
              "      <td>89228</td>\n",
              "      <td>Subscriber</td>\n",
              "      <td>Male</td>\n",
              "      <td>2013-07-21 16:47:00</td>\n",
              "      <td>2013-07-21 17:03:00</td>\n",
              "      <td>999</td>\n",
              "      <td>Carpenter St &amp; Huron St</td>\n",
              "      <td>41.894556</td>\n",
              "      <td>-87.653449</td>\n",
              "      <td>19.0</td>\n",
              "      <td>Carpenter St &amp; Huron St</td>\n",
              "      <td>41.894556</td>\n",
              "      <td>-87.653449</td>\n",
              "      <td>19.0</td>\n",
              "      <td>82.4</td>\n",
              "      <td>10.0</td>\n",
              "      <td>11.5</td>\n",
              "      <td>0.0</td>\n",
              "      <td>tstorms</td>\n",
              "    </tr>\n",
              "  </tbody>\n",
              "</table>\n",
              "</div>"
            ],
            "text/plain": [
              "    trip_id    usertype gender  ... wind_speed precipitation   events\n",
              "45    66336  Subscriber   Male  ...        5.8           0.0     rain\n",
              "78    89180  Subscriber   Male  ...       11.5           0.0  tstorms\n",
              "79    89228  Subscriber   Male  ...       11.5           0.0  tstorms\n",
              "\n",
              "[3 rows x 19 columns]"
            ]
          },
          "metadata": {
            "tags": []
          },
          "execution_count": 30
        }
      ]
    },
    {
      "cell_type": "markdown",
      "metadata": {
        "id": "gh1IpFRP2IkA"
      },
      "source": [
        "### Combining `isin` with other filters\n",
        "You can use the resulting boolean Series from the `isin` method in the same way as you would from the logical operators. For instance, If we wanted to find all the rides that had the same events as above and had a duration greater than 2,000 we would do the following:"
      ]
    },
    {
      "cell_type": "code",
      "metadata": {
        "id": "Xk-sWm322IkB",
        "colab": {
          "base_uri": "https://localhost:8080/",
          "height": 267
        },
        "outputId": "398fbd0a-d48b-4c0b-c544-fd617f55de07"
      },
      "source": [
        "filt1 = bikes['events'].isin(['rain', 'snow', 'tstorms', 'sleet'])\n",
        "filt2 = bikes['tripduration'] > 2000\n",
        "filt = filt1 & filt2\n",
        "bikes[filt].head(3)"
      ],
      "execution_count": null,
      "outputs": [
        {
          "output_type": "execute_result",
          "data": {
            "text/html": [
              "<div>\n",
              "<style scoped>\n",
              "    .dataframe tbody tr th:only-of-type {\n",
              "        vertical-align: middle;\n",
              "    }\n",
              "\n",
              "    .dataframe tbody tr th {\n",
              "        vertical-align: top;\n",
              "    }\n",
              "\n",
              "    .dataframe thead th {\n",
              "        text-align: right;\n",
              "    }\n",
              "</style>\n",
              "<table border=\"1\" class=\"dataframe\">\n",
              "  <thead>\n",
              "    <tr style=\"text-align: right;\">\n",
              "      <th></th>\n",
              "      <th>trip_id</th>\n",
              "      <th>usertype</th>\n",
              "      <th>gender</th>\n",
              "      <th>starttime</th>\n",
              "      <th>stoptime</th>\n",
              "      <th>tripduration</th>\n",
              "      <th>from_station_name</th>\n",
              "      <th>latitude_start</th>\n",
              "      <th>longitude_start</th>\n",
              "      <th>dpcapacity_start</th>\n",
              "      <th>to_station_name</th>\n",
              "      <th>latitude_end</th>\n",
              "      <th>longitude_end</th>\n",
              "      <th>dpcapacity_end</th>\n",
              "      <th>temperature</th>\n",
              "      <th>visibility</th>\n",
              "      <th>wind_speed</th>\n",
              "      <th>precipitation</th>\n",
              "      <th>events</th>\n",
              "    </tr>\n",
              "  </thead>\n",
              "  <tbody>\n",
              "    <tr>\n",
              "      <th>2344</th>\n",
              "      <td>1266453</td>\n",
              "      <td>Subscriber</td>\n",
              "      <td>Female</td>\n",
              "      <td>2014-03-19 07:23:00</td>\n",
              "      <td>2014-03-19 08:00:00</td>\n",
              "      <td>2181</td>\n",
              "      <td>Seeley Ave &amp; Roscoe St</td>\n",
              "      <td>41.943403</td>\n",
              "      <td>-87.679618</td>\n",
              "      <td>11.0</td>\n",
              "      <td>Franklin St &amp; Lake St</td>\n",
              "      <td>41.885837</td>\n",
              "      <td>-87.635500</td>\n",
              "      <td>23.0</td>\n",
              "      <td>43.0</td>\n",
              "      <td>3.0</td>\n",
              "      <td>6.9</td>\n",
              "      <td>0.07</td>\n",
              "      <td>rain</td>\n",
              "    </tr>\n",
              "    <tr>\n",
              "      <th>7697</th>\n",
              "      <td>3557596</td>\n",
              "      <td>Subscriber</td>\n",
              "      <td>Male</td>\n",
              "      <td>2014-09-12 14:20:00</td>\n",
              "      <td>2014-09-12 14:57:00</td>\n",
              "      <td>2213</td>\n",
              "      <td>Damen Ave &amp; Pierce Ave</td>\n",
              "      <td>41.909396</td>\n",
              "      <td>-87.677692</td>\n",
              "      <td>19.0</td>\n",
              "      <td>California Ave &amp; Division St</td>\n",
              "      <td>41.903029</td>\n",
              "      <td>-87.697474</td>\n",
              "      <td>15.0</td>\n",
              "      <td>52.0</td>\n",
              "      <td>2.0</td>\n",
              "      <td>12.7</td>\n",
              "      <td>0.00</td>\n",
              "      <td>rain</td>\n",
              "    </tr>\n",
              "    <tr>\n",
              "      <th>8357</th>\n",
              "      <td>3801419</td>\n",
              "      <td>Subscriber</td>\n",
              "      <td>Male</td>\n",
              "      <td>2014-09-30 08:21:00</td>\n",
              "      <td>2014-09-30 08:58:00</td>\n",
              "      <td>2246</td>\n",
              "      <td>Damen Ave &amp; Melrose Ave</td>\n",
              "      <td>41.940600</td>\n",
              "      <td>-87.678500</td>\n",
              "      <td>11.0</td>\n",
              "      <td>Wood St &amp; Taylor St</td>\n",
              "      <td>41.869154</td>\n",
              "      <td>-87.671045</td>\n",
              "      <td>15.0</td>\n",
              "      <td>46.9</td>\n",
              "      <td>3.0</td>\n",
              "      <td>11.5</td>\n",
              "      <td>0.00</td>\n",
              "      <td>rain</td>\n",
              "    </tr>\n",
              "  </tbody>\n",
              "</table>\n",
              "</div>"
            ],
            "text/plain": [
              "      trip_id    usertype  gender  ... wind_speed precipitation  events\n",
              "2344  1266453  Subscriber  Female  ...        6.9          0.07    rain\n",
              "7697  3557596  Subscriber    Male  ...       12.7          0.00    rain\n",
              "8357  3801419  Subscriber    Male  ...       11.5          0.00    rain\n",
              "\n",
              "[3 rows x 19 columns]"
            ]
          },
          "metadata": {
            "tags": []
          },
          "execution_count": 31
        }
      ]
    },
    {
      "cell_type": "markdown",
      "metadata": {
        "id": "LKsAUsXL2IkD"
      },
      "source": [
        "## Exercises\n",
        "\n",
        "Continue to use the bikes dataset for the first few exercises."
      ]
    },
    {
      "cell_type": "markdown",
      "metadata": {
        "id": "-NratuTT2IkE"
      },
      "source": [
        "### Exercise 1\n",
        "<span  style=\"color:green; font-size:16px\">Find all the rides where visibility was between 0 and 2.</span>"
      ]
    },
    {
      "cell_type": "code",
      "metadata": {
        "id": "If-w8uKl2IkE"
      },
      "source": [
        ""
      ],
      "execution_count": null,
      "outputs": []
    },
    {
      "cell_type": "markdown",
      "metadata": {
        "id": "y3Guw-lW2IkH"
      },
      "source": [
        "### Exercise 2\n",
        "\n",
        "<span  style=\"color:green; font-size:16px\">Find all the rides with trip duration less than 100 done by females.</span>"
      ]
    },
    {
      "cell_type": "code",
      "metadata": {
        "id": "b5inWe3a2IkJ"
      },
      "source": [
        ""
      ],
      "execution_count": null,
      "outputs": []
    },
    {
      "cell_type": "markdown",
      "metadata": {
        "id": "9nDq9d2D2IkP"
      },
      "source": [
        "### Exercise 3\n",
        "\n",
        "<span  style=\"color:green; font-size:16px\">Find all the rides from 'Daley Center Plaza' to 'Michigan Ave &amp; Washington St'</span>"
      ]
    },
    {
      "cell_type": "code",
      "metadata": {
        "id": "Im_SCDkc2IkR"
      },
      "source": [
        ""
      ],
      "execution_count": null,
      "outputs": []
    },
    {
      "cell_type": "markdown",
      "metadata": {
        "id": "OwCwWxsc2IkT"
      },
      "source": [
        "### Exercise 4\n",
        "\n",
        "<span  style=\"color:green; font-size:16px\">Find all the rides with temperature greater than 90 or visibility equal to 1 or wind speed greater than 20</span>"
      ]
    },
    {
      "cell_type": "code",
      "metadata": {
        "id": "Q43sbmNk2IkU"
      },
      "source": [
        ""
      ],
      "execution_count": null,
      "outputs": []
    },
    {
      "cell_type": "markdown",
      "metadata": {
        "id": "3DMHbs_C2IkV"
      },
      "source": [
        "### Exercise 5\n",
        "\n",
        "<span  style=\"color:green; font-size:16px\">Invert the condition from exercise 4.</span>"
      ]
    },
    {
      "cell_type": "code",
      "metadata": {
        "id": "EUrRdxGi2IkW"
      },
      "source": [
        ""
      ],
      "execution_count": null,
      "outputs": []
    },
    {
      "cell_type": "markdown",
      "metadata": {
        "id": "1GNtcxBU2IkY"
      },
      "source": [
        "### Exercise 6\n",
        "\n",
        "<span  style=\"color:green; font-size:16px\">Are there any rides where the weather event was snow and the temperature was greater than 40?</span>"
      ]
    },
    {
      "cell_type": "code",
      "metadata": {
        "id": "DBQSSRzQ2IkY"
      },
      "source": [
        ""
      ],
      "execution_count": null,
      "outputs": []
    },
    {
      "cell_type": "markdown",
      "metadata": {
        "id": "SeRhS3cY2Ika"
      },
      "source": [
        "Read in the movie dataset by executing the cell below and use it for the following exercises."
      ]
    },
    {
      "cell_type": "code",
      "metadata": {
        "id": "jOgC5hp92Ikb",
        "colab": {
          "base_uri": "https://localhost:8080/",
          "height": 316
        },
        "outputId": "401065d8-bdca-4a30-aec5-5e3d7c537b29"
      },
      "source": [
        "import pandas as pd\n",
        "movie = pd.read_csv('Pandas/movie.csv', index_col='title')\n",
        "movie.head(3)"
      ],
      "execution_count": null,
      "outputs": [
        {
          "output_type": "execute_result",
          "data": {
            "text/html": [
              "<div>\n",
              "<style scoped>\n",
              "    .dataframe tbody tr th:only-of-type {\n",
              "        vertical-align: middle;\n",
              "    }\n",
              "\n",
              "    .dataframe tbody tr th {\n",
              "        vertical-align: top;\n",
              "    }\n",
              "\n",
              "    .dataframe thead th {\n",
              "        text-align: right;\n",
              "    }\n",
              "</style>\n",
              "<table border=\"1\" class=\"dataframe\">\n",
              "  <thead>\n",
              "    <tr style=\"text-align: right;\">\n",
              "      <th></th>\n",
              "      <th>year</th>\n",
              "      <th>color</th>\n",
              "      <th>content_rating</th>\n",
              "      <th>duration</th>\n",
              "      <th>director_name</th>\n",
              "      <th>director_fb</th>\n",
              "      <th>actor1</th>\n",
              "      <th>actor1_fb</th>\n",
              "      <th>actor2</th>\n",
              "      <th>actor2_fb</th>\n",
              "      <th>actor3</th>\n",
              "      <th>actor3_fb</th>\n",
              "      <th>gross</th>\n",
              "      <th>genres</th>\n",
              "      <th>num_reviews</th>\n",
              "      <th>num_voted_users</th>\n",
              "      <th>plot_keywords</th>\n",
              "      <th>language</th>\n",
              "      <th>country</th>\n",
              "      <th>budget</th>\n",
              "      <th>imdb_score</th>\n",
              "    </tr>\n",
              "    <tr>\n",
              "      <th>title</th>\n",
              "      <th></th>\n",
              "      <th></th>\n",
              "      <th></th>\n",
              "      <th></th>\n",
              "      <th></th>\n",
              "      <th></th>\n",
              "      <th></th>\n",
              "      <th></th>\n",
              "      <th></th>\n",
              "      <th></th>\n",
              "      <th></th>\n",
              "      <th></th>\n",
              "      <th></th>\n",
              "      <th></th>\n",
              "      <th></th>\n",
              "      <th></th>\n",
              "      <th></th>\n",
              "      <th></th>\n",
              "      <th></th>\n",
              "      <th></th>\n",
              "      <th></th>\n",
              "    </tr>\n",
              "  </thead>\n",
              "  <tbody>\n",
              "    <tr>\n",
              "      <th>Avatar</th>\n",
              "      <td>2009.0</td>\n",
              "      <td>Color</td>\n",
              "      <td>PG-13</td>\n",
              "      <td>178.0</td>\n",
              "      <td>James Cameron</td>\n",
              "      <td>0.0</td>\n",
              "      <td>CCH Pounder</td>\n",
              "      <td>1000.0</td>\n",
              "      <td>Joel David Moore</td>\n",
              "      <td>936.0</td>\n",
              "      <td>Wes Studi</td>\n",
              "      <td>855.0</td>\n",
              "      <td>760505847.0</td>\n",
              "      <td>Action|Adventure|Fantasy|Sci-Fi</td>\n",
              "      <td>723.0</td>\n",
              "      <td>886204</td>\n",
              "      <td>avatar|future|marine|native|paraplegic</td>\n",
              "      <td>English</td>\n",
              "      <td>USA</td>\n",
              "      <td>237000000.0</td>\n",
              "      <td>7.9</td>\n",
              "    </tr>\n",
              "    <tr>\n",
              "      <th>Pirates of the Caribbean: At World's End</th>\n",
              "      <td>2007.0</td>\n",
              "      <td>Color</td>\n",
              "      <td>PG-13</td>\n",
              "      <td>169.0</td>\n",
              "      <td>Gore Verbinski</td>\n",
              "      <td>563.0</td>\n",
              "      <td>Johnny Depp</td>\n",
              "      <td>40000.0</td>\n",
              "      <td>Orlando Bloom</td>\n",
              "      <td>5000.0</td>\n",
              "      <td>Jack Davenport</td>\n",
              "      <td>1000.0</td>\n",
              "      <td>309404152.0</td>\n",
              "      <td>Action|Adventure|Fantasy</td>\n",
              "      <td>302.0</td>\n",
              "      <td>471220</td>\n",
              "      <td>goddess|marriage ceremony|marriage proposal|pi...</td>\n",
              "      <td>English</td>\n",
              "      <td>USA</td>\n",
              "      <td>300000000.0</td>\n",
              "      <td>7.1</td>\n",
              "    </tr>\n",
              "    <tr>\n",
              "      <th>Spectre</th>\n",
              "      <td>2015.0</td>\n",
              "      <td>Color</td>\n",
              "      <td>PG-13</td>\n",
              "      <td>148.0</td>\n",
              "      <td>Sam Mendes</td>\n",
              "      <td>0.0</td>\n",
              "      <td>Christoph Waltz</td>\n",
              "      <td>11000.0</td>\n",
              "      <td>Rory Kinnear</td>\n",
              "      <td>393.0</td>\n",
              "      <td>Stephanie Sigman</td>\n",
              "      <td>161.0</td>\n",
              "      <td>200074175.0</td>\n",
              "      <td>Action|Adventure|Thriller</td>\n",
              "      <td>602.0</td>\n",
              "      <td>275868</td>\n",
              "      <td>bomb|espionage|sequel|spy|terrorist</td>\n",
              "      <td>English</td>\n",
              "      <td>UK</td>\n",
              "      <td>245000000.0</td>\n",
              "      <td>6.8</td>\n",
              "    </tr>\n",
              "  </tbody>\n",
              "</table>\n",
              "</div>"
            ],
            "text/plain": [
              "                                            year  ... imdb_score\n",
              "title                                             ...           \n",
              "Avatar                                    2009.0  ...        7.9\n",
              "Pirates of the Caribbean: At World's End  2007.0  ...        7.1\n",
              "Spectre                                   2015.0  ...        6.8\n",
              "\n",
              "[3 rows x 21 columns]"
            ]
          },
          "metadata": {
            "tags": []
          },
          "execution_count": 32
        }
      ]
    },
    {
      "cell_type": "markdown",
      "metadata": {
        "id": "DIRNZvFf2Ikc"
      },
      "source": [
        "### Exercise 7\n",
        "\n",
        "<span  style=\"color:green; font-size:16px\">Select all movies from the 1970s.</span>"
      ]
    },
    {
      "cell_type": "code",
      "metadata": {
        "id": "wTDUSJLT2Ikd"
      },
      "source": [
        ""
      ],
      "execution_count": null,
      "outputs": []
    },
    {
      "cell_type": "markdown",
      "metadata": {
        "id": "UhO2OJNA2Ike"
      },
      "source": [
        "### Exercise 8\n",
        "\n",
        "<span  style=\"color:green; font-size:16px\">Select all movies from the 1970s that had IMDB scores greater than 8.</span>"
      ]
    },
    {
      "cell_type": "code",
      "metadata": {
        "id": "stR-Zg4g2Ikf"
      },
      "source": [
        ""
      ],
      "execution_count": null,
      "outputs": []
    },
    {
      "cell_type": "markdown",
      "metadata": {
        "id": "XchpPFlB2Ikh"
      },
      "source": [
        "### Exercise 9\n",
        "\n",
        "<span  style=\"color:green; font-size:16px\">Select movies that were rated either R, PG-13, or PG.</span>"
      ]
    },
    {
      "cell_type": "code",
      "metadata": {
        "id": "DIkXFbF02Iki"
      },
      "source": [
        ""
      ],
      "execution_count": null,
      "outputs": []
    },
    {
      "cell_type": "markdown",
      "metadata": {
        "id": "64p7HgOW2Ikj"
      },
      "source": [
        "### Exercise 10\n",
        "\n",
        "<span  style=\"color:green; font-size:16px\">Select movies that are either rated PG-13 or were made after 2010.</span>"
      ]
    },
    {
      "cell_type": "code",
      "metadata": {
        "id": "NBEkIt-P2Ikk"
      },
      "source": [
        ""
      ],
      "execution_count": null,
      "outputs": []
    },
    {
      "cell_type": "markdown",
      "metadata": {
        "id": "i_v36CS-2Ikl"
      },
      "source": [
        "### Exercise 11\n",
        "\n",
        "<span  style=\"color:green; font-size:16px\">Find all the movies that have at least one of the three actors with more than 10,000 Facebook likes.</span>"
      ]
    },
    {
      "cell_type": "code",
      "metadata": {
        "id": "pdpxddBQ2Ikm"
      },
      "source": [
        ""
      ],
      "execution_count": null,
      "outputs": []
    },
    {
      "cell_type": "markdown",
      "metadata": {
        "id": "9vuzvZGz2Iko"
      },
      "source": [
        "### Exercise 12\n",
        "\n",
        "<span  style=\"color:green; font-size:16px\">Invert the condition from exercise 10. In words, what have you selected?</span>"
      ]
    },
    {
      "cell_type": "code",
      "metadata": {
        "id": "CzMIm5642Ikp"
      },
      "source": [
        ""
      ],
      "execution_count": null,
      "outputs": []
    }
  ]
}