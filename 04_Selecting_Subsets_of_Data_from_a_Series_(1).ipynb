{
  "nbformat": 4,
  "nbformat_minor": 0,
  "metadata": {
    "kernelspec": {
      "display_name": "Python 3",
      "language": "python",
      "name": "python3"
    },
    "language_info": {
      "codemirror_mode": {
        "name": "ipython",
        "version": 3
      },
      "file_extension": ".py",
      "mimetype": "text/x-python",
      "name": "python",
      "nbconvert_exporter": "python",
      "pygments_lexer": "ipython3",
      "version": "3.7.3"
    },
    "varInspector": {
      "cols": {
        "lenName": 16,
        "lenType": 16,
        "lenVar": 40
      },
      "kernels_config": {
        "python": {
          "delete_cmd_postfix": "",
          "delete_cmd_prefix": "del ",
          "library": "var_list.py",
          "varRefreshCmd": "print(var_dic_list())"
        },
        "r": {
          "delete_cmd_postfix": ") ",
          "delete_cmd_prefix": "rm(",
          "library": "var_list.r",
          "varRefreshCmd": "cat(var_dic_list()) "
        }
      },
      "types_to_exclude": [
        "module",
        "function",
        "builtin_function_or_method",
        "instance",
        "_Feature"
      ],
      "window_display": false
    },
    "colab": {
      "name": "04. Selecting Subsets of Data from a Series (1).ipynb",
      "provenance": [],
      "include_colab_link": true
    }
  },
  "cells": [
    {
      "cell_type": "markdown",
      "metadata": {
        "id": "view-in-github",
        "colab_type": "text"
      },
      "source": [
        "<a href=\"https://colab.research.google.com/github/cnrgrl/PANDAS/blob/main/04_Selecting_Subsets_of_Data_from_a_Series_(1).ipynb\" target=\"_parent\"><img src=\"https://colab.research.google.com/assets/colab-badge.svg\" alt=\"Open In Colab\"/></a>"
      ]
    },
    {
      "cell_type": "code",
      "metadata": {
        "id": "ROFW3EiQ0XcN",
        "colab": {
          "base_uri": "https://localhost:8080/",
          "height": 138
        },
        "outputId": "99345334-b927-40df-9eff-50c58c9aefc7"
      },
      "source": [
        "# uncomment the following line, if you are using google collab\n",
        "!rm -r Pandas\n",
        "!git clone https://github.com/Wuebbelt/Pandas.git"
      ],
      "execution_count": null,
      "outputs": [
        {
          "output_type": "stream",
          "text": [
            "rm: cannot remove 'Pandas': No such file or directory\n",
            "Cloning into 'Pandas'...\n",
            "remote: Enumerating objects: 77, done.\u001b[K\n",
            "remote: Counting objects: 100% (77/77), done.\u001b[K\n",
            "remote: Compressing objects: 100% (66/66), done.\u001b[K\n",
            "remote: Total 77 (delta 12), reused 75 (delta 10), pack-reused 0\u001b[K\n",
            "Unpacking objects: 100% (77/77), done.\n"
          ],
          "name": "stdout"
        }
      ]
    },
    {
      "cell_type": "markdown",
      "metadata": {
        "id": "BGyXPY5K0TVb"
      },
      "source": [
        "# Selecting Subsets of Data from a Series\n",
        "\n",
        "Selecting subsets of data from a Series is accomplished similarly to how it's done with DataFrames. \n",
        "\n",
        "## Series indexer rules\n",
        "\n",
        "The same three indexers, `[]`, `loc`, and `iloc`, are available. Because there are no columns in a Series, the rules for each indexer are slightly different than they are for a DataFrame. Let's begin by reading in the movie dataset and setting the index to the title."
      ]
    },
    {
      "cell_type": "code",
      "metadata": {
        "id": "n-wDXe-m0TVf",
        "colab": {
          "base_uri": "https://localhost:8080/",
          "height": 316
        },
        "outputId": "df902d1b-fefc-46a5-e73e-54dd4cd0e901"
      },
      "source": [
        "import pandas as pd\n",
        "movie = pd.read_csv('Pandas/movie.csv', index_col='title')\n",
        "movie.head(3)"
      ],
      "execution_count": null,
      "outputs": [
        {
          "output_type": "execute_result",
          "data": {
            "text/html": [
              "<div>\n",
              "<style scoped>\n",
              "    .dataframe tbody tr th:only-of-type {\n",
              "        vertical-align: middle;\n",
              "    }\n",
              "\n",
              "    .dataframe tbody tr th {\n",
              "        vertical-align: top;\n",
              "    }\n",
              "\n",
              "    .dataframe thead th {\n",
              "        text-align: right;\n",
              "    }\n",
              "</style>\n",
              "<table border=\"1\" class=\"dataframe\">\n",
              "  <thead>\n",
              "    <tr style=\"text-align: right;\">\n",
              "      <th></th>\n",
              "      <th>year</th>\n",
              "      <th>color</th>\n",
              "      <th>content_rating</th>\n",
              "      <th>duration</th>\n",
              "      <th>director_name</th>\n",
              "      <th>director_fb</th>\n",
              "      <th>actor1</th>\n",
              "      <th>actor1_fb</th>\n",
              "      <th>actor2</th>\n",
              "      <th>actor2_fb</th>\n",
              "      <th>actor3</th>\n",
              "      <th>actor3_fb</th>\n",
              "      <th>gross</th>\n",
              "      <th>genres</th>\n",
              "      <th>num_reviews</th>\n",
              "      <th>num_voted_users</th>\n",
              "      <th>plot_keywords</th>\n",
              "      <th>language</th>\n",
              "      <th>country</th>\n",
              "      <th>budget</th>\n",
              "      <th>imdb_score</th>\n",
              "    </tr>\n",
              "    <tr>\n",
              "      <th>title</th>\n",
              "      <th></th>\n",
              "      <th></th>\n",
              "      <th></th>\n",
              "      <th></th>\n",
              "      <th></th>\n",
              "      <th></th>\n",
              "      <th></th>\n",
              "      <th></th>\n",
              "      <th></th>\n",
              "      <th></th>\n",
              "      <th></th>\n",
              "      <th></th>\n",
              "      <th></th>\n",
              "      <th></th>\n",
              "      <th></th>\n",
              "      <th></th>\n",
              "      <th></th>\n",
              "      <th></th>\n",
              "      <th></th>\n",
              "      <th></th>\n",
              "      <th></th>\n",
              "    </tr>\n",
              "  </thead>\n",
              "  <tbody>\n",
              "    <tr>\n",
              "      <th>Avatar</th>\n",
              "      <td>2009.0</td>\n",
              "      <td>Color</td>\n",
              "      <td>PG-13</td>\n",
              "      <td>178.0</td>\n",
              "      <td>James Cameron</td>\n",
              "      <td>0.0</td>\n",
              "      <td>CCH Pounder</td>\n",
              "      <td>1000.0</td>\n",
              "      <td>Joel David Moore</td>\n",
              "      <td>936.0</td>\n",
              "      <td>Wes Studi</td>\n",
              "      <td>855.0</td>\n",
              "      <td>760505847.0</td>\n",
              "      <td>Action|Adventure|Fantasy|Sci-Fi</td>\n",
              "      <td>723.0</td>\n",
              "      <td>886204</td>\n",
              "      <td>avatar|future|marine|native|paraplegic</td>\n",
              "      <td>English</td>\n",
              "      <td>USA</td>\n",
              "      <td>237000000.0</td>\n",
              "      <td>7.9</td>\n",
              "    </tr>\n",
              "    <tr>\n",
              "      <th>Pirates of the Caribbean: At World's End</th>\n",
              "      <td>2007.0</td>\n",
              "      <td>Color</td>\n",
              "      <td>PG-13</td>\n",
              "      <td>169.0</td>\n",
              "      <td>Gore Verbinski</td>\n",
              "      <td>563.0</td>\n",
              "      <td>Johnny Depp</td>\n",
              "      <td>40000.0</td>\n",
              "      <td>Orlando Bloom</td>\n",
              "      <td>5000.0</td>\n",
              "      <td>Jack Davenport</td>\n",
              "      <td>1000.0</td>\n",
              "      <td>309404152.0</td>\n",
              "      <td>Action|Adventure|Fantasy</td>\n",
              "      <td>302.0</td>\n",
              "      <td>471220</td>\n",
              "      <td>goddess|marriage ceremony|marriage proposal|pi...</td>\n",
              "      <td>English</td>\n",
              "      <td>USA</td>\n",
              "      <td>300000000.0</td>\n",
              "      <td>7.1</td>\n",
              "    </tr>\n",
              "    <tr>\n",
              "      <th>Spectre</th>\n",
              "      <td>2015.0</td>\n",
              "      <td>Color</td>\n",
              "      <td>PG-13</td>\n",
              "      <td>148.0</td>\n",
              "      <td>Sam Mendes</td>\n",
              "      <td>0.0</td>\n",
              "      <td>Christoph Waltz</td>\n",
              "      <td>11000.0</td>\n",
              "      <td>Rory Kinnear</td>\n",
              "      <td>393.0</td>\n",
              "      <td>Stephanie Sigman</td>\n",
              "      <td>161.0</td>\n",
              "      <td>200074175.0</td>\n",
              "      <td>Action|Adventure|Thriller</td>\n",
              "      <td>602.0</td>\n",
              "      <td>275868</td>\n",
              "      <td>bomb|espionage|sequel|spy|terrorist</td>\n",
              "      <td>English</td>\n",
              "      <td>UK</td>\n",
              "      <td>245000000.0</td>\n",
              "      <td>6.8</td>\n",
              "    </tr>\n",
              "  </tbody>\n",
              "</table>\n",
              "</div>"
            ],
            "text/plain": [
              "                                            year  ... imdb_score\n",
              "title                                             ...           \n",
              "Avatar                                    2009.0  ...        7.9\n",
              "Pirates of the Caribbean: At World's End  2007.0  ...        7.1\n",
              "Spectre                                   2015.0  ...        6.8\n",
              "\n",
              "[3 rows x 21 columns]"
            ]
          },
          "metadata": {
            "tags": []
          },
          "execution_count": 2
        }
      ]
    },
    {
      "cell_type": "markdown",
      "metadata": {
        "id": "F_TF9X5z0TVj"
      },
      "source": [
        "Let's select a single column of data so that we can have access to a Series. Here, we select the `imdb_score` column."
      ]
    },
    {
      "cell_type": "code",
      "metadata": {
        "scrolled": true,
        "id": "nHK4n-u90TVj",
        "colab": {
          "base_uri": "https://localhost:8080/",
          "height": 103
        },
        "outputId": "14d651fe-ee21-4f35-9da2-7155ae771514"
      },
      "source": [
        "imdb = movie['imdb_score']\n",
        "imdb.head(3)"
      ],
      "execution_count": null,
      "outputs": [
        {
          "output_type": "execute_result",
          "data": {
            "text/plain": [
              "title\n",
              "Avatar                                      7.9\n",
              "Pirates of the Caribbean: At World's End    7.1\n",
              "Spectre                                     6.8\n",
              "Name: imdb_score, dtype: float64"
            ]
          },
          "metadata": {
            "tags": []
          },
          "execution_count": 3
        }
      ]
    },
    {
      "cell_type": "markdown",
      "metadata": {
        "id": "sMV_w9vP0TVm"
      },
      "source": [
        "### Series subset selection with just the brackets\n",
        "\n",
        "For DataFrames, we learned that *just the brackets* accepted either a single label or a list of labels and used this input to select one or more DataFrame columns. For a Series, *just the brackets* has different rules that you must follow to use it correctly. It allows selection by index label. For instance, we can select the `imdb_score` for the movie Avatar like this:"
      ]
    },
    {
      "cell_type": "code",
      "metadata": {
        "id": "sbdtFywx0TVn",
        "colab": {
          "base_uri": "https://localhost:8080/",
          "height": 34
        },
        "outputId": "bfa57e15-a560-4ea9-e042-12773a867116"
      },
      "source": [
        "imdb['Avatar']"
      ],
      "execution_count": null,
      "outputs": [
        {
          "output_type": "execute_result",
          "data": {
            "text/plain": [
              "7.9"
            ]
          },
          "metadata": {
            "tags": []
          },
          "execution_count": 4
        }
      ]
    },
    {
      "cell_type": "markdown",
      "metadata": {
        "id": "fxgwkt2W0TVp"
      },
      "source": [
        "Interestingly enough, it's possible to use integer location as well with *just the brackets*. The movie Avatar is at integer location 0 and we can duplicate our previous result by using it."
      ]
    },
    {
      "cell_type": "code",
      "metadata": {
        "id": "xjaqPJyq0TVp",
        "colab": {
          "base_uri": "https://localhost:8080/",
          "height": 34
        },
        "outputId": "4e6f18b5-d41f-4dcb-cea9-22b6df6fda62"
      },
      "source": [
        "imdb[0]"
      ],
      "execution_count": null,
      "outputs": [
        {
          "output_type": "execute_result",
          "data": {
            "text/plain": [
              "7.9"
            ]
          },
          "metadata": {
            "tags": []
          },
          "execution_count": 5
        }
      ]
    },
    {
      "cell_type": "markdown",
      "metadata": {
        "id": "e_07FgTe0TVr"
      },
      "source": [
        "## Series subset selection with `loc`\n",
        "\n",
        "The `loc` indexer selects by **label** just as it does with a DataFrame. Since there are no columns, it only accepts a single selection object which can be any of the following:\n",
        "\n",
        "* A single label\n",
        "* A list of labels\n",
        "* A slice with labels\n",
        "* A boolean Series (covered in a later chapter)\n",
        "\n",
        "### Select a single value with `loc`\n",
        "\n",
        "Select a single value by providing the `loc` indexer the name of the index. Here, we select the `imdb_score` of the movie Forrest Gump."
      ]
    },
    {
      "cell_type": "code",
      "metadata": {
        "id": "WzuxxiLT0TVs",
        "colab": {
          "base_uri": "https://localhost:8080/",
          "height": 34
        },
        "outputId": "80521643-c6b9-4324-d19a-dcfdd0b73e11"
      },
      "source": [
        "imdb.loc['Forrest Gump']"
      ],
      "execution_count": null,
      "outputs": [
        {
          "output_type": "execute_result",
          "data": {
            "text/plain": [
              "8.8"
            ]
          },
          "metadata": {
            "tags": []
          },
          "execution_count": 6
        }
      ]
    },
    {
      "cell_type": "markdown",
      "metadata": {
        "id": "MirfD7-70TVw"
      },
      "source": [
        "### Select multiple values using a list with `loc`\n",
        "\n",
        "Provide the `loc` indexer a list of index labels to select multiple values."
      ]
    },
    {
      "cell_type": "code",
      "metadata": {
        "id": "mgEHvIxR0TVx",
        "colab": {
          "base_uri": "https://localhost:8080/",
          "height": 103
        },
        "outputId": "194f5406-120e-4ef3-e8f4-030e585ed3f1"
      },
      "source": [
        "names = ['Good Will Hunting', 'Home Alone', 'Meet the Parents']\n",
        "imdb.loc[names]"
      ],
      "execution_count": null,
      "outputs": [
        {
          "output_type": "execute_result",
          "data": {
            "text/plain": [
              "title\n",
              "Good Will Hunting    8.3\n",
              "Home Alone           7.5\n",
              "Meet the Parents     7.0\n",
              "Name: imdb_score, dtype: float64"
            ]
          },
          "metadata": {
            "tags": []
          },
          "execution_count": 7
        }
      ]
    },
    {
      "cell_type": "markdown",
      "metadata": {
        "id": "6Mq5ed_90TVz"
      },
      "source": [
        "### Select multiple values using slice notation with `loc`\n",
        "\n",
        "Provide the `loc` indexer index labels for the start and stop components of slice notation to select all the values between those two labels. The results are **inclusive** of the stop label."
      ]
    },
    {
      "cell_type": "code",
      "metadata": {
        "id": "3uoxHoi20TV0",
        "colab": {
          "base_uri": "https://localhost:8080/",
          "height": 121
        },
        "outputId": "4542fcd0-caea-4908-e259-8e931c184af1"
      },
      "source": [
        "imdb.loc['Home Alone':'Top Gun']"
      ],
      "execution_count": null,
      "outputs": [
        {
          "output_type": "execute_result",
          "data": {
            "text/plain": [
              "title\n",
              "Home Alone          7.5\n",
              "3 Men and a Baby    5.9\n",
              "Tootsie             7.4\n",
              "Top Gun             6.9\n",
              "Name: imdb_score, dtype: float64"
            ]
          },
          "metadata": {
            "tags": []
          },
          "execution_count": 8
        }
      ]
    },
    {
      "cell_type": "markdown",
      "metadata": {
        "id": "hDRCbxm-0TV2"
      },
      "source": [
        "As with any slice notation, all components are optional. Here, we select every `imdb_score` from the movie Twins to the end."
      ]
    },
    {
      "cell_type": "code",
      "metadata": {
        "id": "_RT6nzfz0TV3",
        "colab": {
          "base_uri": "https://localhost:8080/",
          "height": 138
        },
        "outputId": "8fdf13bd-66af-4283-d283-69c22063235d"
      },
      "source": [
        "imdb.loc['Twins':].head()"
      ],
      "execution_count": null,
      "outputs": [
        {
          "output_type": "execute_result",
          "data": {
            "text/plain": [
              "title\n",
              "Twins                      6.0\n",
              "Scream: The TV Series      7.3\n",
              "The Yellow Handkerchief    6.8\n",
              "The Color Purple           7.8\n",
              "Tidal Wave                 5.7\n",
              "Name: imdb_score, dtype: float64"
            ]
          },
          "metadata": {
            "tags": []
          },
          "execution_count": 9
        }
      ]
    },
    {
      "cell_type": "markdown",
      "metadata": {
        "id": "jAGhtcUU0TV6"
      },
      "source": [
        "In this example, we select every 300th `imdb_score` beginning at the movie Twins to the end."
      ]
    },
    {
      "cell_type": "code",
      "metadata": {
        "id": "LdkbHbUM0TV7",
        "colab": {
          "base_uri": "https://localhost:8080/",
          "height": 190
        },
        "outputId": "5693ebf0-965d-4373-ecc5-a15a78934c4f"
      },
      "source": [
        "imdb.loc['Twins'::300]"
      ],
      "execution_count": null,
      "outputs": [
        {
          "output_type": "execute_result",
          "data": {
            "text/plain": [
              "title\n",
              "Twins                                                    6.0\n",
              "Ernest & Celestine                                       7.9\n",
              "Welcome to the Rileys                                    7.0\n",
              "Alpha and Omega 4: The Legend of the Saw Toothed Cave    6.0\n",
              "Fast Times at Ridgemont High                             7.2\n",
              "Young Frankenstein                                       8.0\n",
              "Neal 'N' Nikki                                           3.3\n",
              "Rise of the Entrepreneur: The Search for a Better Way    8.2\n",
              "Name: imdb_score, dtype: float64"
            ]
          },
          "metadata": {
            "tags": []
          },
          "execution_count": 10
        }
      ]
    },
    {
      "cell_type": "markdown",
      "metadata": {
        "id": "jBGHNx0p0TV9"
      },
      "source": [
        "## Series subset selection with `iloc`\n",
        "\n",
        "The Series `iloc` indexer is analogous to `loc` except that it only makes selection via integer location using the following:\n",
        "\n",
        "* A single integer location\n",
        "* A list of integer locations\n",
        "* A slice with integer locations"
      ]
    },
    {
      "cell_type": "markdown",
      "metadata": {
        "id": "2bhPgNSA0TV_"
      },
      "source": [
        "### Select a single value with `iloc`\n",
        "\n",
        "Let's select the `imdb_score` for the movie with integer location 499."
      ]
    },
    {
      "cell_type": "code",
      "metadata": {
        "id": "O3Kl1Cfa0TWA",
        "colab": {
          "base_uri": "https://localhost:8080/",
          "height": 34
        },
        "outputId": "bc7abbdd-7f60-4f36-c3ce-b8aa88585671"
      },
      "source": [
        "imdb.iloc[499]"
      ],
      "execution_count": null,
      "outputs": [
        {
          "output_type": "execute_result",
          "data": {
            "text/plain": [
              "4.2"
            ]
          },
          "metadata": {
            "tags": []
          },
          "execution_count": 11
        }
      ]
    },
    {
      "cell_type": "markdown",
      "metadata": {
        "id": "pl9i-VrY0TWD"
      },
      "source": [
        "Selecting with a single integer always return the value by itself and not within a Series. If we want to return a one-item Series, so that we can see the index, we can use a one-item list as our selection."
      ]
    },
    {
      "cell_type": "code",
      "metadata": {
        "id": "VpoHAEuF0TWF",
        "colab": {
          "base_uri": "https://localhost:8080/",
          "height": 69
        },
        "outputId": "0934ea5b-72dc-4f38-8ed7-5c35d52aae01"
      },
      "source": [
        "imdb.iloc[[499]]"
      ],
      "execution_count": null,
      "outputs": [
        {
          "output_type": "execute_result",
          "data": {
            "text/plain": [
              "title\n",
              "A Sound of Thunder    4.2\n",
              "Name: imdb_score, dtype: float64"
            ]
          },
          "metadata": {
            "tags": []
          },
          "execution_count": 12
        }
      ]
    },
    {
      "cell_type": "markdown",
      "metadata": {
        "id": "QsffX46S0TWH"
      },
      "source": [
        "### Select multiple values using a list with `iloc`\n",
        "\n",
        "Provide `iloc` a list of integer locations to select multiple values."
      ]
    },
    {
      "cell_type": "code",
      "metadata": {
        "id": "OmdBBb3s0TWI",
        "colab": {
          "base_uri": "https://localhost:8080/",
          "height": 103
        },
        "outputId": "160b1104-b83b-4060-e0f0-3f4037a9c285"
      },
      "source": [
        "ints = [499, 599, 699]\n",
        "imdb.iloc[ints]"
      ],
      "execution_count": null,
      "outputs": [
        {
          "output_type": "execute_result",
          "data": {
            "text/plain": [
              "title\n",
              "A Sound of Thunder    4.2\n",
              "The Abyss             7.6\n",
              "Blades of Glory       6.3\n",
              "Name: imdb_score, dtype: float64"
            ]
          },
          "metadata": {
            "tags": []
          },
          "execution_count": 13
        }
      ]
    },
    {
      "cell_type": "markdown",
      "metadata": {
        "id": "TlLgrNKO0TWK"
      },
      "source": [
        "### Select multiple values using slice notation with `iloc`\n",
        "\n",
        "Provide `iloc` with slice notation using integers as the stop and start components to select all the values between those two locations. The results are **exclusive** of the last integer. Here, we select integer locations 145 through 147."
      ]
    },
    {
      "cell_type": "code",
      "metadata": {
        "id": "I7kE7YaN0TWL",
        "colab": {
          "base_uri": "https://localhost:8080/",
          "height": 103
        },
        "outputId": "6e7423d4-a47e-4261-92b2-f3db95047672"
      },
      "source": [
        "imdb.iloc[145:148]"
      ],
      "execution_count": null,
      "outputs": [
        {
          "output_type": "execute_result",
          "data": {
            "text/plain": [
              "title\n",
              "Mr. Peabody & Sherman                 6.9\n",
              "Troy                                  7.2\n",
              "Madagascar 3: Europe's Most Wanted    6.9\n",
              "Name: imdb_score, dtype: float64"
            ]
          },
          "metadata": {
            "tags": []
          },
          "execution_count": 14
        }
      ]
    },
    {
      "cell_type": "markdown",
      "metadata": {
        "id": "nviZ-STp0TWN"
      },
      "source": [
        "Let's select the last 3 values using slice notation."
      ]
    },
    {
      "cell_type": "code",
      "metadata": {
        "id": "V4YUZPRv0TWO",
        "colab": {
          "base_uri": "https://localhost:8080/",
          "height": 103
        },
        "outputId": "543260a3-e7e6-47d7-dd3f-4ee0a11fd094"
      },
      "source": [
        "imdb.iloc[-3:]"
      ],
      "execution_count": null,
      "outputs": [
        {
          "output_type": "execute_result",
          "data": {
            "text/plain": [
              "title\n",
              "A Plague So Pleasant    6.3\n",
              "Shanghai Calling        6.3\n",
              "My Date with Drew       6.6\n",
              "Name: imdb_score, dtype: float64"
            ]
          },
          "metadata": {
            "tags": []
          },
          "execution_count": 15
        }
      ]
    },
    {
      "cell_type": "markdown",
      "metadata": {
        "id": "VG-_LYlx0TWU"
      },
      "source": [
        "Let's select every 200th value from integer location 1,000 to 2,000"
      ]
    },
    {
      "cell_type": "code",
      "metadata": {
        "id": "TlxSD0t30TWW",
        "colab": {
          "base_uri": "https://localhost:8080/",
          "height": 138
        },
        "outputId": "f37827f8-8f23-44a0-806a-657cc8505668"
      },
      "source": [
        "imdb.iloc[1000:2000:200]"
      ],
      "execution_count": null,
      "outputs": [
        {
          "output_type": "execute_result",
          "data": {
            "text/plain": [
              "title\n",
              "The Life Aquatic with Steve Zissou    7.3\n",
              "Ride Along 2                          5.9\n",
              "Trainwreck                            6.3\n",
              "Down to Earth                         5.4\n",
              "The Duchess                           6.9\n",
              "Name: imdb_score, dtype: float64"
            ]
          },
          "metadata": {
            "tags": []
          },
          "execution_count": 16
        }
      ]
    },
    {
      "cell_type": "markdown",
      "metadata": {
        "id": "WeF7z9Df0TWa"
      },
      "source": [
        "### Use `loc` and `iloc` instead of just the brackets\n",
        "\n",
        "For a Series, *just the brackets* is flexible and can take either a label or integer location. This might make it seem like `loc` and `iloc` would be unnecessary, but the opposite is actually the case. Using *just the brackets* for a Series is ambiguous and not explicit. It's not clear whether the label or integer location are being used.\n",
        "\n",
        "I suggest only using `loc` and `iloc` for clarity. Whenever the `loc` indexer is used, we are certain it selects by label. Likewise, whenever the `iloc` indexer is used, we are certain it select by integer location."
      ]
    },
    {
      "cell_type": "markdown",
      "metadata": {
        "id": "Pk4e9dd_0TWb"
      },
      "source": [
        "## Summary of Series subset selection\n",
        "\n",
        "The three indexers, `[]`, `loc`, and `iloc` are available to make subset selections on a Series. They work similarly as they do on DataFrames\n",
        "\n",
        "* The `loc` indexer makes selections by label using a:\n",
        "    * single label\n",
        "    * list of labels\n",
        "    * slice of labels\n",
        "    * boolean Series\n",
        "* The `loc` indexer makes selections by label using a:\n",
        "    * single integer location\n",
        "    * list of integer locations\n",
        "    * slice of integer locations\n",
        "* Use `loc` and `iloc` instead of *just the brackets* to be explicit\n",
        "* There are no columns in a Series, so selection is only based on the index"
      ]
    },
    {
      "cell_type": "markdown",
      "metadata": {
        "id": "7MtbdeRD0TWd"
      },
      "source": [
        "## Exercises\n",
        "\n",
        "Execute the cell below to select the `duration` column (length of movie in minutes) as a Series and use it for the first few exercises."
      ]
    },
    {
      "cell_type": "code",
      "metadata": {
        "id": "FI9BPGgs0TWg",
        "colab": {
          "base_uri": "https://localhost:8080/",
          "height": 138
        },
        "outputId": "949961fb-3724-4996-9342-37ffb5b04992"
      },
      "source": [
        "duration = movie['duration']\n",
        "duration.head()"
      ],
      "execution_count": null,
      "outputs": [
        {
          "output_type": "execute_result",
          "data": {
            "text/plain": [
              "title\n",
              "Avatar                                        178.0\n",
              "Pirates of the Caribbean: At World's End      169.0\n",
              "Spectre                                       148.0\n",
              "The Dark Knight Rises                         164.0\n",
              "Star Wars: Episode VII - The Force Awakens      NaN\n",
              "Name: duration, dtype: float64"
            ]
          },
          "metadata": {
            "tags": []
          },
          "execution_count": 17
        }
      ]
    },
    {
      "cell_type": "markdown",
      "metadata": {
        "id": "Sab_vTb30TWn"
      },
      "source": [
        "### Exercise 1\n",
        "\n",
        "<span  style=\"color:green; font-size:16px\">How long was the movie Titanic?</span>"
      ]
    },
    {
      "cell_type": "code",
      "metadata": {
        "id": "yAkiyg4i0TWo"
      },
      "source": [
        ""
      ],
      "execution_count": null,
      "outputs": []
    },
    {
      "cell_type": "markdown",
      "metadata": {
        "id": "WRbrF56Q0TWr"
      },
      "source": [
        "### Exercise 2\n",
        "\n",
        "<span  style=\"color:green; font-size:16px\">How long was the movie at the 999th integer location?</span>"
      ]
    },
    {
      "cell_type": "code",
      "metadata": {
        "id": "Xz_VeFaz0TWs"
      },
      "source": [
        ""
      ],
      "execution_count": null,
      "outputs": []
    },
    {
      "cell_type": "markdown",
      "metadata": {
        "id": "11m5dUm20TWu"
      },
      "source": [
        "### Exercise 3\n",
        "\n",
        "<span  style=\"color:green; font-size:16px\">Select the duration for the movies Hulk, Toy Story, and Cars.</span>"
      ]
    },
    {
      "cell_type": "code",
      "metadata": {
        "id": "lGb5oOUY0TWv"
      },
      "source": [
        ""
      ],
      "execution_count": null,
      "outputs": []
    },
    {
      "cell_type": "markdown",
      "metadata": {
        "id": "vPe2y-yA0TW0"
      },
      "source": [
        "### Exercise 4\n",
        "\n",
        "<span  style=\"color:green; font-size:16px\">Select the duration for every 100th movies from Hulk to Cars</span>"
      ]
    },
    {
      "cell_type": "code",
      "metadata": {
        "id": "TIbRbxfw0TW1"
      },
      "source": [
        ""
      ],
      "execution_count": null,
      "outputs": []
    },
    {
      "cell_type": "markdown",
      "metadata": {
        "id": "pNoTd4hr0TW3"
      },
      "source": [
        "### Exercise 5\n",
        "\n",
        "<span  style=\"color:green; font-size:16px\">Select the duration for every 10th movie beginning from the 100th from the end.</span>"
      ]
    },
    {
      "cell_type": "code",
      "metadata": {
        "id": "N3b5YKLn0TW3"
      },
      "source": [
        ""
      ],
      "execution_count": null,
      "outputs": []
    },
    {
      "cell_type": "markdown",
      "metadata": {
        "id": "hpGDkkfi0TW5"
      },
      "source": [
        "### Read in bikes dataset\n",
        "\n",
        "Read in the bikes dataset and select the `wind_speed` column by executing the cell below and use it for the rest of exercises. Notice that the index labels are integers, meaning that when you use `loc` you will be using integers."
      ]
    },
    {
      "cell_type": "code",
      "metadata": {
        "id": "bEGAwITj0TW5",
        "colab": {
          "base_uri": "https://localhost:8080/",
          "height": 121
        },
        "outputId": "42405c7e-8a90-47c5-d58b-e104f95358b9"
      },
      "source": [
        "bikes = pd.read_csv('Pandas/bikes.csv')\n",
        "wind = bikes['wind_speed']\n",
        "wind.head()"
      ],
      "execution_count": null,
      "outputs": [
        {
          "output_type": "execute_result",
          "data": {
            "text/plain": [
              "0    12.7\n",
              "1     6.9\n",
              "2    16.1\n",
              "3    16.1\n",
              "4    17.3\n",
              "Name: wind_speed, dtype: float64"
            ]
          },
          "metadata": {
            "tags": []
          },
          "execution_count": 18
        }
      ]
    },
    {
      "cell_type": "markdown",
      "metadata": {
        "id": "hHMCl0Nd0TW7"
      },
      "source": [
        "### Exercise 6\n",
        "\n",
        "<span  style=\"color:green; font-size:16px\">What kind of index does the `wind` Series have?</span>"
      ]
    },
    {
      "cell_type": "code",
      "metadata": {
        "id": "0O6b3dXn0TW8"
      },
      "source": [
        ""
      ],
      "execution_count": null,
      "outputs": []
    },
    {
      "cell_type": "markdown",
      "metadata": {
        "id": "nyxfSH680TW9"
      },
      "source": [
        "### Exercise 7\n",
        "<span  style=\"color:green; font-size:16px\">From the `wind` Series, select the integer locations 4 through, but not including 10</span>"
      ]
    },
    {
      "cell_type": "code",
      "metadata": {
        "id": "o1nwjoQP0TW-"
      },
      "source": [
        ""
      ],
      "execution_count": null,
      "outputs": []
    },
    {
      "cell_type": "markdown",
      "metadata": {
        "id": "B6TsU3uf0TXC"
      },
      "source": [
        "### Exercise 8\n",
        "\n",
        "<span  style=\"color:green; font-size:16px\">Copy and paste your answer to Exercise 7 below but use `loc` instead. Do you get the same result? Why not?</span>"
      ]
    },
    {
      "cell_type": "code",
      "metadata": {
        "id": "qhNxFvaK0TXD"
      },
      "source": [
        ""
      ],
      "execution_count": null,
      "outputs": []
    }
  ]
}