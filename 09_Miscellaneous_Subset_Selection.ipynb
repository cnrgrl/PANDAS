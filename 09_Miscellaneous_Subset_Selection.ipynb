{
  "nbformat": 4,
  "nbformat_minor": 0,
  "metadata": {
    "kernelspec": {
      "display_name": "Python 3",
      "language": "python",
      "name": "python3"
    },
    "language_info": {
      "codemirror_mode": {
        "name": "ipython",
        "version": 3
      },
      "file_extension": ".py",
      "mimetype": "text/x-python",
      "name": "python",
      "nbconvert_exporter": "python",
      "pygments_lexer": "ipython3",
      "version": "3.7.3"
    },
    "colab": {
      "name": "09. Miscellaneous Subset Selection.ipynb",
      "provenance": [],
      "include_colab_link": true
    }
  },
  "cells": [
    {
      "cell_type": "markdown",
      "metadata": {
        "id": "view-in-github",
        "colab_type": "text"
      },
      "source": [
        "<a href=\"https://colab.research.google.com/github/cnrgrl/PANDAS/blob/main/09_Miscellaneous_Subset_Selection.ipynb\" target=\"_parent\"><img src=\"https://colab.research.google.com/assets/colab-badge.svg\" alt=\"Open In Colab\"/></a>"
      ]
    },
    {
      "cell_type": "code",
      "metadata": {
        "id": "4WO-LVbe5BOc",
        "colab": {
          "base_uri": "https://localhost:8080/",
          "height": 121
        },
        "outputId": "116fbb64-bd12-42c9-e89b-f6e8f0bb11f8"
      },
      "source": [
        "# uncomment the following line, if you are using google collab\n",
        "!rm -r Pandas\n",
        "!git clone https://github.com/Wuebbelt/Pandas.git"
      ],
      "execution_count": null,
      "outputs": [
        {
          "output_type": "stream",
          "text": [
            "Cloning into 'Pandas'...\n",
            "remote: Enumerating objects: 86, done.\u001b[K\n",
            "remote: Counting objects: 100% (86/86), done.\u001b[K\n",
            "remote: Compressing objects: 100% (74/74), done.\u001b[K\n",
            "remote: Total 86 (delta 15), reused 82 (delta 11), pack-reused 0\u001b[K\n",
            "Unpacking objects: 100% (86/86), done.\n"
          ],
          "name": "stdout"
        }
      ]
    },
    {
      "cell_type": "markdown",
      "metadata": {
        "id": "_ous4XXX5AKH"
      },
      "source": [
        "# Miscellaneous Subset Selection\n",
        "\n",
        "In this chapter, a few more methods for subset selection are described. The methods used in this chapter do not add any additional functionality to pandas, but are covered for completeness.\n",
        "\n",
        "I personally do not use the methods described in this chapter and suggest that also avoid them. They are all valid syntax and some pandas users do actually use them so you may find them valuable.\n",
        "\n",
        "## Selecting a column with dot notation\n",
        "\n",
        "The best way to select a single column from a DataFrame as a Series is by placing the name of the column within *just the brackets*. There's actually an alternative way to select a single column of data and that is with dot notation. Let's read in the the `sample_data2.csv` dataset."
      ]
    },
    {
      "cell_type": "code",
      "metadata": {
        "id": "9CPUJpVM5AKP",
        "colab": {
          "base_uri": "https://localhost:8080/",
          "height": 143
        },
        "outputId": "7aec3c7f-3453-4da8-ec4a-fda63cca90fb"
      },
      "source": [
        "import pandas as pd\n",
        "df = pd.read_csv('Pandas/sample_data2.csv')\n",
        "df"
      ],
      "execution_count": null,
      "outputs": [
        {
          "output_type": "execute_result",
          "data": {
            "text/html": [
              "<div>\n",
              "<style scoped>\n",
              "    .dataframe tbody tr th:only-of-type {\n",
              "        vertical-align: middle;\n",
              "    }\n",
              "\n",
              "    .dataframe tbody tr th {\n",
              "        vertical-align: top;\n",
              "    }\n",
              "\n",
              "    .dataframe thead th {\n",
              "        text-align: right;\n",
              "    }\n",
              "</style>\n",
              "<table border=\"1\" class=\"dataframe\">\n",
              "  <thead>\n",
              "    <tr style=\"text-align: right;\">\n",
              "      <th></th>\n",
              "      <th>name</th>\n",
              "      <th>average score</th>\n",
              "      <th>max</th>\n",
              "    </tr>\n",
              "  </thead>\n",
              "  <tbody>\n",
              "    <tr>\n",
              "      <th>0</th>\n",
              "      <td>Niko</td>\n",
              "      <td>99</td>\n",
              "      <td>100</td>\n",
              "    </tr>\n",
              "    <tr>\n",
              "      <th>1</th>\n",
              "      <td>Penelope</td>\n",
              "      <td>100</td>\n",
              "      <td>102</td>\n",
              "    </tr>\n",
              "    <tr>\n",
              "      <th>2</th>\n",
              "      <td>Aria</td>\n",
              "      <td>88</td>\n",
              "      <td>93</td>\n",
              "    </tr>\n",
              "  </tbody>\n",
              "</table>\n",
              "</div>"
            ],
            "text/plain": [
              "       name  average score  max\n",
              "0      Niko             99  100\n",
              "1  Penelope            100  102\n",
              "2      Aria             88   93"
            ]
          },
          "metadata": {
            "tags": []
          },
          "execution_count": 4
        }
      ]
    },
    {
      "cell_type": "markdown",
      "metadata": {
        "id": "N3Rtus-f5AKS"
      },
      "source": [
        "Place the name of the column directly after the name dot as if it were an attribute."
      ]
    },
    {
      "cell_type": "code",
      "metadata": {
        "id": "lIyHL0NA5AKT",
        "colab": {
          "base_uri": "https://localhost:8080/",
          "height": 86
        },
        "outputId": "dd5eb220-5531-4d7a-a74c-f5c7b7243602"
      },
      "source": [
        "df.name.head()"
      ],
      "execution_count": null,
      "outputs": [
        {
          "output_type": "execute_result",
          "data": {
            "text/plain": [
              "0        Niko\n",
              "1    Penelope\n",
              "2        Aria\n",
              "Name: name, dtype: object"
            ]
          },
          "metadata": {
            "tags": []
          },
          "execution_count": 5
        }
      ]
    },
    {
      "cell_type": "markdown",
      "metadata": {
        "id": "glMFGEyf5AKW"
      },
      "source": [
        "This produces an identical result as using *just the brackets*."
      ]
    },
    {
      "cell_type": "code",
      "metadata": {
        "id": "4QON0sRH5AKW",
        "colab": {
          "base_uri": "https://localhost:8080/",
          "height": 86
        },
        "outputId": "1f336e33-e22a-4c4e-f069-8d73fa9f9ef8"
      },
      "source": [
        "df['name'].head()"
      ],
      "execution_count": null,
      "outputs": [
        {
          "output_type": "execute_result",
          "data": {
            "text/plain": [
              "0        Niko\n",
              "1    Penelope\n",
              "2        Aria\n",
              "Name: name, dtype: object"
            ]
          },
          "metadata": {
            "tags": []
          },
          "execution_count": 6
        }
      ]
    },
    {
      "cell_type": "markdown",
      "metadata": {
        "id": "3Aao0_4I5AKZ"
      },
      "source": [
        "### Avoid dot notation - use just the brackets\n",
        "\n",
        "Although this method for column selection requires less syntax and is used by many pandas users, it has many downsides. The following is a partial list of the functionality that is impossible using dot notation.\n",
        "\n",
        "* Select column names with spaces\n",
        "* Select column names that have the same name as methods\n",
        "* Select columns with variables\n",
        "\n",
        "Examples of each scenario will now be covered. Using dot notation does not allow you to select columns with spaces. Selecting the column `average score` raises a syntax error."
      ]
    },
    {
      "cell_type": "code",
      "metadata": {
        "id": "tfR3HC045AKa",
        "colab": {
          "base_uri": "https://localhost:8080/",
          "height": 131
        },
        "outputId": "6e12028c-5ef8-44e0-8397-72878b3a6c7f"
      },
      "source": [
        "df.average score"
      ],
      "execution_count": null,
      "outputs": [
        {
          "output_type": "error",
          "ename": "SyntaxError",
          "evalue": "ignored",
          "traceback": [
            "\u001b[0;36m  File \u001b[0;32m\"<ipython-input-7-53744aa263dd>\"\u001b[0;36m, line \u001b[0;32m1\u001b[0m\n\u001b[0;31m    df.average score\u001b[0m\n\u001b[0m                   ^\u001b[0m\n\u001b[0;31mSyntaxError\u001b[0m\u001b[0;31m:\u001b[0m invalid syntax\n"
          ]
        }
      ]
    },
    {
      "cell_type": "markdown",
      "metadata": {
        "id": "zO2NtAwu5AKc"
      },
      "source": [
        "The only way to select this column is with *just the brackets*."
      ]
    },
    {
      "cell_type": "code",
      "metadata": {
        "id": "uyjsX4GW5AKd",
        "colab": {
          "base_uri": "https://localhost:8080/",
          "height": 86
        },
        "outputId": "eca1fb82-f36d-48e9-be98-e8a5454cdaa6"
      },
      "source": [
        "df['average score']"
      ],
      "execution_count": null,
      "outputs": [
        {
          "output_type": "execute_result",
          "data": {
            "text/plain": [
              "0     99\n",
              "1    100\n",
              "2     88\n",
              "Name: average score, dtype: int64"
            ]
          },
          "metadata": {
            "tags": []
          },
          "execution_count": 8
        }
      ]
    },
    {
      "cell_type": "markdown",
      "metadata": {
        "id": "ZKn6rIO85AKf"
      },
      "source": [
        "Dot notation is unable to select columns that are the same name as methods. For instance, `max` is a method that all DataFrames have. In this particular DataFrame, it also the name of the column. Attempting to select it via dot notation will access the method."
      ]
    },
    {
      "cell_type": "code",
      "metadata": {
        "id": "CA6_hjk55AKg",
        "colab": {
          "base_uri": "https://localhost:8080/",
          "height": 86
        },
        "outputId": "0c50f23a-49fb-4b4b-c752-81c67250a392"
      },
      "source": [
        "df.max"
      ],
      "execution_count": null,
      "outputs": [
        {
          "output_type": "execute_result",
          "data": {
            "text/plain": [
              "<bound method DataFrame.max of        name  average score  max\n",
              "0      Niko             99  100\n",
              "1  Penelope            100  102\n",
              "2      Aria             88   93>"
            ]
          },
          "metadata": {
            "tags": []
          },
          "execution_count": 9
        }
      ]
    },
    {
      "cell_type": "markdown",
      "metadata": {
        "id": "QydUTbaK5AKi"
      },
      "source": [
        "Again, the only way to select this column is with *just the brackets*."
      ]
    },
    {
      "cell_type": "code",
      "metadata": {
        "id": "nsloqoEG5AKj",
        "colab": {
          "base_uri": "https://localhost:8080/",
          "height": 86
        },
        "outputId": "d463c784-7ebe-48db-9fd4-088f12f301ae"
      },
      "source": [
        "df['max']"
      ],
      "execution_count": null,
      "outputs": [
        {
          "output_type": "execute_result",
          "data": {
            "text/plain": [
              "0    100\n",
              "1    102\n",
              "2     93\n",
              "Name: max, dtype: int64"
            ]
          },
          "metadata": {
            "tags": []
          },
          "execution_count": 10
        }
      ]
    },
    {
      "cell_type": "markdown",
      "metadata": {
        "id": "I276CUym5AKm"
      },
      "source": [
        "Dot notation is unable to select a column using a variable name. Let's say we assign the variable `col` to the string 'name' which is the name of the first column. Attempting to select it via dot notation raises an error."
      ]
    },
    {
      "cell_type": "code",
      "metadata": {
        "id": "LCr3HASl5AKm",
        "colab": {
          "base_uri": "https://localhost:8080/",
          "height": 304
        },
        "outputId": "fa6e9871-c860-49f5-f71f-6af8b270a961"
      },
      "source": [
        "col = 'name'\n",
        "df.col"
      ],
      "execution_count": null,
      "outputs": [
        {
          "output_type": "error",
          "ename": "AttributeError",
          "evalue": "ignored",
          "traceback": [
            "\u001b[0;31m---------------------------------------------------------------------------\u001b[0m",
            "\u001b[0;31mAttributeError\u001b[0m                            Traceback (most recent call last)",
            "\u001b[0;32m<ipython-input-11-37f0fad2c2a9>\u001b[0m in \u001b[0;36m<module>\u001b[0;34m()\u001b[0m\n\u001b[1;32m      1\u001b[0m \u001b[0mcol\u001b[0m \u001b[0;34m=\u001b[0m \u001b[0;34m'name'\u001b[0m\u001b[0;34m\u001b[0m\u001b[0;34m\u001b[0m\u001b[0m\n\u001b[0;32m----> 2\u001b[0;31m \u001b[0mdf\u001b[0m\u001b[0;34m.\u001b[0m\u001b[0mcol\u001b[0m\u001b[0;34m\u001b[0m\u001b[0;34m\u001b[0m\u001b[0m\n\u001b[0m",
            "\u001b[0;32m/usr/local/lib/python3.6/dist-packages/pandas/core/generic.py\u001b[0m in \u001b[0;36m__getattr__\u001b[0;34m(self, name)\u001b[0m\n\u001b[1;32m   5177\u001b[0m             \u001b[0;32mif\u001b[0m \u001b[0mself\u001b[0m\u001b[0;34m.\u001b[0m\u001b[0m_info_axis\u001b[0m\u001b[0;34m.\u001b[0m\u001b[0m_can_hold_identifiers_and_holds_name\u001b[0m\u001b[0;34m(\u001b[0m\u001b[0mname\u001b[0m\u001b[0;34m)\u001b[0m\u001b[0;34m:\u001b[0m\u001b[0;34m\u001b[0m\u001b[0;34m\u001b[0m\u001b[0m\n\u001b[1;32m   5178\u001b[0m                 \u001b[0;32mreturn\u001b[0m \u001b[0mself\u001b[0m\u001b[0;34m[\u001b[0m\u001b[0mname\u001b[0m\u001b[0;34m]\u001b[0m\u001b[0;34m\u001b[0m\u001b[0;34m\u001b[0m\u001b[0m\n\u001b[0;32m-> 5179\u001b[0;31m             \u001b[0;32mreturn\u001b[0m \u001b[0mobject\u001b[0m\u001b[0;34m.\u001b[0m\u001b[0m__getattribute__\u001b[0m\u001b[0;34m(\u001b[0m\u001b[0mself\u001b[0m\u001b[0;34m,\u001b[0m \u001b[0mname\u001b[0m\u001b[0;34m)\u001b[0m\u001b[0;34m\u001b[0m\u001b[0;34m\u001b[0m\u001b[0m\n\u001b[0m\u001b[1;32m   5180\u001b[0m \u001b[0;34m\u001b[0m\u001b[0m\n\u001b[1;32m   5181\u001b[0m     \u001b[0;32mdef\u001b[0m \u001b[0m__setattr__\u001b[0m\u001b[0;34m(\u001b[0m\u001b[0mself\u001b[0m\u001b[0;34m,\u001b[0m \u001b[0mname\u001b[0m\u001b[0;34m,\u001b[0m \u001b[0mvalue\u001b[0m\u001b[0;34m)\u001b[0m\u001b[0;34m:\u001b[0m\u001b[0;34m\u001b[0m\u001b[0;34m\u001b[0m\u001b[0m\n",
            "\u001b[0;31mAttributeError\u001b[0m: 'DataFrame' object has no attribute 'col'"
          ]
        }
      ]
    },
    {
      "cell_type": "markdown",
      "metadata": {
        "id": "NH1ijMck5AKp"
      },
      "source": [
        "Once again, use *just the brackets*."
      ]
    },
    {
      "cell_type": "code",
      "metadata": {
        "id": "l7wwnVmz5AKq",
        "colab": {
          "base_uri": "https://localhost:8080/",
          "height": 86
        },
        "outputId": "cae38012-ef10-410e-f1e2-9556934c1c42"
      },
      "source": [
        "df[col]"
      ],
      "execution_count": null,
      "outputs": [
        {
          "output_type": "execute_result",
          "data": {
            "text/plain": [
              "0        Niko\n",
              "1    Penelope\n",
              "2        Aria\n",
              "Name: name, dtype: object"
            ]
          },
          "metadata": {
            "tags": []
          },
          "execution_count": 12
        }
      ]
    },
    {
      "cell_type": "markdown",
      "metadata": {
        "id": "IfkEbKO45AKs"
      },
      "source": [
        "## Slicing rows with just the brackets\n",
        "\n",
        "So far, we have covered three ways to select subsets of data with *just the brackets*.  You can use a single string, a list of strings, or a boolean Series. Let's quickly review those ways right now using the bikes dataset."
      ]
    },
    {
      "cell_type": "code",
      "metadata": {
        "id": "VvSXlXE_5AKt"
      },
      "source": [
        "bikes = pd.read_csv('Pandas/bikes.csv')"
      ],
      "execution_count": null,
      "outputs": []
    },
    {
      "cell_type": "markdown",
      "metadata": {
        "id": "5-CH87pq5AKu"
      },
      "source": [
        "### A single string"
      ]
    },
    {
      "cell_type": "code",
      "metadata": {
        "id": "ZfYcb39_5AKv",
        "colab": {
          "base_uri": "https://localhost:8080/",
          "height": 86
        },
        "outputId": "9cb6e58d-c56a-4e6b-b5a9-8431086feb49"
      },
      "source": [
        "bikes['tripduration'].head(3)"
      ],
      "execution_count": null,
      "outputs": [
        {
          "output_type": "execute_result",
          "data": {
            "text/plain": [
              "0     993\n",
              "1     623\n",
              "2    1040\n",
              "Name: tripduration, dtype: int64"
            ]
          },
          "metadata": {
            "tags": []
          },
          "execution_count": 14
        }
      ]
    },
    {
      "cell_type": "markdown",
      "metadata": {
        "id": "vyaoTnFy5AKx"
      },
      "source": [
        "### A list of strings"
      ]
    },
    {
      "cell_type": "code",
      "metadata": {
        "id": "sznBR5895AKy",
        "colab": {
          "base_uri": "https://localhost:8080/",
          "height": 143
        },
        "outputId": "9aef2b29-3e36-4d73-9efa-6fd2211a51ab"
      },
      "source": [
        "cols = ['trip_id', 'tripduration']\n",
        "bikes[cols].head(3)"
      ],
      "execution_count": null,
      "outputs": [
        {
          "output_type": "execute_result",
          "data": {
            "text/html": [
              "<div>\n",
              "<style scoped>\n",
              "    .dataframe tbody tr th:only-of-type {\n",
              "        vertical-align: middle;\n",
              "    }\n",
              "\n",
              "    .dataframe tbody tr th {\n",
              "        vertical-align: top;\n",
              "    }\n",
              "\n",
              "    .dataframe thead th {\n",
              "        text-align: right;\n",
              "    }\n",
              "</style>\n",
              "<table border=\"1\" class=\"dataframe\">\n",
              "  <thead>\n",
              "    <tr style=\"text-align: right;\">\n",
              "      <th></th>\n",
              "      <th>trip_id</th>\n",
              "      <th>tripduration</th>\n",
              "    </tr>\n",
              "  </thead>\n",
              "  <tbody>\n",
              "    <tr>\n",
              "      <th>0</th>\n",
              "      <td>7147</td>\n",
              "      <td>993</td>\n",
              "    </tr>\n",
              "    <tr>\n",
              "      <th>1</th>\n",
              "      <td>7524</td>\n",
              "      <td>623</td>\n",
              "    </tr>\n",
              "    <tr>\n",
              "      <th>2</th>\n",
              "      <td>10927</td>\n",
              "      <td>1040</td>\n",
              "    </tr>\n",
              "  </tbody>\n",
              "</table>\n",
              "</div>"
            ],
            "text/plain": [
              "   trip_id  tripduration\n",
              "0     7147           993\n",
              "1     7524           623\n",
              "2    10927          1040"
            ]
          },
          "metadata": {
            "tags": []
          },
          "execution_count": 15
        }
      ]
    },
    {
      "cell_type": "markdown",
      "metadata": {
        "id": "Fqfl6anA5AK0"
      },
      "source": [
        "### A boolean Series\n",
        "\n",
        "The previous two examples selected columns. Boolean Series select rows."
      ]
    },
    {
      "cell_type": "code",
      "metadata": {
        "id": "_95TkzzH5AK1",
        "colab": {
          "base_uri": "https://localhost:8080/",
          "height": 267
        },
        "outputId": "6e003b19-2b8e-475a-e574-dc2b24578a19"
      },
      "source": [
        "filt = bikes['tripduration'] > 5000\n",
        "bikes[filt].head(3)"
      ],
      "execution_count": null,
      "outputs": [
        {
          "output_type": "execute_result",
          "data": {
            "text/html": [
              "<div>\n",
              "<style scoped>\n",
              "    .dataframe tbody tr th:only-of-type {\n",
              "        vertical-align: middle;\n",
              "    }\n",
              "\n",
              "    .dataframe tbody tr th {\n",
              "        vertical-align: top;\n",
              "    }\n",
              "\n",
              "    .dataframe thead th {\n",
              "        text-align: right;\n",
              "    }\n",
              "</style>\n",
              "<table border=\"1\" class=\"dataframe\">\n",
              "  <thead>\n",
              "    <tr style=\"text-align: right;\">\n",
              "      <th></th>\n",
              "      <th>trip_id</th>\n",
              "      <th>usertype</th>\n",
              "      <th>gender</th>\n",
              "      <th>starttime</th>\n",
              "      <th>stoptime</th>\n",
              "      <th>tripduration</th>\n",
              "      <th>from_station_name</th>\n",
              "      <th>latitude_start</th>\n",
              "      <th>longitude_start</th>\n",
              "      <th>dpcapacity_start</th>\n",
              "      <th>to_station_name</th>\n",
              "      <th>latitude_end</th>\n",
              "      <th>longitude_end</th>\n",
              "      <th>dpcapacity_end</th>\n",
              "      <th>temperature</th>\n",
              "      <th>visibility</th>\n",
              "      <th>wind_speed</th>\n",
              "      <th>precipitation</th>\n",
              "      <th>events</th>\n",
              "    </tr>\n",
              "  </thead>\n",
              "  <tbody>\n",
              "    <tr>\n",
              "      <th>18</th>\n",
              "      <td>40924</td>\n",
              "      <td>Subscriber</td>\n",
              "      <td>Male</td>\n",
              "      <td>2013-07-09 13:12:00</td>\n",
              "      <td>2013-07-09 14:42:00</td>\n",
              "      <td>5396</td>\n",
              "      <td>Canal St &amp; Jackson Blvd</td>\n",
              "      <td>41.878114</td>\n",
              "      <td>-87.639971</td>\n",
              "      <td>35.0</td>\n",
              "      <td>Millennium Park</td>\n",
              "      <td>41.881032</td>\n",
              "      <td>-87.624084</td>\n",
              "      <td>35.0</td>\n",
              "      <td>79.0</td>\n",
              "      <td>10.0</td>\n",
              "      <td>13.8</td>\n",
              "      <td>0.0</td>\n",
              "      <td>cloudy</td>\n",
              "    </tr>\n",
              "    <tr>\n",
              "      <th>40</th>\n",
              "      <td>61401</td>\n",
              "      <td>Subscriber</td>\n",
              "      <td>Female</td>\n",
              "      <td>2013-07-14 14:08:00</td>\n",
              "      <td>2013-07-14 15:53:00</td>\n",
              "      <td>6274</td>\n",
              "      <td>Wabash Ave &amp; Roosevelt Rd</td>\n",
              "      <td>41.867173</td>\n",
              "      <td>-87.625955</td>\n",
              "      <td>19.0</td>\n",
              "      <td>Lake Shore Dr &amp; Monroe St</td>\n",
              "      <td>41.881050</td>\n",
              "      <td>-87.616970</td>\n",
              "      <td>11.0</td>\n",
              "      <td>87.1</td>\n",
              "      <td>10.0</td>\n",
              "      <td>8.1</td>\n",
              "      <td>-9999.0</td>\n",
              "      <td>partlycloudy</td>\n",
              "    </tr>\n",
              "    <tr>\n",
              "      <th>77</th>\n",
              "      <td>87005</td>\n",
              "      <td>Subscriber</td>\n",
              "      <td>Female</td>\n",
              "      <td>2013-07-21 11:35:00</td>\n",
              "      <td>2013-07-21 13:54:00</td>\n",
              "      <td>8299</td>\n",
              "      <td>State St &amp; 19th St</td>\n",
              "      <td>41.856594</td>\n",
              "      <td>-87.627542</td>\n",
              "      <td>15.0</td>\n",
              "      <td>Sheffield Ave &amp; Kingsbury St</td>\n",
              "      <td>41.909592</td>\n",
              "      <td>-87.653497</td>\n",
              "      <td>15.0</td>\n",
              "      <td>82.9</td>\n",
              "      <td>10.0</td>\n",
              "      <td>5.8</td>\n",
              "      <td>-9999.0</td>\n",
              "      <td>mostlycloudy</td>\n",
              "    </tr>\n",
              "  </tbody>\n",
              "</table>\n",
              "</div>"
            ],
            "text/plain": [
              "    trip_id    usertype  gender  ... wind_speed precipitation        events\n",
              "18    40924  Subscriber    Male  ...       13.8           0.0        cloudy\n",
              "40    61401  Subscriber  Female  ...        8.1       -9999.0  partlycloudy\n",
              "77    87005  Subscriber  Female  ...        5.8       -9999.0  mostlycloudy\n",
              "\n",
              "[3 rows x 19 columns]"
            ]
          },
          "metadata": {
            "tags": []
          },
          "execution_count": 16
        }
      ]
    },
    {
      "cell_type": "markdown",
      "metadata": {
        "id": "dkavvDkm5AK3"
      },
      "source": [
        "### Using a slice\n",
        "\n",
        "It is possible to use slice notation within just the brackets. For example, the following selects the rows beginning at location 2 up to location 10 with a step size of 3. You can even use slice notation when the index is strings."
      ]
    },
    {
      "cell_type": "code",
      "metadata": {
        "id": "XxQDybgI5AK4",
        "colab": {
          "base_uri": "https://localhost:8080/",
          "height": 267
        },
        "outputId": "ead57780-5bba-47cc-cff2-e54a185dcb14"
      },
      "source": [
        "bikes[2:10:3]"
      ],
      "execution_count": null,
      "outputs": [
        {
          "output_type": "execute_result",
          "data": {
            "text/html": [
              "<div>\n",
              "<style scoped>\n",
              "    .dataframe tbody tr th:only-of-type {\n",
              "        vertical-align: middle;\n",
              "    }\n",
              "\n",
              "    .dataframe tbody tr th {\n",
              "        vertical-align: top;\n",
              "    }\n",
              "\n",
              "    .dataframe thead th {\n",
              "        text-align: right;\n",
              "    }\n",
              "</style>\n",
              "<table border=\"1\" class=\"dataframe\">\n",
              "  <thead>\n",
              "    <tr style=\"text-align: right;\">\n",
              "      <th></th>\n",
              "      <th>trip_id</th>\n",
              "      <th>usertype</th>\n",
              "      <th>gender</th>\n",
              "      <th>starttime</th>\n",
              "      <th>stoptime</th>\n",
              "      <th>tripduration</th>\n",
              "      <th>from_station_name</th>\n",
              "      <th>latitude_start</th>\n",
              "      <th>longitude_start</th>\n",
              "      <th>dpcapacity_start</th>\n",
              "      <th>to_station_name</th>\n",
              "      <th>latitude_end</th>\n",
              "      <th>longitude_end</th>\n",
              "      <th>dpcapacity_end</th>\n",
              "      <th>temperature</th>\n",
              "      <th>visibility</th>\n",
              "      <th>wind_speed</th>\n",
              "      <th>precipitation</th>\n",
              "      <th>events</th>\n",
              "    </tr>\n",
              "  </thead>\n",
              "  <tbody>\n",
              "    <tr>\n",
              "      <th>2</th>\n",
              "      <td>10927</td>\n",
              "      <td>Subscriber</td>\n",
              "      <td>Male</td>\n",
              "      <td>2013-06-30 14:43:00</td>\n",
              "      <td>2013-06-30 15:01:00</td>\n",
              "      <td>1040</td>\n",
              "      <td>Sheffield Ave &amp; Kingsbury St</td>\n",
              "      <td>41.909592</td>\n",
              "      <td>-87.653497</td>\n",
              "      <td>15.0</td>\n",
              "      <td>Dearborn St &amp; Monroe St</td>\n",
              "      <td>41.881320</td>\n",
              "      <td>-87.629521</td>\n",
              "      <td>23.0</td>\n",
              "      <td>73.0</td>\n",
              "      <td>10.0</td>\n",
              "      <td>16.1</td>\n",
              "      <td>-9999.0</td>\n",
              "      <td>mostlycloudy</td>\n",
              "    </tr>\n",
              "    <tr>\n",
              "      <th>5</th>\n",
              "      <td>13595</td>\n",
              "      <td>Subscriber</td>\n",
              "      <td>Male</td>\n",
              "      <td>2013-07-01 12:37:00</td>\n",
              "      <td>2013-07-01 12:48:00</td>\n",
              "      <td>660</td>\n",
              "      <td>California Ave &amp; 21st St</td>\n",
              "      <td>41.854016</td>\n",
              "      <td>-87.695445</td>\n",
              "      <td>15.0</td>\n",
              "      <td>Clark St &amp; Wrightwood Ave</td>\n",
              "      <td>41.929546</td>\n",
              "      <td>-87.643118</td>\n",
              "      <td>15.0</td>\n",
              "      <td>73.0</td>\n",
              "      <td>10.0</td>\n",
              "      <td>17.3</td>\n",
              "      <td>-9999.0</td>\n",
              "      <td>mostlycloudy</td>\n",
              "    </tr>\n",
              "    <tr>\n",
              "      <th>8</th>\n",
              "      <td>21028</td>\n",
              "      <td>Subscriber</td>\n",
              "      <td>Male</td>\n",
              "      <td>2013-07-03 15:21:00</td>\n",
              "      <td>2013-07-03 15:42:00</td>\n",
              "      <td>1300</td>\n",
              "      <td>Clinton St &amp; Washington Blvd</td>\n",
              "      <td>41.883380</td>\n",
              "      <td>-87.641170</td>\n",
              "      <td>31.0</td>\n",
              "      <td>Wood St &amp; Division St</td>\n",
              "      <td>41.903320</td>\n",
              "      <td>-87.672730</td>\n",
              "      <td>15.0</td>\n",
              "      <td>71.1</td>\n",
              "      <td>8.0</td>\n",
              "      <td>0.0</td>\n",
              "      <td>-9999.0</td>\n",
              "      <td>cloudy</td>\n",
              "    </tr>\n",
              "  </tbody>\n",
              "</table>\n",
              "</div>"
            ],
            "text/plain": [
              "   trip_id    usertype gender  ... wind_speed precipitation        events\n",
              "2    10927  Subscriber   Male  ...       16.1       -9999.0  mostlycloudy\n",
              "5    13595  Subscriber   Male  ...       17.3       -9999.0  mostlycloudy\n",
              "8    21028  Subscriber   Male  ...        0.0       -9999.0        cloudy\n",
              "\n",
              "[3 rows x 19 columns]"
            ]
          },
          "metadata": {
            "tags": []
          },
          "execution_count": 17
        }
      ]
    },
    {
      "cell_type": "markdown",
      "metadata": {
        "id": "e20GJ6Su5AK7"
      },
      "source": [
        "### I do not recommend using slicing with *just the brackets*\n",
        "\n",
        "Although slicing with *just the brackets* seems simple, I do not recommend using it. This is because it is ambiguous and can make selections either by integer location or by label. I always prefer explicit, unambiguous methods. Both `loc` and `iloc` are unambiguous and explicit. Meaning that even without knowing anything about the DataFrame, you would be able to explain exactly how the selection will take place. If you do want to slice the rows, then use `loc` if you are using labels or `iloc` if you are using integer location, but do not use *just the brackets*.\n",
        "\n",
        "## Selecting a single cell with `at` and `iat`\n",
        "\n",
        "pandas provides two more rarely seen indexers, `at`, and `iat`. These indexers are analogous to `loc` and `iloc` respectively, but only select a single cell of a DataFrame. Since they only select a single cell, you must pass both a row and column selection as either a label (`loc`) or an integer location (`iloc`). Let's see an example of each."
      ]
    },
    {
      "cell_type": "code",
      "metadata": {
        "id": "9Vu5gpyy5AK7",
        "colab": {
          "base_uri": "https://localhost:8080/",
          "height": 34
        },
        "outputId": "66925d8d-b2c9-461a-970f-25255aa81915"
      },
      "source": [
        "bikes.at[40, 'temperature']"
      ],
      "execution_count": null,
      "outputs": [
        {
          "output_type": "execute_result",
          "data": {
            "text/plain": [
              "87.1"
            ]
          },
          "metadata": {
            "tags": []
          },
          "execution_count": 18
        }
      ]
    },
    {
      "cell_type": "code",
      "metadata": {
        "id": "nJgMFqZs5AK9",
        "colab": {
          "base_uri": "https://localhost:8080/",
          "height": 34
        },
        "outputId": "996fef01-5f8f-466c-db09-021393a43d7d"
      },
      "source": [
        "bikes.iat[-30, 5]"
      ],
      "execution_count": null,
      "outputs": [
        {
          "output_type": "execute_result",
          "data": {
            "text/plain": [
              "389"
            ]
          },
          "metadata": {
            "tags": []
          },
          "execution_count": 19
        }
      ]
    },
    {
      "cell_type": "markdown",
      "metadata": {
        "id": "wddvvHwM5ALB"
      },
      "source": [
        "The current index labels for `bikes` is integers which is why the number 40 was used above. It is the label for a row, but also happens to be an integer.\n",
        "\n",
        "### What's the purpose of these indexers?\n",
        "\n",
        "All usages of `at` and `iat` may be replaced with `loc` and `iloc` and would produce the exact same results. These `at` and `iat` indexers are optimized to select a single cell of data and therefore provide slightly better performance than `loc` or `iloc`. Let's verify this below."
      ]
    },
    {
      "cell_type": "code",
      "metadata": {
        "id": "qfN9mRVF5ALC",
        "colab": {
          "base_uri": "https://localhost:8080/",
          "height": 34
        },
        "outputId": "b0dd3f86-e881-46ef-ddd5-806ca4ce3825"
      },
      "source": [
        "bikes.loc[40, 'temperature']"
      ],
      "execution_count": null,
      "outputs": [
        {
          "output_type": "execute_result",
          "data": {
            "text/plain": [
              "87.1"
            ]
          },
          "metadata": {
            "tags": []
          },
          "execution_count": 20
        }
      ]
    },
    {
      "cell_type": "code",
      "metadata": {
        "id": "ZOAerub35ALH",
        "colab": {
          "base_uri": "https://localhost:8080/",
          "height": 34
        },
        "outputId": "7349301e-9fe5-49df-8c26-ed7669868c64"
      },
      "source": [
        "bikes.iloc[-30, 5]"
      ],
      "execution_count": null,
      "outputs": [
        {
          "output_type": "execute_result",
          "data": {
            "text/plain": [
              "389"
            ]
          },
          "metadata": {
            "tags": []
          },
          "execution_count": 21
        }
      ]
    },
    {
      "cell_type": "markdown",
      "metadata": {
        "id": "oyDte5MF5ALJ"
      },
      "source": [
        "### I never use these indexers\n",
        "\n",
        "Personally, I never use these specialty indexers as the performance advantage for a single selection is minor. It would require a case where single element selections were happening in great numbers to see any significant improvement and doing so is rare in data analysis.\n",
        "\n",
        "### Much bigger performance improvement using numpy directly\n",
        "\n",
        "If you truly wanted a large performance improvement for single-cell selection, you would select directly from numpy arrays and not a pandas DataFrame. Below, the data is extracted into the underlying numpy array with the `values` attribute. We then time the performance for selecting with numpy and also with `iat` and `iloc` on a DataFrame. On my machine, `iat` shows a 30-40% improvement over `iloc`, but selecting with numpy is about 50x as fast. There is no comparison here, if you care about performance for selecting a single cell of data, use numpy."
      ]
    },
    {
      "cell_type": "code",
      "metadata": {
        "id": "a6xn9GNu5ALJ"
      },
      "source": [
        "values = bikes.values"
      ],
      "execution_count": null,
      "outputs": []
    },
    {
      "cell_type": "code",
      "metadata": {
        "id": "U_hfH9nb5ALL",
        "colab": {
          "base_uri": "https://localhost:8080/",
          "height": 51
        },
        "outputId": "bc9c563b-3b2d-46a2-8cc2-37f52c15b12c"
      },
      "source": [
        "%timeit -n 5 values[-30, 5]"
      ],
      "execution_count": null,
      "outputs": [
        {
          "output_type": "stream",
          "text": [
            "The slowest run took 6.17 times longer than the fastest. This could mean that an intermediate result is being cached.\n",
            "5 loops, best of 3: 206 ns per loop\n"
          ],
          "name": "stdout"
        }
      ]
    },
    {
      "cell_type": "code",
      "metadata": {
        "id": "IULuifnw5ALN",
        "colab": {
          "base_uri": "https://localhost:8080/",
          "height": 51
        },
        "outputId": "5a96a99a-8bff-4a5f-890d-6e52702d9406"
      },
      "source": [
        "%timeit -n 5 bikes.iat[-30, 5]"
      ],
      "execution_count": null,
      "outputs": [
        {
          "output_type": "stream",
          "text": [
            "The slowest run took 8.31 times longer than the fastest. This could mean that an intermediate result is being cached.\n",
            "5 loops, best of 3: 9.25 µs per loop\n"
          ],
          "name": "stdout"
        }
      ]
    },
    {
      "cell_type": "code",
      "metadata": {
        "id": "CvddpQmQ5ALP",
        "colab": {
          "base_uri": "https://localhost:8080/",
          "height": 34
        },
        "outputId": "6892173d-8fd8-475e-fa0e-bbe0527d845b"
      },
      "source": [
        "%timeit -n 5 bikes.iloc[-30, 5]"
      ],
      "execution_count": null,
      "outputs": [
        {
          "output_type": "stream",
          "text": [
            "5 loops, best of 3: 7.54 µs per loop\n"
          ],
          "name": "stdout"
        }
      ]
    }
  ]
}