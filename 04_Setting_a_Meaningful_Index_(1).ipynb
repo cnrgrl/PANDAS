{
  "nbformat": 4,
  "nbformat_minor": 0,
  "metadata": {
    "kernelspec": {
      "display_name": "Python 3",
      "language": "python",
      "name": "python3"
    },
    "language_info": {
      "codemirror_mode": {
        "name": "ipython",
        "version": 3
      },
      "file_extension": ".py",
      "mimetype": "text/x-python",
      "name": "python",
      "nbconvert_exporter": "python",
      "pygments_lexer": "ipython3",
      "version": "3.7.3"
    },
    "varInspector": {
      "cols": {
        "lenName": 16,
        "lenType": 16,
        "lenVar": 40
      },
      "kernels_config": {
        "python": {
          "delete_cmd_postfix": "",
          "delete_cmd_prefix": "del ",
          "library": "var_list.py",
          "varRefreshCmd": "print(var_dic_list())"
        },
        "r": {
          "delete_cmd_postfix": ") ",
          "delete_cmd_prefix": "rm(",
          "library": "var_list.r",
          "varRefreshCmd": "cat(var_dic_list()) "
        }
      },
      "types_to_exclude": [
        "module",
        "function",
        "builtin_function_or_method",
        "instance",
        "_Feature"
      ],
      "window_display": false
    },
    "colab": {
      "name": "04. Setting a Meaningful Index (1).ipynb",
      "provenance": [],
      "include_colab_link": true
    }
  },
  "cells": [
    {
      "cell_type": "markdown",
      "metadata": {
        "id": "view-in-github",
        "colab_type": "text"
      },
      "source": [
        "<a href=\"https://colab.research.google.com/github/cnrgrl/PANDAS/blob/main/04_Setting_a_Meaningful_Index_(1).ipynb\" target=\"_parent\"><img src=\"https://colab.research.google.com/assets/colab-badge.svg\" alt=\"Open In Colab\"/></a>"
      ]
    },
    {
      "cell_type": "code",
      "metadata": {
        "id": "3JnhKKGGtKfQ",
        "colab": {
          "base_uri": "https://localhost:8080/",
          "height": 121
        },
        "outputId": "9c034fbd-fc54-45a7-c331-8ec8e9c8f6c5"
      },
      "source": [
        "# uncomment the following line, if you are using google collab\n",
        "!rm -r Pandas\n",
        "!git clone https://github.com/Wuebbelt/Pandas.git"
      ],
      "execution_count": null,
      "outputs": [
        {
          "output_type": "stream",
          "text": [
            "Cloning into 'Pandas'...\n",
            "remote: Enumerating objects: 77, done.\u001b[K\n",
            "remote: Counting objects:   1% (1/77)\u001b[K\rremote: Counting objects:   2% (2/77)\u001b[K\rremote: Counting objects:   3% (3/77)\u001b[K\rremote: Counting objects:   5% (4/77)\u001b[K\rremote: Counting objects:   6% (5/77)\u001b[K\rremote: Counting objects:   7% (6/77)\u001b[K\rremote: Counting objects:   9% (7/77)\u001b[K\rremote: Counting objects:  10% (8/77)\u001b[K\rremote: Counting objects:  11% (9/77)\u001b[K\rremote: Counting objects:  12% (10/77)\u001b[K\rremote: Counting objects:  14% (11/77)\u001b[K\rremote: Counting objects:  15% (12/77)\u001b[K\rremote: Counting objects:  16% (13/77)\u001b[K\rremote: Counting objects:  18% (14/77)\u001b[K\rremote: Counting objects:  19% (15/77)\u001b[K\rremote: Counting objects:  20% (16/77)\u001b[K\rremote: Counting objects:  22% (17/77)\u001b[K\rremote: Counting objects:  23% (18/77)\u001b[K\rremote: Counting objects:  24% (19/77)\u001b[K\rremote: Counting objects:  25% (20/77)\u001b[K\rremote: Counting objects:  27% (21/77)\u001b[K\rremote: Counting objects:  28% (22/77)\u001b[K\rremote: Counting objects:  29% (23/77)\u001b[K\rremote: Counting objects:  31% (24/77)\u001b[K\rremote: Counting objects:  32% (25/77)\u001b[K\rremote: Counting objects:  33% (26/77)\u001b[K\rremote: Counting objects:  35% (27/77)\u001b[K\rremote: Counting objects:  36% (28/77)\u001b[K\rremote: Counting objects:  37% (29/77)\u001b[K\rremote: Counting objects:  38% (30/77)\u001b[K\rremote: Counting objects:  40% (31/77)\u001b[K\rremote: Counting objects:  41% (32/77)\u001b[K\rremote: Counting objects:  42% (33/77)\u001b[K\rremote: Counting objects:  44% (34/77)\u001b[K\rremote: Counting objects:  45% (35/77)\u001b[K\rremote: Counting objects:  46% (36/77)\u001b[K\rremote: Counting objects:  48% (37/77)\u001b[K\rremote: Counting objects:  49% (38/77)\u001b[K\rremote: Counting objects:  50% (39/77)\u001b[K\rremote: Counting objects:  51% (40/77)\u001b[K\rremote: Counting objects:  53% (41/77)\u001b[K\rremote: Counting objects:  54% (42/77)\u001b[K\rremote: Counting objects:  55% (43/77)\u001b[K\rremote: Counting objects:  57% (44/77)\u001b[K\rremote: Counting objects:  58% (45/77)\u001b[K\rremote: Counting objects:  59% (46/77)\u001b[K\rremote: Counting objects:  61% (47/77)\u001b[K\rremote: Counting objects:  62% (48/77)\u001b[K\rremote: Counting objects:  63% (49/77)\u001b[K\rremote: Counting objects:  64% (50/77)\u001b[K\rremote: Counting objects:  66% (51/77)\u001b[K\rremote: Counting objects:  67% (52/77)\u001b[K\rremote: Counting objects:  68% (53/77)\u001b[K\rremote: Counting objects:  70% (54/77)\u001b[K\rremote: Counting objects:  71% (55/77)\u001b[K\rremote: Counting objects:  72% (56/77)\u001b[K\rremote: Counting objects:  74% (57/77)\u001b[K\rremote: Counting objects:  75% (58/77)\u001b[K\rremote: Counting objects:  76% (59/77)\u001b[K\rremote: Counting objects:  77% (60/77)\u001b[K\rremote: Counting objects:  79% (61/77)\u001b[K\rremote: Counting objects:  80% (62/77)\u001b[K\rremote: Counting objects:  81% (63/77)\u001b[K\rremote: Counting objects:  83% (64/77)\u001b[K\rremote: Counting objects:  84% (65/77)\u001b[K\rremote: Counting objects:  85% (66/77)\u001b[K\rremote: Counting objects:  87% (67/77)\u001b[K\rremote: Counting objects:  88% (68/77)\u001b[K\rremote: Counting objects:  89% (69/77)\u001b[K\rremote: Counting objects:  90% (70/77)\u001b[K\rremote: Counting objects:  92% (71/77)\u001b[K\rremote: Counting objects:  93% (72/77)\u001b[K\rremote: Counting objects:  94% (73/77)\u001b[K\rremote: Counting objects:  96% (74/77)\u001b[K\rremote: Counting objects:  97% (75/77)\u001b[K\rremote: Counting objects:  98% (76/77)\u001b[K\rremote: Counting objects: 100% (77/77)\u001b[K\rremote: Counting objects: 100% (77/77), done.\u001b[K\n",
            "remote: Compressing objects: 100% (66/66), done.\u001b[K\n",
            "remote: Total 77 (delta 12), reused 75 (delta 10), pack-reused 0\u001b[K\n",
            "Unpacking objects: 100% (77/77), done.\n"
          ],
          "name": "stdout"
        }
      ]
    },
    {
      "cell_type": "markdown",
      "metadata": {
        "id": "k2gcV3ZltFhN"
      },
      "source": [
        "# Setting a Meaningful Index\n",
        "\n",
        "The index of a DataFrame provides a label for each of the rows. If not explicitly provided, pandas uses the sequence of consecutive integers beginning at 0 as the index. In this chapter, we learn how to set one of the columns of the DataFrame as the new index so that it provides a more meaningful label for each row.\n",
        "\n",
        "## Setting an index of a DataFrame\n",
        "\n",
        "Instead of using the default index for your pandas DataFrame, you can use the `set_index` method to use one of the columns as the index. Let's read in a small dataset to show how this is done."
      ]
    },
    {
      "cell_type": "code",
      "metadata": {
        "id": "qkDL9MuQtFhQ",
        "colab": {
          "base_uri": "https://localhost:8080/",
          "height": 268
        },
        "outputId": "83e8d961-a06f-4968-a51c-e72f61a204a1"
      },
      "source": [
        "import pandas as pd\n",
        "df = pd.read_csv('Pandas/sample_data.csv')\n",
        "df"
      ],
      "execution_count": null,
      "outputs": [
        {
          "output_type": "execute_result",
          "data": {
            "text/html": [
              "<div>\n",
              "<style scoped>\n",
              "    .dataframe tbody tr th:only-of-type {\n",
              "        vertical-align: middle;\n",
              "    }\n",
              "\n",
              "    .dataframe tbody tr th {\n",
              "        vertical-align: top;\n",
              "    }\n",
              "\n",
              "    .dataframe thead th {\n",
              "        text-align: right;\n",
              "    }\n",
              "</style>\n",
              "<table border=\"1\" class=\"dataframe\">\n",
              "  <thead>\n",
              "    <tr style=\"text-align: right;\">\n",
              "      <th></th>\n",
              "      <th>name</th>\n",
              "      <th>state</th>\n",
              "      <th>color</th>\n",
              "      <th>food</th>\n",
              "      <th>age</th>\n",
              "      <th>height</th>\n",
              "      <th>score</th>\n",
              "    </tr>\n",
              "  </thead>\n",
              "  <tbody>\n",
              "    <tr>\n",
              "      <th>0</th>\n",
              "      <td>Jane</td>\n",
              "      <td>NY</td>\n",
              "      <td>blue</td>\n",
              "      <td>Steak</td>\n",
              "      <td>30</td>\n",
              "      <td>165</td>\n",
              "      <td>4.6</td>\n",
              "    </tr>\n",
              "    <tr>\n",
              "      <th>1</th>\n",
              "      <td>Niko</td>\n",
              "      <td>TX</td>\n",
              "      <td>green</td>\n",
              "      <td>Lamb</td>\n",
              "      <td>2</td>\n",
              "      <td>70</td>\n",
              "      <td>8.3</td>\n",
              "    </tr>\n",
              "    <tr>\n",
              "      <th>2</th>\n",
              "      <td>Aaron</td>\n",
              "      <td>FL</td>\n",
              "      <td>red</td>\n",
              "      <td>Mango</td>\n",
              "      <td>12</td>\n",
              "      <td>120</td>\n",
              "      <td>9.0</td>\n",
              "    </tr>\n",
              "    <tr>\n",
              "      <th>3</th>\n",
              "      <td>Penelope</td>\n",
              "      <td>AL</td>\n",
              "      <td>white</td>\n",
              "      <td>Apple</td>\n",
              "      <td>4</td>\n",
              "      <td>80</td>\n",
              "      <td>3.3</td>\n",
              "    </tr>\n",
              "    <tr>\n",
              "      <th>4</th>\n",
              "      <td>Dean</td>\n",
              "      <td>AK</td>\n",
              "      <td>gray</td>\n",
              "      <td>Cheese</td>\n",
              "      <td>32</td>\n",
              "      <td>180</td>\n",
              "      <td>1.8</td>\n",
              "    </tr>\n",
              "    <tr>\n",
              "      <th>5</th>\n",
              "      <td>Christina</td>\n",
              "      <td>TX</td>\n",
              "      <td>black</td>\n",
              "      <td>Melon</td>\n",
              "      <td>33</td>\n",
              "      <td>172</td>\n",
              "      <td>9.5</td>\n",
              "    </tr>\n",
              "    <tr>\n",
              "      <th>6</th>\n",
              "      <td>Cornelia</td>\n",
              "      <td>TX</td>\n",
              "      <td>red</td>\n",
              "      <td>Beans</td>\n",
              "      <td>69</td>\n",
              "      <td>150</td>\n",
              "      <td>2.2</td>\n",
              "    </tr>\n",
              "  </tbody>\n",
              "</table>\n",
              "</div>"
            ],
            "text/plain": [
              "        name state  color    food  age  height  score\n",
              "0       Jane    NY   blue   Steak   30     165    4.6\n",
              "1       Niko    TX  green    Lamb    2      70    8.3\n",
              "2      Aaron    FL    red   Mango   12     120    9.0\n",
              "3   Penelope    AL  white   Apple    4      80    3.3\n",
              "4       Dean    AK   gray  Cheese   32     180    1.8\n",
              "5  Christina    TX  black   Melon   33     172    9.5\n",
              "6   Cornelia    TX    red   Beans   69     150    2.2"
            ]
          },
          "metadata": {
            "tags": []
          },
          "execution_count": 25
        }
      ]
    },
    {
      "cell_type": "markdown",
      "metadata": {
        "id": "fewyEguEtFhT"
      },
      "source": [
        "### The `set_index` method\n",
        "\n",
        "Pass the `set_index` method the name of the column to use it as the index. This column is no longer part of the data of the returned DataFrame."
      ]
    },
    {
      "cell_type": "code",
      "metadata": {
        "id": "62u5x2MPtFhU",
        "colab": {
          "base_uri": "https://localhost:8080/",
          "height": 300
        },
        "outputId": "1ca415d8-fd46-4ae7-a64a-4fa91cd5856a"
      },
      "source": [
        "df.set_index('name')"
      ],
      "execution_count": null,
      "outputs": [
        {
          "output_type": "execute_result",
          "data": {
            "text/html": [
              "<div>\n",
              "<style scoped>\n",
              "    .dataframe tbody tr th:only-of-type {\n",
              "        vertical-align: middle;\n",
              "    }\n",
              "\n",
              "    .dataframe tbody tr th {\n",
              "        vertical-align: top;\n",
              "    }\n",
              "\n",
              "    .dataframe thead th {\n",
              "        text-align: right;\n",
              "    }\n",
              "</style>\n",
              "<table border=\"1\" class=\"dataframe\">\n",
              "  <thead>\n",
              "    <tr style=\"text-align: right;\">\n",
              "      <th></th>\n",
              "      <th>state</th>\n",
              "      <th>color</th>\n",
              "      <th>food</th>\n",
              "      <th>age</th>\n",
              "      <th>height</th>\n",
              "      <th>score</th>\n",
              "    </tr>\n",
              "    <tr>\n",
              "      <th>name</th>\n",
              "      <th></th>\n",
              "      <th></th>\n",
              "      <th></th>\n",
              "      <th></th>\n",
              "      <th></th>\n",
              "      <th></th>\n",
              "    </tr>\n",
              "  </thead>\n",
              "  <tbody>\n",
              "    <tr>\n",
              "      <th>Jane</th>\n",
              "      <td>NY</td>\n",
              "      <td>blue</td>\n",
              "      <td>Steak</td>\n",
              "      <td>30</td>\n",
              "      <td>165</td>\n",
              "      <td>4.6</td>\n",
              "    </tr>\n",
              "    <tr>\n",
              "      <th>Niko</th>\n",
              "      <td>TX</td>\n",
              "      <td>green</td>\n",
              "      <td>Lamb</td>\n",
              "      <td>2</td>\n",
              "      <td>70</td>\n",
              "      <td>8.3</td>\n",
              "    </tr>\n",
              "    <tr>\n",
              "      <th>Aaron</th>\n",
              "      <td>FL</td>\n",
              "      <td>red</td>\n",
              "      <td>Mango</td>\n",
              "      <td>12</td>\n",
              "      <td>120</td>\n",
              "      <td>9.0</td>\n",
              "    </tr>\n",
              "    <tr>\n",
              "      <th>Penelope</th>\n",
              "      <td>AL</td>\n",
              "      <td>white</td>\n",
              "      <td>Apple</td>\n",
              "      <td>4</td>\n",
              "      <td>80</td>\n",
              "      <td>3.3</td>\n",
              "    </tr>\n",
              "    <tr>\n",
              "      <th>Dean</th>\n",
              "      <td>AK</td>\n",
              "      <td>gray</td>\n",
              "      <td>Cheese</td>\n",
              "      <td>32</td>\n",
              "      <td>180</td>\n",
              "      <td>1.8</td>\n",
              "    </tr>\n",
              "    <tr>\n",
              "      <th>Christina</th>\n",
              "      <td>TX</td>\n",
              "      <td>black</td>\n",
              "      <td>Melon</td>\n",
              "      <td>33</td>\n",
              "      <td>172</td>\n",
              "      <td>9.5</td>\n",
              "    </tr>\n",
              "    <tr>\n",
              "      <th>Cornelia</th>\n",
              "      <td>TX</td>\n",
              "      <td>red</td>\n",
              "      <td>Beans</td>\n",
              "      <td>69</td>\n",
              "      <td>150</td>\n",
              "      <td>2.2</td>\n",
              "    </tr>\n",
              "  </tbody>\n",
              "</table>\n",
              "</div>"
            ],
            "text/plain": [
              "          state  color    food  age  height  score\n",
              "name                                              \n",
              "Jane         NY   blue   Steak   30     165    4.6\n",
              "Niko         TX  green    Lamb    2      70    8.3\n",
              "Aaron        FL    red   Mango   12     120    9.0\n",
              "Penelope     AL  white   Apple    4      80    3.3\n",
              "Dean         AK   gray  Cheese   32     180    1.8\n",
              "Christina    TX  black   Melon   33     172    9.5\n",
              "Cornelia     TX    red   Beans   69     150    2.2"
            ]
          },
          "metadata": {
            "tags": []
          },
          "execution_count": 26
        }
      ]
    },
    {
      "cell_type": "markdown",
      "metadata": {
        "id": "cZ1aFeUytFhX"
      },
      "source": [
        "### A new DataFrame copy is returned\n",
        "\n",
        "The `set_index` method returns an entire new DataFrame copy by default and does not modify the original calling DataFrame. Let's verify this by outputting the original DataFrame."
      ]
    },
    {
      "cell_type": "code",
      "metadata": {
        "id": "C-zPbVTttFhY",
        "colab": {
          "base_uri": "https://localhost:8080/",
          "height": 268
        },
        "outputId": "79db6a6b-63ca-4b47-f341-040898e7dda8"
      },
      "source": [
        "df"
      ],
      "execution_count": null,
      "outputs": [
        {
          "output_type": "execute_result",
          "data": {
            "text/html": [
              "<div>\n",
              "<style scoped>\n",
              "    .dataframe tbody tr th:only-of-type {\n",
              "        vertical-align: middle;\n",
              "    }\n",
              "\n",
              "    .dataframe tbody tr th {\n",
              "        vertical-align: top;\n",
              "    }\n",
              "\n",
              "    .dataframe thead th {\n",
              "        text-align: right;\n",
              "    }\n",
              "</style>\n",
              "<table border=\"1\" class=\"dataframe\">\n",
              "  <thead>\n",
              "    <tr style=\"text-align: right;\">\n",
              "      <th></th>\n",
              "      <th>name</th>\n",
              "      <th>state</th>\n",
              "      <th>color</th>\n",
              "      <th>food</th>\n",
              "      <th>age</th>\n",
              "      <th>height</th>\n",
              "      <th>score</th>\n",
              "    </tr>\n",
              "  </thead>\n",
              "  <tbody>\n",
              "    <tr>\n",
              "      <th>0</th>\n",
              "      <td>Jane</td>\n",
              "      <td>NY</td>\n",
              "      <td>blue</td>\n",
              "      <td>Steak</td>\n",
              "      <td>30</td>\n",
              "      <td>165</td>\n",
              "      <td>4.6</td>\n",
              "    </tr>\n",
              "    <tr>\n",
              "      <th>1</th>\n",
              "      <td>Niko</td>\n",
              "      <td>TX</td>\n",
              "      <td>green</td>\n",
              "      <td>Lamb</td>\n",
              "      <td>2</td>\n",
              "      <td>70</td>\n",
              "      <td>8.3</td>\n",
              "    </tr>\n",
              "    <tr>\n",
              "      <th>2</th>\n",
              "      <td>Aaron</td>\n",
              "      <td>FL</td>\n",
              "      <td>red</td>\n",
              "      <td>Mango</td>\n",
              "      <td>12</td>\n",
              "      <td>120</td>\n",
              "      <td>9.0</td>\n",
              "    </tr>\n",
              "    <tr>\n",
              "      <th>3</th>\n",
              "      <td>Penelope</td>\n",
              "      <td>AL</td>\n",
              "      <td>white</td>\n",
              "      <td>Apple</td>\n",
              "      <td>4</td>\n",
              "      <td>80</td>\n",
              "      <td>3.3</td>\n",
              "    </tr>\n",
              "    <tr>\n",
              "      <th>4</th>\n",
              "      <td>Dean</td>\n",
              "      <td>AK</td>\n",
              "      <td>gray</td>\n",
              "      <td>Cheese</td>\n",
              "      <td>32</td>\n",
              "      <td>180</td>\n",
              "      <td>1.8</td>\n",
              "    </tr>\n",
              "    <tr>\n",
              "      <th>5</th>\n",
              "      <td>Christina</td>\n",
              "      <td>TX</td>\n",
              "      <td>black</td>\n",
              "      <td>Melon</td>\n",
              "      <td>33</td>\n",
              "      <td>172</td>\n",
              "      <td>9.5</td>\n",
              "    </tr>\n",
              "    <tr>\n",
              "      <th>6</th>\n",
              "      <td>Cornelia</td>\n",
              "      <td>TX</td>\n",
              "      <td>red</td>\n",
              "      <td>Beans</td>\n",
              "      <td>69</td>\n",
              "      <td>150</td>\n",
              "      <td>2.2</td>\n",
              "    </tr>\n",
              "  </tbody>\n",
              "</table>\n",
              "</div>"
            ],
            "text/plain": [
              "        name state  color    food  age  height  score\n",
              "0       Jane    NY   blue   Steak   30     165    4.6\n",
              "1       Niko    TX  green    Lamb    2      70    8.3\n",
              "2      Aaron    FL    red   Mango   12     120    9.0\n",
              "3   Penelope    AL  white   Apple    4      80    3.3\n",
              "4       Dean    AK   gray  Cheese   32     180    1.8\n",
              "5  Christina    TX  black   Melon   33     172    9.5\n",
              "6   Cornelia    TX    red   Beans   69     150    2.2"
            ]
          },
          "metadata": {
            "tags": []
          },
          "execution_count": 27
        }
      ]
    },
    {
      "cell_type": "markdown",
      "metadata": {
        "id": "BvygGEoDtFhd"
      },
      "source": [
        "### Assigning the result of `set_index` to a variable name\n",
        "\n",
        "We must assign the result of the `set_index` method to a variable name if we are to use this new DataFrame with new index."
      ]
    },
    {
      "cell_type": "code",
      "metadata": {
        "id": "ms7eHnRKtFhe",
        "colab": {
          "base_uri": "https://localhost:8080/",
          "height": 300
        },
        "outputId": "0d3b4116-ad81-45d6-9cdc-d2c5b3786554"
      },
      "source": [
        "df2 = df.set_index('name')\n",
        "df2"
      ],
      "execution_count": null,
      "outputs": [
        {
          "output_type": "execute_result",
          "data": {
            "text/html": [
              "<div>\n",
              "<style scoped>\n",
              "    .dataframe tbody tr th:only-of-type {\n",
              "        vertical-align: middle;\n",
              "    }\n",
              "\n",
              "    .dataframe tbody tr th {\n",
              "        vertical-align: top;\n",
              "    }\n",
              "\n",
              "    .dataframe thead th {\n",
              "        text-align: right;\n",
              "    }\n",
              "</style>\n",
              "<table border=\"1\" class=\"dataframe\">\n",
              "  <thead>\n",
              "    <tr style=\"text-align: right;\">\n",
              "      <th></th>\n",
              "      <th>state</th>\n",
              "      <th>color</th>\n",
              "      <th>food</th>\n",
              "      <th>age</th>\n",
              "      <th>height</th>\n",
              "      <th>score</th>\n",
              "    </tr>\n",
              "    <tr>\n",
              "      <th>name</th>\n",
              "      <th></th>\n",
              "      <th></th>\n",
              "      <th></th>\n",
              "      <th></th>\n",
              "      <th></th>\n",
              "      <th></th>\n",
              "    </tr>\n",
              "  </thead>\n",
              "  <tbody>\n",
              "    <tr>\n",
              "      <th>Jane</th>\n",
              "      <td>NY</td>\n",
              "      <td>blue</td>\n",
              "      <td>Steak</td>\n",
              "      <td>30</td>\n",
              "      <td>165</td>\n",
              "      <td>4.6</td>\n",
              "    </tr>\n",
              "    <tr>\n",
              "      <th>Niko</th>\n",
              "      <td>TX</td>\n",
              "      <td>green</td>\n",
              "      <td>Lamb</td>\n",
              "      <td>2</td>\n",
              "      <td>70</td>\n",
              "      <td>8.3</td>\n",
              "    </tr>\n",
              "    <tr>\n",
              "      <th>Aaron</th>\n",
              "      <td>FL</td>\n",
              "      <td>red</td>\n",
              "      <td>Mango</td>\n",
              "      <td>12</td>\n",
              "      <td>120</td>\n",
              "      <td>9.0</td>\n",
              "    </tr>\n",
              "    <tr>\n",
              "      <th>Penelope</th>\n",
              "      <td>AL</td>\n",
              "      <td>white</td>\n",
              "      <td>Apple</td>\n",
              "      <td>4</td>\n",
              "      <td>80</td>\n",
              "      <td>3.3</td>\n",
              "    </tr>\n",
              "    <tr>\n",
              "      <th>Dean</th>\n",
              "      <td>AK</td>\n",
              "      <td>gray</td>\n",
              "      <td>Cheese</td>\n",
              "      <td>32</td>\n",
              "      <td>180</td>\n",
              "      <td>1.8</td>\n",
              "    </tr>\n",
              "    <tr>\n",
              "      <th>Christina</th>\n",
              "      <td>TX</td>\n",
              "      <td>black</td>\n",
              "      <td>Melon</td>\n",
              "      <td>33</td>\n",
              "      <td>172</td>\n",
              "      <td>9.5</td>\n",
              "    </tr>\n",
              "    <tr>\n",
              "      <th>Cornelia</th>\n",
              "      <td>TX</td>\n",
              "      <td>red</td>\n",
              "      <td>Beans</td>\n",
              "      <td>69</td>\n",
              "      <td>150</td>\n",
              "      <td>2.2</td>\n",
              "    </tr>\n",
              "  </tbody>\n",
              "</table>\n",
              "</div>"
            ],
            "text/plain": [
              "          state  color    food  age  height  score\n",
              "name                                              \n",
              "Jane         NY   blue   Steak   30     165    4.6\n",
              "Niko         TX  green    Lamb    2      70    8.3\n",
              "Aaron        FL    red   Mango   12     120    9.0\n",
              "Penelope     AL  white   Apple    4      80    3.3\n",
              "Dean         AK   gray  Cheese   32     180    1.8\n",
              "Christina    TX  black   Melon   33     172    9.5\n",
              "Cornelia     TX    red   Beans   69     150    2.2"
            ]
          },
          "metadata": {
            "tags": []
          },
          "execution_count": 28
        }
      ]
    },
    {
      "cell_type": "markdown",
      "metadata": {
        "id": "ZWc_ExS6tFhg"
      },
      "source": [
        "### Number of columns decreased\n",
        "\n",
        "The new DataFrame, `df2`, has one less column than the original as the `name` column was set as the index. Let's verify this:"
      ]
    },
    {
      "cell_type": "code",
      "metadata": {
        "id": "CkJgsRTRtFhi",
        "colab": {
          "base_uri": "https://localhost:8080/",
          "height": 34
        },
        "outputId": "6db64ea1-cf5f-468f-eec7-4e0e9c67b9f8"
      },
      "source": [
        "df.shape"
      ],
      "execution_count": null,
      "outputs": [
        {
          "output_type": "execute_result",
          "data": {
            "text/plain": [
              "(7, 7)"
            ]
          },
          "metadata": {
            "tags": []
          },
          "execution_count": 29
        }
      ]
    },
    {
      "cell_type": "code",
      "metadata": {
        "id": "Nsp3_5qStFhl",
        "colab": {
          "base_uri": "https://localhost:8080/",
          "height": 34
        },
        "outputId": "2f93a9e6-ed45-4fe8-84b6-80a5e20e12a9"
      },
      "source": [
        "df2.shape"
      ],
      "execution_count": null,
      "outputs": [
        {
          "output_type": "execute_result",
          "data": {
            "text/plain": [
              "(7, 6)"
            ]
          },
          "metadata": {
            "tags": []
          },
          "execution_count": 30
        }
      ]
    },
    {
      "cell_type": "markdown",
      "metadata": {
        "id": "NkvWV64mtFhn"
      },
      "source": [
        "## Accessing the index, columns, and data\n",
        "\n",
        "The index, columns, and data are each separate objects that can be accessed from the DataFrame as attributes and NOT methods. Let's assign each of them to their own variable name beginning with the index and output it to the screen."
      ]
    },
    {
      "cell_type": "code",
      "metadata": {
        "id": "MJa8CF45tFho",
        "colab": {
          "base_uri": "https://localhost:8080/",
          "height": 34
        },
        "outputId": "0cf23ed2-be83-443d-caa9-6ae9b45c08a5"
      },
      "source": [
        "index = df2.index\n",
        "index"
      ],
      "execution_count": null,
      "outputs": [
        {
          "output_type": "execute_result",
          "data": {
            "text/plain": [
              "Index(['Jane', 'Niko', 'Aaron', 'Penelope', 'Dean', 'Christina', 'Cornelia'], dtype='object', name='name')"
            ]
          },
          "metadata": {
            "tags": []
          },
          "execution_count": 31
        }
      ]
    },
    {
      "cell_type": "code",
      "metadata": {
        "id": "XcfweB9xtFhq",
        "colab": {
          "base_uri": "https://localhost:8080/",
          "height": 34
        },
        "outputId": "5c843583-d4f3-4ffd-a86d-0db125a229ee"
      },
      "source": [
        "columns = df2.columns\n",
        "columns"
      ],
      "execution_count": null,
      "outputs": [
        {
          "output_type": "execute_result",
          "data": {
            "text/plain": [
              "Index(['state', 'color', 'food', 'age', 'height', 'score'], dtype='object')"
            ]
          },
          "metadata": {
            "tags": []
          },
          "execution_count": 32
        }
      ]
    },
    {
      "cell_type": "code",
      "metadata": {
        "id": "wjkhGY3itFht",
        "colab": {
          "base_uri": "https://localhost:8080/",
          "height": 138
        },
        "outputId": "a469ee16-d19c-439a-aa3d-6369e139f6da"
      },
      "source": [
        "data = df2.values\n",
        "data"
      ],
      "execution_count": null,
      "outputs": [
        {
          "output_type": "execute_result",
          "data": {
            "text/plain": [
              "array([['NY', 'blue', 'Steak', 30, 165, 4.6],\n",
              "       ['TX', 'green', 'Lamb', 2, 70, 8.3],\n",
              "       ['FL', 'red', 'Mango', 12, 120, 9.0],\n",
              "       ['AL', 'white', 'Apple', 4, 80, 3.3],\n",
              "       ['AK', 'gray', 'Cheese', 32, 180, 1.8],\n",
              "       ['TX', 'black', 'Melon', 33, 172, 9.5],\n",
              "       ['TX', 'red', 'Beans', 69, 150, 2.2]], dtype=object)"
            ]
          },
          "metadata": {
            "tags": []
          },
          "execution_count": 33
        }
      ]
    },
    {
      "cell_type": "markdown",
      "metadata": {
        "id": "DkwJG4AptFhx"
      },
      "source": [
        "### Find the type of these objects\n",
        "\n",
        "The output of these objects looks correct, but we don't know the exact type of each one. Let's find out the types of each object."
      ]
    },
    {
      "cell_type": "code",
      "metadata": {
        "id": "3FwZ6nmwtFhy",
        "colab": {
          "base_uri": "https://localhost:8080/"
        },
        "outputId": "dfd80072-e0fa-482a-eb35-da2a1e75cb02"
      },
      "source": [
        "type(index)"
      ],
      "execution_count": null,
      "outputs": [
        {
          "output_type": "execute_result",
          "data": {
            "text/plain": [
              "pandas.core.indexes.base.Index"
            ]
          },
          "metadata": {
            "tags": []
          },
          "execution_count": 34
        }
      ]
    },
    {
      "cell_type": "code",
      "metadata": {
        "id": "qCqmJrratFh1",
        "colab": {
          "base_uri": "https://localhost:8080/"
        },
        "outputId": "a30c7a02-e119-485e-f198-849bdb4b1330"
      },
      "source": [
        "type(columns)"
      ],
      "execution_count": null,
      "outputs": [
        {
          "output_type": "execute_result",
          "data": {
            "text/plain": [
              "pandas.core.indexes.base.Index"
            ]
          },
          "metadata": {
            "tags": []
          },
          "execution_count": 35
        }
      ]
    },
    {
      "cell_type": "code",
      "metadata": {
        "id": "RZLiEL1ztFh3",
        "colab": {
          "base_uri": "https://localhost:8080/"
        },
        "outputId": "04989733-ac42-4b72-b834-f939f31f57a3"
      },
      "source": [
        "type(data)"
      ],
      "execution_count": null,
      "outputs": [
        {
          "output_type": "execute_result",
          "data": {
            "text/plain": [
              "numpy.ndarray"
            ]
          },
          "metadata": {
            "tags": []
          },
          "execution_count": 36
        }
      ]
    },
    {
      "cell_type": "markdown",
      "metadata": {
        "id": "cTpOm2QytFh5"
      },
      "source": [
        "### Accessing the components does not change the DataFrame\n",
        "\n",
        "Accessing these components does nothing to our DataFrame. It merely gives us a variable to reference each of these components. Let's verify that the DataFrame remains unchanged."
      ]
    },
    {
      "cell_type": "code",
      "metadata": {
        "id": "Ws6E0qVStFh6",
        "colab": {
          "base_uri": "https://localhost:8080/"
        },
        "outputId": "c2669711-6a83-47b7-e313-008c1e7bc892"
      },
      "source": [
        "df2"
      ],
      "execution_count": null,
      "outputs": [
        {
          "output_type": "execute_result",
          "data": {
            "text/html": [
              "<div>\n",
              "<style scoped>\n",
              "    .dataframe tbody tr th:only-of-type {\n",
              "        vertical-align: middle;\n",
              "    }\n",
              "\n",
              "    .dataframe tbody tr th {\n",
              "        vertical-align: top;\n",
              "    }\n",
              "\n",
              "    .dataframe thead th {\n",
              "        text-align: right;\n",
              "    }\n",
              "</style>\n",
              "<table border=\"1\" class=\"dataframe\">\n",
              "  <thead>\n",
              "    <tr style=\"text-align: right;\">\n",
              "      <th></th>\n",
              "      <th>state</th>\n",
              "      <th>color</th>\n",
              "      <th>food</th>\n",
              "      <th>age</th>\n",
              "      <th>height</th>\n",
              "      <th>score</th>\n",
              "    </tr>\n",
              "    <tr>\n",
              "      <th>name</th>\n",
              "      <th></th>\n",
              "      <th></th>\n",
              "      <th></th>\n",
              "      <th></th>\n",
              "      <th></th>\n",
              "      <th></th>\n",
              "    </tr>\n",
              "  </thead>\n",
              "  <tbody>\n",
              "    <tr>\n",
              "      <th>Jane</th>\n",
              "      <td>NY</td>\n",
              "      <td>blue</td>\n",
              "      <td>Steak</td>\n",
              "      <td>30</td>\n",
              "      <td>165</td>\n",
              "      <td>4.6</td>\n",
              "    </tr>\n",
              "    <tr>\n",
              "      <th>Niko</th>\n",
              "      <td>TX</td>\n",
              "      <td>green</td>\n",
              "      <td>Lamb</td>\n",
              "      <td>2</td>\n",
              "      <td>70</td>\n",
              "      <td>8.3</td>\n",
              "    </tr>\n",
              "    <tr>\n",
              "      <th>Aaron</th>\n",
              "      <td>FL</td>\n",
              "      <td>red</td>\n",
              "      <td>Mango</td>\n",
              "      <td>12</td>\n",
              "      <td>120</td>\n",
              "      <td>9.0</td>\n",
              "    </tr>\n",
              "    <tr>\n",
              "      <th>Penelope</th>\n",
              "      <td>AL</td>\n",
              "      <td>white</td>\n",
              "      <td>Apple</td>\n",
              "      <td>4</td>\n",
              "      <td>80</td>\n",
              "      <td>3.3</td>\n",
              "    </tr>\n",
              "    <tr>\n",
              "      <th>Dean</th>\n",
              "      <td>AK</td>\n",
              "      <td>gray</td>\n",
              "      <td>Cheese</td>\n",
              "      <td>32</td>\n",
              "      <td>180</td>\n",
              "      <td>1.8</td>\n",
              "    </tr>\n",
              "    <tr>\n",
              "      <th>Christina</th>\n",
              "      <td>TX</td>\n",
              "      <td>black</td>\n",
              "      <td>Melon</td>\n",
              "      <td>33</td>\n",
              "      <td>172</td>\n",
              "      <td>9.5</td>\n",
              "    </tr>\n",
              "    <tr>\n",
              "      <th>Cornelia</th>\n",
              "      <td>TX</td>\n",
              "      <td>red</td>\n",
              "      <td>Beans</td>\n",
              "      <td>69</td>\n",
              "      <td>150</td>\n",
              "      <td>2.2</td>\n",
              "    </tr>\n",
              "  </tbody>\n",
              "</table>\n",
              "</div>"
            ],
            "text/plain": [
              "          state  color    food  age  height  score\n",
              "name                                              \n",
              "Jane         NY   blue   Steak   30     165    4.6\n",
              "Niko         TX  green    Lamb    2      70    8.3\n",
              "Aaron        FL    red   Mango   12     120    9.0\n",
              "Penelope     AL  white   Apple    4      80    3.3\n",
              "Dean         AK   gray  Cheese   32     180    1.8\n",
              "Christina    TX  black   Melon   33     172    9.5\n",
              "Cornelia     TX    red   Beans   69     150    2.2"
            ]
          },
          "metadata": {
            "tags": []
          },
          "execution_count": 37
        }
      ]
    },
    {
      "cell_type": "markdown",
      "metadata": {
        "id": "s5qwI3fAtFh9"
      },
      "source": [
        "### pandas `Index` type\n",
        "\n",
        "Both the index and columns are each a special type of object named `Index` an is similar to a list. You can think of it as a sequence of labels for either the rows or the columns. You will not deal with this object much directly, so we will not go into further details about it here.\n",
        "\n",
        "### Two-dimensional numpy array\n",
        "\n",
        "The values are returned as a single two-dimensional numpy array.\n",
        "\n",
        "### Operating with DataFrame and not its components\n",
        "\n",
        "You rarely need to operate with these components directly and instead be working with the entire DataFrame. But, it is important to understand that they are separate components and you can access them directly if needed.\n",
        "\n",
        "## Accessing the components of a Series\n",
        "\n",
        "Similarly, we can access the two Series components - the index and the data. Let's first select a single column from our DataFrame so that we have a Series. When we select a column from the DataFrame as a Series, the index remains the same."
      ]
    },
    {
      "cell_type": "code",
      "metadata": {
        "id": "HRthLFZvtFh-",
        "colab": {
          "base_uri": "https://localhost:8080/"
        },
        "outputId": "c587042c-d7cc-4139-9191-8a019cf0edf8"
      },
      "source": [
        "color = df2['color']\n",
        "color"
      ],
      "execution_count": null,
      "outputs": [
        {
          "output_type": "execute_result",
          "data": {
            "text/plain": [
              "name\n",
              "Jane          blue\n",
              "Niko         green\n",
              "Aaron          red\n",
              "Penelope     white\n",
              "Dean          gray\n",
              "Christina    black\n",
              "Cornelia       red\n",
              "Name: color, dtype: object"
            ]
          },
          "metadata": {
            "tags": []
          },
          "execution_count": 38
        }
      ]
    },
    {
      "cell_type": "markdown",
      "metadata": {
        "id": "kYlpdhKstFiA"
      },
      "source": [
        "Let's access the index and the data from the `color` Series."
      ]
    },
    {
      "cell_type": "code",
      "metadata": {
        "id": "GQlqVv9QtFiA",
        "colab": {
          "base_uri": "https://localhost:8080/"
        },
        "outputId": "4fb10c1b-2b2b-4ff3-9b9f-cc4f2c5938f9"
      },
      "source": [
        "color.index"
      ],
      "execution_count": null,
      "outputs": [
        {
          "output_type": "execute_result",
          "data": {
            "text/plain": [
              "Index(['Jane', 'Niko', 'Aaron', 'Penelope', 'Dean', 'Christina', 'Cornelia'], dtype='object', name='name')"
            ]
          },
          "metadata": {
            "tags": []
          },
          "execution_count": 39
        }
      ]
    },
    {
      "cell_type": "code",
      "metadata": {
        "id": "boM0XEmItFiC",
        "colab": {
          "base_uri": "https://localhost:8080/"
        },
        "outputId": "e59adf21-2f11-413c-8fcc-07408fd30375"
      },
      "source": [
        "color.values"
      ],
      "execution_count": null,
      "outputs": [
        {
          "output_type": "execute_result",
          "data": {
            "text/plain": [
              "array(['blue', 'green', 'red', 'white', 'gray', 'black', 'red'],\n",
              "      dtype=object)"
            ]
          },
          "metadata": {
            "tags": []
          },
          "execution_count": 40
        }
      ]
    },
    {
      "cell_type": "markdown",
      "metadata": {
        "id": "m2pYed9vtFiE"
      },
      "source": [
        "### The default index\n",
        "\n",
        "If you don't specify an index when first reading in a DataFrame, then pandas creates one for you as integers beginning at 0. Let's read in the movie dataset and keep the default index."
      ]
    },
    {
      "cell_type": "code",
      "metadata": {
        "id": "Xx_E0mfntFiF",
        "colab": {
          "base_uri": "https://localhost:8080/",
          "height": 284
        },
        "outputId": "b63165f7-ddea-4d5a-d3d7-3139cb4f71a1"
      },
      "source": [
        "movie = pd.read_csv('Pandas/movie.csv')\n",
        "movie.head(3)"
      ],
      "execution_count": null,
      "outputs": [
        {
          "output_type": "execute_result",
          "data": {
            "text/html": [
              "<div>\n",
              "<style scoped>\n",
              "    .dataframe tbody tr th:only-of-type {\n",
              "        vertical-align: middle;\n",
              "    }\n",
              "\n",
              "    .dataframe tbody tr th {\n",
              "        vertical-align: top;\n",
              "    }\n",
              "\n",
              "    .dataframe thead th {\n",
              "        text-align: right;\n",
              "    }\n",
              "</style>\n",
              "<table border=\"1\" class=\"dataframe\">\n",
              "  <thead>\n",
              "    <tr style=\"text-align: right;\">\n",
              "      <th></th>\n",
              "      <th>title</th>\n",
              "      <th>year</th>\n",
              "      <th>color</th>\n",
              "      <th>content_rating</th>\n",
              "      <th>duration</th>\n",
              "      <th>director_name</th>\n",
              "      <th>director_fb</th>\n",
              "      <th>actor1</th>\n",
              "      <th>actor1_fb</th>\n",
              "      <th>actor2</th>\n",
              "      <th>actor2_fb</th>\n",
              "      <th>actor3</th>\n",
              "      <th>actor3_fb</th>\n",
              "      <th>gross</th>\n",
              "      <th>genres</th>\n",
              "      <th>num_reviews</th>\n",
              "      <th>num_voted_users</th>\n",
              "      <th>plot_keywords</th>\n",
              "      <th>language</th>\n",
              "      <th>country</th>\n",
              "      <th>budget</th>\n",
              "      <th>imdb_score</th>\n",
              "    </tr>\n",
              "  </thead>\n",
              "  <tbody>\n",
              "    <tr>\n",
              "      <th>0</th>\n",
              "      <td>Avatar</td>\n",
              "      <td>2009.0</td>\n",
              "      <td>Color</td>\n",
              "      <td>PG-13</td>\n",
              "      <td>178.0</td>\n",
              "      <td>James Cameron</td>\n",
              "      <td>0.0</td>\n",
              "      <td>CCH Pounder</td>\n",
              "      <td>1000.0</td>\n",
              "      <td>Joel David Moore</td>\n",
              "      <td>936.0</td>\n",
              "      <td>Wes Studi</td>\n",
              "      <td>855.0</td>\n",
              "      <td>760505847.0</td>\n",
              "      <td>Action|Adventure|Fantasy|Sci-Fi</td>\n",
              "      <td>723.0</td>\n",
              "      <td>886204</td>\n",
              "      <td>avatar|future|marine|native|paraplegic</td>\n",
              "      <td>English</td>\n",
              "      <td>USA</td>\n",
              "      <td>237000000.0</td>\n",
              "      <td>7.9</td>\n",
              "    </tr>\n",
              "    <tr>\n",
              "      <th>1</th>\n",
              "      <td>Pirates of the Caribbean: At World's End</td>\n",
              "      <td>2007.0</td>\n",
              "      <td>Color</td>\n",
              "      <td>PG-13</td>\n",
              "      <td>169.0</td>\n",
              "      <td>Gore Verbinski</td>\n",
              "      <td>563.0</td>\n",
              "      <td>Johnny Depp</td>\n",
              "      <td>40000.0</td>\n",
              "      <td>Orlando Bloom</td>\n",
              "      <td>5000.0</td>\n",
              "      <td>Jack Davenport</td>\n",
              "      <td>1000.0</td>\n",
              "      <td>309404152.0</td>\n",
              "      <td>Action|Adventure|Fantasy</td>\n",
              "      <td>302.0</td>\n",
              "      <td>471220</td>\n",
              "      <td>goddess|marriage ceremony|marriage proposal|pi...</td>\n",
              "      <td>English</td>\n",
              "      <td>USA</td>\n",
              "      <td>300000000.0</td>\n",
              "      <td>7.1</td>\n",
              "    </tr>\n",
              "    <tr>\n",
              "      <th>2</th>\n",
              "      <td>Spectre</td>\n",
              "      <td>2015.0</td>\n",
              "      <td>Color</td>\n",
              "      <td>PG-13</td>\n",
              "      <td>148.0</td>\n",
              "      <td>Sam Mendes</td>\n",
              "      <td>0.0</td>\n",
              "      <td>Christoph Waltz</td>\n",
              "      <td>11000.0</td>\n",
              "      <td>Rory Kinnear</td>\n",
              "      <td>393.0</td>\n",
              "      <td>Stephanie Sigman</td>\n",
              "      <td>161.0</td>\n",
              "      <td>200074175.0</td>\n",
              "      <td>Action|Adventure|Thriller</td>\n",
              "      <td>602.0</td>\n",
              "      <td>275868</td>\n",
              "      <td>bomb|espionage|sequel|spy|terrorist</td>\n",
              "      <td>English</td>\n",
              "      <td>UK</td>\n",
              "      <td>245000000.0</td>\n",
              "      <td>6.8</td>\n",
              "    </tr>\n",
              "  </tbody>\n",
              "</table>\n",
              "</div>"
            ],
            "text/plain": [
              "                                      title    year  ...       budget imdb_score\n",
              "0                                    Avatar  2009.0  ...  237000000.0        7.9\n",
              "1  Pirates of the Caribbean: At World's End  2007.0  ...  300000000.0        7.1\n",
              "2                                   Spectre  2015.0  ...  245000000.0        6.8\n",
              "\n",
              "[3 rows x 22 columns]"
            ]
          },
          "metadata": {
            "tags": []
          },
          "execution_count": 41
        }
      ]
    },
    {
      "cell_type": "markdown",
      "metadata": {
        "id": "d_3B2agqtFiI"
      },
      "source": [
        "### Integers in the index\n",
        "\n",
        "The integers you see above in the index are the labels for each of the rows. Let's examine the underlying index object."
      ]
    },
    {
      "cell_type": "code",
      "metadata": {
        "id": "z2rIcWlLtFiJ",
        "colab": {
          "base_uri": "https://localhost:8080/"
        },
        "outputId": "cfa792ab-7dec-4fca-b7fa-fb149639c449"
      },
      "source": [
        "idx = movie.index\n",
        "idx"
      ],
      "execution_count": null,
      "outputs": [
        {
          "output_type": "execute_result",
          "data": {
            "text/plain": [
              "RangeIndex(start=0, stop=4916, step=1)"
            ]
          },
          "metadata": {
            "tags": []
          },
          "execution_count": 42
        }
      ]
    },
    {
      "cell_type": "code",
      "metadata": {
        "id": "Ps41r5z7tFiO",
        "colab": {
          "base_uri": "https://localhost:8080/"
        },
        "outputId": "3c7c55cb-d37b-44a5-b830-9b693db994ca"
      },
      "source": [
        "type(idx)"
      ],
      "execution_count": null,
      "outputs": [
        {
          "output_type": "execute_result",
          "data": {
            "text/plain": [
              "pandas.core.indexes.range.RangeIndex"
            ]
          },
          "metadata": {
            "tags": []
          },
          "execution_count": 43
        }
      ]
    },
    {
      "cell_type": "markdown",
      "metadata": {
        "id": "WlOZkkMctFiQ"
      },
      "source": [
        "### The RangeIndex\n",
        "\n",
        "pandas has various types of index objects. A `RangeIndex` is the simplest index and represents the sequence of consecutive integers beginning at 0. It is similar to a Python `range` object in that the values are not actually stored in memory. Th\n",
        "\n",
        "### A numpy array underlies the index\n",
        "\n",
        "The index has a `values` attribute just like the DataFrame. Use it to retrieve the underlying index values as a numpy array."
      ]
    },
    {
      "cell_type": "code",
      "metadata": {
        "id": "5-kopuI5tFiQ",
        "colab": {
          "base_uri": "https://localhost:8080/"
        },
        "outputId": "8fd764ab-8e63-42c4-8697-b0305786818f"
      },
      "source": [
        "idx.values"
      ],
      "execution_count": null,
      "outputs": [
        {
          "output_type": "execute_result",
          "data": {
            "text/plain": [
              "array([   0,    1,    2, ..., 4913, 4914, 4915])"
            ]
          },
          "metadata": {
            "tags": []
          },
          "execution_count": 44
        }
      ]
    },
    {
      "cell_type": "markdown",
      "metadata": {
        "id": "tcHjCu2DtFiS"
      },
      "source": [
        "It's not necessary to assign the index to a variable name to access its attributes and methods. You can access it beginning from the DataFrame."
      ]
    },
    {
      "cell_type": "code",
      "metadata": {
        "id": "Y-LFiG1utFiT",
        "colab": {
          "base_uri": "https://localhost:8080/"
        },
        "outputId": "8f3d7cca-2675-41ef-9d5a-dbdbc7397f55"
      },
      "source": [
        "movie.index.values"
      ],
      "execution_count": null,
      "outputs": [
        {
          "output_type": "execute_result",
          "data": {
            "text/plain": [
              "array([   0,    1,    2, ..., 4913, 4914, 4915])"
            ]
          },
          "metadata": {
            "tags": []
          },
          "execution_count": 45
        }
      ]
    },
    {
      "cell_type": "markdown",
      "metadata": {
        "id": "c2uHL8q0tFiV"
      },
      "source": [
        "## Setting an index on read\n",
        "\n",
        "The `read_csv` function provides dozens of parameters that allow us to read in a wide variety of text files. The `index_col` parameter may be used to select a particular column as the index. We can either use the column name or its integer location.\n",
        "\n",
        "### Reread the movie dataset with the movie title as the index\n",
        "\n",
        "There's a column in the movie dataset named `title`. Let's reread the data using it as the index."
      ]
    },
    {
      "cell_type": "code",
      "metadata": {
        "id": "TuftYF4ZtFiW",
        "colab": {
          "base_uri": "https://localhost:8080/",
          "height": 316
        },
        "outputId": "1c5c3d39-b941-45c4-b23d-69e776718308"
      },
      "source": [
        "movie = pd.read_csv('Pandas/movie.csv', index_col='title')\n",
        "movie.head(3)"
      ],
      "execution_count": null,
      "outputs": [
        {
          "output_type": "execute_result",
          "data": {
            "text/html": [
              "<div>\n",
              "<style scoped>\n",
              "    .dataframe tbody tr th:only-of-type {\n",
              "        vertical-align: middle;\n",
              "    }\n",
              "\n",
              "    .dataframe tbody tr th {\n",
              "        vertical-align: top;\n",
              "    }\n",
              "\n",
              "    .dataframe thead th {\n",
              "        text-align: right;\n",
              "    }\n",
              "</style>\n",
              "<table border=\"1\" class=\"dataframe\">\n",
              "  <thead>\n",
              "    <tr style=\"text-align: right;\">\n",
              "      <th></th>\n",
              "      <th>year</th>\n",
              "      <th>color</th>\n",
              "      <th>content_rating</th>\n",
              "      <th>duration</th>\n",
              "      <th>director_name</th>\n",
              "      <th>director_fb</th>\n",
              "      <th>actor1</th>\n",
              "      <th>actor1_fb</th>\n",
              "      <th>actor2</th>\n",
              "      <th>actor2_fb</th>\n",
              "      <th>actor3</th>\n",
              "      <th>actor3_fb</th>\n",
              "      <th>gross</th>\n",
              "      <th>genres</th>\n",
              "      <th>num_reviews</th>\n",
              "      <th>num_voted_users</th>\n",
              "      <th>plot_keywords</th>\n",
              "      <th>language</th>\n",
              "      <th>country</th>\n",
              "      <th>budget</th>\n",
              "      <th>imdb_score</th>\n",
              "    </tr>\n",
              "    <tr>\n",
              "      <th>title</th>\n",
              "      <th></th>\n",
              "      <th></th>\n",
              "      <th></th>\n",
              "      <th></th>\n",
              "      <th></th>\n",
              "      <th></th>\n",
              "      <th></th>\n",
              "      <th></th>\n",
              "      <th></th>\n",
              "      <th></th>\n",
              "      <th></th>\n",
              "      <th></th>\n",
              "      <th></th>\n",
              "      <th></th>\n",
              "      <th></th>\n",
              "      <th></th>\n",
              "      <th></th>\n",
              "      <th></th>\n",
              "      <th></th>\n",
              "      <th></th>\n",
              "      <th></th>\n",
              "    </tr>\n",
              "  </thead>\n",
              "  <tbody>\n",
              "    <tr>\n",
              "      <th>Avatar</th>\n",
              "      <td>2009.0</td>\n",
              "      <td>Color</td>\n",
              "      <td>PG-13</td>\n",
              "      <td>178.0</td>\n",
              "      <td>James Cameron</td>\n",
              "      <td>0.0</td>\n",
              "      <td>CCH Pounder</td>\n",
              "      <td>1000.0</td>\n",
              "      <td>Joel David Moore</td>\n",
              "      <td>936.0</td>\n",
              "      <td>Wes Studi</td>\n",
              "      <td>855.0</td>\n",
              "      <td>760505847.0</td>\n",
              "      <td>Action|Adventure|Fantasy|Sci-Fi</td>\n",
              "      <td>723.0</td>\n",
              "      <td>886204</td>\n",
              "      <td>avatar|future|marine|native|paraplegic</td>\n",
              "      <td>English</td>\n",
              "      <td>USA</td>\n",
              "      <td>237000000.0</td>\n",
              "      <td>7.9</td>\n",
              "    </tr>\n",
              "    <tr>\n",
              "      <th>Pirates of the Caribbean: At World's End</th>\n",
              "      <td>2007.0</td>\n",
              "      <td>Color</td>\n",
              "      <td>PG-13</td>\n",
              "      <td>169.0</td>\n",
              "      <td>Gore Verbinski</td>\n",
              "      <td>563.0</td>\n",
              "      <td>Johnny Depp</td>\n",
              "      <td>40000.0</td>\n",
              "      <td>Orlando Bloom</td>\n",
              "      <td>5000.0</td>\n",
              "      <td>Jack Davenport</td>\n",
              "      <td>1000.0</td>\n",
              "      <td>309404152.0</td>\n",
              "      <td>Action|Adventure|Fantasy</td>\n",
              "      <td>302.0</td>\n",
              "      <td>471220</td>\n",
              "      <td>goddess|marriage ceremony|marriage proposal|pi...</td>\n",
              "      <td>English</td>\n",
              "      <td>USA</td>\n",
              "      <td>300000000.0</td>\n",
              "      <td>7.1</td>\n",
              "    </tr>\n",
              "    <tr>\n",
              "      <th>Spectre</th>\n",
              "      <td>2015.0</td>\n",
              "      <td>Color</td>\n",
              "      <td>PG-13</td>\n",
              "      <td>148.0</td>\n",
              "      <td>Sam Mendes</td>\n",
              "      <td>0.0</td>\n",
              "      <td>Christoph Waltz</td>\n",
              "      <td>11000.0</td>\n",
              "      <td>Rory Kinnear</td>\n",
              "      <td>393.0</td>\n",
              "      <td>Stephanie Sigman</td>\n",
              "      <td>161.0</td>\n",
              "      <td>200074175.0</td>\n",
              "      <td>Action|Adventure|Thriller</td>\n",
              "      <td>602.0</td>\n",
              "      <td>275868</td>\n",
              "      <td>bomb|espionage|sequel|spy|terrorist</td>\n",
              "      <td>English</td>\n",
              "      <td>UK</td>\n",
              "      <td>245000000.0</td>\n",
              "      <td>6.8</td>\n",
              "    </tr>\n",
              "  </tbody>\n",
              "</table>\n",
              "</div>"
            ],
            "text/plain": [
              "                                            year  ... imdb_score\n",
              "title                                             ...           \n",
              "Avatar                                    2009.0  ...        7.9\n",
              "Pirates of the Caribbean: At World's End  2007.0  ...        7.1\n",
              "Spectre                                   2015.0  ...        6.8\n",
              "\n",
              "[3 rows x 21 columns]"
            ]
          },
          "metadata": {
            "tags": []
          },
          "execution_count": 46
        }
      ]
    },
    {
      "cell_type": "markdown",
      "metadata": {
        "id": "SNUwxjihtFiX"
      },
      "source": [
        "Notice that now the titles of each movie serve as the label for each row. Also notice that the word **title** appears directly above the index. This is a bit confusing. The word **title** is NOT a column name. Technically, it is the **name** of the index, but this isn't important at the moment.\n",
        "\n",
        "### Access the new index and output its type\n",
        "\n",
        "Let's access this new index, output its values, and verify that type is now `Index` instead of `RangeIndex`."
      ]
    },
    {
      "cell_type": "code",
      "metadata": {
        "id": "X3kWoiXftFiY",
        "colab": {
          "base_uri": "https://localhost:8080/"
        },
        "outputId": "e20641bf-d95a-47bf-8e24-89dabac4432f"
      },
      "source": [
        "idx2 = movie.index\n",
        "idx2"
      ],
      "execution_count": null,
      "outputs": [
        {
          "output_type": "execute_result",
          "data": {
            "text/plain": [
              "Index(['Avatar', 'Pirates of the Caribbean: At World's End', 'Spectre',\n",
              "       'The Dark Knight Rises', 'Star Wars: Episode VII - The Force Awakens',\n",
              "       'John Carter', 'Spider-Man 3', 'Tangled', 'Avengers: Age of Ultron',\n",
              "       'Harry Potter and the Half-Blood Prince',\n",
              "       ...\n",
              "       'Primer', 'Cavite', 'El Mariachi', 'The Mongol King', 'Newlyweds',\n",
              "       'Signed Sealed Delivered', 'The Following', 'A Plague So Pleasant',\n",
              "       'Shanghai Calling', 'My Date with Drew'],\n",
              "      dtype='object', name='title', length=4916)"
            ]
          },
          "metadata": {
            "tags": []
          },
          "execution_count": 47
        }
      ]
    },
    {
      "cell_type": "code",
      "metadata": {
        "id": "KeJSvanHtFia",
        "colab": {
          "base_uri": "https://localhost:8080/"
        },
        "outputId": "98accc8a-4032-4989-93af-2a6e593f3bcb"
      },
      "source": [
        "type(idx2)"
      ],
      "execution_count": null,
      "outputs": [
        {
          "output_type": "execute_result",
          "data": {
            "text/plain": [
              "pandas.core.indexes.base.Index"
            ]
          },
          "metadata": {
            "tags": []
          },
          "execution_count": 48
        }
      ]
    },
    {
      "cell_type": "markdown",
      "metadata": {
        "id": "HEnhuQoOtFic"
      },
      "source": [
        "### Select a value from the index\n",
        "\n",
        "The index is a complex object on its own and has many attributes and methods. The minimum we should know about an index is how to select values from it. We can select single values from an index just like we do with a Python list, by placing the integer location of the item we want within the square brackets. Here, we select the 4th item (integer location 3) from the index."
      ]
    },
    {
      "cell_type": "code",
      "metadata": {
        "id": "V0vwUVp6tFid",
        "colab": {
          "base_uri": "https://localhost:8080/"
        },
        "outputId": "f0f42cc8-3804-4a3a-c6f8-58e94fd3e46d"
      },
      "source": [
        "idx2[3]"
      ],
      "execution_count": null,
      "outputs": [
        {
          "output_type": "execute_result",
          "data": {
            "text/plain": [
              "'The Dark Knight Rises'"
            ]
          },
          "metadata": {
            "tags": []
          },
          "execution_count": 49
        }
      ]
    },
    {
      "cell_type": "markdown",
      "metadata": {
        "id": "yX_OqwC1tFif"
      },
      "source": [
        "We can select this same index label without actually assigning the index to a variable first."
      ]
    },
    {
      "cell_type": "code",
      "metadata": {
        "id": "TUjChLSUtFig",
        "colab": {
          "base_uri": "https://localhost:8080/"
        },
        "outputId": "97ece2cf-33d8-4f82-8568-eb5c4585fb11"
      },
      "source": [
        "movie.index[3]"
      ],
      "execution_count": null,
      "outputs": [
        {
          "output_type": "execute_result",
          "data": {
            "text/plain": [
              "'The Dark Knight Rises'"
            ]
          },
          "metadata": {
            "tags": []
          },
          "execution_count": 50
        }
      ]
    },
    {
      "cell_type": "markdown",
      "metadata": {
        "id": "BACh1N0DtFii"
      },
      "source": [
        "### Selection with slice notation\n",
        "As with Python lists, you can select a range of values using slice notation. Provide the start, stop, and step components of slice notation separated by a colon within the brackets."
      ]
    },
    {
      "cell_type": "code",
      "metadata": {
        "id": "U00umb8QtFij",
        "colab": {
          "base_uri": "https://localhost:8080/"
        },
        "outputId": "bc0b14e7-da26-4427-8719-7a8676380520"
      },
      "source": [
        "idx2[100:120:4]"
      ],
      "execution_count": null,
      "outputs": [
        {
          "output_type": "execute_result",
          "data": {
            "text/plain": [
              "Index(['The Fast and the Furious', 'The Sorcerer's Apprentice', 'Warcraft',\n",
              "       'Transformers', 'Hancock'],\n",
              "      dtype='object', name='title')"
            ]
          },
          "metadata": {
            "tags": []
          },
          "execution_count": 51
        }
      ]
    },
    {
      "cell_type": "markdown",
      "metadata": {
        "id": "EHWMUxA4tFil"
      },
      "source": [
        "### Selection with a list of integers\n",
        "You can select multiple individual values with a list of integers. This type of selection does not exist for Python lists."
      ]
    },
    {
      "cell_type": "code",
      "metadata": {
        "id": "HDHUMzqTtFim",
        "colab": {
          "base_uri": "https://localhost:8080/"
        },
        "outputId": "a8d0cdad-8653-40fc-ab04-1ace33b7c18e"
      },
      "source": [
        "nums = [1000, 453, 713, 2999]\n",
        "idx2[nums]"
      ],
      "execution_count": null,
      "outputs": [
        {
          "output_type": "execute_result",
          "data": {
            "text/plain": [
              "Index(['The Life Aquatic with Steve Zissou', 'Daredevil', 'Daddy Day Care',\n",
              "       'The Ladies Man'],\n",
              "      dtype='object', name='title')"
            ]
          },
          "metadata": {
            "tags": []
          },
          "execution_count": 52
        }
      ]
    },
    {
      "cell_type": "markdown",
      "metadata": {
        "id": "7yvbfRqTtFin"
      },
      "source": [
        "## Choosing a good index\n",
        "Before even considering using one of the columns as an index, know that it's not a necessity. You can complete all of your analysis with just the default `RangeIndex`. \n",
        "\n",
        "Setting a column to be an index can help make certain analysis easier in some situations, so it is something that can be considered. If you do choose to set an index for your DataFrame, I suggest using columns that are both **unique** and **descriptive**. Pandas does not enforce uniqueness for its index allowing the same value to repeat multiple times. That said, a good index will have unique values to identify each row."
      ]
    },
    {
      "cell_type": "markdown",
      "metadata": {
        "id": "5EAfoKY0tFio"
      },
      "source": [
        "## Exercises\n",
        "\n",
        "You may wish to change the display options before completing the exercises."
      ]
    },
    {
      "cell_type": "markdown",
      "metadata": {
        "id": "uv3BcKJTtFiq"
      },
      "source": [
        "### Exercise 1\n",
        "<span  style=\"color:green; font-size:16px\">Read in the movie dataset and set the index to be something other than movie title. Are there any other good columns to use as an index?</span>"
      ]
    },
    {
      "cell_type": "code",
      "metadata": {
        "id": "9HlrqzTqtFir"
      },
      "source": [
        ""
      ],
      "execution_count": null,
      "outputs": []
    },
    {
      "cell_type": "markdown",
      "metadata": {
        "id": "3y8zanzUtFis"
      },
      "source": [
        "### Exercise 2\n",
        "<span  style=\"color:green; font-size:16px\">Use `set_index` to set the index and keep the column as part of the data. Read the docstrings to find the parameter that controls this functionality.</span>"
      ]
    },
    {
      "cell_type": "code",
      "metadata": {
        "id": "PtItsoCdtFit"
      },
      "source": [
        ""
      ],
      "execution_count": null,
      "outputs": []
    },
    {
      "cell_type": "markdown",
      "metadata": {
        "id": "Ic1V0CFstFiv"
      },
      "source": [
        "### Exercise 3\n",
        "<span  style=\"color:green; font-size:16px\">Read in the movie DataFrame and set the index as the title column. Assign the index to its own variable and output the last 10 movies titles.</span>"
      ]
    },
    {
      "cell_type": "code",
      "metadata": {
        "id": "TkzZEG_TtFiw"
      },
      "source": [
        ""
      ],
      "execution_count": null,
      "outputs": []
    },
    {
      "cell_type": "markdown",
      "metadata": {
        "id": "3DgqpwGvtFiy"
      },
      "source": [
        "### Exercise 4\n",
        "<span  style=\"color:green; font-size:16px\">Use an integer instead of the column name for `index_col` when reading in the data using `read_csv`. What does it do?</span>"
      ]
    },
    {
      "cell_type": "code",
      "metadata": {
        "id": "8Nsu8074tFiz"
      },
      "source": [
        ""
      ],
      "execution_count": null,
      "outputs": []
    }
  ]
}