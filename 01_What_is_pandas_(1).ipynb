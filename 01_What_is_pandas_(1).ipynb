{
  "nbformat": 4,
  "nbformat_minor": 0,
  "metadata": {
    "kernelspec": {
      "display_name": "Python 3",
      "language": "python",
      "name": "python3"
    },
    "language_info": {
      "codemirror_mode": {
        "name": "ipython",
        "version": 3
      },
      "file_extension": ".py",
      "mimetype": "text/x-python",
      "name": "python",
      "nbconvert_exporter": "python",
      "pygments_lexer": "ipython3",
      "version": "3.7.4"
    },
    "colab": {
      "name": "01. What is pandas (1).ipynb",
      "provenance": [],
      "include_colab_link": true
    }
  },
  "cells": [
    {
      "cell_type": "markdown",
      "metadata": {
        "id": "view-in-github",
        "colab_type": "text"
      },
      "source": [
        "<a href=\"https://colab.research.google.com/github/cnrgrl/PANDAS/blob/main/01_What_is_pandas_(1).ipynb\" target=\"_parent\"><img src=\"https://colab.research.google.com/assets/colab-badge.svg\" alt=\"Open In Colab\"/></a>"
      ]
    },
    {
      "cell_type": "code",
      "metadata": {
        "id": "EsmBSLoFpTW8",
        "colab": {
          "base_uri": "https://localhost:8080/",
          "height": 121
        },
        "outputId": "0f119684-4328-4825-bd32-b0862070362d"
      },
      "source": [
        "# uncomment the following line, if you are using google collab\n",
        "!rm -r Pandas\n",
        "!git clone https://github.com/Wuebbelt/Pandas.git"
      ],
      "execution_count": null,
      "outputs": [
        {
          "output_type": "stream",
          "text": [
            "Cloning into 'Pandas'...\n",
            "remote: Enumerating objects: 74, done.\u001b[K\n",
            "remote: Counting objects: 100% (74/74), done.\u001b[K\n",
            "remote: Compressing objects: 100% (64/64), done.\u001b[K\n",
            "remote: Total 74 (delta 10), reused 73 (delta 9), pack-reused 0\u001b[K\n",
            "Unpacking objects: 100% (74/74), done.\n"
          ],
          "name": "stdout"
        }
      ]
    },
    {
      "cell_type": "markdown",
      "metadata": {
        "id": "hq9qr4rPn_tc"
      },
      "source": [
        "# What is pandas?\n",
        "\n",
        "In this chapter, we introduce the pandas library by providing many of the most popular and powerful data analysis tasks that it can complete.\n",
        "\n",
        "### What is pandas?\n",
        "\n",
        "pandas is one of the most popular open source data exploration libraries currently available. It gives its users the power to explore, manipulate, query, aggregate, and visualize **tabular** data. Tabular refers to data that is two-dimensional, consisting of rows and columns. Commonly, we refer to this organized structure of data as a **table**.\n",
        "\n",
        "![][1]\n",
        "\n",
        "### Why pandas and not xyz?\n",
        "\n",
        "In this current age of data explosion, there are now dozens of other tools that have many of the same capabilities as the pandas library. However, there are many aspects of pandas that make it an attractive choice for data analysis and it continues to have one of the fastest growing user bases.\n",
        "\n",
        "* It's a Python library and integrates well with the other popular data science libraries such as numpy, scikit-learn, statsmodels, matplotlib, and seaborn.\n",
        "* It is nearly self-contained in that lots of functionality is built into one package. This contrasts with R, where many packages are needed to obtain the same functionality.\n",
        "* The community is excellent. Looking at Stack Overflow, for example, there are [many ten's of thousands of][2] pandas questions. If you need help, you are nearly guaranteed to find it quickly. \n",
        "\n",
        "### Why is it named after an East Asian bear?\n",
        "\n",
        "The pandas library was begun by Wes McKinney in 2008 while working at the hedge fund AQR. In the financial world, it is common to refer to tabular data as 'panel data' which smashed together becomes pandas. If you are really interested in the history, hear it from the creator [himself][3].\n",
        "\n",
        "### Python already has data structures to handle data, why do we need another one?\n",
        "\n",
        "Even though Python is a high-level language, its primary built-in data structure to contain a sequence of values, lists, are not built for scientific computing. Lists are a general purpose data structure that can store any object of any type and are not optimized for tabular data analysis. Python lacks a built-in data structure that contains homogeneous data types for fast access and numerical computation. This data structure, usually referred to as an 'array' in most languages, is provided by the numpy third-part library.\n",
        "\n",
        "### pandas is built directly on numpy\n",
        "\n",
        "[numpy][4] ('numerical Python') is the most popular third-party Python library for scientific computing and forms the foundation for dozens of others, including pandas. numpy's primary data structure is an n-dimensional array which is much more powerful than a Python list and with much better performance for numerical operations.\n",
        "\n",
        "All of the data in pandas is stored in numpy arrays. That said, it isn't necessary to know much about numpy when learning pandas. You can think of pandas as a higher-level, easier to use interface for doing data analysis than numpy. It is a good idea to eventually learn numpy, but for most tasks, pandas will be the right tool.\n",
        "\n",
        "## pandas operates on tabular data\n",
        "\n",
        "There are numerous formats for data such as XML, JSON, CSV, Parquet, raw bytes, and many others. pandas has the capability to read in many different formats of data It always converts it to tabular data. pandas is built just for analyzing this rectangular, deceptively normal concept of data. pandas is not a suitable library for handling data in more than two-dimensions. It's focus is strictly on data that is one or two dimensions.\n",
        "\n",
        "### The DataFrame and Series\n",
        "\n",
        "The DataFrame and Series are the two primary pandas objects that we use throughout this book.\n",
        "\n",
        "* **DataFrame** - A two-dimensional data structure that looks like any other rectangular table of data with rows and columns.\n",
        "* **Series** - A single dimension of data. It is analogous to a single column of data or a one-dimensional array.\n",
        "\n",
        "## pandas examples\n",
        "\n",
        "The rest of this chapter contains examples of common data analysis tasks with pandas. There are one or two examples from each of the following major areas of the library:\n",
        "\n",
        "* Reading data\n",
        "* Filtering data\n",
        "* Aggregating methods\n",
        "* Non-Aggregating methods\n",
        "* Aggregating within groups\n",
        "* Tidying data\n",
        "* Joining data\n",
        "* Time series analysis\n",
        "* Visualization\n",
        "\n",
        "The goal is to give you a broad overview of what pandas is capable of doing. You are not expected to understand the syntax, but rather get a few ideas of what you can expect to accomplish when using pandas. Explanations will be brief, but hopefully provide just enough information so that you can understand the end result.\n",
        "\n",
        "### The `head` method\n",
        "\n",
        "Many of the last lines of code end with the `head` method. By default, this method returns the first five rows of the DataFrame or Series that calls it. The purpose of this method is to limit the output so that it easily fits on a screen or page in a book. If the `head` method is not used, then pandas displays the first 60 rows of data by default. To reduce output even further, an integer (usually 3) will be passed to the `head` method. This integer controls the number of rows returned.\n",
        "\n",
        "## Reading data\n",
        "\n",
        "Multiple datasets are used during the rest of this chapter. The `read_csv` function is able to read in text data that is separated by a delimiter. By default, the delimiter is a comma. Below, we read in public bike usage data from the city of Chicago into a pandas DataFrame named `bikes`.\n",
        "\n",
        "[1]: http://www.wuebbelt.de/Pandas/pandas_logo.png\n",
        "[2]: http://stackoverflow.com/questions/tagged/pandas\n",
        "[3]: https://www.youtube.com/watch?v=kHdkFyGCxiY\n",
        "[4]: http://www.numpy.org/"
      ]
    },
    {
      "cell_type": "code",
      "metadata": {
        "id": "vZ0R1HK0n_th",
        "colab": {
          "base_uri": "https://localhost:8080/",
          "height": 267
        },
        "outputId": "f2a52bd6-2647-499c-c49e-1c1efb577037"
      },
      "source": [
        "import pandas as pd\n",
        "bikes = pd.read_csv('Pandas/bikes.csv')\n",
        "bikes.head(3)"
      ],
      "execution_count": null,
      "outputs": [
        {
          "output_type": "execute_result",
          "data": {
            "text/html": [
              "<div>\n",
              "<style scoped>\n",
              "    .dataframe tbody tr th:only-of-type {\n",
              "        vertical-align: middle;\n",
              "    }\n",
              "\n",
              "    .dataframe tbody tr th {\n",
              "        vertical-align: top;\n",
              "    }\n",
              "\n",
              "    .dataframe thead th {\n",
              "        text-align: right;\n",
              "    }\n",
              "</style>\n",
              "<table border=\"1\" class=\"dataframe\">\n",
              "  <thead>\n",
              "    <tr style=\"text-align: right;\">\n",
              "      <th></th>\n",
              "      <th>trip_id</th>\n",
              "      <th>usertype</th>\n",
              "      <th>gender</th>\n",
              "      <th>starttime</th>\n",
              "      <th>stoptime</th>\n",
              "      <th>tripduration</th>\n",
              "      <th>from_station_name</th>\n",
              "      <th>latitude_start</th>\n",
              "      <th>longitude_start</th>\n",
              "      <th>dpcapacity_start</th>\n",
              "      <th>to_station_name</th>\n",
              "      <th>latitude_end</th>\n",
              "      <th>longitude_end</th>\n",
              "      <th>dpcapacity_end</th>\n",
              "      <th>temperature</th>\n",
              "      <th>visibility</th>\n",
              "      <th>wind_speed</th>\n",
              "      <th>precipitation</th>\n",
              "      <th>events</th>\n",
              "    </tr>\n",
              "  </thead>\n",
              "  <tbody>\n",
              "    <tr>\n",
              "      <th>0</th>\n",
              "      <td>7147</td>\n",
              "      <td>Subscriber</td>\n",
              "      <td>Male</td>\n",
              "      <td>2013-06-28 19:01:00</td>\n",
              "      <td>2013-06-28 19:17:00</td>\n",
              "      <td>993</td>\n",
              "      <td>Lake Shore Dr &amp; Monroe St</td>\n",
              "      <td>41.881050</td>\n",
              "      <td>-87.616970</td>\n",
              "      <td>11.0</td>\n",
              "      <td>Michigan Ave &amp; Oak St</td>\n",
              "      <td>41.90096</td>\n",
              "      <td>-87.623777</td>\n",
              "      <td>15.0</td>\n",
              "      <td>73.9</td>\n",
              "      <td>10.0</td>\n",
              "      <td>12.7</td>\n",
              "      <td>-9999.0</td>\n",
              "      <td>mostlycloudy</td>\n",
              "    </tr>\n",
              "    <tr>\n",
              "      <th>1</th>\n",
              "      <td>7524</td>\n",
              "      <td>Subscriber</td>\n",
              "      <td>Male</td>\n",
              "      <td>2013-06-28 22:53:00</td>\n",
              "      <td>2013-06-28 23:03:00</td>\n",
              "      <td>623</td>\n",
              "      <td>Clinton St &amp; Washington Blvd</td>\n",
              "      <td>41.883380</td>\n",
              "      <td>-87.641170</td>\n",
              "      <td>31.0</td>\n",
              "      <td>Wells St &amp; Walton St</td>\n",
              "      <td>41.89993</td>\n",
              "      <td>-87.634430</td>\n",
              "      <td>19.0</td>\n",
              "      <td>69.1</td>\n",
              "      <td>10.0</td>\n",
              "      <td>6.9</td>\n",
              "      <td>-9999.0</td>\n",
              "      <td>partlycloudy</td>\n",
              "    </tr>\n",
              "    <tr>\n",
              "      <th>2</th>\n",
              "      <td>10927</td>\n",
              "      <td>Subscriber</td>\n",
              "      <td>Male</td>\n",
              "      <td>2013-06-30 14:43:00</td>\n",
              "      <td>2013-06-30 15:01:00</td>\n",
              "      <td>1040</td>\n",
              "      <td>Sheffield Ave &amp; Kingsbury St</td>\n",
              "      <td>41.909592</td>\n",
              "      <td>-87.653497</td>\n",
              "      <td>15.0</td>\n",
              "      <td>Dearborn St &amp; Monroe St</td>\n",
              "      <td>41.88132</td>\n",
              "      <td>-87.629521</td>\n",
              "      <td>23.0</td>\n",
              "      <td>73.0</td>\n",
              "      <td>10.0</td>\n",
              "      <td>16.1</td>\n",
              "      <td>-9999.0</td>\n",
              "      <td>mostlycloudy</td>\n",
              "    </tr>\n",
              "  </tbody>\n",
              "</table>\n",
              "</div>"
            ],
            "text/plain": [
              "   trip_id    usertype gender  ... wind_speed precipitation        events\n",
              "0     7147  Subscriber   Male  ...       12.7       -9999.0  mostlycloudy\n",
              "1     7524  Subscriber   Male  ...        6.9       -9999.0  partlycloudy\n",
              "2    10927  Subscriber   Male  ...       16.1       -9999.0  mostlycloudy\n",
              "\n",
              "[3 rows x 19 columns]"
            ]
          },
          "metadata": {
            "tags": []
          },
          "execution_count": 116
        }
      ]
    },
    {
      "cell_type": "markdown",
      "metadata": {
        "id": "cTsMHxr2n_tl"
      },
      "source": [
        "## Filtering data\n",
        "\n",
        "pandas can filter the rows of a DataFrame based on whether the values in that row meet a condition. For instance, we can select only the rides that had a `tripduration` greater than 5000 (seconds)."
      ]
    },
    {
      "cell_type": "markdown",
      "metadata": {
        "id": "4HIkofCqn_tm"
      },
      "source": [
        "### Single Condition\n",
        "\n",
        "This example is a single condition that gets tested for each row. Only the rows that meet this condition are returned."
      ]
    },
    {
      "cell_type": "code",
      "metadata": {
        "id": "b4K4mWxdn_to",
        "colab": {
          "base_uri": "https://localhost:8080/",
          "height": 267
        },
        "outputId": "d8dbba2f-484d-478a-c947-e0d14a240c8e"
      },
      "source": [
        "filt = bikes['tripduration'] > 5000\n",
        "bikes[filt].head(3)"
      ],
      "execution_count": null,
      "outputs": [
        {
          "output_type": "execute_result",
          "data": {
            "text/html": [
              "<div>\n",
              "<style scoped>\n",
              "    .dataframe tbody tr th:only-of-type {\n",
              "        vertical-align: middle;\n",
              "    }\n",
              "\n",
              "    .dataframe tbody tr th {\n",
              "        vertical-align: top;\n",
              "    }\n",
              "\n",
              "    .dataframe thead th {\n",
              "        text-align: right;\n",
              "    }\n",
              "</style>\n",
              "<table border=\"1\" class=\"dataframe\">\n",
              "  <thead>\n",
              "    <tr style=\"text-align: right;\">\n",
              "      <th></th>\n",
              "      <th>trip_id</th>\n",
              "      <th>usertype</th>\n",
              "      <th>gender</th>\n",
              "      <th>starttime</th>\n",
              "      <th>stoptime</th>\n",
              "      <th>tripduration</th>\n",
              "      <th>from_station_name</th>\n",
              "      <th>latitude_start</th>\n",
              "      <th>longitude_start</th>\n",
              "      <th>dpcapacity_start</th>\n",
              "      <th>to_station_name</th>\n",
              "      <th>latitude_end</th>\n",
              "      <th>longitude_end</th>\n",
              "      <th>dpcapacity_end</th>\n",
              "      <th>temperature</th>\n",
              "      <th>visibility</th>\n",
              "      <th>wind_speed</th>\n",
              "      <th>precipitation</th>\n",
              "      <th>events</th>\n",
              "    </tr>\n",
              "  </thead>\n",
              "  <tbody>\n",
              "    <tr>\n",
              "      <th>18</th>\n",
              "      <td>40924</td>\n",
              "      <td>Subscriber</td>\n",
              "      <td>Male</td>\n",
              "      <td>2013-07-09 13:12:00</td>\n",
              "      <td>2013-07-09 14:42:00</td>\n",
              "      <td>5396</td>\n",
              "      <td>Canal St &amp; Jackson Blvd</td>\n",
              "      <td>41.878114</td>\n",
              "      <td>-87.639971</td>\n",
              "      <td>35.0</td>\n",
              "      <td>Millennium Park</td>\n",
              "      <td>41.881032</td>\n",
              "      <td>-87.624084</td>\n",
              "      <td>35.0</td>\n",
              "      <td>79.0</td>\n",
              "      <td>10.0</td>\n",
              "      <td>13.8</td>\n",
              "      <td>0.0</td>\n",
              "      <td>cloudy</td>\n",
              "    </tr>\n",
              "    <tr>\n",
              "      <th>40</th>\n",
              "      <td>61401</td>\n",
              "      <td>Subscriber</td>\n",
              "      <td>Female</td>\n",
              "      <td>2013-07-14 14:08:00</td>\n",
              "      <td>2013-07-14 15:53:00</td>\n",
              "      <td>6274</td>\n",
              "      <td>Wabash Ave &amp; Roosevelt Rd</td>\n",
              "      <td>41.867173</td>\n",
              "      <td>-87.625955</td>\n",
              "      <td>19.0</td>\n",
              "      <td>Lake Shore Dr &amp; Monroe St</td>\n",
              "      <td>41.881050</td>\n",
              "      <td>-87.616970</td>\n",
              "      <td>11.0</td>\n",
              "      <td>87.1</td>\n",
              "      <td>10.0</td>\n",
              "      <td>8.1</td>\n",
              "      <td>-9999.0</td>\n",
              "      <td>partlycloudy</td>\n",
              "    </tr>\n",
              "    <tr>\n",
              "      <th>77</th>\n",
              "      <td>87005</td>\n",
              "      <td>Subscriber</td>\n",
              "      <td>Female</td>\n",
              "      <td>2013-07-21 11:35:00</td>\n",
              "      <td>2013-07-21 13:54:00</td>\n",
              "      <td>8299</td>\n",
              "      <td>State St &amp; 19th St</td>\n",
              "      <td>41.856594</td>\n",
              "      <td>-87.627542</td>\n",
              "      <td>15.0</td>\n",
              "      <td>Sheffield Ave &amp; Kingsbury St</td>\n",
              "      <td>41.909592</td>\n",
              "      <td>-87.653497</td>\n",
              "      <td>15.0</td>\n",
              "      <td>82.9</td>\n",
              "      <td>10.0</td>\n",
              "      <td>5.8</td>\n",
              "      <td>-9999.0</td>\n",
              "      <td>mostlycloudy</td>\n",
              "    </tr>\n",
              "  </tbody>\n",
              "</table>\n",
              "</div>"
            ],
            "text/plain": [
              "    trip_id    usertype  gender  ... wind_speed precipitation        events\n",
              "18    40924  Subscriber    Male  ...       13.8           0.0        cloudy\n",
              "40    61401  Subscriber  Female  ...        8.1       -9999.0  partlycloudy\n",
              "77    87005  Subscriber  Female  ...        5.8       -9999.0  mostlycloudy\n",
              "\n",
              "[3 rows x 19 columns]"
            ]
          },
          "metadata": {
            "tags": []
          },
          "execution_count": 117
        }
      ]
    },
    {
      "cell_type": "markdown",
      "metadata": {
        "id": "M8q8zHBbn_tt"
      },
      "source": [
        "### Multiple Conditions\n",
        "\n",
        "We can test for multiple conditions in a single row. The following example returns rides done by females **and** have a `tripduration` greater than 5000."
      ]
    },
    {
      "cell_type": "code",
      "metadata": {
        "id": "aq27UXD0n_tu",
        "colab": {
          "base_uri": "https://localhost:8080/",
          "height": 267
        },
        "outputId": "edde59e6-c899-4e74-b51c-e193a02cbc52"
      },
      "source": [
        "filt1 = bikes['tripduration'] > 5000\n",
        "filt2 = bikes['gender'] == 'Female'\n",
        "filt = filt1 & filt2\n",
        "bikes[filt].head(3)"
      ],
      "execution_count": null,
      "outputs": [
        {
          "output_type": "execute_result",
          "data": {
            "text/html": [
              "<div>\n",
              "<style scoped>\n",
              "    .dataframe tbody tr th:only-of-type {\n",
              "        vertical-align: middle;\n",
              "    }\n",
              "\n",
              "    .dataframe tbody tr th {\n",
              "        vertical-align: top;\n",
              "    }\n",
              "\n",
              "    .dataframe thead th {\n",
              "        text-align: right;\n",
              "    }\n",
              "</style>\n",
              "<table border=\"1\" class=\"dataframe\">\n",
              "  <thead>\n",
              "    <tr style=\"text-align: right;\">\n",
              "      <th></th>\n",
              "      <th>trip_id</th>\n",
              "      <th>usertype</th>\n",
              "      <th>gender</th>\n",
              "      <th>starttime</th>\n",
              "      <th>stoptime</th>\n",
              "      <th>tripduration</th>\n",
              "      <th>from_station_name</th>\n",
              "      <th>latitude_start</th>\n",
              "      <th>longitude_start</th>\n",
              "      <th>dpcapacity_start</th>\n",
              "      <th>to_station_name</th>\n",
              "      <th>latitude_end</th>\n",
              "      <th>longitude_end</th>\n",
              "      <th>dpcapacity_end</th>\n",
              "      <th>temperature</th>\n",
              "      <th>visibility</th>\n",
              "      <th>wind_speed</th>\n",
              "      <th>precipitation</th>\n",
              "      <th>events</th>\n",
              "    </tr>\n",
              "  </thead>\n",
              "  <tbody>\n",
              "    <tr>\n",
              "      <th>40</th>\n",
              "      <td>61401</td>\n",
              "      <td>Subscriber</td>\n",
              "      <td>Female</td>\n",
              "      <td>2013-07-14 14:08:00</td>\n",
              "      <td>2013-07-14 15:53:00</td>\n",
              "      <td>6274</td>\n",
              "      <td>Wabash Ave &amp; Roosevelt Rd</td>\n",
              "      <td>41.867173</td>\n",
              "      <td>-87.625955</td>\n",
              "      <td>19.0</td>\n",
              "      <td>Lake Shore Dr &amp; Monroe St</td>\n",
              "      <td>41.881050</td>\n",
              "      <td>-87.616970</td>\n",
              "      <td>11.0</td>\n",
              "      <td>87.1</td>\n",
              "      <td>10.0</td>\n",
              "      <td>8.1</td>\n",
              "      <td>-9999.0</td>\n",
              "      <td>partlycloudy</td>\n",
              "    </tr>\n",
              "    <tr>\n",
              "      <th>77</th>\n",
              "      <td>87005</td>\n",
              "      <td>Subscriber</td>\n",
              "      <td>Female</td>\n",
              "      <td>2013-07-21 11:35:00</td>\n",
              "      <td>2013-07-21 13:54:00</td>\n",
              "      <td>8299</td>\n",
              "      <td>State St &amp; 19th St</td>\n",
              "      <td>41.856594</td>\n",
              "      <td>-87.627542</td>\n",
              "      <td>15.0</td>\n",
              "      <td>Sheffield Ave &amp; Kingsbury St</td>\n",
              "      <td>41.909592</td>\n",
              "      <td>-87.653497</td>\n",
              "      <td>15.0</td>\n",
              "      <td>82.9</td>\n",
              "      <td>10.0</td>\n",
              "      <td>5.8</td>\n",
              "      <td>-9999.0</td>\n",
              "      <td>mostlycloudy</td>\n",
              "    </tr>\n",
              "    <tr>\n",
              "      <th>1954</th>\n",
              "      <td>1103416</td>\n",
              "      <td>Subscriber</td>\n",
              "      <td>Female</td>\n",
              "      <td>2013-12-28 11:37:00</td>\n",
              "      <td>2013-12-28 13:34:00</td>\n",
              "      <td>7050</td>\n",
              "      <td>LaSalle St &amp; Washington St</td>\n",
              "      <td>41.882664</td>\n",
              "      <td>-87.632530</td>\n",
              "      <td>15.0</td>\n",
              "      <td>Theater on the Lake</td>\n",
              "      <td>41.926277</td>\n",
              "      <td>-87.630834</td>\n",
              "      <td>15.0</td>\n",
              "      <td>44.1</td>\n",
              "      <td>10.0</td>\n",
              "      <td>12.7</td>\n",
              "      <td>-9999.0</td>\n",
              "      <td>clear</td>\n",
              "    </tr>\n",
              "  </tbody>\n",
              "</table>\n",
              "</div>"
            ],
            "text/plain": [
              "      trip_id    usertype  gender  ... wind_speed precipitation        events\n",
              "40      61401  Subscriber  Female  ...        8.1       -9999.0  partlycloudy\n",
              "77      87005  Subscriber  Female  ...        5.8       -9999.0  mostlycloudy\n",
              "1954  1103416  Subscriber  Female  ...       12.7       -9999.0         clear\n",
              "\n",
              "[3 rows x 19 columns]"
            ]
          },
          "metadata": {
            "tags": []
          },
          "execution_count": 118
        }
      ]
    },
    {
      "cell_type": "markdown",
      "metadata": {
        "id": "6ZLps3CTn_tz"
      },
      "source": [
        "The next example has multiple conditions but only requires that one of the conditions is true. It returns all the rows where either the rider is female **or** the `tripduration` is greater than 5000."
      ]
    },
    {
      "cell_type": "code",
      "metadata": {
        "id": "ZBxf3EwYn_t0",
        "colab": {
          "base_uri": "https://localhost:8080/",
          "height": 267
        },
        "outputId": "85f47722-25ea-4c7d-a946-5bddc8412dc5"
      },
      "source": [
        "filt = filt1 | filt2\n",
        "bikes[filt].head(3)"
      ],
      "execution_count": null,
      "outputs": [
        {
          "output_type": "execute_result",
          "data": {
            "text/html": [
              "<div>\n",
              "<style scoped>\n",
              "    .dataframe tbody tr th:only-of-type {\n",
              "        vertical-align: middle;\n",
              "    }\n",
              "\n",
              "    .dataframe tbody tr th {\n",
              "        vertical-align: top;\n",
              "    }\n",
              "\n",
              "    .dataframe thead th {\n",
              "        text-align: right;\n",
              "    }\n",
              "</style>\n",
              "<table border=\"1\" class=\"dataframe\">\n",
              "  <thead>\n",
              "    <tr style=\"text-align: right;\">\n",
              "      <th></th>\n",
              "      <th>trip_id</th>\n",
              "      <th>usertype</th>\n",
              "      <th>gender</th>\n",
              "      <th>starttime</th>\n",
              "      <th>stoptime</th>\n",
              "      <th>tripduration</th>\n",
              "      <th>from_station_name</th>\n",
              "      <th>latitude_start</th>\n",
              "      <th>longitude_start</th>\n",
              "      <th>dpcapacity_start</th>\n",
              "      <th>to_station_name</th>\n",
              "      <th>latitude_end</th>\n",
              "      <th>longitude_end</th>\n",
              "      <th>dpcapacity_end</th>\n",
              "      <th>temperature</th>\n",
              "      <th>visibility</th>\n",
              "      <th>wind_speed</th>\n",
              "      <th>precipitation</th>\n",
              "      <th>events</th>\n",
              "    </tr>\n",
              "  </thead>\n",
              "  <tbody>\n",
              "    <tr>\n",
              "      <th>9</th>\n",
              "      <td>23558</td>\n",
              "      <td>Subscriber</td>\n",
              "      <td>Female</td>\n",
              "      <td>2013-07-04 15:00:00</td>\n",
              "      <td>2013-07-04 15:16:00</td>\n",
              "      <td>922</td>\n",
              "      <td>Lakeview Ave &amp; Fullerton Pkwy</td>\n",
              "      <td>41.925858</td>\n",
              "      <td>-87.638973</td>\n",
              "      <td>19.0</td>\n",
              "      <td>Racine Ave &amp; Congress Pkwy</td>\n",
              "      <td>41.874640</td>\n",
              "      <td>-87.657030</td>\n",
              "      <td>19.0</td>\n",
              "      <td>81.0</td>\n",
              "      <td>10.0</td>\n",
              "      <td>12.7</td>\n",
              "      <td>-9999.0</td>\n",
              "      <td>mostlycloudy</td>\n",
              "    </tr>\n",
              "    <tr>\n",
              "      <th>14</th>\n",
              "      <td>31121</td>\n",
              "      <td>Subscriber</td>\n",
              "      <td>Female</td>\n",
              "      <td>2013-07-06 12:39:00</td>\n",
              "      <td>2013-07-06 12:49:00</td>\n",
              "      <td>610</td>\n",
              "      <td>Morgan St &amp; Lake St</td>\n",
              "      <td>41.885483</td>\n",
              "      <td>-87.652305</td>\n",
              "      <td>15.0</td>\n",
              "      <td>Aberdeen St &amp; Jackson Blvd</td>\n",
              "      <td>41.877726</td>\n",
              "      <td>-87.654787</td>\n",
              "      <td>15.0</td>\n",
              "      <td>82.0</td>\n",
              "      <td>10.0</td>\n",
              "      <td>5.8</td>\n",
              "      <td>-9999.0</td>\n",
              "      <td>mostlycloudy</td>\n",
              "    </tr>\n",
              "    <tr>\n",
              "      <th>18</th>\n",
              "      <td>40924</td>\n",
              "      <td>Subscriber</td>\n",
              "      <td>Male</td>\n",
              "      <td>2013-07-09 13:12:00</td>\n",
              "      <td>2013-07-09 14:42:00</td>\n",
              "      <td>5396</td>\n",
              "      <td>Canal St &amp; Jackson Blvd</td>\n",
              "      <td>41.878114</td>\n",
              "      <td>-87.639971</td>\n",
              "      <td>35.0</td>\n",
              "      <td>Millennium Park</td>\n",
              "      <td>41.881032</td>\n",
              "      <td>-87.624084</td>\n",
              "      <td>35.0</td>\n",
              "      <td>79.0</td>\n",
              "      <td>10.0</td>\n",
              "      <td>13.8</td>\n",
              "      <td>0.0</td>\n",
              "      <td>cloudy</td>\n",
              "    </tr>\n",
              "  </tbody>\n",
              "</table>\n",
              "</div>"
            ],
            "text/plain": [
              "    trip_id    usertype  gender  ... wind_speed precipitation        events\n",
              "9     23558  Subscriber  Female  ...       12.7       -9999.0  mostlycloudy\n",
              "14    31121  Subscriber  Female  ...        5.8       -9999.0  mostlycloudy\n",
              "18    40924  Subscriber    Male  ...       13.8           0.0        cloudy\n",
              "\n",
              "[3 rows x 19 columns]"
            ]
          },
          "metadata": {
            "tags": []
          },
          "execution_count": 119
        }
      ]
    },
    {
      "cell_type": "markdown",
      "metadata": {
        "id": "6ArJV6R7n_t4"
      },
      "source": [
        "### Using the `query` method\n",
        "\n",
        "The `query` method provides an alternative and often more readable way to filter data than the above. All three filtering examples from above may be duplicated with `query`."
      ]
    },
    {
      "cell_type": "code",
      "metadata": {
        "id": "v3FuU5Mwn_t6",
        "colab": {
          "base_uri": "https://localhost:8080/",
          "height": 267
        },
        "outputId": "561b33da-9478-4f40-d70f-003d7db7e46c"
      },
      "source": [
        "bikes.query('tripduration > 5000').head(3)"
      ],
      "execution_count": null,
      "outputs": [
        {
          "output_type": "execute_result",
          "data": {
            "text/html": [
              "<div>\n",
              "<style scoped>\n",
              "    .dataframe tbody tr th:only-of-type {\n",
              "        vertical-align: middle;\n",
              "    }\n",
              "\n",
              "    .dataframe tbody tr th {\n",
              "        vertical-align: top;\n",
              "    }\n",
              "\n",
              "    .dataframe thead th {\n",
              "        text-align: right;\n",
              "    }\n",
              "</style>\n",
              "<table border=\"1\" class=\"dataframe\">\n",
              "  <thead>\n",
              "    <tr style=\"text-align: right;\">\n",
              "      <th></th>\n",
              "      <th>trip_id</th>\n",
              "      <th>usertype</th>\n",
              "      <th>gender</th>\n",
              "      <th>starttime</th>\n",
              "      <th>stoptime</th>\n",
              "      <th>tripduration</th>\n",
              "      <th>from_station_name</th>\n",
              "      <th>latitude_start</th>\n",
              "      <th>longitude_start</th>\n",
              "      <th>dpcapacity_start</th>\n",
              "      <th>to_station_name</th>\n",
              "      <th>latitude_end</th>\n",
              "      <th>longitude_end</th>\n",
              "      <th>dpcapacity_end</th>\n",
              "      <th>temperature</th>\n",
              "      <th>visibility</th>\n",
              "      <th>wind_speed</th>\n",
              "      <th>precipitation</th>\n",
              "      <th>events</th>\n",
              "    </tr>\n",
              "  </thead>\n",
              "  <tbody>\n",
              "    <tr>\n",
              "      <th>18</th>\n",
              "      <td>40924</td>\n",
              "      <td>Subscriber</td>\n",
              "      <td>Male</td>\n",
              "      <td>2013-07-09 13:12:00</td>\n",
              "      <td>2013-07-09 14:42:00</td>\n",
              "      <td>5396</td>\n",
              "      <td>Canal St &amp; Jackson Blvd</td>\n",
              "      <td>41.878114</td>\n",
              "      <td>-87.639971</td>\n",
              "      <td>35.0</td>\n",
              "      <td>Millennium Park</td>\n",
              "      <td>41.881032</td>\n",
              "      <td>-87.624084</td>\n",
              "      <td>35.0</td>\n",
              "      <td>79.0</td>\n",
              "      <td>10.0</td>\n",
              "      <td>13.8</td>\n",
              "      <td>0.0</td>\n",
              "      <td>cloudy</td>\n",
              "    </tr>\n",
              "    <tr>\n",
              "      <th>40</th>\n",
              "      <td>61401</td>\n",
              "      <td>Subscriber</td>\n",
              "      <td>Female</td>\n",
              "      <td>2013-07-14 14:08:00</td>\n",
              "      <td>2013-07-14 15:53:00</td>\n",
              "      <td>6274</td>\n",
              "      <td>Wabash Ave &amp; Roosevelt Rd</td>\n",
              "      <td>41.867173</td>\n",
              "      <td>-87.625955</td>\n",
              "      <td>19.0</td>\n",
              "      <td>Lake Shore Dr &amp; Monroe St</td>\n",
              "      <td>41.881050</td>\n",
              "      <td>-87.616970</td>\n",
              "      <td>11.0</td>\n",
              "      <td>87.1</td>\n",
              "      <td>10.0</td>\n",
              "      <td>8.1</td>\n",
              "      <td>-9999.0</td>\n",
              "      <td>partlycloudy</td>\n",
              "    </tr>\n",
              "    <tr>\n",
              "      <th>77</th>\n",
              "      <td>87005</td>\n",
              "      <td>Subscriber</td>\n",
              "      <td>Female</td>\n",
              "      <td>2013-07-21 11:35:00</td>\n",
              "      <td>2013-07-21 13:54:00</td>\n",
              "      <td>8299</td>\n",
              "      <td>State St &amp; 19th St</td>\n",
              "      <td>41.856594</td>\n",
              "      <td>-87.627542</td>\n",
              "      <td>15.0</td>\n",
              "      <td>Sheffield Ave &amp; Kingsbury St</td>\n",
              "      <td>41.909592</td>\n",
              "      <td>-87.653497</td>\n",
              "      <td>15.0</td>\n",
              "      <td>82.9</td>\n",
              "      <td>10.0</td>\n",
              "      <td>5.8</td>\n",
              "      <td>-9999.0</td>\n",
              "      <td>mostlycloudy</td>\n",
              "    </tr>\n",
              "  </tbody>\n",
              "</table>\n",
              "</div>"
            ],
            "text/plain": [
              "    trip_id    usertype  gender  ... wind_speed precipitation        events\n",
              "18    40924  Subscriber    Male  ...       13.8           0.0        cloudy\n",
              "40    61401  Subscriber  Female  ...        8.1       -9999.0  partlycloudy\n",
              "77    87005  Subscriber  Female  ...        5.8       -9999.0  mostlycloudy\n",
              "\n",
              "[3 rows x 19 columns]"
            ]
          },
          "metadata": {
            "tags": []
          },
          "execution_count": 120
        }
      ]
    },
    {
      "cell_type": "code",
      "metadata": {
        "id": "S53l7KMzn_t_",
        "colab": {
          "base_uri": "https://localhost:8080/",
          "height": 267
        },
        "outputId": "4be8857a-4315-4e79-d73d-e831c86a002a"
      },
      "source": [
        "bikes.query('tripduration > 5000 and gender==\"Female\"').head(3)"
      ],
      "execution_count": null,
      "outputs": [
        {
          "output_type": "execute_result",
          "data": {
            "text/html": [
              "<div>\n",
              "<style scoped>\n",
              "    .dataframe tbody tr th:only-of-type {\n",
              "        vertical-align: middle;\n",
              "    }\n",
              "\n",
              "    .dataframe tbody tr th {\n",
              "        vertical-align: top;\n",
              "    }\n",
              "\n",
              "    .dataframe thead th {\n",
              "        text-align: right;\n",
              "    }\n",
              "</style>\n",
              "<table border=\"1\" class=\"dataframe\">\n",
              "  <thead>\n",
              "    <tr style=\"text-align: right;\">\n",
              "      <th></th>\n",
              "      <th>trip_id</th>\n",
              "      <th>usertype</th>\n",
              "      <th>gender</th>\n",
              "      <th>starttime</th>\n",
              "      <th>stoptime</th>\n",
              "      <th>tripduration</th>\n",
              "      <th>from_station_name</th>\n",
              "      <th>latitude_start</th>\n",
              "      <th>longitude_start</th>\n",
              "      <th>dpcapacity_start</th>\n",
              "      <th>to_station_name</th>\n",
              "      <th>latitude_end</th>\n",
              "      <th>longitude_end</th>\n",
              "      <th>dpcapacity_end</th>\n",
              "      <th>temperature</th>\n",
              "      <th>visibility</th>\n",
              "      <th>wind_speed</th>\n",
              "      <th>precipitation</th>\n",
              "      <th>events</th>\n",
              "    </tr>\n",
              "  </thead>\n",
              "  <tbody>\n",
              "    <tr>\n",
              "      <th>40</th>\n",
              "      <td>61401</td>\n",
              "      <td>Subscriber</td>\n",
              "      <td>Female</td>\n",
              "      <td>2013-07-14 14:08:00</td>\n",
              "      <td>2013-07-14 15:53:00</td>\n",
              "      <td>6274</td>\n",
              "      <td>Wabash Ave &amp; Roosevelt Rd</td>\n",
              "      <td>41.867173</td>\n",
              "      <td>-87.625955</td>\n",
              "      <td>19.0</td>\n",
              "      <td>Lake Shore Dr &amp; Monroe St</td>\n",
              "      <td>41.881050</td>\n",
              "      <td>-87.616970</td>\n",
              "      <td>11.0</td>\n",
              "      <td>87.1</td>\n",
              "      <td>10.0</td>\n",
              "      <td>8.1</td>\n",
              "      <td>-9999.0</td>\n",
              "      <td>partlycloudy</td>\n",
              "    </tr>\n",
              "    <tr>\n",
              "      <th>77</th>\n",
              "      <td>87005</td>\n",
              "      <td>Subscriber</td>\n",
              "      <td>Female</td>\n",
              "      <td>2013-07-21 11:35:00</td>\n",
              "      <td>2013-07-21 13:54:00</td>\n",
              "      <td>8299</td>\n",
              "      <td>State St &amp; 19th St</td>\n",
              "      <td>41.856594</td>\n",
              "      <td>-87.627542</td>\n",
              "      <td>15.0</td>\n",
              "      <td>Sheffield Ave &amp; Kingsbury St</td>\n",
              "      <td>41.909592</td>\n",
              "      <td>-87.653497</td>\n",
              "      <td>15.0</td>\n",
              "      <td>82.9</td>\n",
              "      <td>10.0</td>\n",
              "      <td>5.8</td>\n",
              "      <td>-9999.0</td>\n",
              "      <td>mostlycloudy</td>\n",
              "    </tr>\n",
              "    <tr>\n",
              "      <th>1954</th>\n",
              "      <td>1103416</td>\n",
              "      <td>Subscriber</td>\n",
              "      <td>Female</td>\n",
              "      <td>2013-12-28 11:37:00</td>\n",
              "      <td>2013-12-28 13:34:00</td>\n",
              "      <td>7050</td>\n",
              "      <td>LaSalle St &amp; Washington St</td>\n",
              "      <td>41.882664</td>\n",
              "      <td>-87.632530</td>\n",
              "      <td>15.0</td>\n",
              "      <td>Theater on the Lake</td>\n",
              "      <td>41.926277</td>\n",
              "      <td>-87.630834</td>\n",
              "      <td>15.0</td>\n",
              "      <td>44.1</td>\n",
              "      <td>10.0</td>\n",
              "      <td>12.7</td>\n",
              "      <td>-9999.0</td>\n",
              "      <td>clear</td>\n",
              "    </tr>\n",
              "  </tbody>\n",
              "</table>\n",
              "</div>"
            ],
            "text/plain": [
              "      trip_id    usertype  gender  ... wind_speed precipitation        events\n",
              "40      61401  Subscriber  Female  ...        8.1       -9999.0  partlycloudy\n",
              "77      87005  Subscriber  Female  ...        5.8       -9999.0  mostlycloudy\n",
              "1954  1103416  Subscriber  Female  ...       12.7       -9999.0         clear\n",
              "\n",
              "[3 rows x 19 columns]"
            ]
          },
          "metadata": {
            "tags": []
          },
          "execution_count": 121
        }
      ]
    },
    {
      "cell_type": "code",
      "metadata": {
        "id": "yi-HDEzGn_uG",
        "colab": {
          "base_uri": "https://localhost:8080/",
          "height": 267
        },
        "outputId": "a5c8754b-9e00-4285-fd81-59acacd49328"
      },
      "source": [
        "bikes.query('tripduration > 5000 or gender==\"Female\"').head(3)"
      ],
      "execution_count": null,
      "outputs": [
        {
          "output_type": "execute_result",
          "data": {
            "text/html": [
              "<div>\n",
              "<style scoped>\n",
              "    .dataframe tbody tr th:only-of-type {\n",
              "        vertical-align: middle;\n",
              "    }\n",
              "\n",
              "    .dataframe tbody tr th {\n",
              "        vertical-align: top;\n",
              "    }\n",
              "\n",
              "    .dataframe thead th {\n",
              "        text-align: right;\n",
              "    }\n",
              "</style>\n",
              "<table border=\"1\" class=\"dataframe\">\n",
              "  <thead>\n",
              "    <tr style=\"text-align: right;\">\n",
              "      <th></th>\n",
              "      <th>trip_id</th>\n",
              "      <th>usertype</th>\n",
              "      <th>gender</th>\n",
              "      <th>starttime</th>\n",
              "      <th>stoptime</th>\n",
              "      <th>tripduration</th>\n",
              "      <th>from_station_name</th>\n",
              "      <th>latitude_start</th>\n",
              "      <th>longitude_start</th>\n",
              "      <th>dpcapacity_start</th>\n",
              "      <th>to_station_name</th>\n",
              "      <th>latitude_end</th>\n",
              "      <th>longitude_end</th>\n",
              "      <th>dpcapacity_end</th>\n",
              "      <th>temperature</th>\n",
              "      <th>visibility</th>\n",
              "      <th>wind_speed</th>\n",
              "      <th>precipitation</th>\n",
              "      <th>events</th>\n",
              "    </tr>\n",
              "  </thead>\n",
              "  <tbody>\n",
              "    <tr>\n",
              "      <th>9</th>\n",
              "      <td>23558</td>\n",
              "      <td>Subscriber</td>\n",
              "      <td>Female</td>\n",
              "      <td>2013-07-04 15:00:00</td>\n",
              "      <td>2013-07-04 15:16:00</td>\n",
              "      <td>922</td>\n",
              "      <td>Lakeview Ave &amp; Fullerton Pkwy</td>\n",
              "      <td>41.925858</td>\n",
              "      <td>-87.638973</td>\n",
              "      <td>19.0</td>\n",
              "      <td>Racine Ave &amp; Congress Pkwy</td>\n",
              "      <td>41.874640</td>\n",
              "      <td>-87.657030</td>\n",
              "      <td>19.0</td>\n",
              "      <td>81.0</td>\n",
              "      <td>10.0</td>\n",
              "      <td>12.7</td>\n",
              "      <td>-9999.0</td>\n",
              "      <td>mostlycloudy</td>\n",
              "    </tr>\n",
              "    <tr>\n",
              "      <th>14</th>\n",
              "      <td>31121</td>\n",
              "      <td>Subscriber</td>\n",
              "      <td>Female</td>\n",
              "      <td>2013-07-06 12:39:00</td>\n",
              "      <td>2013-07-06 12:49:00</td>\n",
              "      <td>610</td>\n",
              "      <td>Morgan St &amp; Lake St</td>\n",
              "      <td>41.885483</td>\n",
              "      <td>-87.652305</td>\n",
              "      <td>15.0</td>\n",
              "      <td>Aberdeen St &amp; Jackson Blvd</td>\n",
              "      <td>41.877726</td>\n",
              "      <td>-87.654787</td>\n",
              "      <td>15.0</td>\n",
              "      <td>82.0</td>\n",
              "      <td>10.0</td>\n",
              "      <td>5.8</td>\n",
              "      <td>-9999.0</td>\n",
              "      <td>mostlycloudy</td>\n",
              "    </tr>\n",
              "    <tr>\n",
              "      <th>18</th>\n",
              "      <td>40924</td>\n",
              "      <td>Subscriber</td>\n",
              "      <td>Male</td>\n",
              "      <td>2013-07-09 13:12:00</td>\n",
              "      <td>2013-07-09 14:42:00</td>\n",
              "      <td>5396</td>\n",
              "      <td>Canal St &amp; Jackson Blvd</td>\n",
              "      <td>41.878114</td>\n",
              "      <td>-87.639971</td>\n",
              "      <td>35.0</td>\n",
              "      <td>Millennium Park</td>\n",
              "      <td>41.881032</td>\n",
              "      <td>-87.624084</td>\n",
              "      <td>35.0</td>\n",
              "      <td>79.0</td>\n",
              "      <td>10.0</td>\n",
              "      <td>13.8</td>\n",
              "      <td>0.0</td>\n",
              "      <td>cloudy</td>\n",
              "    </tr>\n",
              "  </tbody>\n",
              "</table>\n",
              "</div>"
            ],
            "text/plain": [
              "    trip_id    usertype  gender  ... wind_speed precipitation        events\n",
              "9     23558  Subscriber  Female  ...       12.7       -9999.0  mostlycloudy\n",
              "14    31121  Subscriber  Female  ...        5.8       -9999.0  mostlycloudy\n",
              "18    40924  Subscriber    Male  ...       13.8           0.0        cloudy\n",
              "\n",
              "[3 rows x 19 columns]"
            ]
          },
          "metadata": {
            "tags": []
          },
          "execution_count": 122
        }
      ]
    },
    {
      "cell_type": "markdown",
      "metadata": {
        "id": "gro84PYsn_uI"
      },
      "source": [
        "## Aggregating methods\n",
        "\n",
        "The technical definition of an **aggregation** is when a sequence of values is summarized by a **single** number. For example, `sum`, `mean`, `median`, `max`, and `min` are all examples of aggregation methods. By default, calling these methods on a pandas DataFrame applies the aggregation to each column. Below, we use a dataset containing the percentage of undergraduate races for all US colleges."
      ]
    },
    {
      "cell_type": "code",
      "metadata": {
        "id": "AuG2ZbX7n_uJ",
        "colab": {
          "base_uri": "https://localhost:8080/",
          "height": 174
        },
        "outputId": "8dde428c-3ac6-48b0-9757-3a601680325f"
      },
      "source": [
        "college = pd.read_csv('Pandas/college.csv', index_col='instnm')\n",
        "cr = college.loc[:, 'ugds_white':'ugds_unkn']\n",
        "cr.head(3)"
      ],
      "execution_count": null,
      "outputs": [
        {
          "output_type": "execute_result",
          "data": {
            "text/html": [
              "<div>\n",
              "<style scoped>\n",
              "    .dataframe tbody tr th:only-of-type {\n",
              "        vertical-align: middle;\n",
              "    }\n",
              "\n",
              "    .dataframe tbody tr th {\n",
              "        vertical-align: top;\n",
              "    }\n",
              "\n",
              "    .dataframe thead th {\n",
              "        text-align: right;\n",
              "    }\n",
              "</style>\n",
              "<table border=\"1\" class=\"dataframe\">\n",
              "  <thead>\n",
              "    <tr style=\"text-align: right;\">\n",
              "      <th></th>\n",
              "      <th>ugds_white</th>\n",
              "      <th>ugds_black</th>\n",
              "      <th>ugds_hisp</th>\n",
              "      <th>ugds_asian</th>\n",
              "      <th>ugds_aian</th>\n",
              "      <th>ugds_nhpi</th>\n",
              "      <th>ugds_2mor</th>\n",
              "      <th>ugds_nra</th>\n",
              "      <th>ugds_unkn</th>\n",
              "    </tr>\n",
              "    <tr>\n",
              "      <th>instnm</th>\n",
              "      <th></th>\n",
              "      <th></th>\n",
              "      <th></th>\n",
              "      <th></th>\n",
              "      <th></th>\n",
              "      <th></th>\n",
              "      <th></th>\n",
              "      <th></th>\n",
              "      <th></th>\n",
              "    </tr>\n",
              "  </thead>\n",
              "  <tbody>\n",
              "    <tr>\n",
              "      <th>Alabama A &amp; M University</th>\n",
              "      <td>0.0333</td>\n",
              "      <td>0.9353</td>\n",
              "      <td>0.0055</td>\n",
              "      <td>0.0019</td>\n",
              "      <td>0.0024</td>\n",
              "      <td>0.0019</td>\n",
              "      <td>0.0000</td>\n",
              "      <td>0.0059</td>\n",
              "      <td>0.0138</td>\n",
              "    </tr>\n",
              "    <tr>\n",
              "      <th>University of Alabama at Birmingham</th>\n",
              "      <td>0.5922</td>\n",
              "      <td>0.2600</td>\n",
              "      <td>0.0283</td>\n",
              "      <td>0.0518</td>\n",
              "      <td>0.0022</td>\n",
              "      <td>0.0007</td>\n",
              "      <td>0.0368</td>\n",
              "      <td>0.0179</td>\n",
              "      <td>0.0100</td>\n",
              "    </tr>\n",
              "    <tr>\n",
              "      <th>Amridge University</th>\n",
              "      <td>0.2990</td>\n",
              "      <td>0.4192</td>\n",
              "      <td>0.0069</td>\n",
              "      <td>0.0034</td>\n",
              "      <td>0.0000</td>\n",
              "      <td>0.0000</td>\n",
              "      <td>0.0000</td>\n",
              "      <td>0.0000</td>\n",
              "      <td>0.2715</td>\n",
              "    </tr>\n",
              "  </tbody>\n",
              "</table>\n",
              "</div>"
            ],
            "text/plain": [
              "                                     ugds_white  ...  ugds_unkn\n",
              "instnm                                           ...           \n",
              "Alabama A & M University                 0.0333  ...     0.0138\n",
              "University of Alabama at Birmingham      0.5922  ...     0.0100\n",
              "Amridge University                       0.2990  ...     0.2715\n",
              "\n",
              "[3 rows x 9 columns]"
            ]
          },
          "metadata": {
            "tags": []
          },
          "execution_count": 123
        }
      ]
    },
    {
      "cell_type": "markdown",
      "metadata": {
        "id": "lDBecdL7n_uM"
      },
      "source": [
        "Calling the `mean` method returns the mean of each column."
      ]
    },
    {
      "cell_type": "code",
      "metadata": {
        "id": "TvtOr6zFn_uM",
        "colab": {
          "base_uri": "https://localhost:8080/",
          "height": 190
        },
        "outputId": "9c3a7471-dd87-42b3-9f15-1c912f866461"
      },
      "source": [
        "cr.mean()"
      ],
      "execution_count": null,
      "outputs": [
        {
          "output_type": "execute_result",
          "data": {
            "text/plain": [
              "ugds_white    0.510207\n",
              "ugds_black    0.189997\n",
              "ugds_hisp     0.161635\n",
              "ugds_asian    0.033544\n",
              "ugds_aian     0.013813\n",
              "ugds_nhpi     0.004569\n",
              "ugds_2mor     0.023950\n",
              "ugds_nra      0.016086\n",
              "ugds_unkn     0.045181\n",
              "dtype: float64"
            ]
          },
          "metadata": {
            "tags": []
          },
          "execution_count": 124
        }
      ]
    },
    {
      "cell_type": "markdown",
      "metadata": {
        "id": "A0qIx8_bn_uO"
      },
      "source": [
        "pandas allows you to aggregate rows as well. The `axis` parameter may be used to change the direction of the aggregation."
      ]
    },
    {
      "cell_type": "code",
      "metadata": {
        "id": "JpF_HHKln_uQ",
        "colab": {
          "base_uri": "https://localhost:8080/",
          "height": 103
        },
        "outputId": "b2e4e84f-ef70-4f27-dfb4-fb5ea3dcdc11"
      },
      "source": [
        "cr.sum(axis=1).head(3)"
      ],
      "execution_count": null,
      "outputs": [
        {
          "output_type": "execute_result",
          "data": {
            "text/plain": [
              "instnm\n",
              "Alabama A & M University               1.0000\n",
              "University of Alabama at Birmingham    0.9999\n",
              "Amridge University                     1.0000\n",
              "dtype: float64"
            ]
          },
          "metadata": {
            "tags": []
          },
          "execution_count": 125
        }
      ]
    },
    {
      "cell_type": "markdown",
      "metadata": {
        "id": "-CoiARAen_uW"
      },
      "source": [
        "## Non-aggregating methods\n",
        "\n",
        "There are methods that perform some calculation on the DataFrame that do not aggregate the data and usually preserve the shape of the DataFrame. For example, the `round` method rounds each number to a given decimal place. "
      ]
    },
    {
      "cell_type": "code",
      "metadata": {
        "id": "TlUY2LMon_uX",
        "colab": {
          "base_uri": "https://localhost:8080/",
          "height": 174
        },
        "outputId": "6f5a66b7-27b9-4d1c-e74e-e45edfae38c6"
      },
      "source": [
        "cr.round(2).head(3)"
      ],
      "execution_count": null,
      "outputs": [
        {
          "output_type": "execute_result",
          "data": {
            "text/html": [
              "<div>\n",
              "<style scoped>\n",
              "    .dataframe tbody tr th:only-of-type {\n",
              "        vertical-align: middle;\n",
              "    }\n",
              "\n",
              "    .dataframe tbody tr th {\n",
              "        vertical-align: top;\n",
              "    }\n",
              "\n",
              "    .dataframe thead th {\n",
              "        text-align: right;\n",
              "    }\n",
              "</style>\n",
              "<table border=\"1\" class=\"dataframe\">\n",
              "  <thead>\n",
              "    <tr style=\"text-align: right;\">\n",
              "      <th></th>\n",
              "      <th>ugds_white</th>\n",
              "      <th>ugds_black</th>\n",
              "      <th>ugds_hisp</th>\n",
              "      <th>ugds_asian</th>\n",
              "      <th>ugds_aian</th>\n",
              "      <th>ugds_nhpi</th>\n",
              "      <th>ugds_2mor</th>\n",
              "      <th>ugds_nra</th>\n",
              "      <th>ugds_unkn</th>\n",
              "    </tr>\n",
              "    <tr>\n",
              "      <th>instnm</th>\n",
              "      <th></th>\n",
              "      <th></th>\n",
              "      <th></th>\n",
              "      <th></th>\n",
              "      <th></th>\n",
              "      <th></th>\n",
              "      <th></th>\n",
              "      <th></th>\n",
              "      <th></th>\n",
              "    </tr>\n",
              "  </thead>\n",
              "  <tbody>\n",
              "    <tr>\n",
              "      <th>Alabama A &amp; M University</th>\n",
              "      <td>0.03</td>\n",
              "      <td>0.94</td>\n",
              "      <td>0.01</td>\n",
              "      <td>0.00</td>\n",
              "      <td>0.0</td>\n",
              "      <td>0.0</td>\n",
              "      <td>0.00</td>\n",
              "      <td>0.01</td>\n",
              "      <td>0.01</td>\n",
              "    </tr>\n",
              "    <tr>\n",
              "      <th>University of Alabama at Birmingham</th>\n",
              "      <td>0.59</td>\n",
              "      <td>0.26</td>\n",
              "      <td>0.03</td>\n",
              "      <td>0.05</td>\n",
              "      <td>0.0</td>\n",
              "      <td>0.0</td>\n",
              "      <td>0.04</td>\n",
              "      <td>0.02</td>\n",
              "      <td>0.01</td>\n",
              "    </tr>\n",
              "    <tr>\n",
              "      <th>Amridge University</th>\n",
              "      <td>0.30</td>\n",
              "      <td>0.42</td>\n",
              "      <td>0.01</td>\n",
              "      <td>0.00</td>\n",
              "      <td>0.0</td>\n",
              "      <td>0.0</td>\n",
              "      <td>0.00</td>\n",
              "      <td>0.00</td>\n",
              "      <td>0.27</td>\n",
              "    </tr>\n",
              "  </tbody>\n",
              "</table>\n",
              "</div>"
            ],
            "text/plain": [
              "                                     ugds_white  ...  ugds_unkn\n",
              "instnm                                           ...           \n",
              "Alabama A & M University                   0.03  ...       0.01\n",
              "University of Alabama at Birmingham        0.59  ...       0.01\n",
              "Amridge University                         0.30  ...       0.27\n",
              "\n",
              "[3 rows x 9 columns]"
            ]
          },
          "metadata": {
            "tags": []
          },
          "execution_count": 126
        }
      ]
    },
    {
      "cell_type": "markdown",
      "metadata": {
        "id": "P2o5s7CJn_uc"
      },
      "source": [
        "## Aggregating within groups\n",
        "\n",
        "Above, we performed aggregations on the entire DataFrame. We can instead perform aggregations within groups of the data. Below we use an insurance dataset."
      ]
    },
    {
      "cell_type": "code",
      "metadata": {
        "scrolled": true,
        "id": "t_wT1IJ9n_ue",
        "colab": {
          "base_uri": "https://localhost:8080/",
          "height": 143
        },
        "outputId": "c4fadeaa-388b-4b12-d5c8-1d0edc65fd82"
      },
      "source": [
        "ins = pd.read_csv('Pandas/insurance.csv')\n",
        "ins.head(3)"
      ],
      "execution_count": null,
      "outputs": [
        {
          "output_type": "execute_result",
          "data": {
            "text/html": [
              "<div>\n",
              "<style scoped>\n",
              "    .dataframe tbody tr th:only-of-type {\n",
              "        vertical-align: middle;\n",
              "    }\n",
              "\n",
              "    .dataframe tbody tr th {\n",
              "        vertical-align: top;\n",
              "    }\n",
              "\n",
              "    .dataframe thead th {\n",
              "        text-align: right;\n",
              "    }\n",
              "</style>\n",
              "<table border=\"1\" class=\"dataframe\">\n",
              "  <thead>\n",
              "    <tr style=\"text-align: right;\">\n",
              "      <th></th>\n",
              "      <th>age</th>\n",
              "      <th>sex</th>\n",
              "      <th>bmi</th>\n",
              "      <th>children</th>\n",
              "      <th>smoker</th>\n",
              "      <th>region</th>\n",
              "      <th>charges</th>\n",
              "    </tr>\n",
              "  </thead>\n",
              "  <tbody>\n",
              "    <tr>\n",
              "      <th>0</th>\n",
              "      <td>19</td>\n",
              "      <td>female</td>\n",
              "      <td>27.90</td>\n",
              "      <td>0</td>\n",
              "      <td>yes</td>\n",
              "      <td>southwest</td>\n",
              "      <td>16884.9240</td>\n",
              "    </tr>\n",
              "    <tr>\n",
              "      <th>1</th>\n",
              "      <td>18</td>\n",
              "      <td>male</td>\n",
              "      <td>33.77</td>\n",
              "      <td>1</td>\n",
              "      <td>no</td>\n",
              "      <td>southeast</td>\n",
              "      <td>1725.5523</td>\n",
              "    </tr>\n",
              "    <tr>\n",
              "      <th>2</th>\n",
              "      <td>28</td>\n",
              "      <td>male</td>\n",
              "      <td>33.00</td>\n",
              "      <td>3</td>\n",
              "      <td>no</td>\n",
              "      <td>southeast</td>\n",
              "      <td>4449.4620</td>\n",
              "    </tr>\n",
              "  </tbody>\n",
              "</table>\n",
              "</div>"
            ],
            "text/plain": [
              "   age     sex    bmi  children smoker     region     charges\n",
              "0   19  female  27.90         0    yes  southwest  16884.9240\n",
              "1   18    male  33.77         1     no  southeast   1725.5523\n",
              "2   28    male  33.00         3     no  southeast   4449.4620"
            ]
          },
          "metadata": {
            "tags": []
          },
          "execution_count": 127
        }
      ]
    },
    {
      "cell_type": "markdown",
      "metadata": {
        "id": "2BXNjzPGn_uj"
      },
      "source": [
        "One of the simplest aggregations is the frequency of occurrence of all the unique values within a single column. This is performed below with the `value_counts` method."
      ]
    },
    {
      "cell_type": "markdown",
      "metadata": {
        "id": "aTtNpczTn_ul"
      },
      "source": [
        "### Frequency of unique values in a single column"
      ]
    },
    {
      "cell_type": "code",
      "metadata": {
        "id": "DhiDybqqn_un",
        "colab": {
          "base_uri": "https://localhost:8080/"
        },
        "outputId": "9c8323d0-0742-49f4-aa38-d4c54ae47cc4"
      },
      "source": [
        "ins['region'].value_counts()"
      ],
      "execution_count": null,
      "outputs": [
        {
          "output_type": "execute_result",
          "data": {
            "text/plain": [
              "southeast    364\n",
              "southwest    325\n",
              "northwest    325\n",
              "northeast    324\n",
              "Name: region, dtype: int64"
            ]
          },
          "metadata": {
            "tags": []
          },
          "execution_count": 128
        }
      ]
    },
    {
      "cell_type": "markdown",
      "metadata": {
        "id": "QhxYBwO_n_uq"
      },
      "source": [
        "### Single aggregation function\n",
        "\n",
        "Let's say we wish to find the mean charges for each of the unique values in the `sex` column. The `groupby` method gives us this functionality."
      ]
    },
    {
      "cell_type": "code",
      "metadata": {
        "id": "uuEuDeQpn_ur",
        "colab": {
          "base_uri": "https://localhost:8080/"
        },
        "outputId": "cb0f70e3-5e5b-4f1e-b8e8-bd1b5e73aa3d"
      },
      "source": [
        "ins.groupby('sex').agg(mean_charges=('charges', 'mean')).round(-3)"
      ],
      "execution_count": null,
      "outputs": [
        {
          "output_type": "execute_result",
          "data": {
            "text/html": [
              "<div>\n",
              "<style scoped>\n",
              "    .dataframe tbody tr th:only-of-type {\n",
              "        vertical-align: middle;\n",
              "    }\n",
              "\n",
              "    .dataframe tbody tr th {\n",
              "        vertical-align: top;\n",
              "    }\n",
              "\n",
              "    .dataframe thead th {\n",
              "        text-align: right;\n",
              "    }\n",
              "</style>\n",
              "<table border=\"1\" class=\"dataframe\">\n",
              "  <thead>\n",
              "    <tr style=\"text-align: right;\">\n",
              "      <th></th>\n",
              "      <th>mean_charges</th>\n",
              "    </tr>\n",
              "    <tr>\n",
              "      <th>sex</th>\n",
              "      <th></th>\n",
              "    </tr>\n",
              "  </thead>\n",
              "  <tbody>\n",
              "    <tr>\n",
              "      <th>female</th>\n",
              "      <td>13000.0</td>\n",
              "    </tr>\n",
              "    <tr>\n",
              "      <th>male</th>\n",
              "      <td>14000.0</td>\n",
              "    </tr>\n",
              "  </tbody>\n",
              "</table>\n",
              "</div>"
            ],
            "text/plain": [
              "        mean_charges\n",
              "sex                 \n",
              "female       13000.0\n",
              "male         14000.0"
            ]
          },
          "metadata": {
            "tags": []
          },
          "execution_count": 129
        }
      ]
    },
    {
      "cell_type": "markdown",
      "metadata": {
        "id": "uAlcLABin_ut"
      },
      "source": [
        "### Multiple aggregation functions\n",
        "\n",
        "pandas allows us to perform multiple aggregations at the same time. Below, we calculate the mean and max of the `charges` column as well as count the number of non-missing values."
      ]
    },
    {
      "cell_type": "code",
      "metadata": {
        "id": "T3QY7gY_n_uu",
        "colab": {
          "base_uri": "https://localhost:8080/"
        },
        "outputId": "0691f42c-f0c6-4440-a535-3a9b900d0bfb"
      },
      "source": [
        "ins.groupby('sex').agg(mean_charges=('charges', 'mean'),\n",
        "                       max_charges=('charges', 'max'),\n",
        "                       count_charges=('charges', 'count')).round(0)"
      ],
      "execution_count": null,
      "outputs": [
        {
          "output_type": "execute_result",
          "data": {
            "text/html": [
              "<div>\n",
              "<style scoped>\n",
              "    .dataframe tbody tr th:only-of-type {\n",
              "        vertical-align: middle;\n",
              "    }\n",
              "\n",
              "    .dataframe tbody tr th {\n",
              "        vertical-align: top;\n",
              "    }\n",
              "\n",
              "    .dataframe thead th {\n",
              "        text-align: right;\n",
              "    }\n",
              "</style>\n",
              "<table border=\"1\" class=\"dataframe\">\n",
              "  <thead>\n",
              "    <tr style=\"text-align: right;\">\n",
              "      <th></th>\n",
              "      <th>mean_charges</th>\n",
              "      <th>max_charges</th>\n",
              "      <th>count_charges</th>\n",
              "    </tr>\n",
              "    <tr>\n",
              "      <th>sex</th>\n",
              "      <th></th>\n",
              "      <th></th>\n",
              "      <th></th>\n",
              "    </tr>\n",
              "  </thead>\n",
              "  <tbody>\n",
              "    <tr>\n",
              "      <th>female</th>\n",
              "      <td>12570.0</td>\n",
              "      <td>63770.0</td>\n",
              "      <td>662</td>\n",
              "    </tr>\n",
              "    <tr>\n",
              "      <th>male</th>\n",
              "      <td>13957.0</td>\n",
              "      <td>62593.0</td>\n",
              "      <td>676</td>\n",
              "    </tr>\n",
              "  </tbody>\n",
              "</table>\n",
              "</div>"
            ],
            "text/plain": [
              "        mean_charges  max_charges  count_charges\n",
              "sex                                             \n",
              "female       12570.0      63770.0            662\n",
              "male         13957.0      62593.0            676"
            ]
          },
          "metadata": {
            "tags": []
          },
          "execution_count": 130
        }
      ]
    },
    {
      "cell_type": "markdown",
      "metadata": {
        "id": "WtSfPpcan_ux"
      },
      "source": [
        "### Multiple grouping columns\n",
        "\n",
        "pandas allows us to form groups based on multiple columns. In the below example, each unique combination of `sex` and `region` form a group. For each of these groups, the same aggregations as above are performed on the `charges` column."
      ]
    },
    {
      "cell_type": "code",
      "metadata": {
        "id": "fRXkkjCPn_uy",
        "colab": {
          "base_uri": "https://localhost:8080/"
        },
        "outputId": "b6fcd5be-6c92-4217-e09e-c94289c6cc68"
      },
      "source": [
        "ins.groupby(['sex', 'region']).agg(mean_charges=('charges', 'mean'),\n",
        "                               max_charges=('charges', 'max'),\n",
        "                               count_charges=('charges', 'count')).round(0)"
      ],
      "execution_count": null,
      "outputs": [
        {
          "output_type": "execute_result",
          "data": {
            "text/html": [
              "<div>\n",
              "<style scoped>\n",
              "    .dataframe tbody tr th:only-of-type {\n",
              "        vertical-align: middle;\n",
              "    }\n",
              "\n",
              "    .dataframe tbody tr th {\n",
              "        vertical-align: top;\n",
              "    }\n",
              "\n",
              "    .dataframe thead th {\n",
              "        text-align: right;\n",
              "    }\n",
              "</style>\n",
              "<table border=\"1\" class=\"dataframe\">\n",
              "  <thead>\n",
              "    <tr style=\"text-align: right;\">\n",
              "      <th></th>\n",
              "      <th></th>\n",
              "      <th>mean_charges</th>\n",
              "      <th>max_charges</th>\n",
              "      <th>count_charges</th>\n",
              "    </tr>\n",
              "    <tr>\n",
              "      <th>sex</th>\n",
              "      <th>region</th>\n",
              "      <th></th>\n",
              "      <th></th>\n",
              "      <th></th>\n",
              "    </tr>\n",
              "  </thead>\n",
              "  <tbody>\n",
              "    <tr>\n",
              "      <th rowspan=\"4\" valign=\"top\">female</th>\n",
              "      <th>northeast</th>\n",
              "      <td>12953.0</td>\n",
              "      <td>58571.0</td>\n",
              "      <td>161</td>\n",
              "    </tr>\n",
              "    <tr>\n",
              "      <th>northwest</th>\n",
              "      <td>12480.0</td>\n",
              "      <td>55135.0</td>\n",
              "      <td>164</td>\n",
              "    </tr>\n",
              "    <tr>\n",
              "      <th>southeast</th>\n",
              "      <td>13500.0</td>\n",
              "      <td>63770.0</td>\n",
              "      <td>175</td>\n",
              "    </tr>\n",
              "    <tr>\n",
              "      <th>southwest</th>\n",
              "      <td>11274.0</td>\n",
              "      <td>48824.0</td>\n",
              "      <td>162</td>\n",
              "    </tr>\n",
              "    <tr>\n",
              "      <th rowspan=\"4\" valign=\"top\">male</th>\n",
              "      <th>northeast</th>\n",
              "      <td>13854.0</td>\n",
              "      <td>48549.0</td>\n",
              "      <td>163</td>\n",
              "    </tr>\n",
              "    <tr>\n",
              "      <th>northwest</th>\n",
              "      <td>12354.0</td>\n",
              "      <td>60021.0</td>\n",
              "      <td>161</td>\n",
              "    </tr>\n",
              "    <tr>\n",
              "      <th>southeast</th>\n",
              "      <td>15880.0</td>\n",
              "      <td>62593.0</td>\n",
              "      <td>189</td>\n",
              "    </tr>\n",
              "    <tr>\n",
              "      <th>southwest</th>\n",
              "      <td>13413.0</td>\n",
              "      <td>52591.0</td>\n",
              "      <td>163</td>\n",
              "    </tr>\n",
              "  </tbody>\n",
              "</table>\n",
              "</div>"
            ],
            "text/plain": [
              "                  mean_charges  max_charges  count_charges\n",
              "sex    region                                             \n",
              "female northeast       12953.0      58571.0            161\n",
              "       northwest       12480.0      55135.0            164\n",
              "       southeast       13500.0      63770.0            175\n",
              "       southwest       11274.0      48824.0            162\n",
              "male   northeast       13854.0      48549.0            163\n",
              "       northwest       12354.0      60021.0            161\n",
              "       southeast       15880.0      62593.0            189\n",
              "       southwest       13413.0      52591.0            163"
            ]
          },
          "metadata": {
            "tags": []
          },
          "execution_count": 131
        }
      ]
    },
    {
      "cell_type": "markdown",
      "metadata": {
        "id": "AN9cfZGHn_u6"
      },
      "source": [
        "### Pivot Tables\n",
        "We can reproduce the exact same output as above in a different shape with the `pivot_table` method. It groups and aggregates the same way as `groupby` but places the unique values of one of the grouping columns as the new columns in the resulting DataFrame. Notice that pivot tables make for easier comparisons across groups."
      ]
    },
    {
      "cell_type": "code",
      "metadata": {
        "id": "6SWuQ-rCn_u8",
        "colab": {
          "base_uri": "https://localhost:8080/"
        },
        "outputId": "6cf90b70-0d74-4009-dda0-2b95694e6e32"
      },
      "source": [
        "pt = ins.pivot_table(index='sex', columns='region', \n",
        "                     values='charges', aggfunc='mean').round(0)\n",
        "pt"
      ],
      "execution_count": null,
      "outputs": [
        {
          "output_type": "execute_result",
          "data": {
            "text/html": [
              "<div>\n",
              "<style scoped>\n",
              "    .dataframe tbody tr th:only-of-type {\n",
              "        vertical-align: middle;\n",
              "    }\n",
              "\n",
              "    .dataframe tbody tr th {\n",
              "        vertical-align: top;\n",
              "    }\n",
              "\n",
              "    .dataframe thead th {\n",
              "        text-align: right;\n",
              "    }\n",
              "</style>\n",
              "<table border=\"1\" class=\"dataframe\">\n",
              "  <thead>\n",
              "    <tr style=\"text-align: right;\">\n",
              "      <th>region</th>\n",
              "      <th>northeast</th>\n",
              "      <th>northwest</th>\n",
              "      <th>southeast</th>\n",
              "      <th>southwest</th>\n",
              "    </tr>\n",
              "    <tr>\n",
              "      <th>sex</th>\n",
              "      <th></th>\n",
              "      <th></th>\n",
              "      <th></th>\n",
              "      <th></th>\n",
              "    </tr>\n",
              "  </thead>\n",
              "  <tbody>\n",
              "    <tr>\n",
              "      <th>female</th>\n",
              "      <td>12953.0</td>\n",
              "      <td>12480.0</td>\n",
              "      <td>13500.0</td>\n",
              "      <td>11274.0</td>\n",
              "    </tr>\n",
              "    <tr>\n",
              "      <th>male</th>\n",
              "      <td>13854.0</td>\n",
              "      <td>12354.0</td>\n",
              "      <td>15880.0</td>\n",
              "      <td>13413.0</td>\n",
              "    </tr>\n",
              "  </tbody>\n",
              "</table>\n",
              "</div>"
            ],
            "text/plain": [
              "region  northeast  northwest  southeast  southwest\n",
              "sex                                               \n",
              "female    12953.0    12480.0    13500.0    11274.0\n",
              "male      13854.0    12354.0    15880.0    13413.0"
            ]
          },
          "metadata": {
            "tags": []
          },
          "execution_count": 132
        }
      ]
    },
    {
      "cell_type": "markdown",
      "metadata": {
        "id": "iPDq15tzn_vB"
      },
      "source": [
        "### Styling DataFrames\n",
        "\n",
        "pandas enables you to style DataFrames in various ways to provide emphasis on particular cells. Below, the maximum value of each column is highlighted."
      ]
    },
    {
      "cell_type": "code",
      "metadata": {
        "id": "7Wc22SIwn_vC",
        "colab": {
          "base_uri": "https://localhost:8080/"
        },
        "outputId": "ec2cb917-b12e-4283-fc45-898445f415fd"
      },
      "source": [
        "pt.style.highlight_max()"
      ],
      "execution_count": null,
      "outputs": [
        {
          "output_type": "execute_result",
          "data": {
            "text/html": [
              "<style  type=\"text/css\" >\n",
              "    #T_de046b82_fdaa_11e9_abd8_0242ac1c0002row0_col1 {\n",
              "            background-color:  yellow;\n",
              "        }    #T_de046b82_fdaa_11e9_abd8_0242ac1c0002row1_col0 {\n",
              "            background-color:  yellow;\n",
              "        }    #T_de046b82_fdaa_11e9_abd8_0242ac1c0002row1_col2 {\n",
              "            background-color:  yellow;\n",
              "        }    #T_de046b82_fdaa_11e9_abd8_0242ac1c0002row1_col3 {\n",
              "            background-color:  yellow;\n",
              "        }</style><table id=\"T_de046b82_fdaa_11e9_abd8_0242ac1c0002\" ><thead>    <tr>        <th class=\"index_name level0\" >region</th>        <th class=\"col_heading level0 col0\" >northeast</th>        <th class=\"col_heading level0 col1\" >northwest</th>        <th class=\"col_heading level0 col2\" >southeast</th>        <th class=\"col_heading level0 col3\" >southwest</th>    </tr>    <tr>        <th class=\"index_name level0\" >sex</th>        <th class=\"blank\" ></th>        <th class=\"blank\" ></th>        <th class=\"blank\" ></th>        <th class=\"blank\" ></th>    </tr></thead><tbody>\n",
              "                <tr>\n",
              "                        <th id=\"T_de046b82_fdaa_11e9_abd8_0242ac1c0002level0_row0\" class=\"row_heading level0 row0\" >female</th>\n",
              "                        <td id=\"T_de046b82_fdaa_11e9_abd8_0242ac1c0002row0_col0\" class=\"data row0 col0\" >12953</td>\n",
              "                        <td id=\"T_de046b82_fdaa_11e9_abd8_0242ac1c0002row0_col1\" class=\"data row0 col1\" >12480</td>\n",
              "                        <td id=\"T_de046b82_fdaa_11e9_abd8_0242ac1c0002row0_col2\" class=\"data row0 col2\" >13500</td>\n",
              "                        <td id=\"T_de046b82_fdaa_11e9_abd8_0242ac1c0002row0_col3\" class=\"data row0 col3\" >11274</td>\n",
              "            </tr>\n",
              "            <tr>\n",
              "                        <th id=\"T_de046b82_fdaa_11e9_abd8_0242ac1c0002level0_row1\" class=\"row_heading level0 row1\" >male</th>\n",
              "                        <td id=\"T_de046b82_fdaa_11e9_abd8_0242ac1c0002row1_col0\" class=\"data row1 col0\" >13854</td>\n",
              "                        <td id=\"T_de046b82_fdaa_11e9_abd8_0242ac1c0002row1_col1\" class=\"data row1 col1\" >12354</td>\n",
              "                        <td id=\"T_de046b82_fdaa_11e9_abd8_0242ac1c0002row1_col2\" class=\"data row1 col2\" >15880</td>\n",
              "                        <td id=\"T_de046b82_fdaa_11e9_abd8_0242ac1c0002row1_col3\" class=\"data row1 col3\" >13413</td>\n",
              "            </tr>\n",
              "    </tbody></table>"
            ],
            "text/plain": [
              "<pandas.io.formats.style.Styler at 0x7fb641df8e10>"
            ]
          },
          "metadata": {
            "tags": []
          },
          "execution_count": 133
        }
      ]
    },
    {
      "cell_type": "markdown",
      "metadata": {
        "id": "4vWKKqQ_n_vG"
      },
      "source": [
        "## Tidying\n",
        "\n",
        "Many datasets need to be cleaned and tidied before analyzed. pandas provides many tools to prepare data for further analysis.\n",
        "\n",
        "### Options in the `read_csv` function\n",
        "\n",
        "Below, we read in a new dataset on plane crashes. Notice all the question marks. They represent missing values, but pandas will read them in as strings."
      ]
    },
    {
      "cell_type": "code",
      "metadata": {
        "id": "wFWnQeXvn_vH",
        "colab": {
          "base_uri": "https://localhost:8080/",
          "height": 299
        },
        "outputId": "48b97042-a456-4109-ef25-629f4df5a791"
      },
      "source": [
        "pc = pd.read_csv('Pandas/planecrashinfo.csv')\n",
        "pc.head(3)"
      ],
      "execution_count": null,
      "outputs": [
        {
          "output_type": "execute_result",
          "data": {
            "text/html": [
              "<div>\n",
              "<style scoped>\n",
              "    .dataframe tbody tr th:only-of-type {\n",
              "        vertical-align: middle;\n",
              "    }\n",
              "\n",
              "    .dataframe tbody tr th {\n",
              "        vertical-align: top;\n",
              "    }\n",
              "\n",
              "    .dataframe thead th {\n",
              "        text-align: right;\n",
              "    }\n",
              "</style>\n",
              "<table border=\"1\" class=\"dataframe\">\n",
              "  <thead>\n",
              "    <tr style=\"text-align: right;\">\n",
              "      <th></th>\n",
              "      <th>date</th>\n",
              "      <th>time</th>\n",
              "      <th>location</th>\n",
              "      <th>operator</th>\n",
              "      <th>flight_no</th>\n",
              "      <th>route</th>\n",
              "      <th>ac_type</th>\n",
              "      <th>registration</th>\n",
              "      <th>cn_ln</th>\n",
              "      <th>aboard</th>\n",
              "      <th>fatalities</th>\n",
              "      <th>ground</th>\n",
              "      <th>summary</th>\n",
              "    </tr>\n",
              "  </thead>\n",
              "  <tbody>\n",
              "    <tr>\n",
              "      <th>0</th>\n",
              "      <td>September 17, 1908</td>\n",
              "      <td>17:18</td>\n",
              "      <td>Fort Myer, Virginia</td>\n",
              "      <td>Military - U.S. Army</td>\n",
              "      <td>?</td>\n",
              "      <td>Demonstration</td>\n",
              "      <td>Wright Flyer III</td>\n",
              "      <td>?</td>\n",
              "      <td>1</td>\n",
              "      <td>2   (passengers:1  crew:1)</td>\n",
              "      <td>1   (passengers:1  crew:0)</td>\n",
              "      <td>0</td>\n",
              "      <td>During a demonstration flight, a U.S. Army fly...</td>\n",
              "    </tr>\n",
              "    <tr>\n",
              "      <th>1</th>\n",
              "      <td>September 07, 1909</td>\n",
              "      <td>?</td>\n",
              "      <td>Juvisy-sur-Orge, France</td>\n",
              "      <td>?</td>\n",
              "      <td>?</td>\n",
              "      <td>Air show</td>\n",
              "      <td>Wright Byplane</td>\n",
              "      <td>SC1</td>\n",
              "      <td>?</td>\n",
              "      <td>1   (passengers:0  crew:1)</td>\n",
              "      <td>1   (passengers:0  crew:0)</td>\n",
              "      <td>0</td>\n",
              "      <td>Eugene Lefebvre was the first pilot to ever be...</td>\n",
              "    </tr>\n",
              "    <tr>\n",
              "      <th>2</th>\n",
              "      <td>July 12, 1912</td>\n",
              "      <td>06:30</td>\n",
              "      <td>Atlantic City, New Jersey</td>\n",
              "      <td>Military - U.S. Navy</td>\n",
              "      <td>?</td>\n",
              "      <td>Test flight</td>\n",
              "      <td>Dirigible</td>\n",
              "      <td>?</td>\n",
              "      <td>?</td>\n",
              "      <td>5   (passengers:0  crew:5)</td>\n",
              "      <td>5   (passengers:0  crew:5)</td>\n",
              "      <td>0</td>\n",
              "      <td>First U.S. dirigible Akron exploded just offsh...</td>\n",
              "    </tr>\n",
              "  </tbody>\n",
              "</table>\n",
              "</div>"
            ],
            "text/plain": [
              "                 date  ...                                            summary\n",
              "0  September 17, 1908  ...  During a demonstration flight, a U.S. Army fly...\n",
              "1  September 07, 1909  ...  Eugene Lefebvre was the first pilot to ever be...\n",
              "2       July 12, 1912  ...  First U.S. dirigible Akron exploded just offsh...\n",
              "\n",
              "[3 rows x 13 columns]"
            ]
          },
          "metadata": {
            "tags": []
          },
          "execution_count": 134
        }
      ]
    },
    {
      "cell_type": "markdown",
      "metadata": {
        "id": "Q7aBbEQPn_vL"
      },
      "source": [
        "The `read_csv` has dozens of options to help read in messy data. One of the options allows you to convert a particular string to missing values. Notice that all of the question marks are now labeled as `NaN` (not a number)."
      ]
    },
    {
      "cell_type": "code",
      "metadata": {
        "id": "VTDvotwln_vM",
        "colab": {
          "base_uri": "https://localhost:8080/",
          "height": 299
        },
        "outputId": "dd82ccb9-f8e8-4e22-c07d-e9e6f88e551b"
      },
      "source": [
        "pc = pd.read_csv('Pandas/planecrashinfo.csv', na_values='?')\n",
        "pc.head(3)"
      ],
      "execution_count": null,
      "outputs": [
        {
          "output_type": "execute_result",
          "data": {
            "text/html": [
              "<div>\n",
              "<style scoped>\n",
              "    .dataframe tbody tr th:only-of-type {\n",
              "        vertical-align: middle;\n",
              "    }\n",
              "\n",
              "    .dataframe tbody tr th {\n",
              "        vertical-align: top;\n",
              "    }\n",
              "\n",
              "    .dataframe thead th {\n",
              "        text-align: right;\n",
              "    }\n",
              "</style>\n",
              "<table border=\"1\" class=\"dataframe\">\n",
              "  <thead>\n",
              "    <tr style=\"text-align: right;\">\n",
              "      <th></th>\n",
              "      <th>date</th>\n",
              "      <th>time</th>\n",
              "      <th>location</th>\n",
              "      <th>operator</th>\n",
              "      <th>flight_no</th>\n",
              "      <th>route</th>\n",
              "      <th>ac_type</th>\n",
              "      <th>registration</th>\n",
              "      <th>cn_ln</th>\n",
              "      <th>aboard</th>\n",
              "      <th>fatalities</th>\n",
              "      <th>ground</th>\n",
              "      <th>summary</th>\n",
              "    </tr>\n",
              "  </thead>\n",
              "  <tbody>\n",
              "    <tr>\n",
              "      <th>0</th>\n",
              "      <td>September 17, 1908</td>\n",
              "      <td>17:18</td>\n",
              "      <td>Fort Myer, Virginia</td>\n",
              "      <td>Military - U.S. Army</td>\n",
              "      <td>NaN</td>\n",
              "      <td>Demonstration</td>\n",
              "      <td>Wright Flyer III</td>\n",
              "      <td>NaN</td>\n",
              "      <td>1</td>\n",
              "      <td>2   (passengers:1  crew:1)</td>\n",
              "      <td>1   (passengers:1  crew:0)</td>\n",
              "      <td>0.0</td>\n",
              "      <td>During a demonstration flight, a U.S. Army fly...</td>\n",
              "    </tr>\n",
              "    <tr>\n",
              "      <th>1</th>\n",
              "      <td>September 07, 1909</td>\n",
              "      <td>NaN</td>\n",
              "      <td>Juvisy-sur-Orge, France</td>\n",
              "      <td>NaN</td>\n",
              "      <td>NaN</td>\n",
              "      <td>Air show</td>\n",
              "      <td>Wright Byplane</td>\n",
              "      <td>SC1</td>\n",
              "      <td>NaN</td>\n",
              "      <td>1   (passengers:0  crew:1)</td>\n",
              "      <td>1   (passengers:0  crew:0)</td>\n",
              "      <td>0.0</td>\n",
              "      <td>Eugene Lefebvre was the first pilot to ever be...</td>\n",
              "    </tr>\n",
              "    <tr>\n",
              "      <th>2</th>\n",
              "      <td>July 12, 1912</td>\n",
              "      <td>06:30</td>\n",
              "      <td>Atlantic City, New Jersey</td>\n",
              "      <td>Military - U.S. Navy</td>\n",
              "      <td>NaN</td>\n",
              "      <td>Test flight</td>\n",
              "      <td>Dirigible</td>\n",
              "      <td>NaN</td>\n",
              "      <td>NaN</td>\n",
              "      <td>5   (passengers:0  crew:5)</td>\n",
              "      <td>5   (passengers:0  crew:5)</td>\n",
              "      <td>0.0</td>\n",
              "      <td>First U.S. dirigible Akron exploded just offsh...</td>\n",
              "    </tr>\n",
              "  </tbody>\n",
              "</table>\n",
              "</div>"
            ],
            "text/plain": [
              "                 date  ...                                            summary\n",
              "0  September 17, 1908  ...  During a demonstration flight, a U.S. Army fly...\n",
              "1  September 07, 1909  ...  Eugene Lefebvre was the first pilot to ever be...\n",
              "2       July 12, 1912  ...  First U.S. dirigible Akron exploded just offsh...\n",
              "\n",
              "[3 rows x 13 columns]"
            ]
          },
          "metadata": {
            "tags": []
          },
          "execution_count": 135
        }
      ]
    },
    {
      "cell_type": "markdown",
      "metadata": {
        "id": "jyxqCGnhn_vR"
      },
      "source": [
        "### String manipulation\n",
        "\n",
        "Often times there is data stuck within a string column that you will need to extract. The `aboard` column appears to have three distinct pieces of information; the total number of people on board, the number of passengers, and the number of crew."
      ]
    },
    {
      "cell_type": "code",
      "metadata": {
        "id": "BmA6lcVtn_vS",
        "colab": {
          "base_uri": "https://localhost:8080/"
        },
        "outputId": "b0c77c28-7388-4fe9-ee8e-2e2a427b86fe"
      },
      "source": [
        "aboard = pc['aboard']\n",
        "aboard.head()"
      ],
      "execution_count": null,
      "outputs": [
        {
          "output_type": "execute_result",
          "data": {
            "text/plain": [
              "0     2   (passengers:1  crew:1)\n",
              "1     1   (passengers:0  crew:1)\n",
              "2     5   (passengers:0  crew:5)\n",
              "3     1   (passengers:0  crew:1)\n",
              "4    20   (passengers:?  crew:?)\n",
              "Name: aboard, dtype: object"
            ]
          },
          "metadata": {
            "tags": []
          },
          "execution_count": 136
        }
      ]
    },
    {
      "cell_type": "markdown",
      "metadata": {
        "id": "8WRBtHsCn_vV"
      },
      "source": [
        "pandas has special functionality for manipulating strings. Below, we use a regular expression to extract the pertinent numbers from the `aboard` column."
      ]
    },
    {
      "cell_type": "code",
      "metadata": {
        "id": "BBOiZIeun_vV",
        "colab": {
          "base_uri": "https://localhost:8080/"
        },
        "outputId": "99bbaa4a-e225-403d-a2e6-b245a0d430a6"
      },
      "source": [
        "aboard.str.extract(r'(\\d+)?\\D*(\\d+)?\\D*(\\d+)?').head()"
      ],
      "execution_count": null,
      "outputs": [
        {
          "output_type": "execute_result",
          "data": {
            "text/html": [
              "<div>\n",
              "<style scoped>\n",
              "    .dataframe tbody tr th:only-of-type {\n",
              "        vertical-align: middle;\n",
              "    }\n",
              "\n",
              "    .dataframe tbody tr th {\n",
              "        vertical-align: top;\n",
              "    }\n",
              "\n",
              "    .dataframe thead th {\n",
              "        text-align: right;\n",
              "    }\n",
              "</style>\n",
              "<table border=\"1\" class=\"dataframe\">\n",
              "  <thead>\n",
              "    <tr style=\"text-align: right;\">\n",
              "      <th></th>\n",
              "      <th>0</th>\n",
              "      <th>1</th>\n",
              "      <th>2</th>\n",
              "    </tr>\n",
              "  </thead>\n",
              "  <tbody>\n",
              "    <tr>\n",
              "      <th>0</th>\n",
              "      <td>2</td>\n",
              "      <td>1</td>\n",
              "      <td>1</td>\n",
              "    </tr>\n",
              "    <tr>\n",
              "      <th>1</th>\n",
              "      <td>1</td>\n",
              "      <td>0</td>\n",
              "      <td>1</td>\n",
              "    </tr>\n",
              "    <tr>\n",
              "      <th>2</th>\n",
              "      <td>5</td>\n",
              "      <td>0</td>\n",
              "      <td>5</td>\n",
              "    </tr>\n",
              "    <tr>\n",
              "      <th>3</th>\n",
              "      <td>1</td>\n",
              "      <td>0</td>\n",
              "      <td>1</td>\n",
              "    </tr>\n",
              "    <tr>\n",
              "      <th>4</th>\n",
              "      <td>20</td>\n",
              "      <td>NaN</td>\n",
              "      <td>NaN</td>\n",
              "    </tr>\n",
              "  </tbody>\n",
              "</table>\n",
              "</div>"
            ],
            "text/plain": [
              "    0    1    2\n",
              "0   2    1    1\n",
              "1   1    0    1\n",
              "2   5    0    5\n",
              "3   1    0    1\n",
              "4  20  NaN  NaN"
            ]
          },
          "metadata": {
            "tags": []
          },
          "execution_count": 137
        }
      ]
    },
    {
      "cell_type": "markdown",
      "metadata": {
        "id": "fINhUjpJn_vX"
      },
      "source": [
        "### Reshaping into tidy form\n",
        "\n",
        "Occasionally, you will have several columns of data that all belong in a single column. Take a look at the DataFrame below on average arrival delay of airlines at different airports. All of the columns with three-letter airport codes could be placed in the same column as they all contain the arrival delay which has the same units."
      ]
    },
    {
      "cell_type": "code",
      "metadata": {
        "id": "-CJr1Vcun_vY",
        "colab": {
          "base_uri": "https://localhost:8080/"
        },
        "outputId": "a27c034b-2959-476c-df52-8bacd7a2e5dd"
      },
      "source": [
        "aad = pd.read_csv('Pandas/average_arrival_delay.csv').head()\n",
        "aad"
      ],
      "execution_count": null,
      "outputs": [
        {
          "output_type": "execute_result",
          "data": {
            "text/html": [
              "<div>\n",
              "<style scoped>\n",
              "    .dataframe tbody tr th:only-of-type {\n",
              "        vertical-align: middle;\n",
              "    }\n",
              "\n",
              "    .dataframe tbody tr th {\n",
              "        vertical-align: top;\n",
              "    }\n",
              "\n",
              "    .dataframe thead th {\n",
              "        text-align: right;\n",
              "    }\n",
              "</style>\n",
              "<table border=\"1\" class=\"dataframe\">\n",
              "  <thead>\n",
              "    <tr style=\"text-align: right;\">\n",
              "      <th></th>\n",
              "      <th>airline</th>\n",
              "      <th>ATL</th>\n",
              "      <th>DEN</th>\n",
              "      <th>DFW</th>\n",
              "      <th>IAH</th>\n",
              "      <th>LAS</th>\n",
              "      <th>LAX</th>\n",
              "      <th>MSP</th>\n",
              "      <th>ORD</th>\n",
              "      <th>PHX</th>\n",
              "      <th>SFO</th>\n",
              "    </tr>\n",
              "  </thead>\n",
              "  <tbody>\n",
              "    <tr>\n",
              "      <th>0</th>\n",
              "      <td>AA</td>\n",
              "      <td>4.0</td>\n",
              "      <td>9.0</td>\n",
              "      <td>5.0</td>\n",
              "      <td>11.0</td>\n",
              "      <td>8.0</td>\n",
              "      <td>3.0</td>\n",
              "      <td>1.0</td>\n",
              "      <td>8.0</td>\n",
              "      <td>5.0</td>\n",
              "      <td>3.0</td>\n",
              "    </tr>\n",
              "    <tr>\n",
              "      <th>1</th>\n",
              "      <td>AS</td>\n",
              "      <td>6.0</td>\n",
              "      <td>-3.0</td>\n",
              "      <td>-5.0</td>\n",
              "      <td>1.0</td>\n",
              "      <td>2.0</td>\n",
              "      <td>-3.0</td>\n",
              "      <td>6.0</td>\n",
              "      <td>2.0</td>\n",
              "      <td>-9.0</td>\n",
              "      <td>4.0</td>\n",
              "    </tr>\n",
              "    <tr>\n",
              "      <th>2</th>\n",
              "      <td>B6</td>\n",
              "      <td>NaN</td>\n",
              "      <td>12.0</td>\n",
              "      <td>4.0</td>\n",
              "      <td>NaN</td>\n",
              "      <td>11.0</td>\n",
              "      <td>2.0</td>\n",
              "      <td>NaN</td>\n",
              "      <td>23.0</td>\n",
              "      <td>20.0</td>\n",
              "      <td>5.0</td>\n",
              "    </tr>\n",
              "    <tr>\n",
              "      <th>3</th>\n",
              "      <td>DL</td>\n",
              "      <td>0.0</td>\n",
              "      <td>-3.0</td>\n",
              "      <td>10.0</td>\n",
              "      <td>3.0</td>\n",
              "      <td>-3.0</td>\n",
              "      <td>3.0</td>\n",
              "      <td>-1.0</td>\n",
              "      <td>7.0</td>\n",
              "      <td>-4.0</td>\n",
              "      <td>0.0</td>\n",
              "    </tr>\n",
              "    <tr>\n",
              "      <th>4</th>\n",
              "      <td>EV</td>\n",
              "      <td>7.0</td>\n",
              "      <td>14.0</td>\n",
              "      <td>10.0</td>\n",
              "      <td>3.0</td>\n",
              "      <td>NaN</td>\n",
              "      <td>NaN</td>\n",
              "      <td>10.0</td>\n",
              "      <td>8.0</td>\n",
              "      <td>-14.0</td>\n",
              "      <td>NaN</td>\n",
              "    </tr>\n",
              "  </tbody>\n",
              "</table>\n",
              "</div>"
            ],
            "text/plain": [
              "  airline  ATL   DEN   DFW   IAH   LAS  LAX   MSP   ORD   PHX  SFO\n",
              "0      AA  4.0   9.0   5.0  11.0   8.0  3.0   1.0   8.0   5.0  3.0\n",
              "1      AS  6.0  -3.0  -5.0   1.0   2.0 -3.0   6.0   2.0  -9.0  4.0\n",
              "2      B6  NaN  12.0   4.0   NaN  11.0  2.0   NaN  23.0  20.0  5.0\n",
              "3      DL  0.0  -3.0  10.0   3.0  -3.0  3.0  -1.0   7.0  -4.0  0.0\n",
              "4      EV  7.0  14.0  10.0   3.0   NaN  NaN  10.0   8.0 -14.0  NaN"
            ]
          },
          "metadata": {
            "tags": []
          },
          "execution_count": 138
        }
      ]
    },
    {
      "cell_type": "markdown",
      "metadata": {
        "id": "b9qNCVE5n_ve"
      },
      "source": [
        "The `melt` method stacks columns one on top of the other. Here, it places all of the three-letter airport code columns into a single column. The first two airports (ATL and DEN) are shown below in the new tidy DataFrame."
      ]
    },
    {
      "cell_type": "code",
      "metadata": {
        "id": "3JebP3AFn_vf",
        "colab": {
          "base_uri": "https://localhost:8080/"
        },
        "outputId": "b7bdc99b-6b52-492f-a4ab-58fb61aace8c"
      },
      "source": [
        "aad.melt(id_vars='airline', var_name='airport', value_name='delay').head(10)"
      ],
      "execution_count": null,
      "outputs": [
        {
          "output_type": "execute_result",
          "data": {
            "text/html": [
              "<div>\n",
              "<style scoped>\n",
              "    .dataframe tbody tr th:only-of-type {\n",
              "        vertical-align: middle;\n",
              "    }\n",
              "\n",
              "    .dataframe tbody tr th {\n",
              "        vertical-align: top;\n",
              "    }\n",
              "\n",
              "    .dataframe thead th {\n",
              "        text-align: right;\n",
              "    }\n",
              "</style>\n",
              "<table border=\"1\" class=\"dataframe\">\n",
              "  <thead>\n",
              "    <tr style=\"text-align: right;\">\n",
              "      <th></th>\n",
              "      <th>airline</th>\n",
              "      <th>airport</th>\n",
              "      <th>delay</th>\n",
              "    </tr>\n",
              "  </thead>\n",
              "  <tbody>\n",
              "    <tr>\n",
              "      <th>0</th>\n",
              "      <td>AA</td>\n",
              "      <td>ATL</td>\n",
              "      <td>4.0</td>\n",
              "    </tr>\n",
              "    <tr>\n",
              "      <th>1</th>\n",
              "      <td>AS</td>\n",
              "      <td>ATL</td>\n",
              "      <td>6.0</td>\n",
              "    </tr>\n",
              "    <tr>\n",
              "      <th>2</th>\n",
              "      <td>B6</td>\n",
              "      <td>ATL</td>\n",
              "      <td>NaN</td>\n",
              "    </tr>\n",
              "    <tr>\n",
              "      <th>3</th>\n",
              "      <td>DL</td>\n",
              "      <td>ATL</td>\n",
              "      <td>0.0</td>\n",
              "    </tr>\n",
              "    <tr>\n",
              "      <th>4</th>\n",
              "      <td>EV</td>\n",
              "      <td>ATL</td>\n",
              "      <td>7.0</td>\n",
              "    </tr>\n",
              "    <tr>\n",
              "      <th>5</th>\n",
              "      <td>AA</td>\n",
              "      <td>DEN</td>\n",
              "      <td>9.0</td>\n",
              "    </tr>\n",
              "    <tr>\n",
              "      <th>6</th>\n",
              "      <td>AS</td>\n",
              "      <td>DEN</td>\n",
              "      <td>-3.0</td>\n",
              "    </tr>\n",
              "    <tr>\n",
              "      <th>7</th>\n",
              "      <td>B6</td>\n",
              "      <td>DEN</td>\n",
              "      <td>12.0</td>\n",
              "    </tr>\n",
              "    <tr>\n",
              "      <th>8</th>\n",
              "      <td>DL</td>\n",
              "      <td>DEN</td>\n",
              "      <td>-3.0</td>\n",
              "    </tr>\n",
              "    <tr>\n",
              "      <th>9</th>\n",
              "      <td>EV</td>\n",
              "      <td>DEN</td>\n",
              "      <td>14.0</td>\n",
              "    </tr>\n",
              "  </tbody>\n",
              "</table>\n",
              "</div>"
            ],
            "text/plain": [
              "  airline airport  delay\n",
              "0      AA     ATL    4.0\n",
              "1      AS     ATL    6.0\n",
              "2      B6     ATL    NaN\n",
              "3      DL     ATL    0.0\n",
              "4      EV     ATL    7.0\n",
              "5      AA     DEN    9.0\n",
              "6      AS     DEN   -3.0\n",
              "7      B6     DEN   12.0\n",
              "8      DL     DEN   -3.0\n",
              "9      EV     DEN   14.0"
            ]
          },
          "metadata": {
            "tags": []
          },
          "execution_count": 139
        }
      ]
    },
    {
      "cell_type": "markdown",
      "metadata": {
        "id": "2-diGumJn_vi"
      },
      "source": [
        "## Joining Data\n",
        "\n",
        "pandas can join multiple DataFrames together by matching values in one or more columns. If you are familiar with SQL, then pandas performs joins in a similar fashion. Below, we make a connection to a database and read in two of its tables."
      ]
    },
    {
      "cell_type": "code",
      "metadata": {
        "id": "wJCOLdvIn_vi"
      },
      "source": [
        "from sqlalchemy import create_engine\n",
        "engine = create_engine('sqlite:///Pandas/neurIPS.db')\n",
        "authors = pd.read_sql('Authors', engine)\n",
        "pa = pd.read_sql('PaperAuthors', engine)"
      ],
      "execution_count": null,
      "outputs": []
    },
    {
      "cell_type": "markdown",
      "metadata": {
        "id": "OblKDCaan_vn"
      },
      "source": [
        "Output the first three rows of each DataFrame."
      ]
    },
    {
      "cell_type": "code",
      "metadata": {
        "id": "DGH2WXzZn_vo",
        "colab": {
          "base_uri": "https://localhost:8080/",
          "height": 143
        },
        "outputId": "7c749ff8-1e1e-48c3-9ed5-1ea07f17e777"
      },
      "source": [
        "authors.head(3)"
      ],
      "execution_count": null,
      "outputs": [
        {
          "output_type": "execute_result",
          "data": {
            "text/html": [
              "<div>\n",
              "<style scoped>\n",
              "    .dataframe tbody tr th:only-of-type {\n",
              "        vertical-align: middle;\n",
              "    }\n",
              "\n",
              "    .dataframe tbody tr th {\n",
              "        vertical-align: top;\n",
              "    }\n",
              "\n",
              "    .dataframe thead th {\n",
              "        text-align: right;\n",
              "    }\n",
              "</style>\n",
              "<table border=\"1\" class=\"dataframe\">\n",
              "  <thead>\n",
              "    <tr style=\"text-align: right;\">\n",
              "      <th></th>\n",
              "      <th>Id</th>\n",
              "      <th>Name</th>\n",
              "    </tr>\n",
              "  </thead>\n",
              "  <tbody>\n",
              "    <tr>\n",
              "      <th>0</th>\n",
              "      <td>178</td>\n",
              "      <td>Yoshua Bengio</td>\n",
              "    </tr>\n",
              "    <tr>\n",
              "      <th>1</th>\n",
              "      <td>200</td>\n",
              "      <td>Yann LeCun</td>\n",
              "    </tr>\n",
              "    <tr>\n",
              "      <th>2</th>\n",
              "      <td>205</td>\n",
              "      <td>Avrim Blum</td>\n",
              "    </tr>\n",
              "  </tbody>\n",
              "</table>\n",
              "</div>"
            ],
            "text/plain": [
              "    Id           Name\n",
              "0  178  Yoshua Bengio\n",
              "1  200     Yann LeCun\n",
              "2  205     Avrim Blum"
            ]
          },
          "metadata": {
            "tags": []
          },
          "execution_count": 141
        }
      ]
    },
    {
      "cell_type": "code",
      "metadata": {
        "id": "CFzOdMvpn_vr",
        "colab": {
          "base_uri": "https://localhost:8080/",
          "height": 143
        },
        "outputId": "d933c8e1-3237-4eee-ed07-93ff56acf544"
      },
      "source": [
        "pa.head(3)"
      ],
      "execution_count": null,
      "outputs": [
        {
          "output_type": "execute_result",
          "data": {
            "text/html": [
              "<div>\n",
              "<style scoped>\n",
              "    .dataframe tbody tr th:only-of-type {\n",
              "        vertical-align: middle;\n",
              "    }\n",
              "\n",
              "    .dataframe tbody tr th {\n",
              "        vertical-align: top;\n",
              "    }\n",
              "\n",
              "    .dataframe thead th {\n",
              "        text-align: right;\n",
              "    }\n",
              "</style>\n",
              "<table border=\"1\" class=\"dataframe\">\n",
              "  <thead>\n",
              "    <tr style=\"text-align: right;\">\n",
              "      <th></th>\n",
              "      <th>Id</th>\n",
              "      <th>PaperId</th>\n",
              "      <th>AuthorId</th>\n",
              "    </tr>\n",
              "  </thead>\n",
              "  <tbody>\n",
              "    <tr>\n",
              "      <th>0</th>\n",
              "      <td>1</td>\n",
              "      <td>5677</td>\n",
              "      <td>7956</td>\n",
              "    </tr>\n",
              "    <tr>\n",
              "      <th>1</th>\n",
              "      <td>2</td>\n",
              "      <td>5677</td>\n",
              "      <td>2649</td>\n",
              "    </tr>\n",
              "    <tr>\n",
              "      <th>2</th>\n",
              "      <td>3</td>\n",
              "      <td>5941</td>\n",
              "      <td>8299</td>\n",
              "    </tr>\n",
              "  </tbody>\n",
              "</table>\n",
              "</div>"
            ],
            "text/plain": [
              "   Id  PaperId  AuthorId\n",
              "0   1     5677      7956\n",
              "1   2     5677      2649\n",
              "2   3     5941      8299"
            ]
          },
          "metadata": {
            "tags": []
          },
          "execution_count": 142
        }
      ]
    },
    {
      "cell_type": "markdown",
      "metadata": {
        "id": "DS57PjL3n_vv"
      },
      "source": [
        "We can now join these tables together using the `merge` method. The `AuthorID` column from the `pa` table is aligned with the `Id` column of the `authors` table."
      ]
    },
    {
      "cell_type": "code",
      "metadata": {
        "id": "kTjEodM4n_vy",
        "colab": {
          "base_uri": "https://localhost:8080/",
          "height": 143
        },
        "outputId": "335bb564-5f15-4e6c-8eb2-7940baf5f854"
      },
      "source": [
        "pa.merge(authors, how='left', left_on='AuthorId', right_on='Id').head(3)"
      ],
      "execution_count": null,
      "outputs": [
        {
          "output_type": "execute_result",
          "data": {
            "text/html": [
              "<div>\n",
              "<style scoped>\n",
              "    .dataframe tbody tr th:only-of-type {\n",
              "        vertical-align: middle;\n",
              "    }\n",
              "\n",
              "    .dataframe tbody tr th {\n",
              "        vertical-align: top;\n",
              "    }\n",
              "\n",
              "    .dataframe thead th {\n",
              "        text-align: right;\n",
              "    }\n",
              "</style>\n",
              "<table border=\"1\" class=\"dataframe\">\n",
              "  <thead>\n",
              "    <tr style=\"text-align: right;\">\n",
              "      <th></th>\n",
              "      <th>Id_x</th>\n",
              "      <th>PaperId</th>\n",
              "      <th>AuthorId</th>\n",
              "      <th>Id_y</th>\n",
              "      <th>Name</th>\n",
              "    </tr>\n",
              "  </thead>\n",
              "  <tbody>\n",
              "    <tr>\n",
              "      <th>0</th>\n",
              "      <td>1</td>\n",
              "      <td>5677</td>\n",
              "      <td>7956</td>\n",
              "      <td>7956</td>\n",
              "      <td>Nihar Bhadresh Shah</td>\n",
              "    </tr>\n",
              "    <tr>\n",
              "      <th>1</th>\n",
              "      <td>2</td>\n",
              "      <td>5677</td>\n",
              "      <td>2649</td>\n",
              "      <td>2649</td>\n",
              "      <td>Denny Zhou</td>\n",
              "    </tr>\n",
              "    <tr>\n",
              "      <th>2</th>\n",
              "      <td>3</td>\n",
              "      <td>5941</td>\n",
              "      <td>8299</td>\n",
              "      <td>8299</td>\n",
              "      <td>Brendan van Rooyen</td>\n",
              "    </tr>\n",
              "  </tbody>\n",
              "</table>\n",
              "</div>"
            ],
            "text/plain": [
              "   Id_x  PaperId  AuthorId  Id_y                 Name\n",
              "0     1     5677      7956  7956  Nihar Bhadresh Shah\n",
              "1     2     5677      2649  2649           Denny Zhou\n",
              "2     3     5941      8299  8299   Brendan van Rooyen"
            ]
          },
          "metadata": {
            "tags": []
          },
          "execution_count": 143
        }
      ]
    },
    {
      "cell_type": "markdown",
      "metadata": {
        "id": "8iD1aHPxn_v1"
      },
      "source": [
        "## Time Series Analysis\n",
        "\n",
        "One of the original purposes of pandas was to do time series analysis. Below, we read in 20 years of Microsoft's closing stock price data."
      ]
    },
    {
      "cell_type": "code",
      "metadata": {
        "id": "AJxxqqBBn_v2",
        "colab": {
          "base_uri": "https://localhost:8080/",
          "height": 237
        },
        "outputId": "fb3b628a-4e7f-4d38-98b7-c6fe62b8a25d"
      },
      "source": [
        "msft = pd.read_csv('Pandas/msft20.csv', parse_dates=['date'], index_col='date')\n",
        "msft.head()"
      ],
      "execution_count": null,
      "outputs": [
        {
          "output_type": "execute_result",
          "data": {
            "text/html": [
              "<div>\n",
              "<style scoped>\n",
              "    .dataframe tbody tr th:only-of-type {\n",
              "        vertical-align: middle;\n",
              "    }\n",
              "\n",
              "    .dataframe tbody tr th {\n",
              "        vertical-align: top;\n",
              "    }\n",
              "\n",
              "    .dataframe thead th {\n",
              "        text-align: right;\n",
              "    }\n",
              "</style>\n",
              "<table border=\"1\" class=\"dataframe\">\n",
              "  <thead>\n",
              "    <tr style=\"text-align: right;\">\n",
              "      <th></th>\n",
              "      <th>open</th>\n",
              "      <th>high</th>\n",
              "      <th>low</th>\n",
              "      <th>close</th>\n",
              "      <th>adjusted_close</th>\n",
              "      <th>volume</th>\n",
              "      <th>dividend_amount</th>\n",
              "    </tr>\n",
              "    <tr>\n",
              "      <th>date</th>\n",
              "      <th></th>\n",
              "      <th></th>\n",
              "      <th></th>\n",
              "      <th></th>\n",
              "      <th></th>\n",
              "      <th></th>\n",
              "      <th></th>\n",
              "    </tr>\n",
              "  </thead>\n",
              "  <tbody>\n",
              "    <tr>\n",
              "      <th>1999-10-19</th>\n",
              "      <td>88.250</td>\n",
              "      <td>89.250</td>\n",
              "      <td>85.250</td>\n",
              "      <td>86.313</td>\n",
              "      <td>27.8594</td>\n",
              "      <td>69945600</td>\n",
              "      <td>0.0</td>\n",
              "    </tr>\n",
              "    <tr>\n",
              "      <th>1999-10-20</th>\n",
              "      <td>91.563</td>\n",
              "      <td>92.375</td>\n",
              "      <td>90.250</td>\n",
              "      <td>92.250</td>\n",
              "      <td>29.7758</td>\n",
              "      <td>88090600</td>\n",
              "      <td>0.0</td>\n",
              "    </tr>\n",
              "    <tr>\n",
              "      <th>1999-10-21</th>\n",
              "      <td>90.563</td>\n",
              "      <td>93.125</td>\n",
              "      <td>90.500</td>\n",
              "      <td>93.063</td>\n",
              "      <td>30.0381</td>\n",
              "      <td>60801200</td>\n",
              "      <td>0.0</td>\n",
              "    </tr>\n",
              "    <tr>\n",
              "      <th>1999-10-22</th>\n",
              "      <td>93.563</td>\n",
              "      <td>93.875</td>\n",
              "      <td>91.750</td>\n",
              "      <td>92.688</td>\n",
              "      <td>29.9171</td>\n",
              "      <td>43650600</td>\n",
              "      <td>0.0</td>\n",
              "    </tr>\n",
              "    <tr>\n",
              "      <th>1999-10-25</th>\n",
              "      <td>92.000</td>\n",
              "      <td>93.563</td>\n",
              "      <td>91.125</td>\n",
              "      <td>92.438</td>\n",
              "      <td>29.8364</td>\n",
              "      <td>30492200</td>\n",
              "      <td>0.0</td>\n",
              "    </tr>\n",
              "  </tbody>\n",
              "</table>\n",
              "</div>"
            ],
            "text/plain": [
              "              open    high     low  ...  adjusted_close    volume  dividend_amount\n",
              "date                                ...                                           \n",
              "1999-10-19  88.250  89.250  85.250  ...         27.8594  69945600              0.0\n",
              "1999-10-20  91.563  92.375  90.250  ...         29.7758  88090600              0.0\n",
              "1999-10-21  90.563  93.125  90.500  ...         30.0381  60801200              0.0\n",
              "1999-10-22  93.563  93.875  91.750  ...         29.9171  43650600              0.0\n",
              "1999-10-25  92.000  93.563  91.125  ...         29.8364  30492200              0.0\n",
              "\n",
              "[5 rows x 7 columns]"
            ]
          },
          "metadata": {
            "tags": []
          },
          "execution_count": 144
        }
      ]
    },
    {
      "cell_type": "markdown",
      "metadata": {
        "id": "e4YbTYttn_v4"
      },
      "source": [
        "### Select a period of time\n",
        "\n",
        "pandas allows us to easily select a period of time. Below, we select all of the trading data from February 27, 2017 through March 2, 2017."
      ]
    },
    {
      "cell_type": "code",
      "metadata": {
        "id": "egrZuaCen_v4",
        "colab": {
          "base_uri": "https://localhost:8080/"
        },
        "outputId": "748329ab-8ae0-43d4-fcda-f25ea6e0b512"
      },
      "source": [
        "msft['2017-02-27':'2017-03-02']"
      ],
      "execution_count": null,
      "outputs": [
        {
          "output_type": "execute_result",
          "data": {
            "text/html": [
              "<div>\n",
              "<style scoped>\n",
              "    .dataframe tbody tr th:only-of-type {\n",
              "        vertical-align: middle;\n",
              "    }\n",
              "\n",
              "    .dataframe tbody tr th {\n",
              "        vertical-align: top;\n",
              "    }\n",
              "\n",
              "    .dataframe thead th {\n",
              "        text-align: right;\n",
              "    }\n",
              "</style>\n",
              "<table border=\"1\" class=\"dataframe\">\n",
              "  <thead>\n",
              "    <tr style=\"text-align: right;\">\n",
              "      <th></th>\n",
              "      <th>open</th>\n",
              "      <th>high</th>\n",
              "      <th>low</th>\n",
              "      <th>close</th>\n",
              "      <th>adjusted_close</th>\n",
              "      <th>volume</th>\n",
              "      <th>dividend_amount</th>\n",
              "    </tr>\n",
              "    <tr>\n",
              "      <th>date</th>\n",
              "      <th></th>\n",
              "      <th></th>\n",
              "      <th></th>\n",
              "      <th></th>\n",
              "      <th></th>\n",
              "      <th></th>\n",
              "      <th></th>\n",
              "    </tr>\n",
              "  </thead>\n",
              "  <tbody>\n",
              "    <tr>\n",
              "      <th>2017-02-27</th>\n",
              "      <td>64.54</td>\n",
              "      <td>64.54</td>\n",
              "      <td>64.045</td>\n",
              "      <td>64.23</td>\n",
              "      <td>61.4355</td>\n",
              "      <td>15871500</td>\n",
              "      <td>0.0</td>\n",
              "    </tr>\n",
              "    <tr>\n",
              "      <th>2017-02-28</th>\n",
              "      <td>64.08</td>\n",
              "      <td>64.20</td>\n",
              "      <td>63.760</td>\n",
              "      <td>63.98</td>\n",
              "      <td>61.1964</td>\n",
              "      <td>23239800</td>\n",
              "      <td>0.0</td>\n",
              "    </tr>\n",
              "    <tr>\n",
              "      <th>2017-03-01</th>\n",
              "      <td>64.13</td>\n",
              "      <td>64.99</td>\n",
              "      <td>64.022</td>\n",
              "      <td>64.94</td>\n",
              "      <td>62.1146</td>\n",
              "      <td>26937500</td>\n",
              "      <td>0.0</td>\n",
              "    </tr>\n",
              "    <tr>\n",
              "      <th>2017-03-02</th>\n",
              "      <td>64.69</td>\n",
              "      <td>64.75</td>\n",
              "      <td>63.880</td>\n",
              "      <td>64.01</td>\n",
              "      <td>61.2251</td>\n",
              "      <td>24539600</td>\n",
              "      <td>0.0</td>\n",
              "    </tr>\n",
              "  </tbody>\n",
              "</table>\n",
              "</div>"
            ],
            "text/plain": [
              "             open   high     low  ...  adjusted_close    volume  dividend_amount\n",
              "date                              ...                                           \n",
              "2017-02-27  64.54  64.54  64.045  ...         61.4355  15871500              0.0\n",
              "2017-02-28  64.08  64.20  63.760  ...         61.1964  23239800              0.0\n",
              "2017-03-01  64.13  64.99  64.022  ...         62.1146  26937500              0.0\n",
              "2017-03-02  64.69  64.75  63.880  ...         61.2251  24539600              0.0\n",
              "\n",
              "[4 rows x 7 columns]"
            ]
          },
          "metadata": {
            "tags": []
          },
          "execution_count": 145
        }
      ]
    },
    {
      "cell_type": "markdown",
      "metadata": {
        "id": "XsrnTI7Nn_v6"
      },
      "source": [
        "### Group by time\n",
        "\n",
        "We can group by some length of time. Here, we group together every month of trading data and return the average closing price of that month."
      ]
    },
    {
      "cell_type": "code",
      "metadata": {
        "id": "2LSsF0pXn_v7",
        "colab": {
          "base_uri": "https://localhost:8080/"
        },
        "outputId": "536b183d-02e3-41f4-ee72-0624d1211121"
      },
      "source": [
        "msft_mc = msft.resample('M').agg({'close':'mean'})\n",
        "msft_mc.head(3)"
      ],
      "execution_count": null,
      "outputs": [
        {
          "output_type": "execute_result",
          "data": {
            "text/html": [
              "<div>\n",
              "<style scoped>\n",
              "    .dataframe tbody tr th:only-of-type {\n",
              "        vertical-align: middle;\n",
              "    }\n",
              "\n",
              "    .dataframe tbody tr th {\n",
              "        vertical-align: top;\n",
              "    }\n",
              "\n",
              "    .dataframe thead th {\n",
              "        text-align: right;\n",
              "    }\n",
              "</style>\n",
              "<table border=\"1\" class=\"dataframe\">\n",
              "  <thead>\n",
              "    <tr style=\"text-align: right;\">\n",
              "      <th></th>\n",
              "      <th>close</th>\n",
              "    </tr>\n",
              "    <tr>\n",
              "      <th>date</th>\n",
              "      <th></th>\n",
              "    </tr>\n",
              "  </thead>\n",
              "  <tbody>\n",
              "    <tr>\n",
              "      <th>1999-10-31</th>\n",
              "      <td>91.382222</td>\n",
              "    </tr>\n",
              "    <tr>\n",
              "      <th>1999-11-30</th>\n",
              "      <td>89.463762</td>\n",
              "    </tr>\n",
              "    <tr>\n",
              "      <th>1999-12-31</th>\n",
              "      <td>106.190545</td>\n",
              "    </tr>\n",
              "  </tbody>\n",
              "</table>\n",
              "</div>"
            ],
            "text/plain": [
              "                 close\n",
              "date                  \n",
              "1999-10-31   91.382222\n",
              "1999-11-30   89.463762\n",
              "1999-12-31  106.190545"
            ]
          },
          "metadata": {
            "tags": []
          },
          "execution_count": 146
        }
      ]
    },
    {
      "cell_type": "markdown",
      "metadata": {
        "id": "4uWH_cj9n_v_"
      },
      "source": [
        "## Visualization\n",
        "\n",
        "pandas provides basic visualization abilities by giving its users a few default plots. Below, we plot the average monthly closing price of Microsoft for the last 5 years."
      ]
    },
    {
      "cell_type": "code",
      "metadata": {
        "id": "8vpl6J4nn_wA",
        "colab": {
          "base_uri": "https://localhost:8080/",
          "height": 225
        },
        "outputId": "d6d1f3d5-19c6-41d0-c068-9a4aa411b0b4"
      },
      "source": [
        "%matplotlib inline\n",
        "msft_mc.plot(kind='line', figsize=(8, 3));"
      ],
      "execution_count": null,
      "outputs": [
        {
          "output_type": "display_data",
          "data": {
            "image/png": "[encoded data removed]",
            "text/plain": [
              "<Figure size 576x216 with 1 Axes>"
            ]
          },
          "metadata": {
            "tags": []
          }
        }
      ]
    },
    {
      "cell_type": "markdown",
      "metadata": {
        "id": "-ziBeX1Mn_wD"
      },
      "source": [
        "Here, we use the college race data to create a box plot of each of the race percentage columns."
      ]
    },
    {
      "cell_type": "code",
      "metadata": {
        "id": "d_eILzbsn_wF",
        "colab": {
          "base_uri": "https://localhost:8080/",
          "height": 212
        },
        "outputId": "0fa79444-3df7-436c-f268-f7e58a75dd3c"
      },
      "source": [
        "cr.plot(kind='box', figsize=(10, 3));"
      ],
      "execution_count": null,
      "outputs": [
        {
          "output_type": "display_data",
          "data": {
            "image/png": "[encoded data removed]",
            "text/plain": [
              "<Figure size 720x216 with 1 Axes>"
            ]
          },
          "metadata": {
            "tags": []
          }
        }
      ]
    },
    {
      "cell_type": "markdown",
      "metadata": {
        "id": "bL45c6KJn_wL"
      },
      "source": [
        "We turn our pivot table from above into a bar graph."
      ]
    },
    {
      "cell_type": "code",
      "metadata": {
        "id": "YtkTCHfrn_wM",
        "colab": {
          "base_uri": "https://localhost:8080/",
          "height": 249
        },
        "outputId": "fc40d4d9-d32e-4ab6-85bb-c614597eaf37"
      },
      "source": [
        "pt.plot(kind='bar', figsize=(8, 3));"
      ],
      "execution_count": null,
      "outputs": [
        {
          "output_type": "display_data",
          "data": {
            "image/png": "[encoded data removed]",
            "text/plain": [
              "<Figure size 576x216 with 1 Axes>"
            ]
          },
          "metadata": {
            "tags": []
          }
        }
      ]
    },
    {
      "cell_type": "markdown",
      "metadata": {
        "id": "NiR7J6sUn_wS"
      },
      "source": [
        "## Much More\n",
        "\n",
        "The above was a small sample from many of the major sections of the pandas library."
      ]
    }
  ]
}