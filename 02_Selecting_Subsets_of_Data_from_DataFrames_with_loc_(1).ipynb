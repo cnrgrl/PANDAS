{
  "nbformat": 4,
  "nbformat_minor": 0,
  "metadata": {
    "kernelspec": {
      "display_name": "Python 3",
      "language": "python",
      "name": "python3"
    },
    "language_info": {
      "codemirror_mode": {
        "name": "ipython",
        "version": 3
      },
      "file_extension": ".py",
      "mimetype": "text/x-python",
      "name": "python",
      "nbconvert_exporter": "python",
      "pygments_lexer": "ipython3",
      "version": "3.7.3"
    },
    "varInspector": {
      "cols": {
        "lenName": 16,
        "lenType": 16,
        "lenVar": 40
      },
      "kernels_config": {
        "python": {
          "delete_cmd_postfix": "",
          "delete_cmd_prefix": "del ",
          "library": "var_list.py",
          "varRefreshCmd": "print(var_dic_list())"
        },
        "r": {
          "delete_cmd_postfix": ") ",
          "delete_cmd_prefix": "rm(",
          "library": "var_list.r",
          "varRefreshCmd": "cat(var_dic_list()) "
        }
      },
      "types_to_exclude": [
        "module",
        "function",
        "builtin_function_or_method",
        "instance",
        "_Feature"
      ],
      "window_display": false
    },
    "colab": {
      "name": "02. Selecting Subsets of Data from DataFrames with loc (1).ipynb",
      "provenance": [],
      "include_colab_link": true
    }
  },
  "cells": [
    {
      "cell_type": "markdown",
      "metadata": {
        "id": "view-in-github",
        "colab_type": "text"
      },
      "source": [
        "<a href=\"https://colab.research.google.com/github/cnrgrl/PANDAS/blob/main/02_Selecting_Subsets_of_Data_from_DataFrames_with_loc_(1).ipynb\" target=\"_parent\"><img src=\"https://colab.research.google.com/assets/colab-badge.svg\" alt=\"Open In Colab\"/></a>"
      ]
    },
    {
      "cell_type": "code",
      "metadata": {
        "id": "0KV3fYx4zPye",
        "colab": {
          "base_uri": "https://localhost:8080/",
          "height": 138
        },
        "outputId": "cde5439d-3716-4a72-dfad-caf7f0433941"
      },
      "source": [
        "# uncomment the following line, if you are using google collab\n",
        "!rm -r Pandas\n",
        "!git clone https://github.com/Wuebbelt/Pandas.git"
      ],
      "execution_count": null,
      "outputs": [
        {
          "output_type": "stream",
          "text": [
            "rm: cannot remove 'Pandas': No such file or directory\n",
            "Cloning into 'Pandas'...\n",
            "remote: Enumerating objects: 77, done.\u001b[K\n",
            "remote: Counting objects: 100% (77/77), done.\u001b[K\n",
            "remote: Compressing objects: 100% (66/66), done.\u001b[K\n",
            "remote: Total 77 (delta 12), reused 75 (delta 10), pack-reused 0\u001b[K\n",
            "Unpacking objects: 100% (77/77), done.\n"
          ],
          "name": "stdout"
        }
      ]
    },
    {
      "cell_type": "markdown",
      "metadata": {
        "id": "TEa12sjdzL3g"
      },
      "source": [
        "# Selecting Subsets of Data from DataFrames with `loc`\n",
        "\n",
        "In this chapter, we use the `loc` indexer to select subsets of data from DataFrames. The `loc` indexer selects data in a different manner than *just the brackets*. It has its own separate set of rules that we must learn. \n",
        "\n",
        "## Simultaneous row and column subset selection\n",
        "\n",
        "The `loc` indexer can select rows and columns simultaneously.  This is done by separating the row and column selections with a **comma**. The selection will look something like this:\n",
        "\n",
        "```python\n",
        "df.loc[rows, cols]\n",
        "```\n",
        "\n",
        "### Just the brackets cannot do this\n",
        "\n",
        "Simultaneous row and column subset selection is not possible with *just the brackets*. Reiterating from above, the `loc` indexer has a completely different and distinct set of rules that you must abide by to use correctly. It's best to forget about how *just the brackets* works when first learning subset selection with `loc`.\n",
        "\n",
        "### `loc` primarily selects data by label\n",
        "\n",
        "Very importantly, `loc` primarily selects subsets by the **label** of the rows and columns. It also makes selections via boolean selection, a topic covered in a later chapter.\n",
        "\n",
        "### Read in data\n",
        "\n",
        "Let's get started by reading in a sample DataFrame with the first column set as the index."
      ]
    },
    {
      "cell_type": "code",
      "metadata": {
        "id": "gaEFadeIzL3l",
        "colab": {
          "base_uri": "https://localhost:8080/",
          "height": 300
        },
        "outputId": "ec9b2b40-7ef6-4f9b-e903-8dd515caf68f"
      },
      "source": [
        "import pandas as pd\n",
        "df = pd.read_csv('Pandas/sample_data.csv', index_col=0)\n",
        "df"
      ],
      "execution_count": null,
      "outputs": [
        {
          "output_type": "execute_result",
          "data": {
            "text/html": [
              "<div>\n",
              "<style scoped>\n",
              "    .dataframe tbody tr th:only-of-type {\n",
              "        vertical-align: middle;\n",
              "    }\n",
              "\n",
              "    .dataframe tbody tr th {\n",
              "        vertical-align: top;\n",
              "    }\n",
              "\n",
              "    .dataframe thead th {\n",
              "        text-align: right;\n",
              "    }\n",
              "</style>\n",
              "<table border=\"1\" class=\"dataframe\">\n",
              "  <thead>\n",
              "    <tr style=\"text-align: right;\">\n",
              "      <th></th>\n",
              "      <th>state</th>\n",
              "      <th>color</th>\n",
              "      <th>food</th>\n",
              "      <th>age</th>\n",
              "      <th>height</th>\n",
              "      <th>score</th>\n",
              "    </tr>\n",
              "    <tr>\n",
              "      <th>name</th>\n",
              "      <th></th>\n",
              "      <th></th>\n",
              "      <th></th>\n",
              "      <th></th>\n",
              "      <th></th>\n",
              "      <th></th>\n",
              "    </tr>\n",
              "  </thead>\n",
              "  <tbody>\n",
              "    <tr>\n",
              "      <th>Jane</th>\n",
              "      <td>NY</td>\n",
              "      <td>blue</td>\n",
              "      <td>Steak</td>\n",
              "      <td>30</td>\n",
              "      <td>165</td>\n",
              "      <td>4.6</td>\n",
              "    </tr>\n",
              "    <tr>\n",
              "      <th>Niko</th>\n",
              "      <td>TX</td>\n",
              "      <td>green</td>\n",
              "      <td>Lamb</td>\n",
              "      <td>2</td>\n",
              "      <td>70</td>\n",
              "      <td>8.3</td>\n",
              "    </tr>\n",
              "    <tr>\n",
              "      <th>Aaron</th>\n",
              "      <td>FL</td>\n",
              "      <td>red</td>\n",
              "      <td>Mango</td>\n",
              "      <td>12</td>\n",
              "      <td>120</td>\n",
              "      <td>9.0</td>\n",
              "    </tr>\n",
              "    <tr>\n",
              "      <th>Penelope</th>\n",
              "      <td>AL</td>\n",
              "      <td>white</td>\n",
              "      <td>Apple</td>\n",
              "      <td>4</td>\n",
              "      <td>80</td>\n",
              "      <td>3.3</td>\n",
              "    </tr>\n",
              "    <tr>\n",
              "      <th>Dean</th>\n",
              "      <td>AK</td>\n",
              "      <td>gray</td>\n",
              "      <td>Cheese</td>\n",
              "      <td>32</td>\n",
              "      <td>180</td>\n",
              "      <td>1.8</td>\n",
              "    </tr>\n",
              "    <tr>\n",
              "      <th>Christina</th>\n",
              "      <td>TX</td>\n",
              "      <td>black</td>\n",
              "      <td>Melon</td>\n",
              "      <td>33</td>\n",
              "      <td>172</td>\n",
              "      <td>9.5</td>\n",
              "    </tr>\n",
              "    <tr>\n",
              "      <th>Cornelia</th>\n",
              "      <td>TX</td>\n",
              "      <td>red</td>\n",
              "      <td>Beans</td>\n",
              "      <td>69</td>\n",
              "      <td>150</td>\n",
              "      <td>2.2</td>\n",
              "    </tr>\n",
              "  </tbody>\n",
              "</table>\n",
              "</div>"
            ],
            "text/plain": [
              "          state  color    food  age  height  score\n",
              "name                                              \n",
              "Jane         NY   blue   Steak   30     165    4.6\n",
              "Niko         TX  green    Lamb    2      70    8.3\n",
              "Aaron        FL    red   Mango   12     120    9.0\n",
              "Penelope     AL  white   Apple    4      80    3.3\n",
              "Dean         AK   gray  Cheese   32     180    1.8\n",
              "Christina    TX  black   Melon   33     172    9.5\n",
              "Cornelia     TX    red   Beans   69     150    2.2"
            ]
          },
          "metadata": {
            "tags": []
          },
          "execution_count": 2
        }
      ]
    },
    {
      "cell_type": "markdown",
      "metadata": {
        "id": "mxIquH45zL3q"
      },
      "source": [
        "### Select two rows and three columns with `loc`\n",
        "\n",
        "Let's make our first selection with `loc` by simultaneously selecting some rows and some columns. Let's select the rows `Dean` and `Cornelia` along with the columns `age`, `state`, and `score`. A list is used to contain both the row and column selections before being placed within the brackets following `loc`. Row and column selection must be separated by a comma."
      ]
    },
    {
      "cell_type": "code",
      "metadata": {
        "id": "LPc4nxKEzL3r",
        "colab": {
          "base_uri": "https://localhost:8080/",
          "height": 143
        },
        "outputId": "aa5ae034-3614-4806-aad2-9bcf60ce5948"
      },
      "source": [
        "rows = ['Dean', 'Cornelia']\n",
        "cols = ['age', 'state', 'score']\n",
        "df.loc[rows, cols]"
      ],
      "execution_count": null,
      "outputs": [
        {
          "output_type": "execute_result",
          "data": {
            "text/html": [
              "<div>\n",
              "<style scoped>\n",
              "    .dataframe tbody tr th:only-of-type {\n",
              "        vertical-align: middle;\n",
              "    }\n",
              "\n",
              "    .dataframe tbody tr th {\n",
              "        vertical-align: top;\n",
              "    }\n",
              "\n",
              "    .dataframe thead th {\n",
              "        text-align: right;\n",
              "    }\n",
              "</style>\n",
              "<table border=\"1\" class=\"dataframe\">\n",
              "  <thead>\n",
              "    <tr style=\"text-align: right;\">\n",
              "      <th></th>\n",
              "      <th>age</th>\n",
              "      <th>state</th>\n",
              "      <th>score</th>\n",
              "    </tr>\n",
              "    <tr>\n",
              "      <th>name</th>\n",
              "      <th></th>\n",
              "      <th></th>\n",
              "      <th></th>\n",
              "    </tr>\n",
              "  </thead>\n",
              "  <tbody>\n",
              "    <tr>\n",
              "      <th>Dean</th>\n",
              "      <td>32</td>\n",
              "      <td>AK</td>\n",
              "      <td>1.8</td>\n",
              "    </tr>\n",
              "    <tr>\n",
              "      <th>Cornelia</th>\n",
              "      <td>69</td>\n",
              "      <td>TX</td>\n",
              "      <td>2.2</td>\n",
              "    </tr>\n",
              "  </tbody>\n",
              "</table>\n",
              "</div>"
            ],
            "text/plain": [
              "          age state  score\n",
              "name                      \n",
              "Dean       32    AK    1.8\n",
              "Cornelia   69    TX    2.2"
            ]
          },
          "metadata": {
            "tags": []
          },
          "execution_count": 3
        }
      ]
    },
    {
      "cell_type": "markdown",
      "metadata": {
        "id": "mXq3O3BCzL3u"
      },
      "source": [
        "### The possible types of row and column selections\n",
        "\n",
        "In the above example, we used a list of labels for both the row and column selection. You are not limited to just lists. All of the following are valid objects available for both row and column selections with `loc`.\n",
        "\n",
        "* A single label\n",
        "* A list of labels\n",
        "* A slice with labels\n",
        "* A boolean Series (covered in a later chapter)\n",
        "\n",
        "### Select two rows and a single column\n",
        "\n",
        "Let's select the rows `Aaron` and `Dean` along with the `food` column. We can use a list for the row selection and a single string for the column selection."
      ]
    },
    {
      "cell_type": "code",
      "metadata": {
        "id": "bpTFSNW4zL3w",
        "colab": {
          "base_uri": "https://localhost:8080/",
          "height": 86
        },
        "outputId": "1f0263ff-9abb-4370-f82e-4a5b3d2de8c3"
      },
      "source": [
        "rows = ['Dean', 'Aaron']\n",
        "cols = 'food'\n",
        "df.loc[rows, cols]"
      ],
      "execution_count": null,
      "outputs": [
        {
          "output_type": "execute_result",
          "data": {
            "text/plain": [
              "name\n",
              "Dean     Cheese\n",
              "Aaron     Mango\n",
              "Name: food, dtype: object"
            ]
          },
          "metadata": {
            "tags": []
          },
          "execution_count": 4
        }
      ]
    },
    {
      "cell_type": "markdown",
      "metadata": {
        "id": "SMaCJSLyzL30"
      },
      "source": [
        "### Series Returned\n",
        "In the above example, a Series and not a DataFrame was returned. Whenever you select a single row or a single column using a string label, pandas returns a Series"
      ]
    },
    {
      "cell_type": "markdown",
      "metadata": {
        "id": "GXSuefhWzL32"
      },
      "source": [
        "## `loc` with slice notation\n",
        "\n",
        "Lists, tuples, and strings are the core Python objects that allow subset selection with slice notation. This same notation is allowed with DataFrames. Let's select all of the rows from `Jane` to `Penelope` with slice notation along with the columns `state` and `color`."
      ]
    },
    {
      "cell_type": "code",
      "metadata": {
        "id": "ytm7us4CzL33",
        "colab": {
          "base_uri": "https://localhost:8080/",
          "height": 206
        },
        "outputId": "47746a10-79d5-4762-fa58-ba9c51518954"
      },
      "source": [
        "cols = ['state', 'color']\n",
        "df.loc['Jane':'Penelope', cols]"
      ],
      "execution_count": null,
      "outputs": [
        {
          "output_type": "execute_result",
          "data": {
            "text/html": [
              "<div>\n",
              "<style scoped>\n",
              "    .dataframe tbody tr th:only-of-type {\n",
              "        vertical-align: middle;\n",
              "    }\n",
              "\n",
              "    .dataframe tbody tr th {\n",
              "        vertical-align: top;\n",
              "    }\n",
              "\n",
              "    .dataframe thead th {\n",
              "        text-align: right;\n",
              "    }\n",
              "</style>\n",
              "<table border=\"1\" class=\"dataframe\">\n",
              "  <thead>\n",
              "    <tr style=\"text-align: right;\">\n",
              "      <th></th>\n",
              "      <th>state</th>\n",
              "      <th>color</th>\n",
              "    </tr>\n",
              "    <tr>\n",
              "      <th>name</th>\n",
              "      <th></th>\n",
              "      <th></th>\n",
              "    </tr>\n",
              "  </thead>\n",
              "  <tbody>\n",
              "    <tr>\n",
              "      <th>Jane</th>\n",
              "      <td>NY</td>\n",
              "      <td>blue</td>\n",
              "    </tr>\n",
              "    <tr>\n",
              "      <th>Niko</th>\n",
              "      <td>TX</td>\n",
              "      <td>green</td>\n",
              "    </tr>\n",
              "    <tr>\n",
              "      <th>Aaron</th>\n",
              "      <td>FL</td>\n",
              "      <td>red</td>\n",
              "    </tr>\n",
              "    <tr>\n",
              "      <th>Penelope</th>\n",
              "      <td>AL</td>\n",
              "      <td>white</td>\n",
              "    </tr>\n",
              "  </tbody>\n",
              "</table>\n",
              "</div>"
            ],
            "text/plain": [
              "         state  color\n",
              "name                 \n",
              "Jane        NY   blue\n",
              "Niko        TX  green\n",
              "Aaron       FL    red\n",
              "Penelope    AL  white"
            ]
          },
          "metadata": {
            "tags": []
          },
          "execution_count": 5
        }
      ]
    },
    {
      "cell_type": "markdown",
      "metadata": {
        "id": "K9GHim6EzL37"
      },
      "source": [
        "### Slice notation is inclusive of the stop label\n",
        "\n",
        "Slice notation with the `loc` indexer includes the stop label. This behaves differently that slicing done on Python lists, which is exclusive of the stop integer.\n",
        "\n",
        "### Slice notation only works within the brackets attached to the object\n",
        "\n",
        "Python only allows us to use slice notation within the brackets that are attached to an object. If we try and assign slice notation outside of this, we will get a syntax error like we do below."
      ]
    },
    {
      "cell_type": "code",
      "metadata": {
        "id": "XpMKvHsQzL37",
        "colab": {
          "base_uri": "https://localhost:8080/",
          "height": 300
        },
        "outputId": "eb383c34-34cd-42cb-f86f-b57907d7c004"
      },
      "source": [
        "df"
      ],
      "execution_count": null,
      "outputs": [
        {
          "output_type": "execute_result",
          "data": {
            "text/html": [
              "<div>\n",
              "<style scoped>\n",
              "    .dataframe tbody tr th:only-of-type {\n",
              "        vertical-align: middle;\n",
              "    }\n",
              "\n",
              "    .dataframe tbody tr th {\n",
              "        vertical-align: top;\n",
              "    }\n",
              "\n",
              "    .dataframe thead th {\n",
              "        text-align: right;\n",
              "    }\n",
              "</style>\n",
              "<table border=\"1\" class=\"dataframe\">\n",
              "  <thead>\n",
              "    <tr style=\"text-align: right;\">\n",
              "      <th></th>\n",
              "      <th>state</th>\n",
              "      <th>color</th>\n",
              "      <th>food</th>\n",
              "      <th>age</th>\n",
              "      <th>height</th>\n",
              "      <th>score</th>\n",
              "    </tr>\n",
              "    <tr>\n",
              "      <th>name</th>\n",
              "      <th></th>\n",
              "      <th></th>\n",
              "      <th></th>\n",
              "      <th></th>\n",
              "      <th></th>\n",
              "      <th></th>\n",
              "    </tr>\n",
              "  </thead>\n",
              "  <tbody>\n",
              "    <tr>\n",
              "      <th>Jane</th>\n",
              "      <td>NY</td>\n",
              "      <td>blue</td>\n",
              "      <td>Steak</td>\n",
              "      <td>30</td>\n",
              "      <td>165</td>\n",
              "      <td>4.6</td>\n",
              "    </tr>\n",
              "    <tr>\n",
              "      <th>Niko</th>\n",
              "      <td>TX</td>\n",
              "      <td>green</td>\n",
              "      <td>Lamb</td>\n",
              "      <td>2</td>\n",
              "      <td>70</td>\n",
              "      <td>8.3</td>\n",
              "    </tr>\n",
              "    <tr>\n",
              "      <th>Aaron</th>\n",
              "      <td>FL</td>\n",
              "      <td>red</td>\n",
              "      <td>Mango</td>\n",
              "      <td>12</td>\n",
              "      <td>120</td>\n",
              "      <td>9.0</td>\n",
              "    </tr>\n",
              "    <tr>\n",
              "      <th>Penelope</th>\n",
              "      <td>AL</td>\n",
              "      <td>white</td>\n",
              "      <td>Apple</td>\n",
              "      <td>4</td>\n",
              "      <td>80</td>\n",
              "      <td>3.3</td>\n",
              "    </tr>\n",
              "    <tr>\n",
              "      <th>Dean</th>\n",
              "      <td>AK</td>\n",
              "      <td>gray</td>\n",
              "      <td>Cheese</td>\n",
              "      <td>32</td>\n",
              "      <td>180</td>\n",
              "      <td>1.8</td>\n",
              "    </tr>\n",
              "    <tr>\n",
              "      <th>Christina</th>\n",
              "      <td>TX</td>\n",
              "      <td>black</td>\n",
              "      <td>Melon</td>\n",
              "      <td>33</td>\n",
              "      <td>172</td>\n",
              "      <td>9.5</td>\n",
              "    </tr>\n",
              "    <tr>\n",
              "      <th>Cornelia</th>\n",
              "      <td>TX</td>\n",
              "      <td>red</td>\n",
              "      <td>Beans</td>\n",
              "      <td>69</td>\n",
              "      <td>150</td>\n",
              "      <td>2.2</td>\n",
              "    </tr>\n",
              "  </tbody>\n",
              "</table>\n",
              "</div>"
            ],
            "text/plain": [
              "          state  color    food  age  height  score\n",
              "name                                              \n",
              "Jane         NY   blue   Steak   30     165    4.6\n",
              "Niko         TX  green    Lamb    2      70    8.3\n",
              "Aaron        FL    red   Mango   12     120    9.0\n",
              "Penelope     AL  white   Apple    4      80    3.3\n",
              "Dean         AK   gray  Cheese   32     180    1.8\n",
              "Christina    TX  black   Melon   33     172    9.5\n",
              "Cornelia     TX    red   Beans   69     150    2.2"
            ]
          },
          "metadata": {
            "tags": []
          },
          "execution_count": 6
        }
      ]
    },
    {
      "cell_type": "code",
      "metadata": {
        "id": "EQQUey6IzL3-",
        "colab": {
          "base_uri": "https://localhost:8080/",
          "height": 131
        },
        "outputId": "13adeb10-934c-43a3-d676-de6bf8244316"
      },
      "source": [
        "rows = 'Jane':'Penelope'"
      ],
      "execution_count": null,
      "outputs": [
        {
          "output_type": "error",
          "ename": "SyntaxError",
          "evalue": "ignored",
          "traceback": [
            "\u001b[0;36m  File \u001b[0;32m\"<ipython-input-7-493c47d3162b>\"\u001b[0;36m, line \u001b[0;32m1\u001b[0m\n\u001b[0;31m    rows = 'Jane':'Penelope'\u001b[0m\n\u001b[0m                 ^\u001b[0m\n\u001b[0;31mSyntaxError\u001b[0m\u001b[0;31m:\u001b[0m invalid syntax\n"
          ]
        }
      ]
    },
    {
      "cell_type": "markdown",
      "metadata": {
        "id": "c-Hzg27-zL4A"
      },
      "source": [
        "### Slice both the rows and columns\n",
        "Both row and column selections support slice notation. In the following example, we slice all the rows from the beginning up to and including label `Dean` along with columns from `height` until the end."
      ]
    },
    {
      "cell_type": "code",
      "metadata": {
        "id": "1ZrDrXjbzL4C",
        "colab": {
          "base_uri": "https://localhost:8080/",
          "height": 237
        },
        "outputId": "eade02b2-1650-4a60-9165-0f6528099742"
      },
      "source": [
        "df.loc[:'Dean', 'height':]"
      ],
      "execution_count": null,
      "outputs": [
        {
          "output_type": "execute_result",
          "data": {
            "text/html": [
              "<div>\n",
              "<style scoped>\n",
              "    .dataframe tbody tr th:only-of-type {\n",
              "        vertical-align: middle;\n",
              "    }\n",
              "\n",
              "    .dataframe tbody tr th {\n",
              "        vertical-align: top;\n",
              "    }\n",
              "\n",
              "    .dataframe thead th {\n",
              "        text-align: right;\n",
              "    }\n",
              "</style>\n",
              "<table border=\"1\" class=\"dataframe\">\n",
              "  <thead>\n",
              "    <tr style=\"text-align: right;\">\n",
              "      <th></th>\n",
              "      <th>height</th>\n",
              "      <th>score</th>\n",
              "    </tr>\n",
              "    <tr>\n",
              "      <th>name</th>\n",
              "      <th></th>\n",
              "      <th></th>\n",
              "    </tr>\n",
              "  </thead>\n",
              "  <tbody>\n",
              "    <tr>\n",
              "      <th>Jane</th>\n",
              "      <td>165</td>\n",
              "      <td>4.6</td>\n",
              "    </tr>\n",
              "    <tr>\n",
              "      <th>Niko</th>\n",
              "      <td>70</td>\n",
              "      <td>8.3</td>\n",
              "    </tr>\n",
              "    <tr>\n",
              "      <th>Aaron</th>\n",
              "      <td>120</td>\n",
              "      <td>9.0</td>\n",
              "    </tr>\n",
              "    <tr>\n",
              "      <th>Penelope</th>\n",
              "      <td>80</td>\n",
              "      <td>3.3</td>\n",
              "    </tr>\n",
              "    <tr>\n",
              "      <th>Dean</th>\n",
              "      <td>180</td>\n",
              "      <td>1.8</td>\n",
              "    </tr>\n",
              "  </tbody>\n",
              "</table>\n",
              "</div>"
            ],
            "text/plain": [
              "          height  score\n",
              "name                   \n",
              "Jane         165    4.6\n",
              "Niko          70    8.3\n",
              "Aaron        120    9.0\n",
              "Penelope      80    3.3\n",
              "Dean         180    1.8"
            ]
          },
          "metadata": {
            "tags": []
          },
          "execution_count": 8
        }
      ]
    },
    {
      "cell_type": "markdown",
      "metadata": {
        "id": "EdYPE3ZCzL4J"
      },
      "source": [
        "### Selecting all of the rows and some of the columns\n",
        "\n",
        "It is possible to use slice notation to select all of rows or columns. We do so with a single colon, which is sometimes referred to as the **empty slcie**. In this example, we select all of the rows and two of the columns."
      ]
    },
    {
      "cell_type": "code",
      "metadata": {
        "id": "wwy1gHgkzL4K",
        "colab": {
          "base_uri": "https://localhost:8080/",
          "height": 300
        },
        "outputId": "d09813c9-6f27-4ae5-eee9-5ac38cc5f47a"
      },
      "source": [
        "cols = ['food', 'color']\n",
        "df.loc[:, cols]"
      ],
      "execution_count": null,
      "outputs": [
        {
          "output_type": "execute_result",
          "data": {
            "text/html": [
              "<div>\n",
              "<style scoped>\n",
              "    .dataframe tbody tr th:only-of-type {\n",
              "        vertical-align: middle;\n",
              "    }\n",
              "\n",
              "    .dataframe tbody tr th {\n",
              "        vertical-align: top;\n",
              "    }\n",
              "\n",
              "    .dataframe thead th {\n",
              "        text-align: right;\n",
              "    }\n",
              "</style>\n",
              "<table border=\"1\" class=\"dataframe\">\n",
              "  <thead>\n",
              "    <tr style=\"text-align: right;\">\n",
              "      <th></th>\n",
              "      <th>food</th>\n",
              "      <th>color</th>\n",
              "    </tr>\n",
              "    <tr>\n",
              "      <th>name</th>\n",
              "      <th></th>\n",
              "      <th></th>\n",
              "    </tr>\n",
              "  </thead>\n",
              "  <tbody>\n",
              "    <tr>\n",
              "      <th>Jane</th>\n",
              "      <td>Steak</td>\n",
              "      <td>blue</td>\n",
              "    </tr>\n",
              "    <tr>\n",
              "      <th>Niko</th>\n",
              "      <td>Lamb</td>\n",
              "      <td>green</td>\n",
              "    </tr>\n",
              "    <tr>\n",
              "      <th>Aaron</th>\n",
              "      <td>Mango</td>\n",
              "      <td>red</td>\n",
              "    </tr>\n",
              "    <tr>\n",
              "      <th>Penelope</th>\n",
              "      <td>Apple</td>\n",
              "      <td>white</td>\n",
              "    </tr>\n",
              "    <tr>\n",
              "      <th>Dean</th>\n",
              "      <td>Cheese</td>\n",
              "      <td>gray</td>\n",
              "    </tr>\n",
              "    <tr>\n",
              "      <th>Christina</th>\n",
              "      <td>Melon</td>\n",
              "      <td>black</td>\n",
              "    </tr>\n",
              "    <tr>\n",
              "      <th>Cornelia</th>\n",
              "      <td>Beans</td>\n",
              "      <td>red</td>\n",
              "    </tr>\n",
              "  </tbody>\n",
              "</table>\n",
              "</div>"
            ],
            "text/plain": [
              "             food  color\n",
              "name                    \n",
              "Jane        Steak   blue\n",
              "Niko         Lamb  green\n",
              "Aaron       Mango    red\n",
              "Penelope    Apple  white\n",
              "Dean       Cheese   gray\n",
              "Christina   Melon  black\n",
              "Cornelia    Beans    red"
            ]
          },
          "metadata": {
            "tags": []
          },
          "execution_count": 9
        }
      ]
    },
    {
      "cell_type": "markdown",
      "metadata": {
        "id": "CPzXrDGezL4N"
      },
      "source": [
        "### Could have used *just the brackets*\n",
        "\n",
        "It is not necessary to use `loc` for this selection as we are only selecting two distinct columns. This could have been accomplished with *just the brackets*."
      ]
    },
    {
      "cell_type": "code",
      "metadata": {
        "id": "RLNNjvK9zL4O",
        "colab": {
          "base_uri": "https://localhost:8080/"
        },
        "outputId": "dc034b65-722b-4001-f71b-636da2a930fc"
      },
      "source": [
        "cols = ['food', 'color']\n",
        "df[cols]"
      ],
      "execution_count": null,
      "outputs": [
        {
          "output_type": "execute_result",
          "data": {
            "text/html": [
              "<div>\n",
              "<style scoped>\n",
              "    .dataframe tbody tr th:only-of-type {\n",
              "        vertical-align: middle;\n",
              "    }\n",
              "\n",
              "    .dataframe tbody tr th {\n",
              "        vertical-align: top;\n",
              "    }\n",
              "\n",
              "    .dataframe thead th {\n",
              "        text-align: right;\n",
              "    }\n",
              "</style>\n",
              "<table border=\"1\" class=\"dataframe\">\n",
              "  <thead>\n",
              "    <tr style=\"text-align: right;\">\n",
              "      <th></th>\n",
              "      <th>food</th>\n",
              "      <th>color</th>\n",
              "    </tr>\n",
              "    <tr>\n",
              "      <th>name</th>\n",
              "      <th></th>\n",
              "      <th></th>\n",
              "    </tr>\n",
              "  </thead>\n",
              "  <tbody>\n",
              "    <tr>\n",
              "      <th>Jane</th>\n",
              "      <td>Steak</td>\n",
              "      <td>blue</td>\n",
              "    </tr>\n",
              "    <tr>\n",
              "      <th>Niko</th>\n",
              "      <td>Lamb</td>\n",
              "      <td>green</td>\n",
              "    </tr>\n",
              "    <tr>\n",
              "      <th>Aaron</th>\n",
              "      <td>Mango</td>\n",
              "      <td>red</td>\n",
              "    </tr>\n",
              "    <tr>\n",
              "      <th>Penelope</th>\n",
              "      <td>Apple</td>\n",
              "      <td>white</td>\n",
              "    </tr>\n",
              "    <tr>\n",
              "      <th>Dean</th>\n",
              "      <td>Cheese</td>\n",
              "      <td>gray</td>\n",
              "    </tr>\n",
              "    <tr>\n",
              "      <th>Christina</th>\n",
              "      <td>Melon</td>\n",
              "      <td>black</td>\n",
              "    </tr>\n",
              "    <tr>\n",
              "      <th>Cornelia</th>\n",
              "      <td>Beans</td>\n",
              "      <td>red</td>\n",
              "    </tr>\n",
              "  </tbody>\n",
              "</table>\n",
              "</div>"
            ],
            "text/plain": [
              "             food  color\n",
              "name                    \n",
              "Jane        Steak   blue\n",
              "Niko         Lamb  green\n",
              "Aaron       Mango    red\n",
              "Penelope    Apple  white\n",
              "Dean       Cheese   gray\n",
              "Christina   Melon  black\n",
              "Cornelia    Beans    red"
            ]
          },
          "metadata": {
            "tags": []
          },
          "execution_count": 10
        }
      ]
    },
    {
      "cell_type": "markdown",
      "metadata": {
        "id": "_bJlLZJizL4Q"
      },
      "source": [
        "### A single colon is slice notation to select all values\n",
        "\n",
        "That single colon might be intimidating, but it is technically slice notation that selects all items. In the following example, all of the elements of a Python list are selected using a single colon."
      ]
    },
    {
      "cell_type": "code",
      "metadata": {
        "id": "UznuTiJRzL4R",
        "colab": {
          "base_uri": "https://localhost:8080/"
        },
        "outputId": "9a2cd739-318b-4f58-b6d7-6bb054ed935b"
      },
      "source": [
        "a_list = [1, 2, 3, 4, 5, 6]\n",
        "a_list[:]"
      ],
      "execution_count": null,
      "outputs": [
        {
          "output_type": "execute_result",
          "data": {
            "text/plain": [
              "[1, 2, 3, 4, 5, 6]"
            ]
          },
          "metadata": {
            "tags": []
          },
          "execution_count": 11
        }
      ]
    },
    {
      "cell_type": "markdown",
      "metadata": {
        "id": "B5js6Q8KzL4U"
      },
      "source": [
        "### Use a single colon to select all the columns\n",
        "\n",
        "It is possible to use a single colon to represent a slice of all the rows or all of the columns. Below, a colon is used as slice notation for all of the columns."
      ]
    },
    {
      "cell_type": "code",
      "metadata": {
        "id": "B3HfLt3VzL4V",
        "colab": {
          "base_uri": "https://localhost:8080/"
        },
        "outputId": "ad5ab50a-937a-4740-f487-530529a23556"
      },
      "source": [
        "rows = ['Penelope','Cornelia']\n",
        "df.loc[rows, :]"
      ],
      "execution_count": null,
      "outputs": [
        {
          "output_type": "execute_result",
          "data": {
            "text/html": [
              "<div>\n",
              "<style scoped>\n",
              "    .dataframe tbody tr th:only-of-type {\n",
              "        vertical-align: middle;\n",
              "    }\n",
              "\n",
              "    .dataframe tbody tr th {\n",
              "        vertical-align: top;\n",
              "    }\n",
              "\n",
              "    .dataframe thead th {\n",
              "        text-align: right;\n",
              "    }\n",
              "</style>\n",
              "<table border=\"1\" class=\"dataframe\">\n",
              "  <thead>\n",
              "    <tr style=\"text-align: right;\">\n",
              "      <th></th>\n",
              "      <th>state</th>\n",
              "      <th>color</th>\n",
              "      <th>food</th>\n",
              "      <th>age</th>\n",
              "      <th>height</th>\n",
              "      <th>score</th>\n",
              "    </tr>\n",
              "    <tr>\n",
              "      <th>name</th>\n",
              "      <th></th>\n",
              "      <th></th>\n",
              "      <th></th>\n",
              "      <th></th>\n",
              "      <th></th>\n",
              "      <th></th>\n",
              "    </tr>\n",
              "  </thead>\n",
              "  <tbody>\n",
              "    <tr>\n",
              "      <th>Penelope</th>\n",
              "      <td>AL</td>\n",
              "      <td>white</td>\n",
              "      <td>Apple</td>\n",
              "      <td>4</td>\n",
              "      <td>80</td>\n",
              "      <td>3.3</td>\n",
              "    </tr>\n",
              "    <tr>\n",
              "      <th>Cornelia</th>\n",
              "      <td>TX</td>\n",
              "      <td>red</td>\n",
              "      <td>Beans</td>\n",
              "      <td>69</td>\n",
              "      <td>150</td>\n",
              "      <td>2.2</td>\n",
              "    </tr>\n",
              "  </tbody>\n",
              "</table>\n",
              "</div>"
            ],
            "text/plain": [
              "         state  color   food  age  height  score\n",
              "name                                            \n",
              "Penelope    AL  white  Apple    4      80    3.3\n",
              "Cornelia    TX    red  Beans   69     150    2.2"
            ]
          },
          "metadata": {
            "tags": []
          },
          "execution_count": 12
        }
      ]
    },
    {
      "cell_type": "markdown",
      "metadata": {
        "id": "TyVlri-MzL4Z"
      },
      "source": [
        "### The above can be shortened\n",
        "\n",
        "By default, pandas selects all of the columns if you only provide a row selection. Providing the colon is not necessary so the following syntax makes the exact same selection."
      ]
    },
    {
      "cell_type": "code",
      "metadata": {
        "id": "hTaN0ljEzL4Z",
        "colab": {
          "base_uri": "https://localhost:8080/"
        },
        "outputId": "b8766c1d-ff21-41c2-899d-765edfd703a6"
      },
      "source": [
        "rows = ['Penelope', 'Cornelia']\n",
        "df.loc[rows]"
      ],
      "execution_count": null,
      "outputs": [
        {
          "output_type": "execute_result",
          "data": {
            "text/html": [
              "<div>\n",
              "<style scoped>\n",
              "    .dataframe tbody tr th:only-of-type {\n",
              "        vertical-align: middle;\n",
              "    }\n",
              "\n",
              "    .dataframe tbody tr th {\n",
              "        vertical-align: top;\n",
              "    }\n",
              "\n",
              "    .dataframe thead th {\n",
              "        text-align: right;\n",
              "    }\n",
              "</style>\n",
              "<table border=\"1\" class=\"dataframe\">\n",
              "  <thead>\n",
              "    <tr style=\"text-align: right;\">\n",
              "      <th></th>\n",
              "      <th>state</th>\n",
              "      <th>color</th>\n",
              "      <th>food</th>\n",
              "      <th>age</th>\n",
              "      <th>height</th>\n",
              "      <th>score</th>\n",
              "    </tr>\n",
              "    <tr>\n",
              "      <th>name</th>\n",
              "      <th></th>\n",
              "      <th></th>\n",
              "      <th></th>\n",
              "      <th></th>\n",
              "      <th></th>\n",
              "      <th></th>\n",
              "    </tr>\n",
              "  </thead>\n",
              "  <tbody>\n",
              "    <tr>\n",
              "      <th>Penelope</th>\n",
              "      <td>AL</td>\n",
              "      <td>white</td>\n",
              "      <td>Apple</td>\n",
              "      <td>4</td>\n",
              "      <td>80</td>\n",
              "      <td>3.3</td>\n",
              "    </tr>\n",
              "    <tr>\n",
              "      <th>Cornelia</th>\n",
              "      <td>TX</td>\n",
              "      <td>red</td>\n",
              "      <td>Beans</td>\n",
              "      <td>69</td>\n",
              "      <td>150</td>\n",
              "      <td>2.2</td>\n",
              "    </tr>\n",
              "  </tbody>\n",
              "</table>\n",
              "</div>"
            ],
            "text/plain": [
              "         state  color   food  age  height  score\n",
              "name                                            \n",
              "Penelope    AL  white  Apple    4      80    3.3\n",
              "Cornelia    TX    red  Beans   69     150    2.2"
            ]
          },
          "metadata": {
            "tags": []
          },
          "execution_count": 13
        }
      ]
    },
    {
      "cell_type": "markdown",
      "metadata": {
        "id": "6C2tnDZBzL4d"
      },
      "source": [
        "Though it is not syntactically necessary, one reason to use the colon is to reinforce the idea that `loc` may be used for simultaneous column selection. The first object passed to `loc` always selects rows and the second always selects columns.\n",
        "\n",
        "### Use slice notation to select a range of rows with all of the columns\n",
        "\n",
        "Similarly, we can use slice notation to select several rows at a time. Below, begin at the row labeled by `Niko` and go all he way through `Dean`. We do not provide a specific column selection to return all of the columns."
      ]
    },
    {
      "cell_type": "code",
      "metadata": {
        "id": "Ntu9xBu8zL4d",
        "colab": {
          "base_uri": "https://localhost:8080/",
          "height": 206
        },
        "outputId": "5b5d4ad1-e4a9-4d17-ce8e-9017bdafa9fb"
      },
      "source": [
        "df.loc['Niko':'Dean']"
      ],
      "execution_count": null,
      "outputs": [
        {
          "output_type": "execute_result",
          "data": {
            "text/html": [
              "<div>\n",
              "<style scoped>\n",
              "    .dataframe tbody tr th:only-of-type {\n",
              "        vertical-align: middle;\n",
              "    }\n",
              "\n",
              "    .dataframe tbody tr th {\n",
              "        vertical-align: top;\n",
              "    }\n",
              "\n",
              "    .dataframe thead th {\n",
              "        text-align: right;\n",
              "    }\n",
              "</style>\n",
              "<table border=\"1\" class=\"dataframe\">\n",
              "  <thead>\n",
              "    <tr style=\"text-align: right;\">\n",
              "      <th></th>\n",
              "      <th>state</th>\n",
              "      <th>color</th>\n",
              "      <th>food</th>\n",
              "      <th>age</th>\n",
              "      <th>height</th>\n",
              "      <th>score</th>\n",
              "    </tr>\n",
              "    <tr>\n",
              "      <th>name</th>\n",
              "      <th></th>\n",
              "      <th></th>\n",
              "      <th></th>\n",
              "      <th></th>\n",
              "      <th></th>\n",
              "      <th></th>\n",
              "    </tr>\n",
              "  </thead>\n",
              "  <tbody>\n",
              "    <tr>\n",
              "      <th>Niko</th>\n",
              "      <td>TX</td>\n",
              "      <td>green</td>\n",
              "      <td>Lamb</td>\n",
              "      <td>2</td>\n",
              "      <td>70</td>\n",
              "      <td>8.3</td>\n",
              "    </tr>\n",
              "    <tr>\n",
              "      <th>Aaron</th>\n",
              "      <td>FL</td>\n",
              "      <td>red</td>\n",
              "      <td>Mango</td>\n",
              "      <td>12</td>\n",
              "      <td>120</td>\n",
              "      <td>9.0</td>\n",
              "    </tr>\n",
              "    <tr>\n",
              "      <th>Penelope</th>\n",
              "      <td>AL</td>\n",
              "      <td>white</td>\n",
              "      <td>Apple</td>\n",
              "      <td>4</td>\n",
              "      <td>80</td>\n",
              "      <td>3.3</td>\n",
              "    </tr>\n",
              "    <tr>\n",
              "      <th>Dean</th>\n",
              "      <td>AK</td>\n",
              "      <td>gray</td>\n",
              "      <td>Cheese</td>\n",
              "      <td>32</td>\n",
              "      <td>180</td>\n",
              "      <td>1.8</td>\n",
              "    </tr>\n",
              "  </tbody>\n",
              "</table>\n",
              "</div>"
            ],
            "text/plain": [
              "         state  color    food  age  height  score\n",
              "name                                             \n",
              "Niko        TX  green    Lamb    2      70    8.3\n",
              "Aaron       FL    red   Mango   12     120    9.0\n",
              "Penelope    AL  white   Apple    4      80    3.3\n",
              "Dean        AK   gray  Cheese   32     180    1.8"
            ]
          },
          "metadata": {
            "tags": []
          },
          "execution_count": 14
        }
      ]
    },
    {
      "cell_type": "markdown",
      "metadata": {
        "id": "eqG5q8FBzL4h"
      },
      "source": [
        "You could have written the above as `df.loc['Niko':'Dean', :]` to reinforce the fact that `loc` first selects rows and then columns.\n",
        "\n",
        "### Changing the step size\n",
        "\n",
        "The step size must be an integer when using slice notation with `loc`. In this example, we select every other row beginning at `Niko` and ending at `Christina`."
      ]
    },
    {
      "cell_type": "code",
      "metadata": {
        "id": "pIzcjeBvzL4i",
        "colab": {
          "base_uri": "https://localhost:8080/"
        },
        "outputId": "7b52e81f-0efc-4b40-c50c-dbcdf1ae5606"
      },
      "source": [
        "df.loc['Niko':'Christina':2]"
      ],
      "execution_count": null,
      "outputs": [
        {
          "output_type": "execute_result",
          "data": {
            "text/html": [
              "<div>\n",
              "<style scoped>\n",
              "    .dataframe tbody tr th:only-of-type {\n",
              "        vertical-align: middle;\n",
              "    }\n",
              "\n",
              "    .dataframe tbody tr th {\n",
              "        vertical-align: top;\n",
              "    }\n",
              "\n",
              "    .dataframe thead th {\n",
              "        text-align: right;\n",
              "    }\n",
              "</style>\n",
              "<table border=\"1\" class=\"dataframe\">\n",
              "  <thead>\n",
              "    <tr style=\"text-align: right;\">\n",
              "      <th></th>\n",
              "      <th>state</th>\n",
              "      <th>color</th>\n",
              "      <th>food</th>\n",
              "      <th>age</th>\n",
              "      <th>height</th>\n",
              "      <th>score</th>\n",
              "    </tr>\n",
              "    <tr>\n",
              "      <th>name</th>\n",
              "      <th></th>\n",
              "      <th></th>\n",
              "      <th></th>\n",
              "      <th></th>\n",
              "      <th></th>\n",
              "      <th></th>\n",
              "    </tr>\n",
              "  </thead>\n",
              "  <tbody>\n",
              "    <tr>\n",
              "      <th>Niko</th>\n",
              "      <td>TX</td>\n",
              "      <td>green</td>\n",
              "      <td>Lamb</td>\n",
              "      <td>2</td>\n",
              "      <td>70</td>\n",
              "      <td>8.3</td>\n",
              "    </tr>\n",
              "    <tr>\n",
              "      <th>Penelope</th>\n",
              "      <td>AL</td>\n",
              "      <td>white</td>\n",
              "      <td>Apple</td>\n",
              "      <td>4</td>\n",
              "      <td>80</td>\n",
              "      <td>3.3</td>\n",
              "    </tr>\n",
              "    <tr>\n",
              "      <th>Christina</th>\n",
              "      <td>TX</td>\n",
              "      <td>black</td>\n",
              "      <td>Melon</td>\n",
              "      <td>33</td>\n",
              "      <td>172</td>\n",
              "      <td>9.5</td>\n",
              "    </tr>\n",
              "  </tbody>\n",
              "</table>\n",
              "</div>"
            ],
            "text/plain": [
              "          state  color   food  age  height  score\n",
              "name                                             \n",
              "Niko         TX  green   Lamb    2      70    8.3\n",
              "Penelope     AL  white  Apple    4      80    3.3\n",
              "Christina    TX  black  Melon   33     172    9.5"
            ]
          },
          "metadata": {
            "tags": []
          },
          "execution_count": 15
        }
      ]
    },
    {
      "cell_type": "markdown",
      "metadata": {
        "id": "ODc9n-ZRzL4l"
      },
      "source": [
        "### Select a single row and a single column\n",
        "\n",
        "If the row and column selections are both a single label, then a scalar value and NOT a DataFrame or Series is returned."
      ]
    },
    {
      "cell_type": "code",
      "metadata": {
        "id": "pE830kuszL4m",
        "colab": {
          "base_uri": "https://localhost:8080/"
        },
        "outputId": "b7804159-f755-44a5-a257-70cd1c93fd86"
      },
      "source": [
        "rows = 'Jane'\n",
        "cols = 'state'\n",
        "df.loc[rows, cols]"
      ],
      "execution_count": null,
      "outputs": [
        {
          "output_type": "execute_result",
          "data": {
            "text/plain": [
              "'NY'"
            ]
          },
          "metadata": {
            "tags": []
          },
          "execution_count": 16
        }
      ]
    },
    {
      "cell_type": "markdown",
      "metadata": {
        "id": "e1wUXp_UzL4p"
      },
      "source": [
        "### Select a single row as a Series with `loc`\n",
        "\n",
        "The `loc` indexer returns a single row as a Series when given a single row label. Let's select the row for `Niko`. Notice that the column names have now become index labels."
      ]
    },
    {
      "cell_type": "code",
      "metadata": {
        "id": "54C8lrHxzL4q",
        "colab": {
          "base_uri": "https://localhost:8080/"
        },
        "outputId": "505f8a5a-fc68-4706-cd7f-184374360290"
      },
      "source": [
        "df.loc['Niko']"
      ],
      "execution_count": null,
      "outputs": [
        {
          "output_type": "execute_result",
          "data": {
            "text/plain": [
              "state        TX\n",
              "color     green\n",
              "food       Lamb\n",
              "age           2\n",
              "height       70\n",
              "score       8.3\n",
              "Name: Niko, dtype: object"
            ]
          },
          "metadata": {
            "tags": []
          },
          "execution_count": 17
        }
      ]
    },
    {
      "cell_type": "markdown",
      "metadata": {
        "id": "5Fmoy0ZezL4x"
      },
      "source": [
        "Again, the column selection isn't necessary, but does provide clarity"
      ]
    },
    {
      "cell_type": "code",
      "metadata": {
        "id": "7hw-G6vdzL5A",
        "colab": {
          "base_uri": "https://localhost:8080/"
        },
        "outputId": "6317a672-65da-4e57-cd67-09380b816380"
      },
      "source": [
        "df.loc['Niko', :]"
      ],
      "execution_count": null,
      "outputs": [
        {
          "output_type": "execute_result",
          "data": {
            "text/plain": [
              "state        TX\n",
              "color     green\n",
              "food       Lamb\n",
              "age           2\n",
              "height       70\n",
              "score       8.3\n",
              "Name: Niko, dtype: object"
            ]
          },
          "metadata": {
            "tags": []
          },
          "execution_count": 18
        }
      ]
    },
    {
      "cell_type": "markdown",
      "metadata": {
        "id": "8vkSe3SUzL5F"
      },
      "source": [
        "### Confusing output\n",
        "\n",
        "This output is potentially confusing. The original row that was labeled by `Niko` had horizontal data. Selecting a single row returns a Series that displays the row data vertically."
      ]
    },
    {
      "cell_type": "markdown",
      "metadata": {
        "id": "qITeIo8uzL5G"
      },
      "source": [
        "### Selecting a single row as a DataFrame\n",
        "\n",
        "It is possible to select a single row as a DataFrame instead of a Series. Create the row selection as a one-item list instead of just a string label. The returned result is a DataFrame and maintains the same horizontal position for the row."
      ]
    },
    {
      "cell_type": "code",
      "metadata": {
        "id": "IwSKBWhmzL5H",
        "colab": {
          "base_uri": "https://localhost:8080/"
        },
        "outputId": "5745baea-215b-4b4f-c42a-629efd87a126"
      },
      "source": [
        "rows = ['Niko']\n",
        "df.loc[rows, :]"
      ],
      "execution_count": null,
      "outputs": [
        {
          "output_type": "execute_result",
          "data": {
            "text/html": [
              "<div>\n",
              "<style scoped>\n",
              "    .dataframe tbody tr th:only-of-type {\n",
              "        vertical-align: middle;\n",
              "    }\n",
              "\n",
              "    .dataframe tbody tr th {\n",
              "        vertical-align: top;\n",
              "    }\n",
              "\n",
              "    .dataframe thead th {\n",
              "        text-align: right;\n",
              "    }\n",
              "</style>\n",
              "<table border=\"1\" class=\"dataframe\">\n",
              "  <thead>\n",
              "    <tr style=\"text-align: right;\">\n",
              "      <th></th>\n",
              "      <th>state</th>\n",
              "      <th>color</th>\n",
              "      <th>food</th>\n",
              "      <th>age</th>\n",
              "      <th>height</th>\n",
              "      <th>score</th>\n",
              "    </tr>\n",
              "    <tr>\n",
              "      <th>name</th>\n",
              "      <th></th>\n",
              "      <th></th>\n",
              "      <th></th>\n",
              "      <th></th>\n",
              "      <th></th>\n",
              "      <th></th>\n",
              "    </tr>\n",
              "  </thead>\n",
              "  <tbody>\n",
              "    <tr>\n",
              "      <th>Niko</th>\n",
              "      <td>TX</td>\n",
              "      <td>green</td>\n",
              "      <td>Lamb</td>\n",
              "      <td>2</td>\n",
              "      <td>70</td>\n",
              "      <td>8.3</td>\n",
              "    </tr>\n",
              "  </tbody>\n",
              "</table>\n",
              "</div>"
            ],
            "text/plain": [
              "     state  color  food  age  height  score\n",
              "name                                       \n",
              "Niko    TX  green  Lamb    2      70    8.3"
            ]
          },
          "metadata": {
            "tags": []
          },
          "execution_count": 19
        }
      ]
    },
    {
      "cell_type": "markdown",
      "metadata": {
        "id": "MFNPKjcpzL5M"
      },
      "source": [
        "## Summary of the `loc` indexer\n",
        "\n",
        "* Primarily uses labels\n",
        "* Selects rows and columns simultaneously with `df.loc[rows, cols]`\n",
        "* Selection can be a:\n",
        "    * single label\n",
        "    * list of labels\n",
        "    * slice of labels\n",
        "    * boolean Series\n",
        "* A comma separates row and column selections\n",
        "\n",
        "## Exercises\n",
        "\n",
        "Read in the movie dataset by executing the cell below and use it for the following exercises."
      ]
    },
    {
      "cell_type": "code",
      "metadata": {
        "id": "sSwoCE5xzL5N",
        "colab": {
          "base_uri": "https://localhost:8080/",
          "height": 316
        },
        "outputId": "cedfc21d-93bf-4c2b-972c-8bf128504e41"
      },
      "source": [
        "pd.set_option('display.max_columns', 50)\n",
        "movie = pd.read_csv('Pandas/movie.csv', index_col='title')\n",
        "movie.head(3)"
      ],
      "execution_count": null,
      "outputs": [
        {
          "output_type": "execute_result",
          "data": {
            "text/html": [
              "<div>\n",
              "<style scoped>\n",
              "    .dataframe tbody tr th:only-of-type {\n",
              "        vertical-align: middle;\n",
              "    }\n",
              "\n",
              "    .dataframe tbody tr th {\n",
              "        vertical-align: top;\n",
              "    }\n",
              "\n",
              "    .dataframe thead th {\n",
              "        text-align: right;\n",
              "    }\n",
              "</style>\n",
              "<table border=\"1\" class=\"dataframe\">\n",
              "  <thead>\n",
              "    <tr style=\"text-align: right;\">\n",
              "      <th></th>\n",
              "      <th>year</th>\n",
              "      <th>color</th>\n",
              "      <th>content_rating</th>\n",
              "      <th>duration</th>\n",
              "      <th>director_name</th>\n",
              "      <th>director_fb</th>\n",
              "      <th>actor1</th>\n",
              "      <th>actor1_fb</th>\n",
              "      <th>actor2</th>\n",
              "      <th>actor2_fb</th>\n",
              "      <th>actor3</th>\n",
              "      <th>actor3_fb</th>\n",
              "      <th>gross</th>\n",
              "      <th>genres</th>\n",
              "      <th>num_reviews</th>\n",
              "      <th>num_voted_users</th>\n",
              "      <th>plot_keywords</th>\n",
              "      <th>language</th>\n",
              "      <th>country</th>\n",
              "      <th>budget</th>\n",
              "      <th>imdb_score</th>\n",
              "    </tr>\n",
              "    <tr>\n",
              "      <th>title</th>\n",
              "      <th></th>\n",
              "      <th></th>\n",
              "      <th></th>\n",
              "      <th></th>\n",
              "      <th></th>\n",
              "      <th></th>\n",
              "      <th></th>\n",
              "      <th></th>\n",
              "      <th></th>\n",
              "      <th></th>\n",
              "      <th></th>\n",
              "      <th></th>\n",
              "      <th></th>\n",
              "      <th></th>\n",
              "      <th></th>\n",
              "      <th></th>\n",
              "      <th></th>\n",
              "      <th></th>\n",
              "      <th></th>\n",
              "      <th></th>\n",
              "      <th></th>\n",
              "    </tr>\n",
              "  </thead>\n",
              "  <tbody>\n",
              "    <tr>\n",
              "      <th>Avatar</th>\n",
              "      <td>2009.0</td>\n",
              "      <td>Color</td>\n",
              "      <td>PG-13</td>\n",
              "      <td>178.0</td>\n",
              "      <td>James Cameron</td>\n",
              "      <td>0.0</td>\n",
              "      <td>CCH Pounder</td>\n",
              "      <td>1000.0</td>\n",
              "      <td>Joel David Moore</td>\n",
              "      <td>936.0</td>\n",
              "      <td>Wes Studi</td>\n",
              "      <td>855.0</td>\n",
              "      <td>760505847.0</td>\n",
              "      <td>Action|Adventure|Fantasy|Sci-Fi</td>\n",
              "      <td>723.0</td>\n",
              "      <td>886204</td>\n",
              "      <td>avatar|future|marine|native|paraplegic</td>\n",
              "      <td>English</td>\n",
              "      <td>USA</td>\n",
              "      <td>237000000.0</td>\n",
              "      <td>7.9</td>\n",
              "    </tr>\n",
              "    <tr>\n",
              "      <th>Pirates of the Caribbean: At World's End</th>\n",
              "      <td>2007.0</td>\n",
              "      <td>Color</td>\n",
              "      <td>PG-13</td>\n",
              "      <td>169.0</td>\n",
              "      <td>Gore Verbinski</td>\n",
              "      <td>563.0</td>\n",
              "      <td>Johnny Depp</td>\n",
              "      <td>40000.0</td>\n",
              "      <td>Orlando Bloom</td>\n",
              "      <td>5000.0</td>\n",
              "      <td>Jack Davenport</td>\n",
              "      <td>1000.0</td>\n",
              "      <td>309404152.0</td>\n",
              "      <td>Action|Adventure|Fantasy</td>\n",
              "      <td>302.0</td>\n",
              "      <td>471220</td>\n",
              "      <td>goddess|marriage ceremony|marriage proposal|pi...</td>\n",
              "      <td>English</td>\n",
              "      <td>USA</td>\n",
              "      <td>300000000.0</td>\n",
              "      <td>7.1</td>\n",
              "    </tr>\n",
              "    <tr>\n",
              "      <th>Spectre</th>\n",
              "      <td>2015.0</td>\n",
              "      <td>Color</td>\n",
              "      <td>PG-13</td>\n",
              "      <td>148.0</td>\n",
              "      <td>Sam Mendes</td>\n",
              "      <td>0.0</td>\n",
              "      <td>Christoph Waltz</td>\n",
              "      <td>11000.0</td>\n",
              "      <td>Rory Kinnear</td>\n",
              "      <td>393.0</td>\n",
              "      <td>Stephanie Sigman</td>\n",
              "      <td>161.0</td>\n",
              "      <td>200074175.0</td>\n",
              "      <td>Action|Adventure|Thriller</td>\n",
              "      <td>602.0</td>\n",
              "      <td>275868</td>\n",
              "      <td>bomb|espionage|sequel|spy|terrorist</td>\n",
              "      <td>English</td>\n",
              "      <td>UK</td>\n",
              "      <td>245000000.0</td>\n",
              "      <td>6.8</td>\n",
              "    </tr>\n",
              "  </tbody>\n",
              "</table>\n",
              "</div>"
            ],
            "text/plain": [
              "                                            year  color content_rating  \\\n",
              "title                                                                    \n",
              "Avatar                                    2009.0  Color          PG-13   \n",
              "Pirates of the Caribbean: At World's End  2007.0  Color          PG-13   \n",
              "Spectre                                   2015.0  Color          PG-13   \n",
              "\n",
              "                                          duration   director_name  \\\n",
              "title                                                                \n",
              "Avatar                                       178.0   James Cameron   \n",
              "Pirates of the Caribbean: At World's End     169.0  Gore Verbinski   \n",
              "Spectre                                      148.0      Sam Mendes   \n",
              "\n",
              "                                          director_fb           actor1  \\\n",
              "title                                                                    \n",
              "Avatar                                            0.0      CCH Pounder   \n",
              "Pirates of the Caribbean: At World's End        563.0      Johnny Depp   \n",
              "Spectre                                           0.0  Christoph Waltz   \n",
              "\n",
              "                                          actor1_fb            actor2  \\\n",
              "title                                                                   \n",
              "Avatar                                       1000.0  Joel David Moore   \n",
              "Pirates of the Caribbean: At World's End    40000.0     Orlando Bloom   \n",
              "Spectre                                     11000.0      Rory Kinnear   \n",
              "\n",
              "                                          actor2_fb            actor3  \\\n",
              "title                                                                   \n",
              "Avatar                                        936.0         Wes Studi   \n",
              "Pirates of the Caribbean: At World's End     5000.0    Jack Davenport   \n",
              "Spectre                                       393.0  Stephanie Sigman   \n",
              "\n",
              "                                          actor3_fb        gross  \\\n",
              "title                                                              \n",
              "Avatar                                        855.0  760505847.0   \n",
              "Pirates of the Caribbean: At World's End     1000.0  309404152.0   \n",
              "Spectre                                       161.0  200074175.0   \n",
              "\n",
              "                                                                   genres  \\\n",
              "title                                                                       \n",
              "Avatar                                    Action|Adventure|Fantasy|Sci-Fi   \n",
              "Pirates of the Caribbean: At World's End         Action|Adventure|Fantasy   \n",
              "Spectre                                         Action|Adventure|Thriller   \n",
              "\n",
              "                                          num_reviews  num_voted_users  \\\n",
              "title                                                                    \n",
              "Avatar                                          723.0           886204   \n",
              "Pirates of the Caribbean: At World's End        302.0           471220   \n",
              "Spectre                                         602.0           275868   \n",
              "\n",
              "                                                                              plot_keywords  \\\n",
              "title                                                                                         \n",
              "Avatar                                               avatar|future|marine|native|paraplegic   \n",
              "Pirates of the Caribbean: At World's End  goddess|marriage ceremony|marriage proposal|pi...   \n",
              "Spectre                                                 bomb|espionage|sequel|spy|terrorist   \n",
              "\n",
              "                                         language country       budget  \\\n",
              "title                                                                    \n",
              "Avatar                                    English     USA  237000000.0   \n",
              "Pirates of the Caribbean: At World's End  English     USA  300000000.0   \n",
              "Spectre                                   English      UK  245000000.0   \n",
              "\n",
              "                                          imdb_score  \n",
              "title                                                 \n",
              "Avatar                                           7.9  \n",
              "Pirates of the Caribbean: At World's End         7.1  \n",
              "Spectre                                          6.8  "
            ]
          },
          "metadata": {
            "tags": []
          },
          "execution_count": 20
        }
      ]
    },
    {
      "cell_type": "markdown",
      "metadata": {
        "id": "hN7yvY0xzL5Q"
      },
      "source": [
        "### Exercise 1\n",
        "\n",
        "<span  style=\"color:green; font-size:16px\">Select columns `actor1`, `actor2`, and `actor3` for the movies Home Alone and Top Gun</span>"
      ]
    },
    {
      "cell_type": "code",
      "metadata": {
        "id": "mNNLQX3hzL5R"
      },
      "source": [
        ""
      ],
      "execution_count": null,
      "outputs": []
    },
    {
      "cell_type": "markdown",
      "metadata": {
        "id": "yvFo3bmqzL5T"
      },
      "source": [
        "### Exercise 2\n",
        "\n",
        "<span  style=\"color:green; font-size:16px\">Select columns `actor1`, `actor2`, and `actor3` for the all the movies beginning at Home Alone and ending at Top Gun</span>"
      ]
    },
    {
      "cell_type": "code",
      "metadata": {
        "id": "-ZkLJI-HzL5W"
      },
      "source": [
        ""
      ],
      "execution_count": null,
      "outputs": []
    },
    {
      "cell_type": "markdown",
      "metadata": {
        "id": "ghpYVTaNzL5X"
      },
      "source": [
        "### Exercise 3\n",
        "\n",
        "<span  style=\"color:green; font-size:16px\">Select just the `director_name` column for the movies Home Alone and Top Gun.</span>"
      ]
    },
    {
      "cell_type": "code",
      "metadata": {
        "id": "c05Exr2HzL5Z"
      },
      "source": [
        ""
      ],
      "execution_count": null,
      "outputs": []
    },
    {
      "cell_type": "markdown",
      "metadata": {
        "id": "O1xK3BHnzL5c"
      },
      "source": [
        "### Exercise 4\n",
        "\n",
        "<span  style=\"color:green; font-size:16px\">Repeat exercise 3, but return a DataFramea instead.</span>"
      ]
    },
    {
      "cell_type": "code",
      "metadata": {
        "id": "5IJyIxUpzL5e"
      },
      "source": [
        ""
      ],
      "execution_count": null,
      "outputs": []
    },
    {
      "cell_type": "markdown",
      "metadata": {
        "id": "M2fw_6oozL5h"
      },
      "source": [
        "### Exercise 5\n",
        "\n",
        "<span  style=\"color:green; font-size:16px\">Select all columns for the movie 'The Dark Knight Rises'.</span>"
      ]
    },
    {
      "cell_type": "code",
      "metadata": {
        "id": "CVkZ_5MuzL5j"
      },
      "source": [
        ""
      ],
      "execution_count": null,
      "outputs": []
    },
    {
      "cell_type": "markdown",
      "metadata": {
        "id": "qJQhKZbPzL5m"
      },
      "source": [
        "### Exercise 6\n",
        "\n",
        "<span  style=\"color:green; font-size:16px\">Repeat exercise 5 but return a DataFrame instead.</span>"
      ]
    },
    {
      "cell_type": "code",
      "metadata": {
        "id": "zyYUyUvBzL5n"
      },
      "source": [
        ""
      ],
      "execution_count": null,
      "outputs": []
    },
    {
      "cell_type": "markdown",
      "metadata": {
        "id": "lpmOp_5EzL5t"
      },
      "source": [
        "### Exercise 7\n",
        "\n",
        "<span  style=\"color:green; font-size:16px\">Select all columns for the movies 'Tangled' and 'Avatar'.</span>"
      ]
    },
    {
      "cell_type": "code",
      "metadata": {
        "id": "0vJMzdWPzL5v"
      },
      "source": [
        ""
      ],
      "execution_count": null,
      "outputs": []
    },
    {
      "cell_type": "markdown",
      "metadata": {
        "id": "k0sl8zN5zL5x"
      },
      "source": [
        "### Exercise 7\n",
        "\n",
        "<span  style=\"color:green; font-size:16px\">What year was 'Tangled' and 'Avatar' made and what was their IMBD scores?</span>"
      ]
    },
    {
      "cell_type": "code",
      "metadata": {
        "id": "a2AgQ5fIzL5x"
      },
      "source": [
        ""
      ],
      "execution_count": null,
      "outputs": []
    },
    {
      "cell_type": "markdown",
      "metadata": {
        "id": "UcXzjTQRzL50"
      },
      "source": [
        "### Exercise 8\n",
        "\n",
        "<span  style=\"color:green; font-size:16px\">Can you tell what the data type of the `year` column is by just looking at its values?</span>"
      ]
    },
    {
      "cell_type": "code",
      "metadata": {
        "id": "uYNAAeiwzL50"
      },
      "source": [
        "# Convert this cell to markdown and write answer here"
      ],
      "execution_count": null,
      "outputs": []
    },
    {
      "cell_type": "markdown",
      "metadata": {
        "id": "aHiVOIAlzL52"
      },
      "source": [
        "### Exercise 9\n",
        "\n",
        "<span  style=\"color:green; font-size:16px\">Use a single method to output the data type and number of non-missing values of `year`. Is it missing any?</span>"
      ]
    },
    {
      "cell_type": "code",
      "metadata": {
        "id": "qazxzjQIzL53"
      },
      "source": [
        ""
      ],
      "execution_count": null,
      "outputs": []
    },
    {
      "cell_type": "markdown",
      "metadata": {
        "id": "TPsAErjCzL55"
      },
      "source": [
        "### Exercise 10\n",
        "\n",
        "<span  style=\"color:green; font-size:16px\">Select every 300th movie between 'Tangled' and 'Forrest Gump'. Why doesn't 'Forrest Gump' appear in the results?</span>"
      ]
    },
    {
      "cell_type": "code",
      "metadata": {
        "id": "vNXbFvCtzL56"
      },
      "source": [
        ""
      ],
      "execution_count": null,
      "outputs": []
    }
  ]
}