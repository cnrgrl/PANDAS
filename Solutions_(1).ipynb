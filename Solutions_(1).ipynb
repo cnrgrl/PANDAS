{
  "nbformat": 4,
  "nbformat_minor": 0,
  "metadata": {
    "anaconda-cloud": {},
    "kernelspec": {
      "display_name": "Python 3",
      "language": "python",
      "name": "python3"
    },
    "language_info": {
      "codemirror_mode": {
        "name": "ipython",
        "version": 3
      },
      "file_extension": ".py",
      "mimetype": "text/x-python",
      "name": "python",
      "nbconvert_exporter": "python",
      "pygments_lexer": "ipython3",
      "version": "3.7.3"
    },
    "varInspector": {
      "cols": {
        "lenName": 16,
        "lenType": 16,
        "lenVar": 40
      },
      "kernels_config": {
        "python": {
          "delete_cmd_postfix": "",
          "delete_cmd_prefix": "del ",
          "library": "var_list.py",
          "varRefreshCmd": "print(var_dic_list())"
        },
        "r": {
          "delete_cmd_postfix": ") ",
          "delete_cmd_prefix": "rm(",
          "library": "var_list.r",
          "varRefreshCmd": "cat(var_dic_list()) "
        }
      },
      "types_to_exclude": [
        "module",
        "function",
        "builtin_function_or_method",
        "instance",
        "_Feature"
      ],
      "window_display": false
    },
    "colab": {
      "name": "Solutions (1).ipynb",
      "provenance": [],
      "include_colab_link": true
    }
  },
  "cells": [
    {
      "cell_type": "markdown",
      "metadata": {
        "id": "view-in-github",
        "colab_type": "text"
      },
      "source": [
        "<a href=\"https://colab.research.google.com/github/cnrgrl/PANDAS/blob/main/Solutions_(1).ipynb\" target=\"_parent\"><img src=\"https://colab.research.google.com/assets/colab-badge.svg\" alt=\"Open In Colab\"/></a>"
      ]
    },
    {
      "cell_type": "code",
      "metadata": {
        "id": "h1sEMfJP5zDm",
        "colab": {
          "base_uri": "https://localhost:8080/",
          "height": 121
        },
        "outputId": "034e3df7-694a-47e9-8a40-2221b6a93cca"
      },
      "source": [
        "# uncomment the following line, if you are using google collab\n",
        "!rm -r Pandas\n",
        "!git clone https://github.com/Wuebbelt/Pandas.git"
      ],
      "execution_count": null,
      "outputs": [
        {
          "output_type": "stream",
          "text": [
            "Cloning into 'Pandas'...\n",
            "remote: Enumerating objects: 86, done.\u001b[K\n",
            "remote: Counting objects: 100% (86/86), done.\u001b[K\n",
            "remote: Compressing objects: 100% (74/74), done.\u001b[K\n",
            "remote: Total 86 (delta 15), reused 82 (delta 11), pack-reused 0\u001b[K\n",
            "Unpacking objects: 100% (86/86), done.\n"
          ],
          "name": "stdout"
        }
      ]
    },
    {
      "cell_type": "markdown",
      "metadata": {
        "id": "OZn4GxI75wBO"
      },
      "source": [
        "# Solutions"
      ]
    },
    {
      "cell_type": "markdown",
      "metadata": {
        "tags": [
          "ignore"
        ],
        "id": "Hu3f6H505wBR"
      },
      "source": [
        "1. [Selecting Subsets of Data from DataFrames with just the brackets](#1.-Selecting-Subsets-of-Data-from-DataFrames-with-just-the-brackets)\n",
        "1. [Selecting Subsets of Data from DataFrames with `loc`](#2.-Selecting-Subsets-of-Data-from-DataFrames-with-loc)\n",
        "1. [Selecting Subsets of Data from DataFrames with `iloc`](#3.-Selecting-Subsets-of-Data-from-DataFrames-with-iloc)\n",
        "1. [Selecting Subsets of Data from a Series](#4.-Selecting-Subsets-of-Data-from-a-Series)\n",
        "1. [Boolean Selection Single Conditions](#5.-Boolean-Selection-Single-Conditions)\n",
        "1. [Boolean Selection Multiple Conditions](#6.-Boolean-Selection-Multiple-Conditions)\n",
        "1. [Boolean Selection More](#7.-Boolean-Selection-More)\n",
        "1. [Filtering with the query Method](#8.-Filtering-with-the-query-Method)\n",
        "1. [Miscellaneous Subset Selection](#9.-Miscellaneous-Subset-Selection)"
      ]
    },
    {
      "cell_type": "markdown",
      "metadata": {
        "id": "7nqRHHT-5wBS"
      },
      "source": [
        "## 1. Selecting Subsets of Data from DataFrames with just the brackets"
      ]
    },
    {
      "cell_type": "code",
      "metadata": {
        "id": "XyEJsw-f5wBT"
      },
      "source": [
        "import pandas as pd\n",
        "movie = pd.read_csv('Pandas/movie.csv', index_col='title')"
      ],
      "execution_count": null,
      "outputs": []
    },
    {
      "cell_type": "markdown",
      "metadata": {
        "id": "wJg7IOan5wBW"
      },
      "source": [
        "### Exercise 1\n",
        "<span  style=\"color:green; font-size:16px\">Select the column with the director's name as a Series</span>"
      ]
    },
    {
      "cell_type": "code",
      "metadata": {
        "id": "WX3qpjLT5wBX",
        "colab": {
          "base_uri": "https://localhost:8080/",
          "height": 103
        },
        "outputId": "ab64f5bc-8e98-47f7-d16f-d14af7b523bb"
      },
      "source": [
        "movie['director_name'].head(3)"
      ],
      "execution_count": null,
      "outputs": [
        {
          "output_type": "execute_result",
          "data": {
            "text/plain": [
              "title\n",
              "Avatar                                       James Cameron\n",
              "Pirates of the Caribbean: At World's End    Gore Verbinski\n",
              "Spectre                                         Sam Mendes\n",
              "Name: director_name, dtype: object"
            ]
          },
          "metadata": {
            "tags": []
          },
          "execution_count": 8
        }
      ]
    },
    {
      "cell_type": "markdown",
      "metadata": {
        "id": "L18GsgMd5wBa"
      },
      "source": [
        "### Exercise 2\n",
        "<span  style=\"color:green; font-size:16px\">Select the column with the director's name and number of Facebook likes.</span>"
      ]
    },
    {
      "cell_type": "code",
      "metadata": {
        "id": "0WFZYctA5wBb",
        "colab": {
          "base_uri": "https://localhost:8080/",
          "height": 174
        },
        "outputId": "ec1d48c5-d419-4004-f777-60ec5d57aa7b"
      },
      "source": [
        "movie[['director_name', 'director_fb']].head(3)"
      ],
      "execution_count": null,
      "outputs": [
        {
          "output_type": "execute_result",
          "data": {
            "text/html": [
              "<div>\n",
              "<style scoped>\n",
              "    .dataframe tbody tr th:only-of-type {\n",
              "        vertical-align: middle;\n",
              "    }\n",
              "\n",
              "    .dataframe tbody tr th {\n",
              "        vertical-align: top;\n",
              "    }\n",
              "\n",
              "    .dataframe thead th {\n",
              "        text-align: right;\n",
              "    }\n",
              "</style>\n",
              "<table border=\"1\" class=\"dataframe\">\n",
              "  <thead>\n",
              "    <tr style=\"text-align: right;\">\n",
              "      <th></th>\n",
              "      <th>director_name</th>\n",
              "      <th>director_fb</th>\n",
              "    </tr>\n",
              "    <tr>\n",
              "      <th>title</th>\n",
              "      <th></th>\n",
              "      <th></th>\n",
              "    </tr>\n",
              "  </thead>\n",
              "  <tbody>\n",
              "    <tr>\n",
              "      <th>Avatar</th>\n",
              "      <td>James Cameron</td>\n",
              "      <td>0.0</td>\n",
              "    </tr>\n",
              "    <tr>\n",
              "      <th>Pirates of the Caribbean: At World's End</th>\n",
              "      <td>Gore Verbinski</td>\n",
              "      <td>563.0</td>\n",
              "    </tr>\n",
              "    <tr>\n",
              "      <th>Spectre</th>\n",
              "      <td>Sam Mendes</td>\n",
              "      <td>0.0</td>\n",
              "    </tr>\n",
              "  </tbody>\n",
              "</table>\n",
              "</div>"
            ],
            "text/plain": [
              "                                           director_name  director_fb\n",
              "title                                                                \n",
              "Avatar                                     James Cameron          0.0\n",
              "Pirates of the Caribbean: At World's End  Gore Verbinski        563.0\n",
              "Spectre                                       Sam Mendes          0.0"
            ]
          },
          "metadata": {
            "tags": []
          },
          "execution_count": 9
        }
      ]
    },
    {
      "cell_type": "markdown",
      "metadata": {
        "id": "SET_0caP5wBf"
      },
      "source": [
        "### Exercise 3\n",
        "<span  style=\"color:green; font-size:16px\">Select a single column as a DataFrame and not a Series</span>"
      ]
    },
    {
      "cell_type": "code",
      "metadata": {
        "id": "MbfhrHP15wBg",
        "colab": {
          "base_uri": "https://localhost:8080/",
          "height": 174
        },
        "outputId": "4bc7254f-b2cc-4c7f-86cf-ee67bd8243cd"
      },
      "source": [
        "# make a one item list\n",
        "col = ['director_name']\n",
        "movie[col].head(3)"
      ],
      "execution_count": null,
      "outputs": [
        {
          "output_type": "execute_result",
          "data": {
            "text/html": [
              "<div>\n",
              "<style scoped>\n",
              "    .dataframe tbody tr th:only-of-type {\n",
              "        vertical-align: middle;\n",
              "    }\n",
              "\n",
              "    .dataframe tbody tr th {\n",
              "        vertical-align: top;\n",
              "    }\n",
              "\n",
              "    .dataframe thead th {\n",
              "        text-align: right;\n",
              "    }\n",
              "</style>\n",
              "<table border=\"1\" class=\"dataframe\">\n",
              "  <thead>\n",
              "    <tr style=\"text-align: right;\">\n",
              "      <th></th>\n",
              "      <th>director_name</th>\n",
              "    </tr>\n",
              "    <tr>\n",
              "      <th>title</th>\n",
              "      <th></th>\n",
              "    </tr>\n",
              "  </thead>\n",
              "  <tbody>\n",
              "    <tr>\n",
              "      <th>Avatar</th>\n",
              "      <td>James Cameron</td>\n",
              "    </tr>\n",
              "    <tr>\n",
              "      <th>Pirates of the Caribbean: At World's End</th>\n",
              "      <td>Gore Verbinski</td>\n",
              "    </tr>\n",
              "    <tr>\n",
              "      <th>Spectre</th>\n",
              "      <td>Sam Mendes</td>\n",
              "    </tr>\n",
              "  </tbody>\n",
              "</table>\n",
              "</div>"
            ],
            "text/plain": [
              "                                           director_name\n",
              "title                                                   \n",
              "Avatar                                     James Cameron\n",
              "Pirates of the Caribbean: At World's End  Gore Verbinski\n",
              "Spectre                                       Sam Mendes"
            ]
          },
          "metadata": {
            "tags": []
          },
          "execution_count": 10
        }
      ]
    },
    {
      "cell_type": "markdown",
      "metadata": {
        "id": "e1R_Sw3z5wBi"
      },
      "source": [
        "## 2. Selecting Subsets of Data from DataFrames with `loc`"
      ]
    },
    {
      "cell_type": "code",
      "metadata": {
        "id": "3TfhgnOX5wBk",
        "colab": {
          "base_uri": "https://localhost:8080/",
          "height": 316
        },
        "outputId": "66483cb4-4ef3-4b2c-f874-7d2cde767a26"
      },
      "source": [
        "movie = pd.read_csv('Pandas/movie.csv', index_col='title')\n",
        "movie.head(3)"
      ],
      "execution_count": null,
      "outputs": [
        {
          "output_type": "execute_result",
          "data": {
            "text/html": [
              "<div>\n",
              "<style scoped>\n",
              "    .dataframe tbody tr th:only-of-type {\n",
              "        vertical-align: middle;\n",
              "    }\n",
              "\n",
              "    .dataframe tbody tr th {\n",
              "        vertical-align: top;\n",
              "    }\n",
              "\n",
              "    .dataframe thead th {\n",
              "        text-align: right;\n",
              "    }\n",
              "</style>\n",
              "<table border=\"1\" class=\"dataframe\">\n",
              "  <thead>\n",
              "    <tr style=\"text-align: right;\">\n",
              "      <th></th>\n",
              "      <th>year</th>\n",
              "      <th>color</th>\n",
              "      <th>content_rating</th>\n",
              "      <th>duration</th>\n",
              "      <th>director_name</th>\n",
              "      <th>director_fb</th>\n",
              "      <th>actor1</th>\n",
              "      <th>actor1_fb</th>\n",
              "      <th>actor2</th>\n",
              "      <th>actor2_fb</th>\n",
              "      <th>actor3</th>\n",
              "      <th>actor3_fb</th>\n",
              "      <th>gross</th>\n",
              "      <th>genres</th>\n",
              "      <th>num_reviews</th>\n",
              "      <th>num_voted_users</th>\n",
              "      <th>plot_keywords</th>\n",
              "      <th>language</th>\n",
              "      <th>country</th>\n",
              "      <th>budget</th>\n",
              "      <th>imdb_score</th>\n",
              "    </tr>\n",
              "    <tr>\n",
              "      <th>title</th>\n",
              "      <th></th>\n",
              "      <th></th>\n",
              "      <th></th>\n",
              "      <th></th>\n",
              "      <th></th>\n",
              "      <th></th>\n",
              "      <th></th>\n",
              "      <th></th>\n",
              "      <th></th>\n",
              "      <th></th>\n",
              "      <th></th>\n",
              "      <th></th>\n",
              "      <th></th>\n",
              "      <th></th>\n",
              "      <th></th>\n",
              "      <th></th>\n",
              "      <th></th>\n",
              "      <th></th>\n",
              "      <th></th>\n",
              "      <th></th>\n",
              "      <th></th>\n",
              "    </tr>\n",
              "  </thead>\n",
              "  <tbody>\n",
              "    <tr>\n",
              "      <th>Avatar</th>\n",
              "      <td>2009.0</td>\n",
              "      <td>Color</td>\n",
              "      <td>PG-13</td>\n",
              "      <td>178.0</td>\n",
              "      <td>James Cameron</td>\n",
              "      <td>0.0</td>\n",
              "      <td>CCH Pounder</td>\n",
              "      <td>1000.0</td>\n",
              "      <td>Joel David Moore</td>\n",
              "      <td>936.0</td>\n",
              "      <td>Wes Studi</td>\n",
              "      <td>855.0</td>\n",
              "      <td>760505847.0</td>\n",
              "      <td>Action|Adventure|Fantasy|Sci-Fi</td>\n",
              "      <td>723.0</td>\n",
              "      <td>886204</td>\n",
              "      <td>avatar|future|marine|native|paraplegic</td>\n",
              "      <td>English</td>\n",
              "      <td>USA</td>\n",
              "      <td>237000000.0</td>\n",
              "      <td>7.9</td>\n",
              "    </tr>\n",
              "    <tr>\n",
              "      <th>Pirates of the Caribbean: At World's End</th>\n",
              "      <td>2007.0</td>\n",
              "      <td>Color</td>\n",
              "      <td>PG-13</td>\n",
              "      <td>169.0</td>\n",
              "      <td>Gore Verbinski</td>\n",
              "      <td>563.0</td>\n",
              "      <td>Johnny Depp</td>\n",
              "      <td>40000.0</td>\n",
              "      <td>Orlando Bloom</td>\n",
              "      <td>5000.0</td>\n",
              "      <td>Jack Davenport</td>\n",
              "      <td>1000.0</td>\n",
              "      <td>309404152.0</td>\n",
              "      <td>Action|Adventure|Fantasy</td>\n",
              "      <td>302.0</td>\n",
              "      <td>471220</td>\n",
              "      <td>goddess|marriage ceremony|marriage proposal|pi...</td>\n",
              "      <td>English</td>\n",
              "      <td>USA</td>\n",
              "      <td>300000000.0</td>\n",
              "      <td>7.1</td>\n",
              "    </tr>\n",
              "    <tr>\n",
              "      <th>Spectre</th>\n",
              "      <td>2015.0</td>\n",
              "      <td>Color</td>\n",
              "      <td>PG-13</td>\n",
              "      <td>148.0</td>\n",
              "      <td>Sam Mendes</td>\n",
              "      <td>0.0</td>\n",
              "      <td>Christoph Waltz</td>\n",
              "      <td>11000.0</td>\n",
              "      <td>Rory Kinnear</td>\n",
              "      <td>393.0</td>\n",
              "      <td>Stephanie Sigman</td>\n",
              "      <td>161.0</td>\n",
              "      <td>200074175.0</td>\n",
              "      <td>Action|Adventure|Thriller</td>\n",
              "      <td>602.0</td>\n",
              "      <td>275868</td>\n",
              "      <td>bomb|espionage|sequel|spy|terrorist</td>\n",
              "      <td>English</td>\n",
              "      <td>UK</td>\n",
              "      <td>245000000.0</td>\n",
              "      <td>6.8</td>\n",
              "    </tr>\n",
              "  </tbody>\n",
              "</table>\n",
              "</div>"
            ],
            "text/plain": [
              "                                            year  ... imdb_score\n",
              "title                                             ...           \n",
              "Avatar                                    2009.0  ...        7.9\n",
              "Pirates of the Caribbean: At World's End  2007.0  ...        7.1\n",
              "Spectre                                   2015.0  ...        6.8\n",
              "\n",
              "[3 rows x 21 columns]"
            ]
          },
          "metadata": {
            "tags": []
          },
          "execution_count": 11
        }
      ]
    },
    {
      "cell_type": "markdown",
      "metadata": {
        "id": "rlaYFYWh5wBm"
      },
      "source": [
        "### Exercise 1\n",
        "\n",
        "<span  style=\"color:green; font-size:16px\">Select columns `actor1`, `actor2`, and `actor3` for the movies Home Alone and Top Gun</span>"
      ]
    },
    {
      "cell_type": "code",
      "metadata": {
        "id": "J0fUON-H5wBn",
        "colab": {
          "base_uri": "https://localhost:8080/",
          "height": 143
        },
        "outputId": "ed6409fc-ff80-4e25-b449-7ae5545dc923"
      },
      "source": [
        "rows = ['Home Alone', 'Top Gun']\n",
        "cols = ['actor1', 'actor2', 'actor3']\n",
        "movie.loc[rows, cols]"
      ],
      "execution_count": null,
      "outputs": [
        {
          "output_type": "execute_result",
          "data": {
            "text/html": [
              "<div>\n",
              "<style scoped>\n",
              "    .dataframe tbody tr th:only-of-type {\n",
              "        vertical-align: middle;\n",
              "    }\n",
              "\n",
              "    .dataframe tbody tr th {\n",
              "        vertical-align: top;\n",
              "    }\n",
              "\n",
              "    .dataframe thead th {\n",
              "        text-align: right;\n",
              "    }\n",
              "</style>\n",
              "<table border=\"1\" class=\"dataframe\">\n",
              "  <thead>\n",
              "    <tr style=\"text-align: right;\">\n",
              "      <th></th>\n",
              "      <th>actor1</th>\n",
              "      <th>actor2</th>\n",
              "      <th>actor3</th>\n",
              "    </tr>\n",
              "    <tr>\n",
              "      <th>title</th>\n",
              "      <th></th>\n",
              "      <th></th>\n",
              "      <th></th>\n",
              "    </tr>\n",
              "  </thead>\n",
              "  <tbody>\n",
              "    <tr>\n",
              "      <th>Home Alone</th>\n",
              "      <td>Macaulay Culkin</td>\n",
              "      <td>Devin Ratray</td>\n",
              "      <td>Catherine O'Hara</td>\n",
              "    </tr>\n",
              "    <tr>\n",
              "      <th>Top Gun</th>\n",
              "      <td>Tom Cruise</td>\n",
              "      <td>Tom Skerritt</td>\n",
              "      <td>Adrian Pasdar</td>\n",
              "    </tr>\n",
              "  </tbody>\n",
              "</table>\n",
              "</div>"
            ],
            "text/plain": [
              "                     actor1        actor2            actor3\n",
              "title                                                      \n",
              "Home Alone  Macaulay Culkin  Devin Ratray  Catherine O'Hara\n",
              "Top Gun          Tom Cruise  Tom Skerritt     Adrian Pasdar"
            ]
          },
          "metadata": {
            "tags": []
          },
          "execution_count": 12
        }
      ]
    },
    {
      "cell_type": "markdown",
      "metadata": {
        "id": "i59yqnq15wBp"
      },
      "source": [
        "### Exercise 2\n",
        "\n",
        "<span  style=\"color:green; font-size:16px\">Select columns `actor1`, `actor2`, and `actor3` for the all the movies beginning at Home Alone and ending at Top Gun</span>"
      ]
    },
    {
      "cell_type": "code",
      "metadata": {
        "id": "AZ_Y6WCw5wBq",
        "colab": {
          "base_uri": "https://localhost:8080/",
          "height": 206
        },
        "outputId": "41c3d142-9fdc-4aa4-8b4e-1f313a2c6c0c"
      },
      "source": [
        "cols = ['actor1', 'actor2', 'actor3']\n",
        "movie.loc['Home Alone':'Top Gun', cols]"
      ],
      "execution_count": null,
      "outputs": [
        {
          "output_type": "execute_result",
          "data": {
            "text/html": [
              "<div>\n",
              "<style scoped>\n",
              "    .dataframe tbody tr th:only-of-type {\n",
              "        vertical-align: middle;\n",
              "    }\n",
              "\n",
              "    .dataframe tbody tr th {\n",
              "        vertical-align: top;\n",
              "    }\n",
              "\n",
              "    .dataframe thead th {\n",
              "        text-align: right;\n",
              "    }\n",
              "</style>\n",
              "<table border=\"1\" class=\"dataframe\">\n",
              "  <thead>\n",
              "    <tr style=\"text-align: right;\">\n",
              "      <th></th>\n",
              "      <th>actor1</th>\n",
              "      <th>actor2</th>\n",
              "      <th>actor3</th>\n",
              "    </tr>\n",
              "    <tr>\n",
              "      <th>title</th>\n",
              "      <th></th>\n",
              "      <th></th>\n",
              "      <th></th>\n",
              "    </tr>\n",
              "  </thead>\n",
              "  <tbody>\n",
              "    <tr>\n",
              "      <th>Home Alone</th>\n",
              "      <td>Macaulay Culkin</td>\n",
              "      <td>Devin Ratray</td>\n",
              "      <td>Catherine O'Hara</td>\n",
              "    </tr>\n",
              "    <tr>\n",
              "      <th>3 Men and a Baby</th>\n",
              "      <td>Tom Selleck</td>\n",
              "      <td>Ted Danson</td>\n",
              "      <td>Steve Guttenberg</td>\n",
              "    </tr>\n",
              "    <tr>\n",
              "      <th>Tootsie</th>\n",
              "      <td>Bill Murray</td>\n",
              "      <td>Sydney Pollack</td>\n",
              "      <td>Teri Garr</td>\n",
              "    </tr>\n",
              "    <tr>\n",
              "      <th>Top Gun</th>\n",
              "      <td>Tom Cruise</td>\n",
              "      <td>Tom Skerritt</td>\n",
              "      <td>Adrian Pasdar</td>\n",
              "    </tr>\n",
              "  </tbody>\n",
              "</table>\n",
              "</div>"
            ],
            "text/plain": [
              "                           actor1          actor2            actor3\n",
              "title                                                              \n",
              "Home Alone        Macaulay Culkin    Devin Ratray  Catherine O'Hara\n",
              "3 Men and a Baby      Tom Selleck      Ted Danson  Steve Guttenberg\n",
              "Tootsie               Bill Murray  Sydney Pollack         Teri Garr\n",
              "Top Gun                Tom Cruise    Tom Skerritt     Adrian Pasdar"
            ]
          },
          "metadata": {
            "tags": []
          },
          "execution_count": 13
        }
      ]
    },
    {
      "cell_type": "markdown",
      "metadata": {
        "id": "eyASsiGK5wBs"
      },
      "source": [
        "### Exercise 3\n",
        "\n",
        "<span  style=\"color:green; font-size:16px\">Select just the `director_name` column for the movies Home Alone and Top Gun.</span>"
      ]
    },
    {
      "cell_type": "code",
      "metadata": {
        "id": "_FMbOlun5wBt",
        "colab": {
          "base_uri": "https://localhost:8080/"
        },
        "outputId": "2f4fa93f-8b6a-4c2c-a1f5-8dfb2d7ae698"
      },
      "source": [
        "rows = ['Home Alone', 'Top Gun']\n",
        "movie.loc[rows, 'director_name']"
      ],
      "execution_count": null,
      "outputs": [
        {
          "output_type": "execute_result",
          "data": {
            "text/plain": [
              "title\n",
              "Home Alone    Chris Columbus\n",
              "Top Gun           Tony Scott\n",
              "Name: director_name, dtype: object"
            ]
          },
          "metadata": {
            "tags": []
          },
          "execution_count": 14
        }
      ]
    },
    {
      "cell_type": "markdown",
      "metadata": {
        "id": "tL8QsmwG5wBv"
      },
      "source": [
        "### Exercise 4\n",
        "\n",
        "<span  style=\"color:green; font-size:16px\">Repeat exercise 3, but return a DataFramea instead.</span>"
      ]
    },
    {
      "cell_type": "code",
      "metadata": {
        "id": "-VQ12Ult5wBv",
        "colab": {
          "base_uri": "https://localhost:8080/"
        },
        "outputId": "e5e6b4a7-1a8c-4c1b-a934-e0017575ff09"
      },
      "source": [
        "rows = ['Home Alone', 'Top Gun']\n",
        "cols = ['director_name']\n",
        "movie.loc[rows, cols]"
      ],
      "execution_count": null,
      "outputs": [
        {
          "output_type": "execute_result",
          "data": {
            "text/html": [
              "<div>\n",
              "<style scoped>\n",
              "    .dataframe tbody tr th:only-of-type {\n",
              "        vertical-align: middle;\n",
              "    }\n",
              "\n",
              "    .dataframe tbody tr th {\n",
              "        vertical-align: top;\n",
              "    }\n",
              "\n",
              "    .dataframe thead th {\n",
              "        text-align: right;\n",
              "    }\n",
              "</style>\n",
              "<table border=\"1\" class=\"dataframe\">\n",
              "  <thead>\n",
              "    <tr style=\"text-align: right;\">\n",
              "      <th></th>\n",
              "      <th>director_name</th>\n",
              "    </tr>\n",
              "    <tr>\n",
              "      <th>title</th>\n",
              "      <th></th>\n",
              "    </tr>\n",
              "  </thead>\n",
              "  <tbody>\n",
              "    <tr>\n",
              "      <th>Home Alone</th>\n",
              "      <td>Chris Columbus</td>\n",
              "    </tr>\n",
              "    <tr>\n",
              "      <th>Top Gun</th>\n",
              "      <td>Tony Scott</td>\n",
              "    </tr>\n",
              "  </tbody>\n",
              "</table>\n",
              "</div>"
            ],
            "text/plain": [
              "             director_name\n",
              "title                     \n",
              "Home Alone  Chris Columbus\n",
              "Top Gun         Tony Scott"
            ]
          },
          "metadata": {
            "tags": []
          },
          "execution_count": 15
        }
      ]
    },
    {
      "cell_type": "markdown",
      "metadata": {
        "id": "FWLTKHWO5wBx"
      },
      "source": [
        "### Exercise 5\n",
        "\n",
        "<span  style=\"color:green; font-size:16px\">Select all columns for the movie 'The Dark Knight Rises'.</span>"
      ]
    },
    {
      "cell_type": "code",
      "metadata": {
        "id": "TwtCvJq15wBz",
        "colab": {
          "base_uri": "https://localhost:8080/"
        },
        "outputId": "a40b2fcc-a822-41fd-e712-454b953c105c"
      },
      "source": [
        "movie.loc['The Dark Knight Rises', :] "
      ],
      "execution_count": null,
      "outputs": [
        {
          "output_type": "execute_result",
          "data": {
            "text/plain": [
              "year                                                            2012\n",
              "color                                                          Color\n",
              "content_rating                                                 PG-13\n",
              "duration                                                         164\n",
              "director_name                                      Christopher Nolan\n",
              "director_fb                                                    22000\n",
              "actor1                                                     Tom Hardy\n",
              "actor1_fb                                                      27000\n",
              "actor2                                                Christian Bale\n",
              "actor2_fb                                                      23000\n",
              "actor3                                          Joseph Gordon-Levitt\n",
              "actor3_fb                                                      23000\n",
              "gross                                                    4.48131e+08\n",
              "genres                                               Action|Thriller\n",
              "num_reviews                                                      813\n",
              "num_voted_users                                              1144337\n",
              "plot_keywords      deception|imprisonment|lawlessness|police offi...\n",
              "language                                                     English\n",
              "country                                                          USA\n",
              "budget                                                       2.5e+08\n",
              "imdb_score                                                       8.5\n",
              "Name: The Dark Knight Rises, dtype: object"
            ]
          },
          "metadata": {
            "tags": []
          },
          "execution_count": 16
        }
      ]
    },
    {
      "cell_type": "markdown",
      "metadata": {
        "id": "wX1fnh4c5wB1"
      },
      "source": [
        "Alternatively, don't include the empty slice."
      ]
    },
    {
      "cell_type": "code",
      "metadata": {
        "id": "8x6ENaoA5wB2"
      },
      "source": [
        "# movie.loc['The Dark Knight Rises']"
      ],
      "execution_count": null,
      "outputs": []
    },
    {
      "cell_type": "markdown",
      "metadata": {
        "id": "87K03ke05wB3"
      },
      "source": [
        "### Exercise 6\n",
        "\n",
        "<span  style=\"color:green; font-size:16px\">Repeat exercise 5 but return a DataFrame instead.</span>"
      ]
    },
    {
      "cell_type": "code",
      "metadata": {
        "id": "5kHHIovP5wB4",
        "colab": {
          "base_uri": "https://localhost:8080/"
        },
        "outputId": "f5230f08-d465-4c3d-b8f2-1c59d87e9d78"
      },
      "source": [
        "movie.loc[['The Dark Knight Rises'], :] "
      ],
      "execution_count": null,
      "outputs": [
        {
          "output_type": "execute_result",
          "data": {
            "text/html": [
              "<div>\n",
              "<style scoped>\n",
              "    .dataframe tbody tr th:only-of-type {\n",
              "        vertical-align: middle;\n",
              "    }\n",
              "\n",
              "    .dataframe tbody tr th {\n",
              "        vertical-align: top;\n",
              "    }\n",
              "\n",
              "    .dataframe thead th {\n",
              "        text-align: right;\n",
              "    }\n",
              "</style>\n",
              "<table border=\"1\" class=\"dataframe\">\n",
              "  <thead>\n",
              "    <tr style=\"text-align: right;\">\n",
              "      <th></th>\n",
              "      <th>year</th>\n",
              "      <th>color</th>\n",
              "      <th>content_rating</th>\n",
              "      <th>duration</th>\n",
              "      <th>director_name</th>\n",
              "      <th>director_fb</th>\n",
              "      <th>actor1</th>\n",
              "      <th>actor1_fb</th>\n",
              "      <th>actor2</th>\n",
              "      <th>actor2_fb</th>\n",
              "      <th>actor3</th>\n",
              "      <th>actor3_fb</th>\n",
              "      <th>gross</th>\n",
              "      <th>genres</th>\n",
              "      <th>num_reviews</th>\n",
              "      <th>num_voted_users</th>\n",
              "      <th>plot_keywords</th>\n",
              "      <th>language</th>\n",
              "      <th>country</th>\n",
              "      <th>budget</th>\n",
              "      <th>imdb_score</th>\n",
              "    </tr>\n",
              "    <tr>\n",
              "      <th>title</th>\n",
              "      <th></th>\n",
              "      <th></th>\n",
              "      <th></th>\n",
              "      <th></th>\n",
              "      <th></th>\n",
              "      <th></th>\n",
              "      <th></th>\n",
              "      <th></th>\n",
              "      <th></th>\n",
              "      <th></th>\n",
              "      <th></th>\n",
              "      <th></th>\n",
              "      <th></th>\n",
              "      <th></th>\n",
              "      <th></th>\n",
              "      <th></th>\n",
              "      <th></th>\n",
              "      <th></th>\n",
              "      <th></th>\n",
              "      <th></th>\n",
              "      <th></th>\n",
              "    </tr>\n",
              "  </thead>\n",
              "  <tbody>\n",
              "    <tr>\n",
              "      <th>The Dark Knight Rises</th>\n",
              "      <td>2012.0</td>\n",
              "      <td>Color</td>\n",
              "      <td>PG-13</td>\n",
              "      <td>164.0</td>\n",
              "      <td>Christopher Nolan</td>\n",
              "      <td>22000.0</td>\n",
              "      <td>Tom Hardy</td>\n",
              "      <td>27000.0</td>\n",
              "      <td>Christian Bale</td>\n",
              "      <td>23000.0</td>\n",
              "      <td>Joseph Gordon-Levitt</td>\n",
              "      <td>23000.0</td>\n",
              "      <td>448130642.0</td>\n",
              "      <td>Action|Thriller</td>\n",
              "      <td>813.0</td>\n",
              "      <td>1144337</td>\n",
              "      <td>deception|imprisonment|lawlessness|police offi...</td>\n",
              "      <td>English</td>\n",
              "      <td>USA</td>\n",
              "      <td>250000000.0</td>\n",
              "      <td>8.5</td>\n",
              "    </tr>\n",
              "  </tbody>\n",
              "</table>\n",
              "</div>"
            ],
            "text/plain": [
              "                         year  color  ...       budget  imdb_score\n",
              "title                                 ...                         \n",
              "The Dark Knight Rises  2012.0  Color  ...  250000000.0         8.5\n",
              "\n",
              "[1 rows x 21 columns]"
            ]
          },
          "metadata": {
            "tags": []
          },
          "execution_count": 18
        }
      ]
    },
    {
      "cell_type": "markdown",
      "metadata": {
        "id": "M3ajuJaN5wB7"
      },
      "source": [
        "### Exercise 7\n",
        "\n",
        "<span  style=\"color:green; font-size:16px\">Select all columns for the movies 'Tangled' and 'Avatar'.</span>"
      ]
    },
    {
      "cell_type": "code",
      "metadata": {
        "id": "fZxPV6Bg5wB8",
        "colab": {
          "base_uri": "https://localhost:8080/"
        },
        "outputId": "a9cebd75-6b28-43a5-bef6-fbeb1bfec26f"
      },
      "source": [
        "rows = ['Tangled', 'Avatar']\n",
        "movie.loc[rows, :]"
      ],
      "execution_count": null,
      "outputs": [
        {
          "output_type": "execute_result",
          "data": {
            "text/html": [
              "<div>\n",
              "<style scoped>\n",
              "    .dataframe tbody tr th:only-of-type {\n",
              "        vertical-align: middle;\n",
              "    }\n",
              "\n",
              "    .dataframe tbody tr th {\n",
              "        vertical-align: top;\n",
              "    }\n",
              "\n",
              "    .dataframe thead th {\n",
              "        text-align: right;\n",
              "    }\n",
              "</style>\n",
              "<table border=\"1\" class=\"dataframe\">\n",
              "  <thead>\n",
              "    <tr style=\"text-align: right;\">\n",
              "      <th></th>\n",
              "      <th>year</th>\n",
              "      <th>color</th>\n",
              "      <th>content_rating</th>\n",
              "      <th>duration</th>\n",
              "      <th>director_name</th>\n",
              "      <th>director_fb</th>\n",
              "      <th>actor1</th>\n",
              "      <th>actor1_fb</th>\n",
              "      <th>actor2</th>\n",
              "      <th>actor2_fb</th>\n",
              "      <th>actor3</th>\n",
              "      <th>actor3_fb</th>\n",
              "      <th>gross</th>\n",
              "      <th>genres</th>\n",
              "      <th>num_reviews</th>\n",
              "      <th>num_voted_users</th>\n",
              "      <th>plot_keywords</th>\n",
              "      <th>language</th>\n",
              "      <th>country</th>\n",
              "      <th>budget</th>\n",
              "      <th>imdb_score</th>\n",
              "    </tr>\n",
              "    <tr>\n",
              "      <th>title</th>\n",
              "      <th></th>\n",
              "      <th></th>\n",
              "      <th></th>\n",
              "      <th></th>\n",
              "      <th></th>\n",
              "      <th></th>\n",
              "      <th></th>\n",
              "      <th></th>\n",
              "      <th></th>\n",
              "      <th></th>\n",
              "      <th></th>\n",
              "      <th></th>\n",
              "      <th></th>\n",
              "      <th></th>\n",
              "      <th></th>\n",
              "      <th></th>\n",
              "      <th></th>\n",
              "      <th></th>\n",
              "      <th></th>\n",
              "      <th></th>\n",
              "      <th></th>\n",
              "    </tr>\n",
              "  </thead>\n",
              "  <tbody>\n",
              "    <tr>\n",
              "      <th>Tangled</th>\n",
              "      <td>2010.0</td>\n",
              "      <td>Color</td>\n",
              "      <td>PG</td>\n",
              "      <td>100.0</td>\n",
              "      <td>Nathan Greno</td>\n",
              "      <td>15.0</td>\n",
              "      <td>Brad Garrett</td>\n",
              "      <td>799.0</td>\n",
              "      <td>Donna Murphy</td>\n",
              "      <td>553.0</td>\n",
              "      <td>M.C. Gainey</td>\n",
              "      <td>284.0</td>\n",
              "      <td>200807262.0</td>\n",
              "      <td>Adventure|Animation|Comedy|Family|Fantasy|Musi...</td>\n",
              "      <td>324.0</td>\n",
              "      <td>294810</td>\n",
              "      <td>17th century|based on fairy tale|disney|flower...</td>\n",
              "      <td>English</td>\n",
              "      <td>USA</td>\n",
              "      <td>260000000.0</td>\n",
              "      <td>7.8</td>\n",
              "    </tr>\n",
              "    <tr>\n",
              "      <th>Avatar</th>\n",
              "      <td>2009.0</td>\n",
              "      <td>Color</td>\n",
              "      <td>PG-13</td>\n",
              "      <td>178.0</td>\n",
              "      <td>James Cameron</td>\n",
              "      <td>0.0</td>\n",
              "      <td>CCH Pounder</td>\n",
              "      <td>1000.0</td>\n",
              "      <td>Joel David Moore</td>\n",
              "      <td>936.0</td>\n",
              "      <td>Wes Studi</td>\n",
              "      <td>855.0</td>\n",
              "      <td>760505847.0</td>\n",
              "      <td>Action|Adventure|Fantasy|Sci-Fi</td>\n",
              "      <td>723.0</td>\n",
              "      <td>886204</td>\n",
              "      <td>avatar|future|marine|native|paraplegic</td>\n",
              "      <td>English</td>\n",
              "      <td>USA</td>\n",
              "      <td>237000000.0</td>\n",
              "      <td>7.9</td>\n",
              "    </tr>\n",
              "  </tbody>\n",
              "</table>\n",
              "</div>"
            ],
            "text/plain": [
              "           year  color content_rating  ...  country       budget  imdb_score\n",
              "title                                  ...                                  \n",
              "Tangled  2010.0  Color             PG  ...      USA  260000000.0         7.8\n",
              "Avatar   2009.0  Color          PG-13  ...      USA  237000000.0         7.9\n",
              "\n",
              "[2 rows x 21 columns]"
            ]
          },
          "metadata": {
            "tags": []
          },
          "execution_count": 19
        }
      ]
    },
    {
      "cell_type": "markdown",
      "metadata": {
        "id": "VWPLpayQ5wB-"
      },
      "source": [
        "Alternatively, omit the empty slice."
      ]
    },
    {
      "cell_type": "code",
      "metadata": {
        "id": "hPApx-3P5wB_"
      },
      "source": [
        "# movie.loc[rows]"
      ],
      "execution_count": null,
      "outputs": []
    },
    {
      "cell_type": "markdown",
      "metadata": {
        "id": "UGMBOH2Z5wCB"
      },
      "source": [
        "### Exercise 7\n",
        "\n",
        "<span  style=\"color:green; font-size:16px\">What year was 'Tangled' and 'Avatar' made and what was their IMBD scores?</span>"
      ]
    },
    {
      "cell_type": "code",
      "metadata": {
        "id": "xCVnf-D85wCB",
        "colab": {
          "base_uri": "https://localhost:8080/"
        },
        "outputId": "658fa4a7-9f91-44b6-c9cf-3fb12ef19202"
      },
      "source": [
        "movie.loc[['Tangled', 'Avatar'], ['year', 'imdb_score']]"
      ],
      "execution_count": null,
      "outputs": [
        {
          "output_type": "execute_result",
          "data": {
            "text/html": [
              "<div>\n",
              "<style scoped>\n",
              "    .dataframe tbody tr th:only-of-type {\n",
              "        vertical-align: middle;\n",
              "    }\n",
              "\n",
              "    .dataframe tbody tr th {\n",
              "        vertical-align: top;\n",
              "    }\n",
              "\n",
              "    .dataframe thead th {\n",
              "        text-align: right;\n",
              "    }\n",
              "</style>\n",
              "<table border=\"1\" class=\"dataframe\">\n",
              "  <thead>\n",
              "    <tr style=\"text-align: right;\">\n",
              "      <th></th>\n",
              "      <th>year</th>\n",
              "      <th>imdb_score</th>\n",
              "    </tr>\n",
              "    <tr>\n",
              "      <th>title</th>\n",
              "      <th></th>\n",
              "      <th></th>\n",
              "    </tr>\n",
              "  </thead>\n",
              "  <tbody>\n",
              "    <tr>\n",
              "      <th>Tangled</th>\n",
              "      <td>2010.0</td>\n",
              "      <td>7.8</td>\n",
              "    </tr>\n",
              "    <tr>\n",
              "      <th>Avatar</th>\n",
              "      <td>2009.0</td>\n",
              "      <td>7.9</td>\n",
              "    </tr>\n",
              "  </tbody>\n",
              "</table>\n",
              "</div>"
            ],
            "text/plain": [
              "           year  imdb_score\n",
              "title                      \n",
              "Tangled  2010.0         7.8\n",
              "Avatar   2009.0         7.9"
            ]
          },
          "metadata": {
            "tags": []
          },
          "execution_count": 21
        }
      ]
    },
    {
      "cell_type": "markdown",
      "metadata": {
        "id": "89-gQqpB5wCF"
      },
      "source": [
        "### Exercise 8\n",
        "\n",
        "<span  style=\"color:green; font-size:16px\">Can you tell what the data type of the `year` column is by just looking at its values?</span>"
      ]
    },
    {
      "cell_type": "markdown",
      "metadata": {
        "id": "vSWJ9tQn5wCG"
      },
      "source": [
        "Yes, because it has a decimal value it must be a float. Integers do not have decimals"
      ]
    },
    {
      "cell_type": "markdown",
      "metadata": {
        "id": "994xXWPa5wCI"
      },
      "source": [
        "### Exercise 9\n",
        "\n",
        "<span  style=\"color:green; font-size:16px\">Use a single method to output the data type and number of non-missing values of `year`. Is it missing any?</span>"
      ]
    },
    {
      "cell_type": "code",
      "metadata": {
        "id": "QSwophis5wCK",
        "colab": {
          "base_uri": "https://localhost:8080/"
        },
        "outputId": "4b38e28d-dd69-46d1-916a-2142edfd860c"
      },
      "source": [
        "# yes, it's missing many values. 4810 non-missing vs 4916 total\n",
        "movie.info()"
      ],
      "execution_count": null,
      "outputs": [
        {
          "output_type": "stream",
          "text": [
            "<class 'pandas.core.frame.DataFrame'>\n",
            "Index: 4916 entries, Avatar to My Date with Drew\n",
            "Data columns (total 21 columns):\n",
            "year               4810 non-null float64\n",
            "color              4897 non-null object\n",
            "content_rating     4616 non-null object\n",
            "duration           4901 non-null float64\n",
            "director_name      4814 non-null object\n",
            "director_fb        4814 non-null float64\n",
            "actor1             4909 non-null object\n",
            "actor1_fb          4909 non-null float64\n",
            "actor2             4903 non-null object\n",
            "actor2_fb          4903 non-null float64\n",
            "actor3             4893 non-null object\n",
            "actor3_fb          4893 non-null float64\n",
            "gross              4054 non-null float64\n",
            "genres             4916 non-null object\n",
            "num_reviews        4867 non-null float64\n",
            "num_voted_users    4916 non-null int64\n",
            "plot_keywords      4764 non-null object\n",
            "language           4904 non-null object\n",
            "country            4911 non-null object\n",
            "budget             4432 non-null float64\n",
            "imdb_score         4916 non-null float64\n",
            "dtypes: float64(10), int64(1), object(10)\n",
            "memory usage: 1004.9+ KB\n"
          ],
          "name": "stdout"
        }
      ]
    },
    {
      "cell_type": "markdown",
      "metadata": {
        "id": "KTJMmqGS5wCN"
      },
      "source": [
        "### Exercise 10\n",
        "\n",
        "<span  style=\"color:green; font-size:16px\">Select every 300th movie between 'Tangled' and 'Forrest Gump'. Why doesn't 'Forrest Gump' appear in the results?</span>"
      ]
    },
    {
      "cell_type": "code",
      "metadata": {
        "id": "hrIs_Wdd5wCN",
        "colab": {
          "base_uri": "https://localhost:8080/"
        },
        "outputId": "c776fbcb-abe4-4204-a930-9e4b4b202b30"
      },
      "source": [
        "# Forrest Gump is not a multiple of 300 away from Tangled\n",
        "movie.loc['Tangled':'Forrest Gump':300]"
      ],
      "execution_count": null,
      "outputs": [
        {
          "output_type": "execute_result",
          "data": {
            "text/html": [
              "<div>\n",
              "<style scoped>\n",
              "    .dataframe tbody tr th:only-of-type {\n",
              "        vertical-align: middle;\n",
              "    }\n",
              "\n",
              "    .dataframe tbody tr th {\n",
              "        vertical-align: top;\n",
              "    }\n",
              "\n",
              "    .dataframe thead th {\n",
              "        text-align: right;\n",
              "    }\n",
              "</style>\n",
              "<table border=\"1\" class=\"dataframe\">\n",
              "  <thead>\n",
              "    <tr style=\"text-align: right;\">\n",
              "      <th></th>\n",
              "      <th>year</th>\n",
              "      <th>color</th>\n",
              "      <th>content_rating</th>\n",
              "      <th>duration</th>\n",
              "      <th>director_name</th>\n",
              "      <th>director_fb</th>\n",
              "      <th>actor1</th>\n",
              "      <th>actor1_fb</th>\n",
              "      <th>actor2</th>\n",
              "      <th>actor2_fb</th>\n",
              "      <th>actor3</th>\n",
              "      <th>actor3_fb</th>\n",
              "      <th>gross</th>\n",
              "      <th>genres</th>\n",
              "      <th>num_reviews</th>\n",
              "      <th>num_voted_users</th>\n",
              "      <th>plot_keywords</th>\n",
              "      <th>language</th>\n",
              "      <th>country</th>\n",
              "      <th>budget</th>\n",
              "      <th>imdb_score</th>\n",
              "    </tr>\n",
              "    <tr>\n",
              "      <th>title</th>\n",
              "      <th></th>\n",
              "      <th></th>\n",
              "      <th></th>\n",
              "      <th></th>\n",
              "      <th></th>\n",
              "      <th></th>\n",
              "      <th></th>\n",
              "      <th></th>\n",
              "      <th></th>\n",
              "      <th></th>\n",
              "      <th></th>\n",
              "      <th></th>\n",
              "      <th></th>\n",
              "      <th></th>\n",
              "      <th></th>\n",
              "      <th></th>\n",
              "      <th></th>\n",
              "      <th></th>\n",
              "      <th></th>\n",
              "      <th></th>\n",
              "      <th></th>\n",
              "    </tr>\n",
              "  </thead>\n",
              "  <tbody>\n",
              "    <tr>\n",
              "      <th>Tangled</th>\n",
              "      <td>2010.0</td>\n",
              "      <td>Color</td>\n",
              "      <td>PG</td>\n",
              "      <td>100.0</td>\n",
              "      <td>Nathan Greno</td>\n",
              "      <td>15.0</td>\n",
              "      <td>Brad Garrett</td>\n",
              "      <td>799.0</td>\n",
              "      <td>Donna Murphy</td>\n",
              "      <td>553.0</td>\n",
              "      <td>M.C. Gainey</td>\n",
              "      <td>284.0</td>\n",
              "      <td>200807262.0</td>\n",
              "      <td>Adventure|Animation|Comedy|Family|Fantasy|Musi...</td>\n",
              "      <td>324.0</td>\n",
              "      <td>294810</td>\n",
              "      <td>17th century|based on fairy tale|disney|flower...</td>\n",
              "      <td>English</td>\n",
              "      <td>USA</td>\n",
              "      <td>260000000.0</td>\n",
              "      <td>7.8</td>\n",
              "    </tr>\n",
              "    <tr>\n",
              "      <th>Cloud Atlas</th>\n",
              "      <td>2012.0</td>\n",
              "      <td>Color</td>\n",
              "      <td>R</td>\n",
              "      <td>172.0</td>\n",
              "      <td>Tom Tykwer</td>\n",
              "      <td>670.0</td>\n",
              "      <td>Tom Hanks</td>\n",
              "      <td>15000.0</td>\n",
              "      <td>Jim Sturgess</td>\n",
              "      <td>5000.0</td>\n",
              "      <td>Jim Broadbent</td>\n",
              "      <td>1000.0</td>\n",
              "      <td>27098580.0</td>\n",
              "      <td>Drama|Sci-Fi</td>\n",
              "      <td>511.0</td>\n",
              "      <td>284825</td>\n",
              "      <td>composer|future|letter|nonlinear timeline|nurs...</td>\n",
              "      <td>English</td>\n",
              "      <td>Germany</td>\n",
              "      <td>102000000.0</td>\n",
              "      <td>7.5</td>\n",
              "    </tr>\n",
              "    <tr>\n",
              "      <th>Doom</th>\n",
              "      <td>2005.0</td>\n",
              "      <td>Color</td>\n",
              "      <td>R</td>\n",
              "      <td>113.0</td>\n",
              "      <td>Andrzej Bartkowiak</td>\n",
              "      <td>43.0</td>\n",
              "      <td>Dwayne Johnson</td>\n",
              "      <td>12000.0</td>\n",
              "      <td>Ben Daniels</td>\n",
              "      <td>585.0</td>\n",
              "      <td>Dexter Fletcher</td>\n",
              "      <td>452.0</td>\n",
              "      <td>28031250.0</td>\n",
              "      <td>Action|Adventure|Horror|Sci-Fi</td>\n",
              "      <td>237.0</td>\n",
              "      <td>88146</td>\n",
              "      <td>commando unit|extra chromosome|first person sh...</td>\n",
              "      <td>English</td>\n",
              "      <td>UK</td>\n",
              "      <td>60000000.0</td>\n",
              "      <td>5.2</td>\n",
              "    </tr>\n",
              "  </tbody>\n",
              "</table>\n",
              "</div>"
            ],
            "text/plain": [
              "               year  color content_rating  ...  country       budget  imdb_score\n",
              "title                                      ...                                  \n",
              "Tangled      2010.0  Color             PG  ...      USA  260000000.0         7.8\n",
              "Cloud Atlas  2012.0  Color              R  ...  Germany  102000000.0         7.5\n",
              "Doom         2005.0  Color              R  ...       UK   60000000.0         5.2\n",
              "\n",
              "[3 rows x 21 columns]"
            ]
          },
          "metadata": {
            "tags": []
          },
          "execution_count": 23
        }
      ]
    },
    {
      "cell_type": "markdown",
      "metadata": {
        "id": "eY-EaKoF5wCQ"
      },
      "source": [
        "## 3. Selecting Subsets of Data from DataFrames with `iloc`"
      ]
    },
    {
      "cell_type": "markdown",
      "metadata": {
        "id": "Mew4-ijS5wCR"
      },
      "source": [
        "### Exercise 1\n",
        "\n",
        "<span  style=\"color:green; font-size:16px\">Select the columns with integer location 10, 5, and 1.</span>"
      ]
    },
    {
      "cell_type": "code",
      "metadata": {
        "id": "QwL-MQfC5wCS",
        "colab": {
          "base_uri": "https://localhost:8080/"
        },
        "outputId": "9ff34e32-c80c-472c-9628-f1c4c32b7067"
      },
      "source": [
        "movie.iloc[:, [10, 5, 1]].head(3)"
      ],
      "execution_count": null,
      "outputs": [
        {
          "output_type": "execute_result",
          "data": {
            "text/html": [
              "<div>\n",
              "<style scoped>\n",
              "    .dataframe tbody tr th:only-of-type {\n",
              "        vertical-align: middle;\n",
              "    }\n",
              "\n",
              "    .dataframe tbody tr th {\n",
              "        vertical-align: top;\n",
              "    }\n",
              "\n",
              "    .dataframe thead th {\n",
              "        text-align: right;\n",
              "    }\n",
              "</style>\n",
              "<table border=\"1\" class=\"dataframe\">\n",
              "  <thead>\n",
              "    <tr style=\"text-align: right;\">\n",
              "      <th></th>\n",
              "      <th>actor3</th>\n",
              "      <th>director_fb</th>\n",
              "      <th>color</th>\n",
              "    </tr>\n",
              "    <tr>\n",
              "      <th>title</th>\n",
              "      <th></th>\n",
              "      <th></th>\n",
              "      <th></th>\n",
              "    </tr>\n",
              "  </thead>\n",
              "  <tbody>\n",
              "    <tr>\n",
              "      <th>Avatar</th>\n",
              "      <td>Wes Studi</td>\n",
              "      <td>0.0</td>\n",
              "      <td>Color</td>\n",
              "    </tr>\n",
              "    <tr>\n",
              "      <th>Pirates of the Caribbean: At World's End</th>\n",
              "      <td>Jack Davenport</td>\n",
              "      <td>563.0</td>\n",
              "      <td>Color</td>\n",
              "    </tr>\n",
              "    <tr>\n",
              "      <th>Spectre</th>\n",
              "      <td>Stephanie Sigman</td>\n",
              "      <td>0.0</td>\n",
              "      <td>Color</td>\n",
              "    </tr>\n",
              "  </tbody>\n",
              "</table>\n",
              "</div>"
            ],
            "text/plain": [
              "                                                    actor3  director_fb  color\n",
              "title                                                                         \n",
              "Avatar                                           Wes Studi          0.0  Color\n",
              "Pirates of the Caribbean: At World's End    Jack Davenport        563.0  Color\n",
              "Spectre                                   Stephanie Sigman          0.0  Color"
            ]
          },
          "metadata": {
            "tags": []
          },
          "execution_count": 24
        }
      ]
    },
    {
      "cell_type": "markdown",
      "metadata": {
        "id": "-elM6hfg5wCW"
      },
      "source": [
        "### Exercise 2\n",
        "\n",
        "<span  style=\"color:green; font-size:16px\">Select the rows with integer location 10, 5, and 1.</span>"
      ]
    },
    {
      "cell_type": "code",
      "metadata": {
        "scrolled": true,
        "id": "nALfkm_-5wCY",
        "colab": {
          "base_uri": "https://localhost:8080/"
        },
        "outputId": "2ff54832-eb84-4a9d-b055-aafc3ba5a179"
      },
      "source": [
        "movie.iloc[[10, 5, 1], :]"
      ],
      "execution_count": null,
      "outputs": [
        {
          "output_type": "execute_result",
          "data": {
            "text/html": [
              "<div>\n",
              "<style scoped>\n",
              "    .dataframe tbody tr th:only-of-type {\n",
              "        vertical-align: middle;\n",
              "    }\n",
              "\n",
              "    .dataframe tbody tr th {\n",
              "        vertical-align: top;\n",
              "    }\n",
              "\n",
              "    .dataframe thead th {\n",
              "        text-align: right;\n",
              "    }\n",
              "</style>\n",
              "<table border=\"1\" class=\"dataframe\">\n",
              "  <thead>\n",
              "    <tr style=\"text-align: right;\">\n",
              "      <th></th>\n",
              "      <th>year</th>\n",
              "      <th>color</th>\n",
              "      <th>content_rating</th>\n",
              "      <th>duration</th>\n",
              "      <th>director_name</th>\n",
              "      <th>director_fb</th>\n",
              "      <th>actor1</th>\n",
              "      <th>actor1_fb</th>\n",
              "      <th>actor2</th>\n",
              "      <th>actor2_fb</th>\n",
              "      <th>actor3</th>\n",
              "      <th>actor3_fb</th>\n",
              "      <th>gross</th>\n",
              "      <th>genres</th>\n",
              "      <th>num_reviews</th>\n",
              "      <th>num_voted_users</th>\n",
              "      <th>plot_keywords</th>\n",
              "      <th>language</th>\n",
              "      <th>country</th>\n",
              "      <th>budget</th>\n",
              "      <th>imdb_score</th>\n",
              "    </tr>\n",
              "    <tr>\n",
              "      <th>title</th>\n",
              "      <th></th>\n",
              "      <th></th>\n",
              "      <th></th>\n",
              "      <th></th>\n",
              "      <th></th>\n",
              "      <th></th>\n",
              "      <th></th>\n",
              "      <th></th>\n",
              "      <th></th>\n",
              "      <th></th>\n",
              "      <th></th>\n",
              "      <th></th>\n",
              "      <th></th>\n",
              "      <th></th>\n",
              "      <th></th>\n",
              "      <th></th>\n",
              "      <th></th>\n",
              "      <th></th>\n",
              "      <th></th>\n",
              "      <th></th>\n",
              "      <th></th>\n",
              "    </tr>\n",
              "  </thead>\n",
              "  <tbody>\n",
              "    <tr>\n",
              "      <th>Batman v Superman: Dawn of Justice</th>\n",
              "      <td>2016.0</td>\n",
              "      <td>Color</td>\n",
              "      <td>PG-13</td>\n",
              "      <td>183.0</td>\n",
              "      <td>Zack Snyder</td>\n",
              "      <td>0.0</td>\n",
              "      <td>Henry Cavill</td>\n",
              "      <td>15000.0</td>\n",
              "      <td>Lauren Cohan</td>\n",
              "      <td>4000.0</td>\n",
              "      <td>Alan D. Purwin</td>\n",
              "      <td>2000.0</td>\n",
              "      <td>330249062.0</td>\n",
              "      <td>Action|Adventure|Sci-Fi</td>\n",
              "      <td>673.0</td>\n",
              "      <td>371639</td>\n",
              "      <td>based on comic book|batman|sequel to a reboot|...</td>\n",
              "      <td>English</td>\n",
              "      <td>USA</td>\n",
              "      <td>250000000.0</td>\n",
              "      <td>6.9</td>\n",
              "    </tr>\n",
              "    <tr>\n",
              "      <th>John Carter</th>\n",
              "      <td>2012.0</td>\n",
              "      <td>Color</td>\n",
              "      <td>PG-13</td>\n",
              "      <td>132.0</td>\n",
              "      <td>Andrew Stanton</td>\n",
              "      <td>475.0</td>\n",
              "      <td>Daryl Sabara</td>\n",
              "      <td>640.0</td>\n",
              "      <td>Samantha Morton</td>\n",
              "      <td>632.0</td>\n",
              "      <td>Polly Walker</td>\n",
              "      <td>530.0</td>\n",
              "      <td>73058679.0</td>\n",
              "      <td>Action|Adventure|Sci-Fi</td>\n",
              "      <td>462.0</td>\n",
              "      <td>212204</td>\n",
              "      <td>alien|american civil war|male nipple|mars|prin...</td>\n",
              "      <td>English</td>\n",
              "      <td>USA</td>\n",
              "      <td>263700000.0</td>\n",
              "      <td>6.6</td>\n",
              "    </tr>\n",
              "    <tr>\n",
              "      <th>Pirates of the Caribbean: At World's End</th>\n",
              "      <td>2007.0</td>\n",
              "      <td>Color</td>\n",
              "      <td>PG-13</td>\n",
              "      <td>169.0</td>\n",
              "      <td>Gore Verbinski</td>\n",
              "      <td>563.0</td>\n",
              "      <td>Johnny Depp</td>\n",
              "      <td>40000.0</td>\n",
              "      <td>Orlando Bloom</td>\n",
              "      <td>5000.0</td>\n",
              "      <td>Jack Davenport</td>\n",
              "      <td>1000.0</td>\n",
              "      <td>309404152.0</td>\n",
              "      <td>Action|Adventure|Fantasy</td>\n",
              "      <td>302.0</td>\n",
              "      <td>471220</td>\n",
              "      <td>goddess|marriage ceremony|marriage proposal|pi...</td>\n",
              "      <td>English</td>\n",
              "      <td>USA</td>\n",
              "      <td>300000000.0</td>\n",
              "      <td>7.1</td>\n",
              "    </tr>\n",
              "  </tbody>\n",
              "</table>\n",
              "</div>"
            ],
            "text/plain": [
              "                                            year  ... imdb_score\n",
              "title                                             ...           \n",
              "Batman v Superman: Dawn of Justice        2016.0  ...        6.9\n",
              "John Carter                               2012.0  ...        6.6\n",
              "Pirates of the Caribbean: At World's End  2007.0  ...        7.1\n",
              "\n",
              "[3 rows x 21 columns]"
            ]
          },
          "metadata": {
            "tags": []
          },
          "execution_count": 25
        }
      ]
    },
    {
      "cell_type": "markdown",
      "metadata": {
        "id": "AGAy17CS5wCb"
      },
      "source": [
        "### Exercise 3\n",
        "\n",
        "<span  style=\"color:green; font-size:16px\">Select rows with integer location 100 to 104 along with the column integer location 5.</span>"
      ]
    },
    {
      "cell_type": "code",
      "metadata": {
        "id": "8J44-Yjc5wCc",
        "colab": {
          "base_uri": "https://localhost:8080/"
        },
        "outputId": "9f0d16cd-f775-4926-fb65-75a8e3029efe"
      },
      "source": [
        "movie.iloc[100:105, 5]"
      ],
      "execution_count": null,
      "outputs": [
        {
          "output_type": "execute_result",
          "data": {
            "text/plain": [
              "title\n",
              "The Fast and the Furious                   357.0\n",
              "The Curious Case of Benjamin Button      21000.0\n",
              "X-Men: First Class                         905.0\n",
              "The Hunger Games: Mockingjay - Part 2      508.0\n",
              "The Sorcerer's Apprentice                  226.0\n",
              "Name: director_fb, dtype: float64"
            ]
          },
          "metadata": {
            "tags": []
          },
          "execution_count": 26
        }
      ]
    },
    {
      "cell_type": "markdown",
      "metadata": {
        "id": "11u-mrrX5wCd"
      },
      "source": [
        "### Exercise 4\n",
        "\n",
        "<span  style=\"color:green; font-size:16px\">Select the value at row integer location 100 and column integer location 4.</span>"
      ]
    },
    {
      "cell_type": "code",
      "metadata": {
        "id": "96-EQECQ5wCe",
        "colab": {
          "base_uri": "https://localhost:8080/"
        },
        "outputId": "6f93f635-23fd-44cc-ed46-49d2abef37d6"
      },
      "source": [
        "movie.iloc[100, 4]"
      ],
      "execution_count": null,
      "outputs": [
        {
          "output_type": "execute_result",
          "data": {
            "text/plain": [
              "'Rob Cohen'"
            ]
          },
          "metadata": {
            "tags": []
          },
          "execution_count": 27
        }
      ]
    },
    {
      "cell_type": "markdown",
      "metadata": {
        "id": "dT0c-lQU5wCf"
      },
      "source": [
        "### Exercise 5\n",
        "\n",
        "<span  style=\"color:green; font-size:16px\">Return the result of exercise 4 as a DataFrame.</span>"
      ]
    },
    {
      "cell_type": "code",
      "metadata": {
        "id": "-99GHIX95wCg",
        "colab": {
          "base_uri": "https://localhost:8080/"
        },
        "outputId": "d3580290-be97-46ca-9b31-2febe85fca70"
      },
      "source": [
        "movie.iloc[[100], [4]]"
      ],
      "execution_count": null,
      "outputs": [
        {
          "output_type": "execute_result",
          "data": {
            "text/html": [
              "<div>\n",
              "<style scoped>\n",
              "    .dataframe tbody tr th:only-of-type {\n",
              "        vertical-align: middle;\n",
              "    }\n",
              "\n",
              "    .dataframe tbody tr th {\n",
              "        vertical-align: top;\n",
              "    }\n",
              "\n",
              "    .dataframe thead th {\n",
              "        text-align: right;\n",
              "    }\n",
              "</style>\n",
              "<table border=\"1\" class=\"dataframe\">\n",
              "  <thead>\n",
              "    <tr style=\"text-align: right;\">\n",
              "      <th></th>\n",
              "      <th>director_name</th>\n",
              "    </tr>\n",
              "    <tr>\n",
              "      <th>title</th>\n",
              "      <th></th>\n",
              "    </tr>\n",
              "  </thead>\n",
              "  <tbody>\n",
              "    <tr>\n",
              "      <th>The Fast and the Furious</th>\n",
              "      <td>Rob Cohen</td>\n",
              "    </tr>\n",
              "  </tbody>\n",
              "</table>\n",
              "</div>"
            ],
            "text/plain": [
              "                         director_name\n",
              "title                                 \n",
              "The Fast and the Furious     Rob Cohen"
            ]
          },
          "metadata": {
            "tags": []
          },
          "execution_count": 28
        }
      ]
    },
    {
      "cell_type": "markdown",
      "metadata": {
        "id": "Av-YHUjR5wCi"
      },
      "source": [
        "### Exercise 6\n",
        "\n",
        "<span  style=\"color:green; font-size:16px\">Select the last 5 rows of the last 5 columns.</span>"
      ]
    },
    {
      "cell_type": "code",
      "metadata": {
        "id": "c9DeTpKC5wCj",
        "colab": {
          "base_uri": "https://localhost:8080/"
        },
        "outputId": "f0ed404f-6ba3-4370-a8a6-fa8096d4f313"
      },
      "source": [
        "movie.iloc[-5:, -5:]"
      ],
      "execution_count": null,
      "outputs": [
        {
          "output_type": "execute_result",
          "data": {
            "text/html": [
              "<div>\n",
              "<style scoped>\n",
              "    .dataframe tbody tr th:only-of-type {\n",
              "        vertical-align: middle;\n",
              "    }\n",
              "\n",
              "    .dataframe tbody tr th {\n",
              "        vertical-align: top;\n",
              "    }\n",
              "\n",
              "    .dataframe thead th {\n",
              "        text-align: right;\n",
              "    }\n",
              "</style>\n",
              "<table border=\"1\" class=\"dataframe\">\n",
              "  <thead>\n",
              "    <tr style=\"text-align: right;\">\n",
              "      <th></th>\n",
              "      <th>plot_keywords</th>\n",
              "      <th>language</th>\n",
              "      <th>country</th>\n",
              "      <th>budget</th>\n",
              "      <th>imdb_score</th>\n",
              "    </tr>\n",
              "    <tr>\n",
              "      <th>title</th>\n",
              "      <th></th>\n",
              "      <th></th>\n",
              "      <th></th>\n",
              "      <th></th>\n",
              "      <th></th>\n",
              "    </tr>\n",
              "  </thead>\n",
              "  <tbody>\n",
              "    <tr>\n",
              "      <th>Signed Sealed Delivered</th>\n",
              "      <td>fraud|postal worker|prison|theft|trial</td>\n",
              "      <td>English</td>\n",
              "      <td>Canada</td>\n",
              "      <td>NaN</td>\n",
              "      <td>7.7</td>\n",
              "    </tr>\n",
              "    <tr>\n",
              "      <th>The Following</th>\n",
              "      <td>cult|fbi|hideout|prison escape|serial killer</td>\n",
              "      <td>English</td>\n",
              "      <td>USA</td>\n",
              "      <td>NaN</td>\n",
              "      <td>7.5</td>\n",
              "    </tr>\n",
              "    <tr>\n",
              "      <th>A Plague So Pleasant</th>\n",
              "      <td>NaN</td>\n",
              "      <td>English</td>\n",
              "      <td>USA</td>\n",
              "      <td>1400.0</td>\n",
              "      <td>6.3</td>\n",
              "    </tr>\n",
              "    <tr>\n",
              "      <th>Shanghai Calling</th>\n",
              "      <td>NaN</td>\n",
              "      <td>English</td>\n",
              "      <td>USA</td>\n",
              "      <td>NaN</td>\n",
              "      <td>6.3</td>\n",
              "    </tr>\n",
              "    <tr>\n",
              "      <th>My Date with Drew</th>\n",
              "      <td>actress name in title|crush|date|four word tit...</td>\n",
              "      <td>English</td>\n",
              "      <td>USA</td>\n",
              "      <td>1100.0</td>\n",
              "      <td>6.6</td>\n",
              "    </tr>\n",
              "  </tbody>\n",
              "</table>\n",
              "</div>"
            ],
            "text/plain": [
              "                                                             plot_keywords  ... imdb_score\n",
              "title                                                                       ...           \n",
              "Signed Sealed Delivered             fraud|postal worker|prison|theft|trial  ...        7.7\n",
              "The Following                 cult|fbi|hideout|prison escape|serial killer  ...        7.5\n",
              "A Plague So Pleasant                                                   NaN  ...        6.3\n",
              "Shanghai Calling                                                       NaN  ...        6.3\n",
              "My Date with Drew        actress name in title|crush|date|four word tit...  ...        6.6\n",
              "\n",
              "[5 rows x 5 columns]"
            ]
          },
          "metadata": {
            "tags": []
          },
          "execution_count": 29
        }
      ]
    },
    {
      "cell_type": "markdown",
      "metadata": {
        "id": "OGTodrlS5wCo"
      },
      "source": [
        "### Exercise 7\n",
        "\n",
        "<span  style=\"color:green; font-size:16px\">Select every 25th row between rows with integer location 100 and 20 and every fifth column.</span>"
      ]
    },
    {
      "cell_type": "code",
      "metadata": {
        "id": "kNFSgOtP5wCo",
        "colab": {
          "base_uri": "https://localhost:8080/"
        },
        "outputId": "0ad6ae04-c207-4cf7-dba9-a868da628d59"
      },
      "source": [
        "movie.iloc[100:200:25, ::5]"
      ],
      "execution_count": null,
      "outputs": [
        {
          "output_type": "execute_result",
          "data": {
            "text/html": [
              "<div>\n",
              "<style scoped>\n",
              "    .dataframe tbody tr th:only-of-type {\n",
              "        vertical-align: middle;\n",
              "    }\n",
              "\n",
              "    .dataframe tbody tr th {\n",
              "        vertical-align: top;\n",
              "    }\n",
              "\n",
              "    .dataframe thead th {\n",
              "        text-align: right;\n",
              "    }\n",
              "</style>\n",
              "<table border=\"1\" class=\"dataframe\">\n",
              "  <thead>\n",
              "    <tr style=\"text-align: right;\">\n",
              "      <th></th>\n",
              "      <th>year</th>\n",
              "      <th>director_fb</th>\n",
              "      <th>actor3</th>\n",
              "      <th>num_voted_users</th>\n",
              "      <th>imdb_score</th>\n",
              "    </tr>\n",
              "    <tr>\n",
              "      <th>title</th>\n",
              "      <th></th>\n",
              "      <th></th>\n",
              "      <th></th>\n",
              "      <th></th>\n",
              "      <th></th>\n",
              "    </tr>\n",
              "  </thead>\n",
              "  <tbody>\n",
              "    <tr>\n",
              "      <th>The Fast and the Furious</th>\n",
              "      <td>2001.0</td>\n",
              "      <td>357.0</td>\n",
              "      <td>Jordana Brewster</td>\n",
              "      <td>272223</td>\n",
              "      <td>6.7</td>\n",
              "    </tr>\n",
              "    <tr>\n",
              "      <th>Frozen</th>\n",
              "      <td>2013.0</td>\n",
              "      <td>69.0</td>\n",
              "      <td>Livvy Stubenrauch</td>\n",
              "      <td>421658</td>\n",
              "      <td>7.6</td>\n",
              "    </tr>\n",
              "    <tr>\n",
              "      <th>Armageddon</th>\n",
              "      <td>1998.0</td>\n",
              "      <td>0.0</td>\n",
              "      <td>Will Patton</td>\n",
              "      <td>322395</td>\n",
              "      <td>6.6</td>\n",
              "    </tr>\n",
              "    <tr>\n",
              "      <th>The Incredible Hulk</th>\n",
              "      <td>2008.0</td>\n",
              "      <td>255.0</td>\n",
              "      <td>William Hurt</td>\n",
              "      <td>326286</td>\n",
              "      <td>6.8</td>\n",
              "    </tr>\n",
              "  </tbody>\n",
              "</table>\n",
              "</div>"
            ],
            "text/plain": [
              "                            year  director_fb  ... num_voted_users  imdb_score\n",
              "title                                          ...                            \n",
              "The Fast and the Furious  2001.0        357.0  ...          272223         6.7\n",
              "Frozen                    2013.0         69.0  ...          421658         7.6\n",
              "Armageddon                1998.0          0.0  ...          322395         6.6\n",
              "The Incredible Hulk       2008.0        255.0  ...          326286         6.8\n",
              "\n",
              "[4 rows x 5 columns]"
            ]
          },
          "metadata": {
            "tags": []
          },
          "execution_count": 30
        }
      ]
    },
    {
      "cell_type": "markdown",
      "metadata": {
        "id": "uCSem7uv5wCq"
      },
      "source": [
        "### Exercise 8\n",
        "\n",
        "<span  style=\"color:green; font-size:16px\">Select the column with integer location 7 as a Series.</span>"
      ]
    },
    {
      "cell_type": "code",
      "metadata": {
        "id": "24SfKxVy5wCq",
        "colab": {
          "base_uri": "https://localhost:8080/"
        },
        "outputId": "320cfd3f-9227-4131-a7aa-8b3eaf8c2137"
      },
      "source": [
        "movie.iloc[:, 7].head(3)"
      ],
      "execution_count": null,
      "outputs": [
        {
          "output_type": "execute_result",
          "data": {
            "text/plain": [
              "title\n",
              "Avatar                                       1000.0\n",
              "Pirates of the Caribbean: At World's End    40000.0\n",
              "Spectre                                     11000.0\n",
              "Name: actor1_fb, dtype: float64"
            ]
          },
          "metadata": {
            "tags": []
          },
          "execution_count": 31
        }
      ]
    },
    {
      "cell_type": "markdown",
      "metadata": {
        "id": "ZR-XhfT75wCt"
      },
      "source": [
        "### Exercise 9\n",
        "\n",
        "<span  style=\"color:green; font-size:16px\">Select the rows with integer location 999, 99, and 9 and the columns with integer location 9 and 19.</span>"
      ]
    },
    {
      "cell_type": "code",
      "metadata": {
        "id": "v36Sah0Z5wCt",
        "colab": {
          "base_uri": "https://localhost:8080/"
        },
        "outputId": "e71667f1-b067-4adc-bd1b-25847863a62d"
      },
      "source": [
        "rows = [999, 99, 9]\n",
        "cols = [9, 19]\n",
        "movie.iloc[rows, cols]"
      ],
      "execution_count": null,
      "outputs": [
        {
          "output_type": "execute_result",
          "data": {
            "text/html": [
              "<div>\n",
              "<style scoped>\n",
              "    .dataframe tbody tr th:only-of-type {\n",
              "        vertical-align: middle;\n",
              "    }\n",
              "\n",
              "    .dataframe tbody tr th {\n",
              "        vertical-align: top;\n",
              "    }\n",
              "\n",
              "    .dataframe thead th {\n",
              "        text-align: right;\n",
              "    }\n",
              "</style>\n",
              "<table border=\"1\" class=\"dataframe\">\n",
              "  <thead>\n",
              "    <tr style=\"text-align: right;\">\n",
              "      <th></th>\n",
              "      <th>actor2_fb</th>\n",
              "      <th>budget</th>\n",
              "    </tr>\n",
              "    <tr>\n",
              "      <th>title</th>\n",
              "      <th></th>\n",
              "      <th></th>\n",
              "    </tr>\n",
              "  </thead>\n",
              "  <tbody>\n",
              "    <tr>\n",
              "      <th>The Iron Giant</th>\n",
              "      <td>631.0</td>\n",
              "      <td>70000000.0</td>\n",
              "    </tr>\n",
              "    <tr>\n",
              "      <th>The Hobbit: An Unexpected Journey</th>\n",
              "      <td>972.0</td>\n",
              "      <td>180000000.0</td>\n",
              "    </tr>\n",
              "    <tr>\n",
              "      <th>Harry Potter and the Half-Blood Prince</th>\n",
              "      <td>11000.0</td>\n",
              "      <td>250000000.0</td>\n",
              "    </tr>\n",
              "  </tbody>\n",
              "</table>\n",
              "</div>"
            ],
            "text/plain": [
              "                                        actor2_fb       budget\n",
              "title                                                         \n",
              "The Iron Giant                              631.0   70000000.0\n",
              "The Hobbit: An Unexpected Journey           972.0  180000000.0\n",
              "Harry Potter and the Half-Blood Prince    11000.0  250000000.0"
            ]
          },
          "metadata": {
            "tags": []
          },
          "execution_count": 32
        }
      ]
    },
    {
      "cell_type": "markdown",
      "metadata": {
        "id": "SgPGDtrc5wCv"
      },
      "source": [
        "## 4. Selecting Subsets of Data from a Series"
      ]
    },
    {
      "cell_type": "code",
      "metadata": {
        "id": "SETNTOFT5wCv",
        "colab": {
          "base_uri": "https://localhost:8080/",
          "height": 138
        },
        "outputId": "864f3b84-07e3-4099-f7e7-089195ac0ede"
      },
      "source": [
        "import pandas as pd\n",
        "movie = pd.read_csv('Pandas/movie.csv', index_col='title')\n",
        "duration = movie['duration']\n",
        "duration.head()"
      ],
      "execution_count": null,
      "outputs": [
        {
          "output_type": "execute_result",
          "data": {
            "text/plain": [
              "title\n",
              "Avatar                                        178.0\n",
              "Pirates of the Caribbean: At World's End      169.0\n",
              "Spectre                                       148.0\n",
              "The Dark Knight Rises                         164.0\n",
              "Star Wars: Episode VII - The Force Awakens      NaN\n",
              "Name: duration, dtype: float64"
            ]
          },
          "metadata": {
            "tags": []
          },
          "execution_count": 34
        }
      ]
    },
    {
      "cell_type": "markdown",
      "metadata": {
        "id": "81kKtKKt5wCz"
      },
      "source": [
        "### Exercise 1\n",
        "\n",
        "<span  style=\"color:green; font-size:16px\">How long was the movie Titanic?</span>"
      ]
    },
    {
      "cell_type": "code",
      "metadata": {
        "id": "C7UECoBm5wCz",
        "colab": {
          "base_uri": "https://localhost:8080/"
        },
        "outputId": "8cb8bc40-da41-47e1-cab6-5d6248473e79"
      },
      "source": [
        "duration.loc['Titanic']"
      ],
      "execution_count": null,
      "outputs": [
        {
          "output_type": "execute_result",
          "data": {
            "text/plain": [
              "194.0"
            ]
          },
          "metadata": {
            "tags": []
          },
          "execution_count": 35
        }
      ]
    },
    {
      "cell_type": "markdown",
      "metadata": {
        "id": "LznvBCRe5wC3"
      },
      "source": [
        "### Exercise 2\n",
        "\n",
        "<span  style=\"color:green; font-size:16px\">How long was the movie at the 999th integer location?</span>"
      ]
    },
    {
      "cell_type": "code",
      "metadata": {
        "id": "ePKBxUe55wC4",
        "colab": {
          "base_uri": "https://localhost:8080/"
        },
        "outputId": "c095dc81-cb21-4225-9627-81e40de8bf92"
      },
      "source": [
        "duration.iloc[999]"
      ],
      "execution_count": null,
      "outputs": [
        {
          "output_type": "execute_result",
          "data": {
            "text/plain": [
              "90.0"
            ]
          },
          "metadata": {
            "tags": []
          },
          "execution_count": 36
        }
      ]
    },
    {
      "cell_type": "markdown",
      "metadata": {
        "id": "comKK2Ft5wC7"
      },
      "source": [
        "### Exercise 3\n",
        "\n",
        "<span  style=\"color:green; font-size:16px\">Select the duration for the movies Hulk, Toy Story, and Cars.</span>"
      ]
    },
    {
      "cell_type": "code",
      "metadata": {
        "id": "NC4yBafG5wC7",
        "colab": {
          "base_uri": "https://localhost:8080/"
        },
        "outputId": "d3de3360-1cf9-439b-8849-d1ab5534efe0"
      },
      "source": [
        "names = ['Hulk', 'Toy Story', 'Cars']\n",
        "duration.loc[names]"
      ],
      "execution_count": null,
      "outputs": [
        {
          "output_type": "execute_result",
          "data": {
            "text/plain": [
              "title\n",
              "Hulk         138.0\n",
              "Toy Story     74.0\n",
              "Cars         117.0\n",
              "Name: duration, dtype: float64"
            ]
          },
          "metadata": {
            "tags": []
          },
          "execution_count": 37
        }
      ]
    },
    {
      "cell_type": "markdown",
      "metadata": {
        "id": "PzjJIhMg5wC9"
      },
      "source": [
        "### Exercise 4\n",
        "\n",
        "<span  style=\"color:green; font-size:16px\">Select the duration for every 100th movies from Hulk to Cars</span>"
      ]
    },
    {
      "cell_type": "code",
      "metadata": {
        "id": "Us_Ki0_I5wC-",
        "colab": {
          "base_uri": "https://localhost:8080/"
        },
        "outputId": "0b44a87e-4254-4fa4-e498-c15fa59f28bc"
      },
      "source": [
        "duration.loc['Hulk':'Cars':100]"
      ],
      "execution_count": null,
      "outputs": [
        {
          "output_type": "execute_result",
          "data": {
            "text/plain": [
              "title\n",
              "Hulk                     138.0\n",
              "Live Free or Die Hard    129.0\n",
              "Valkyrie                 121.0\n",
              "Yogi Bear                 80.0\n",
              "Dr. Dolittle 2            87.0\n",
              "Name: duration, dtype: float64"
            ]
          },
          "metadata": {
            "tags": []
          },
          "execution_count": 38
        }
      ]
    },
    {
      "cell_type": "markdown",
      "metadata": {
        "id": "3ZHxTjzp5wDA"
      },
      "source": [
        "### Exercise 5\n",
        "\n",
        "<span  style=\"color:green; font-size:16px\">Select the duration for every 10th movie beginning from the 100th from the end.</span>"
      ]
    },
    {
      "cell_type": "code",
      "metadata": {
        "id": "tTBazs7g5wDC",
        "colab": {
          "base_uri": "https://localhost:8080/",
          "height": 225
        },
        "outputId": "ff0f132d-55c8-4185-ca6b-d7ad9506cbd0"
      },
      "source": [
        "duration.iloc[-100::10]"
      ],
      "execution_count": null,
      "outputs": [
        {
          "output_type": "execute_result",
          "data": {
            "text/plain": [
              "title\n",
              "Antarctic Edge: 70° South                72.0\n",
              "A Dog's Breakfast                        88.0\n",
              "Penitentiary                             99.0\n",
              "Peace, Propaganda & the Promised Land    80.0\n",
              "Supporting Characters                    87.0\n",
              "Bending Steel                            92.0\n",
              "Run, Hide, Die                           75.0\n",
              "Manito                                   79.0\n",
              "Breaking Upwards                         88.0\n",
              "Primer                                   77.0\n",
              "Name: duration, dtype: float64"
            ]
          },
          "metadata": {
            "tags": []
          },
          "execution_count": 39
        }
      ]
    },
    {
      "cell_type": "markdown",
      "metadata": {
        "id": "H4xstPdP5wDF"
      },
      "source": [
        "Read in the bikes dataset and select the `wind_speed` column by executing the cell below and use it for the rest of exercises. Notice that the index labels are integers, meaning that when you use `loc` you will be using integers."
      ]
    },
    {
      "cell_type": "code",
      "metadata": {
        "id": "z46L9HbP5wDI",
        "colab": {
          "base_uri": "https://localhost:8080/",
          "height": 121
        },
        "outputId": "afa6a993-4c09-4c76-cd90-0f18b510d274"
      },
      "source": [
        "bikes = pd.read_csv('Pandas/bikes.csv')\n",
        "wind = bikes['wind_speed']\n",
        "wind.head()"
      ],
      "execution_count": null,
      "outputs": [
        {
          "output_type": "execute_result",
          "data": {
            "text/plain": [
              "0    12.7\n",
              "1     6.9\n",
              "2    16.1\n",
              "3    16.1\n",
              "4    17.3\n",
              "Name: wind_speed, dtype: float64"
            ]
          },
          "metadata": {
            "tags": []
          },
          "execution_count": 42
        }
      ]
    },
    {
      "cell_type": "markdown",
      "metadata": {
        "id": "GDQnQhtf5wDK"
      },
      "source": [
        "### Exercise 6\n",
        "\n",
        "<span  style=\"color:green; font-size:16px\">What kind of index does the `wind` Series have?</span>"
      ]
    },
    {
      "cell_type": "markdown",
      "metadata": {
        "id": "grM4Jihn5wDL"
      },
      "source": [
        "It has a `RangeIndex`"
      ]
    },
    {
      "cell_type": "code",
      "metadata": {
        "id": "LYWluehW5wDL",
        "colab": {
          "base_uri": "https://localhost:8080/"
        },
        "outputId": "9f08af68-e902-4d1b-ddde-93d332ada9e8"
      },
      "source": [
        "wind.index"
      ],
      "execution_count": null,
      "outputs": [
        {
          "output_type": "execute_result",
          "data": {
            "text/plain": [
              "RangeIndex(start=0, stop=50089, step=1)"
            ]
          },
          "metadata": {
            "tags": []
          },
          "execution_count": 43
        }
      ]
    },
    {
      "cell_type": "markdown",
      "metadata": {
        "id": "Hj0FsV3y5wDN"
      },
      "source": [
        "### Exercise 7\n",
        "<span  style=\"color:green; font-size:16px\">From the `wind` Series, select the integer locations 4 through, but not including 10</span>"
      ]
    },
    {
      "cell_type": "code",
      "metadata": {
        "id": "E9QHxRrf5wDN",
        "colab": {
          "base_uri": "https://localhost:8080/"
        },
        "outputId": "b04d6524-250b-4ec7-a058-322bba44e750"
      },
      "source": [
        "wind.iloc[4:10]"
      ],
      "execution_count": null,
      "outputs": [
        {
          "output_type": "execute_result",
          "data": {
            "text/plain": [
              "4    17.3\n",
              "5    17.3\n",
              "6    15.0\n",
              "7     5.8\n",
              "8     0.0\n",
              "9    12.7\n",
              "Name: wind_speed, dtype: float64"
            ]
          },
          "metadata": {
            "tags": []
          },
          "execution_count": 44
        }
      ]
    },
    {
      "cell_type": "markdown",
      "metadata": {
        "id": "NVdnksZW5wDP"
      },
      "source": [
        "### Exercise 8\n",
        "\n",
        "<span  style=\"color:green; font-size:16px\">Copy and paste your answer to Exercise 7 below but use `loc` instead. Do you get the same result? Why not?</span>"
      ]
    },
    {
      "cell_type": "code",
      "metadata": {
        "id": "hhkpqoxu5wDQ",
        "colab": {
          "base_uri": "https://localhost:8080/"
        },
        "outputId": "35147a48-bbce-471a-928d-604c6932c3bc"
      },
      "source": [
        "wind.loc[4:10]"
      ],
      "execution_count": null,
      "outputs": [
        {
          "output_type": "execute_result",
          "data": {
            "text/plain": [
              "4     17.3\n",
              "5     17.3\n",
              "6     15.0\n",
              "7      5.8\n",
              "8      0.0\n",
              "9     12.7\n",
              "10     9.2\n",
              "Name: wind_speed, dtype: float64"
            ]
          },
          "metadata": {
            "tags": []
          },
          "execution_count": 45
        }
      ]
    },
    {
      "cell_type": "markdown",
      "metadata": {
        "id": "EKg82exn5wDT"
      },
      "source": [
        "This is tricky - the index in this case contains integers and not strings. So the labels themselves are also integers and happen to be the same integers corresponding to integer location. The reason `.iloc` and `.loc` produce different results is that `.loc` always includes the last value when slicing."
      ]
    },
    {
      "cell_type": "markdown",
      "metadata": {
        "id": "9xyfix4Q5wDT"
      },
      "source": [
        "## 5. Boolean Selection Single Conditions"
      ]
    },
    {
      "cell_type": "code",
      "metadata": {
        "id": "gPsR0WjQ5wDX",
        "colab": {
          "base_uri": "https://localhost:8080/",
          "height": 267
        },
        "outputId": "cdd7f56c-17f3-46fe-b29e-dc640f4e87da"
      },
      "source": [
        "bikes = pd.read_csv('Pandas/bikes.csv')\n",
        "bikes.head(3)"
      ],
      "execution_count": null,
      "outputs": [
        {
          "output_type": "execute_result",
          "data": {
            "text/html": [
              "<div>\n",
              "<style scoped>\n",
              "    .dataframe tbody tr th:only-of-type {\n",
              "        vertical-align: middle;\n",
              "    }\n",
              "\n",
              "    .dataframe tbody tr th {\n",
              "        vertical-align: top;\n",
              "    }\n",
              "\n",
              "    .dataframe thead th {\n",
              "        text-align: right;\n",
              "    }\n",
              "</style>\n",
              "<table border=\"1\" class=\"dataframe\">\n",
              "  <thead>\n",
              "    <tr style=\"text-align: right;\">\n",
              "      <th></th>\n",
              "      <th>trip_id</th>\n",
              "      <th>usertype</th>\n",
              "      <th>gender</th>\n",
              "      <th>starttime</th>\n",
              "      <th>stoptime</th>\n",
              "      <th>tripduration</th>\n",
              "      <th>from_station_name</th>\n",
              "      <th>latitude_start</th>\n",
              "      <th>longitude_start</th>\n",
              "      <th>dpcapacity_start</th>\n",
              "      <th>to_station_name</th>\n",
              "      <th>latitude_end</th>\n",
              "      <th>longitude_end</th>\n",
              "      <th>dpcapacity_end</th>\n",
              "      <th>temperature</th>\n",
              "      <th>visibility</th>\n",
              "      <th>wind_speed</th>\n",
              "      <th>precipitation</th>\n",
              "      <th>events</th>\n",
              "    </tr>\n",
              "  </thead>\n",
              "  <tbody>\n",
              "    <tr>\n",
              "      <th>0</th>\n",
              "      <td>7147</td>\n",
              "      <td>Subscriber</td>\n",
              "      <td>Male</td>\n",
              "      <td>2013-06-28 19:01:00</td>\n",
              "      <td>2013-06-28 19:17:00</td>\n",
              "      <td>993</td>\n",
              "      <td>Lake Shore Dr &amp; Monroe St</td>\n",
              "      <td>41.881050</td>\n",
              "      <td>-87.616970</td>\n",
              "      <td>11.0</td>\n",
              "      <td>Michigan Ave &amp; Oak St</td>\n",
              "      <td>41.90096</td>\n",
              "      <td>-87.623777</td>\n",
              "      <td>15.0</td>\n",
              "      <td>73.9</td>\n",
              "      <td>10.0</td>\n",
              "      <td>12.7</td>\n",
              "      <td>-9999.0</td>\n",
              "      <td>mostlycloudy</td>\n",
              "    </tr>\n",
              "    <tr>\n",
              "      <th>1</th>\n",
              "      <td>7524</td>\n",
              "      <td>Subscriber</td>\n",
              "      <td>Male</td>\n",
              "      <td>2013-06-28 22:53:00</td>\n",
              "      <td>2013-06-28 23:03:00</td>\n",
              "      <td>623</td>\n",
              "      <td>Clinton St &amp; Washington Blvd</td>\n",
              "      <td>41.883380</td>\n",
              "      <td>-87.641170</td>\n",
              "      <td>31.0</td>\n",
              "      <td>Wells St &amp; Walton St</td>\n",
              "      <td>41.89993</td>\n",
              "      <td>-87.634430</td>\n",
              "      <td>19.0</td>\n",
              "      <td>69.1</td>\n",
              "      <td>10.0</td>\n",
              "      <td>6.9</td>\n",
              "      <td>-9999.0</td>\n",
              "      <td>partlycloudy</td>\n",
              "    </tr>\n",
              "    <tr>\n",
              "      <th>2</th>\n",
              "      <td>10927</td>\n",
              "      <td>Subscriber</td>\n",
              "      <td>Male</td>\n",
              "      <td>2013-06-30 14:43:00</td>\n",
              "      <td>2013-06-30 15:01:00</td>\n",
              "      <td>1040</td>\n",
              "      <td>Sheffield Ave &amp; Kingsbury St</td>\n",
              "      <td>41.909592</td>\n",
              "      <td>-87.653497</td>\n",
              "      <td>15.0</td>\n",
              "      <td>Dearborn St &amp; Monroe St</td>\n",
              "      <td>41.88132</td>\n",
              "      <td>-87.629521</td>\n",
              "      <td>23.0</td>\n",
              "      <td>73.0</td>\n",
              "      <td>10.0</td>\n",
              "      <td>16.1</td>\n",
              "      <td>-9999.0</td>\n",
              "      <td>mostlycloudy</td>\n",
              "    </tr>\n",
              "  </tbody>\n",
              "</table>\n",
              "</div>"
            ],
            "text/plain": [
              "   trip_id    usertype gender  ... wind_speed precipitation        events\n",
              "0     7147  Subscriber   Male  ...       12.7       -9999.0  mostlycloudy\n",
              "1     7524  Subscriber   Male  ...        6.9       -9999.0  partlycloudy\n",
              "2    10927  Subscriber   Male  ...       16.1       -9999.0  mostlycloudy\n",
              "\n",
              "[3 rows x 19 columns]"
            ]
          },
          "metadata": {
            "tags": []
          },
          "execution_count": 48
        }
      ]
    },
    {
      "cell_type": "markdown",
      "metadata": {
        "id": "_5CNnQSf5wDd"
      },
      "source": [
        "### Exercise 1\n",
        "\n",
        "<span  style=\"color:green; font-size:16px\">Find all the rides with temperature below 0.</span>"
      ]
    },
    {
      "cell_type": "code",
      "metadata": {
        "id": "XH9sHR-H5wDf",
        "colab": {
          "base_uri": "https://localhost:8080/"
        },
        "outputId": "3748d774-e8a8-4a02-ba68-72ceb2216386"
      },
      "source": [
        "filt = bikes['temperature'] < 0\n",
        "bikes[filt].head(3)"
      ],
      "execution_count": null,
      "outputs": [
        {
          "output_type": "execute_result",
          "data": {
            "text/html": [
              "<div>\n",
              "<style scoped>\n",
              "    .dataframe tbody tr th:only-of-type {\n",
              "        vertical-align: middle;\n",
              "    }\n",
              "\n",
              "    .dataframe tbody tr th {\n",
              "        vertical-align: top;\n",
              "    }\n",
              "\n",
              "    .dataframe thead th {\n",
              "        text-align: right;\n",
              "    }\n",
              "</style>\n",
              "<table border=\"1\" class=\"dataframe\">\n",
              "  <thead>\n",
              "    <tr style=\"text-align: right;\">\n",
              "      <th></th>\n",
              "      <th>trip_id</th>\n",
              "      <th>usertype</th>\n",
              "      <th>gender</th>\n",
              "      <th>starttime</th>\n",
              "      <th>stoptime</th>\n",
              "      <th>tripduration</th>\n",
              "      <th>from_station_name</th>\n",
              "      <th>latitude_start</th>\n",
              "      <th>longitude_start</th>\n",
              "      <th>dpcapacity_start</th>\n",
              "      <th>to_station_name</th>\n",
              "      <th>latitude_end</th>\n",
              "      <th>longitude_end</th>\n",
              "      <th>dpcapacity_end</th>\n",
              "      <th>temperature</th>\n",
              "      <th>visibility</th>\n",
              "      <th>wind_speed</th>\n",
              "      <th>precipitation</th>\n",
              "      <th>events</th>\n",
              "    </tr>\n",
              "  </thead>\n",
              "  <tbody>\n",
              "    <tr>\n",
              "      <th>1871</th>\n",
              "      <td>1071512</td>\n",
              "      <td>Subscriber</td>\n",
              "      <td>Male</td>\n",
              "      <td>2013-12-12 05:13:00</td>\n",
              "      <td>2013-12-12 05:27:00</td>\n",
              "      <td>878</td>\n",
              "      <td>California Ave &amp; North Ave</td>\n",
              "      <td>41.910440</td>\n",
              "      <td>-87.697200</td>\n",
              "      <td>11.0</td>\n",
              "      <td>Carpenter St &amp; Huron St</td>\n",
              "      <td>41.894556</td>\n",
              "      <td>-87.653449</td>\n",
              "      <td>19.0</td>\n",
              "      <td>-2.0</td>\n",
              "      <td>10.0</td>\n",
              "      <td>6.9</td>\n",
              "      <td>-9999.0</td>\n",
              "      <td>mostlycloudy</td>\n",
              "    </tr>\n",
              "    <tr>\n",
              "      <th>2049</th>\n",
              "      <td>1142687</td>\n",
              "      <td>Subscriber</td>\n",
              "      <td>Female</td>\n",
              "      <td>2014-01-23 06:15:00</td>\n",
              "      <td>2014-01-23 06:29:00</td>\n",
              "      <td>828</td>\n",
              "      <td>Stave St &amp; Armitage Ave</td>\n",
              "      <td>41.917741</td>\n",
              "      <td>-87.691392</td>\n",
              "      <td>11.0</td>\n",
              "      <td>Ashland Ave &amp; Division St</td>\n",
              "      <td>41.903448</td>\n",
              "      <td>-87.669313</td>\n",
              "      <td>19.0</td>\n",
              "      <td>-2.0</td>\n",
              "      <td>10.0</td>\n",
              "      <td>16.1</td>\n",
              "      <td>-9999.0</td>\n",
              "      <td>partlycloudy</td>\n",
              "    </tr>\n",
              "    <tr>\n",
              "      <th>2054</th>\n",
              "      <td>1144341</td>\n",
              "      <td>Subscriber</td>\n",
              "      <td>Male</td>\n",
              "      <td>2014-01-23 21:15:00</td>\n",
              "      <td>2014-01-23 21:21:00</td>\n",
              "      <td>351</td>\n",
              "      <td>LaSalle St &amp; Illinois St</td>\n",
              "      <td>41.890749</td>\n",
              "      <td>-87.632060</td>\n",
              "      <td>31.0</td>\n",
              "      <td>McClurg Ct &amp; Illinois St</td>\n",
              "      <td>41.891020</td>\n",
              "      <td>-87.617300</td>\n",
              "      <td>31.0</td>\n",
              "      <td>-0.9</td>\n",
              "      <td>10.0</td>\n",
              "      <td>12.7</td>\n",
              "      <td>-9999.0</td>\n",
              "      <td>clear</td>\n",
              "    </tr>\n",
              "  </tbody>\n",
              "</table>\n",
              "</div>"
            ],
            "text/plain": [
              "      trip_id    usertype  gender  ... wind_speed precipitation        events\n",
              "1871  1071512  Subscriber    Male  ...        6.9       -9999.0  mostlycloudy\n",
              "2049  1142687  Subscriber  Female  ...       16.1       -9999.0  partlycloudy\n",
              "2054  1144341  Subscriber    Male  ...       12.7       -9999.0         clear\n",
              "\n",
              "[3 rows x 19 columns]"
            ]
          },
          "metadata": {
            "tags": []
          },
          "execution_count": 49
        }
      ]
    },
    {
      "cell_type": "markdown",
      "metadata": {
        "id": "XxEHKnnk5wDh"
      },
      "source": [
        "### Exercise 2\n",
        "\n",
        "<span  style=\"color:green; font-size:16px\">Find all the rides with wind speed greater than 30.</span>"
      ]
    },
    {
      "cell_type": "code",
      "metadata": {
        "id": "-MN5YFQp5wDi",
        "colab": {
          "base_uri": "https://localhost:8080/"
        },
        "outputId": "6570e76d-0488-4c0e-ba9d-0fcdc55382bb"
      },
      "source": [
        "filt = bikes['wind_speed'] > 30\n",
        "bikes[filt].head(3)"
      ],
      "execution_count": null,
      "outputs": [
        {
          "output_type": "execute_result",
          "data": {
            "text/html": [
              "<div>\n",
              "<style scoped>\n",
              "    .dataframe tbody tr th:only-of-type {\n",
              "        vertical-align: middle;\n",
              "    }\n",
              "\n",
              "    .dataframe tbody tr th {\n",
              "        vertical-align: top;\n",
              "    }\n",
              "\n",
              "    .dataframe thead th {\n",
              "        text-align: right;\n",
              "    }\n",
              "</style>\n",
              "<table border=\"1\" class=\"dataframe\">\n",
              "  <thead>\n",
              "    <tr style=\"text-align: right;\">\n",
              "      <th></th>\n",
              "      <th>trip_id</th>\n",
              "      <th>usertype</th>\n",
              "      <th>gender</th>\n",
              "      <th>starttime</th>\n",
              "      <th>stoptime</th>\n",
              "      <th>tripduration</th>\n",
              "      <th>from_station_name</th>\n",
              "      <th>latitude_start</th>\n",
              "      <th>longitude_start</th>\n",
              "      <th>dpcapacity_start</th>\n",
              "      <th>to_station_name</th>\n",
              "      <th>latitude_end</th>\n",
              "      <th>longitude_end</th>\n",
              "      <th>dpcapacity_end</th>\n",
              "      <th>temperature</th>\n",
              "      <th>visibility</th>\n",
              "      <th>wind_speed</th>\n",
              "      <th>precipitation</th>\n",
              "      <th>events</th>\n",
              "    </tr>\n",
              "  </thead>\n",
              "  <tbody>\n",
              "    <tr>\n",
              "      <th>2164</th>\n",
              "      <td>1193566</td>\n",
              "      <td>Subscriber</td>\n",
              "      <td>Male</td>\n",
              "      <td>2014-02-20 19:06:00</td>\n",
              "      <td>2014-02-20 19:07:00</td>\n",
              "      <td>66</td>\n",
              "      <td>Pine Grove Ave &amp; Waveland Ave</td>\n",
              "      <td>41.949275</td>\n",
              "      <td>-87.646303</td>\n",
              "      <td>23.0</td>\n",
              "      <td>Pine Grove Ave &amp; Waveland Ave</td>\n",
              "      <td>41.949275</td>\n",
              "      <td>-87.646303</td>\n",
              "      <td>23.0</td>\n",
              "      <td>46.9</td>\n",
              "      <td>10.0</td>\n",
              "      <td>31.1</td>\n",
              "      <td>-9999.0</td>\n",
              "      <td>mostlycloudy</td>\n",
              "    </tr>\n",
              "    <tr>\n",
              "      <th>2165</th>\n",
              "      <td>1193760</td>\n",
              "      <td>Subscriber</td>\n",
              "      <td>Male</td>\n",
              "      <td>2014-02-20 20:47:00</td>\n",
              "      <td>2014-02-20 21:14:00</td>\n",
              "      <td>1605</td>\n",
              "      <td>Millennium Park</td>\n",
              "      <td>41.881032</td>\n",
              "      <td>-87.624084</td>\n",
              "      <td>35.0</td>\n",
              "      <td>Clark St &amp; Wrightwood Ave</td>\n",
              "      <td>41.929546</td>\n",
              "      <td>-87.643118</td>\n",
              "      <td>15.0</td>\n",
              "      <td>39.0</td>\n",
              "      <td>10.0</td>\n",
              "      <td>35.7</td>\n",
              "      <td>-9999.0</td>\n",
              "      <td>cloudy</td>\n",
              "    </tr>\n",
              "    <tr>\n",
              "      <th>2479</th>\n",
              "      <td>1320861</td>\n",
              "      <td>Subscriber</td>\n",
              "      <td>Male</td>\n",
              "      <td>2014-04-01 08:28:00</td>\n",
              "      <td>2014-04-01 08:29:00</td>\n",
              "      <td>82</td>\n",
              "      <td>Desplaines St &amp; Kinzie St</td>\n",
              "      <td>41.888716</td>\n",
              "      <td>-87.644448</td>\n",
              "      <td>19.0</td>\n",
              "      <td>Desplaines St &amp; Kinzie St</td>\n",
              "      <td>41.888716</td>\n",
              "      <td>-87.644448</td>\n",
              "      <td>19.0</td>\n",
              "      <td>33.1</td>\n",
              "      <td>10.0</td>\n",
              "      <td>31.1</td>\n",
              "      <td>-9999.0</td>\n",
              "      <td>mostlycloudy</td>\n",
              "    </tr>\n",
              "  </tbody>\n",
              "</table>\n",
              "</div>"
            ],
            "text/plain": [
              "      trip_id    usertype gender  ... wind_speed precipitation        events\n",
              "2164  1193566  Subscriber   Male  ...       31.1       -9999.0  mostlycloudy\n",
              "2165  1193760  Subscriber   Male  ...       35.7       -9999.0        cloudy\n",
              "2479  1320861  Subscriber   Male  ...       31.1       -9999.0  mostlycloudy\n",
              "\n",
              "[3 rows x 19 columns]"
            ]
          },
          "metadata": {
            "tags": []
          },
          "execution_count": 50
        }
      ]
    },
    {
      "cell_type": "markdown",
      "metadata": {
        "id": "SiEr0qjR5wDk"
      },
      "source": [
        "### Exercise 3\n",
        "\n",
        "<span  style=\"color:green; font-size:16px\">Find all the rides that began from station Millennium Park.</span>"
      ]
    },
    {
      "cell_type": "code",
      "metadata": {
        "id": "m6acNjZs5wDk",
        "colab": {
          "base_uri": "https://localhost:8080/"
        },
        "outputId": "2ade3850-fd61-4f3d-c5f1-c0d96eb2fd81"
      },
      "source": [
        "bikes['from_station_name'] == 'Millennium Park'\n",
        "bikes[filt].head(3)"
      ],
      "execution_count": null,
      "outputs": [
        {
          "output_type": "execute_result",
          "data": {
            "text/html": [
              "<div>\n",
              "<style scoped>\n",
              "    .dataframe tbody tr th:only-of-type {\n",
              "        vertical-align: middle;\n",
              "    }\n",
              "\n",
              "    .dataframe tbody tr th {\n",
              "        vertical-align: top;\n",
              "    }\n",
              "\n",
              "    .dataframe thead th {\n",
              "        text-align: right;\n",
              "    }\n",
              "</style>\n",
              "<table border=\"1\" class=\"dataframe\">\n",
              "  <thead>\n",
              "    <tr style=\"text-align: right;\">\n",
              "      <th></th>\n",
              "      <th>trip_id</th>\n",
              "      <th>usertype</th>\n",
              "      <th>gender</th>\n",
              "      <th>starttime</th>\n",
              "      <th>stoptime</th>\n",
              "      <th>tripduration</th>\n",
              "      <th>from_station_name</th>\n",
              "      <th>latitude_start</th>\n",
              "      <th>longitude_start</th>\n",
              "      <th>dpcapacity_start</th>\n",
              "      <th>to_station_name</th>\n",
              "      <th>latitude_end</th>\n",
              "      <th>longitude_end</th>\n",
              "      <th>dpcapacity_end</th>\n",
              "      <th>temperature</th>\n",
              "      <th>visibility</th>\n",
              "      <th>wind_speed</th>\n",
              "      <th>precipitation</th>\n",
              "      <th>events</th>\n",
              "    </tr>\n",
              "  </thead>\n",
              "  <tbody>\n",
              "    <tr>\n",
              "      <th>2164</th>\n",
              "      <td>1193566</td>\n",
              "      <td>Subscriber</td>\n",
              "      <td>Male</td>\n",
              "      <td>2014-02-20 19:06:00</td>\n",
              "      <td>2014-02-20 19:07:00</td>\n",
              "      <td>66</td>\n",
              "      <td>Pine Grove Ave &amp; Waveland Ave</td>\n",
              "      <td>41.949275</td>\n",
              "      <td>-87.646303</td>\n",
              "      <td>23.0</td>\n",
              "      <td>Pine Grove Ave &amp; Waveland Ave</td>\n",
              "      <td>41.949275</td>\n",
              "      <td>-87.646303</td>\n",
              "      <td>23.0</td>\n",
              "      <td>46.9</td>\n",
              "      <td>10.0</td>\n",
              "      <td>31.1</td>\n",
              "      <td>-9999.0</td>\n",
              "      <td>mostlycloudy</td>\n",
              "    </tr>\n",
              "    <tr>\n",
              "      <th>2165</th>\n",
              "      <td>1193760</td>\n",
              "      <td>Subscriber</td>\n",
              "      <td>Male</td>\n",
              "      <td>2014-02-20 20:47:00</td>\n",
              "      <td>2014-02-20 21:14:00</td>\n",
              "      <td>1605</td>\n",
              "      <td>Millennium Park</td>\n",
              "      <td>41.881032</td>\n",
              "      <td>-87.624084</td>\n",
              "      <td>35.0</td>\n",
              "      <td>Clark St &amp; Wrightwood Ave</td>\n",
              "      <td>41.929546</td>\n",
              "      <td>-87.643118</td>\n",
              "      <td>15.0</td>\n",
              "      <td>39.0</td>\n",
              "      <td>10.0</td>\n",
              "      <td>35.7</td>\n",
              "      <td>-9999.0</td>\n",
              "      <td>cloudy</td>\n",
              "    </tr>\n",
              "    <tr>\n",
              "      <th>2479</th>\n",
              "      <td>1320861</td>\n",
              "      <td>Subscriber</td>\n",
              "      <td>Male</td>\n",
              "      <td>2014-04-01 08:28:00</td>\n",
              "      <td>2014-04-01 08:29:00</td>\n",
              "      <td>82</td>\n",
              "      <td>Desplaines St &amp; Kinzie St</td>\n",
              "      <td>41.888716</td>\n",
              "      <td>-87.644448</td>\n",
              "      <td>19.0</td>\n",
              "      <td>Desplaines St &amp; Kinzie St</td>\n",
              "      <td>41.888716</td>\n",
              "      <td>-87.644448</td>\n",
              "      <td>19.0</td>\n",
              "      <td>33.1</td>\n",
              "      <td>10.0</td>\n",
              "      <td>31.1</td>\n",
              "      <td>-9999.0</td>\n",
              "      <td>mostlycloudy</td>\n",
              "    </tr>\n",
              "  </tbody>\n",
              "</table>\n",
              "</div>"
            ],
            "text/plain": [
              "      trip_id    usertype gender  ... wind_speed precipitation        events\n",
              "2164  1193566  Subscriber   Male  ...       31.1       -9999.0  mostlycloudy\n",
              "2165  1193760  Subscriber   Male  ...       35.7       -9999.0        cloudy\n",
              "2479  1320861  Subscriber   Male  ...       31.1       -9999.0  mostlycloudy\n",
              "\n",
              "[3 rows x 19 columns]"
            ]
          },
          "metadata": {
            "tags": []
          },
          "execution_count": 51
        }
      ]
    },
    {
      "cell_type": "markdown",
      "metadata": {
        "id": "KwtLH_695wDm"
      },
      "source": [
        "### Exercise 4\n",
        "\n",
        "<span  style=\"color:green; font-size:16px\">Find all the rides with wind speed less than 0. How is this possible?</span>"
      ]
    },
    {
      "cell_type": "code",
      "metadata": {
        "id": "8gFkvsin5wDu",
        "colab": {
          "base_uri": "https://localhost:8080/"
        },
        "outputId": "4653344b-21c0-4f93-fd62-be2079c4664e"
      },
      "source": [
        "# these are likely missing values. \n",
        "# The dataset uses -9999 to represent missing values\n",
        "filt = bikes['wind_speed'] < 0\n",
        "bikes[filt].head(3)"
      ],
      "execution_count": null,
      "outputs": [
        {
          "output_type": "execute_result",
          "data": {
            "text/html": [
              "<div>\n",
              "<style scoped>\n",
              "    .dataframe tbody tr th:only-of-type {\n",
              "        vertical-align: middle;\n",
              "    }\n",
              "\n",
              "    .dataframe tbody tr th {\n",
              "        vertical-align: top;\n",
              "    }\n",
              "\n",
              "    .dataframe thead th {\n",
              "        text-align: right;\n",
              "    }\n",
              "</style>\n",
              "<table border=\"1\" class=\"dataframe\">\n",
              "  <thead>\n",
              "    <tr style=\"text-align: right;\">\n",
              "      <th></th>\n",
              "      <th>trip_id</th>\n",
              "      <th>usertype</th>\n",
              "      <th>gender</th>\n",
              "      <th>starttime</th>\n",
              "      <th>stoptime</th>\n",
              "      <th>tripduration</th>\n",
              "      <th>from_station_name</th>\n",
              "      <th>latitude_start</th>\n",
              "      <th>longitude_start</th>\n",
              "      <th>dpcapacity_start</th>\n",
              "      <th>to_station_name</th>\n",
              "      <th>latitude_end</th>\n",
              "      <th>longitude_end</th>\n",
              "      <th>dpcapacity_end</th>\n",
              "      <th>temperature</th>\n",
              "      <th>visibility</th>\n",
              "      <th>wind_speed</th>\n",
              "      <th>precipitation</th>\n",
              "      <th>events</th>\n",
              "    </tr>\n",
              "  </thead>\n",
              "  <tbody>\n",
              "    <tr>\n",
              "      <th>22990</th>\n",
              "      <td>8976097</td>\n",
              "      <td>Subscriber</td>\n",
              "      <td>Male</td>\n",
              "      <td>2016-03-19 10:08:00</td>\n",
              "      <td>2016-03-19 10:20:00</td>\n",
              "      <td>702</td>\n",
              "      <td>Wood St &amp; Division St</td>\n",
              "      <td>41.903320</td>\n",
              "      <td>-87.672730</td>\n",
              "      <td>15.0</td>\n",
              "      <td>Campbell Ave &amp; Fullerton Ave</td>\n",
              "      <td>41.924632</td>\n",
              "      <td>-87.689307</td>\n",
              "      <td>15.0</td>\n",
              "      <td>42.8</td>\n",
              "      <td>10.0</td>\n",
              "      <td>-9999.0</td>\n",
              "      <td>-9999.00</td>\n",
              "      <td>mostlycloudy</td>\n",
              "    </tr>\n",
              "    <tr>\n",
              "      <th>27168</th>\n",
              "      <td>10412628</td>\n",
              "      <td>Subscriber</td>\n",
              "      <td>Female</td>\n",
              "      <td>2016-06-30 11:47:00</td>\n",
              "      <td>2016-06-30 11:51:00</td>\n",
              "      <td>240</td>\n",
              "      <td>Kimball Ave &amp; Belmont Ave</td>\n",
              "      <td>41.939398</td>\n",
              "      <td>-87.711561</td>\n",
              "      <td>23.0</td>\n",
              "      <td>Avers Ave &amp; Belmont Ave</td>\n",
              "      <td>41.939448</td>\n",
              "      <td>-87.723554</td>\n",
              "      <td>19.0</td>\n",
              "      <td>-9999.0</td>\n",
              "      <td>-9999.0</td>\n",
              "      <td>-9999.0</td>\n",
              "      <td>-9999.00</td>\n",
              "      <td>unknown</td>\n",
              "    </tr>\n",
              "    <tr>\n",
              "      <th>28368</th>\n",
              "      <td>10863258</td>\n",
              "      <td>Subscriber</td>\n",
              "      <td>Female</td>\n",
              "      <td>2016-07-21 21:02:29</td>\n",
              "      <td>2016-07-21 21:20:28</td>\n",
              "      <td>1079</td>\n",
              "      <td>Sedgwick St &amp; North Ave</td>\n",
              "      <td>41.911386</td>\n",
              "      <td>-87.638677</td>\n",
              "      <td>19.0</td>\n",
              "      <td>Ashland Ave &amp; Division St</td>\n",
              "      <td>41.903450</td>\n",
              "      <td>-87.667747</td>\n",
              "      <td>19.0</td>\n",
              "      <td>73.0</td>\n",
              "      <td>1.0</td>\n",
              "      <td>-9999.0</td>\n",
              "      <td>0.39</td>\n",
              "      <td>tstorms</td>\n",
              "    </tr>\n",
              "  </tbody>\n",
              "</table>\n",
              "</div>"
            ],
            "text/plain": [
              "        trip_id    usertype  gender  ... wind_speed precipitation        events\n",
              "22990   8976097  Subscriber    Male  ...    -9999.0      -9999.00  mostlycloudy\n",
              "27168  10412628  Subscriber  Female  ...    -9999.0      -9999.00       unknown\n",
              "28368  10863258  Subscriber  Female  ...    -9999.0          0.39       tstorms\n",
              "\n",
              "[3 rows x 19 columns]"
            ]
          },
          "metadata": {
            "tags": []
          },
          "execution_count": 52
        }
      ]
    },
    {
      "cell_type": "markdown",
      "metadata": {
        "id": "Vufk238v5wDw"
      },
      "source": [
        "### Exercise 5\n",
        "\n",
        "<span  style=\"color:green; font-size:16px\">Find all the rides where the starting number of bikes at the station (dpcapacity_start) was more than 50.</span>"
      ]
    },
    {
      "cell_type": "code",
      "metadata": {
        "id": "9qAWF6TL5wDx",
        "colab": {
          "base_uri": "https://localhost:8080/"
        },
        "outputId": "38086a9c-f641-4ab5-91a6-b181259fa305"
      },
      "source": [
        "filt = bikes['dpcapacity_start'] > 50\n",
        "bikes[filt].head()"
      ],
      "execution_count": null,
      "outputs": [
        {
          "output_type": "execute_result",
          "data": {
            "text/html": [
              "<div>\n",
              "<style scoped>\n",
              "    .dataframe tbody tr th:only-of-type {\n",
              "        vertical-align: middle;\n",
              "    }\n",
              "\n",
              "    .dataframe tbody tr th {\n",
              "        vertical-align: top;\n",
              "    }\n",
              "\n",
              "    .dataframe thead th {\n",
              "        text-align: right;\n",
              "    }\n",
              "</style>\n",
              "<table border=\"1\" class=\"dataframe\">\n",
              "  <thead>\n",
              "    <tr style=\"text-align: right;\">\n",
              "      <th></th>\n",
              "      <th>trip_id</th>\n",
              "      <th>usertype</th>\n",
              "      <th>gender</th>\n",
              "      <th>starttime</th>\n",
              "      <th>stoptime</th>\n",
              "      <th>tripduration</th>\n",
              "      <th>from_station_name</th>\n",
              "      <th>latitude_start</th>\n",
              "      <th>longitude_start</th>\n",
              "      <th>dpcapacity_start</th>\n",
              "      <th>to_station_name</th>\n",
              "      <th>latitude_end</th>\n",
              "      <th>longitude_end</th>\n",
              "      <th>dpcapacity_end</th>\n",
              "      <th>temperature</th>\n",
              "      <th>visibility</th>\n",
              "      <th>wind_speed</th>\n",
              "      <th>precipitation</th>\n",
              "      <th>events</th>\n",
              "    </tr>\n",
              "  </thead>\n",
              "  <tbody>\n",
              "    <tr>\n",
              "      <th>36122</th>\n",
              "      <td>13228203</td>\n",
              "      <td>Subscriber</td>\n",
              "      <td>Male</td>\n",
              "      <td>2017-02-17 17:00:36</td>\n",
              "      <td>2017-02-17 17:23:27</td>\n",
              "      <td>1371</td>\n",
              "      <td>Field Museum</td>\n",
              "      <td>41.865312</td>\n",
              "      <td>-87.617867</td>\n",
              "      <td>51.0</td>\n",
              "      <td>Lake Shore Dr &amp; North Blvd</td>\n",
              "      <td>41.911722</td>\n",
              "      <td>-87.626804</td>\n",
              "      <td>39.0</td>\n",
              "      <td>63.0</td>\n",
              "      <td>10.0</td>\n",
              "      <td>10.4</td>\n",
              "      <td>-9999.0</td>\n",
              "      <td>partlycloudy</td>\n",
              "    </tr>\n",
              "    <tr>\n",
              "      <th>37617</th>\n",
              "      <td>13648506</td>\n",
              "      <td>Subscriber</td>\n",
              "      <td>Male</td>\n",
              "      <td>2017-04-14 18:44:47</td>\n",
              "      <td>2017-04-14 19:00:53</td>\n",
              "      <td>966</td>\n",
              "      <td>Field Museum</td>\n",
              "      <td>41.865312</td>\n",
              "      <td>-87.617867</td>\n",
              "      <td>51.0</td>\n",
              "      <td>Burnham Harbor</td>\n",
              "      <td>41.856268</td>\n",
              "      <td>-87.613348</td>\n",
              "      <td>23.0</td>\n",
              "      <td>63.0</td>\n",
              "      <td>10.0</td>\n",
              "      <td>4.6</td>\n",
              "      <td>-9999.0</td>\n",
              "      <td>cloudy</td>\n",
              "    </tr>\n",
              "    <tr>\n",
              "      <th>37920</th>\n",
              "      <td>13750060</td>\n",
              "      <td>Subscriber</td>\n",
              "      <td>Male</td>\n",
              "      <td>2017-04-22 12:28:51</td>\n",
              "      <td>2017-04-22 12:44:14</td>\n",
              "      <td>923</td>\n",
              "      <td>Field Museum</td>\n",
              "      <td>41.865312</td>\n",
              "      <td>-87.617867</td>\n",
              "      <td>51.0</td>\n",
              "      <td>Indiana Ave &amp; Roosevelt Rd</td>\n",
              "      <td>41.867888</td>\n",
              "      <td>-87.623041</td>\n",
              "      <td>39.0</td>\n",
              "      <td>55.9</td>\n",
              "      <td>10.0</td>\n",
              "      <td>12.7</td>\n",
              "      <td>-9999.0</td>\n",
              "      <td>mostlycloudy</td>\n",
              "    </tr>\n",
              "    <tr>\n",
              "      <th>37940</th>\n",
              "      <td>13754184</td>\n",
              "      <td>Subscriber</td>\n",
              "      <td>Female</td>\n",
              "      <td>2017-04-22 17:12:55</td>\n",
              "      <td>2017-04-22 17:23:44</td>\n",
              "      <td>649</td>\n",
              "      <td>Field Museum</td>\n",
              "      <td>41.865312</td>\n",
              "      <td>-87.617867</td>\n",
              "      <td>51.0</td>\n",
              "      <td>Wabash Ave &amp; Roosevelt Rd</td>\n",
              "      <td>41.867227</td>\n",
              "      <td>-87.625961</td>\n",
              "      <td>23.0</td>\n",
              "      <td>57.9</td>\n",
              "      <td>10.0</td>\n",
              "      <td>12.7</td>\n",
              "      <td>-9999.0</td>\n",
              "      <td>partlycloudy</td>\n",
              "    </tr>\n",
              "    <tr>\n",
              "      <th>39102</th>\n",
              "      <td>14106813</td>\n",
              "      <td>Subscriber</td>\n",
              "      <td>Male</td>\n",
              "      <td>2017-05-21 20:40:10</td>\n",
              "      <td>2017-05-21 20:51:29</td>\n",
              "      <td>679</td>\n",
              "      <td>Field Museum</td>\n",
              "      <td>41.865312</td>\n",
              "      <td>-87.617867</td>\n",
              "      <td>51.0</td>\n",
              "      <td>Buckingham Fountain</td>\n",
              "      <td>41.881060</td>\n",
              "      <td>-87.619486</td>\n",
              "      <td>27.0</td>\n",
              "      <td>51.1</td>\n",
              "      <td>10.0</td>\n",
              "      <td>12.7</td>\n",
              "      <td>-9999.0</td>\n",
              "      <td>cloudy</td>\n",
              "    </tr>\n",
              "  </tbody>\n",
              "</table>\n",
              "</div>"
            ],
            "text/plain": [
              "        trip_id    usertype  gender  ... wind_speed precipitation        events\n",
              "36122  13228203  Subscriber    Male  ...       10.4       -9999.0  partlycloudy\n",
              "37617  13648506  Subscriber    Male  ...        4.6       -9999.0        cloudy\n",
              "37920  13750060  Subscriber    Male  ...       12.7       -9999.0  mostlycloudy\n",
              "37940  13754184  Subscriber  Female  ...       12.7       -9999.0  partlycloudy\n",
              "39102  14106813  Subscriber    Male  ...       12.7       -9999.0        cloudy\n",
              "\n",
              "[5 rows x 19 columns]"
            ]
          },
          "metadata": {
            "tags": []
          },
          "execution_count": 53
        }
      ]
    },
    {
      "cell_type": "markdown",
      "metadata": {
        "id": "7MVbjdrG5wDy"
      },
      "source": [
        "### Exercise 6\n",
        "\n",
        "<span  style=\"color:green; font-size:16px\">Did any rides happen in temperature over 100 degrees.</span>"
      ]
    },
    {
      "cell_type": "code",
      "metadata": {
        "id": "kbg6IvqS5wDz",
        "colab": {
          "base_uri": "https://localhost:8080/",
          "height": 69
        },
        "outputId": "6d368ed5-3053-43dc-b706-54d44be7c457"
      },
      "source": [
        "# no, a dataframe with no rows is returned.\n",
        "filt = bikes['temperature'] > 100\n",
        "bikes[filt]"
      ],
      "execution_count": null,
      "outputs": [
        {
          "output_type": "execute_result",
          "data": {
            "text/html": [
              "<div>\n",
              "<style scoped>\n",
              "    .dataframe tbody tr th:only-of-type {\n",
              "        vertical-align: middle;\n",
              "    }\n",
              "\n",
              "    .dataframe tbody tr th {\n",
              "        vertical-align: top;\n",
              "    }\n",
              "\n",
              "    .dataframe thead th {\n",
              "        text-align: right;\n",
              "    }\n",
              "</style>\n",
              "<table border=\"1\" class=\"dataframe\">\n",
              "  <thead>\n",
              "    <tr style=\"text-align: right;\">\n",
              "      <th></th>\n",
              "      <th>trip_id</th>\n",
              "      <th>usertype</th>\n",
              "      <th>gender</th>\n",
              "      <th>starttime</th>\n",
              "      <th>stoptime</th>\n",
              "      <th>tripduration</th>\n",
              "      <th>from_station_name</th>\n",
              "      <th>latitude_start</th>\n",
              "      <th>longitude_start</th>\n",
              "      <th>dpcapacity_start</th>\n",
              "      <th>to_station_name</th>\n",
              "      <th>latitude_end</th>\n",
              "      <th>longitude_end</th>\n",
              "      <th>dpcapacity_end</th>\n",
              "      <th>temperature</th>\n",
              "      <th>visibility</th>\n",
              "      <th>wind_speed</th>\n",
              "      <th>precipitation</th>\n",
              "      <th>events</th>\n",
              "    </tr>\n",
              "  </thead>\n",
              "  <tbody>\n",
              "  </tbody>\n",
              "</table>\n",
              "</div>"
            ],
            "text/plain": [
              "Empty DataFrame\n",
              "Columns: [trip_id, usertype, gender, starttime, stoptime, tripduration, from_station_name, latitude_start, longitude_start, dpcapacity_start, to_station_name, latitude_end, longitude_end, dpcapacity_end, temperature, visibility, wind_speed, precipitation, events]\n",
              "Index: []"
            ]
          },
          "metadata": {
            "tags": []
          },
          "execution_count": 54
        }
      ]
    },
    {
      "cell_type": "markdown",
      "metadata": {
        "id": "BpYgqVfs5wD0"
      },
      "source": [
        "Read in the movie dataset by executing the cell below and use it for the following exercises."
      ]
    },
    {
      "cell_type": "code",
      "metadata": {
        "id": "zJJqSivK5wD1",
        "colab": {
          "base_uri": "https://localhost:8080/",
          "height": 316
        },
        "outputId": "48221860-7f9f-4895-ffdf-f6811fda4c26"
      },
      "source": [
        "import pandas as pd\n",
        "movie = pd.read_csv('Pandas/movie.csv', index_col='title')\n",
        "movie.head(3)"
      ],
      "execution_count": null,
      "outputs": [
        {
          "output_type": "execute_result",
          "data": {
            "text/html": [
              "<div>\n",
              "<style scoped>\n",
              "    .dataframe tbody tr th:only-of-type {\n",
              "        vertical-align: middle;\n",
              "    }\n",
              "\n",
              "    .dataframe tbody tr th {\n",
              "        vertical-align: top;\n",
              "    }\n",
              "\n",
              "    .dataframe thead th {\n",
              "        text-align: right;\n",
              "    }\n",
              "</style>\n",
              "<table border=\"1\" class=\"dataframe\">\n",
              "  <thead>\n",
              "    <tr style=\"text-align: right;\">\n",
              "      <th></th>\n",
              "      <th>year</th>\n",
              "      <th>color</th>\n",
              "      <th>content_rating</th>\n",
              "      <th>duration</th>\n",
              "      <th>director_name</th>\n",
              "      <th>director_fb</th>\n",
              "      <th>actor1</th>\n",
              "      <th>actor1_fb</th>\n",
              "      <th>actor2</th>\n",
              "      <th>actor2_fb</th>\n",
              "      <th>actor3</th>\n",
              "      <th>actor3_fb</th>\n",
              "      <th>gross</th>\n",
              "      <th>genres</th>\n",
              "      <th>num_reviews</th>\n",
              "      <th>num_voted_users</th>\n",
              "      <th>plot_keywords</th>\n",
              "      <th>language</th>\n",
              "      <th>country</th>\n",
              "      <th>budget</th>\n",
              "      <th>imdb_score</th>\n",
              "    </tr>\n",
              "    <tr>\n",
              "      <th>title</th>\n",
              "      <th></th>\n",
              "      <th></th>\n",
              "      <th></th>\n",
              "      <th></th>\n",
              "      <th></th>\n",
              "      <th></th>\n",
              "      <th></th>\n",
              "      <th></th>\n",
              "      <th></th>\n",
              "      <th></th>\n",
              "      <th></th>\n",
              "      <th></th>\n",
              "      <th></th>\n",
              "      <th></th>\n",
              "      <th></th>\n",
              "      <th></th>\n",
              "      <th></th>\n",
              "      <th></th>\n",
              "      <th></th>\n",
              "      <th></th>\n",
              "      <th></th>\n",
              "    </tr>\n",
              "  </thead>\n",
              "  <tbody>\n",
              "    <tr>\n",
              "      <th>Avatar</th>\n",
              "      <td>2009.0</td>\n",
              "      <td>Color</td>\n",
              "      <td>PG-13</td>\n",
              "      <td>178.0</td>\n",
              "      <td>James Cameron</td>\n",
              "      <td>0.0</td>\n",
              "      <td>CCH Pounder</td>\n",
              "      <td>1000.0</td>\n",
              "      <td>Joel David Moore</td>\n",
              "      <td>936.0</td>\n",
              "      <td>Wes Studi</td>\n",
              "      <td>855.0</td>\n",
              "      <td>760505847.0</td>\n",
              "      <td>Action|Adventure|Fantasy|Sci-Fi</td>\n",
              "      <td>723.0</td>\n",
              "      <td>886204</td>\n",
              "      <td>avatar|future|marine|native|paraplegic</td>\n",
              "      <td>English</td>\n",
              "      <td>USA</td>\n",
              "      <td>237000000.0</td>\n",
              "      <td>7.9</td>\n",
              "    </tr>\n",
              "    <tr>\n",
              "      <th>Pirates of the Caribbean: At World's End</th>\n",
              "      <td>2007.0</td>\n",
              "      <td>Color</td>\n",
              "      <td>PG-13</td>\n",
              "      <td>169.0</td>\n",
              "      <td>Gore Verbinski</td>\n",
              "      <td>563.0</td>\n",
              "      <td>Johnny Depp</td>\n",
              "      <td>40000.0</td>\n",
              "      <td>Orlando Bloom</td>\n",
              "      <td>5000.0</td>\n",
              "      <td>Jack Davenport</td>\n",
              "      <td>1000.0</td>\n",
              "      <td>309404152.0</td>\n",
              "      <td>Action|Adventure|Fantasy</td>\n",
              "      <td>302.0</td>\n",
              "      <td>471220</td>\n",
              "      <td>goddess|marriage ceremony|marriage proposal|pi...</td>\n",
              "      <td>English</td>\n",
              "      <td>USA</td>\n",
              "      <td>300000000.0</td>\n",
              "      <td>7.1</td>\n",
              "    </tr>\n",
              "    <tr>\n",
              "      <th>Spectre</th>\n",
              "      <td>2015.0</td>\n",
              "      <td>Color</td>\n",
              "      <td>PG-13</td>\n",
              "      <td>148.0</td>\n",
              "      <td>Sam Mendes</td>\n",
              "      <td>0.0</td>\n",
              "      <td>Christoph Waltz</td>\n",
              "      <td>11000.0</td>\n",
              "      <td>Rory Kinnear</td>\n",
              "      <td>393.0</td>\n",
              "      <td>Stephanie Sigman</td>\n",
              "      <td>161.0</td>\n",
              "      <td>200074175.0</td>\n",
              "      <td>Action|Adventure|Thriller</td>\n",
              "      <td>602.0</td>\n",
              "      <td>275868</td>\n",
              "      <td>bomb|espionage|sequel|spy|terrorist</td>\n",
              "      <td>English</td>\n",
              "      <td>UK</td>\n",
              "      <td>245000000.0</td>\n",
              "      <td>6.8</td>\n",
              "    </tr>\n",
              "  </tbody>\n",
              "</table>\n",
              "</div>"
            ],
            "text/plain": [
              "                                            year  ... imdb_score\n",
              "title                                             ...           \n",
              "Avatar                                    2009.0  ...        7.9\n",
              "Pirates of the Caribbean: At World's End  2007.0  ...        7.1\n",
              "Spectre                                   2015.0  ...        6.8\n",
              "\n",
              "[3 rows x 21 columns]"
            ]
          },
          "metadata": {
            "tags": []
          },
          "execution_count": 57
        }
      ]
    },
    {
      "cell_type": "markdown",
      "metadata": {
        "id": "jCwPqzbL5wD2"
      },
      "source": [
        "### Exercise 7\n",
        "\n",
        "<span  style=\"color:green; font-size:16px\">Select all movies that have Tom Hanks as `actor1`. How many of these movies has he starred in?</span>"
      ]
    },
    {
      "cell_type": "code",
      "metadata": {
        "id": "6xJLZHoD5wD2",
        "colab": {
          "base_uri": "https://localhost:8080/"
        },
        "outputId": "8d73c29e-21d6-4321-c7b4-729047f5b60d"
      },
      "source": [
        "filt = movie['actor1'] == 'Tom Hanks'\n",
        "hanks_movies = movie[filt]\n",
        "hanks_movies.head(3)"
      ],
      "execution_count": null,
      "outputs": [
        {
          "output_type": "execute_result",
          "data": {
            "text/html": [
              "<div>\n",
              "<style scoped>\n",
              "    .dataframe tbody tr th:only-of-type {\n",
              "        vertical-align: middle;\n",
              "    }\n",
              "\n",
              "    .dataframe tbody tr th {\n",
              "        vertical-align: top;\n",
              "    }\n",
              "\n",
              "    .dataframe thead th {\n",
              "        text-align: right;\n",
              "    }\n",
              "</style>\n",
              "<table border=\"1\" class=\"dataframe\">\n",
              "  <thead>\n",
              "    <tr style=\"text-align: right;\">\n",
              "      <th></th>\n",
              "      <th>year</th>\n",
              "      <th>color</th>\n",
              "      <th>content_rating</th>\n",
              "      <th>duration</th>\n",
              "      <th>director_name</th>\n",
              "      <th>director_fb</th>\n",
              "      <th>actor1</th>\n",
              "      <th>actor1_fb</th>\n",
              "      <th>actor2</th>\n",
              "      <th>actor2_fb</th>\n",
              "      <th>actor3</th>\n",
              "      <th>actor3_fb</th>\n",
              "      <th>gross</th>\n",
              "      <th>genres</th>\n",
              "      <th>num_reviews</th>\n",
              "      <th>num_voted_users</th>\n",
              "      <th>plot_keywords</th>\n",
              "      <th>language</th>\n",
              "      <th>country</th>\n",
              "      <th>budget</th>\n",
              "      <th>imdb_score</th>\n",
              "    </tr>\n",
              "    <tr>\n",
              "      <th>title</th>\n",
              "      <th></th>\n",
              "      <th></th>\n",
              "      <th></th>\n",
              "      <th></th>\n",
              "      <th></th>\n",
              "      <th></th>\n",
              "      <th></th>\n",
              "      <th></th>\n",
              "      <th></th>\n",
              "      <th></th>\n",
              "      <th></th>\n",
              "      <th></th>\n",
              "      <th></th>\n",
              "      <th></th>\n",
              "      <th></th>\n",
              "      <th></th>\n",
              "      <th></th>\n",
              "      <th></th>\n",
              "      <th></th>\n",
              "      <th></th>\n",
              "      <th></th>\n",
              "    </tr>\n",
              "  </thead>\n",
              "  <tbody>\n",
              "    <tr>\n",
              "      <th>Toy Story 3</th>\n",
              "      <td>2010.0</td>\n",
              "      <td>Color</td>\n",
              "      <td>G</td>\n",
              "      <td>103.0</td>\n",
              "      <td>Lee Unkrich</td>\n",
              "      <td>125.0</td>\n",
              "      <td>Tom Hanks</td>\n",
              "      <td>15000.0</td>\n",
              "      <td>John Ratzenberger</td>\n",
              "      <td>1000.0</td>\n",
              "      <td>Don Rickles</td>\n",
              "      <td>721.0</td>\n",
              "      <td>414984497.0</td>\n",
              "      <td>Adventure|Animation|Comedy|Family|Fantasy</td>\n",
              "      <td>453.0</td>\n",
              "      <td>544884</td>\n",
              "      <td>college|day care|escape|teddy bear|toy</td>\n",
              "      <td>English</td>\n",
              "      <td>USA</td>\n",
              "      <td>200000000.0</td>\n",
              "      <td>8.3</td>\n",
              "    </tr>\n",
              "    <tr>\n",
              "      <th>The Polar Express</th>\n",
              "      <td>2004.0</td>\n",
              "      <td>Color</td>\n",
              "      <td>G</td>\n",
              "      <td>100.0</td>\n",
              "      <td>Robert Zemeckis</td>\n",
              "      <td>0.0</td>\n",
              "      <td>Tom Hanks</td>\n",
              "      <td>15000.0</td>\n",
              "      <td>Eddie Deezen</td>\n",
              "      <td>726.0</td>\n",
              "      <td>Peter Scolari</td>\n",
              "      <td>267.0</td>\n",
              "      <td>665426.0</td>\n",
              "      <td>Adventure|Animation|Family|Fantasy</td>\n",
              "      <td>188.0</td>\n",
              "      <td>120798</td>\n",
              "      <td>boy|christmas|christmas eve|north pole|train</td>\n",
              "      <td>English</td>\n",
              "      <td>USA</td>\n",
              "      <td>165000000.0</td>\n",
              "      <td>6.6</td>\n",
              "    </tr>\n",
              "    <tr>\n",
              "      <th>Angels &amp; Demons</th>\n",
              "      <td>2009.0</td>\n",
              "      <td>Color</td>\n",
              "      <td>PG-13</td>\n",
              "      <td>146.0</td>\n",
              "      <td>Ron Howard</td>\n",
              "      <td>2000.0</td>\n",
              "      <td>Tom Hanks</td>\n",
              "      <td>15000.0</td>\n",
              "      <td>Ayelet Zurer</td>\n",
              "      <td>745.0</td>\n",
              "      <td>Armin Mueller-Stahl</td>\n",
              "      <td>294.0</td>\n",
              "      <td>133375846.0</td>\n",
              "      <td>Mystery|Thriller</td>\n",
              "      <td>298.0</td>\n",
              "      <td>207839</td>\n",
              "      <td>conclave|illuminati|murder|reference to bernin...</td>\n",
              "      <td>English</td>\n",
              "      <td>USA</td>\n",
              "      <td>150000000.0</td>\n",
              "      <td>6.7</td>\n",
              "    </tr>\n",
              "  </tbody>\n",
              "</table>\n",
              "</div>"
            ],
            "text/plain": [
              "                     year  color  ...       budget  imdb_score\n",
              "title                             ...                         \n",
              "Toy Story 3        2010.0  Color  ...  200000000.0         8.3\n",
              "The Polar Express  2004.0  Color  ...  165000000.0         6.6\n",
              "Angels & Demons    2009.0  Color  ...  150000000.0         6.7\n",
              "\n",
              "[3 rows x 21 columns]"
            ]
          },
          "metadata": {
            "tags": []
          },
          "execution_count": 58
        }
      ]
    },
    {
      "cell_type": "markdown",
      "metadata": {
        "id": "nQ45foNs5wD4"
      },
      "source": [
        "He's starred in 24 movies"
      ]
    },
    {
      "cell_type": "code",
      "metadata": {
        "id": "vh1KbOQV5wD5",
        "colab": {
          "base_uri": "https://localhost:8080/"
        },
        "outputId": "9093d05f-130b-486b-9c6e-6411e1a70bc0"
      },
      "source": [
        "hanks_movies.shape"
      ],
      "execution_count": null,
      "outputs": [
        {
          "output_type": "execute_result",
          "data": {
            "text/plain": [
              "(24, 21)"
            ]
          },
          "metadata": {
            "tags": []
          },
          "execution_count": 59
        }
      ]
    },
    {
      "cell_type": "markdown",
      "metadata": {
        "id": "nLyMnGEl5wD9"
      },
      "source": [
        "### Exercise 8\n",
        "\n",
        "<span  style=\"color:green; font-size:16px\">Select movies with an IMDB score greater than 9.</span>"
      ]
    },
    {
      "cell_type": "code",
      "metadata": {
        "id": "nlhypeFa5wD9",
        "colab": {
          "base_uri": "https://localhost:8080/"
        },
        "outputId": "a654ebf0-47d3-4b77-b303-a89859451003"
      },
      "source": [
        "filt = movie['imdb_score'] > 9\n",
        "movie[filt]"
      ],
      "execution_count": null,
      "outputs": [
        {
          "output_type": "execute_result",
          "data": {
            "text/html": [
              "<div>\n",
              "<style scoped>\n",
              "    .dataframe tbody tr th:only-of-type {\n",
              "        vertical-align: middle;\n",
              "    }\n",
              "\n",
              "    .dataframe tbody tr th {\n",
              "        vertical-align: top;\n",
              "    }\n",
              "\n",
              "    .dataframe thead th {\n",
              "        text-align: right;\n",
              "    }\n",
              "</style>\n",
              "<table border=\"1\" class=\"dataframe\">\n",
              "  <thead>\n",
              "    <tr style=\"text-align: right;\">\n",
              "      <th></th>\n",
              "      <th>year</th>\n",
              "      <th>color</th>\n",
              "      <th>content_rating</th>\n",
              "      <th>duration</th>\n",
              "      <th>director_name</th>\n",
              "      <th>director_fb</th>\n",
              "      <th>actor1</th>\n",
              "      <th>actor1_fb</th>\n",
              "      <th>actor2</th>\n",
              "      <th>actor2_fb</th>\n",
              "      <th>actor3</th>\n",
              "      <th>actor3_fb</th>\n",
              "      <th>gross</th>\n",
              "      <th>genres</th>\n",
              "      <th>num_reviews</th>\n",
              "      <th>num_voted_users</th>\n",
              "      <th>plot_keywords</th>\n",
              "      <th>language</th>\n",
              "      <th>country</th>\n",
              "      <th>budget</th>\n",
              "      <th>imdb_score</th>\n",
              "    </tr>\n",
              "    <tr>\n",
              "      <th>title</th>\n",
              "      <th></th>\n",
              "      <th></th>\n",
              "      <th></th>\n",
              "      <th></th>\n",
              "      <th></th>\n",
              "      <th></th>\n",
              "      <th></th>\n",
              "      <th></th>\n",
              "      <th></th>\n",
              "      <th></th>\n",
              "      <th></th>\n",
              "      <th></th>\n",
              "      <th></th>\n",
              "      <th></th>\n",
              "      <th></th>\n",
              "      <th></th>\n",
              "      <th></th>\n",
              "      <th></th>\n",
              "      <th></th>\n",
              "      <th></th>\n",
              "      <th></th>\n",
              "    </tr>\n",
              "  </thead>\n",
              "  <tbody>\n",
              "    <tr>\n",
              "      <th>The Shawshank Redemption</th>\n",
              "      <td>1994.0</td>\n",
              "      <td>Color</td>\n",
              "      <td>R</td>\n",
              "      <td>142.0</td>\n",
              "      <td>Frank Darabont</td>\n",
              "      <td>0.0</td>\n",
              "      <td>Morgan Freeman</td>\n",
              "      <td>11000.0</td>\n",
              "      <td>Jeffrey DeMunn</td>\n",
              "      <td>745.0</td>\n",
              "      <td>Bob Gunton</td>\n",
              "      <td>461.0</td>\n",
              "      <td>28341469.0</td>\n",
              "      <td>Crime|Drama</td>\n",
              "      <td>199.0</td>\n",
              "      <td>1689764</td>\n",
              "      <td>escape from prison|first person narration|pris...</td>\n",
              "      <td>English</td>\n",
              "      <td>USA</td>\n",
              "      <td>25000000.0</td>\n",
              "      <td>9.3</td>\n",
              "    </tr>\n",
              "    <tr>\n",
              "      <th>Towering Inferno</th>\n",
              "      <td>NaN</td>\n",
              "      <td>Color</td>\n",
              "      <td>NaN</td>\n",
              "      <td>65.0</td>\n",
              "      <td>John Blanchard</td>\n",
              "      <td>0.0</td>\n",
              "      <td>Martin Short</td>\n",
              "      <td>770.0</td>\n",
              "      <td>Andrea Martin</td>\n",
              "      <td>179.0</td>\n",
              "      <td>Joe Flaherty</td>\n",
              "      <td>176.0</td>\n",
              "      <td>NaN</td>\n",
              "      <td>Comedy</td>\n",
              "      <td>NaN</td>\n",
              "      <td>10</td>\n",
              "      <td>NaN</td>\n",
              "      <td>English</td>\n",
              "      <td>Canada</td>\n",
              "      <td>NaN</td>\n",
              "      <td>9.5</td>\n",
              "    </tr>\n",
              "    <tr>\n",
              "      <th>Dekalog</th>\n",
              "      <td>NaN</td>\n",
              "      <td>Color</td>\n",
              "      <td>TV-MA</td>\n",
              "      <td>55.0</td>\n",
              "      <td>NaN</td>\n",
              "      <td>NaN</td>\n",
              "      <td>Krystyna Janda</td>\n",
              "      <td>20.0</td>\n",
              "      <td>Olaf Lubaszenko</td>\n",
              "      <td>3.0</td>\n",
              "      <td>Olgierd Lukaszewicz</td>\n",
              "      <td>2.0</td>\n",
              "      <td>447093.0</td>\n",
              "      <td>Drama</td>\n",
              "      <td>53.0</td>\n",
              "      <td>12590</td>\n",
              "      <td>meaning of life|moral challenge|morality|searc...</td>\n",
              "      <td>Polish</td>\n",
              "      <td>Poland</td>\n",
              "      <td>NaN</td>\n",
              "      <td>9.1</td>\n",
              "    </tr>\n",
              "    <tr>\n",
              "      <th>The Godfather</th>\n",
              "      <td>1972.0</td>\n",
              "      <td>Color</td>\n",
              "      <td>R</td>\n",
              "      <td>175.0</td>\n",
              "      <td>Francis Ford Coppola</td>\n",
              "      <td>0.0</td>\n",
              "      <td>Al Pacino</td>\n",
              "      <td>14000.0</td>\n",
              "      <td>Marlon Brando</td>\n",
              "      <td>10000.0</td>\n",
              "      <td>Robert Duvall</td>\n",
              "      <td>3000.0</td>\n",
              "      <td>134821952.0</td>\n",
              "      <td>Crime|Drama</td>\n",
              "      <td>208.0</td>\n",
              "      <td>1155770</td>\n",
              "      <td>crime family|mafia|organized crime|patriarch|r...</td>\n",
              "      <td>English</td>\n",
              "      <td>USA</td>\n",
              "      <td>6000000.0</td>\n",
              "      <td>9.2</td>\n",
              "    </tr>\n",
              "    <tr>\n",
              "      <th>Kickboxer: Vengeance</th>\n",
              "      <td>2016.0</td>\n",
              "      <td>NaN</td>\n",
              "      <td>NaN</td>\n",
              "      <td>90.0</td>\n",
              "      <td>John Stockwell</td>\n",
              "      <td>134.0</td>\n",
              "      <td>Matthew Ziff</td>\n",
              "      <td>260000.0</td>\n",
              "      <td>T.J. Storm</td>\n",
              "      <td>454.0</td>\n",
              "      <td>Sam Medina</td>\n",
              "      <td>354.0</td>\n",
              "      <td>NaN</td>\n",
              "      <td>Action</td>\n",
              "      <td>2.0</td>\n",
              "      <td>246</td>\n",
              "      <td>NaN</td>\n",
              "      <td>NaN</td>\n",
              "      <td>USA</td>\n",
              "      <td>17000000.0</td>\n",
              "      <td>9.1</td>\n",
              "    </tr>\n",
              "  </tbody>\n",
              "</table>\n",
              "</div>"
            ],
            "text/plain": [
              "                            year  color  ...      budget  imdb_score\n",
              "title                                    ...                        \n",
              "The Shawshank Redemption  1994.0  Color  ...  25000000.0         9.3\n",
              "Towering Inferno             NaN  Color  ...         NaN         9.5\n",
              "Dekalog                      NaN  Color  ...         NaN         9.1\n",
              "The Godfather             1972.0  Color  ...   6000000.0         9.2\n",
              "Kickboxer: Vengeance      2016.0    NaN  ...  17000000.0         9.1\n",
              "\n",
              "[5 rows x 21 columns]"
            ]
          },
          "metadata": {
            "tags": []
          },
          "execution_count": 60
        }
      ]
    },
    {
      "cell_type": "markdown",
      "metadata": {
        "id": "VLZOnbfG5wD-"
      },
      "source": [
        "### Exercise 9\n",
        "\n",
        "<span  style=\"color:green; font-size:16px\">Write a function that accepts a single parameter to find the number of movies for a given content rating. Use the function to find the number of movies for ratings 'R', 'PG-13', and 'PG'.</span>"
      ]
    },
    {
      "cell_type": "code",
      "metadata": {
        "id": "GmoPOKAh5wD_"
      },
      "source": [
        "def count_rating(rating):\n",
        "    filt = movie['content_rating'] == rating\n",
        "    count = len(movie[filt])\n",
        "    return f'There are {count} movies rated {rating}'"
      ],
      "execution_count": null,
      "outputs": []
    },
    {
      "cell_type": "code",
      "metadata": {
        "id": "DLtY_gcG5wEB",
        "colab": {
          "base_uri": "https://localhost:8080/"
        },
        "outputId": "db975444-2816-4262-b23d-3d24b6371a32"
      },
      "source": [
        "count_rating('R')"
      ],
      "execution_count": null,
      "outputs": [
        {
          "output_type": "execute_result",
          "data": {
            "text/plain": [
              "'There are 2067 movies rated R'"
            ]
          },
          "metadata": {
            "tags": []
          },
          "execution_count": 62
        }
      ]
    },
    {
      "cell_type": "code",
      "metadata": {
        "id": "7XgVMtSG5wEC",
        "colab": {
          "base_uri": "https://localhost:8080/"
        },
        "outputId": "a328e470-f254-4105-e05f-97a568556046"
      },
      "source": [
        "count_rating('PG-13')"
      ],
      "execution_count": null,
      "outputs": [
        {
          "output_type": "execute_result",
          "data": {
            "text/plain": [
              "'There are 1411 movies rated PG-13'"
            ]
          },
          "metadata": {
            "tags": []
          },
          "execution_count": 63
        }
      ]
    },
    {
      "cell_type": "code",
      "metadata": {
        "id": "AWzYo01m5wEF",
        "colab": {
          "base_uri": "https://localhost:8080/"
        },
        "outputId": "f7fdc8b0-902d-465a-e531-9a8a211fde02"
      },
      "source": [
        "count_rating('PG')"
      ],
      "execution_count": null,
      "outputs": [
        {
          "output_type": "execute_result",
          "data": {
            "text/plain": [
              "'There are 686 movies rated PG'"
            ]
          },
          "metadata": {
            "tags": []
          },
          "execution_count": 64
        }
      ]
    },
    {
      "cell_type": "markdown",
      "metadata": {
        "id": "560WoaGT5wEM"
      },
      "source": [
        "## 6. Boolean Selection Multiple Conditions"
      ]
    },
    {
      "cell_type": "code",
      "metadata": {
        "id": "KtuEBTD35wEN",
        "colab": {
          "base_uri": "https://localhost:8080/",
          "height": 267
        },
        "outputId": "2941a4dd-a119-44e6-9ef9-c31500ce2e29"
      },
      "source": [
        "bikes = pd.read_csv('Pandas/bikes.csv')\n",
        "bikes.head(3)"
      ],
      "execution_count": null,
      "outputs": [
        {
          "output_type": "execute_result",
          "data": {
            "text/html": [
              "<div>\n",
              "<style scoped>\n",
              "    .dataframe tbody tr th:only-of-type {\n",
              "        vertical-align: middle;\n",
              "    }\n",
              "\n",
              "    .dataframe tbody tr th {\n",
              "        vertical-align: top;\n",
              "    }\n",
              "\n",
              "    .dataframe thead th {\n",
              "        text-align: right;\n",
              "    }\n",
              "</style>\n",
              "<table border=\"1\" class=\"dataframe\">\n",
              "  <thead>\n",
              "    <tr style=\"text-align: right;\">\n",
              "      <th></th>\n",
              "      <th>trip_id</th>\n",
              "      <th>usertype</th>\n",
              "      <th>gender</th>\n",
              "      <th>starttime</th>\n",
              "      <th>stoptime</th>\n",
              "      <th>tripduration</th>\n",
              "      <th>from_station_name</th>\n",
              "      <th>latitude_start</th>\n",
              "      <th>longitude_start</th>\n",
              "      <th>dpcapacity_start</th>\n",
              "      <th>to_station_name</th>\n",
              "      <th>latitude_end</th>\n",
              "      <th>longitude_end</th>\n",
              "      <th>dpcapacity_end</th>\n",
              "      <th>temperature</th>\n",
              "      <th>visibility</th>\n",
              "      <th>wind_speed</th>\n",
              "      <th>precipitation</th>\n",
              "      <th>events</th>\n",
              "    </tr>\n",
              "  </thead>\n",
              "  <tbody>\n",
              "    <tr>\n",
              "      <th>0</th>\n",
              "      <td>7147</td>\n",
              "      <td>Subscriber</td>\n",
              "      <td>Male</td>\n",
              "      <td>2013-06-28 19:01:00</td>\n",
              "      <td>2013-06-28 19:17:00</td>\n",
              "      <td>993</td>\n",
              "      <td>Lake Shore Dr &amp; Monroe St</td>\n",
              "      <td>41.881050</td>\n",
              "      <td>-87.616970</td>\n",
              "      <td>11.0</td>\n",
              "      <td>Michigan Ave &amp; Oak St</td>\n",
              "      <td>41.90096</td>\n",
              "      <td>-87.623777</td>\n",
              "      <td>15.0</td>\n",
              "      <td>73.9</td>\n",
              "      <td>10.0</td>\n",
              "      <td>12.7</td>\n",
              "      <td>-9999.0</td>\n",
              "      <td>mostlycloudy</td>\n",
              "    </tr>\n",
              "    <tr>\n",
              "      <th>1</th>\n",
              "      <td>7524</td>\n",
              "      <td>Subscriber</td>\n",
              "      <td>Male</td>\n",
              "      <td>2013-06-28 22:53:00</td>\n",
              "      <td>2013-06-28 23:03:00</td>\n",
              "      <td>623</td>\n",
              "      <td>Clinton St &amp; Washington Blvd</td>\n",
              "      <td>41.883380</td>\n",
              "      <td>-87.641170</td>\n",
              "      <td>31.0</td>\n",
              "      <td>Wells St &amp; Walton St</td>\n",
              "      <td>41.89993</td>\n",
              "      <td>-87.634430</td>\n",
              "      <td>19.0</td>\n",
              "      <td>69.1</td>\n",
              "      <td>10.0</td>\n",
              "      <td>6.9</td>\n",
              "      <td>-9999.0</td>\n",
              "      <td>partlycloudy</td>\n",
              "    </tr>\n",
              "    <tr>\n",
              "      <th>2</th>\n",
              "      <td>10927</td>\n",
              "      <td>Subscriber</td>\n",
              "      <td>Male</td>\n",
              "      <td>2013-06-30 14:43:00</td>\n",
              "      <td>2013-06-30 15:01:00</td>\n",
              "      <td>1040</td>\n",
              "      <td>Sheffield Ave &amp; Kingsbury St</td>\n",
              "      <td>41.909592</td>\n",
              "      <td>-87.653497</td>\n",
              "      <td>15.0</td>\n",
              "      <td>Dearborn St &amp; Monroe St</td>\n",
              "      <td>41.88132</td>\n",
              "      <td>-87.629521</td>\n",
              "      <td>23.0</td>\n",
              "      <td>73.0</td>\n",
              "      <td>10.0</td>\n",
              "      <td>16.1</td>\n",
              "      <td>-9999.0</td>\n",
              "      <td>mostlycloudy</td>\n",
              "    </tr>\n",
              "  </tbody>\n",
              "</table>\n",
              "</div>"
            ],
            "text/plain": [
              "   trip_id    usertype gender  ... wind_speed precipitation        events\n",
              "0     7147  Subscriber   Male  ...       12.7       -9999.0  mostlycloudy\n",
              "1     7524  Subscriber   Male  ...        6.9       -9999.0  partlycloudy\n",
              "2    10927  Subscriber   Male  ...       16.1       -9999.0  mostlycloudy\n",
              "\n",
              "[3 rows x 19 columns]"
            ]
          },
          "metadata": {
            "tags": []
          },
          "execution_count": 67
        }
      ]
    },
    {
      "cell_type": "markdown",
      "metadata": {
        "id": "2YJwdzvO5wEQ"
      },
      "source": [
        "### Exercise 1\n",
        "<span  style=\"color:green; font-size:16px\">Find all the rides where visibility was between 0 and 2.</span>"
      ]
    },
    {
      "cell_type": "code",
      "metadata": {
        "id": "aBUu5pMG5wER",
        "colab": {
          "base_uri": "https://localhost:8080/"
        },
        "outputId": "c0e4cb2a-3102-4eae-a100-0e4d029078bc"
      },
      "source": [
        "filt1 = bikes['visibility'] >= 0\n",
        "filt2 = bikes['visibility'] <= 2\n",
        "filt = filt1 & filt2\n",
        "bikes[filt].head(3)"
      ],
      "execution_count": null,
      "outputs": [
        {
          "output_type": "execute_result",
          "data": {
            "text/html": [
              "<div>\n",
              "<style scoped>\n",
              "    .dataframe tbody tr th:only-of-type {\n",
              "        vertical-align: middle;\n",
              "    }\n",
              "\n",
              "    .dataframe tbody tr th {\n",
              "        vertical-align: top;\n",
              "    }\n",
              "\n",
              "    .dataframe thead th {\n",
              "        text-align: right;\n",
              "    }\n",
              "</style>\n",
              "<table border=\"1\" class=\"dataframe\">\n",
              "  <thead>\n",
              "    <tr style=\"text-align: right;\">\n",
              "      <th></th>\n",
              "      <th>trip_id</th>\n",
              "      <th>usertype</th>\n",
              "      <th>gender</th>\n",
              "      <th>starttime</th>\n",
              "      <th>stoptime</th>\n",
              "      <th>tripduration</th>\n",
              "      <th>from_station_name</th>\n",
              "      <th>latitude_start</th>\n",
              "      <th>longitude_start</th>\n",
              "      <th>dpcapacity_start</th>\n",
              "      <th>to_station_name</th>\n",
              "      <th>latitude_end</th>\n",
              "      <th>longitude_end</th>\n",
              "      <th>dpcapacity_end</th>\n",
              "      <th>temperature</th>\n",
              "      <th>visibility</th>\n",
              "      <th>wind_speed</th>\n",
              "      <th>precipitation</th>\n",
              "      <th>events</th>\n",
              "    </tr>\n",
              "  </thead>\n",
              "  <tbody>\n",
              "    <tr>\n",
              "      <th>689</th>\n",
              "      <td>528940</td>\n",
              "      <td>Subscriber</td>\n",
              "      <td>Male</td>\n",
              "      <td>2013-09-19 10:47:00</td>\n",
              "      <td>2013-09-19 10:53:00</td>\n",
              "      <td>364</td>\n",
              "      <td>Morgan St &amp; Polk St</td>\n",
              "      <td>41.871737</td>\n",
              "      <td>-87.65103</td>\n",
              "      <td>15.0</td>\n",
              "      <td>Halsted St &amp; James M Rochford St</td>\n",
              "      <td>41.865861</td>\n",
              "      <td>-87.646611</td>\n",
              "      <td>15.0</td>\n",
              "      <td>69.8</td>\n",
              "      <td>1.8</td>\n",
              "      <td>6.9</td>\n",
              "      <td>0.03</td>\n",
              "      <td>tstorms</td>\n",
              "    </tr>\n",
              "    <tr>\n",
              "      <th>972</th>\n",
              "      <td>666814</td>\n",
              "      <td>Subscriber</td>\n",
              "      <td>Female</td>\n",
              "      <td>2013-10-03 06:31:00</td>\n",
              "      <td>2013-10-03 06:51:00</td>\n",
              "      <td>1241</td>\n",
              "      <td>Racine Ave &amp; Congress Pkwy</td>\n",
              "      <td>41.874640</td>\n",
              "      <td>-87.65703</td>\n",
              "      <td>19.0</td>\n",
              "      <td>St Clair St &amp; Erie St</td>\n",
              "      <td>41.894448</td>\n",
              "      <td>-87.622663</td>\n",
              "      <td>19.0</td>\n",
              "      <td>64.4</td>\n",
              "      <td>0.5</td>\n",
              "      <td>3.5</td>\n",
              "      <td>-9999.00</td>\n",
              "      <td>fog</td>\n",
              "    </tr>\n",
              "    <tr>\n",
              "      <th>973</th>\n",
              "      <td>666837</td>\n",
              "      <td>Subscriber</td>\n",
              "      <td>Male</td>\n",
              "      <td>2013-10-03 06:36:00</td>\n",
              "      <td>2013-10-03 06:50:00</td>\n",
              "      <td>836</td>\n",
              "      <td>Wells St &amp; Evergreen Ave</td>\n",
              "      <td>41.906724</td>\n",
              "      <td>-87.63483</td>\n",
              "      <td>19.0</td>\n",
              "      <td>Canal St &amp; Jackson Blvd</td>\n",
              "      <td>41.878114</td>\n",
              "      <td>-87.639971</td>\n",
              "      <td>35.0</td>\n",
              "      <td>64.4</td>\n",
              "      <td>0.5</td>\n",
              "      <td>3.5</td>\n",
              "      <td>-9999.00</td>\n",
              "      <td>fog</td>\n",
              "    </tr>\n",
              "  </tbody>\n",
              "</table>\n",
              "</div>"
            ],
            "text/plain": [
              "     trip_id    usertype  gender  ... wind_speed precipitation   events\n",
              "689   528940  Subscriber    Male  ...        6.9          0.03  tstorms\n",
              "972   666814  Subscriber  Female  ...        3.5      -9999.00      fog\n",
              "973   666837  Subscriber    Male  ...        3.5      -9999.00      fog\n",
              "\n",
              "[3 rows x 19 columns]"
            ]
          },
          "metadata": {
            "tags": []
          },
          "execution_count": 68
        }
      ]
    },
    {
      "cell_type": "markdown",
      "metadata": {
        "id": "rgWh202F5wES"
      },
      "source": [
        "### Exercise 2\n",
        "\n",
        "<span  style=\"color:green; font-size:16px\">Find all the rides with trip duration less than 100 done by females.</span>"
      ]
    },
    {
      "cell_type": "code",
      "metadata": {
        "id": "F3T9jwHC5wET",
        "colab": {
          "base_uri": "https://localhost:8080/"
        },
        "outputId": "e978abf9-9458-4a40-8032-9d20285f3b75"
      },
      "source": [
        "filt1 = bikes['tripduration'] < 100\n",
        "filt2 = bikes['gender'] == 'Female'\n",
        "filt = filt1 & filt2\n",
        "bikes[filt].head(3)"
      ],
      "execution_count": null,
      "outputs": [
        {
          "output_type": "execute_result",
          "data": {
            "text/html": [
              "<div>\n",
              "<style scoped>\n",
              "    .dataframe tbody tr th:only-of-type {\n",
              "        vertical-align: middle;\n",
              "    }\n",
              "\n",
              "    .dataframe tbody tr th {\n",
              "        vertical-align: top;\n",
              "    }\n",
              "\n",
              "    .dataframe thead th {\n",
              "        text-align: right;\n",
              "    }\n",
              "</style>\n",
              "<table border=\"1\" class=\"dataframe\">\n",
              "  <thead>\n",
              "    <tr style=\"text-align: right;\">\n",
              "      <th></th>\n",
              "      <th>trip_id</th>\n",
              "      <th>usertype</th>\n",
              "      <th>gender</th>\n",
              "      <th>starttime</th>\n",
              "      <th>stoptime</th>\n",
              "      <th>tripduration</th>\n",
              "      <th>from_station_name</th>\n",
              "      <th>latitude_start</th>\n",
              "      <th>longitude_start</th>\n",
              "      <th>dpcapacity_start</th>\n",
              "      <th>to_station_name</th>\n",
              "      <th>latitude_end</th>\n",
              "      <th>longitude_end</th>\n",
              "      <th>dpcapacity_end</th>\n",
              "      <th>temperature</th>\n",
              "      <th>visibility</th>\n",
              "      <th>wind_speed</th>\n",
              "      <th>precipitation</th>\n",
              "      <th>events</th>\n",
              "    </tr>\n",
              "  </thead>\n",
              "  <tbody>\n",
              "    <tr>\n",
              "      <th>2485</th>\n",
              "      <td>1322828</td>\n",
              "      <td>Subscriber</td>\n",
              "      <td>Female</td>\n",
              "      <td>2014-04-01 15:43:00</td>\n",
              "      <td>2014-04-01 15:44:00</td>\n",
              "      <td>67</td>\n",
              "      <td>Halsted St &amp; Polk St</td>\n",
              "      <td>41.871840</td>\n",
              "      <td>-87.646640</td>\n",
              "      <td>19.0</td>\n",
              "      <td>Halsted St &amp; Polk St</td>\n",
              "      <td>41.871840</td>\n",
              "      <td>-87.646640</td>\n",
              "      <td>19.0</td>\n",
              "      <td>46.0</td>\n",
              "      <td>10.0</td>\n",
              "      <td>23.0</td>\n",
              "      <td>-9999.0</td>\n",
              "      <td>partlycloudy</td>\n",
              "    </tr>\n",
              "    <tr>\n",
              "      <th>3366</th>\n",
              "      <td>1694713</td>\n",
              "      <td>Subscriber</td>\n",
              "      <td>Female</td>\n",
              "      <td>2014-05-17 14:55:00</td>\n",
              "      <td>2014-05-17 14:56:00</td>\n",
              "      <td>62</td>\n",
              "      <td>Damen Ave &amp; Chicago Ave</td>\n",
              "      <td>41.895769</td>\n",
              "      <td>-87.677220</td>\n",
              "      <td>15.0</td>\n",
              "      <td>Damen Ave &amp; Chicago Ave</td>\n",
              "      <td>41.895769</td>\n",
              "      <td>-87.677220</td>\n",
              "      <td>15.0</td>\n",
              "      <td>57.9</td>\n",
              "      <td>10.0</td>\n",
              "      <td>11.5</td>\n",
              "      <td>-9999.0</td>\n",
              "      <td>partlycloudy</td>\n",
              "    </tr>\n",
              "    <tr>\n",
              "      <th>3629</th>\n",
              "      <td>1835879</td>\n",
              "      <td>Subscriber</td>\n",
              "      <td>Female</td>\n",
              "      <td>2014-05-27 07:55:00</td>\n",
              "      <td>2014-05-27 07:56:00</td>\n",
              "      <td>70</td>\n",
              "      <td>Clark St &amp; Schiller St</td>\n",
              "      <td>41.907993</td>\n",
              "      <td>-87.631501</td>\n",
              "      <td>19.0</td>\n",
              "      <td>Clark St &amp; Schiller St</td>\n",
              "      <td>41.907993</td>\n",
              "      <td>-87.631501</td>\n",
              "      <td>19.0</td>\n",
              "      <td>73.0</td>\n",
              "      <td>10.0</td>\n",
              "      <td>9.2</td>\n",
              "      <td>-9999.0</td>\n",
              "      <td>cloudy</td>\n",
              "    </tr>\n",
              "  </tbody>\n",
              "</table>\n",
              "</div>"
            ],
            "text/plain": [
              "      trip_id    usertype  gender  ... wind_speed precipitation        events\n",
              "2485  1322828  Subscriber  Female  ...       23.0       -9999.0  partlycloudy\n",
              "3366  1694713  Subscriber  Female  ...       11.5       -9999.0  partlycloudy\n",
              "3629  1835879  Subscriber  Female  ...        9.2       -9999.0        cloudy\n",
              "\n",
              "[3 rows x 19 columns]"
            ]
          },
          "metadata": {
            "tags": []
          },
          "execution_count": 69
        }
      ]
    },
    {
      "cell_type": "markdown",
      "metadata": {
        "id": "lXP5oCbk5wEU"
      },
      "source": [
        "### Exercise 3\n",
        "\n",
        "<span  style=\"color:green; font-size:16px\">Find all the rides from 'Daley Center Plaza' to 'Michigan Ave &amp; Washington St'</span>"
      ]
    },
    {
      "cell_type": "code",
      "metadata": {
        "id": "GG9QY1ib5wEU",
        "colab": {
          "base_uri": "https://localhost:8080/"
        },
        "outputId": "eae4fa39-2341-4769-a7a2-782d6ec82371"
      },
      "source": [
        "filt1 = bikes['to_station_name'] == 'Daley Center Plaza'\n",
        "filt2 = bikes['from_station_name'] == 'Michigan Ave & Washington St'\n",
        "filt = filt1 & filt2\n",
        "bikes[filt]"
      ],
      "execution_count": null,
      "outputs": [
        {
          "output_type": "execute_result",
          "data": {
            "text/html": [
              "<div>\n",
              "<style scoped>\n",
              "    .dataframe tbody tr th:only-of-type {\n",
              "        vertical-align: middle;\n",
              "    }\n",
              "\n",
              "    .dataframe tbody tr th {\n",
              "        vertical-align: top;\n",
              "    }\n",
              "\n",
              "    .dataframe thead th {\n",
              "        text-align: right;\n",
              "    }\n",
              "</style>\n",
              "<table border=\"1\" class=\"dataframe\">\n",
              "  <thead>\n",
              "    <tr style=\"text-align: right;\">\n",
              "      <th></th>\n",
              "      <th>trip_id</th>\n",
              "      <th>usertype</th>\n",
              "      <th>gender</th>\n",
              "      <th>starttime</th>\n",
              "      <th>stoptime</th>\n",
              "      <th>tripduration</th>\n",
              "      <th>from_station_name</th>\n",
              "      <th>latitude_start</th>\n",
              "      <th>longitude_start</th>\n",
              "      <th>dpcapacity_start</th>\n",
              "      <th>to_station_name</th>\n",
              "      <th>latitude_end</th>\n",
              "      <th>longitude_end</th>\n",
              "      <th>dpcapacity_end</th>\n",
              "      <th>temperature</th>\n",
              "      <th>visibility</th>\n",
              "      <th>wind_speed</th>\n",
              "      <th>precipitation</th>\n",
              "      <th>events</th>\n",
              "    </tr>\n",
              "  </thead>\n",
              "  <tbody>\n",
              "    <tr>\n",
              "      <th>25247</th>\n",
              "      <td>9733603</td>\n",
              "      <td>Subscriber</td>\n",
              "      <td>Male</td>\n",
              "      <td>2016-05-26 15:24:00</td>\n",
              "      <td>2016-05-26 15:27:00</td>\n",
              "      <td>183</td>\n",
              "      <td>Michigan Ave &amp; Washington St</td>\n",
              "      <td>41.883893</td>\n",
              "      <td>-87.624649</td>\n",
              "      <td>43.0</td>\n",
              "      <td>Daley Center Plaza</td>\n",
              "      <td>41.884241</td>\n",
              "      <td>-87.629634</td>\n",
              "      <td>39.0</td>\n",
              "      <td>82.0</td>\n",
              "      <td>10.0</td>\n",
              "      <td>12.7</td>\n",
              "      <td>-9999.0</td>\n",
              "      <td>mostlycloudy</td>\n",
              "    </tr>\n",
              "  </tbody>\n",
              "</table>\n",
              "</div>"
            ],
            "text/plain": [
              "       trip_id    usertype gender  ... wind_speed precipitation        events\n",
              "25247  9733603  Subscriber   Male  ...       12.7       -9999.0  mostlycloudy\n",
              "\n",
              "[1 rows x 19 columns]"
            ]
          },
          "metadata": {
            "tags": []
          },
          "execution_count": 70
        }
      ]
    },
    {
      "cell_type": "markdown",
      "metadata": {
        "id": "nsvo7G2X5wEW"
      },
      "source": [
        "### Exercise 4\n",
        "\n",
        "<span  style=\"color:green; font-size:16px\">Find all the rides with temperature greater than 90 or visibility equal to 1 or wind speed greater than 20</span>"
      ]
    },
    {
      "cell_type": "code",
      "metadata": {
        "id": "5KwkY0eu5wEX",
        "colab": {
          "base_uri": "https://localhost:8080/"
        },
        "outputId": "93678853-9656-4421-d525-77c409b52667"
      },
      "source": [
        "filt1 = bikes['temperature'] > 90\n",
        "filt2 = bikes['visibility'] == 1\n",
        "filt3 = bikes['wind_speed'] > 20\n",
        "filt = filt1 | filt2 | filt3\n",
        "bikes[filt].head(3)"
      ],
      "execution_count": null,
      "outputs": [
        {
          "output_type": "execute_result",
          "data": {
            "text/html": [
              "<div>\n",
              "<style scoped>\n",
              "    .dataframe tbody tr th:only-of-type {\n",
              "        vertical-align: middle;\n",
              "    }\n",
              "\n",
              "    .dataframe tbody tr th {\n",
              "        vertical-align: top;\n",
              "    }\n",
              "\n",
              "    .dataframe thead th {\n",
              "        text-align: right;\n",
              "    }\n",
              "</style>\n",
              "<table border=\"1\" class=\"dataframe\">\n",
              "  <thead>\n",
              "    <tr style=\"text-align: right;\">\n",
              "      <th></th>\n",
              "      <th>trip_id</th>\n",
              "      <th>usertype</th>\n",
              "      <th>gender</th>\n",
              "      <th>starttime</th>\n",
              "      <th>stoptime</th>\n",
              "      <th>tripduration</th>\n",
              "      <th>from_station_name</th>\n",
              "      <th>latitude_start</th>\n",
              "      <th>longitude_start</th>\n",
              "      <th>dpcapacity_start</th>\n",
              "      <th>to_station_name</th>\n",
              "      <th>latitude_end</th>\n",
              "      <th>longitude_end</th>\n",
              "      <th>dpcapacity_end</th>\n",
              "      <th>temperature</th>\n",
              "      <th>visibility</th>\n",
              "      <th>wind_speed</th>\n",
              "      <th>precipitation</th>\n",
              "      <th>events</th>\n",
              "    </tr>\n",
              "  </thead>\n",
              "  <tbody>\n",
              "    <tr>\n",
              "      <th>54</th>\n",
              "      <td>69250</td>\n",
              "      <td>Subscriber</td>\n",
              "      <td>Male</td>\n",
              "      <td>2013-07-16 15:13:00</td>\n",
              "      <td>2013-07-16 15:18:00</td>\n",
              "      <td>347</td>\n",
              "      <td>Daley Center Plaza</td>\n",
              "      <td>41.884337</td>\n",
              "      <td>-87.630183</td>\n",
              "      <td>47.0</td>\n",
              "      <td>State St &amp; Van Buren St</td>\n",
              "      <td>41.877181</td>\n",
              "      <td>-87.627844</td>\n",
              "      <td>27.0</td>\n",
              "      <td>91.0</td>\n",
              "      <td>10.0</td>\n",
              "      <td>8.1</td>\n",
              "      <td>-9999.0</td>\n",
              "      <td>mostlycloudy</td>\n",
              "    </tr>\n",
              "    <tr>\n",
              "      <th>55</th>\n",
              "      <td>69320</td>\n",
              "      <td>Subscriber</td>\n",
              "      <td>Male</td>\n",
              "      <td>2013-07-16 15:31:00</td>\n",
              "      <td>2013-07-16 15:37:00</td>\n",
              "      <td>363</td>\n",
              "      <td>State St &amp; Van Buren St</td>\n",
              "      <td>41.877181</td>\n",
              "      <td>-87.627844</td>\n",
              "      <td>27.0</td>\n",
              "      <td>Daley Center Plaza</td>\n",
              "      <td>41.884337</td>\n",
              "      <td>-87.630183</td>\n",
              "      <td>47.0</td>\n",
              "      <td>91.0</td>\n",
              "      <td>10.0</td>\n",
              "      <td>8.1</td>\n",
              "      <td>-9999.0</td>\n",
              "      <td>mostlycloudy</td>\n",
              "    </tr>\n",
              "    <tr>\n",
              "      <th>56</th>\n",
              "      <td>69613</td>\n",
              "      <td>Subscriber</td>\n",
              "      <td>Male</td>\n",
              "      <td>2013-07-16 16:35:00</td>\n",
              "      <td>2013-07-16 16:42:00</td>\n",
              "      <td>390</td>\n",
              "      <td>Larrabee St &amp; Kingsbury St</td>\n",
              "      <td>41.897764</td>\n",
              "      <td>-87.642884</td>\n",
              "      <td>27.0</td>\n",
              "      <td>Dayton St &amp; North Ave</td>\n",
              "      <td>41.910578</td>\n",
              "      <td>-87.649422</td>\n",
              "      <td>19.0</td>\n",
              "      <td>91.0</td>\n",
              "      <td>10.0</td>\n",
              "      <td>10.4</td>\n",
              "      <td>-9999.0</td>\n",
              "      <td>mostlycloudy</td>\n",
              "    </tr>\n",
              "  </tbody>\n",
              "</table>\n",
              "</div>"
            ],
            "text/plain": [
              "    trip_id    usertype gender  ... wind_speed precipitation        events\n",
              "54    69250  Subscriber   Male  ...        8.1       -9999.0  mostlycloudy\n",
              "55    69320  Subscriber   Male  ...        8.1       -9999.0  mostlycloudy\n",
              "56    69613  Subscriber   Male  ...       10.4       -9999.0  mostlycloudy\n",
              "\n",
              "[3 rows x 19 columns]"
            ]
          },
          "metadata": {
            "tags": []
          },
          "execution_count": 71
        }
      ]
    },
    {
      "cell_type": "markdown",
      "metadata": {
        "id": "lwhy3V365wEY"
      },
      "source": [
        "### Exercise 5\n",
        "\n",
        "<span  style=\"color:green; font-size:16px\">Invert the condition from exercise 4.</span>"
      ]
    },
    {
      "cell_type": "code",
      "metadata": {
        "id": "rqRlfRlT5wEY",
        "colab": {
          "base_uri": "https://localhost:8080/"
        },
        "outputId": "ab358cee-c60b-4af7-e972-06e5bfd2a695"
      },
      "source": [
        "filt1 = bikes['temperature'] > 90\n",
        "filt2 = bikes['visibility'] == 1\n",
        "filt3 = bikes['wind_speed'] > 20\n",
        "filt = filt1 | filt2 | filt3\n",
        "bikes[~filt].head(3)"
      ],
      "execution_count": null,
      "outputs": [
        {
          "output_type": "execute_result",
          "data": {
            "text/html": [
              "<div>\n",
              "<style scoped>\n",
              "    .dataframe tbody tr th:only-of-type {\n",
              "        vertical-align: middle;\n",
              "    }\n",
              "\n",
              "    .dataframe tbody tr th {\n",
              "        vertical-align: top;\n",
              "    }\n",
              "\n",
              "    .dataframe thead th {\n",
              "        text-align: right;\n",
              "    }\n",
              "</style>\n",
              "<table border=\"1\" class=\"dataframe\">\n",
              "  <thead>\n",
              "    <tr style=\"text-align: right;\">\n",
              "      <th></th>\n",
              "      <th>trip_id</th>\n",
              "      <th>usertype</th>\n",
              "      <th>gender</th>\n",
              "      <th>starttime</th>\n",
              "      <th>stoptime</th>\n",
              "      <th>tripduration</th>\n",
              "      <th>from_station_name</th>\n",
              "      <th>latitude_start</th>\n",
              "      <th>longitude_start</th>\n",
              "      <th>dpcapacity_start</th>\n",
              "      <th>to_station_name</th>\n",
              "      <th>latitude_end</th>\n",
              "      <th>longitude_end</th>\n",
              "      <th>dpcapacity_end</th>\n",
              "      <th>temperature</th>\n",
              "      <th>visibility</th>\n",
              "      <th>wind_speed</th>\n",
              "      <th>precipitation</th>\n",
              "      <th>events</th>\n",
              "    </tr>\n",
              "  </thead>\n",
              "  <tbody>\n",
              "    <tr>\n",
              "      <th>0</th>\n",
              "      <td>7147</td>\n",
              "      <td>Subscriber</td>\n",
              "      <td>Male</td>\n",
              "      <td>2013-06-28 19:01:00</td>\n",
              "      <td>2013-06-28 19:17:00</td>\n",
              "      <td>993</td>\n",
              "      <td>Lake Shore Dr &amp; Monroe St</td>\n",
              "      <td>41.881050</td>\n",
              "      <td>-87.616970</td>\n",
              "      <td>11.0</td>\n",
              "      <td>Michigan Ave &amp; Oak St</td>\n",
              "      <td>41.90096</td>\n",
              "      <td>-87.623777</td>\n",
              "      <td>15.0</td>\n",
              "      <td>73.9</td>\n",
              "      <td>10.0</td>\n",
              "      <td>12.7</td>\n",
              "      <td>-9999.0</td>\n",
              "      <td>mostlycloudy</td>\n",
              "    </tr>\n",
              "    <tr>\n",
              "      <th>1</th>\n",
              "      <td>7524</td>\n",
              "      <td>Subscriber</td>\n",
              "      <td>Male</td>\n",
              "      <td>2013-06-28 22:53:00</td>\n",
              "      <td>2013-06-28 23:03:00</td>\n",
              "      <td>623</td>\n",
              "      <td>Clinton St &amp; Washington Blvd</td>\n",
              "      <td>41.883380</td>\n",
              "      <td>-87.641170</td>\n",
              "      <td>31.0</td>\n",
              "      <td>Wells St &amp; Walton St</td>\n",
              "      <td>41.89993</td>\n",
              "      <td>-87.634430</td>\n",
              "      <td>19.0</td>\n",
              "      <td>69.1</td>\n",
              "      <td>10.0</td>\n",
              "      <td>6.9</td>\n",
              "      <td>-9999.0</td>\n",
              "      <td>partlycloudy</td>\n",
              "    </tr>\n",
              "    <tr>\n",
              "      <th>2</th>\n",
              "      <td>10927</td>\n",
              "      <td>Subscriber</td>\n",
              "      <td>Male</td>\n",
              "      <td>2013-06-30 14:43:00</td>\n",
              "      <td>2013-06-30 15:01:00</td>\n",
              "      <td>1040</td>\n",
              "      <td>Sheffield Ave &amp; Kingsbury St</td>\n",
              "      <td>41.909592</td>\n",
              "      <td>-87.653497</td>\n",
              "      <td>15.0</td>\n",
              "      <td>Dearborn St &amp; Monroe St</td>\n",
              "      <td>41.88132</td>\n",
              "      <td>-87.629521</td>\n",
              "      <td>23.0</td>\n",
              "      <td>73.0</td>\n",
              "      <td>10.0</td>\n",
              "      <td>16.1</td>\n",
              "      <td>-9999.0</td>\n",
              "      <td>mostlycloudy</td>\n",
              "    </tr>\n",
              "  </tbody>\n",
              "</table>\n",
              "</div>"
            ],
            "text/plain": [
              "   trip_id    usertype gender  ... wind_speed precipitation        events\n",
              "0     7147  Subscriber   Male  ...       12.7       -9999.0  mostlycloudy\n",
              "1     7524  Subscriber   Male  ...        6.9       -9999.0  partlycloudy\n",
              "2    10927  Subscriber   Male  ...       16.1       -9999.0  mostlycloudy\n",
              "\n",
              "[3 rows x 19 columns]"
            ]
          },
          "metadata": {
            "tags": []
          },
          "execution_count": 72
        }
      ]
    },
    {
      "cell_type": "markdown",
      "metadata": {
        "id": "MCWXRe6x5wEb"
      },
      "source": [
        "### Exercise 6\n",
        "\n",
        "<span  style=\"color:green; font-size:16px\">Are there any rides where the weather event was snow and the temperature was greater than 40?</span>"
      ]
    },
    {
      "cell_type": "code",
      "metadata": {
        "id": "xctUnXuj5wEc",
        "colab": {
          "base_uri": "https://localhost:8080/",
          "height": 69
        },
        "outputId": "33a3b18f-820c-4c3b-8af8-9e8522f147cf"
      },
      "source": [
        "# no\n",
        "filt1 = bikes['events'] == 'snow'\n",
        "filt2 = bikes['temperature'] > 40\n",
        "filt = filt1 & filt2\n",
        "bikes[filt]"
      ],
      "execution_count": null,
      "outputs": [
        {
          "output_type": "execute_result",
          "data": {
            "text/html": [
              "<div>\n",
              "<style scoped>\n",
              "    .dataframe tbody tr th:only-of-type {\n",
              "        vertical-align: middle;\n",
              "    }\n",
              "\n",
              "    .dataframe tbody tr th {\n",
              "        vertical-align: top;\n",
              "    }\n",
              "\n",
              "    .dataframe thead th {\n",
              "        text-align: right;\n",
              "    }\n",
              "</style>\n",
              "<table border=\"1\" class=\"dataframe\">\n",
              "  <thead>\n",
              "    <tr style=\"text-align: right;\">\n",
              "      <th></th>\n",
              "      <th>trip_id</th>\n",
              "      <th>usertype</th>\n",
              "      <th>gender</th>\n",
              "      <th>starttime</th>\n",
              "      <th>stoptime</th>\n",
              "      <th>tripduration</th>\n",
              "      <th>from_station_name</th>\n",
              "      <th>latitude_start</th>\n",
              "      <th>longitude_start</th>\n",
              "      <th>dpcapacity_start</th>\n",
              "      <th>to_station_name</th>\n",
              "      <th>latitude_end</th>\n",
              "      <th>longitude_end</th>\n",
              "      <th>dpcapacity_end</th>\n",
              "      <th>temperature</th>\n",
              "      <th>visibility</th>\n",
              "      <th>wind_speed</th>\n",
              "      <th>precipitation</th>\n",
              "      <th>events</th>\n",
              "    </tr>\n",
              "  </thead>\n",
              "  <tbody>\n",
              "  </tbody>\n",
              "</table>\n",
              "</div>"
            ],
            "text/plain": [
              "Empty DataFrame\n",
              "Columns: [trip_id, usertype, gender, starttime, stoptime, tripduration, from_station_name, latitude_start, longitude_start, dpcapacity_start, to_station_name, latitude_end, longitude_end, dpcapacity_end, temperature, visibility, wind_speed, precipitation, events]\n",
              "Index: []"
            ]
          },
          "metadata": {
            "tags": []
          },
          "execution_count": 73
        }
      ]
    },
    {
      "cell_type": "markdown",
      "metadata": {
        "id": "yGNGUN7N5wEe"
      },
      "source": [
        "Read in the movie dataset by executing the cell below and use it for the following exercises."
      ]
    },
    {
      "cell_type": "code",
      "metadata": {
        "id": "eAaXPp015wEe",
        "colab": {
          "base_uri": "https://localhost:8080/",
          "height": 316
        },
        "outputId": "6202f6a3-2081-46fa-b0d8-c1900a0a24bf"
      },
      "source": [
        "import pandas as pd\n",
        "movie = pd.read_csv('Pandas/movie.csv', index_col='title')\n",
        "movie.head(3)"
      ],
      "execution_count": null,
      "outputs": [
        {
          "output_type": "execute_result",
          "data": {
            "text/html": [
              "<div>\n",
              "<style scoped>\n",
              "    .dataframe tbody tr th:only-of-type {\n",
              "        vertical-align: middle;\n",
              "    }\n",
              "\n",
              "    .dataframe tbody tr th {\n",
              "        vertical-align: top;\n",
              "    }\n",
              "\n",
              "    .dataframe thead th {\n",
              "        text-align: right;\n",
              "    }\n",
              "</style>\n",
              "<table border=\"1\" class=\"dataframe\">\n",
              "  <thead>\n",
              "    <tr style=\"text-align: right;\">\n",
              "      <th></th>\n",
              "      <th>year</th>\n",
              "      <th>color</th>\n",
              "      <th>content_rating</th>\n",
              "      <th>duration</th>\n",
              "      <th>director_name</th>\n",
              "      <th>director_fb</th>\n",
              "      <th>actor1</th>\n",
              "      <th>actor1_fb</th>\n",
              "      <th>actor2</th>\n",
              "      <th>actor2_fb</th>\n",
              "      <th>actor3</th>\n",
              "      <th>actor3_fb</th>\n",
              "      <th>gross</th>\n",
              "      <th>genres</th>\n",
              "      <th>num_reviews</th>\n",
              "      <th>num_voted_users</th>\n",
              "      <th>plot_keywords</th>\n",
              "      <th>language</th>\n",
              "      <th>country</th>\n",
              "      <th>budget</th>\n",
              "      <th>imdb_score</th>\n",
              "    </tr>\n",
              "    <tr>\n",
              "      <th>title</th>\n",
              "      <th></th>\n",
              "      <th></th>\n",
              "      <th></th>\n",
              "      <th></th>\n",
              "      <th></th>\n",
              "      <th></th>\n",
              "      <th></th>\n",
              "      <th></th>\n",
              "      <th></th>\n",
              "      <th></th>\n",
              "      <th></th>\n",
              "      <th></th>\n",
              "      <th></th>\n",
              "      <th></th>\n",
              "      <th></th>\n",
              "      <th></th>\n",
              "      <th></th>\n",
              "      <th></th>\n",
              "      <th></th>\n",
              "      <th></th>\n",
              "      <th></th>\n",
              "    </tr>\n",
              "  </thead>\n",
              "  <tbody>\n",
              "    <tr>\n",
              "      <th>Avatar</th>\n",
              "      <td>2009.0</td>\n",
              "      <td>Color</td>\n",
              "      <td>PG-13</td>\n",
              "      <td>178.0</td>\n",
              "      <td>James Cameron</td>\n",
              "      <td>0.0</td>\n",
              "      <td>CCH Pounder</td>\n",
              "      <td>1000.0</td>\n",
              "      <td>Joel David Moore</td>\n",
              "      <td>936.0</td>\n",
              "      <td>Wes Studi</td>\n",
              "      <td>855.0</td>\n",
              "      <td>760505847.0</td>\n",
              "      <td>Action|Adventure|Fantasy|Sci-Fi</td>\n",
              "      <td>723.0</td>\n",
              "      <td>886204</td>\n",
              "      <td>avatar|future|marine|native|paraplegic</td>\n",
              "      <td>English</td>\n",
              "      <td>USA</td>\n",
              "      <td>237000000.0</td>\n",
              "      <td>7.9</td>\n",
              "    </tr>\n",
              "    <tr>\n",
              "      <th>Pirates of the Caribbean: At World's End</th>\n",
              "      <td>2007.0</td>\n",
              "      <td>Color</td>\n",
              "      <td>PG-13</td>\n",
              "      <td>169.0</td>\n",
              "      <td>Gore Verbinski</td>\n",
              "      <td>563.0</td>\n",
              "      <td>Johnny Depp</td>\n",
              "      <td>40000.0</td>\n",
              "      <td>Orlando Bloom</td>\n",
              "      <td>5000.0</td>\n",
              "      <td>Jack Davenport</td>\n",
              "      <td>1000.0</td>\n",
              "      <td>309404152.0</td>\n",
              "      <td>Action|Adventure|Fantasy</td>\n",
              "      <td>302.0</td>\n",
              "      <td>471220</td>\n",
              "      <td>goddess|marriage ceremony|marriage proposal|pi...</td>\n",
              "      <td>English</td>\n",
              "      <td>USA</td>\n",
              "      <td>300000000.0</td>\n",
              "      <td>7.1</td>\n",
              "    </tr>\n",
              "    <tr>\n",
              "      <th>Spectre</th>\n",
              "      <td>2015.0</td>\n",
              "      <td>Color</td>\n",
              "      <td>PG-13</td>\n",
              "      <td>148.0</td>\n",
              "      <td>Sam Mendes</td>\n",
              "      <td>0.0</td>\n",
              "      <td>Christoph Waltz</td>\n",
              "      <td>11000.0</td>\n",
              "      <td>Rory Kinnear</td>\n",
              "      <td>393.0</td>\n",
              "      <td>Stephanie Sigman</td>\n",
              "      <td>161.0</td>\n",
              "      <td>200074175.0</td>\n",
              "      <td>Action|Adventure|Thriller</td>\n",
              "      <td>602.0</td>\n",
              "      <td>275868</td>\n",
              "      <td>bomb|espionage|sequel|spy|terrorist</td>\n",
              "      <td>English</td>\n",
              "      <td>UK</td>\n",
              "      <td>245000000.0</td>\n",
              "      <td>6.8</td>\n",
              "    </tr>\n",
              "  </tbody>\n",
              "</table>\n",
              "</div>"
            ],
            "text/plain": [
              "                                            year  ... imdb_score\n",
              "title                                             ...           \n",
              "Avatar                                    2009.0  ...        7.9\n",
              "Pirates of the Caribbean: At World's End  2007.0  ...        7.1\n",
              "Spectre                                   2015.0  ...        6.8\n",
              "\n",
              "[3 rows x 21 columns]"
            ]
          },
          "metadata": {
            "tags": []
          },
          "execution_count": 76
        }
      ]
    },
    {
      "cell_type": "markdown",
      "metadata": {
        "id": "43Opb5YL5wEh"
      },
      "source": [
        "### Exercise 7\n",
        "\n",
        "<span  style=\"color:green; font-size:16px\">Select all movies from the 1970s.</span>"
      ]
    },
    {
      "cell_type": "code",
      "metadata": {
        "id": "sP51RyCb5wEh",
        "colab": {
          "base_uri": "https://localhost:8080/"
        },
        "outputId": "ebfa31bd-9516-414c-9300-e89fe1fe6397"
      },
      "source": [
        "filt1 = movie['year'] >= 1970\n",
        "filt2 = movie['year'] <= 1979\n",
        "filt = filt1 & filt2\n",
        "movie[filt].head(3)"
      ],
      "execution_count": null,
      "outputs": [
        {
          "output_type": "execute_result",
          "data": {
            "text/html": [
              "<div>\n",
              "<style scoped>\n",
              "    .dataframe tbody tr th:only-of-type {\n",
              "        vertical-align: middle;\n",
              "    }\n",
              "\n",
              "    .dataframe tbody tr th {\n",
              "        vertical-align: top;\n",
              "    }\n",
              "\n",
              "    .dataframe thead th {\n",
              "        text-align: right;\n",
              "    }\n",
              "</style>\n",
              "<table border=\"1\" class=\"dataframe\">\n",
              "  <thead>\n",
              "    <tr style=\"text-align: right;\">\n",
              "      <th></th>\n",
              "      <th>year</th>\n",
              "      <th>color</th>\n",
              "      <th>content_rating</th>\n",
              "      <th>duration</th>\n",
              "      <th>director_name</th>\n",
              "      <th>director_fb</th>\n",
              "      <th>actor1</th>\n",
              "      <th>actor1_fb</th>\n",
              "      <th>actor2</th>\n",
              "      <th>actor2_fb</th>\n",
              "      <th>actor3</th>\n",
              "      <th>actor3_fb</th>\n",
              "      <th>gross</th>\n",
              "      <th>genres</th>\n",
              "      <th>num_reviews</th>\n",
              "      <th>num_voted_users</th>\n",
              "      <th>plot_keywords</th>\n",
              "      <th>language</th>\n",
              "      <th>country</th>\n",
              "      <th>budget</th>\n",
              "      <th>imdb_score</th>\n",
              "    </tr>\n",
              "    <tr>\n",
              "      <th>title</th>\n",
              "      <th></th>\n",
              "      <th></th>\n",
              "      <th></th>\n",
              "      <th></th>\n",
              "      <th></th>\n",
              "      <th></th>\n",
              "      <th></th>\n",
              "      <th></th>\n",
              "      <th></th>\n",
              "      <th></th>\n",
              "      <th></th>\n",
              "      <th></th>\n",
              "      <th></th>\n",
              "      <th></th>\n",
              "      <th></th>\n",
              "      <th></th>\n",
              "      <th></th>\n",
              "      <th></th>\n",
              "      <th></th>\n",
              "      <th></th>\n",
              "      <th></th>\n",
              "    </tr>\n",
              "  </thead>\n",
              "  <tbody>\n",
              "    <tr>\n",
              "      <th>All That Jazz</th>\n",
              "      <td>1979.0</td>\n",
              "      <td>Color</td>\n",
              "      <td>R</td>\n",
              "      <td>123.0</td>\n",
              "      <td>Bob Fosse</td>\n",
              "      <td>189.0</td>\n",
              "      <td>Roy Scheider</td>\n",
              "      <td>813.0</td>\n",
              "      <td>Ben Vereen</td>\n",
              "      <td>388.0</td>\n",
              "      <td>Max Wright</td>\n",
              "      <td>87.0</td>\n",
              "      <td>NaN</td>\n",
              "      <td>Comedy|Drama|Music|Musical</td>\n",
              "      <td>84.0</td>\n",
              "      <td>19228</td>\n",
              "      <td>dancer|editing|stand up comedian|surgery|vomiting</td>\n",
              "      <td>English</td>\n",
              "      <td>USA</td>\n",
              "      <td>NaN</td>\n",
              "      <td>7.8</td>\n",
              "    </tr>\n",
              "    <tr>\n",
              "      <th>Superman</th>\n",
              "      <td>1978.0</td>\n",
              "      <td>Color</td>\n",
              "      <td>PG</td>\n",
              "      <td>188.0</td>\n",
              "      <td>Richard Donner</td>\n",
              "      <td>503.0</td>\n",
              "      <td>Marlon Brando</td>\n",
              "      <td>10000.0</td>\n",
              "      <td>Margot Kidder</td>\n",
              "      <td>593.0</td>\n",
              "      <td>Ned Beatty</td>\n",
              "      <td>467.0</td>\n",
              "      <td>134218018.0</td>\n",
              "      <td>Action|Adventure|Drama|Romance|Sci-Fi</td>\n",
              "      <td>169.0</td>\n",
              "      <td>126357</td>\n",
              "      <td>1970s|clark kent|planet|superhero|year 1978</td>\n",
              "      <td>English</td>\n",
              "      <td>USA</td>\n",
              "      <td>55000000.0</td>\n",
              "      <td>7.3</td>\n",
              "    </tr>\n",
              "    <tr>\n",
              "      <th>Solaris</th>\n",
              "      <td>1972.0</td>\n",
              "      <td>Black and White</td>\n",
              "      <td>PG</td>\n",
              "      <td>115.0</td>\n",
              "      <td>Andrei Tarkovsky</td>\n",
              "      <td>0.0</td>\n",
              "      <td>Donatas Banionis</td>\n",
              "      <td>29.0</td>\n",
              "      <td>Anatoliy Solonitsyn</td>\n",
              "      <td>29.0</td>\n",
              "      <td>Natalya Bondarchuk</td>\n",
              "      <td>12.0</td>\n",
              "      <td>NaN</td>\n",
              "      <td>Drama|Mystery|Sci-Fi</td>\n",
              "      <td>144.0</td>\n",
              "      <td>54057</td>\n",
              "      <td>hallucination|ocean|psychologist|scientist|spa...</td>\n",
              "      <td>Russian</td>\n",
              "      <td>Soviet Union</td>\n",
              "      <td>1000000.0</td>\n",
              "      <td>8.1</td>\n",
              "    </tr>\n",
              "  </tbody>\n",
              "</table>\n",
              "</div>"
            ],
            "text/plain": [
              "                 year            color  ...      budget  imdb_score\n",
              "title                                   ...                        \n",
              "All That Jazz  1979.0            Color  ...         NaN         7.8\n",
              "Superman       1978.0            Color  ...  55000000.0         7.3\n",
              "Solaris        1972.0  Black and White  ...   1000000.0         8.1\n",
              "\n",
              "[3 rows x 21 columns]"
            ]
          },
          "metadata": {
            "tags": []
          },
          "execution_count": 77
        }
      ]
    },
    {
      "cell_type": "markdown",
      "metadata": {
        "id": "XQ6fchdi5wEi"
      },
      "source": [
        "### Exercise 8\n",
        "\n",
        "<span  style=\"color:green; font-size:16px\">Select all movies from the 1970s that had IMDB scores greater than 8.</span>"
      ]
    },
    {
      "cell_type": "code",
      "metadata": {
        "id": "90dwnTI85wEj",
        "colab": {
          "base_uri": "https://localhost:8080/"
        },
        "outputId": "7a5c81a8-e0b4-4840-85d7-2f49193e3ecf"
      },
      "source": [
        "filt1 = movie['year'] >= 1970\n",
        "filt2 = movie['year'] <= 1979 \n",
        "filt3 = movie['imdb_score'] > 8\n",
        "filt = filt1 & filt2 & filt3\n",
        "movie[filt].head(3)"
      ],
      "execution_count": null,
      "outputs": [
        {
          "output_type": "execute_result",
          "data": {
            "text/html": [
              "<div>\n",
              "<style scoped>\n",
              "    .dataframe tbody tr th:only-of-type {\n",
              "        vertical-align: middle;\n",
              "    }\n",
              "\n",
              "    .dataframe tbody tr th {\n",
              "        vertical-align: top;\n",
              "    }\n",
              "\n",
              "    .dataframe thead th {\n",
              "        text-align: right;\n",
              "    }\n",
              "</style>\n",
              "<table border=\"1\" class=\"dataframe\">\n",
              "  <thead>\n",
              "    <tr style=\"text-align: right;\">\n",
              "      <th></th>\n",
              "      <th>year</th>\n",
              "      <th>color</th>\n",
              "      <th>content_rating</th>\n",
              "      <th>duration</th>\n",
              "      <th>director_name</th>\n",
              "      <th>director_fb</th>\n",
              "      <th>actor1</th>\n",
              "      <th>actor1_fb</th>\n",
              "      <th>actor2</th>\n",
              "      <th>actor2_fb</th>\n",
              "      <th>actor3</th>\n",
              "      <th>actor3_fb</th>\n",
              "      <th>gross</th>\n",
              "      <th>genres</th>\n",
              "      <th>num_reviews</th>\n",
              "      <th>num_voted_users</th>\n",
              "      <th>plot_keywords</th>\n",
              "      <th>language</th>\n",
              "      <th>country</th>\n",
              "      <th>budget</th>\n",
              "      <th>imdb_score</th>\n",
              "    </tr>\n",
              "    <tr>\n",
              "      <th>title</th>\n",
              "      <th></th>\n",
              "      <th></th>\n",
              "      <th></th>\n",
              "      <th></th>\n",
              "      <th></th>\n",
              "      <th></th>\n",
              "      <th></th>\n",
              "      <th></th>\n",
              "      <th></th>\n",
              "      <th></th>\n",
              "      <th></th>\n",
              "      <th></th>\n",
              "      <th></th>\n",
              "      <th></th>\n",
              "      <th></th>\n",
              "      <th></th>\n",
              "      <th></th>\n",
              "      <th></th>\n",
              "      <th></th>\n",
              "      <th></th>\n",
              "      <th></th>\n",
              "    </tr>\n",
              "  </thead>\n",
              "  <tbody>\n",
              "    <tr>\n",
              "      <th>Solaris</th>\n",
              "      <td>1972.0</td>\n",
              "      <td>Black and White</td>\n",
              "      <td>PG</td>\n",
              "      <td>115.0</td>\n",
              "      <td>Andrei Tarkovsky</td>\n",
              "      <td>0.0</td>\n",
              "      <td>Donatas Banionis</td>\n",
              "      <td>29.0</td>\n",
              "      <td>Anatoliy Solonitsyn</td>\n",
              "      <td>29.0</td>\n",
              "      <td>Natalya Bondarchuk</td>\n",
              "      <td>12.0</td>\n",
              "      <td>NaN</td>\n",
              "      <td>Drama|Mystery|Sci-Fi</td>\n",
              "      <td>144.0</td>\n",
              "      <td>54057</td>\n",
              "      <td>hallucination|ocean|psychologist|scientist|spa...</td>\n",
              "      <td>Russian</td>\n",
              "      <td>Soviet Union</td>\n",
              "      <td>1000000.0</td>\n",
              "      <td>8.1</td>\n",
              "    </tr>\n",
              "    <tr>\n",
              "      <th>Apocalypse Now</th>\n",
              "      <td>1979.0</td>\n",
              "      <td>Color</td>\n",
              "      <td>R</td>\n",
              "      <td>289.0</td>\n",
              "      <td>Francis Ford Coppola</td>\n",
              "      <td>0.0</td>\n",
              "      <td>Harrison Ford</td>\n",
              "      <td>11000.0</td>\n",
              "      <td>Marlon Brando</td>\n",
              "      <td>10000.0</td>\n",
              "      <td>Robert Duvall</td>\n",
              "      <td>3000.0</td>\n",
              "      <td>78800000.0</td>\n",
              "      <td>Drama|War</td>\n",
              "      <td>261.0</td>\n",
              "      <td>450676</td>\n",
              "      <td>army|green beret|insanity|jungle|vietnam</td>\n",
              "      <td>English</td>\n",
              "      <td>USA</td>\n",
              "      <td>31500000.0</td>\n",
              "      <td>8.5</td>\n",
              "    </tr>\n",
              "    <tr>\n",
              "      <th>The Deer Hunter</th>\n",
              "      <td>1978.0</td>\n",
              "      <td>Color</td>\n",
              "      <td>R</td>\n",
              "      <td>183.0</td>\n",
              "      <td>Michael Cimino</td>\n",
              "      <td>517.0</td>\n",
              "      <td>Robert De Niro</td>\n",
              "      <td>22000.0</td>\n",
              "      <td>Meryl Streep</td>\n",
              "      <td>11000.0</td>\n",
              "      <td>John Savage</td>\n",
              "      <td>652.0</td>\n",
              "      <td>NaN</td>\n",
              "      <td>Drama|War</td>\n",
              "      <td>140.0</td>\n",
              "      <td>232577</td>\n",
              "      <td>escape|friend|party|pittsburgh steelers|vietnam</td>\n",
              "      <td>English</td>\n",
              "      <td>UK</td>\n",
              "      <td>15000000.0</td>\n",
              "      <td>8.2</td>\n",
              "    </tr>\n",
              "  </tbody>\n",
              "</table>\n",
              "</div>"
            ],
            "text/plain": [
              "                   year            color  ...      budget  imdb_score\n",
              "title                                     ...                        \n",
              "Solaris          1972.0  Black and White  ...   1000000.0         8.1\n",
              "Apocalypse Now   1979.0            Color  ...  31500000.0         8.5\n",
              "The Deer Hunter  1978.0            Color  ...  15000000.0         8.2\n",
              "\n",
              "[3 rows x 21 columns]"
            ]
          },
          "metadata": {
            "tags": []
          },
          "execution_count": 78
        }
      ]
    },
    {
      "cell_type": "markdown",
      "metadata": {
        "id": "RC8XYOUq5wEm"
      },
      "source": [
        "### Exercise 9\n",
        "\n",
        "<span  style=\"color:green; font-size:16px\">Select movies that were rated either R, PG-13, or PG.</span>"
      ]
    },
    {
      "cell_type": "code",
      "metadata": {
        "id": "uHIjKXYD5wEn",
        "colab": {
          "base_uri": "https://localhost:8080/"
        },
        "outputId": "676fc8ad-137c-4777-9c64-0570e69c6248"
      },
      "source": [
        "filt = movie['content_rating'].isin(['R', 'PG-13', 'PG'])\n",
        "movie[filt].head(3)"
      ],
      "execution_count": null,
      "outputs": [
        {
          "output_type": "execute_result",
          "data": {
            "text/html": [
              "<div>\n",
              "<style scoped>\n",
              "    .dataframe tbody tr th:only-of-type {\n",
              "        vertical-align: middle;\n",
              "    }\n",
              "\n",
              "    .dataframe tbody tr th {\n",
              "        vertical-align: top;\n",
              "    }\n",
              "\n",
              "    .dataframe thead th {\n",
              "        text-align: right;\n",
              "    }\n",
              "</style>\n",
              "<table border=\"1\" class=\"dataframe\">\n",
              "  <thead>\n",
              "    <tr style=\"text-align: right;\">\n",
              "      <th></th>\n",
              "      <th>year</th>\n",
              "      <th>color</th>\n",
              "      <th>content_rating</th>\n",
              "      <th>duration</th>\n",
              "      <th>director_name</th>\n",
              "      <th>director_fb</th>\n",
              "      <th>actor1</th>\n",
              "      <th>actor1_fb</th>\n",
              "      <th>actor2</th>\n",
              "      <th>actor2_fb</th>\n",
              "      <th>actor3</th>\n",
              "      <th>actor3_fb</th>\n",
              "      <th>gross</th>\n",
              "      <th>genres</th>\n",
              "      <th>num_reviews</th>\n",
              "      <th>num_voted_users</th>\n",
              "      <th>plot_keywords</th>\n",
              "      <th>language</th>\n",
              "      <th>country</th>\n",
              "      <th>budget</th>\n",
              "      <th>imdb_score</th>\n",
              "    </tr>\n",
              "    <tr>\n",
              "      <th>title</th>\n",
              "      <th></th>\n",
              "      <th></th>\n",
              "      <th></th>\n",
              "      <th></th>\n",
              "      <th></th>\n",
              "      <th></th>\n",
              "      <th></th>\n",
              "      <th></th>\n",
              "      <th></th>\n",
              "      <th></th>\n",
              "      <th></th>\n",
              "      <th></th>\n",
              "      <th></th>\n",
              "      <th></th>\n",
              "      <th></th>\n",
              "      <th></th>\n",
              "      <th></th>\n",
              "      <th></th>\n",
              "      <th></th>\n",
              "      <th></th>\n",
              "      <th></th>\n",
              "    </tr>\n",
              "  </thead>\n",
              "  <tbody>\n",
              "    <tr>\n",
              "      <th>Avatar</th>\n",
              "      <td>2009.0</td>\n",
              "      <td>Color</td>\n",
              "      <td>PG-13</td>\n",
              "      <td>178.0</td>\n",
              "      <td>James Cameron</td>\n",
              "      <td>0.0</td>\n",
              "      <td>CCH Pounder</td>\n",
              "      <td>1000.0</td>\n",
              "      <td>Joel David Moore</td>\n",
              "      <td>936.0</td>\n",
              "      <td>Wes Studi</td>\n",
              "      <td>855.0</td>\n",
              "      <td>760505847.0</td>\n",
              "      <td>Action|Adventure|Fantasy|Sci-Fi</td>\n",
              "      <td>723.0</td>\n",
              "      <td>886204</td>\n",
              "      <td>avatar|future|marine|native|paraplegic</td>\n",
              "      <td>English</td>\n",
              "      <td>USA</td>\n",
              "      <td>237000000.0</td>\n",
              "      <td>7.9</td>\n",
              "    </tr>\n",
              "    <tr>\n",
              "      <th>Pirates of the Caribbean: At World's End</th>\n",
              "      <td>2007.0</td>\n",
              "      <td>Color</td>\n",
              "      <td>PG-13</td>\n",
              "      <td>169.0</td>\n",
              "      <td>Gore Verbinski</td>\n",
              "      <td>563.0</td>\n",
              "      <td>Johnny Depp</td>\n",
              "      <td>40000.0</td>\n",
              "      <td>Orlando Bloom</td>\n",
              "      <td>5000.0</td>\n",
              "      <td>Jack Davenport</td>\n",
              "      <td>1000.0</td>\n",
              "      <td>309404152.0</td>\n",
              "      <td>Action|Adventure|Fantasy</td>\n",
              "      <td>302.0</td>\n",
              "      <td>471220</td>\n",
              "      <td>goddess|marriage ceremony|marriage proposal|pi...</td>\n",
              "      <td>English</td>\n",
              "      <td>USA</td>\n",
              "      <td>300000000.0</td>\n",
              "      <td>7.1</td>\n",
              "    </tr>\n",
              "    <tr>\n",
              "      <th>Spectre</th>\n",
              "      <td>2015.0</td>\n",
              "      <td>Color</td>\n",
              "      <td>PG-13</td>\n",
              "      <td>148.0</td>\n",
              "      <td>Sam Mendes</td>\n",
              "      <td>0.0</td>\n",
              "      <td>Christoph Waltz</td>\n",
              "      <td>11000.0</td>\n",
              "      <td>Rory Kinnear</td>\n",
              "      <td>393.0</td>\n",
              "      <td>Stephanie Sigman</td>\n",
              "      <td>161.0</td>\n",
              "      <td>200074175.0</td>\n",
              "      <td>Action|Adventure|Thriller</td>\n",
              "      <td>602.0</td>\n",
              "      <td>275868</td>\n",
              "      <td>bomb|espionage|sequel|spy|terrorist</td>\n",
              "      <td>English</td>\n",
              "      <td>UK</td>\n",
              "      <td>245000000.0</td>\n",
              "      <td>6.8</td>\n",
              "    </tr>\n",
              "  </tbody>\n",
              "</table>\n",
              "</div>"
            ],
            "text/plain": [
              "                                            year  ... imdb_score\n",
              "title                                             ...           \n",
              "Avatar                                    2009.0  ...        7.9\n",
              "Pirates of the Caribbean: At World's End  2007.0  ...        7.1\n",
              "Spectre                                   2015.0  ...        6.8\n",
              "\n",
              "[3 rows x 21 columns]"
            ]
          },
          "metadata": {
            "tags": []
          },
          "execution_count": 79
        }
      ]
    },
    {
      "cell_type": "markdown",
      "metadata": {
        "id": "mxeQGTn85wEp"
      },
      "source": [
        "### Exercise 10\n",
        "\n",
        "<span  style=\"color:green; font-size:16px\">Select movies that are either rated PG-13 or were made after 2010.</span>"
      ]
    },
    {
      "cell_type": "code",
      "metadata": {
        "id": "vMIaaU5w5wEq",
        "colab": {
          "base_uri": "https://localhost:8080/"
        },
        "outputId": "0552797d-e2e4-48ff-8904-c14b1d03e893"
      },
      "source": [
        "filt1 = movie['content_rating'] == 'PG-13'\n",
        "filt2 = movie['year'] > 2010\n",
        "filt = filt1 | filt2\n",
        "movie[filt].head(3)"
      ],
      "execution_count": null,
      "outputs": [
        {
          "output_type": "execute_result",
          "data": {
            "text/html": [
              "<div>\n",
              "<style scoped>\n",
              "    .dataframe tbody tr th:only-of-type {\n",
              "        vertical-align: middle;\n",
              "    }\n",
              "\n",
              "    .dataframe tbody tr th {\n",
              "        vertical-align: top;\n",
              "    }\n",
              "\n",
              "    .dataframe thead th {\n",
              "        text-align: right;\n",
              "    }\n",
              "</style>\n",
              "<table border=\"1\" class=\"dataframe\">\n",
              "  <thead>\n",
              "    <tr style=\"text-align: right;\">\n",
              "      <th></th>\n",
              "      <th>year</th>\n",
              "      <th>color</th>\n",
              "      <th>content_rating</th>\n",
              "      <th>duration</th>\n",
              "      <th>director_name</th>\n",
              "      <th>director_fb</th>\n",
              "      <th>actor1</th>\n",
              "      <th>actor1_fb</th>\n",
              "      <th>actor2</th>\n",
              "      <th>actor2_fb</th>\n",
              "      <th>actor3</th>\n",
              "      <th>actor3_fb</th>\n",
              "      <th>gross</th>\n",
              "      <th>genres</th>\n",
              "      <th>num_reviews</th>\n",
              "      <th>num_voted_users</th>\n",
              "      <th>plot_keywords</th>\n",
              "      <th>language</th>\n",
              "      <th>country</th>\n",
              "      <th>budget</th>\n",
              "      <th>imdb_score</th>\n",
              "    </tr>\n",
              "    <tr>\n",
              "      <th>title</th>\n",
              "      <th></th>\n",
              "      <th></th>\n",
              "      <th></th>\n",
              "      <th></th>\n",
              "      <th></th>\n",
              "      <th></th>\n",
              "      <th></th>\n",
              "      <th></th>\n",
              "      <th></th>\n",
              "      <th></th>\n",
              "      <th></th>\n",
              "      <th></th>\n",
              "      <th></th>\n",
              "      <th></th>\n",
              "      <th></th>\n",
              "      <th></th>\n",
              "      <th></th>\n",
              "      <th></th>\n",
              "      <th></th>\n",
              "      <th></th>\n",
              "      <th></th>\n",
              "    </tr>\n",
              "  </thead>\n",
              "  <tbody>\n",
              "    <tr>\n",
              "      <th>Avatar</th>\n",
              "      <td>2009.0</td>\n",
              "      <td>Color</td>\n",
              "      <td>PG-13</td>\n",
              "      <td>178.0</td>\n",
              "      <td>James Cameron</td>\n",
              "      <td>0.0</td>\n",
              "      <td>CCH Pounder</td>\n",
              "      <td>1000.0</td>\n",
              "      <td>Joel David Moore</td>\n",
              "      <td>936.0</td>\n",
              "      <td>Wes Studi</td>\n",
              "      <td>855.0</td>\n",
              "      <td>760505847.0</td>\n",
              "      <td>Action|Adventure|Fantasy|Sci-Fi</td>\n",
              "      <td>723.0</td>\n",
              "      <td>886204</td>\n",
              "      <td>avatar|future|marine|native|paraplegic</td>\n",
              "      <td>English</td>\n",
              "      <td>USA</td>\n",
              "      <td>237000000.0</td>\n",
              "      <td>7.9</td>\n",
              "    </tr>\n",
              "    <tr>\n",
              "      <th>Pirates of the Caribbean: At World's End</th>\n",
              "      <td>2007.0</td>\n",
              "      <td>Color</td>\n",
              "      <td>PG-13</td>\n",
              "      <td>169.0</td>\n",
              "      <td>Gore Verbinski</td>\n",
              "      <td>563.0</td>\n",
              "      <td>Johnny Depp</td>\n",
              "      <td>40000.0</td>\n",
              "      <td>Orlando Bloom</td>\n",
              "      <td>5000.0</td>\n",
              "      <td>Jack Davenport</td>\n",
              "      <td>1000.0</td>\n",
              "      <td>309404152.0</td>\n",
              "      <td>Action|Adventure|Fantasy</td>\n",
              "      <td>302.0</td>\n",
              "      <td>471220</td>\n",
              "      <td>goddess|marriage ceremony|marriage proposal|pi...</td>\n",
              "      <td>English</td>\n",
              "      <td>USA</td>\n",
              "      <td>300000000.0</td>\n",
              "      <td>7.1</td>\n",
              "    </tr>\n",
              "    <tr>\n",
              "      <th>Spectre</th>\n",
              "      <td>2015.0</td>\n",
              "      <td>Color</td>\n",
              "      <td>PG-13</td>\n",
              "      <td>148.0</td>\n",
              "      <td>Sam Mendes</td>\n",
              "      <td>0.0</td>\n",
              "      <td>Christoph Waltz</td>\n",
              "      <td>11000.0</td>\n",
              "      <td>Rory Kinnear</td>\n",
              "      <td>393.0</td>\n",
              "      <td>Stephanie Sigman</td>\n",
              "      <td>161.0</td>\n",
              "      <td>200074175.0</td>\n",
              "      <td>Action|Adventure|Thriller</td>\n",
              "      <td>602.0</td>\n",
              "      <td>275868</td>\n",
              "      <td>bomb|espionage|sequel|spy|terrorist</td>\n",
              "      <td>English</td>\n",
              "      <td>UK</td>\n",
              "      <td>245000000.0</td>\n",
              "      <td>6.8</td>\n",
              "    </tr>\n",
              "  </tbody>\n",
              "</table>\n",
              "</div>"
            ],
            "text/plain": [
              "                                            year  ... imdb_score\n",
              "title                                             ...           \n",
              "Avatar                                    2009.0  ...        7.9\n",
              "Pirates of the Caribbean: At World's End  2007.0  ...        7.1\n",
              "Spectre                                   2015.0  ...        6.8\n",
              "\n",
              "[3 rows x 21 columns]"
            ]
          },
          "metadata": {
            "tags": []
          },
          "execution_count": 80
        }
      ]
    },
    {
      "cell_type": "markdown",
      "metadata": {
        "id": "Bd1GoL3_5wEs"
      },
      "source": [
        "### Exercise 11\n",
        "\n",
        "<span  style=\"color:green; font-size:16px\">Find all the movies that have at least one of the three actors with more than 10,000 Facebook likes.</span>"
      ]
    },
    {
      "cell_type": "code",
      "metadata": {
        "id": "pVV5QiUS5wEt",
        "colab": {
          "base_uri": "https://localhost:8080/"
        },
        "outputId": "93dbf771-60e0-4bec-99e5-b60fc196e9e5"
      },
      "source": [
        "filt1 = movie['actor1_fb'] > 10000\n",
        "filt2 = movie['actor2_fb'] > 10000\n",
        "filt3 = movie['actor3_fb'] > 10000\n",
        "filt = filt1 | filt2 | filt3\n",
        "movie[filt].head(3)"
      ],
      "execution_count": null,
      "outputs": [
        {
          "output_type": "execute_result",
          "data": {
            "text/html": [
              "<div>\n",
              "<style scoped>\n",
              "    .dataframe tbody tr th:only-of-type {\n",
              "        vertical-align: middle;\n",
              "    }\n",
              "\n",
              "    .dataframe tbody tr th {\n",
              "        vertical-align: top;\n",
              "    }\n",
              "\n",
              "    .dataframe thead th {\n",
              "        text-align: right;\n",
              "    }\n",
              "</style>\n",
              "<table border=\"1\" class=\"dataframe\">\n",
              "  <thead>\n",
              "    <tr style=\"text-align: right;\">\n",
              "      <th></th>\n",
              "      <th>year</th>\n",
              "      <th>color</th>\n",
              "      <th>content_rating</th>\n",
              "      <th>duration</th>\n",
              "      <th>director_name</th>\n",
              "      <th>director_fb</th>\n",
              "      <th>actor1</th>\n",
              "      <th>actor1_fb</th>\n",
              "      <th>actor2</th>\n",
              "      <th>actor2_fb</th>\n",
              "      <th>actor3</th>\n",
              "      <th>actor3_fb</th>\n",
              "      <th>gross</th>\n",
              "      <th>genres</th>\n",
              "      <th>num_reviews</th>\n",
              "      <th>num_voted_users</th>\n",
              "      <th>plot_keywords</th>\n",
              "      <th>language</th>\n",
              "      <th>country</th>\n",
              "      <th>budget</th>\n",
              "      <th>imdb_score</th>\n",
              "    </tr>\n",
              "    <tr>\n",
              "      <th>title</th>\n",
              "      <th></th>\n",
              "      <th></th>\n",
              "      <th></th>\n",
              "      <th></th>\n",
              "      <th></th>\n",
              "      <th></th>\n",
              "      <th></th>\n",
              "      <th></th>\n",
              "      <th></th>\n",
              "      <th></th>\n",
              "      <th></th>\n",
              "      <th></th>\n",
              "      <th></th>\n",
              "      <th></th>\n",
              "      <th></th>\n",
              "      <th></th>\n",
              "      <th></th>\n",
              "      <th></th>\n",
              "      <th></th>\n",
              "      <th></th>\n",
              "      <th></th>\n",
              "    </tr>\n",
              "  </thead>\n",
              "  <tbody>\n",
              "    <tr>\n",
              "      <th>Pirates of the Caribbean: At World's End</th>\n",
              "      <td>2007.0</td>\n",
              "      <td>Color</td>\n",
              "      <td>PG-13</td>\n",
              "      <td>169.0</td>\n",
              "      <td>Gore Verbinski</td>\n",
              "      <td>563.0</td>\n",
              "      <td>Johnny Depp</td>\n",
              "      <td>40000.0</td>\n",
              "      <td>Orlando Bloom</td>\n",
              "      <td>5000.0</td>\n",
              "      <td>Jack Davenport</td>\n",
              "      <td>1000.0</td>\n",
              "      <td>309404152.0</td>\n",
              "      <td>Action|Adventure|Fantasy</td>\n",
              "      <td>302.0</td>\n",
              "      <td>471220</td>\n",
              "      <td>goddess|marriage ceremony|marriage proposal|pi...</td>\n",
              "      <td>English</td>\n",
              "      <td>USA</td>\n",
              "      <td>300000000.0</td>\n",
              "      <td>7.1</td>\n",
              "    </tr>\n",
              "    <tr>\n",
              "      <th>Spectre</th>\n",
              "      <td>2015.0</td>\n",
              "      <td>Color</td>\n",
              "      <td>PG-13</td>\n",
              "      <td>148.0</td>\n",
              "      <td>Sam Mendes</td>\n",
              "      <td>0.0</td>\n",
              "      <td>Christoph Waltz</td>\n",
              "      <td>11000.0</td>\n",
              "      <td>Rory Kinnear</td>\n",
              "      <td>393.0</td>\n",
              "      <td>Stephanie Sigman</td>\n",
              "      <td>161.0</td>\n",
              "      <td>200074175.0</td>\n",
              "      <td>Action|Adventure|Thriller</td>\n",
              "      <td>602.0</td>\n",
              "      <td>275868</td>\n",
              "      <td>bomb|espionage|sequel|spy|terrorist</td>\n",
              "      <td>English</td>\n",
              "      <td>UK</td>\n",
              "      <td>245000000.0</td>\n",
              "      <td>6.8</td>\n",
              "    </tr>\n",
              "    <tr>\n",
              "      <th>The Dark Knight Rises</th>\n",
              "      <td>2012.0</td>\n",
              "      <td>Color</td>\n",
              "      <td>PG-13</td>\n",
              "      <td>164.0</td>\n",
              "      <td>Christopher Nolan</td>\n",
              "      <td>22000.0</td>\n",
              "      <td>Tom Hardy</td>\n",
              "      <td>27000.0</td>\n",
              "      <td>Christian Bale</td>\n",
              "      <td>23000.0</td>\n",
              "      <td>Joseph Gordon-Levitt</td>\n",
              "      <td>23000.0</td>\n",
              "      <td>448130642.0</td>\n",
              "      <td>Action|Thriller</td>\n",
              "      <td>813.0</td>\n",
              "      <td>1144337</td>\n",
              "      <td>deception|imprisonment|lawlessness|police offi...</td>\n",
              "      <td>English</td>\n",
              "      <td>USA</td>\n",
              "      <td>250000000.0</td>\n",
              "      <td>8.5</td>\n",
              "    </tr>\n",
              "  </tbody>\n",
              "</table>\n",
              "</div>"
            ],
            "text/plain": [
              "                                            year  ... imdb_score\n",
              "title                                             ...           \n",
              "Pirates of the Caribbean: At World's End  2007.0  ...        7.1\n",
              "Spectre                                   2015.0  ...        6.8\n",
              "The Dark Knight Rises                     2012.0  ...        8.5\n",
              "\n",
              "[3 rows x 21 columns]"
            ]
          },
          "metadata": {
            "tags": []
          },
          "execution_count": 81
        }
      ]
    },
    {
      "cell_type": "markdown",
      "metadata": {
        "id": "RcDOyzmS5wEu"
      },
      "source": [
        "### Exercise 12\n",
        "\n",
        "<span  style=\"color:green; font-size:16px\">Invert the condition from exercise 10. In words, what have you selected?</span>"
      ]
    },
    {
      "cell_type": "markdown",
      "metadata": {
        "id": "sdKlxwsV5wEw"
      },
      "source": [
        "The following selects non-PG-13 movies made in the year 2010 or before."
      ]
    },
    {
      "cell_type": "code",
      "metadata": {
        "id": "Gl84Ekrl5wEx",
        "colab": {
          "base_uri": "https://localhost:8080/"
        },
        "outputId": "e422134f-3d6d-492a-a80e-932d5feb53e0"
      },
      "source": [
        "filt1 = movie['content_rating'] == 'PG-13'\n",
        "filt2 = movie['year'] > 2010\n",
        "filt = filt1 | filt2\n",
        "movie[~filt].head(3)"
      ],
      "execution_count": null,
      "outputs": [
        {
          "output_type": "execute_result",
          "data": {
            "text/html": [
              "<div>\n",
              "<style scoped>\n",
              "    .dataframe tbody tr th:only-of-type {\n",
              "        vertical-align: middle;\n",
              "    }\n",
              "\n",
              "    .dataframe tbody tr th {\n",
              "        vertical-align: top;\n",
              "    }\n",
              "\n",
              "    .dataframe thead th {\n",
              "        text-align: right;\n",
              "    }\n",
              "</style>\n",
              "<table border=\"1\" class=\"dataframe\">\n",
              "  <thead>\n",
              "    <tr style=\"text-align: right;\">\n",
              "      <th></th>\n",
              "      <th>year</th>\n",
              "      <th>color</th>\n",
              "      <th>content_rating</th>\n",
              "      <th>duration</th>\n",
              "      <th>director_name</th>\n",
              "      <th>director_fb</th>\n",
              "      <th>actor1</th>\n",
              "      <th>actor1_fb</th>\n",
              "      <th>actor2</th>\n",
              "      <th>actor2_fb</th>\n",
              "      <th>actor3</th>\n",
              "      <th>actor3_fb</th>\n",
              "      <th>gross</th>\n",
              "      <th>genres</th>\n",
              "      <th>num_reviews</th>\n",
              "      <th>num_voted_users</th>\n",
              "      <th>plot_keywords</th>\n",
              "      <th>language</th>\n",
              "      <th>country</th>\n",
              "      <th>budget</th>\n",
              "      <th>imdb_score</th>\n",
              "    </tr>\n",
              "    <tr>\n",
              "      <th>title</th>\n",
              "      <th></th>\n",
              "      <th></th>\n",
              "      <th></th>\n",
              "      <th></th>\n",
              "      <th></th>\n",
              "      <th></th>\n",
              "      <th></th>\n",
              "      <th></th>\n",
              "      <th></th>\n",
              "      <th></th>\n",
              "      <th></th>\n",
              "      <th></th>\n",
              "      <th></th>\n",
              "      <th></th>\n",
              "      <th></th>\n",
              "      <th></th>\n",
              "      <th></th>\n",
              "      <th></th>\n",
              "      <th></th>\n",
              "      <th></th>\n",
              "      <th></th>\n",
              "    </tr>\n",
              "  </thead>\n",
              "  <tbody>\n",
              "    <tr>\n",
              "      <th>Star Wars: Episode VII - The Force Awakens</th>\n",
              "      <td>NaN</td>\n",
              "      <td>NaN</td>\n",
              "      <td>NaN</td>\n",
              "      <td>NaN</td>\n",
              "      <td>Doug Walker</td>\n",
              "      <td>131.0</td>\n",
              "      <td>Doug Walker</td>\n",
              "      <td>131.0</td>\n",
              "      <td>Rob Walker</td>\n",
              "      <td>12.0</td>\n",
              "      <td>NaN</td>\n",
              "      <td>NaN</td>\n",
              "      <td>NaN</td>\n",
              "      <td>Documentary</td>\n",
              "      <td>NaN</td>\n",
              "      <td>8</td>\n",
              "      <td>NaN</td>\n",
              "      <td>NaN</td>\n",
              "      <td>NaN</td>\n",
              "      <td>NaN</td>\n",
              "      <td>7.1</td>\n",
              "    </tr>\n",
              "    <tr>\n",
              "      <th>Tangled</th>\n",
              "      <td>2010.0</td>\n",
              "      <td>Color</td>\n",
              "      <td>PG</td>\n",
              "      <td>100.0</td>\n",
              "      <td>Nathan Greno</td>\n",
              "      <td>15.0</td>\n",
              "      <td>Brad Garrett</td>\n",
              "      <td>799.0</td>\n",
              "      <td>Donna Murphy</td>\n",
              "      <td>553.0</td>\n",
              "      <td>M.C. Gainey</td>\n",
              "      <td>284.0</td>\n",
              "      <td>200807262.0</td>\n",
              "      <td>Adventure|Animation|Comedy|Family|Fantasy|Musi...</td>\n",
              "      <td>324.0</td>\n",
              "      <td>294810</td>\n",
              "      <td>17th century|based on fairy tale|disney|flower...</td>\n",
              "      <td>English</td>\n",
              "      <td>USA</td>\n",
              "      <td>260000000.0</td>\n",
              "      <td>7.8</td>\n",
              "    </tr>\n",
              "    <tr>\n",
              "      <th>Harry Potter and the Half-Blood Prince</th>\n",
              "      <td>2009.0</td>\n",
              "      <td>Color</td>\n",
              "      <td>PG</td>\n",
              "      <td>153.0</td>\n",
              "      <td>David Yates</td>\n",
              "      <td>282.0</td>\n",
              "      <td>Alan Rickman</td>\n",
              "      <td>25000.0</td>\n",
              "      <td>Daniel Radcliffe</td>\n",
              "      <td>11000.0</td>\n",
              "      <td>Rupert Grint</td>\n",
              "      <td>10000.0</td>\n",
              "      <td>301956980.0</td>\n",
              "      <td>Adventure|Family|Fantasy|Mystery</td>\n",
              "      <td>375.0</td>\n",
              "      <td>321795</td>\n",
              "      <td>blood|book|love|potion|professor</td>\n",
              "      <td>English</td>\n",
              "      <td>UK</td>\n",
              "      <td>250000000.0</td>\n",
              "      <td>7.5</td>\n",
              "    </tr>\n",
              "  </tbody>\n",
              "</table>\n",
              "</div>"
            ],
            "text/plain": [
              "                                              year  ... imdb_score\n",
              "title                                               ...           \n",
              "Star Wars: Episode VII - The Force Awakens     NaN  ...        7.1\n",
              "Tangled                                     2010.0  ...        7.8\n",
              "Harry Potter and the Half-Blood Prince      2009.0  ...        7.5\n",
              "\n",
              "[3 rows x 21 columns]"
            ]
          },
          "metadata": {
            "tags": []
          },
          "execution_count": 82
        }
      ]
    },
    {
      "cell_type": "markdown",
      "metadata": {
        "id": "Ven-N5C45wE1"
      },
      "source": [
        "## 7. Boolean Selection More"
      ]
    },
    {
      "cell_type": "code",
      "metadata": {
        "id": "XfMakMUq5wE2"
      },
      "source": [
        "import pandas as pd\n",
        "bikes = pd.read_csv('Pandas/bikes.csv')"
      ],
      "execution_count": null,
      "outputs": []
    },
    {
      "cell_type": "markdown",
      "metadata": {
        "id": "iQF_qeBH5wE3"
      },
      "source": [
        "### Exercise 1\n",
        "<span  style=\"color:green; font-size:16px\">Select the wind speed column a a Series and assign it to a variable. Are there any negative wind speeds?</span>"
      ]
    },
    {
      "cell_type": "code",
      "metadata": {
        "id": "tD4uYfY15wE4",
        "colab": {
          "base_uri": "https://localhost:8080/",
          "height": 86
        },
        "outputId": "04129d93-4690-431e-dfa9-2a077227fc01"
      },
      "source": [
        "wind = bikes['wind_speed']\n",
        "wind.head(3)"
      ],
      "execution_count": null,
      "outputs": [
        {
          "output_type": "execute_result",
          "data": {
            "text/plain": [
              "0    12.7\n",
              "1     6.9\n",
              "2    16.1\n",
              "Name: wind_speed, dtype: float64"
            ]
          },
          "metadata": {
            "tags": []
          },
          "execution_count": 86
        }
      ]
    },
    {
      "cell_type": "markdown",
      "metadata": {
        "id": "jdYZW0we5wE7"
      },
      "source": [
        "Yes, there is really strong negative wind! Or maybe its just bad data..."
      ]
    },
    {
      "cell_type": "code",
      "metadata": {
        "id": "oEYSwFdE5wE8",
        "colab": {
          "base_uri": "https://localhost:8080/",
          "height": 86
        },
        "outputId": "402f023d-da4f-4632-af16-7067ceb4a981"
      },
      "source": [
        "filt = wind < 0\n",
        "wind[filt].head(3)"
      ],
      "execution_count": null,
      "outputs": [
        {
          "output_type": "execute_result",
          "data": {
            "text/plain": [
              "22990   -9999.0\n",
              "27168   -9999.0\n",
              "28368   -9999.0\n",
              "Name: wind_speed, dtype: float64"
            ]
          },
          "metadata": {
            "tags": []
          },
          "execution_count": 87
        }
      ]
    },
    {
      "cell_type": "markdown",
      "metadata": {
        "id": "Huo2eEur5wE-"
      },
      "source": [
        "### Exercise 2\n",
        "<span  style=\"color:green; font-size:16px\">Select all wind speed values between 12 and 16.</span>"
      ]
    },
    {
      "cell_type": "code",
      "metadata": {
        "id": "bkRVeSVl5wFA",
        "colab": {
          "base_uri": "https://localhost:8080/"
        },
        "outputId": "5381a7d2-a33e-4361-b614-711c43ca6f4c"
      },
      "source": [
        "filt = wind.between(12, 16)\n",
        "wind[filt].head(3)"
      ],
      "execution_count": null,
      "outputs": [
        {
          "output_type": "execute_result",
          "data": {
            "text/plain": [
              "0    12.7\n",
              "6    15.0\n",
              "9    12.7\n",
              "Name: wind_speed, dtype: float64"
            ]
          },
          "metadata": {
            "tags": []
          },
          "execution_count": 88
        }
      ]
    },
    {
      "cell_type": "markdown",
      "metadata": {
        "id": "ZS4rvn0n5wFB"
      },
      "source": [
        "### Exercise 3\n",
        "<span  style=\"color:green; font-size:16px\">Select the events and gender columns for all trip durations longer than 1,000 seconds.</span>"
      ]
    },
    {
      "cell_type": "code",
      "metadata": {
        "id": "BzD6qH3Z5wFC",
        "colab": {
          "base_uri": "https://localhost:8080/",
          "height": 143
        },
        "outputId": "388aa198-9174-47f8-d404-152031aee815"
      },
      "source": [
        "filt = bikes['tripduration'] > 1000\n",
        "cols = ['events', 'gender']\n",
        "bikes.loc[filt, cols].head(3)"
      ],
      "execution_count": null,
      "outputs": [
        {
          "output_type": "execute_result",
          "data": {
            "text/html": [
              "<div>\n",
              "<style scoped>\n",
              "    .dataframe tbody tr th:only-of-type {\n",
              "        vertical-align: middle;\n",
              "    }\n",
              "\n",
              "    .dataframe tbody tr th {\n",
              "        vertical-align: top;\n",
              "    }\n",
              "\n",
              "    .dataframe thead th {\n",
              "        text-align: right;\n",
              "    }\n",
              "</style>\n",
              "<table border=\"1\" class=\"dataframe\">\n",
              "  <thead>\n",
              "    <tr style=\"text-align: right;\">\n",
              "      <th></th>\n",
              "      <th>events</th>\n",
              "      <th>gender</th>\n",
              "    </tr>\n",
              "  </thead>\n",
              "  <tbody>\n",
              "    <tr>\n",
              "      <th>2</th>\n",
              "      <td>mostlycloudy</td>\n",
              "      <td>Male</td>\n",
              "    </tr>\n",
              "    <tr>\n",
              "      <th>8</th>\n",
              "      <td>cloudy</td>\n",
              "      <td>Male</td>\n",
              "    </tr>\n",
              "    <tr>\n",
              "      <th>10</th>\n",
              "      <td>mostlycloudy</td>\n",
              "      <td>Male</td>\n",
              "    </tr>\n",
              "  </tbody>\n",
              "</table>\n",
              "</div>"
            ],
            "text/plain": [
              "          events gender\n",
              "2   mostlycloudy   Male\n",
              "8         cloudy   Male\n",
              "10  mostlycloudy   Male"
            ]
          },
          "metadata": {
            "tags": []
          },
          "execution_count": 89
        }
      ]
    },
    {
      "cell_type": "markdown",
      "metadata": {
        "id": "tNsZV8Dr5wFD"
      },
      "source": [
        "Read in the movie dataset by executing the cell below and use it for the following exercises."
      ]
    },
    {
      "cell_type": "code",
      "metadata": {
        "id": "PyFmxTCs5wFD",
        "colab": {
          "base_uri": "https://localhost:8080/",
          "height": 316
        },
        "outputId": "a2e98027-cf1b-4d6f-a2a5-aa192bc2a209"
      },
      "source": [
        "import pandas as pd\n",
        "movie = pd.read_csv('Pandas/movie.csv', index_col='title')\n",
        "movie.head(3)"
      ],
      "execution_count": null,
      "outputs": [
        {
          "output_type": "execute_result",
          "data": {
            "text/html": [
              "<div>\n",
              "<style scoped>\n",
              "    .dataframe tbody tr th:only-of-type {\n",
              "        vertical-align: middle;\n",
              "    }\n",
              "\n",
              "    .dataframe tbody tr th {\n",
              "        vertical-align: top;\n",
              "    }\n",
              "\n",
              "    .dataframe thead th {\n",
              "        text-align: right;\n",
              "    }\n",
              "</style>\n",
              "<table border=\"1\" class=\"dataframe\">\n",
              "  <thead>\n",
              "    <tr style=\"text-align: right;\">\n",
              "      <th></th>\n",
              "      <th>year</th>\n",
              "      <th>color</th>\n",
              "      <th>content_rating</th>\n",
              "      <th>duration</th>\n",
              "      <th>director_name</th>\n",
              "      <th>director_fb</th>\n",
              "      <th>actor1</th>\n",
              "      <th>actor1_fb</th>\n",
              "      <th>actor2</th>\n",
              "      <th>actor2_fb</th>\n",
              "      <th>actor3</th>\n",
              "      <th>actor3_fb</th>\n",
              "      <th>gross</th>\n",
              "      <th>genres</th>\n",
              "      <th>num_reviews</th>\n",
              "      <th>num_voted_users</th>\n",
              "      <th>plot_keywords</th>\n",
              "      <th>language</th>\n",
              "      <th>country</th>\n",
              "      <th>budget</th>\n",
              "      <th>imdb_score</th>\n",
              "    </tr>\n",
              "    <tr>\n",
              "      <th>title</th>\n",
              "      <th></th>\n",
              "      <th></th>\n",
              "      <th></th>\n",
              "      <th></th>\n",
              "      <th></th>\n",
              "      <th></th>\n",
              "      <th></th>\n",
              "      <th></th>\n",
              "      <th></th>\n",
              "      <th></th>\n",
              "      <th></th>\n",
              "      <th></th>\n",
              "      <th></th>\n",
              "      <th></th>\n",
              "      <th></th>\n",
              "      <th></th>\n",
              "      <th></th>\n",
              "      <th></th>\n",
              "      <th></th>\n",
              "      <th></th>\n",
              "      <th></th>\n",
              "    </tr>\n",
              "  </thead>\n",
              "  <tbody>\n",
              "    <tr>\n",
              "      <th>Avatar</th>\n",
              "      <td>2009.0</td>\n",
              "      <td>Color</td>\n",
              "      <td>PG-13</td>\n",
              "      <td>178.0</td>\n",
              "      <td>James Cameron</td>\n",
              "      <td>0.0</td>\n",
              "      <td>CCH Pounder</td>\n",
              "      <td>1000.0</td>\n",
              "      <td>Joel David Moore</td>\n",
              "      <td>936.0</td>\n",
              "      <td>Wes Studi</td>\n",
              "      <td>855.0</td>\n",
              "      <td>760505847.0</td>\n",
              "      <td>Action|Adventure|Fantasy|Sci-Fi</td>\n",
              "      <td>723.0</td>\n",
              "      <td>886204</td>\n",
              "      <td>avatar|future|marine|native|paraplegic</td>\n",
              "      <td>English</td>\n",
              "      <td>USA</td>\n",
              "      <td>237000000.0</td>\n",
              "      <td>7.9</td>\n",
              "    </tr>\n",
              "    <tr>\n",
              "      <th>Pirates of the Caribbean: At World's End</th>\n",
              "      <td>2007.0</td>\n",
              "      <td>Color</td>\n",
              "      <td>PG-13</td>\n",
              "      <td>169.0</td>\n",
              "      <td>Gore Verbinski</td>\n",
              "      <td>563.0</td>\n",
              "      <td>Johnny Depp</td>\n",
              "      <td>40000.0</td>\n",
              "      <td>Orlando Bloom</td>\n",
              "      <td>5000.0</td>\n",
              "      <td>Jack Davenport</td>\n",
              "      <td>1000.0</td>\n",
              "      <td>309404152.0</td>\n",
              "      <td>Action|Adventure|Fantasy</td>\n",
              "      <td>302.0</td>\n",
              "      <td>471220</td>\n",
              "      <td>goddess|marriage ceremony|marriage proposal|pi...</td>\n",
              "      <td>English</td>\n",
              "      <td>USA</td>\n",
              "      <td>300000000.0</td>\n",
              "      <td>7.1</td>\n",
              "    </tr>\n",
              "    <tr>\n",
              "      <th>Spectre</th>\n",
              "      <td>2015.0</td>\n",
              "      <td>Color</td>\n",
              "      <td>PG-13</td>\n",
              "      <td>148.0</td>\n",
              "      <td>Sam Mendes</td>\n",
              "      <td>0.0</td>\n",
              "      <td>Christoph Waltz</td>\n",
              "      <td>11000.0</td>\n",
              "      <td>Rory Kinnear</td>\n",
              "      <td>393.0</td>\n",
              "      <td>Stephanie Sigman</td>\n",
              "      <td>161.0</td>\n",
              "      <td>200074175.0</td>\n",
              "      <td>Action|Adventure|Thriller</td>\n",
              "      <td>602.0</td>\n",
              "      <td>275868</td>\n",
              "      <td>bomb|espionage|sequel|spy|terrorist</td>\n",
              "      <td>English</td>\n",
              "      <td>UK</td>\n",
              "      <td>245000000.0</td>\n",
              "      <td>6.8</td>\n",
              "    </tr>\n",
              "  </tbody>\n",
              "</table>\n",
              "</div>"
            ],
            "text/plain": [
              "                                            year  ... imdb_score\n",
              "title                                             ...           \n",
              "Avatar                                    2009.0  ...        7.9\n",
              "Pirates of the Caribbean: At World's End  2007.0  ...        7.1\n",
              "Spectre                                   2015.0  ...        6.8\n",
              "\n",
              "[3 rows x 21 columns]"
            ]
          },
          "metadata": {
            "tags": []
          },
          "execution_count": 92
        }
      ]
    },
    {
      "cell_type": "markdown",
      "metadata": {
        "id": "JY4XRfZ45wFG"
      },
      "source": [
        "### Exercise 4\n",
        "<span  style=\"color:green; font-size:16px\">Select all the movies such that the Facebook likes for actor 2 are greater than those for actor 1.</span>"
      ]
    },
    {
      "cell_type": "markdown",
      "metadata": {
        "id": "KI5aMJqg5wFH"
      },
      "source": [
        "There are none!"
      ]
    },
    {
      "cell_type": "code",
      "metadata": {
        "id": "_EBdgIpC5wFH",
        "colab": {
          "base_uri": "https://localhost:8080/"
        },
        "outputId": "b315465e-7c16-415b-adb3-9340fc5724a1"
      },
      "source": [
        "filt = movie['actor2_fb'] > movie['actor2_fb']\n",
        "movie[filt]"
      ],
      "execution_count": null,
      "outputs": [
        {
          "output_type": "execute_result",
          "data": {
            "text/html": [
              "<div>\n",
              "<style scoped>\n",
              "    .dataframe tbody tr th:only-of-type {\n",
              "        vertical-align: middle;\n",
              "    }\n",
              "\n",
              "    .dataframe tbody tr th {\n",
              "        vertical-align: top;\n",
              "    }\n",
              "\n",
              "    .dataframe thead th {\n",
              "        text-align: right;\n",
              "    }\n",
              "</style>\n",
              "<table border=\"1\" class=\"dataframe\">\n",
              "  <thead>\n",
              "    <tr style=\"text-align: right;\">\n",
              "      <th></th>\n",
              "      <th>year</th>\n",
              "      <th>color</th>\n",
              "      <th>content_rating</th>\n",
              "      <th>duration</th>\n",
              "      <th>director_name</th>\n",
              "      <th>director_fb</th>\n",
              "      <th>actor1</th>\n",
              "      <th>actor1_fb</th>\n",
              "      <th>actor2</th>\n",
              "      <th>actor2_fb</th>\n",
              "      <th>actor3</th>\n",
              "      <th>actor3_fb</th>\n",
              "      <th>gross</th>\n",
              "      <th>genres</th>\n",
              "      <th>num_reviews</th>\n",
              "      <th>num_voted_users</th>\n",
              "      <th>plot_keywords</th>\n",
              "      <th>language</th>\n",
              "      <th>country</th>\n",
              "      <th>budget</th>\n",
              "      <th>imdb_score</th>\n",
              "    </tr>\n",
              "    <tr>\n",
              "      <th>title</th>\n",
              "      <th></th>\n",
              "      <th></th>\n",
              "      <th></th>\n",
              "      <th></th>\n",
              "      <th></th>\n",
              "      <th></th>\n",
              "      <th></th>\n",
              "      <th></th>\n",
              "      <th></th>\n",
              "      <th></th>\n",
              "      <th></th>\n",
              "      <th></th>\n",
              "      <th></th>\n",
              "      <th></th>\n",
              "      <th></th>\n",
              "      <th></th>\n",
              "      <th></th>\n",
              "      <th></th>\n",
              "      <th></th>\n",
              "      <th></th>\n",
              "      <th></th>\n",
              "    </tr>\n",
              "  </thead>\n",
              "  <tbody>\n",
              "  </tbody>\n",
              "</table>\n",
              "</div>"
            ],
            "text/plain": [
              "Empty DataFrame\n",
              "Columns: [year, color, content_rating, duration, director_name, director_fb, actor1, actor1_fb, actor2, actor2_fb, actor3, actor3_fb, gross, genres, num_reviews, num_voted_users, plot_keywords, language, country, budget, imdb_score]\n",
              "Index: []"
            ]
          },
          "metadata": {
            "tags": []
          },
          "execution_count": 93
        }
      ]
    },
    {
      "cell_type": "markdown",
      "metadata": {
        "id": "ZiQXsf6_5wFI"
      },
      "source": [
        "### Exercise 5\n",
        "<span  style=\"color:green; font-size:16px\">Select the year, content rating, and IMDB score columns for movies from the year 2016 with IMDB score less than 4.</span>"
      ]
    },
    {
      "cell_type": "code",
      "metadata": {
        "id": "Sv5tGdro5wFI",
        "colab": {
          "base_uri": "https://localhost:8080/"
        },
        "outputId": "eef1714b-2882-4895-d076-d7842f962a53"
      },
      "source": [
        "filt1 = movie['year'] == 2016\n",
        "filt2 = movie['imdb_score'] < 4\n",
        "filt = filt1 & filt2\n",
        "cols = ['year', 'content_rating', 'imdb_score']\n",
        "\n",
        "movie.loc[filt, cols]"
      ],
      "execution_count": null,
      "outputs": [
        {
          "output_type": "execute_result",
          "data": {
            "text/html": [
              "<div>\n",
              "<style scoped>\n",
              "    .dataframe tbody tr th:only-of-type {\n",
              "        vertical-align: middle;\n",
              "    }\n",
              "\n",
              "    .dataframe tbody tr th {\n",
              "        vertical-align: top;\n",
              "    }\n",
              "\n",
              "    .dataframe thead th {\n",
              "        text-align: right;\n",
              "    }\n",
              "</style>\n",
              "<table border=\"1\" class=\"dataframe\">\n",
              "  <thead>\n",
              "    <tr style=\"text-align: right;\">\n",
              "      <th></th>\n",
              "      <th>year</th>\n",
              "      <th>content_rating</th>\n",
              "      <th>imdb_score</th>\n",
              "    </tr>\n",
              "    <tr>\n",
              "      <th>title</th>\n",
              "      <th></th>\n",
              "      <th></th>\n",
              "      <th></th>\n",
              "    </tr>\n",
              "  </thead>\n",
              "  <tbody>\n",
              "    <tr>\n",
              "      <th>Fifty Shades of Black</th>\n",
              "      <td>2016.0</td>\n",
              "      <td>R</td>\n",
              "      <td>3.5</td>\n",
              "    </tr>\n",
              "    <tr>\n",
              "      <th>Cabin Fever</th>\n",
              "      <td>2016.0</td>\n",
              "      <td>Not Rated</td>\n",
              "      <td>3.7</td>\n",
              "    </tr>\n",
              "    <tr>\n",
              "      <th>God's Not Dead 2</th>\n",
              "      <td>2016.0</td>\n",
              "      <td>PG</td>\n",
              "      <td>3.4</td>\n",
              "    </tr>\n",
              "  </tbody>\n",
              "</table>\n",
              "</div>"
            ],
            "text/plain": [
              "                         year content_rating  imdb_score\n",
              "title                                                   \n",
              "Fifty Shades of Black  2016.0              R         3.5\n",
              "Cabin Fever            2016.0      Not Rated         3.7\n",
              "God's Not Dead 2       2016.0             PG         3.4"
            ]
          },
          "metadata": {
            "tags": []
          },
          "execution_count": 94
        }
      ]
    },
    {
      "cell_type": "markdown",
      "metadata": {
        "id": "0vgrNg_o5wFK"
      },
      "source": [
        "### Exercise 6\n",
        "<span  style=\"color:green; font-size:16px\">Select all the movies that are missing values for content rating.</span>"
      ]
    },
    {
      "cell_type": "code",
      "metadata": {
        "id": "oKQYU-AG5wFQ",
        "colab": {
          "base_uri": "https://localhost:8080/"
        },
        "outputId": "be08a3fb-a0de-4280-8743-81b06be3cd6d"
      },
      "source": [
        "filt = movie['content_rating'].isna()\n",
        "movie[filt].head(3)"
      ],
      "execution_count": null,
      "outputs": [
        {
          "output_type": "execute_result",
          "data": {
            "text/html": [
              "<div>\n",
              "<style scoped>\n",
              "    .dataframe tbody tr th:only-of-type {\n",
              "        vertical-align: middle;\n",
              "    }\n",
              "\n",
              "    .dataframe tbody tr th {\n",
              "        vertical-align: top;\n",
              "    }\n",
              "\n",
              "    .dataframe thead th {\n",
              "        text-align: right;\n",
              "    }\n",
              "</style>\n",
              "<table border=\"1\" class=\"dataframe\">\n",
              "  <thead>\n",
              "    <tr style=\"text-align: right;\">\n",
              "      <th></th>\n",
              "      <th>year</th>\n",
              "      <th>color</th>\n",
              "      <th>content_rating</th>\n",
              "      <th>duration</th>\n",
              "      <th>director_name</th>\n",
              "      <th>director_fb</th>\n",
              "      <th>actor1</th>\n",
              "      <th>actor1_fb</th>\n",
              "      <th>actor2</th>\n",
              "      <th>actor2_fb</th>\n",
              "      <th>actor3</th>\n",
              "      <th>actor3_fb</th>\n",
              "      <th>gross</th>\n",
              "      <th>genres</th>\n",
              "      <th>num_reviews</th>\n",
              "      <th>num_voted_users</th>\n",
              "      <th>plot_keywords</th>\n",
              "      <th>language</th>\n",
              "      <th>country</th>\n",
              "      <th>budget</th>\n",
              "      <th>imdb_score</th>\n",
              "    </tr>\n",
              "    <tr>\n",
              "      <th>title</th>\n",
              "      <th></th>\n",
              "      <th></th>\n",
              "      <th></th>\n",
              "      <th></th>\n",
              "      <th></th>\n",
              "      <th></th>\n",
              "      <th></th>\n",
              "      <th></th>\n",
              "      <th></th>\n",
              "      <th></th>\n",
              "      <th></th>\n",
              "      <th></th>\n",
              "      <th></th>\n",
              "      <th></th>\n",
              "      <th></th>\n",
              "      <th></th>\n",
              "      <th></th>\n",
              "      <th></th>\n",
              "      <th></th>\n",
              "      <th></th>\n",
              "      <th></th>\n",
              "    </tr>\n",
              "  </thead>\n",
              "  <tbody>\n",
              "    <tr>\n",
              "      <th>Star Wars: Episode VII - The Force Awakens</th>\n",
              "      <td>NaN</td>\n",
              "      <td>NaN</td>\n",
              "      <td>NaN</td>\n",
              "      <td>NaN</td>\n",
              "      <td>Doug Walker</td>\n",
              "      <td>131.0</td>\n",
              "      <td>Doug Walker</td>\n",
              "      <td>131.0</td>\n",
              "      <td>Rob Walker</td>\n",
              "      <td>12.0</td>\n",
              "      <td>NaN</td>\n",
              "      <td>NaN</td>\n",
              "      <td>NaN</td>\n",
              "      <td>Documentary</td>\n",
              "      <td>NaN</td>\n",
              "      <td>8</td>\n",
              "      <td>NaN</td>\n",
              "      <td>NaN</td>\n",
              "      <td>NaN</td>\n",
              "      <td>NaN</td>\n",
              "      <td>7.1</td>\n",
              "    </tr>\n",
              "    <tr>\n",
              "      <th>Godzilla Resurgence</th>\n",
              "      <td>2016.0</td>\n",
              "      <td>Color</td>\n",
              "      <td>NaN</td>\n",
              "      <td>120.0</td>\n",
              "      <td>Hideaki Anno</td>\n",
              "      <td>28.0</td>\n",
              "      <td>Mark Chinnery</td>\n",
              "      <td>544.0</td>\n",
              "      <td>Shin'ya Tsukamoto</td>\n",
              "      <td>106.0</td>\n",
              "      <td>Atsuko Maeda</td>\n",
              "      <td>12.0</td>\n",
              "      <td>NaN</td>\n",
              "      <td>Action|Adventure|Drama|Horror|Sci-Fi</td>\n",
              "      <td>1.0</td>\n",
              "      <td>374</td>\n",
              "      <td>blood|godzilla|monster|sequel</td>\n",
              "      <td>Japanese</td>\n",
              "      <td>Japan</td>\n",
              "      <td>NaN</td>\n",
              "      <td>8.2</td>\n",
              "    </tr>\n",
              "    <tr>\n",
              "      <th>Harry Potter and the Deathly Hallows: Part II</th>\n",
              "      <td>2011.0</td>\n",
              "      <td>Color</td>\n",
              "      <td>NaN</td>\n",
              "      <td>NaN</td>\n",
              "      <td>Matt Birch</td>\n",
              "      <td>0.0</td>\n",
              "      <td>Rupert Grint</td>\n",
              "      <td>10000.0</td>\n",
              "      <td>Dave Legeno</td>\n",
              "      <td>570.0</td>\n",
              "      <td>Ralph Ineson</td>\n",
              "      <td>159.0</td>\n",
              "      <td>NaN</td>\n",
              "      <td>Action|Fantasy</td>\n",
              "      <td>1.0</td>\n",
              "      <td>381</td>\n",
              "      <td>NaN</td>\n",
              "      <td>English</td>\n",
              "      <td>UK</td>\n",
              "      <td>NaN</td>\n",
              "      <td>7.5</td>\n",
              "    </tr>\n",
              "  </tbody>\n",
              "</table>\n",
              "</div>"
            ],
            "text/plain": [
              "                                                 year  ... imdb_score\n",
              "title                                                  ...           \n",
              "Star Wars: Episode VII - The Force Awakens        NaN  ...        7.1\n",
              "Godzilla Resurgence                            2016.0  ...        8.2\n",
              "Harry Potter and the Deathly Hallows: Part II  2011.0  ...        7.5\n",
              "\n",
              "[3 rows x 21 columns]"
            ]
          },
          "metadata": {
            "tags": []
          },
          "execution_count": 95
        }
      ]
    },
    {
      "cell_type": "markdown",
      "metadata": {
        "id": "3uPDjAYL5wFS"
      },
      "source": [
        "### Exercise 7\n",
        "<span  style=\"color:green; font-size:16px\">Select all the movies that are missing values for both the gross and budget columns. Return just those columns to verify that those values are indeed missing.</span>"
      ]
    },
    {
      "cell_type": "code",
      "metadata": {
        "id": "3cj5pzt45wFT",
        "colab": {
          "base_uri": "https://localhost:8080/"
        },
        "outputId": "ce268209-f0ae-4853-8852-52443e31ee4d"
      },
      "source": [
        "filt = movie['gross'].isna() & movie['budget'].isna()\n",
        "cols = ['gross', 'budget']\n",
        "movie.loc[filt, cols].head(3)"
      ],
      "execution_count": null,
      "outputs": [
        {
          "output_type": "execute_result",
          "data": {
            "text/html": [
              "<div>\n",
              "<style scoped>\n",
              "    .dataframe tbody tr th:only-of-type {\n",
              "        vertical-align: middle;\n",
              "    }\n",
              "\n",
              "    .dataframe tbody tr th {\n",
              "        vertical-align: top;\n",
              "    }\n",
              "\n",
              "    .dataframe thead th {\n",
              "        text-align: right;\n",
              "    }\n",
              "</style>\n",
              "<table border=\"1\" class=\"dataframe\">\n",
              "  <thead>\n",
              "    <tr style=\"text-align: right;\">\n",
              "      <th></th>\n",
              "      <th>gross</th>\n",
              "      <th>budget</th>\n",
              "    </tr>\n",
              "    <tr>\n",
              "      <th>title</th>\n",
              "      <th></th>\n",
              "      <th></th>\n",
              "    </tr>\n",
              "  </thead>\n",
              "  <tbody>\n",
              "    <tr>\n",
              "      <th>Star Wars: Episode VII - The Force Awakens</th>\n",
              "      <td>NaN</td>\n",
              "      <td>NaN</td>\n",
              "    </tr>\n",
              "    <tr>\n",
              "      <th>The Lovers</th>\n",
              "      <td>NaN</td>\n",
              "      <td>NaN</td>\n",
              "    </tr>\n",
              "    <tr>\n",
              "      <th>Godzilla Resurgence</th>\n",
              "      <td>NaN</td>\n",
              "      <td>NaN</td>\n",
              "    </tr>\n",
              "  </tbody>\n",
              "</table>\n",
              "</div>"
            ],
            "text/plain": [
              "                                            gross  budget\n",
              "title                                                    \n",
              "Star Wars: Episode VII - The Force Awakens    NaN     NaN\n",
              "The Lovers                                    NaN     NaN\n",
              "Godzilla Resurgence                           NaN     NaN"
            ]
          },
          "metadata": {
            "tags": []
          },
          "execution_count": 96
        }
      ]
    },
    {
      "cell_type": "markdown",
      "metadata": {
        "id": "yGXiQFW95wFV"
      },
      "source": [
        "### Exercise 8\n",
        "<span  style=\"color:green; font-size:16px\">Write a function `find_missing` that has three parameters, `df`, `col1` and `col2` where `df` is a DataFrame and `col1` and `col2` are column names. This function should return all the rows of the DataFrame where `col1` and `col2` are missing. Only return the two columns as well. Answer Exercise 7 with this function.</span>"
      ]
    },
    {
      "cell_type": "code",
      "metadata": {
        "id": "aSdFNqrt5wFV"
      },
      "source": [
        "def find_missing(df, col1, col2):\n",
        "    filt = df[col1].isna() & df[col2].isna()\n",
        "    cols = [col1, col2]\n",
        "    \n",
        "    return df.loc[filt, cols]"
      ],
      "execution_count": null,
      "outputs": []
    },
    {
      "cell_type": "code",
      "metadata": {
        "id": "NfHFMQfr5wFW",
        "colab": {
          "base_uri": "https://localhost:8080/"
        },
        "outputId": "2e1a9ee0-d93c-4275-c587-20ab3638616a"
      },
      "source": [
        "movie_missing = find_missing(movie, 'gross', 'budget')\n",
        "movie_missing.head(3)"
      ],
      "execution_count": null,
      "outputs": [
        {
          "output_type": "execute_result",
          "data": {
            "text/html": [
              "<div>\n",
              "<style scoped>\n",
              "    .dataframe tbody tr th:only-of-type {\n",
              "        vertical-align: middle;\n",
              "    }\n",
              "\n",
              "    .dataframe tbody tr th {\n",
              "        vertical-align: top;\n",
              "    }\n",
              "\n",
              "    .dataframe thead th {\n",
              "        text-align: right;\n",
              "    }\n",
              "</style>\n",
              "<table border=\"1\" class=\"dataframe\">\n",
              "  <thead>\n",
              "    <tr style=\"text-align: right;\">\n",
              "      <th></th>\n",
              "      <th>gross</th>\n",
              "      <th>budget</th>\n",
              "    </tr>\n",
              "    <tr>\n",
              "      <th>title</th>\n",
              "      <th></th>\n",
              "      <th></th>\n",
              "    </tr>\n",
              "  </thead>\n",
              "  <tbody>\n",
              "    <tr>\n",
              "      <th>Star Wars: Episode VII - The Force Awakens</th>\n",
              "      <td>NaN</td>\n",
              "      <td>NaN</td>\n",
              "    </tr>\n",
              "    <tr>\n",
              "      <th>The Lovers</th>\n",
              "      <td>NaN</td>\n",
              "      <td>NaN</td>\n",
              "    </tr>\n",
              "    <tr>\n",
              "      <th>Godzilla Resurgence</th>\n",
              "      <td>NaN</td>\n",
              "      <td>NaN</td>\n",
              "    </tr>\n",
              "  </tbody>\n",
              "</table>\n",
              "</div>"
            ],
            "text/plain": [
              "                                            gross  budget\n",
              "title                                                    \n",
              "Star Wars: Episode VII - The Force Awakens    NaN     NaN\n",
              "The Lovers                                    NaN     NaN\n",
              "Godzilla Resurgence                           NaN     NaN"
            ]
          },
          "metadata": {
            "tags": []
          },
          "execution_count": 98
        }
      ]
    },
    {
      "cell_type": "markdown",
      "metadata": {
        "id": "lrIRpfjP5wFX"
      },
      "source": [
        "## 8. Filtering with the query Method"
      ]
    },
    {
      "cell_type": "markdown",
      "metadata": {
        "id": "S62AHUCQ5wFX"
      },
      "source": [
        "### Exercise 1\n",
        "\n",
        "<span  style=\"color:green; font-size:16px\">Use the `query` method to select trip durations between 5000 and 10000.</span>"
      ]
    },
    {
      "cell_type": "code",
      "metadata": {
        "id": "14pqCAcA5wFY",
        "colab": {
          "base_uri": "https://localhost:8080/",
          "height": 267
        },
        "outputId": "56c38211-e9e9-4b87-f5c4-8712aa7fcd80"
      },
      "source": [
        "bikes.query('5000 <= tripduration <= 10000').head(3)"
      ],
      "execution_count": null,
      "outputs": [
        {
          "output_type": "execute_result",
          "data": {
            "text/html": [
              "<div>\n",
              "<style scoped>\n",
              "    .dataframe tbody tr th:only-of-type {\n",
              "        vertical-align: middle;\n",
              "    }\n",
              "\n",
              "    .dataframe tbody tr th {\n",
              "        vertical-align: top;\n",
              "    }\n",
              "\n",
              "    .dataframe thead th {\n",
              "        text-align: right;\n",
              "    }\n",
              "</style>\n",
              "<table border=\"1\" class=\"dataframe\">\n",
              "  <thead>\n",
              "    <tr style=\"text-align: right;\">\n",
              "      <th></th>\n",
              "      <th>trip_id</th>\n",
              "      <th>usertype</th>\n",
              "      <th>gender</th>\n",
              "      <th>starttime</th>\n",
              "      <th>stoptime</th>\n",
              "      <th>tripduration</th>\n",
              "      <th>from_station_name</th>\n",
              "      <th>latitude_start</th>\n",
              "      <th>longitude_start</th>\n",
              "      <th>dpcapacity_start</th>\n",
              "      <th>to_station_name</th>\n",
              "      <th>latitude_end</th>\n",
              "      <th>longitude_end</th>\n",
              "      <th>dpcapacity_end</th>\n",
              "      <th>temperature</th>\n",
              "      <th>visibility</th>\n",
              "      <th>wind_speed</th>\n",
              "      <th>precipitation</th>\n",
              "      <th>events</th>\n",
              "    </tr>\n",
              "  </thead>\n",
              "  <tbody>\n",
              "    <tr>\n",
              "      <th>18</th>\n",
              "      <td>40924</td>\n",
              "      <td>Subscriber</td>\n",
              "      <td>Male</td>\n",
              "      <td>2013-07-09 13:12:00</td>\n",
              "      <td>2013-07-09 14:42:00</td>\n",
              "      <td>5396</td>\n",
              "      <td>Canal St &amp; Jackson Blvd</td>\n",
              "      <td>41.878114</td>\n",
              "      <td>-87.639971</td>\n",
              "      <td>35.0</td>\n",
              "      <td>Millennium Park</td>\n",
              "      <td>41.881032</td>\n",
              "      <td>-87.624084</td>\n",
              "      <td>35.0</td>\n",
              "      <td>79.0</td>\n",
              "      <td>10.0</td>\n",
              "      <td>13.8</td>\n",
              "      <td>0.0</td>\n",
              "      <td>cloudy</td>\n",
              "    </tr>\n",
              "    <tr>\n",
              "      <th>40</th>\n",
              "      <td>61401</td>\n",
              "      <td>Subscriber</td>\n",
              "      <td>Female</td>\n",
              "      <td>2013-07-14 14:08:00</td>\n",
              "      <td>2013-07-14 15:53:00</td>\n",
              "      <td>6274</td>\n",
              "      <td>Wabash Ave &amp; Roosevelt Rd</td>\n",
              "      <td>41.867173</td>\n",
              "      <td>-87.625955</td>\n",
              "      <td>19.0</td>\n",
              "      <td>Lake Shore Dr &amp; Monroe St</td>\n",
              "      <td>41.881050</td>\n",
              "      <td>-87.616970</td>\n",
              "      <td>11.0</td>\n",
              "      <td>87.1</td>\n",
              "      <td>10.0</td>\n",
              "      <td>8.1</td>\n",
              "      <td>-9999.0</td>\n",
              "      <td>partlycloudy</td>\n",
              "    </tr>\n",
              "    <tr>\n",
              "      <th>77</th>\n",
              "      <td>87005</td>\n",
              "      <td>Subscriber</td>\n",
              "      <td>Female</td>\n",
              "      <td>2013-07-21 11:35:00</td>\n",
              "      <td>2013-07-21 13:54:00</td>\n",
              "      <td>8299</td>\n",
              "      <td>State St &amp; 19th St</td>\n",
              "      <td>41.856594</td>\n",
              "      <td>-87.627542</td>\n",
              "      <td>15.0</td>\n",
              "      <td>Sheffield Ave &amp; Kingsbury St</td>\n",
              "      <td>41.909592</td>\n",
              "      <td>-87.653497</td>\n",
              "      <td>15.0</td>\n",
              "      <td>82.9</td>\n",
              "      <td>10.0</td>\n",
              "      <td>5.8</td>\n",
              "      <td>-9999.0</td>\n",
              "      <td>mostlycloudy</td>\n",
              "    </tr>\n",
              "  </tbody>\n",
              "</table>\n",
              "</div>"
            ],
            "text/plain": [
              "    trip_id    usertype  gender  ... wind_speed precipitation        events\n",
              "18    40924  Subscriber    Male  ...       13.8           0.0        cloudy\n",
              "40    61401  Subscriber  Female  ...        8.1       -9999.0  partlycloudy\n",
              "77    87005  Subscriber  Female  ...        5.8       -9999.0  mostlycloudy\n",
              "\n",
              "[3 rows x 19 columns]"
            ]
          },
          "metadata": {
            "tags": []
          },
          "execution_count": 99
        }
      ]
    },
    {
      "cell_type": "markdown",
      "metadata": {
        "id": "zliknldm5wFZ"
      },
      "source": [
        "### Exercise 2\n",
        "\n",
        "<span  style=\"color:green; font-size:16px\">Use the `query` method to select trip durations between 5000 and 10000 when the weather was snow or rain. Retrieve the same data with boolean selection.</span>"
      ]
    },
    {
      "cell_type": "code",
      "metadata": {
        "id": "qbU6K0jO5wFZ",
        "colab": {
          "base_uri": "https://localhost:8080/"
        },
        "outputId": "7d414a76-f4ca-4457-a25b-d1bfc654cbe1"
      },
      "source": [
        "bikes.query('5000 <= tripduration <= 10000 and events in [\"snow\", \"rain\"]').head(3)"
      ],
      "execution_count": null,
      "outputs": [
        {
          "output_type": "execute_result",
          "data": {
            "text/html": [
              "<div>\n",
              "<style scoped>\n",
              "    .dataframe tbody tr th:only-of-type {\n",
              "        vertical-align: middle;\n",
              "    }\n",
              "\n",
              "    .dataframe tbody tr th {\n",
              "        vertical-align: top;\n",
              "    }\n",
              "\n",
              "    .dataframe thead th {\n",
              "        text-align: right;\n",
              "    }\n",
              "</style>\n",
              "<table border=\"1\" class=\"dataframe\">\n",
              "  <thead>\n",
              "    <tr style=\"text-align: right;\">\n",
              "      <th></th>\n",
              "      <th>trip_id</th>\n",
              "      <th>usertype</th>\n",
              "      <th>gender</th>\n",
              "      <th>starttime</th>\n",
              "      <th>stoptime</th>\n",
              "      <th>tripduration</th>\n",
              "      <th>from_station_name</th>\n",
              "      <th>latitude_start</th>\n",
              "      <th>longitude_start</th>\n",
              "      <th>dpcapacity_start</th>\n",
              "      <th>to_station_name</th>\n",
              "      <th>latitude_end</th>\n",
              "      <th>longitude_end</th>\n",
              "      <th>dpcapacity_end</th>\n",
              "      <th>temperature</th>\n",
              "      <th>visibility</th>\n",
              "      <th>wind_speed</th>\n",
              "      <th>precipitation</th>\n",
              "      <th>events</th>\n",
              "    </tr>\n",
              "  </thead>\n",
              "  <tbody>\n",
              "    <tr>\n",
              "      <th>8506</th>\n",
              "      <td>3846762</td>\n",
              "      <td>Subscriber</td>\n",
              "      <td>Male</td>\n",
              "      <td>2014-10-04 12:33:00</td>\n",
              "      <td>2014-10-04 14:06:00</td>\n",
              "      <td>5568</td>\n",
              "      <td>Halsted St &amp; Diversey Pkwy</td>\n",
              "      <td>41.933341</td>\n",
              "      <td>-87.648747</td>\n",
              "      <td>15.0</td>\n",
              "      <td>Halsted St &amp; Wrightwood Ave</td>\n",
              "      <td>41.929143</td>\n",
              "      <td>-87.649077</td>\n",
              "      <td>15.0</td>\n",
              "      <td>42.1</td>\n",
              "      <td>8.0</td>\n",
              "      <td>17.3</td>\n",
              "      <td>0.02</td>\n",
              "      <td>rain</td>\n",
              "    </tr>\n",
              "    <tr>\n",
              "      <th>13355</th>\n",
              "      <td>5650639</td>\n",
              "      <td>Subscriber</td>\n",
              "      <td>Male</td>\n",
              "      <td>2015-06-15 11:41:00</td>\n",
              "      <td>2015-06-15 13:43:00</td>\n",
              "      <td>7295</td>\n",
              "      <td>Racine Ave &amp; Belmont Ave</td>\n",
              "      <td>41.939743</td>\n",
              "      <td>-87.658865</td>\n",
              "      <td>15.0</td>\n",
              "      <td>Racine Ave &amp; Belmont Ave</td>\n",
              "      <td>41.939743</td>\n",
              "      <td>-87.658865</td>\n",
              "      <td>15.0</td>\n",
              "      <td>75.9</td>\n",
              "      <td>10.0</td>\n",
              "      <td>4.6</td>\n",
              "      <td>0.00</td>\n",
              "      <td>rain</td>\n",
              "    </tr>\n",
              "    <tr>\n",
              "      <th>22155</th>\n",
              "      <td>8723460</td>\n",
              "      <td>Subscriber</td>\n",
              "      <td>Male</td>\n",
              "      <td>2016-02-09 10:09:00</td>\n",
              "      <td>2016-02-09 12:28:00</td>\n",
              "      <td>8309</td>\n",
              "      <td>Wabash Ave &amp; Roosevelt Rd</td>\n",
              "      <td>41.867227</td>\n",
              "      <td>-87.625961</td>\n",
              "      <td>23.0</td>\n",
              "      <td>Museum Campus</td>\n",
              "      <td>41.865212</td>\n",
              "      <td>-87.617759</td>\n",
              "      <td>35.0</td>\n",
              "      <td>16.0</td>\n",
              "      <td>4.0</td>\n",
              "      <td>16.1</td>\n",
              "      <td>0.00</td>\n",
              "      <td>snow</td>\n",
              "    </tr>\n",
              "  </tbody>\n",
              "</table>\n",
              "</div>"
            ],
            "text/plain": [
              "       trip_id    usertype gender  ... wind_speed precipitation  events\n",
              "8506   3846762  Subscriber   Male  ...       17.3          0.02    rain\n",
              "13355  5650639  Subscriber   Male  ...        4.6          0.00    rain\n",
              "22155  8723460  Subscriber   Male  ...       16.1          0.00    snow\n",
              "\n",
              "[3 rows x 19 columns]"
            ]
          },
          "metadata": {
            "tags": []
          },
          "execution_count": 100
        }
      ]
    },
    {
      "cell_type": "code",
      "metadata": {
        "id": "lWJaKnhk5wFa",
        "colab": {
          "base_uri": "https://localhost:8080/"
        },
        "outputId": "3112762b-4fdb-4b0d-a993-ab56d279d399"
      },
      "source": [
        "filt1 = bikes['tripduration'].between(5000, 10000)\n",
        "filt2 = bikes['events'].isin(['snow', 'rain'])\n",
        "filt = filt1 & filt2\n",
        "bikes[filt].head(3)"
      ],
      "execution_count": null,
      "outputs": [
        {
          "output_type": "execute_result",
          "data": {
            "text/html": [
              "<div>\n",
              "<style scoped>\n",
              "    .dataframe tbody tr th:only-of-type {\n",
              "        vertical-align: middle;\n",
              "    }\n",
              "\n",
              "    .dataframe tbody tr th {\n",
              "        vertical-align: top;\n",
              "    }\n",
              "\n",
              "    .dataframe thead th {\n",
              "        text-align: right;\n",
              "    }\n",
              "</style>\n",
              "<table border=\"1\" class=\"dataframe\">\n",
              "  <thead>\n",
              "    <tr style=\"text-align: right;\">\n",
              "      <th></th>\n",
              "      <th>trip_id</th>\n",
              "      <th>usertype</th>\n",
              "      <th>gender</th>\n",
              "      <th>starttime</th>\n",
              "      <th>stoptime</th>\n",
              "      <th>tripduration</th>\n",
              "      <th>from_station_name</th>\n",
              "      <th>latitude_start</th>\n",
              "      <th>longitude_start</th>\n",
              "      <th>dpcapacity_start</th>\n",
              "      <th>to_station_name</th>\n",
              "      <th>latitude_end</th>\n",
              "      <th>longitude_end</th>\n",
              "      <th>dpcapacity_end</th>\n",
              "      <th>temperature</th>\n",
              "      <th>visibility</th>\n",
              "      <th>wind_speed</th>\n",
              "      <th>precipitation</th>\n",
              "      <th>events</th>\n",
              "    </tr>\n",
              "  </thead>\n",
              "  <tbody>\n",
              "    <tr>\n",
              "      <th>8506</th>\n",
              "      <td>3846762</td>\n",
              "      <td>Subscriber</td>\n",
              "      <td>Male</td>\n",
              "      <td>2014-10-04 12:33:00</td>\n",
              "      <td>2014-10-04 14:06:00</td>\n",
              "      <td>5568</td>\n",
              "      <td>Halsted St &amp; Diversey Pkwy</td>\n",
              "      <td>41.933341</td>\n",
              "      <td>-87.648747</td>\n",
              "      <td>15.0</td>\n",
              "      <td>Halsted St &amp; Wrightwood Ave</td>\n",
              "      <td>41.929143</td>\n",
              "      <td>-87.649077</td>\n",
              "      <td>15.0</td>\n",
              "      <td>42.1</td>\n",
              "      <td>8.0</td>\n",
              "      <td>17.3</td>\n",
              "      <td>0.02</td>\n",
              "      <td>rain</td>\n",
              "    </tr>\n",
              "    <tr>\n",
              "      <th>13355</th>\n",
              "      <td>5650639</td>\n",
              "      <td>Subscriber</td>\n",
              "      <td>Male</td>\n",
              "      <td>2015-06-15 11:41:00</td>\n",
              "      <td>2015-06-15 13:43:00</td>\n",
              "      <td>7295</td>\n",
              "      <td>Racine Ave &amp; Belmont Ave</td>\n",
              "      <td>41.939743</td>\n",
              "      <td>-87.658865</td>\n",
              "      <td>15.0</td>\n",
              "      <td>Racine Ave &amp; Belmont Ave</td>\n",
              "      <td>41.939743</td>\n",
              "      <td>-87.658865</td>\n",
              "      <td>15.0</td>\n",
              "      <td>75.9</td>\n",
              "      <td>10.0</td>\n",
              "      <td>4.6</td>\n",
              "      <td>0.00</td>\n",
              "      <td>rain</td>\n",
              "    </tr>\n",
              "    <tr>\n",
              "      <th>22155</th>\n",
              "      <td>8723460</td>\n",
              "      <td>Subscriber</td>\n",
              "      <td>Male</td>\n",
              "      <td>2016-02-09 10:09:00</td>\n",
              "      <td>2016-02-09 12:28:00</td>\n",
              "      <td>8309</td>\n",
              "      <td>Wabash Ave &amp; Roosevelt Rd</td>\n",
              "      <td>41.867227</td>\n",
              "      <td>-87.625961</td>\n",
              "      <td>23.0</td>\n",
              "      <td>Museum Campus</td>\n",
              "      <td>41.865212</td>\n",
              "      <td>-87.617759</td>\n",
              "      <td>35.0</td>\n",
              "      <td>16.0</td>\n",
              "      <td>4.0</td>\n",
              "      <td>16.1</td>\n",
              "      <td>0.00</td>\n",
              "      <td>snow</td>\n",
              "    </tr>\n",
              "  </tbody>\n",
              "</table>\n",
              "</div>"
            ],
            "text/plain": [
              "       trip_id    usertype gender  ... wind_speed precipitation  events\n",
              "8506   3846762  Subscriber   Male  ...       17.3          0.02    rain\n",
              "13355  5650639  Subscriber   Male  ...        4.6          0.00    rain\n",
              "22155  8723460  Subscriber   Male  ...       16.1          0.00    snow\n",
              "\n",
              "[3 rows x 19 columns]"
            ]
          },
          "metadata": {
            "tags": []
          },
          "execution_count": 101
        }
      ]
    },
    {
      "cell_type": "markdown",
      "metadata": {
        "id": "hm350FRz5wFd"
      },
      "source": [
        "### Exercise 3\n",
        "\n",
        "<span  style=\"color:green; font-size:16px\">Use the `query` method to select trip durations between 5000 and 10000 when it was snow or rain. Create a list outside of the query method to hold the weather and reference that variable with `@` within query.</span>"
      ]
    },
    {
      "cell_type": "code",
      "metadata": {
        "id": "dVkZcuOh5wFe",
        "colab": {
          "base_uri": "https://localhost:8080/",
          "height": 267
        },
        "outputId": "479847d3-b0ab-4126-f0b6-a8ba374dd2df"
      },
      "source": [
        "weather = [\"snow\", \"rain\"]\n",
        "bikes.query('5000 <= tripduration <= 10000 and events in @weather').head(3)"
      ],
      "execution_count": null,
      "outputs": [
        {
          "output_type": "execute_result",
          "data": {
            "text/html": [
              "<div>\n",
              "<style scoped>\n",
              "    .dataframe tbody tr th:only-of-type {\n",
              "        vertical-align: middle;\n",
              "    }\n",
              "\n",
              "    .dataframe tbody tr th {\n",
              "        vertical-align: top;\n",
              "    }\n",
              "\n",
              "    .dataframe thead th {\n",
              "        text-align: right;\n",
              "    }\n",
              "</style>\n",
              "<table border=\"1\" class=\"dataframe\">\n",
              "  <thead>\n",
              "    <tr style=\"text-align: right;\">\n",
              "      <th></th>\n",
              "      <th>trip_id</th>\n",
              "      <th>usertype</th>\n",
              "      <th>gender</th>\n",
              "      <th>starttime</th>\n",
              "      <th>stoptime</th>\n",
              "      <th>tripduration</th>\n",
              "      <th>from_station_name</th>\n",
              "      <th>latitude_start</th>\n",
              "      <th>longitude_start</th>\n",
              "      <th>dpcapacity_start</th>\n",
              "      <th>to_station_name</th>\n",
              "      <th>latitude_end</th>\n",
              "      <th>longitude_end</th>\n",
              "      <th>dpcapacity_end</th>\n",
              "      <th>temperature</th>\n",
              "      <th>visibility</th>\n",
              "      <th>wind_speed</th>\n",
              "      <th>precipitation</th>\n",
              "      <th>events</th>\n",
              "    </tr>\n",
              "  </thead>\n",
              "  <tbody>\n",
              "    <tr>\n",
              "      <th>8506</th>\n",
              "      <td>3846762</td>\n",
              "      <td>Subscriber</td>\n",
              "      <td>Male</td>\n",
              "      <td>2014-10-04 12:33:00</td>\n",
              "      <td>2014-10-04 14:06:00</td>\n",
              "      <td>5568</td>\n",
              "      <td>Halsted St &amp; Diversey Pkwy</td>\n",
              "      <td>41.933341</td>\n",
              "      <td>-87.648747</td>\n",
              "      <td>15.0</td>\n",
              "      <td>Halsted St &amp; Wrightwood Ave</td>\n",
              "      <td>41.929143</td>\n",
              "      <td>-87.649077</td>\n",
              "      <td>15.0</td>\n",
              "      <td>42.1</td>\n",
              "      <td>8.0</td>\n",
              "      <td>17.3</td>\n",
              "      <td>0.02</td>\n",
              "      <td>rain</td>\n",
              "    </tr>\n",
              "    <tr>\n",
              "      <th>13355</th>\n",
              "      <td>5650639</td>\n",
              "      <td>Subscriber</td>\n",
              "      <td>Male</td>\n",
              "      <td>2015-06-15 11:41:00</td>\n",
              "      <td>2015-06-15 13:43:00</td>\n",
              "      <td>7295</td>\n",
              "      <td>Racine Ave &amp; Belmont Ave</td>\n",
              "      <td>41.939743</td>\n",
              "      <td>-87.658865</td>\n",
              "      <td>15.0</td>\n",
              "      <td>Racine Ave &amp; Belmont Ave</td>\n",
              "      <td>41.939743</td>\n",
              "      <td>-87.658865</td>\n",
              "      <td>15.0</td>\n",
              "      <td>75.9</td>\n",
              "      <td>10.0</td>\n",
              "      <td>4.6</td>\n",
              "      <td>0.00</td>\n",
              "      <td>rain</td>\n",
              "    </tr>\n",
              "    <tr>\n",
              "      <th>22155</th>\n",
              "      <td>8723460</td>\n",
              "      <td>Subscriber</td>\n",
              "      <td>Male</td>\n",
              "      <td>2016-02-09 10:09:00</td>\n",
              "      <td>2016-02-09 12:28:00</td>\n",
              "      <td>8309</td>\n",
              "      <td>Wabash Ave &amp; Roosevelt Rd</td>\n",
              "      <td>41.867227</td>\n",
              "      <td>-87.625961</td>\n",
              "      <td>23.0</td>\n",
              "      <td>Museum Campus</td>\n",
              "      <td>41.865212</td>\n",
              "      <td>-87.617759</td>\n",
              "      <td>35.0</td>\n",
              "      <td>16.0</td>\n",
              "      <td>4.0</td>\n",
              "      <td>16.1</td>\n",
              "      <td>0.00</td>\n",
              "      <td>snow</td>\n",
              "    </tr>\n",
              "  </tbody>\n",
              "</table>\n",
              "</div>"
            ],
            "text/plain": [
              "       trip_id    usertype gender  ... wind_speed precipitation  events\n",
              "8506   3846762  Subscriber   Male  ...       17.3          0.02    rain\n",
              "13355  5650639  Subscriber   Male  ...        4.6          0.00    rain\n",
              "22155  8723460  Subscriber   Male  ...       16.1          0.00    snow\n",
              "\n",
              "[3 rows x 19 columns]"
            ]
          },
          "metadata": {
            "tags": []
          },
          "execution_count": 102
        }
      ]
    },
    {
      "cell_type": "markdown",
      "metadata": {
        "id": "h1QooM3_5wFh"
      },
      "source": [
        "Read in the movie dataset by executing the cell below and use it for the following exercises."
      ]
    },
    {
      "cell_type": "code",
      "metadata": {
        "id": "gV5dgf_m5wFh",
        "colab": {
          "base_uri": "https://localhost:8080/",
          "height": 316
        },
        "outputId": "00019d11-0f75-4e5a-e20c-50296c463415"
      },
      "source": [
        "import pandas as pd\n",
        "pd.set_option('display.max_columns', 50)\n",
        "movie = pd.read_csv('Pandas/movie.csv', index_col='title')\n",
        "movie.head(3)"
      ],
      "execution_count": null,
      "outputs": [
        {
          "output_type": "execute_result",
          "data": {
            "text/html": [
              "<div>\n",
              "<style scoped>\n",
              "    .dataframe tbody tr th:only-of-type {\n",
              "        vertical-align: middle;\n",
              "    }\n",
              "\n",
              "    .dataframe tbody tr th {\n",
              "        vertical-align: top;\n",
              "    }\n",
              "\n",
              "    .dataframe thead th {\n",
              "        text-align: right;\n",
              "    }\n",
              "</style>\n",
              "<table border=\"1\" class=\"dataframe\">\n",
              "  <thead>\n",
              "    <tr style=\"text-align: right;\">\n",
              "      <th></th>\n",
              "      <th>year</th>\n",
              "      <th>color</th>\n",
              "      <th>content_rating</th>\n",
              "      <th>duration</th>\n",
              "      <th>director_name</th>\n",
              "      <th>director_fb</th>\n",
              "      <th>actor1</th>\n",
              "      <th>actor1_fb</th>\n",
              "      <th>actor2</th>\n",
              "      <th>actor2_fb</th>\n",
              "      <th>actor3</th>\n",
              "      <th>actor3_fb</th>\n",
              "      <th>gross</th>\n",
              "      <th>genres</th>\n",
              "      <th>num_reviews</th>\n",
              "      <th>num_voted_users</th>\n",
              "      <th>plot_keywords</th>\n",
              "      <th>language</th>\n",
              "      <th>country</th>\n",
              "      <th>budget</th>\n",
              "      <th>imdb_score</th>\n",
              "    </tr>\n",
              "    <tr>\n",
              "      <th>title</th>\n",
              "      <th></th>\n",
              "      <th></th>\n",
              "      <th></th>\n",
              "      <th></th>\n",
              "      <th></th>\n",
              "      <th></th>\n",
              "      <th></th>\n",
              "      <th></th>\n",
              "      <th></th>\n",
              "      <th></th>\n",
              "      <th></th>\n",
              "      <th></th>\n",
              "      <th></th>\n",
              "      <th></th>\n",
              "      <th></th>\n",
              "      <th></th>\n",
              "      <th></th>\n",
              "      <th></th>\n",
              "      <th></th>\n",
              "      <th></th>\n",
              "      <th></th>\n",
              "    </tr>\n",
              "  </thead>\n",
              "  <tbody>\n",
              "    <tr>\n",
              "      <th>Avatar</th>\n",
              "      <td>2009.0</td>\n",
              "      <td>Color</td>\n",
              "      <td>PG-13</td>\n",
              "      <td>178.0</td>\n",
              "      <td>James Cameron</td>\n",
              "      <td>0.0</td>\n",
              "      <td>CCH Pounder</td>\n",
              "      <td>1000.0</td>\n",
              "      <td>Joel David Moore</td>\n",
              "      <td>936.0</td>\n",
              "      <td>Wes Studi</td>\n",
              "      <td>855.0</td>\n",
              "      <td>760505847.0</td>\n",
              "      <td>Action|Adventure|Fantasy|Sci-Fi</td>\n",
              "      <td>723.0</td>\n",
              "      <td>886204</td>\n",
              "      <td>avatar|future|marine|native|paraplegic</td>\n",
              "      <td>English</td>\n",
              "      <td>USA</td>\n",
              "      <td>237000000.0</td>\n",
              "      <td>7.9</td>\n",
              "    </tr>\n",
              "    <tr>\n",
              "      <th>Pirates of the Caribbean: At World's End</th>\n",
              "      <td>2007.0</td>\n",
              "      <td>Color</td>\n",
              "      <td>PG-13</td>\n",
              "      <td>169.0</td>\n",
              "      <td>Gore Verbinski</td>\n",
              "      <td>563.0</td>\n",
              "      <td>Johnny Depp</td>\n",
              "      <td>40000.0</td>\n",
              "      <td>Orlando Bloom</td>\n",
              "      <td>5000.0</td>\n",
              "      <td>Jack Davenport</td>\n",
              "      <td>1000.0</td>\n",
              "      <td>309404152.0</td>\n",
              "      <td>Action|Adventure|Fantasy</td>\n",
              "      <td>302.0</td>\n",
              "      <td>471220</td>\n",
              "      <td>goddess|marriage ceremony|marriage proposal|pi...</td>\n",
              "      <td>English</td>\n",
              "      <td>USA</td>\n",
              "      <td>300000000.0</td>\n",
              "      <td>7.1</td>\n",
              "    </tr>\n",
              "    <tr>\n",
              "      <th>Spectre</th>\n",
              "      <td>2015.0</td>\n",
              "      <td>Color</td>\n",
              "      <td>PG-13</td>\n",
              "      <td>148.0</td>\n",
              "      <td>Sam Mendes</td>\n",
              "      <td>0.0</td>\n",
              "      <td>Christoph Waltz</td>\n",
              "      <td>11000.0</td>\n",
              "      <td>Rory Kinnear</td>\n",
              "      <td>393.0</td>\n",
              "      <td>Stephanie Sigman</td>\n",
              "      <td>161.0</td>\n",
              "      <td>200074175.0</td>\n",
              "      <td>Action|Adventure|Thriller</td>\n",
              "      <td>602.0</td>\n",
              "      <td>275868</td>\n",
              "      <td>bomb|espionage|sequel|spy|terrorist</td>\n",
              "      <td>English</td>\n",
              "      <td>UK</td>\n",
              "      <td>245000000.0</td>\n",
              "      <td>6.8</td>\n",
              "    </tr>\n",
              "  </tbody>\n",
              "</table>\n",
              "</div>"
            ],
            "text/plain": [
              "                                            year  color content_rating  \\\n",
              "title                                                                    \n",
              "Avatar                                    2009.0  Color          PG-13   \n",
              "Pirates of the Caribbean: At World's End  2007.0  Color          PG-13   \n",
              "Spectre                                   2015.0  Color          PG-13   \n",
              "\n",
              "                                          duration   director_name  \\\n",
              "title                                                                \n",
              "Avatar                                       178.0   James Cameron   \n",
              "Pirates of the Caribbean: At World's End     169.0  Gore Verbinski   \n",
              "Spectre                                      148.0      Sam Mendes   \n",
              "\n",
              "                                          director_fb           actor1  \\\n",
              "title                                                                    \n",
              "Avatar                                            0.0      CCH Pounder   \n",
              "Pirates of the Caribbean: At World's End        563.0      Johnny Depp   \n",
              "Spectre                                           0.0  Christoph Waltz   \n",
              "\n",
              "                                          actor1_fb            actor2  \\\n",
              "title                                                                   \n",
              "Avatar                                       1000.0  Joel David Moore   \n",
              "Pirates of the Caribbean: At World's End    40000.0     Orlando Bloom   \n",
              "Spectre                                     11000.0      Rory Kinnear   \n",
              "\n",
              "                                          actor2_fb            actor3  \\\n",
              "title                                                                   \n",
              "Avatar                                        936.0         Wes Studi   \n",
              "Pirates of the Caribbean: At World's End     5000.0    Jack Davenport   \n",
              "Spectre                                       393.0  Stephanie Sigman   \n",
              "\n",
              "                                          actor3_fb        gross  \\\n",
              "title                                                              \n",
              "Avatar                                        855.0  760505847.0   \n",
              "Pirates of the Caribbean: At World's End     1000.0  309404152.0   \n",
              "Spectre                                       161.0  200074175.0   \n",
              "\n",
              "                                                                   genres  \\\n",
              "title                                                                       \n",
              "Avatar                                    Action|Adventure|Fantasy|Sci-Fi   \n",
              "Pirates of the Caribbean: At World's End         Action|Adventure|Fantasy   \n",
              "Spectre                                         Action|Adventure|Thriller   \n",
              "\n",
              "                                          num_reviews  num_voted_users  \\\n",
              "title                                                                    \n",
              "Avatar                                          723.0           886204   \n",
              "Pirates of the Caribbean: At World's End        302.0           471220   \n",
              "Spectre                                         602.0           275868   \n",
              "\n",
              "                                                                              plot_keywords  \\\n",
              "title                                                                                         \n",
              "Avatar                                               avatar|future|marine|native|paraplegic   \n",
              "Pirates of the Caribbean: At World's End  goddess|marriage ceremony|marriage proposal|pi...   \n",
              "Spectre                                                 bomb|espionage|sequel|spy|terrorist   \n",
              "\n",
              "                                         language country       budget  \\\n",
              "title                                                                    \n",
              "Avatar                                    English     USA  237000000.0   \n",
              "Pirates of the Caribbean: At World's End  English     USA  300000000.0   \n",
              "Spectre                                   English      UK  245000000.0   \n",
              "\n",
              "                                          imdb_score  \n",
              "title                                                 \n",
              "Avatar                                           7.9  \n",
              "Pirates of the Caribbean: At World's End         7.1  \n",
              "Spectre                                          6.8  "
            ]
          },
          "metadata": {
            "tags": []
          },
          "execution_count": 109
        }
      ]
    },
    {
      "cell_type": "markdown",
      "metadata": {
        "id": "Vhp9x3ca5wFj"
      },
      "source": [
        "### Exercise 4\n",
        "\n",
        "<span  style=\"color:green; font-size:16px\">Use the `query` method to find all movies where the total number of Facebook likes for all three actors is greater than 50,000.</span>"
      ]
    },
    {
      "cell_type": "code",
      "metadata": {
        "id": "ILLWjmE_5wFk",
        "colab": {
          "base_uri": "https://localhost:8080/"
        },
        "outputId": "712decf2-91d2-47c4-dbda-660ee40b22f9"
      },
      "source": [
        "movie.query('actor1_fb + actor2_fb + actor3_fb > 50000').head(3)"
      ],
      "execution_count": null,
      "outputs": [
        {
          "output_type": "execute_result",
          "data": {
            "text/html": [
              "<div>\n",
              "<style scoped>\n",
              "    .dataframe tbody tr th:only-of-type {\n",
              "        vertical-align: middle;\n",
              "    }\n",
              "\n",
              "    .dataframe tbody tr th {\n",
              "        vertical-align: top;\n",
              "    }\n",
              "\n",
              "    .dataframe thead th {\n",
              "        text-align: right;\n",
              "    }\n",
              "</style>\n",
              "<table border=\"1\" class=\"dataframe\">\n",
              "  <thead>\n",
              "    <tr style=\"text-align: right;\">\n",
              "      <th></th>\n",
              "      <th>year</th>\n",
              "      <th>color</th>\n",
              "      <th>content_rating</th>\n",
              "      <th>duration</th>\n",
              "      <th>director_name</th>\n",
              "      <th>director_fb</th>\n",
              "      <th>actor1</th>\n",
              "      <th>actor1_fb</th>\n",
              "      <th>actor2</th>\n",
              "      <th>actor2_fb</th>\n",
              "      <th>actor3</th>\n",
              "      <th>actor3_fb</th>\n",
              "      <th>gross</th>\n",
              "      <th>genres</th>\n",
              "      <th>num_reviews</th>\n",
              "      <th>num_voted_users</th>\n",
              "      <th>plot_keywords</th>\n",
              "      <th>language</th>\n",
              "      <th>country</th>\n",
              "      <th>budget</th>\n",
              "      <th>imdb_score</th>\n",
              "    </tr>\n",
              "    <tr>\n",
              "      <th>title</th>\n",
              "      <th></th>\n",
              "      <th></th>\n",
              "      <th></th>\n",
              "      <th></th>\n",
              "      <th></th>\n",
              "      <th></th>\n",
              "      <th></th>\n",
              "      <th></th>\n",
              "      <th></th>\n",
              "      <th></th>\n",
              "      <th></th>\n",
              "      <th></th>\n",
              "      <th></th>\n",
              "      <th></th>\n",
              "      <th></th>\n",
              "      <th></th>\n",
              "      <th></th>\n",
              "      <th></th>\n",
              "      <th></th>\n",
              "      <th></th>\n",
              "      <th></th>\n",
              "    </tr>\n",
              "  </thead>\n",
              "  <tbody>\n",
              "    <tr>\n",
              "      <th>The Dark Knight Rises</th>\n",
              "      <td>2012.0</td>\n",
              "      <td>Color</td>\n",
              "      <td>PG-13</td>\n",
              "      <td>164.0</td>\n",
              "      <td>Christopher Nolan</td>\n",
              "      <td>22000.0</td>\n",
              "      <td>Tom Hardy</td>\n",
              "      <td>27000.0</td>\n",
              "      <td>Christian Bale</td>\n",
              "      <td>23000.0</td>\n",
              "      <td>Joseph Gordon-Levitt</td>\n",
              "      <td>23000.0</td>\n",
              "      <td>448130642.0</td>\n",
              "      <td>Action|Thriller</td>\n",
              "      <td>813.0</td>\n",
              "      <td>1144337</td>\n",
              "      <td>deception|imprisonment|lawlessness|police offi...</td>\n",
              "      <td>English</td>\n",
              "      <td>USA</td>\n",
              "      <td>250000000.0</td>\n",
              "      <td>8.5</td>\n",
              "    </tr>\n",
              "    <tr>\n",
              "      <th>Avengers: Age of Ultron</th>\n",
              "      <td>2015.0</td>\n",
              "      <td>Color</td>\n",
              "      <td>PG-13</td>\n",
              "      <td>141.0</td>\n",
              "      <td>Joss Whedon</td>\n",
              "      <td>0.0</td>\n",
              "      <td>Chris Hemsworth</td>\n",
              "      <td>26000.0</td>\n",
              "      <td>Robert Downey Jr.</td>\n",
              "      <td>21000.0</td>\n",
              "      <td>Scarlett Johansson</td>\n",
              "      <td>19000.0</td>\n",
              "      <td>458991599.0</td>\n",
              "      <td>Action|Adventure|Sci-Fi</td>\n",
              "      <td>635.0</td>\n",
              "      <td>462669</td>\n",
              "      <td>artificial intelligence|based on comic book|ca...</td>\n",
              "      <td>English</td>\n",
              "      <td>USA</td>\n",
              "      <td>250000000.0</td>\n",
              "      <td>7.5</td>\n",
              "    </tr>\n",
              "    <tr>\n",
              "      <th>The Avengers</th>\n",
              "      <td>2012.0</td>\n",
              "      <td>Color</td>\n",
              "      <td>PG-13</td>\n",
              "      <td>173.0</td>\n",
              "      <td>Joss Whedon</td>\n",
              "      <td>0.0</td>\n",
              "      <td>Chris Hemsworth</td>\n",
              "      <td>26000.0</td>\n",
              "      <td>Robert Downey Jr.</td>\n",
              "      <td>21000.0</td>\n",
              "      <td>Scarlett Johansson</td>\n",
              "      <td>19000.0</td>\n",
              "      <td>623279547.0</td>\n",
              "      <td>Action|Adventure|Sci-Fi</td>\n",
              "      <td>703.0</td>\n",
              "      <td>995415</td>\n",
              "      <td>alien invasion|assassin|battle|iron man|soldier</td>\n",
              "      <td>English</td>\n",
              "      <td>USA</td>\n",
              "      <td>220000000.0</td>\n",
              "      <td>8.1</td>\n",
              "    </tr>\n",
              "  </tbody>\n",
              "</table>\n",
              "</div>"
            ],
            "text/plain": [
              "                           year  color content_rating  duration  \\\n",
              "title                                                             \n",
              "The Dark Knight Rises    2012.0  Color          PG-13     164.0   \n",
              "Avengers: Age of Ultron  2015.0  Color          PG-13     141.0   \n",
              "The Avengers             2012.0  Color          PG-13     173.0   \n",
              "\n",
              "                             director_name  director_fb           actor1  \\\n",
              "title                                                                      \n",
              "The Dark Knight Rises    Christopher Nolan      22000.0        Tom Hardy   \n",
              "Avengers: Age of Ultron        Joss Whedon          0.0  Chris Hemsworth   \n",
              "The Avengers                   Joss Whedon          0.0  Chris Hemsworth   \n",
              "\n",
              "                         actor1_fb             actor2  actor2_fb  \\\n",
              "title                                                              \n",
              "The Dark Knight Rises      27000.0     Christian Bale    23000.0   \n",
              "Avengers: Age of Ultron    26000.0  Robert Downey Jr.    21000.0   \n",
              "The Avengers               26000.0  Robert Downey Jr.    21000.0   \n",
              "\n",
              "                                       actor3  actor3_fb        gross  \\\n",
              "title                                                                   \n",
              "The Dark Knight Rises    Joseph Gordon-Levitt    23000.0  448130642.0   \n",
              "Avengers: Age of Ultron    Scarlett Johansson    19000.0  458991599.0   \n",
              "The Avengers               Scarlett Johansson    19000.0  623279547.0   \n",
              "\n",
              "                                          genres  num_reviews  \\\n",
              "title                                                           \n",
              "The Dark Knight Rises            Action|Thriller        813.0   \n",
              "Avengers: Age of Ultron  Action|Adventure|Sci-Fi        635.0   \n",
              "The Avengers             Action|Adventure|Sci-Fi        703.0   \n",
              "\n",
              "                         num_voted_users  \\\n",
              "title                                      \n",
              "The Dark Knight Rises            1144337   \n",
              "Avengers: Age of Ultron           462669   \n",
              "The Avengers                      995415   \n",
              "\n",
              "                                                             plot_keywords  \\\n",
              "title                                                                        \n",
              "The Dark Knight Rises    deception|imprisonment|lawlessness|police offi...   \n",
              "Avengers: Age of Ultron  artificial intelligence|based on comic book|ca...   \n",
              "The Avengers               alien invasion|assassin|battle|iron man|soldier   \n",
              "\n",
              "                        language country       budget  imdb_score  \n",
              "title                                                              \n",
              "The Dark Knight Rises    English     USA  250000000.0         8.5  \n",
              "Avengers: Age of Ultron  English     USA  250000000.0         7.5  \n",
              "The Avengers             English     USA  220000000.0         8.1  "
            ]
          },
          "metadata": {
            "tags": []
          },
          "execution_count": 110
        }
      ]
    },
    {
      "cell_type": "markdown",
      "metadata": {
        "id": "gP8IeQee5wFl"
      },
      "source": [
        "### Exercise 5\n",
        "\n",
        "<span  style=\"color:green; font-size:16px\">Select all the movies the number of user voters is less than 10 times the number of reviews.</span>"
      ]
    },
    {
      "cell_type": "code",
      "metadata": {
        "id": "yBDmd5XR5wFl",
        "colab": {
          "base_uri": "https://localhost:8080/"
        },
        "outputId": "834f32e1-321e-4499-eeca-2884a187898a"
      },
      "source": [
        "movie.query('num_voted_users < 10 * num_reviews').head(3)"
      ],
      "execution_count": null,
      "outputs": [
        {
          "output_type": "execute_result",
          "data": {
            "text/html": [
              "<div>\n",
              "<style scoped>\n",
              "    .dataframe tbody tr th:only-of-type {\n",
              "        vertical-align: middle;\n",
              "    }\n",
              "\n",
              "    .dataframe tbody tr th {\n",
              "        vertical-align: top;\n",
              "    }\n",
              "\n",
              "    .dataframe thead th {\n",
              "        text-align: right;\n",
              "    }\n",
              "</style>\n",
              "<table border=\"1\" class=\"dataframe\">\n",
              "  <thead>\n",
              "    <tr style=\"text-align: right;\">\n",
              "      <th></th>\n",
              "      <th>year</th>\n",
              "      <th>color</th>\n",
              "      <th>content_rating</th>\n",
              "      <th>duration</th>\n",
              "      <th>director_name</th>\n",
              "      <th>director_fb</th>\n",
              "      <th>actor1</th>\n",
              "      <th>actor1_fb</th>\n",
              "      <th>actor2</th>\n",
              "      <th>actor2_fb</th>\n",
              "      <th>actor3</th>\n",
              "      <th>actor3_fb</th>\n",
              "      <th>gross</th>\n",
              "      <th>genres</th>\n",
              "      <th>num_reviews</th>\n",
              "      <th>num_voted_users</th>\n",
              "      <th>plot_keywords</th>\n",
              "      <th>language</th>\n",
              "      <th>country</th>\n",
              "      <th>budget</th>\n",
              "      <th>imdb_score</th>\n",
              "    </tr>\n",
              "    <tr>\n",
              "      <th>title</th>\n",
              "      <th></th>\n",
              "      <th></th>\n",
              "      <th></th>\n",
              "      <th></th>\n",
              "      <th></th>\n",
              "      <th></th>\n",
              "      <th></th>\n",
              "      <th></th>\n",
              "      <th></th>\n",
              "      <th></th>\n",
              "      <th></th>\n",
              "      <th></th>\n",
              "      <th></th>\n",
              "      <th></th>\n",
              "      <th></th>\n",
              "      <th></th>\n",
              "      <th></th>\n",
              "      <th></th>\n",
              "      <th></th>\n",
              "      <th></th>\n",
              "      <th></th>\n",
              "    </tr>\n",
              "  </thead>\n",
              "  <tbody>\n",
              "    <tr>\n",
              "      <th>Indignation</th>\n",
              "      <td>2016.0</td>\n",
              "      <td>Color</td>\n",
              "      <td>R</td>\n",
              "      <td>110.0</td>\n",
              "      <td>James Schamus</td>\n",
              "      <td>44.0</td>\n",
              "      <td>Logan Lerman</td>\n",
              "      <td>8000.0</td>\n",
              "      <td>Sarah Gadon</td>\n",
              "      <td>691.0</td>\n",
              "      <td>Tracy Letts</td>\n",
              "      <td>85.0</td>\n",
              "      <td>560512.0</td>\n",
              "      <td>Drama</td>\n",
              "      <td>63.0</td>\n",
              "      <td>550</td>\n",
              "      <td>based on novel</td>\n",
              "      <td>Hebrew</td>\n",
              "      <td>USA</td>\n",
              "      <td>NaN</td>\n",
              "      <td>7.8</td>\n",
              "    </tr>\n",
              "    <tr>\n",
              "      <th>Pete's Dragon</th>\n",
              "      <td>2016.0</td>\n",
              "      <td>Color</td>\n",
              "      <td>PG</td>\n",
              "      <td>102.0</td>\n",
              "      <td>David Lowery</td>\n",
              "      <td>38.0</td>\n",
              "      <td>Bryce Dallas Howard</td>\n",
              "      <td>3000.0</td>\n",
              "      <td>Oona Laurence</td>\n",
              "      <td>424.0</td>\n",
              "      <td>Isiah Whitlock Jr.</td>\n",
              "      <td>190.0</td>\n",
              "      <td>NaN</td>\n",
              "      <td>Adventure|Family|Fantasy</td>\n",
              "      <td>78.0</td>\n",
              "      <td>408</td>\n",
              "      <td>NaN</td>\n",
              "      <td>English</td>\n",
              "      <td>USA</td>\n",
              "      <td>65000000.0</td>\n",
              "      <td>7.3</td>\n",
              "    </tr>\n",
              "    <tr>\n",
              "      <th>Kicks</th>\n",
              "      <td>2016.0</td>\n",
              "      <td>Color</td>\n",
              "      <td>R</td>\n",
              "      <td>80.0</td>\n",
              "      <td>Justin Tipping</td>\n",
              "      <td>2.0</td>\n",
              "      <td>Tina Gilton</td>\n",
              "      <td>861.0</td>\n",
              "      <td>Natalie Stephany Aguilar</td>\n",
              "      <td>163.0</td>\n",
              "      <td>Justin Hall</td>\n",
              "      <td>102.0</td>\n",
              "      <td>NaN</td>\n",
              "      <td>Adventure</td>\n",
              "      <td>6.0</td>\n",
              "      <td>59</td>\n",
              "      <td>NaN</td>\n",
              "      <td>English</td>\n",
              "      <td>USA</td>\n",
              "      <td>NaN</td>\n",
              "      <td>7.8</td>\n",
              "    </tr>\n",
              "  </tbody>\n",
              "</table>\n",
              "</div>"
            ],
            "text/plain": [
              "                 year  color content_rating  duration   director_name  \\\n",
              "title                                                                   \n",
              "Indignation    2016.0  Color              R     110.0   James Schamus   \n",
              "Pete's Dragon  2016.0  Color             PG     102.0    David Lowery   \n",
              "Kicks          2016.0  Color              R      80.0  Justin Tipping   \n",
              "\n",
              "               director_fb               actor1  actor1_fb  \\\n",
              "title                                                        \n",
              "Indignation           44.0         Logan Lerman     8000.0   \n",
              "Pete's Dragon         38.0  Bryce Dallas Howard     3000.0   \n",
              "Kicks                  2.0          Tina Gilton      861.0   \n",
              "\n",
              "                                 actor2  actor2_fb              actor3  \\\n",
              "title                                                                    \n",
              "Indignation                 Sarah Gadon      691.0         Tracy Letts   \n",
              "Pete's Dragon             Oona Laurence      424.0  Isiah Whitlock Jr.   \n",
              "Kicks          Natalie Stephany Aguilar      163.0         Justin Hall   \n",
              "\n",
              "               actor3_fb     gross                    genres  num_reviews  \\\n",
              "title                                                                       \n",
              "Indignation         85.0  560512.0                     Drama         63.0   \n",
              "Pete's Dragon      190.0       NaN  Adventure|Family|Fantasy         78.0   \n",
              "Kicks              102.0       NaN                 Adventure          6.0   \n",
              "\n",
              "               num_voted_users   plot_keywords language country      budget  \\\n",
              "title                                                                         \n",
              "Indignation                550  based on novel   Hebrew     USA         NaN   \n",
              "Pete's Dragon              408             NaN  English     USA  65000000.0   \n",
              "Kicks                       59             NaN  English     USA         NaN   \n",
              "\n",
              "               imdb_score  \n",
              "title                      \n",
              "Indignation           7.8  \n",
              "Pete's Dragon         7.3  \n",
              "Kicks                 7.8  "
            ]
          },
          "metadata": {
            "tags": []
          },
          "execution_count": 111
        }
      ]
    },
    {
      "cell_type": "markdown",
      "metadata": {
        "id": "zIie924U5wFm"
      },
      "source": [
        "### Exercise 6\n",
        "\n",
        "<span  style=\"color:green; font-size:16px\">Select all the movies made in the 1990s that were rated R with an IMDB score greater than 8.</span>"
      ]
    },
    {
      "cell_type": "code",
      "metadata": {
        "id": "020eZFPn5wFn",
        "colab": {
          "base_uri": "https://localhost:8080/"
        },
        "outputId": "41910af6-0414-46c7-a249-3d63f6ebede3"
      },
      "source": [
        "movie.query('1990 <= year <= 1999 and content_rating == \"R\" and imdb_score > 8').head(3)"
      ],
      "execution_count": null,
      "outputs": [
        {
          "output_type": "execute_result",
          "data": {
            "text/html": [
              "<div>\n",
              "<style scoped>\n",
              "    .dataframe tbody tr th:only-of-type {\n",
              "        vertical-align: middle;\n",
              "    }\n",
              "\n",
              "    .dataframe tbody tr th {\n",
              "        vertical-align: top;\n",
              "    }\n",
              "\n",
              "    .dataframe thead th {\n",
              "        text-align: right;\n",
              "    }\n",
              "</style>\n",
              "<table border=\"1\" class=\"dataframe\">\n",
              "  <thead>\n",
              "    <tr style=\"text-align: right;\">\n",
              "      <th></th>\n",
              "      <th>year</th>\n",
              "      <th>color</th>\n",
              "      <th>content_rating</th>\n",
              "      <th>duration</th>\n",
              "      <th>director_name</th>\n",
              "      <th>director_fb</th>\n",
              "      <th>actor1</th>\n",
              "      <th>actor1_fb</th>\n",
              "      <th>actor2</th>\n",
              "      <th>actor2_fb</th>\n",
              "      <th>actor3</th>\n",
              "      <th>actor3_fb</th>\n",
              "      <th>gross</th>\n",
              "      <th>genres</th>\n",
              "      <th>num_reviews</th>\n",
              "      <th>num_voted_users</th>\n",
              "      <th>plot_keywords</th>\n",
              "      <th>language</th>\n",
              "      <th>country</th>\n",
              "      <th>budget</th>\n",
              "      <th>imdb_score</th>\n",
              "    </tr>\n",
              "    <tr>\n",
              "      <th>title</th>\n",
              "      <th></th>\n",
              "      <th></th>\n",
              "      <th></th>\n",
              "      <th></th>\n",
              "      <th></th>\n",
              "      <th></th>\n",
              "      <th></th>\n",
              "      <th></th>\n",
              "      <th></th>\n",
              "      <th></th>\n",
              "      <th></th>\n",
              "      <th></th>\n",
              "      <th></th>\n",
              "      <th></th>\n",
              "      <th></th>\n",
              "      <th></th>\n",
              "      <th></th>\n",
              "      <th></th>\n",
              "      <th></th>\n",
              "      <th></th>\n",
              "      <th></th>\n",
              "    </tr>\n",
              "  </thead>\n",
              "  <tbody>\n",
              "    <tr>\n",
              "      <th>Terminator 2: Judgment Day</th>\n",
              "      <td>1991.0</td>\n",
              "      <td>Color</td>\n",
              "      <td>R</td>\n",
              "      <td>153.0</td>\n",
              "      <td>James Cameron</td>\n",
              "      <td>0.0</td>\n",
              "      <td>Joe Morton</td>\n",
              "      <td>780.0</td>\n",
              "      <td>Jenette Goldstein</td>\n",
              "      <td>604.0</td>\n",
              "      <td>S. Epatha Merkerson</td>\n",
              "      <td>539.0</td>\n",
              "      <td>204843350.0</td>\n",
              "      <td>Action|Sci-Fi</td>\n",
              "      <td>210.0</td>\n",
              "      <td>744891</td>\n",
              "      <td>future|liquid metal|multiple cameos|sexy woman...</td>\n",
              "      <td>English</td>\n",
              "      <td>USA</td>\n",
              "      <td>102000000.0</td>\n",
              "      <td>8.5</td>\n",
              "    </tr>\n",
              "    <tr>\n",
              "      <th>Braveheart</th>\n",
              "      <td>1995.0</td>\n",
              "      <td>Color</td>\n",
              "      <td>R</td>\n",
              "      <td>178.0</td>\n",
              "      <td>Mel Gibson</td>\n",
              "      <td>0.0</td>\n",
              "      <td>Mhairi Calvey</td>\n",
              "      <td>906.0</td>\n",
              "      <td>Patrick McGoohan</td>\n",
              "      <td>466.0</td>\n",
              "      <td>James Robinson</td>\n",
              "      <td>403.0</td>\n",
              "      <td>75600000.0</td>\n",
              "      <td>Biography|Drama|History|War</td>\n",
              "      <td>132.0</td>\n",
              "      <td>736638</td>\n",
              "      <td>14th century|legend|revolt|scotland|tyranny</td>\n",
              "      <td>English</td>\n",
              "      <td>USA</td>\n",
              "      <td>72000000.0</td>\n",
              "      <td>8.4</td>\n",
              "    </tr>\n",
              "    <tr>\n",
              "      <th>Saving Private Ryan</th>\n",
              "      <td>1998.0</td>\n",
              "      <td>Color</td>\n",
              "      <td>R</td>\n",
              "      <td>169.0</td>\n",
              "      <td>Steven Spielberg</td>\n",
              "      <td>14000.0</td>\n",
              "      <td>Tom Hanks</td>\n",
              "      <td>15000.0</td>\n",
              "      <td>Vin Diesel</td>\n",
              "      <td>14000.0</td>\n",
              "      <td>Matt Damon</td>\n",
              "      <td>13000.0</td>\n",
              "      <td>216119491.0</td>\n",
              "      <td>Action|Drama|War</td>\n",
              "      <td>219.0</td>\n",
              "      <td>881236</td>\n",
              "      <td>army|invasion|killed in action|normandy|soldier</td>\n",
              "      <td>English</td>\n",
              "      <td>USA</td>\n",
              "      <td>70000000.0</td>\n",
              "      <td>8.6</td>\n",
              "    </tr>\n",
              "  </tbody>\n",
              "</table>\n",
              "</div>"
            ],
            "text/plain": [
              "                              year  color content_rating  duration  \\\n",
              "title                                                                \n",
              "Terminator 2: Judgment Day  1991.0  Color              R     153.0   \n",
              "Braveheart                  1995.0  Color              R     178.0   \n",
              "Saving Private Ryan         1998.0  Color              R     169.0   \n",
              "\n",
              "                               director_name  director_fb         actor1  \\\n",
              "title                                                                      \n",
              "Terminator 2: Judgment Day     James Cameron          0.0     Joe Morton   \n",
              "Braveheart                        Mel Gibson          0.0  Mhairi Calvey   \n",
              "Saving Private Ryan         Steven Spielberg      14000.0      Tom Hanks   \n",
              "\n",
              "                            actor1_fb             actor2  actor2_fb  \\\n",
              "title                                                                 \n",
              "Terminator 2: Judgment Day      780.0  Jenette Goldstein      604.0   \n",
              "Braveheart                      906.0   Patrick McGoohan      466.0   \n",
              "Saving Private Ryan           15000.0         Vin Diesel    14000.0   \n",
              "\n",
              "                                         actor3  actor3_fb        gross  \\\n",
              "title                                                                     \n",
              "Terminator 2: Judgment Day  S. Epatha Merkerson      539.0  204843350.0   \n",
              "Braveheart                       James Robinson      403.0   75600000.0   \n",
              "Saving Private Ryan                  Matt Damon    13000.0  216119491.0   \n",
              "\n",
              "                                                 genres  num_reviews  \\\n",
              "title                                                                  \n",
              "Terminator 2: Judgment Day                Action|Sci-Fi        210.0   \n",
              "Braveheart                  Biography|Drama|History|War        132.0   \n",
              "Saving Private Ryan                    Action|Drama|War        219.0   \n",
              "\n",
              "                            num_voted_users  \\\n",
              "title                                         \n",
              "Terminator 2: Judgment Day           744891   \n",
              "Braveheart                           736638   \n",
              "Saving Private Ryan                  881236   \n",
              "\n",
              "                                                                plot_keywords  \\\n",
              "title                                                                           \n",
              "Terminator 2: Judgment Day  future|liquid metal|multiple cameos|sexy woman...   \n",
              "Braveheart                        14th century|legend|revolt|scotland|tyranny   \n",
              "Saving Private Ryan           army|invasion|killed in action|normandy|soldier   \n",
              "\n",
              "                           language country       budget  imdb_score  \n",
              "title                                                                 \n",
              "Terminator 2: Judgment Day  English     USA  102000000.0         8.5  \n",
              "Braveheart                  English     USA   72000000.0         8.4  \n",
              "Saving Private Ryan         English     USA   70000000.0         8.6  "
            ]
          },
          "metadata": {
            "tags": []
          },
          "execution_count": 112
        }
      ]
    },
    {
      "cell_type": "markdown",
      "metadata": {
        "id": "NHFOL4U_5wFn"
      },
      "source": [
        "## 9. Miscellaneous Subset Selection"
      ]
    }
  ]
}