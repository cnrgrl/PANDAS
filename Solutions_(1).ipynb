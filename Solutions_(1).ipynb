{
  "nbformat": 4,
  "nbformat_minor": 0,
  "metadata": {
    "anaconda-cloud": {},
    "kernelspec": {
      "display_name": "Python 3",
      "language": "python",
      "name": "python3"
    },
    "language_info": {
      "codemirror_mode": {
        "name": "ipython",
        "version": 3
      },
      "file_extension": ".py",
      "mimetype": "text/x-python",
      "name": "python",
      "nbconvert_exporter": "python",
      "pygments_lexer": "ipython3",
      "version": "3.7.3"
    },
    "varInspector": {
      "cols": {
        "lenName": 16,
        "lenType": 16,
        "lenVar": 40
      },
      "kernels_config": {
        "python": {
          "delete_cmd_postfix": "",
          "delete_cmd_prefix": "del ",
          "library": "var_list.py",
          "varRefreshCmd": "print(var_dic_list())"
        },
        "r": {
          "delete_cmd_postfix": ") ",
          "delete_cmd_prefix": "rm(",
          "library": "var_list.r",
          "varRefreshCmd": "cat(var_dic_list()) "
        }
      },
      "types_to_exclude": [
        "module",
        "function",
        "builtin_function_or_method",
        "instance",
        "_Feature"
      ],
      "window_display": false
    },
    "colab": {
      "name": "Solutions (1).ipynb",
      "provenance": [],
      "include_colab_link": true
    }
  },
  "cells": [
    {
      "cell_type": "markdown",
      "metadata": {
        "id": "view-in-github",
        "colab_type": "text"
      },
      "source": [
        "<a href=\"https://colab.research.google.com/github/cnrgrl/PANDAS/blob/main/Solutions_(1).ipynb\" target=\"_parent\"><img src=\"https://colab.research.google.com/assets/colab-badge.svg\" alt=\"Open In Colab\"/></a>"
      ]
    },
    {
      "cell_type": "code",
      "metadata": {
        "id": "-XT-vTWHvyQr",
        "colab": {
          "base_uri": "https://localhost:8080/",
          "height": 121
        },
        "outputId": "f6e2392c-0c18-41c3-e738-1a36e614cfe0"
      },
      "source": [
        "# uncomment the following line, if you are using google collab\n",
        "!rm -r Pandas\n",
        "!git clone https://github.com/Wuebbelt/Pandas.git"
      ],
      "execution_count": null,
      "outputs": [
        {
          "output_type": "stream",
          "text": [
            "Cloning into 'Pandas'...\n",
            "remote: Enumerating objects: 77, done.\u001b[K\n",
            "remote: Counting objects: 100% (77/77), done.\u001b[K\n",
            "remote: Compressing objects: 100% (66/66), done.\u001b[K\n",
            "remote: Total 77 (delta 12), reused 75 (delta 10), pack-reused 0\u001b[K\n",
            "Unpacking objects: 100% (77/77), done.\n"
          ],
          "name": "stdout"
        }
      ]
    },
    {
      "cell_type": "markdown",
      "metadata": {
        "id": "Qc41hY77vt1f"
      },
      "source": [
        "# Solutions"
      ]
    },
    {
      "cell_type": "markdown",
      "metadata": {
        "tags": [
          "ignore"
        ],
        "id": "WAqXVShhvt1i"
      },
      "source": [
        "1. Intro to pandas\n",
        "1. [The DataFrame and Series](#2.-The-DataFrame-and-Series)\n",
        "1. [Data Types and Missing Values](#3.-Data-Types-and-Missing-Values)\n",
        "1. [Setting a meaningful index](#4.-Setting-a-meaningful-index)\n",
        "1. Five Step Process for Data Exploration"
      ]
    },
    {
      "cell_type": "markdown",
      "metadata": {
        "id": "grZd8N-2vt1k"
      },
      "source": [
        "## 2. The DataFrame and Series"
      ]
    },
    {
      "cell_type": "code",
      "metadata": {
        "id": "-CIYSHmwvt1l"
      },
      "source": [
        "import pandas as pd\n",
        "import numpy as np\n",
        "\n",
        "pd.options.display.max_columns = 40\n",
        "bikes = pd.read_csv('Pandas/bikes.csv')"
      ],
      "execution_count": null,
      "outputs": []
    },
    {
      "cell_type": "markdown",
      "metadata": {
        "id": "_UmKxUrevt1o"
      },
      "source": [
        "### Exercise 1\n",
        "<span  style=\"color:green; font-size:16px\">Select the column `events`, the type of weather that was recorded, and assign it to a variable with the same name. Output the first 10 values of it.</span>"
      ]
    },
    {
      "cell_type": "code",
      "metadata": {
        "id": "LD58A7pAvt1p",
        "colab": {
          "base_uri": "https://localhost:8080/",
          "height": 207
        },
        "outputId": "bf30098a-49ba-4ec7-e2e4-87e8556e3925"
      },
      "source": [
        "events = bikes['events']\n",
        "events.head(10)"
      ],
      "execution_count": null,
      "outputs": [
        {
          "output_type": "execute_result",
          "data": {
            "text/plain": [
              "0    mostlycloudy\n",
              "1    partlycloudy\n",
              "2    mostlycloudy\n",
              "3    mostlycloudy\n",
              "4    partlycloudy\n",
              "5    mostlycloudy\n",
              "6          cloudy\n",
              "7          cloudy\n",
              "8          cloudy\n",
              "9    mostlycloudy\n",
              "Name: events, dtype: object"
            ]
          },
          "metadata": {
            "tags": []
          },
          "execution_count": 61
        }
      ]
    },
    {
      "cell_type": "markdown",
      "metadata": {
        "id": "B8XBfkvRvt1s"
      },
      "source": [
        "### Exercise 2\n",
        "<span  style=\"color:green; font-size:16px\">What type of object is `events`?</span>"
      ]
    },
    {
      "cell_type": "code",
      "metadata": {
        "id": "krfgh69gvt1u",
        "colab": {
          "base_uri": "https://localhost:8080/",
          "height": 34
        },
        "outputId": "3564865e-69aa-4b22-85fe-b02f0eb463ad"
      },
      "source": [
        "# it's a Series\n",
        "type(events)"
      ],
      "execution_count": null,
      "outputs": [
        {
          "output_type": "execute_result",
          "data": {
            "text/plain": [
              "pandas.core.series.Series"
            ]
          },
          "metadata": {
            "tags": []
          },
          "execution_count": 62
        }
      ]
    },
    {
      "cell_type": "markdown",
      "metadata": {
        "id": "6aF93OsMvt1w"
      },
      "source": [
        "### Exercise 3\n",
        "<span  style=\"color:green; font-size:16px\">Select the last two rows of the `bikes` DataFrame and assign it to the variable `bikes_last_2`. What type of object is `bikes_last_2`?</span>"
      ]
    },
    {
      "cell_type": "code",
      "metadata": {
        "id": "ENFWfbq1vt1x",
        "colab": {
          "base_uri": "https://localhost:8080/",
          "height": 34
        },
        "outputId": "25a21aea-16c7-4d51-bf6a-954560c08920"
      },
      "source": [
        "# it's a DataFrame\n",
        "bikes_last_2 = bikes.tail(2)\n",
        "type(bikes_last_2)"
      ],
      "execution_count": null,
      "outputs": [
        {
          "output_type": "execute_result",
          "data": {
            "text/plain": [
              "pandas.core.frame.DataFrame"
            ]
          },
          "metadata": {
            "tags": []
          },
          "execution_count": 63
        }
      ]
    },
    {
      "cell_type": "markdown",
      "metadata": {
        "id": "n_ftws1Vvt10"
      },
      "source": [
        "### Exercise 4\n",
        "\n",
        "<span  style=\"color:green; font-size:16px\">Use `pd.reset_option('all')` to reset the options to their default values. Test that this worked. </span>"
      ]
    },
    {
      "cell_type": "code",
      "metadata": {
        "scrolled": true,
        "tags": [
          "run_no_output"
        ],
        "id": "_ho3smH6vt11",
        "colab": {
          "base_uri": "https://localhost:8080/",
          "height": 207
        },
        "outputId": "86e6ec6f-3f4b-4897-9408-89b07ad06264"
      },
      "source": [
        "pd.reset_option('all')"
      ],
      "execution_count": null,
      "outputs": [
        {
          "output_type": "stream",
          "text": [
            "\n",
            ": boolean\n",
            "    use_inf_as_null had been deprecated and will be removed in a future\n",
            "    version. Use `use_inf_as_na` instead.\n",
            "\n"
          ],
          "name": "stdout"
        },
        {
          "output_type": "stream",
          "text": [
            "/usr/local/lib/python3.6/dist-packages/pandas/_config/config.py:622: FutureWarning: \n",
            ": boolean\n",
            "    use_inf_as_null had been deprecated and will be removed in a future\n",
            "    version. Use `use_inf_as_na` instead.\n",
            "\n",
            "  warnings.warn(d.msg, FutureWarning)\n"
          ],
          "name": "stderr"
        }
      ]
    },
    {
      "cell_type": "markdown",
      "metadata": {
        "id": "RsqIqiBwvt15"
      },
      "source": [
        "## 3. Data Types and Missing Values"
      ]
    },
    {
      "cell_type": "markdown",
      "metadata": {
        "id": "nZQa2zyfvt16"
      },
      "source": [
        "### Exercise 1\n",
        "<span  style=\"color:green; font-size:16px\">What type of object is returned from the `dtypes` attribute?</span>"
      ]
    },
    {
      "cell_type": "code",
      "metadata": {
        "id": "7_wWVbEkvt17",
        "colab": {
          "base_uri": "https://localhost:8080/",
          "height": 34
        },
        "outputId": "6ff19c5c-d6e7-4c54-dc15-35c1f55b3674"
      },
      "source": [
        "# a Series\n",
        "type(bikes.dtypes)"
      ],
      "execution_count": null,
      "outputs": [
        {
          "output_type": "execute_result",
          "data": {
            "text/plain": [
              "pandas.core.series.Series"
            ]
          },
          "metadata": {
            "tags": []
          },
          "execution_count": 65
        }
      ]
    },
    {
      "cell_type": "markdown",
      "metadata": {
        "id": "WLqCnew1vt1_"
      },
      "source": [
        "### Exercise 2\n",
        "<span  style=\"color:green; font-size:16px\">What type of object is returned from the `shape` attribute?</span>"
      ]
    },
    {
      "cell_type": "code",
      "metadata": {
        "id": "37gBvlEovt1_",
        "colab": {
          "base_uri": "https://localhost:8080/",
          "height": 34
        },
        "outputId": "fd552068-9c63-4dfd-e4b9-b31fe5305b8a"
      },
      "source": [
        "# a tuple of rows, columns\n",
        "type(bikes.shape)"
      ],
      "execution_count": null,
      "outputs": [
        {
          "output_type": "execute_result",
          "data": {
            "text/plain": [
              "tuple"
            ]
          },
          "metadata": {
            "tags": []
          },
          "execution_count": 66
        }
      ]
    },
    {
      "cell_type": "markdown",
      "metadata": {
        "id": "f9g69IF1vt2B"
      },
      "source": [
        "### Exercise 3\n",
        "<span  style=\"color:green; font-size:16px\">What type of object is returned from the `info` method?</span>"
      ]
    },
    {
      "cell_type": "markdown",
      "metadata": {
        "id": "HkFYbOYovt2C"
      },
      "source": [
        "The object `None` is returned. What you see is just output printed to the screen."
      ]
    },
    {
      "cell_type": "code",
      "metadata": {
        "id": "rAJa2c8Uvt2D",
        "colab": {
          "base_uri": "https://localhost:8080/",
          "height": 433
        },
        "outputId": "a591d33d-ec95-48fd-b3b4-e7f20d660cce"
      },
      "source": [
        "info_return = bikes.info()"
      ],
      "execution_count": null,
      "outputs": [
        {
          "output_type": "stream",
          "text": [
            "<class 'pandas.core.frame.DataFrame'>\n",
            "RangeIndex: 50089 entries, 0 to 50088\n",
            "Data columns (total 19 columns):\n",
            "trip_id              50089 non-null int64\n",
            "usertype             50089 non-null object\n",
            "gender               50089 non-null object\n",
            "starttime            50089 non-null object\n",
            "stoptime             50089 non-null object\n",
            "tripduration         50089 non-null int64\n",
            "from_station_name    50089 non-null object\n",
            "latitude_start       50083 non-null float64\n",
            "longitude_start      50083 non-null float64\n",
            "dpcapacity_start     50083 non-null float64\n",
            "to_station_name      50089 non-null object\n",
            "latitude_end         50077 non-null float64\n",
            "longitude_end        50077 non-null float64\n",
            "dpcapacity_end       50077 non-null float64\n",
            "temperature          50089 non-null float64\n",
            "visibility           50089 non-null float64\n",
            "wind_speed           50089 non-null float64\n",
            "precipitation        50089 non-null float64\n",
            "events               50089 non-null object\n",
            "dtypes: float64(10), int64(2), object(7)\n",
            "memory usage: 7.3+ MB\n"
          ],
          "name": "stdout"
        }
      ]
    },
    {
      "cell_type": "code",
      "metadata": {
        "id": "qoDJ5PvJvt2F",
        "colab": {
          "base_uri": "https://localhost:8080/",
          "height": 34
        },
        "outputId": "b955a674-8206-4ce3-ecfc-8bca5c0ebf61"
      },
      "source": [
        "type(info_return)"
      ],
      "execution_count": null,
      "outputs": [
        {
          "output_type": "execute_result",
          "data": {
            "text/plain": [
              "NoneType"
            ]
          },
          "metadata": {
            "tags": []
          },
          "execution_count": 68
        }
      ]
    },
    {
      "cell_type": "markdown",
      "metadata": {
        "id": "T7b3pJO9vt2H"
      },
      "source": [
        "### Exercise 4\n",
        "<span  style=\"color:green; font-size:16px\">The memory usage from the `info` method isn't correct when you have objects in your DataFrame. Read the docstrings from it and get the true memory usage.</span>"
      ]
    },
    {
      "cell_type": "code",
      "metadata": {
        "id": "FhoIJUrnvt2I",
        "colab": {
          "base_uri": "https://localhost:8080/",
          "height": 433
        },
        "outputId": "9eeda7f3-9c2f-4b72-bbd4-d3af437cace7"
      },
      "source": [
        "bikes.info(memory_usage='deep')"
      ],
      "execution_count": null,
      "outputs": [
        {
          "output_type": "stream",
          "text": [
            "<class 'pandas.core.frame.DataFrame'>\n",
            "RangeIndex: 50089 entries, 0 to 50088\n",
            "Data columns (total 19 columns):\n",
            "trip_id              50089 non-null int64\n",
            "usertype             50089 non-null object\n",
            "gender               50089 non-null object\n",
            "starttime            50089 non-null object\n",
            "stoptime             50089 non-null object\n",
            "tripduration         50089 non-null int64\n",
            "from_station_name    50089 non-null object\n",
            "latitude_start       50083 non-null float64\n",
            "longitude_start      50083 non-null float64\n",
            "dpcapacity_start     50083 non-null float64\n",
            "to_station_name      50089 non-null object\n",
            "latitude_end         50077 non-null float64\n",
            "longitude_end        50077 non-null float64\n",
            "dpcapacity_end       50077 non-null float64\n",
            "temperature          50089 non-null float64\n",
            "visibility           50089 non-null float64\n",
            "wind_speed           50089 non-null float64\n",
            "precipitation        50089 non-null float64\n",
            "events               50089 non-null object\n",
            "dtypes: float64(10), int64(2), object(7)\n",
            "memory usage: 28.9 MB\n"
          ],
          "name": "stdout"
        }
      ]
    },
    {
      "cell_type": "markdown",
      "metadata": {
        "id": "GlzNxp3tvt2K"
      },
      "source": [
        "## 4. Setting a meaningful index"
      ]
    },
    {
      "cell_type": "markdown",
      "metadata": {
        "id": "RdaPBHDBvt2K"
      },
      "source": [
        "### Exercise 1\n",
        "<span  style=\"color:green; font-size:16px\">Read in the movie dataset and set the index to be something other than movie title. Are there any other good columns to use as an index?</span>"
      ]
    },
    {
      "cell_type": "code",
      "metadata": {
        "id": "KA8j8BShvt2L",
        "colab": {
          "base_uri": "https://localhost:8080/",
          "height": 316
        },
        "outputId": "d22291b4-440b-4b15-f861-7cd7897e7c0a"
      },
      "source": [
        "movies = pd.read_csv('Pandas/movie.csv', index_col='director_name')\n",
        "movies.head(3)"
      ],
      "execution_count": null,
      "outputs": [
        {
          "output_type": "execute_result",
          "data": {
            "text/html": [
              "<div>\n",
              "<style scoped>\n",
              "    .dataframe tbody tr th:only-of-type {\n",
              "        vertical-align: middle;\n",
              "    }\n",
              "\n",
              "    .dataframe tbody tr th {\n",
              "        vertical-align: top;\n",
              "    }\n",
              "\n",
              "    .dataframe thead th {\n",
              "        text-align: right;\n",
              "    }\n",
              "</style>\n",
              "<table border=\"1\" class=\"dataframe\">\n",
              "  <thead>\n",
              "    <tr style=\"text-align: right;\">\n",
              "      <th></th>\n",
              "      <th>title</th>\n",
              "      <th>year</th>\n",
              "      <th>color</th>\n",
              "      <th>content_rating</th>\n",
              "      <th>duration</th>\n",
              "      <th>director_fb</th>\n",
              "      <th>actor1</th>\n",
              "      <th>actor1_fb</th>\n",
              "      <th>actor2</th>\n",
              "      <th>actor2_fb</th>\n",
              "      <th>actor3</th>\n",
              "      <th>actor3_fb</th>\n",
              "      <th>gross</th>\n",
              "      <th>genres</th>\n",
              "      <th>num_reviews</th>\n",
              "      <th>num_voted_users</th>\n",
              "      <th>plot_keywords</th>\n",
              "      <th>language</th>\n",
              "      <th>country</th>\n",
              "      <th>budget</th>\n",
              "      <th>imdb_score</th>\n",
              "    </tr>\n",
              "    <tr>\n",
              "      <th>director_name</th>\n",
              "      <th></th>\n",
              "      <th></th>\n",
              "      <th></th>\n",
              "      <th></th>\n",
              "      <th></th>\n",
              "      <th></th>\n",
              "      <th></th>\n",
              "      <th></th>\n",
              "      <th></th>\n",
              "      <th></th>\n",
              "      <th></th>\n",
              "      <th></th>\n",
              "      <th></th>\n",
              "      <th></th>\n",
              "      <th></th>\n",
              "      <th></th>\n",
              "      <th></th>\n",
              "      <th></th>\n",
              "      <th></th>\n",
              "      <th></th>\n",
              "      <th></th>\n",
              "    </tr>\n",
              "  </thead>\n",
              "  <tbody>\n",
              "    <tr>\n",
              "      <th>James Cameron</th>\n",
              "      <td>Avatar</td>\n",
              "      <td>2009.0</td>\n",
              "      <td>Color</td>\n",
              "      <td>PG-13</td>\n",
              "      <td>178.0</td>\n",
              "      <td>0.0</td>\n",
              "      <td>CCH Pounder</td>\n",
              "      <td>1000.0</td>\n",
              "      <td>Joel David Moore</td>\n",
              "      <td>936.0</td>\n",
              "      <td>Wes Studi</td>\n",
              "      <td>855.0</td>\n",
              "      <td>760505847.0</td>\n",
              "      <td>Action|Adventure|Fantasy|Sci-Fi</td>\n",
              "      <td>723.0</td>\n",
              "      <td>886204</td>\n",
              "      <td>avatar|future|marine|native|paraplegic</td>\n",
              "      <td>English</td>\n",
              "      <td>USA</td>\n",
              "      <td>237000000.0</td>\n",
              "      <td>7.9</td>\n",
              "    </tr>\n",
              "    <tr>\n",
              "      <th>Gore Verbinski</th>\n",
              "      <td>Pirates of the Caribbean: At World's End</td>\n",
              "      <td>2007.0</td>\n",
              "      <td>Color</td>\n",
              "      <td>PG-13</td>\n",
              "      <td>169.0</td>\n",
              "      <td>563.0</td>\n",
              "      <td>Johnny Depp</td>\n",
              "      <td>40000.0</td>\n",
              "      <td>Orlando Bloom</td>\n",
              "      <td>5000.0</td>\n",
              "      <td>Jack Davenport</td>\n",
              "      <td>1000.0</td>\n",
              "      <td>309404152.0</td>\n",
              "      <td>Action|Adventure|Fantasy</td>\n",
              "      <td>302.0</td>\n",
              "      <td>471220</td>\n",
              "      <td>goddess|marriage ceremony|marriage proposal|pi...</td>\n",
              "      <td>English</td>\n",
              "      <td>USA</td>\n",
              "      <td>300000000.0</td>\n",
              "      <td>7.1</td>\n",
              "    </tr>\n",
              "    <tr>\n",
              "      <th>Sam Mendes</th>\n",
              "      <td>Spectre</td>\n",
              "      <td>2015.0</td>\n",
              "      <td>Color</td>\n",
              "      <td>PG-13</td>\n",
              "      <td>148.0</td>\n",
              "      <td>0.0</td>\n",
              "      <td>Christoph Waltz</td>\n",
              "      <td>11000.0</td>\n",
              "      <td>Rory Kinnear</td>\n",
              "      <td>393.0</td>\n",
              "      <td>Stephanie Sigman</td>\n",
              "      <td>161.0</td>\n",
              "      <td>200074175.0</td>\n",
              "      <td>Action|Adventure|Thriller</td>\n",
              "      <td>602.0</td>\n",
              "      <td>275868</td>\n",
              "      <td>bomb|espionage|sequel|spy|terrorist</td>\n",
              "      <td>English</td>\n",
              "      <td>UK</td>\n",
              "      <td>245000000.0</td>\n",
              "      <td>6.8</td>\n",
              "    </tr>\n",
              "  </tbody>\n",
              "</table>\n",
              "</div>"
            ],
            "text/plain": [
              "                                                   title  ...  imdb_score\n",
              "director_name                                             ...            \n",
              "James Cameron                                     Avatar  ...         7.9\n",
              "Gore Verbinski  Pirates of the Caribbean: At World's End  ...         7.1\n",
              "Sam Mendes                                       Spectre  ...         6.8\n",
              "\n",
              "[3 rows x 21 columns]"
            ]
          },
          "metadata": {
            "tags": []
          },
          "execution_count": 70
        }
      ]
    },
    {
      "cell_type": "markdown",
      "metadata": {
        "id": "qh2TIsrLvt2N"
      },
      "source": [
        "Director name isn't unique. There aren't any other good column names to use as an index."
      ]
    },
    {
      "cell_type": "markdown",
      "metadata": {
        "id": "ZaLkjsHtvt2N"
      },
      "source": [
        "### Exercise 2\n",
        "<span  style=\"color:green; font-size:16px\">Use `set_index` to set the index and keep the column as part of the data. Read the docstrings to find the parameter that controls this functionality.</span>"
      ]
    },
    {
      "cell_type": "code",
      "metadata": {
        "id": "aqmp46mivt2O",
        "colab": {
          "base_uri": "https://localhost:8080/",
          "height": 316
        },
        "outputId": "8918e5c3-641c-494e-c302-aae8c8c4be2e"
      },
      "source": [
        "movies = pd.read_csv('Pandas/movie.csv')\n",
        "movies = movies.set_index('title', drop=False)\n",
        "movies.head(3)"
      ],
      "execution_count": null,
      "outputs": [
        {
          "output_type": "execute_result",
          "data": {
            "text/html": [
              "<div>\n",
              "<style scoped>\n",
              "    .dataframe tbody tr th:only-of-type {\n",
              "        vertical-align: middle;\n",
              "    }\n",
              "\n",
              "    .dataframe tbody tr th {\n",
              "        vertical-align: top;\n",
              "    }\n",
              "\n",
              "    .dataframe thead th {\n",
              "        text-align: right;\n",
              "    }\n",
              "</style>\n",
              "<table border=\"1\" class=\"dataframe\">\n",
              "  <thead>\n",
              "    <tr style=\"text-align: right;\">\n",
              "      <th></th>\n",
              "      <th>title</th>\n",
              "      <th>year</th>\n",
              "      <th>color</th>\n",
              "      <th>content_rating</th>\n",
              "      <th>duration</th>\n",
              "      <th>director_name</th>\n",
              "      <th>director_fb</th>\n",
              "      <th>actor1</th>\n",
              "      <th>actor1_fb</th>\n",
              "      <th>actor2</th>\n",
              "      <th>actor2_fb</th>\n",
              "      <th>actor3</th>\n",
              "      <th>actor3_fb</th>\n",
              "      <th>gross</th>\n",
              "      <th>genres</th>\n",
              "      <th>num_reviews</th>\n",
              "      <th>num_voted_users</th>\n",
              "      <th>plot_keywords</th>\n",
              "      <th>language</th>\n",
              "      <th>country</th>\n",
              "      <th>budget</th>\n",
              "      <th>imdb_score</th>\n",
              "    </tr>\n",
              "    <tr>\n",
              "      <th>title</th>\n",
              "      <th></th>\n",
              "      <th></th>\n",
              "      <th></th>\n",
              "      <th></th>\n",
              "      <th></th>\n",
              "      <th></th>\n",
              "      <th></th>\n",
              "      <th></th>\n",
              "      <th></th>\n",
              "      <th></th>\n",
              "      <th></th>\n",
              "      <th></th>\n",
              "      <th></th>\n",
              "      <th></th>\n",
              "      <th></th>\n",
              "      <th></th>\n",
              "      <th></th>\n",
              "      <th></th>\n",
              "      <th></th>\n",
              "      <th></th>\n",
              "      <th></th>\n",
              "      <th></th>\n",
              "    </tr>\n",
              "  </thead>\n",
              "  <tbody>\n",
              "    <tr>\n",
              "      <th>Avatar</th>\n",
              "      <td>Avatar</td>\n",
              "      <td>2009.0</td>\n",
              "      <td>Color</td>\n",
              "      <td>PG-13</td>\n",
              "      <td>178.0</td>\n",
              "      <td>James Cameron</td>\n",
              "      <td>0.0</td>\n",
              "      <td>CCH Pounder</td>\n",
              "      <td>1000.0</td>\n",
              "      <td>Joel David Moore</td>\n",
              "      <td>936.0</td>\n",
              "      <td>Wes Studi</td>\n",
              "      <td>855.0</td>\n",
              "      <td>760505847.0</td>\n",
              "      <td>Action|Adventure|Fantasy|Sci-Fi</td>\n",
              "      <td>723.0</td>\n",
              "      <td>886204</td>\n",
              "      <td>avatar|future|marine|native|paraplegic</td>\n",
              "      <td>English</td>\n",
              "      <td>USA</td>\n",
              "      <td>237000000.0</td>\n",
              "      <td>7.9</td>\n",
              "    </tr>\n",
              "    <tr>\n",
              "      <th>Pirates of the Caribbean: At World's End</th>\n",
              "      <td>Pirates of the Caribbean: At World's End</td>\n",
              "      <td>2007.0</td>\n",
              "      <td>Color</td>\n",
              "      <td>PG-13</td>\n",
              "      <td>169.0</td>\n",
              "      <td>Gore Verbinski</td>\n",
              "      <td>563.0</td>\n",
              "      <td>Johnny Depp</td>\n",
              "      <td>40000.0</td>\n",
              "      <td>Orlando Bloom</td>\n",
              "      <td>5000.0</td>\n",
              "      <td>Jack Davenport</td>\n",
              "      <td>1000.0</td>\n",
              "      <td>309404152.0</td>\n",
              "      <td>Action|Adventure|Fantasy</td>\n",
              "      <td>302.0</td>\n",
              "      <td>471220</td>\n",
              "      <td>goddess|marriage ceremony|marriage proposal|pi...</td>\n",
              "      <td>English</td>\n",
              "      <td>USA</td>\n",
              "      <td>300000000.0</td>\n",
              "      <td>7.1</td>\n",
              "    </tr>\n",
              "    <tr>\n",
              "      <th>Spectre</th>\n",
              "      <td>Spectre</td>\n",
              "      <td>2015.0</td>\n",
              "      <td>Color</td>\n",
              "      <td>PG-13</td>\n",
              "      <td>148.0</td>\n",
              "      <td>Sam Mendes</td>\n",
              "      <td>0.0</td>\n",
              "      <td>Christoph Waltz</td>\n",
              "      <td>11000.0</td>\n",
              "      <td>Rory Kinnear</td>\n",
              "      <td>393.0</td>\n",
              "      <td>Stephanie Sigman</td>\n",
              "      <td>161.0</td>\n",
              "      <td>200074175.0</td>\n",
              "      <td>Action|Adventure|Thriller</td>\n",
              "      <td>602.0</td>\n",
              "      <td>275868</td>\n",
              "      <td>bomb|espionage|sequel|spy|terrorist</td>\n",
              "      <td>English</td>\n",
              "      <td>UK</td>\n",
              "      <td>245000000.0</td>\n",
              "      <td>6.8</td>\n",
              "    </tr>\n",
              "  </tbody>\n",
              "</table>\n",
              "</div>"
            ],
            "text/plain": [
              "                                                                             title  ...  imdb_score\n",
              "title                                                                               ...            \n",
              "Avatar                                                                      Avatar  ...         7.9\n",
              "Pirates of the Caribbean: At World's End  Pirates of the Caribbean: At World's End  ...         7.1\n",
              "Spectre                                                                    Spectre  ...         6.8\n",
              "\n",
              "[3 rows x 22 columns]"
            ]
          },
          "metadata": {
            "tags": []
          },
          "execution_count": 71
        }
      ]
    },
    {
      "cell_type": "markdown",
      "metadata": {
        "id": "FGIQc_DRvt2R"
      },
      "source": [
        "### Exercise 3\n",
        "<span  style=\"color:green; font-size:16px\">Read in the movie DataFrame and set the index as the title column. Assign the index to its own variable and output the last 10 movies titles.</span>"
      ]
    },
    {
      "cell_type": "code",
      "metadata": {
        "id": "5qbRuiVkvt2S",
        "colab": {
          "base_uri": "https://localhost:8080/",
          "height": 86
        },
        "outputId": "c965dd31-9669-4e13-a847-e1dac76cded6"
      },
      "source": [
        "movies = pd.read_csv('Pandas/movie.csv', index_col='title')\n",
        "index = movies.index\n",
        "index[-10:]"
      ],
      "execution_count": null,
      "outputs": [
        {
          "output_type": "execute_result",
          "data": {
            "text/plain": [
              "Index(['Primer', 'Cavite', 'El Mariachi', 'The Mongol King', 'Newlyweds',\n",
              "       'Signed Sealed Delivered', 'The Following', 'A Plague So Pleasant',\n",
              "       'Shanghai Calling', 'My Date with Drew'],\n",
              "      dtype='object', name='title')"
            ]
          },
          "metadata": {
            "tags": []
          },
          "execution_count": 72
        }
      ]
    },
    {
      "cell_type": "markdown",
      "metadata": {
        "id": "88xfgdXjvt2U"
      },
      "source": [
        "### Exercise 4\n",
        "<span  style=\"color:green; font-size:16px\">Use an integer instead of the column name for `index_col` when reading in the data using `read_csv`. What does it do?</span>"
      ]
    },
    {
      "cell_type": "code",
      "metadata": {
        "id": "DzTCnEtgvt2V",
        "colab": {
          "base_uri": "https://localhost:8080/",
          "height": 316
        },
        "outputId": "d04d5056-7a84-405e-c519-785dce4a3742"
      },
      "source": [
        "movies = pd.read_csv('Pandas/movie.csv', index_col=-5)\n",
        "movies.head(3)"
      ],
      "execution_count": null,
      "outputs": [
        {
          "output_type": "execute_result",
          "data": {
            "text/html": [
              "<div>\n",
              "<style scoped>\n",
              "    .dataframe tbody tr th:only-of-type {\n",
              "        vertical-align: middle;\n",
              "    }\n",
              "\n",
              "    .dataframe tbody tr th {\n",
              "        vertical-align: top;\n",
              "    }\n",
              "\n",
              "    .dataframe thead th {\n",
              "        text-align: right;\n",
              "    }\n",
              "</style>\n",
              "<table border=\"1\" class=\"dataframe\">\n",
              "  <thead>\n",
              "    <tr style=\"text-align: right;\">\n",
              "      <th></th>\n",
              "      <th>title</th>\n",
              "      <th>year</th>\n",
              "      <th>color</th>\n",
              "      <th>content_rating</th>\n",
              "      <th>duration</th>\n",
              "      <th>director_name</th>\n",
              "      <th>director_fb</th>\n",
              "      <th>actor1</th>\n",
              "      <th>actor1_fb</th>\n",
              "      <th>actor2</th>\n",
              "      <th>actor2_fb</th>\n",
              "      <th>actor3</th>\n",
              "      <th>actor3_fb</th>\n",
              "      <th>gross</th>\n",
              "      <th>genres</th>\n",
              "      <th>num_reviews</th>\n",
              "      <th>num_voted_users</th>\n",
              "      <th>language</th>\n",
              "      <th>country</th>\n",
              "      <th>budget</th>\n",
              "      <th>imdb_score</th>\n",
              "    </tr>\n",
              "    <tr>\n",
              "      <th>plot_keywords</th>\n",
              "      <th></th>\n",
              "      <th></th>\n",
              "      <th></th>\n",
              "      <th></th>\n",
              "      <th></th>\n",
              "      <th></th>\n",
              "      <th></th>\n",
              "      <th></th>\n",
              "      <th></th>\n",
              "      <th></th>\n",
              "      <th></th>\n",
              "      <th></th>\n",
              "      <th></th>\n",
              "      <th></th>\n",
              "      <th></th>\n",
              "      <th></th>\n",
              "      <th></th>\n",
              "      <th></th>\n",
              "      <th></th>\n",
              "      <th></th>\n",
              "      <th></th>\n",
              "    </tr>\n",
              "  </thead>\n",
              "  <tbody>\n",
              "    <tr>\n",
              "      <th>avatar|future|marine|native|paraplegic</th>\n",
              "      <td>Avatar</td>\n",
              "      <td>2009.0</td>\n",
              "      <td>Color</td>\n",
              "      <td>PG-13</td>\n",
              "      <td>178.0</td>\n",
              "      <td>James Cameron</td>\n",
              "      <td>0.0</td>\n",
              "      <td>CCH Pounder</td>\n",
              "      <td>1000.0</td>\n",
              "      <td>Joel David Moore</td>\n",
              "      <td>936.0</td>\n",
              "      <td>Wes Studi</td>\n",
              "      <td>855.0</td>\n",
              "      <td>760505847.0</td>\n",
              "      <td>Action|Adventure|Fantasy|Sci-Fi</td>\n",
              "      <td>723.0</td>\n",
              "      <td>886204</td>\n",
              "      <td>English</td>\n",
              "      <td>USA</td>\n",
              "      <td>237000000.0</td>\n",
              "      <td>7.9</td>\n",
              "    </tr>\n",
              "    <tr>\n",
              "      <th>goddess|marriage ceremony|marriage proposal|pirate|singapore</th>\n",
              "      <td>Pirates of the Caribbean: At World's End</td>\n",
              "      <td>2007.0</td>\n",
              "      <td>Color</td>\n",
              "      <td>PG-13</td>\n",
              "      <td>169.0</td>\n",
              "      <td>Gore Verbinski</td>\n",
              "      <td>563.0</td>\n",
              "      <td>Johnny Depp</td>\n",
              "      <td>40000.0</td>\n",
              "      <td>Orlando Bloom</td>\n",
              "      <td>5000.0</td>\n",
              "      <td>Jack Davenport</td>\n",
              "      <td>1000.0</td>\n",
              "      <td>309404152.0</td>\n",
              "      <td>Action|Adventure|Fantasy</td>\n",
              "      <td>302.0</td>\n",
              "      <td>471220</td>\n",
              "      <td>English</td>\n",
              "      <td>USA</td>\n",
              "      <td>300000000.0</td>\n",
              "      <td>7.1</td>\n",
              "    </tr>\n",
              "    <tr>\n",
              "      <th>bomb|espionage|sequel|spy|terrorist</th>\n",
              "      <td>Spectre</td>\n",
              "      <td>2015.0</td>\n",
              "      <td>Color</td>\n",
              "      <td>PG-13</td>\n",
              "      <td>148.0</td>\n",
              "      <td>Sam Mendes</td>\n",
              "      <td>0.0</td>\n",
              "      <td>Christoph Waltz</td>\n",
              "      <td>11000.0</td>\n",
              "      <td>Rory Kinnear</td>\n",
              "      <td>393.0</td>\n",
              "      <td>Stephanie Sigman</td>\n",
              "      <td>161.0</td>\n",
              "      <td>200074175.0</td>\n",
              "      <td>Action|Adventure|Thriller</td>\n",
              "      <td>602.0</td>\n",
              "      <td>275868</td>\n",
              "      <td>English</td>\n",
              "      <td>UK</td>\n",
              "      <td>245000000.0</td>\n",
              "      <td>6.8</td>\n",
              "    </tr>\n",
              "  </tbody>\n",
              "</table>\n",
              "</div>"
            ],
            "text/plain": [
              "                                                                                       title  ...  imdb_score\n",
              "plot_keywords                                                                                 ...            \n",
              "avatar|future|marine|native|paraplegic                                                Avatar  ...         7.9\n",
              "goddess|marriage ceremony|marriage proposal|pir...  Pirates of the Caribbean: At World's End  ...         7.1\n",
              "bomb|espionage|sequel|spy|terrorist                                                  Spectre  ...         6.8\n",
              "\n",
              "[3 rows x 21 columns]"
            ]
          },
          "metadata": {
            "tags": []
          },
          "execution_count": 73
        }
      ]
    },
    {
      "cell_type": "markdown",
      "metadata": {
        "id": "GOZaF4dvvt2X"
      },
      "source": [
        "It chooses the column name with that integer location."
      ]
    }
  ]
}