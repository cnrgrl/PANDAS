{
  "nbformat": 4,
  "nbformat_minor": 0,
  "metadata": {
    "kernelspec": {
      "display_name": "Python 3",
      "language": "python",
      "name": "python3"
    },
    "language_info": {
      "codemirror_mode": {
        "name": "ipython",
        "version": 3
      },
      "file_extension": ".py",
      "mimetype": "text/x-python",
      "name": "python",
      "nbconvert_exporter": "python",
      "pygments_lexer": "ipython3",
      "version": "3.7.3"
    },
    "varInspector": {
      "cols": {
        "lenName": 16,
        "lenType": 16,
        "lenVar": 40
      },
      "kernels_config": {
        "python": {
          "delete_cmd_postfix": "",
          "delete_cmd_prefix": "del ",
          "library": "var_list.py",
          "varRefreshCmd": "print(var_dic_list())"
        },
        "r": {
          "delete_cmd_postfix": ") ",
          "delete_cmd_prefix": "rm(",
          "library": "var_list.r",
          "varRefreshCmd": "cat(var_dic_list()) "
        }
      },
      "types_to_exclude": [
        "module",
        "function",
        "builtin_function_or_method",
        "instance",
        "_Feature"
      ],
      "window_display": false
    },
    "colab": {
      "name": "07. Boolean Selection More.ipynb",
      "provenance": [],
      "include_colab_link": true
    }
  },
  "cells": [
    {
      "cell_type": "markdown",
      "metadata": {
        "id": "view-in-github",
        "colab_type": "text"
      },
      "source": [
        "<a href=\"https://colab.research.google.com/github/cnrgrl/PANDAS/blob/main/07_Boolean_Selection_More.ipynb\" target=\"_parent\"><img src=\"https://colab.research.google.com/assets/colab-badge.svg\" alt=\"Open In Colab\"/></a>"
      ]
    },
    {
      "cell_type": "code",
      "metadata": {
        "id": "2RXOwaAX3Ynd",
        "colab": {
          "base_uri": "https://localhost:8080/",
          "height": 138
        },
        "outputId": "c68400a9-ef6e-4a56-ca46-3df1075b3ce0"
      },
      "source": [
        "# uncomment the following line, if you are using google collab\n",
        "!rm -r Pandas\n",
        "!git clone https://github.com/Wuebbelt/Pandas.git"
      ],
      "execution_count": null,
      "outputs": [
        {
          "output_type": "stream",
          "text": [
            "rm: cannot remove 'Pandas': No such file or directory\n",
            "Cloning into 'Pandas'...\n",
            "remote: Enumerating objects: 77, done.\u001b[K\n",
            "remote: Counting objects: 100% (77/77), done.\u001b[K\n",
            "remote: Compressing objects: 100% (66/66), done.\u001b[K\n",
            "remote: Total 77 (delta 12), reused 75 (delta 10), pack-reused 0\u001b[K\n",
            "Unpacking objects: 100% (77/77), done.\n"
          ],
          "name": "stdout"
        }
      ]
    },
    {
      "cell_type": "markdown",
      "metadata": {
        "id": "dmhsOrnB3Wn1"
      },
      "source": [
        "# Boolean Selection More\n",
        "\n",
        "In this chapter, we explore several more possible ways to use boolean selection to filter data.\n",
        "\n",
        "## Boolean selection on a Series\n",
        "\n",
        "All of the examples thus far have taken place on DataFrames. Boolean selection on a Series happens almost identically. Since there is only one dimension of data, the queries you ask are usually going to be simpler. First, let's select a single column of data as a Series such as the temperature column from the bikes dataset."
      ]
    },
    {
      "cell_type": "code",
      "metadata": {
        "id": "EchwAEOH3Wn7",
        "colab": {
          "base_uri": "https://localhost:8080/",
          "height": 86
        },
        "outputId": "faf8ba1c-f1be-43cd-8015-665770343528"
      },
      "source": [
        "import pandas as pd\n",
        "bikes = pd.read_csv('Pandas/bikes.csv', parse_dates=['starttime', 'stoptime'])\n",
        "temp = bikes['temperature']\n",
        "temp.head(3)"
      ],
      "execution_count": null,
      "outputs": [
        {
          "output_type": "execute_result",
          "data": {
            "text/plain": [
              "0    73.9\n",
              "1    69.1\n",
              "2    73.0\n",
              "Name: temperature, dtype: float64"
            ]
          },
          "metadata": {
            "tags": []
          },
          "execution_count": 2
        }
      ]
    },
    {
      "cell_type": "markdown",
      "metadata": {
        "id": "3T8RPJ773Wn_"
      },
      "source": [
        "Let's select temperatures greater than 90. The procedure is the same as with DataFrames. Create a boolean Series and pass that Series to *just the bracketes*."
      ]
    },
    {
      "cell_type": "code",
      "metadata": {
        "id": "CWCSCmPu3WoA",
        "colab": {
          "base_uri": "https://localhost:8080/",
          "height": 86
        },
        "outputId": "29b531ed-5c3a-4ead-8ca3-76a7cd5e03cb"
      },
      "source": [
        "filt = temp > 90\n",
        "temp[filt].head(3)"
      ],
      "execution_count": null,
      "outputs": [
        {
          "output_type": "execute_result",
          "data": {
            "text/plain": [
              "54    91.0\n",
              "55    91.0\n",
              "56    91.0\n",
              "Name: temperature, dtype: float64"
            ]
          },
          "metadata": {
            "tags": []
          },
          "execution_count": 3
        }
      ]
    },
    {
      "cell_type": "markdown",
      "metadata": {
        "id": "7WNpL2sE3WoD"
      },
      "source": [
        "Select temperatures less than 0 or greater than 95. Multiple condition boolean Series also work the same."
      ]
    },
    {
      "cell_type": "code",
      "metadata": {
        "id": "WKYerR8f3WoE",
        "colab": {
          "base_uri": "https://localhost:8080/",
          "height": 121
        },
        "outputId": "3db2bb42-68fb-49c7-dbba-5e8bef82f7c2"
      },
      "source": [
        "filt1 = temp < 0\n",
        "filt2 = temp > 95\n",
        "filt = filt1 | filt2\n",
        "temp[filt].head()"
      ],
      "execution_count": null,
      "outputs": [
        {
          "output_type": "execute_result",
          "data": {
            "text/plain": [
              "395     96.1\n",
              "396     96.1\n",
              "397     96.1\n",
              "1871    -2.0\n",
              "2049    -2.0\n",
              "Name: temperature, dtype: float64"
            ]
          },
          "metadata": {
            "tags": []
          },
          "execution_count": 4
        }
      ]
    },
    {
      "cell_type": "markdown",
      "metadata": {
        "id": "32MgaCPs3WoG"
      },
      "source": [
        "### Set the index as `starttime`\n",
        "\n",
        "The default index is not very helpful. Let's use the `set_index` method to make the `starttime` column the new index. While, this column may not be unique it does provide us with useful labels for each row."
      ]
    },
    {
      "cell_type": "code",
      "metadata": {
        "id": "gLY1fx8M3WoH",
        "colab": {
          "base_uri": "https://localhost:8080/",
          "height": 298
        },
        "outputId": "652fdf3c-2ffb-4748-cbe4-ee568b1e3201"
      },
      "source": [
        "bikes2 = bikes.set_index('starttime')\n",
        "bikes2.head(3)"
      ],
      "execution_count": null,
      "outputs": [
        {
          "output_type": "execute_result",
          "data": {
            "text/html": [
              "<div>\n",
              "<style scoped>\n",
              "    .dataframe tbody tr th:only-of-type {\n",
              "        vertical-align: middle;\n",
              "    }\n",
              "\n",
              "    .dataframe tbody tr th {\n",
              "        vertical-align: top;\n",
              "    }\n",
              "\n",
              "    .dataframe thead th {\n",
              "        text-align: right;\n",
              "    }\n",
              "</style>\n",
              "<table border=\"1\" class=\"dataframe\">\n",
              "  <thead>\n",
              "    <tr style=\"text-align: right;\">\n",
              "      <th></th>\n",
              "      <th>trip_id</th>\n",
              "      <th>usertype</th>\n",
              "      <th>gender</th>\n",
              "      <th>stoptime</th>\n",
              "      <th>tripduration</th>\n",
              "      <th>from_station_name</th>\n",
              "      <th>latitude_start</th>\n",
              "      <th>longitude_start</th>\n",
              "      <th>dpcapacity_start</th>\n",
              "      <th>to_station_name</th>\n",
              "      <th>latitude_end</th>\n",
              "      <th>longitude_end</th>\n",
              "      <th>dpcapacity_end</th>\n",
              "      <th>temperature</th>\n",
              "      <th>visibility</th>\n",
              "      <th>wind_speed</th>\n",
              "      <th>precipitation</th>\n",
              "      <th>events</th>\n",
              "    </tr>\n",
              "    <tr>\n",
              "      <th>starttime</th>\n",
              "      <th></th>\n",
              "      <th></th>\n",
              "      <th></th>\n",
              "      <th></th>\n",
              "      <th></th>\n",
              "      <th></th>\n",
              "      <th></th>\n",
              "      <th></th>\n",
              "      <th></th>\n",
              "      <th></th>\n",
              "      <th></th>\n",
              "      <th></th>\n",
              "      <th></th>\n",
              "      <th></th>\n",
              "      <th></th>\n",
              "      <th></th>\n",
              "      <th></th>\n",
              "      <th></th>\n",
              "    </tr>\n",
              "  </thead>\n",
              "  <tbody>\n",
              "    <tr>\n",
              "      <th>2013-06-28 19:01:00</th>\n",
              "      <td>7147</td>\n",
              "      <td>Subscriber</td>\n",
              "      <td>Male</td>\n",
              "      <td>2013-06-28 19:17:00</td>\n",
              "      <td>993</td>\n",
              "      <td>Lake Shore Dr &amp; Monroe St</td>\n",
              "      <td>41.881050</td>\n",
              "      <td>-87.616970</td>\n",
              "      <td>11.0</td>\n",
              "      <td>Michigan Ave &amp; Oak St</td>\n",
              "      <td>41.90096</td>\n",
              "      <td>-87.623777</td>\n",
              "      <td>15.0</td>\n",
              "      <td>73.9</td>\n",
              "      <td>10.0</td>\n",
              "      <td>12.7</td>\n",
              "      <td>-9999.0</td>\n",
              "      <td>mostlycloudy</td>\n",
              "    </tr>\n",
              "    <tr>\n",
              "      <th>2013-06-28 22:53:00</th>\n",
              "      <td>7524</td>\n",
              "      <td>Subscriber</td>\n",
              "      <td>Male</td>\n",
              "      <td>2013-06-28 23:03:00</td>\n",
              "      <td>623</td>\n",
              "      <td>Clinton St &amp; Washington Blvd</td>\n",
              "      <td>41.883380</td>\n",
              "      <td>-87.641170</td>\n",
              "      <td>31.0</td>\n",
              "      <td>Wells St &amp; Walton St</td>\n",
              "      <td>41.89993</td>\n",
              "      <td>-87.634430</td>\n",
              "      <td>19.0</td>\n",
              "      <td>69.1</td>\n",
              "      <td>10.0</td>\n",
              "      <td>6.9</td>\n",
              "      <td>-9999.0</td>\n",
              "      <td>partlycloudy</td>\n",
              "    </tr>\n",
              "    <tr>\n",
              "      <th>2013-06-30 14:43:00</th>\n",
              "      <td>10927</td>\n",
              "      <td>Subscriber</td>\n",
              "      <td>Male</td>\n",
              "      <td>2013-06-30 15:01:00</td>\n",
              "      <td>1040</td>\n",
              "      <td>Sheffield Ave &amp; Kingsbury St</td>\n",
              "      <td>41.909592</td>\n",
              "      <td>-87.653497</td>\n",
              "      <td>15.0</td>\n",
              "      <td>Dearborn St &amp; Monroe St</td>\n",
              "      <td>41.88132</td>\n",
              "      <td>-87.629521</td>\n",
              "      <td>23.0</td>\n",
              "      <td>73.0</td>\n",
              "      <td>10.0</td>\n",
              "      <td>16.1</td>\n",
              "      <td>-9999.0</td>\n",
              "      <td>mostlycloudy</td>\n",
              "    </tr>\n",
              "  </tbody>\n",
              "</table>\n",
              "</div>"
            ],
            "text/plain": [
              "                     trip_id    usertype  ... precipitation        events\n",
              "starttime                                 ...                            \n",
              "2013-06-28 19:01:00     7147  Subscriber  ...       -9999.0  mostlycloudy\n",
              "2013-06-28 22:53:00     7524  Subscriber  ...       -9999.0  partlycloudy\n",
              "2013-06-30 14:43:00    10927  Subscriber  ...       -9999.0  mostlycloudy\n",
              "\n",
              "[3 rows x 18 columns]"
            ]
          },
          "metadata": {
            "tags": []
          },
          "execution_count": 5
        }
      ]
    },
    {
      "cell_type": "markdown",
      "metadata": {
        "id": "w7Gjd6WW3WoK"
      },
      "source": [
        "Let's get back our temperature Series with its updated index."
      ]
    },
    {
      "cell_type": "code",
      "metadata": {
        "id": "VZQrLSkq3WoK",
        "colab": {
          "base_uri": "https://localhost:8080/",
          "height": 138
        },
        "outputId": "67fda417-f3e4-4289-8d5c-439d4bc33e9f"
      },
      "source": [
        "temp2 = bikes2['temperature']\n",
        "temp2.head()"
      ],
      "execution_count": null,
      "outputs": [
        {
          "output_type": "execute_result",
          "data": {
            "text/plain": [
              "starttime\n",
              "2013-06-28 19:01:00    73.9\n",
              "2013-06-28 22:53:00    69.1\n",
              "2013-06-30 14:43:00    73.0\n",
              "2013-07-01 10:05:00    72.0\n",
              "2013-07-01 11:16:00    73.0\n",
              "Name: temperature, dtype: float64"
            ]
          },
          "metadata": {
            "tags": []
          },
          "execution_count": 6
        }
      ]
    },
    {
      "cell_type": "markdown",
      "metadata": {
        "id": "uxjc4B8l3WoN"
      },
      "source": [
        "Let's select temperatures greater than 90. We expect to get a summer month and we do."
      ]
    },
    {
      "cell_type": "code",
      "metadata": {
        "id": "nKeBcA_X3WoO",
        "colab": {
          "base_uri": "https://localhost:8080/",
          "height": 138
        },
        "outputId": "d1b0f24d-dd8f-402e-a645-ab88123e7927"
      },
      "source": [
        "filt = temp2 > 90\n",
        "temp2[filt].head(5)"
      ],
      "execution_count": null,
      "outputs": [
        {
          "output_type": "execute_result",
          "data": {
            "text/plain": [
              "starttime\n",
              "2013-07-16 15:13:00    91.0\n",
              "2013-07-16 15:31:00    91.0\n",
              "2013-07-16 16:35:00    91.0\n",
              "2013-07-17 17:08:00    93.0\n",
              "2013-07-17 17:25:00    93.0\n",
              "Name: temperature, dtype: float64"
            ]
          },
          "metadata": {
            "tags": []
          },
          "execution_count": 7
        }
      ]
    },
    {
      "cell_type": "markdown",
      "metadata": {
        "id": "sRVbSATH3WoR"
      },
      "source": [
        "Select temperature less than 0 or greater than 95. We expect to get some winter months in the result and we do."
      ]
    },
    {
      "cell_type": "code",
      "metadata": {
        "id": "Ocr0yvc-3WoS",
        "colab": {
          "base_uri": "https://localhost:8080/",
          "height": 138
        },
        "outputId": "8ae7dbec-1042-4a85-d875-1476a2de2539"
      },
      "source": [
        "filt1 = temp2 < 0\n",
        "filt2 = temp2 > 95\n",
        "filt = filt1 | filt2\n",
        "temp2[filt].head()"
      ],
      "execution_count": null,
      "outputs": [
        {
          "output_type": "execute_result",
          "data": {
            "text/plain": [
              "starttime\n",
              "2013-08-30 15:33:00    96.1\n",
              "2013-08-30 15:37:00    96.1\n",
              "2013-08-30 15:49:00    96.1\n",
              "2013-12-12 05:13:00    -2.0\n",
              "2014-01-23 06:15:00    -2.0\n",
              "Name: temperature, dtype: float64"
            ]
          },
          "metadata": {
            "tags": []
          },
          "execution_count": 8
        }
      ]
    },
    {
      "cell_type": "markdown",
      "metadata": {
        "id": "81Qj46mg3WoU"
      },
      "source": [
        "## The `between` method\n",
        "\n",
        "The `between` method returns a boolean Series by testing whether the current value is between two given values. For instance, if want to select the temperatures between 50 and 60 degrees we do the following:"
      ]
    },
    {
      "cell_type": "code",
      "metadata": {
        "id": "amrryZVQ3WoV",
        "colab": {
          "base_uri": "https://localhost:8080/",
          "height": 103
        },
        "outputId": "b5031542-3647-4811-c7fa-5d3becfc4c3a"
      },
      "source": [
        "filt = temp2.between(50, 60)\n",
        "filt.head(3)"
      ],
      "execution_count": null,
      "outputs": [
        {
          "output_type": "execute_result",
          "data": {
            "text/plain": [
              "starttime\n",
              "2013-06-28 19:01:00    False\n",
              "2013-06-28 22:53:00    False\n",
              "2013-06-30 14:43:00    False\n",
              "Name: temperature, dtype: bool"
            ]
          },
          "metadata": {
            "tags": []
          },
          "execution_count": 9
        }
      ]
    },
    {
      "cell_type": "markdown",
      "metadata": {
        "id": "nzCn8ZO83WoX"
      },
      "source": [
        "By default, the `between` method is inclusive of the given values, so temperatures of exactly 50 or 60 would be found in the result. We pass this boolean Series to *just the brackets* to complete the selection."
      ]
    },
    {
      "cell_type": "code",
      "metadata": {
        "id": "o-aZG2YL3WoY",
        "colab": {
          "base_uri": "https://localhost:8080/",
          "height": 103
        },
        "outputId": "6508820b-3d76-4fa8-8eac-d9bede9baa9c"
      },
      "source": [
        "temp2[filt].head(3)"
      ],
      "execution_count": null,
      "outputs": [
        {
          "output_type": "execute_result",
          "data": {
            "text/plain": [
              "starttime\n",
              "2013-09-13 07:55:00    54.0\n",
              "2013-09-13 08:04:00    57.9\n",
              "2013-09-13 08:04:00    57.9\n",
              "Name: temperature, dtype: float64"
            ]
          },
          "metadata": {
            "tags": []
          },
          "execution_count": 10
        }
      ]
    },
    {
      "cell_type": "markdown",
      "metadata": {
        "id": "S2uGK26E3Woa"
      },
      "source": [
        "## Simultaneous boolean selection of rows and column labels with `loc`\n",
        "The `loc` indexer was thoroughly covered in an earlier chapter and will now be brought up again to show how it can simultaneously selects rows with boolean selection and columns by labels.\n",
        "\n",
        "Remember that `loc` takes both a row selection and a column selection separated by a comma. Since the row selection comes first, you can pass it the same exact inputs that you do for *just the brackets* and get the same results. Let's run some of the previous examples of boolean selection with `loc`. Here, we select all rides with trip duration greater than 1,000."
      ]
    },
    {
      "cell_type": "code",
      "metadata": {
        "id": "QBe83uKN3Woa",
        "colab": {
          "base_uri": "https://localhost:8080/",
          "height": 267
        },
        "outputId": "db9ee5bc-6060-4ca4-e281-46dd12a368da"
      },
      "source": [
        "filt = bikes['tripduration'] > 1000\n",
        "bikes.loc[filt].head(3)"
      ],
      "execution_count": null,
      "outputs": [
        {
          "output_type": "execute_result",
          "data": {
            "text/html": [
              "<div>\n",
              "<style scoped>\n",
              "    .dataframe tbody tr th:only-of-type {\n",
              "        vertical-align: middle;\n",
              "    }\n",
              "\n",
              "    .dataframe tbody tr th {\n",
              "        vertical-align: top;\n",
              "    }\n",
              "\n",
              "    .dataframe thead th {\n",
              "        text-align: right;\n",
              "    }\n",
              "</style>\n",
              "<table border=\"1\" class=\"dataframe\">\n",
              "  <thead>\n",
              "    <tr style=\"text-align: right;\">\n",
              "      <th></th>\n",
              "      <th>trip_id</th>\n",
              "      <th>usertype</th>\n",
              "      <th>gender</th>\n",
              "      <th>starttime</th>\n",
              "      <th>stoptime</th>\n",
              "      <th>tripduration</th>\n",
              "      <th>from_station_name</th>\n",
              "      <th>latitude_start</th>\n",
              "      <th>longitude_start</th>\n",
              "      <th>dpcapacity_start</th>\n",
              "      <th>to_station_name</th>\n",
              "      <th>latitude_end</th>\n",
              "      <th>longitude_end</th>\n",
              "      <th>dpcapacity_end</th>\n",
              "      <th>temperature</th>\n",
              "      <th>visibility</th>\n",
              "      <th>wind_speed</th>\n",
              "      <th>precipitation</th>\n",
              "      <th>events</th>\n",
              "    </tr>\n",
              "  </thead>\n",
              "  <tbody>\n",
              "    <tr>\n",
              "      <th>2</th>\n",
              "      <td>10927</td>\n",
              "      <td>Subscriber</td>\n",
              "      <td>Male</td>\n",
              "      <td>2013-06-30 14:43:00</td>\n",
              "      <td>2013-06-30 15:01:00</td>\n",
              "      <td>1040</td>\n",
              "      <td>Sheffield Ave &amp; Kingsbury St</td>\n",
              "      <td>41.909592</td>\n",
              "      <td>-87.653497</td>\n",
              "      <td>15.0</td>\n",
              "      <td>Dearborn St &amp; Monroe St</td>\n",
              "      <td>41.881320</td>\n",
              "      <td>-87.629521</td>\n",
              "      <td>23.0</td>\n",
              "      <td>73.0</td>\n",
              "      <td>10.0</td>\n",
              "      <td>16.1</td>\n",
              "      <td>-9999.0</td>\n",
              "      <td>mostlycloudy</td>\n",
              "    </tr>\n",
              "    <tr>\n",
              "      <th>8</th>\n",
              "      <td>21028</td>\n",
              "      <td>Subscriber</td>\n",
              "      <td>Male</td>\n",
              "      <td>2013-07-03 15:21:00</td>\n",
              "      <td>2013-07-03 15:42:00</td>\n",
              "      <td>1300</td>\n",
              "      <td>Clinton St &amp; Washington Blvd</td>\n",
              "      <td>41.883380</td>\n",
              "      <td>-87.641170</td>\n",
              "      <td>31.0</td>\n",
              "      <td>Wood St &amp; Division St</td>\n",
              "      <td>41.903320</td>\n",
              "      <td>-87.672730</td>\n",
              "      <td>15.0</td>\n",
              "      <td>71.1</td>\n",
              "      <td>8.0</td>\n",
              "      <td>0.0</td>\n",
              "      <td>-9999.0</td>\n",
              "      <td>cloudy</td>\n",
              "    </tr>\n",
              "    <tr>\n",
              "      <th>10</th>\n",
              "      <td>24383</td>\n",
              "      <td>Subscriber</td>\n",
              "      <td>Male</td>\n",
              "      <td>2013-07-04 17:17:00</td>\n",
              "      <td>2013-07-04 17:42:00</td>\n",
              "      <td>1523</td>\n",
              "      <td>Morgan St &amp; 18th St</td>\n",
              "      <td>41.858086</td>\n",
              "      <td>-87.651073</td>\n",
              "      <td>15.0</td>\n",
              "      <td>Damen Ave &amp; Pierce Ave</td>\n",
              "      <td>41.909396</td>\n",
              "      <td>-87.677692</td>\n",
              "      <td>19.0</td>\n",
              "      <td>79.0</td>\n",
              "      <td>10.0</td>\n",
              "      <td>9.2</td>\n",
              "      <td>-9999.0</td>\n",
              "      <td>mostlycloudy</td>\n",
              "    </tr>\n",
              "  </tbody>\n",
              "</table>\n",
              "</div>"
            ],
            "text/plain": [
              "    trip_id    usertype gender  ... wind_speed precipitation        events\n",
              "2     10927  Subscriber   Male  ...       16.1       -9999.0  mostlycloudy\n",
              "8     21028  Subscriber   Male  ...        0.0       -9999.0        cloudy\n",
              "10    24383  Subscriber   Male  ...        9.2       -9999.0  mostlycloudy\n",
              "\n",
              "[3 rows x 19 columns]"
            ]
          },
          "metadata": {
            "tags": []
          },
          "execution_count": 11
        }
      ]
    },
    {
      "cell_type": "markdown",
      "metadata": {
        "id": "rlHNReMU3Woc"
      },
      "source": [
        "Here, we select all weather events that are either rain, snow, tstorms, or sleet."
      ]
    },
    {
      "cell_type": "code",
      "metadata": {
        "id": "jYUPeo_b3Wod",
        "colab": {
          "base_uri": "https://localhost:8080/",
          "height": 267
        },
        "outputId": "4d1b4119-6798-4a5f-94bc-1ec42c630dbd"
      },
      "source": [
        "filt = bikes['events'].isin(['rain', 'snow', 'tstorms', 'sleet'])\n",
        "bikes.loc[filt].head(3)"
      ],
      "execution_count": null,
      "outputs": [
        {
          "output_type": "execute_result",
          "data": {
            "text/html": [
              "<div>\n",
              "<style scoped>\n",
              "    .dataframe tbody tr th:only-of-type {\n",
              "        vertical-align: middle;\n",
              "    }\n",
              "\n",
              "    .dataframe tbody tr th {\n",
              "        vertical-align: top;\n",
              "    }\n",
              "\n",
              "    .dataframe thead th {\n",
              "        text-align: right;\n",
              "    }\n",
              "</style>\n",
              "<table border=\"1\" class=\"dataframe\">\n",
              "  <thead>\n",
              "    <tr style=\"text-align: right;\">\n",
              "      <th></th>\n",
              "      <th>trip_id</th>\n",
              "      <th>usertype</th>\n",
              "      <th>gender</th>\n",
              "      <th>starttime</th>\n",
              "      <th>stoptime</th>\n",
              "      <th>tripduration</th>\n",
              "      <th>from_station_name</th>\n",
              "      <th>latitude_start</th>\n",
              "      <th>longitude_start</th>\n",
              "      <th>dpcapacity_start</th>\n",
              "      <th>to_station_name</th>\n",
              "      <th>latitude_end</th>\n",
              "      <th>longitude_end</th>\n",
              "      <th>dpcapacity_end</th>\n",
              "      <th>temperature</th>\n",
              "      <th>visibility</th>\n",
              "      <th>wind_speed</th>\n",
              "      <th>precipitation</th>\n",
              "      <th>events</th>\n",
              "    </tr>\n",
              "  </thead>\n",
              "  <tbody>\n",
              "    <tr>\n",
              "      <th>45</th>\n",
              "      <td>66336</td>\n",
              "      <td>Subscriber</td>\n",
              "      <td>Male</td>\n",
              "      <td>2013-07-15 16:43:00</td>\n",
              "      <td>2013-07-15 16:55:00</td>\n",
              "      <td>727</td>\n",
              "      <td>Greenwood Ave &amp; 47th St</td>\n",
              "      <td>41.809835</td>\n",
              "      <td>-87.599383</td>\n",
              "      <td>15.0</td>\n",
              "      <td>State St &amp; Harrison St</td>\n",
              "      <td>41.873958</td>\n",
              "      <td>-87.627739</td>\n",
              "      <td>19.0</td>\n",
              "      <td>82.9</td>\n",
              "      <td>10.0</td>\n",
              "      <td>5.8</td>\n",
              "      <td>0.0</td>\n",
              "      <td>rain</td>\n",
              "    </tr>\n",
              "    <tr>\n",
              "      <th>78</th>\n",
              "      <td>89180</td>\n",
              "      <td>Subscriber</td>\n",
              "      <td>Male</td>\n",
              "      <td>2013-07-21 16:35:00</td>\n",
              "      <td>2013-07-21 17:06:00</td>\n",
              "      <td>1809</td>\n",
              "      <td>Michigan Ave &amp; Pearson St</td>\n",
              "      <td>41.897660</td>\n",
              "      <td>-87.623510</td>\n",
              "      <td>23.0</td>\n",
              "      <td>Millennium Park</td>\n",
              "      <td>41.881032</td>\n",
              "      <td>-87.624084</td>\n",
              "      <td>35.0</td>\n",
              "      <td>82.4</td>\n",
              "      <td>10.0</td>\n",
              "      <td>11.5</td>\n",
              "      <td>0.0</td>\n",
              "      <td>tstorms</td>\n",
              "    </tr>\n",
              "    <tr>\n",
              "      <th>79</th>\n",
              "      <td>89228</td>\n",
              "      <td>Subscriber</td>\n",
              "      <td>Male</td>\n",
              "      <td>2013-07-21 16:47:00</td>\n",
              "      <td>2013-07-21 17:03:00</td>\n",
              "      <td>999</td>\n",
              "      <td>Carpenter St &amp; Huron St</td>\n",
              "      <td>41.894556</td>\n",
              "      <td>-87.653449</td>\n",
              "      <td>19.0</td>\n",
              "      <td>Carpenter St &amp; Huron St</td>\n",
              "      <td>41.894556</td>\n",
              "      <td>-87.653449</td>\n",
              "      <td>19.0</td>\n",
              "      <td>82.4</td>\n",
              "      <td>10.0</td>\n",
              "      <td>11.5</td>\n",
              "      <td>0.0</td>\n",
              "      <td>tstorms</td>\n",
              "    </tr>\n",
              "  </tbody>\n",
              "</table>\n",
              "</div>"
            ],
            "text/plain": [
              "    trip_id    usertype gender  ... wind_speed precipitation   events\n",
              "45    66336  Subscriber   Male  ...        5.8           0.0     rain\n",
              "78    89180  Subscriber   Male  ...       11.5           0.0  tstorms\n",
              "79    89228  Subscriber   Male  ...       11.5           0.0  tstorms\n",
              "\n",
              "[3 rows x 19 columns]"
            ]
          },
          "metadata": {
            "tags": []
          },
          "execution_count": 12
        }
      ]
    },
    {
      "cell_type": "markdown",
      "metadata": {
        "id": "Pyg_eFFp3Wof"
      },
      "source": [
        "### Separate row and column selection with a comma for `loc`\n",
        "The nice benefit of `loc` is that it allows us to simultaneously select rows with boolean selection and select columns by label. Let's select rides during rain or snow and the columns `events` and `tripduration`."
      ]
    },
    {
      "cell_type": "code",
      "metadata": {
        "id": "0J-5_O6c3Wof",
        "colab": {
          "base_uri": "https://localhost:8080/",
          "height": 206
        },
        "outputId": "e69532a3-3a6f-4f3b-f28f-acbb5326e0a2"
      },
      "source": [
        "filt = bikes['events'].isin(['rain', 'snow'])\n",
        "cols = ['events', 'tripduration']\n",
        "bikes.loc[filt, cols].head()"
      ],
      "execution_count": null,
      "outputs": [
        {
          "output_type": "execute_result",
          "data": {
            "text/html": [
              "<div>\n",
              "<style scoped>\n",
              "    .dataframe tbody tr th:only-of-type {\n",
              "        vertical-align: middle;\n",
              "    }\n",
              "\n",
              "    .dataframe tbody tr th {\n",
              "        vertical-align: top;\n",
              "    }\n",
              "\n",
              "    .dataframe thead th {\n",
              "        text-align: right;\n",
              "    }\n",
              "</style>\n",
              "<table border=\"1\" class=\"dataframe\">\n",
              "  <thead>\n",
              "    <tr style=\"text-align: right;\">\n",
              "      <th></th>\n",
              "      <th>events</th>\n",
              "      <th>tripduration</th>\n",
              "    </tr>\n",
              "  </thead>\n",
              "  <tbody>\n",
              "    <tr>\n",
              "      <th>45</th>\n",
              "      <td>rain</td>\n",
              "      <td>727</td>\n",
              "    </tr>\n",
              "    <tr>\n",
              "      <th>112</th>\n",
              "      <td>rain</td>\n",
              "      <td>1395</td>\n",
              "    </tr>\n",
              "    <tr>\n",
              "      <th>124</th>\n",
              "      <td>rain</td>\n",
              "      <td>442</td>\n",
              "    </tr>\n",
              "    <tr>\n",
              "      <th>161</th>\n",
              "      <td>rain</td>\n",
              "      <td>890</td>\n",
              "    </tr>\n",
              "    <tr>\n",
              "      <th>498</th>\n",
              "      <td>rain</td>\n",
              "      <td>978</td>\n",
              "    </tr>\n",
              "  </tbody>\n",
              "</table>\n",
              "</div>"
            ],
            "text/plain": [
              "    events  tripduration\n",
              "45    rain           727\n",
              "112   rain          1395\n",
              "124   rain           442\n",
              "161   rain           890\n",
              "498   rain           978"
            ]
          },
          "metadata": {
            "tags": []
          },
          "execution_count": 13
        }
      ]
    },
    {
      "cell_type": "markdown",
      "metadata": {
        "id": "rQ88lBSF3Woh"
      },
      "source": [
        "Now let's find all female riders with trip duration greater than 5000 when it was cloudy. We'll only return the columns used during the boolean selection."
      ]
    },
    {
      "cell_type": "code",
      "metadata": {
        "id": "JKdf4lms3Woi",
        "colab": {
          "base_uri": "https://localhost:8080/",
          "height": 174
        },
        "outputId": "8661b59f-2fe2-4181-a7b6-6872bfdcf8c2"
      },
      "source": [
        "filt1 = bikes['gender'] == 'Female'\n",
        "filt2 = bikes['tripduration'] > 5000\n",
        "filt3 = bikes['events'] == 'cloudy'\n",
        "filt = filt1 & filt2 & filt3\n",
        "cols = ['gender', 'tripduration', 'events']\n",
        "bikes.loc[filt, cols]"
      ],
      "execution_count": null,
      "outputs": [
        {
          "output_type": "execute_result",
          "data": {
            "text/html": [
              "<div>\n",
              "<style scoped>\n",
              "    .dataframe tbody tr th:only-of-type {\n",
              "        vertical-align: middle;\n",
              "    }\n",
              "\n",
              "    .dataframe tbody tr th {\n",
              "        vertical-align: top;\n",
              "    }\n",
              "\n",
              "    .dataframe thead th {\n",
              "        text-align: right;\n",
              "    }\n",
              "</style>\n",
              "<table border=\"1\" class=\"dataframe\">\n",
              "  <thead>\n",
              "    <tr style=\"text-align: right;\">\n",
              "      <th></th>\n",
              "      <th>gender</th>\n",
              "      <th>tripduration</th>\n",
              "      <th>events</th>\n",
              "    </tr>\n",
              "  </thead>\n",
              "  <tbody>\n",
              "    <tr>\n",
              "      <th>2712</th>\n",
              "      <td>Female</td>\n",
              "      <td>79988</td>\n",
              "      <td>cloudy</td>\n",
              "    </tr>\n",
              "    <tr>\n",
              "      <th>14455</th>\n",
              "      <td>Female</td>\n",
              "      <td>7197</td>\n",
              "      <td>cloudy</td>\n",
              "    </tr>\n",
              "    <tr>\n",
              "      <th>22868</th>\n",
              "      <td>Female</td>\n",
              "      <td>13205</td>\n",
              "      <td>cloudy</td>\n",
              "    </tr>\n",
              "    <tr>\n",
              "      <th>36441</th>\n",
              "      <td>Female</td>\n",
              "      <td>19922</td>\n",
              "      <td>cloudy</td>\n",
              "    </tr>\n",
              "  </tbody>\n",
              "</table>\n",
              "</div>"
            ],
            "text/plain": [
              "       gender  tripduration  events\n",
              "2712   Female         79988  cloudy\n",
              "14455  Female          7197  cloudy\n",
              "22868  Female         13205  cloudy\n",
              "36441  Female         19922  cloudy"
            ]
          },
          "metadata": {
            "tags": []
          },
          "execution_count": 14
        }
      ]
    },
    {
      "cell_type": "markdown",
      "metadata": {
        "id": "Y0bB6Wfa3Woj"
      },
      "source": [
        "## Column to column comparisons\n",
        "\n",
        "So far, we created filters by comparing each of our column values to a single scalar value. It is possible to do element-by-element comparisons by comparing two columns to one another. For instance, the total bike capacity at each station at the start and end of the ride is stored in the `dpcapacity_start` and `dpcapacity_end` columns. If we wanted to test whether there were more capacity at the start of the ride vs the end, we would do the following:"
      ]
    },
    {
      "cell_type": "code",
      "metadata": {
        "id": "MUAsXdGA3Wok"
      },
      "source": [
        "filt = bikes['dpcapacity_start'] > bikes['dpcapacity_end']"
      ],
      "execution_count": null,
      "outputs": []
    },
    {
      "cell_type": "markdown",
      "metadata": {
        "id": "d-nNc7FW3Wom"
      },
      "source": [
        "Let's use this filter with `loc` to return all the rows where the start capacity is greater than the end."
      ]
    },
    {
      "cell_type": "code",
      "metadata": {
        "id": "XNP_DJ4I3Won",
        "colab": {
          "base_uri": "https://localhost:8080/",
          "height": 143
        },
        "outputId": "768741c5-e3f5-41ee-8b2b-0511d1851d9f"
      },
      "source": [
        "cols = ['dpcapacity_start', 'dpcapacity_end']\n",
        "bikes.loc[filt, cols].head(3)"
      ],
      "execution_count": null,
      "outputs": [
        {
          "output_type": "execute_result",
          "data": {
            "text/html": [
              "<div>\n",
              "<style scoped>\n",
              "    .dataframe tbody tr th:only-of-type {\n",
              "        vertical-align: middle;\n",
              "    }\n",
              "\n",
              "    .dataframe tbody tr th {\n",
              "        vertical-align: top;\n",
              "    }\n",
              "\n",
              "    .dataframe thead th {\n",
              "        text-align: right;\n",
              "    }\n",
              "</style>\n",
              "<table border=\"1\" class=\"dataframe\">\n",
              "  <thead>\n",
              "    <tr style=\"text-align: right;\">\n",
              "      <th></th>\n",
              "      <th>dpcapacity_start</th>\n",
              "      <th>dpcapacity_end</th>\n",
              "    </tr>\n",
              "  </thead>\n",
              "  <tbody>\n",
              "    <tr>\n",
              "      <th>1</th>\n",
              "      <td>31.0</td>\n",
              "      <td>19.0</td>\n",
              "    </tr>\n",
              "    <tr>\n",
              "      <th>6</th>\n",
              "      <td>31.0</td>\n",
              "      <td>19.0</td>\n",
              "    </tr>\n",
              "    <tr>\n",
              "      <th>8</th>\n",
              "      <td>31.0</td>\n",
              "      <td>15.0</td>\n",
              "    </tr>\n",
              "  </tbody>\n",
              "</table>\n",
              "</div>"
            ],
            "text/plain": [
              "   dpcapacity_start  dpcapacity_end\n",
              "1              31.0            19.0\n",
              "6              31.0            19.0\n",
              "8              31.0            15.0"
            ]
          },
          "metadata": {
            "tags": []
          },
          "execution_count": 16
        }
      ]
    },
    {
      "cell_type": "markdown",
      "metadata": {
        "id": "j7xDsVC63Woo"
      },
      "source": [
        "### Boolean selection with `iloc` does not work\n",
        "\n",
        "The pandas developers decided not to allow boolean selection with `iloc`. The following raises an error."
      ]
    },
    {
      "cell_type": "code",
      "metadata": {
        "id": "oq2f7d9N3Wop",
        "colab": {
          "base_uri": "https://localhost:8080/",
          "height": 311
        },
        "outputId": "45e0c54d-01ec-4bf0-94f7-8eccb723a61b"
      },
      "source": [
        "bikes.iloc[filt]"
      ],
      "execution_count": null,
      "outputs": [
        {
          "output_type": "error",
          "ename": "NotImplementedError",
          "evalue": "ignored",
          "traceback": [
            "\u001b[0;31m---------------------------------------------------------------------------\u001b[0m",
            "\u001b[0;31mNotImplementedError\u001b[0m                       Traceback (most recent call last)",
            "\u001b[0;32m<ipython-input-17-ab57beff3770>\u001b[0m in \u001b[0;36m<module>\u001b[0;34m()\u001b[0m\n\u001b[0;32m----> 1\u001b[0;31m \u001b[0mbikes\u001b[0m\u001b[0;34m.\u001b[0m\u001b[0miloc\u001b[0m\u001b[0;34m[\u001b[0m\u001b[0mfilt\u001b[0m\u001b[0;34m]\u001b[0m\u001b[0;34m\u001b[0m\u001b[0;34m\u001b[0m\u001b[0m\n\u001b[0m",
            "\u001b[0;32m/usr/local/lib/python3.6/dist-packages/pandas/core/indexing.py\u001b[0m in \u001b[0;36m__getitem__\u001b[0;34m(self, key)\u001b[0m\n\u001b[1;32m   1422\u001b[0m \u001b[0;34m\u001b[0m\u001b[0m\n\u001b[1;32m   1423\u001b[0m             \u001b[0mmaybe_callable\u001b[0m \u001b[0;34m=\u001b[0m \u001b[0mcom\u001b[0m\u001b[0;34m.\u001b[0m\u001b[0mapply_if_callable\u001b[0m\u001b[0;34m(\u001b[0m\u001b[0mkey\u001b[0m\u001b[0;34m,\u001b[0m \u001b[0mself\u001b[0m\u001b[0;34m.\u001b[0m\u001b[0mobj\u001b[0m\u001b[0;34m)\u001b[0m\u001b[0;34m\u001b[0m\u001b[0;34m\u001b[0m\u001b[0m\n\u001b[0;32m-> 1424\u001b[0;31m             \u001b[0;32mreturn\u001b[0m \u001b[0mself\u001b[0m\u001b[0;34m.\u001b[0m\u001b[0m_getitem_axis\u001b[0m\u001b[0;34m(\u001b[0m\u001b[0mmaybe_callable\u001b[0m\u001b[0;34m,\u001b[0m \u001b[0maxis\u001b[0m\u001b[0;34m=\u001b[0m\u001b[0maxis\u001b[0m\u001b[0;34m)\u001b[0m\u001b[0;34m\u001b[0m\u001b[0;34m\u001b[0m\u001b[0m\n\u001b[0m\u001b[1;32m   1425\u001b[0m \u001b[0;34m\u001b[0m\u001b[0m\n\u001b[1;32m   1426\u001b[0m     \u001b[0;32mdef\u001b[0m \u001b[0m_is_scalar_access\u001b[0m\u001b[0;34m(\u001b[0m\u001b[0mself\u001b[0m\u001b[0;34m,\u001b[0m \u001b[0mkey\u001b[0m\u001b[0;34m:\u001b[0m \u001b[0mTuple\u001b[0m\u001b[0;34m)\u001b[0m\u001b[0;34m:\u001b[0m\u001b[0;34m\u001b[0m\u001b[0;34m\u001b[0m\u001b[0m\n",
            "\u001b[0;32m/usr/local/lib/python3.6/dist-packages/pandas/core/indexing.py\u001b[0m in \u001b[0;36m_getitem_axis\u001b[0;34m(self, key, axis)\u001b[0m\n\u001b[1;32m   2141\u001b[0m \u001b[0;34m\u001b[0m\u001b[0m\n\u001b[1;32m   2142\u001b[0m         \u001b[0;32mif\u001b[0m \u001b[0mcom\u001b[0m\u001b[0;34m.\u001b[0m\u001b[0mis_bool_indexer\u001b[0m\u001b[0;34m(\u001b[0m\u001b[0mkey\u001b[0m\u001b[0;34m)\u001b[0m\u001b[0;34m:\u001b[0m\u001b[0;34m\u001b[0m\u001b[0;34m\u001b[0m\u001b[0m\n\u001b[0;32m-> 2143\u001b[0;31m             \u001b[0mself\u001b[0m\u001b[0;34m.\u001b[0m\u001b[0m_validate_key\u001b[0m\u001b[0;34m(\u001b[0m\u001b[0mkey\u001b[0m\u001b[0;34m,\u001b[0m \u001b[0maxis\u001b[0m\u001b[0;34m)\u001b[0m\u001b[0;34m\u001b[0m\u001b[0;34m\u001b[0m\u001b[0m\n\u001b[0m\u001b[1;32m   2144\u001b[0m             \u001b[0;32mreturn\u001b[0m \u001b[0mself\u001b[0m\u001b[0;34m.\u001b[0m\u001b[0m_getbool_axis\u001b[0m\u001b[0;34m(\u001b[0m\u001b[0mkey\u001b[0m\u001b[0;34m,\u001b[0m \u001b[0maxis\u001b[0m\u001b[0;34m=\u001b[0m\u001b[0maxis\u001b[0m\u001b[0;34m)\u001b[0m\u001b[0;34m\u001b[0m\u001b[0;34m\u001b[0m\u001b[0m\n\u001b[1;32m   2145\u001b[0m \u001b[0;34m\u001b[0m\u001b[0m\n",
            "\u001b[0;32m/usr/local/lib/python3.6/dist-packages/pandas/core/indexing.py\u001b[0m in \u001b[0;36m_validate_key\u001b[0;34m(self, key, axis)\u001b[0m\n\u001b[1;32m   1999\u001b[0m                 \u001b[0;32mif\u001b[0m \u001b[0mkey\u001b[0m\u001b[0;34m.\u001b[0m\u001b[0mindex\u001b[0m\u001b[0;34m.\u001b[0m\u001b[0minferred_type\u001b[0m \u001b[0;34m==\u001b[0m \u001b[0;34m\"integer\"\u001b[0m\u001b[0;34m:\u001b[0m\u001b[0;34m\u001b[0m\u001b[0;34m\u001b[0m\u001b[0m\n\u001b[1;32m   2000\u001b[0m                     raise NotImplementedError(\n\u001b[0;32m-> 2001\u001b[0;31m                         \u001b[0;34m\"iLocation based boolean \"\u001b[0m\u001b[0;34m\u001b[0m\u001b[0;34m\u001b[0m\u001b[0m\n\u001b[0m\u001b[1;32m   2002\u001b[0m                         \u001b[0;34m\"indexing on an integer type \"\u001b[0m\u001b[0;34m\u001b[0m\u001b[0;34m\u001b[0m\u001b[0m\n\u001b[1;32m   2003\u001b[0m                         \u001b[0;34m\"is not available\"\u001b[0m\u001b[0;34m\u001b[0m\u001b[0;34m\u001b[0m\u001b[0m\n",
            "\u001b[0;31mNotImplementedError\u001b[0m: iLocation based boolean indexing on an integer type is not available"
          ]
        }
      ]
    },
    {
      "cell_type": "markdown",
      "metadata": {
        "id": "C7hK3hP23Wou"
      },
      "source": [
        "## Finding Missing Values with `isna`\n",
        "The `isna` method called from either a DataFrame or a Series returns `True` for every value that is missing and `False` for any other value. Let's see this in action by calling `isna` on the start capacity column."
      ]
    },
    {
      "cell_type": "code",
      "metadata": {
        "id": "l8g2DSHi3Wov",
        "colab": {
          "base_uri": "https://localhost:8080/",
          "height": 86
        },
        "outputId": "e8a38d0a-c4ab-4d32-96a8-d67e83fc84c0"
      },
      "source": [
        "bikes['dpcapacity_start'].isna().head(3)"
      ],
      "execution_count": null,
      "outputs": [
        {
          "output_type": "execute_result",
          "data": {
            "text/plain": [
              "0    False\n",
              "1    False\n",
              "2    False\n",
              "Name: dpcapacity_start, dtype: bool"
            ]
          },
          "metadata": {
            "tags": []
          },
          "execution_count": 18
        }
      ]
    },
    {
      "cell_type": "markdown",
      "metadata": {
        "id": "V5J8UYjP3Woy"
      },
      "source": [
        "### Filtering for missing values\n",
        "\n",
        "We can now use this boolean Series to select all the rows where the capacity start column is missing. Verify that those values are indeed missing. "
      ]
    },
    {
      "cell_type": "code",
      "metadata": {
        "id": "eFuI17_j3Woy",
        "colab": {
          "base_uri": "https://localhost:8080/",
          "height": 267
        },
        "outputId": "0230b50d-a13d-4cdb-ffa9-ed80e8cfda3f"
      },
      "source": [
        "filt = bikes['dpcapacity_start'].isna()\n",
        "bikes[filt].head(3)"
      ],
      "execution_count": null,
      "outputs": [
        {
          "output_type": "execute_result",
          "data": {
            "text/html": [
              "<div>\n",
              "<style scoped>\n",
              "    .dataframe tbody tr th:only-of-type {\n",
              "        vertical-align: middle;\n",
              "    }\n",
              "\n",
              "    .dataframe tbody tr th {\n",
              "        vertical-align: top;\n",
              "    }\n",
              "\n",
              "    .dataframe thead th {\n",
              "        text-align: right;\n",
              "    }\n",
              "</style>\n",
              "<table border=\"1\" class=\"dataframe\">\n",
              "  <thead>\n",
              "    <tr style=\"text-align: right;\">\n",
              "      <th></th>\n",
              "      <th>trip_id</th>\n",
              "      <th>usertype</th>\n",
              "      <th>gender</th>\n",
              "      <th>starttime</th>\n",
              "      <th>stoptime</th>\n",
              "      <th>tripduration</th>\n",
              "      <th>from_station_name</th>\n",
              "      <th>latitude_start</th>\n",
              "      <th>longitude_start</th>\n",
              "      <th>dpcapacity_start</th>\n",
              "      <th>to_station_name</th>\n",
              "      <th>latitude_end</th>\n",
              "      <th>longitude_end</th>\n",
              "      <th>dpcapacity_end</th>\n",
              "      <th>temperature</th>\n",
              "      <th>visibility</th>\n",
              "      <th>wind_speed</th>\n",
              "      <th>precipitation</th>\n",
              "      <th>events</th>\n",
              "    </tr>\n",
              "  </thead>\n",
              "  <tbody>\n",
              "    <tr>\n",
              "      <th>17566</th>\n",
              "      <td>7319012</td>\n",
              "      <td>Subscriber</td>\n",
              "      <td>Male</td>\n",
              "      <td>2015-09-06 07:52:00</td>\n",
              "      <td>2015-09-06 07:55:00</td>\n",
              "      <td>207</td>\n",
              "      <td>Clark St &amp; 9th St (AMLI)</td>\n",
              "      <td>NaN</td>\n",
              "      <td>NaN</td>\n",
              "      <td>NaN</td>\n",
              "      <td>Federal St &amp; Polk St</td>\n",
              "      <td>41.872078</td>\n",
              "      <td>-87.629544</td>\n",
              "      <td>19.0</td>\n",
              "      <td>75.0</td>\n",
              "      <td>10.0</td>\n",
              "      <td>4.6</td>\n",
              "      <td>-9999.0</td>\n",
              "      <td>mostlycloudy</td>\n",
              "    </tr>\n",
              "    <tr>\n",
              "      <th>17605</th>\n",
              "      <td>7341764</td>\n",
              "      <td>Subscriber</td>\n",
              "      <td>Female</td>\n",
              "      <td>2015-09-07 09:52:00</td>\n",
              "      <td>2015-09-07 09:57:00</td>\n",
              "      <td>293</td>\n",
              "      <td>Clark St &amp; 9th St (AMLI)</td>\n",
              "      <td>NaN</td>\n",
              "      <td>NaN</td>\n",
              "      <td>NaN</td>\n",
              "      <td>Wabash Ave &amp; 8th St</td>\n",
              "      <td>41.871962</td>\n",
              "      <td>-87.626106</td>\n",
              "      <td>19.0</td>\n",
              "      <td>81.0</td>\n",
              "      <td>10.0</td>\n",
              "      <td>8.1</td>\n",
              "      <td>-9999.0</td>\n",
              "      <td>mostlycloudy</td>\n",
              "    </tr>\n",
              "    <tr>\n",
              "      <th>17990</th>\n",
              "      <td>7468970</td>\n",
              "      <td>Subscriber</td>\n",
              "      <td>Male</td>\n",
              "      <td>2015-09-15 08:25:00</td>\n",
              "      <td>2015-09-15 08:33:00</td>\n",
              "      <td>473</td>\n",
              "      <td>Clark St &amp; 9th St (AMLI)</td>\n",
              "      <td>NaN</td>\n",
              "      <td>NaN</td>\n",
              "      <td>NaN</td>\n",
              "      <td>Franklin St &amp; Monroe St</td>\n",
              "      <td>41.881469</td>\n",
              "      <td>-87.635177</td>\n",
              "      <td>27.0</td>\n",
              "      <td>68.0</td>\n",
              "      <td>10.0</td>\n",
              "      <td>9.2</td>\n",
              "      <td>-9999.0</td>\n",
              "      <td>mostlycloudy</td>\n",
              "    </tr>\n",
              "  </tbody>\n",
              "</table>\n",
              "</div>"
            ],
            "text/plain": [
              "       trip_id    usertype  gender  ... wind_speed precipitation        events\n",
              "17566  7319012  Subscriber    Male  ...        4.6       -9999.0  mostlycloudy\n",
              "17605  7341764  Subscriber  Female  ...        8.1       -9999.0  mostlycloudy\n",
              "17990  7468970  Subscriber    Male  ...        9.2       -9999.0  mostlycloudy\n",
              "\n",
              "[3 rows x 19 columns]"
            ]
          },
          "metadata": {
            "tags": []
          },
          "execution_count": 19
        }
      ]
    },
    {
      "cell_type": "markdown",
      "metadata": {
        "id": "DF0uplyc3Wo0"
      },
      "source": [
        "### `isnull` is an alias for `isna`\n",
        "\n",
        "There is an identical method named `isnull` that you will see in other tutorials. It is an **alias** of `isna` meaning it does the exact same thing but has a different name. Either one is suitable to use, but I prefer `isna` because of the similarity to **NaN**, the representation of missing values. There are also other methods such as `dropna` and `fillna` that use the 'na' in their method names."
      ]
    },
    {
      "cell_type": "markdown",
      "metadata": {
        "id": "HNItuoqr3Wo0"
      },
      "source": [
        "## Exercises\n",
        "\n",
        "Continue to use the bikes dataset for the first few exercises.\n",
        "\n",
        "### Exercise 1\n",
        "<span  style=\"color:green; font-size:16px\">Select the wind speed column a a Series and assign it to a variable. Are there any negative wind speeds?</span>"
      ]
    },
    {
      "cell_type": "code",
      "metadata": {
        "id": "yGIM1UJv3Wo1"
      },
      "source": [
        ""
      ],
      "execution_count": null,
      "outputs": []
    },
    {
      "cell_type": "markdown",
      "metadata": {
        "id": "oshscnud3Wo3"
      },
      "source": [
        "### Exercise 2\n",
        "<span  style=\"color:green; font-size:16px\">Select all wind speed values between 12 and 16.</span>"
      ]
    },
    {
      "cell_type": "code",
      "metadata": {
        "id": "7N3fBl8y3Wo3"
      },
      "source": [
        ""
      ],
      "execution_count": null,
      "outputs": []
    },
    {
      "cell_type": "markdown",
      "metadata": {
        "id": "SnGwDhrm3Wo5"
      },
      "source": [
        "### Exercise 3\n",
        "<span  style=\"color:green; font-size:16px\">Select the `events` and `gender` columns for all trip durations longer than 1,000 seconds.</span>"
      ]
    },
    {
      "cell_type": "code",
      "metadata": {
        "id": "BaKPQnta3Wo5"
      },
      "source": [
        ""
      ],
      "execution_count": null,
      "outputs": []
    },
    {
      "cell_type": "markdown",
      "metadata": {
        "id": "mS8D-ZVo3Wo7"
      },
      "source": [
        "Read in the movie dataset by executing the cell below and use it for the following exercises."
      ]
    },
    {
      "cell_type": "code",
      "metadata": {
        "id": "IkHBnBoG3Wo7",
        "colab": {
          "base_uri": "https://localhost:8080/",
          "height": 316
        },
        "outputId": "a6ad3c9b-a48e-4474-a931-e17ce664a129"
      },
      "source": [
        "import pandas as pd\n",
        "movie = pd.read_csv('Pandas/movie.csv', index_col='title')\n",
        "movie.head(3)"
      ],
      "execution_count": null,
      "outputs": [
        {
          "output_type": "execute_result",
          "data": {
            "text/html": [
              "<div>\n",
              "<style scoped>\n",
              "    .dataframe tbody tr th:only-of-type {\n",
              "        vertical-align: middle;\n",
              "    }\n",
              "\n",
              "    .dataframe tbody tr th {\n",
              "        vertical-align: top;\n",
              "    }\n",
              "\n",
              "    .dataframe thead th {\n",
              "        text-align: right;\n",
              "    }\n",
              "</style>\n",
              "<table border=\"1\" class=\"dataframe\">\n",
              "  <thead>\n",
              "    <tr style=\"text-align: right;\">\n",
              "      <th></th>\n",
              "      <th>year</th>\n",
              "      <th>color</th>\n",
              "      <th>content_rating</th>\n",
              "      <th>duration</th>\n",
              "      <th>director_name</th>\n",
              "      <th>director_fb</th>\n",
              "      <th>actor1</th>\n",
              "      <th>actor1_fb</th>\n",
              "      <th>actor2</th>\n",
              "      <th>actor2_fb</th>\n",
              "      <th>actor3</th>\n",
              "      <th>actor3_fb</th>\n",
              "      <th>gross</th>\n",
              "      <th>genres</th>\n",
              "      <th>num_reviews</th>\n",
              "      <th>num_voted_users</th>\n",
              "      <th>plot_keywords</th>\n",
              "      <th>language</th>\n",
              "      <th>country</th>\n",
              "      <th>budget</th>\n",
              "      <th>imdb_score</th>\n",
              "    </tr>\n",
              "    <tr>\n",
              "      <th>title</th>\n",
              "      <th></th>\n",
              "      <th></th>\n",
              "      <th></th>\n",
              "      <th></th>\n",
              "      <th></th>\n",
              "      <th></th>\n",
              "      <th></th>\n",
              "      <th></th>\n",
              "      <th></th>\n",
              "      <th></th>\n",
              "      <th></th>\n",
              "      <th></th>\n",
              "      <th></th>\n",
              "      <th></th>\n",
              "      <th></th>\n",
              "      <th></th>\n",
              "      <th></th>\n",
              "      <th></th>\n",
              "      <th></th>\n",
              "      <th></th>\n",
              "      <th></th>\n",
              "    </tr>\n",
              "  </thead>\n",
              "  <tbody>\n",
              "    <tr>\n",
              "      <th>Avatar</th>\n",
              "      <td>2009.0</td>\n",
              "      <td>Color</td>\n",
              "      <td>PG-13</td>\n",
              "      <td>178.0</td>\n",
              "      <td>James Cameron</td>\n",
              "      <td>0.0</td>\n",
              "      <td>CCH Pounder</td>\n",
              "      <td>1000.0</td>\n",
              "      <td>Joel David Moore</td>\n",
              "      <td>936.0</td>\n",
              "      <td>Wes Studi</td>\n",
              "      <td>855.0</td>\n",
              "      <td>760505847.0</td>\n",
              "      <td>Action|Adventure|Fantasy|Sci-Fi</td>\n",
              "      <td>723.0</td>\n",
              "      <td>886204</td>\n",
              "      <td>avatar|future|marine|native|paraplegic</td>\n",
              "      <td>English</td>\n",
              "      <td>USA</td>\n",
              "      <td>237000000.0</td>\n",
              "      <td>7.9</td>\n",
              "    </tr>\n",
              "    <tr>\n",
              "      <th>Pirates of the Caribbean: At World's End</th>\n",
              "      <td>2007.0</td>\n",
              "      <td>Color</td>\n",
              "      <td>PG-13</td>\n",
              "      <td>169.0</td>\n",
              "      <td>Gore Verbinski</td>\n",
              "      <td>563.0</td>\n",
              "      <td>Johnny Depp</td>\n",
              "      <td>40000.0</td>\n",
              "      <td>Orlando Bloom</td>\n",
              "      <td>5000.0</td>\n",
              "      <td>Jack Davenport</td>\n",
              "      <td>1000.0</td>\n",
              "      <td>309404152.0</td>\n",
              "      <td>Action|Adventure|Fantasy</td>\n",
              "      <td>302.0</td>\n",
              "      <td>471220</td>\n",
              "      <td>goddess|marriage ceremony|marriage proposal|pi...</td>\n",
              "      <td>English</td>\n",
              "      <td>USA</td>\n",
              "      <td>300000000.0</td>\n",
              "      <td>7.1</td>\n",
              "    </tr>\n",
              "    <tr>\n",
              "      <th>Spectre</th>\n",
              "      <td>2015.0</td>\n",
              "      <td>Color</td>\n",
              "      <td>PG-13</td>\n",
              "      <td>148.0</td>\n",
              "      <td>Sam Mendes</td>\n",
              "      <td>0.0</td>\n",
              "      <td>Christoph Waltz</td>\n",
              "      <td>11000.0</td>\n",
              "      <td>Rory Kinnear</td>\n",
              "      <td>393.0</td>\n",
              "      <td>Stephanie Sigman</td>\n",
              "      <td>161.0</td>\n",
              "      <td>200074175.0</td>\n",
              "      <td>Action|Adventure|Thriller</td>\n",
              "      <td>602.0</td>\n",
              "      <td>275868</td>\n",
              "      <td>bomb|espionage|sequel|spy|terrorist</td>\n",
              "      <td>English</td>\n",
              "      <td>UK</td>\n",
              "      <td>245000000.0</td>\n",
              "      <td>6.8</td>\n",
              "    </tr>\n",
              "  </tbody>\n",
              "</table>\n",
              "</div>"
            ],
            "text/plain": [
              "                                            year  ... imdb_score\n",
              "title                                             ...           \n",
              "Avatar                                    2009.0  ...        7.9\n",
              "Pirates of the Caribbean: At World's End  2007.0  ...        7.1\n",
              "Spectre                                   2015.0  ...        6.8\n",
              "\n",
              "[3 rows x 21 columns]"
            ]
          },
          "metadata": {
            "tags": []
          },
          "execution_count": 22
        }
      ]
    },
    {
      "cell_type": "markdown",
      "metadata": {
        "id": "28YbsWx13Wo9"
      },
      "source": [
        "### Exercise 4\n",
        "<span  style=\"color:green; font-size:16px\">Select all the movies such that the Facebook likes for actor 2 are greater than those for actor 1.</span>"
      ]
    },
    {
      "cell_type": "code",
      "metadata": {
        "id": "ezDA98sn3Wo9"
      },
      "source": [
        ""
      ],
      "execution_count": null,
      "outputs": []
    },
    {
      "cell_type": "markdown",
      "metadata": {
        "id": "g66ElFga3Wo_"
      },
      "source": [
        "### Exercise 5\n",
        "<span  style=\"color:green; font-size:16px\">Select the year, content rating, and IMDB score columns for movies from the year 2016 with IMDB score less than 4.</span>"
      ]
    },
    {
      "cell_type": "code",
      "metadata": {
        "id": "FHWEcM5b3WpA"
      },
      "source": [
        ""
      ],
      "execution_count": null,
      "outputs": []
    },
    {
      "cell_type": "markdown",
      "metadata": {
        "id": "wLomzsMW3WpD"
      },
      "source": [
        "### Exercise 6\n",
        "<span  style=\"color:green; font-size:16px\">Select all the movies that are missing values for content rating.</span>"
      ]
    },
    {
      "cell_type": "code",
      "metadata": {
        "id": "dxKNhAW73WpE"
      },
      "source": [
        ""
      ],
      "execution_count": null,
      "outputs": []
    },
    {
      "cell_type": "markdown",
      "metadata": {
        "id": "8mjZ5gg03WpJ"
      },
      "source": [
        "### Exercise 7\n",
        "<span  style=\"color:green; font-size:16px\">Select all the movies that are missing values for both the gross and budget columns. Return just those columns to verify that those values are indeed missing.</span>"
      ]
    },
    {
      "cell_type": "code",
      "metadata": {
        "id": "uh62elZE3WpK"
      },
      "source": [
        ""
      ],
      "execution_count": null,
      "outputs": []
    },
    {
      "cell_type": "markdown",
      "metadata": {
        "id": "ZAVKD0eX3WpL"
      },
      "source": [
        "### Exercise 8\n",
        "<span  style=\"color:green; font-size:16px\">Write a function `find_missing` that has three parameters, `df`, `col1` and `col2` where `df` is a DataFrame and `col1` and `col2` are column names. This function should return all the rows of the DataFrame where `col1` and `col2` are missing. Only return the two columns as well. Answer problem 7 with this function.</span>"
      ]
    },
    {
      "cell_type": "code",
      "metadata": {
        "id": "XYxtylxj3WpM"
      },
      "source": [
        ""
      ],
      "execution_count": null,
      "outputs": []
    }
  ]
}