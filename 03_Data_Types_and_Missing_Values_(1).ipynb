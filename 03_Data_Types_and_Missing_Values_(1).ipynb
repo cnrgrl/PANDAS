{
  "nbformat": 4,
  "nbformat_minor": 0,
  "metadata": {
    "kernelspec": {
      "display_name": "Python 3",
      "language": "python",
      "name": "python3"
    },
    "language_info": {
      "codemirror_mode": {
        "name": "ipython",
        "version": 3
      },
      "file_extension": ".py",
      "mimetype": "text/x-python",
      "name": "python",
      "nbconvert_exporter": "python",
      "pygments_lexer": "ipython3",
      "version": "3.7.3"
    },
    "colab": {
      "name": "03. Data Types and Missing Values (1).ipynb",
      "provenance": [],
      "include_colab_link": true
    }
  },
  "cells": [
    {
      "cell_type": "markdown",
      "metadata": {
        "id": "view-in-github",
        "colab_type": "text"
      },
      "source": [
        "<a href=\"https://colab.research.google.com/github/cnrgrl/PANDAS/blob/main/03_Data_Types_and_Missing_Values_(1).ipynb\" target=\"_parent\"><img src=\"https://colab.research.google.com/assets/colab-badge.svg\" alt=\"Open In Colab\"/></a>"
      ]
    },
    {
      "cell_type": "code",
      "metadata": {
        "id": "F1FiT7cqspe2",
        "colab": {
          "base_uri": "https://localhost:8080/",
          "height": 138
        },
        "outputId": "728152b4-ccb0-4d26-c4be-5fcc00fa0227"
      },
      "source": [
        "# uncomment the following line, if you are using google collab\n",
        "!rm -r Pandas\n",
        "!git clone https://github.com/Wuebbelt/Pandas.git"
      ],
      "execution_count": null,
      "outputs": [
        {
          "output_type": "stream",
          "text": [
            "rm: cannot remove 'Pandas': No such file or directory\n",
            "Cloning into 'Pandas'...\n",
            "remote: Enumerating objects: 74, done.\u001b[K\n",
            "remote: Counting objects: 100% (74/74), done.\u001b[K\n",
            "remote: Compressing objects: 100% (64/64), done.\u001b[K\n",
            "remote: Total 74 (delta 10), reused 73 (delta 9), pack-reused 0\u001b[K\n",
            "Unpacking objects: 100% (74/74), done.\n"
          ],
          "name": "stdout"
        }
      ]
    },
    {
      "cell_type": "markdown",
      "metadata": {
        "id": "NanJb_wpsj8e"
      },
      "source": [
        "# Data Types and Missing Values\n",
        "\n",
        "One of the most important pieces of information you can have about your DataFrame is the data type of each column. pandas stores its data such that each column is exactly one data type. A large number of data types are available for pandas DataFrame columns. This chapter focuses only on the most common data types and provides a brief summary of each one. For extensive coverage of each and every data type, see the chapter **Changing Data Types** in the **Essential Commands** part.\n",
        "\n",
        "## Common data types\n",
        "\n",
        "The following are the most common data types that appear frequently in DataFrames. \n",
        "\n",
        "* **boolean** - Only two possible values, `True` and `False`\n",
        "* **integer** - Whole numbers without decimals\n",
        "* **float** - Numbers with decimals\n",
        "* **object** - Typically strings, but may contain any object\n",
        "* **datetime** - Specific date and time with nanosecond precision\n",
        "\n",
        "### More on the object data type\n",
        "\n",
        "The object data type is the most confusing and deserves a longer discussion. Each value in an object column can be *any* Python object. Object columns can contain integers, floats, or even data structures such as lists or dictionaries. Anything can be contained in object columns.  But, nearly all of the time, columns of the object data type only contain **strings**. When you see that a column is an object data type, you should expect the values to be strings. Unfortunately, pandas does not provide its users with a specific data type for strings. If you do have strings in your columns, the data type will be object.\n",
        "\n",
        "### The importance of knowing the data type\n",
        "\n",
        "Knowing the data type of each column of your pandas DataFrame is very important. The main reason for this is that every value in each column will be of the same type. For instance, if you select a single value from a column that has an integer data type, then you are guaranteed that this value is also an integer.  Knowing the data type of a column is one of the most fundamental pieces of knowledge of your DataFrame.\n",
        "\n",
        "### A major exception with the object data type\n",
        "\n",
        "The object data type, is unfortunately, an exception to the information in the previous section. Although columns that have object data type are typically strings, there is no guarantee that each value will be a string. You could very well have an integer, list, or even another DataFrame as a value in the same object column.\n",
        "\n",
        "## Missing Value Representation\n",
        "\n",
        "### `NaN`,  `None`, and `NaT`\n",
        "\n",
        "pandas represents missing values differently based on the data type of the column.\n",
        "\n",
        "* `NaN` - Stands for not a number and is a float data type\n",
        "* `None` - The literal Python object `None` and only found in object columns\n",
        "* `NaT` - Stands for not a time and is used for missing values in datetime columns\n",
        "\n",
        "### Missing values for each data type\n",
        "\n",
        "* **boolean and integer** - No representation for missing values exist for boolean and integer columns. This is an unfortunate limitation.\n",
        "* **float** -  Uses `NaN` as the missing value.\n",
        "* **datetime** - Only uses `NaT` as the missing value.\n",
        "* **object** - Can contain any Python object so all three of the missing value representations may appear in these columns, but typically you will encounter `NaN` or `None`.\n",
        "\n",
        "### Missing values in boolean and integer columns\n",
        "\n",
        "Knowing that a column is either a boolean or integer column guarantees that there are no missing values in that column as pandas does not allow for it. If, for instance, you would like to place a missing value in a boolean or integer column, then pandas converts the entire column to float. This is because a float column can accommodate missing values. When booleans are converted to floats, `False` becomes 0 and `True` becomes 1.\n",
        "\n",
        "### Integer NaN update for pandas 0.24\n",
        "\n",
        "With the release of pandas version 0.24 (February 2019), missing value representation was made possible for a special kind of integer data type called **Int64Dtype**. There is still no missing value representation for the default integer data type. \n",
        "\n",
        "## Finding the data type of each column\n",
        "\n",
        "The `dtypes` DataFrame attribute (NOT a method) returns the data type of each column and is one of the first commands you should execute after reading in your data. Let's begin by using the `read_csv` function to read in the bikes dataset. "
      ]
    },
    {
      "cell_type": "code",
      "metadata": {
        "id": "V0dseDMvsj8j",
        "colab": {
          "base_uri": "https://localhost:8080/",
          "height": 267
        },
        "outputId": "649bdbef-fa71-4edf-da0d-f1346c17e624"
      },
      "source": [
        "import pandas as pd\n",
        "bikes = pd.read_csv('Pandas/bikes.csv')\n",
        "bikes.head(3)"
      ],
      "execution_count": null,
      "outputs": [
        {
          "output_type": "execute_result",
          "data": {
            "text/html": [
              "<div>\n",
              "<style scoped>\n",
              "    .dataframe tbody tr th:only-of-type {\n",
              "        vertical-align: middle;\n",
              "    }\n",
              "\n",
              "    .dataframe tbody tr th {\n",
              "        vertical-align: top;\n",
              "    }\n",
              "\n",
              "    .dataframe thead th {\n",
              "        text-align: right;\n",
              "    }\n",
              "</style>\n",
              "<table border=\"1\" class=\"dataframe\">\n",
              "  <thead>\n",
              "    <tr style=\"text-align: right;\">\n",
              "      <th></th>\n",
              "      <th>trip_id</th>\n",
              "      <th>usertype</th>\n",
              "      <th>gender</th>\n",
              "      <th>starttime</th>\n",
              "      <th>stoptime</th>\n",
              "      <th>tripduration</th>\n",
              "      <th>from_station_name</th>\n",
              "      <th>latitude_start</th>\n",
              "      <th>longitude_start</th>\n",
              "      <th>dpcapacity_start</th>\n",
              "      <th>to_station_name</th>\n",
              "      <th>latitude_end</th>\n",
              "      <th>longitude_end</th>\n",
              "      <th>dpcapacity_end</th>\n",
              "      <th>temperature</th>\n",
              "      <th>visibility</th>\n",
              "      <th>wind_speed</th>\n",
              "      <th>precipitation</th>\n",
              "      <th>events</th>\n",
              "    </tr>\n",
              "  </thead>\n",
              "  <tbody>\n",
              "    <tr>\n",
              "      <th>0</th>\n",
              "      <td>7147</td>\n",
              "      <td>Subscriber</td>\n",
              "      <td>Male</td>\n",
              "      <td>2013-06-28 19:01:00</td>\n",
              "      <td>2013-06-28 19:17:00</td>\n",
              "      <td>993</td>\n",
              "      <td>Lake Shore Dr &amp; Monroe St</td>\n",
              "      <td>41.881050</td>\n",
              "      <td>-87.616970</td>\n",
              "      <td>11.0</td>\n",
              "      <td>Michigan Ave &amp; Oak St</td>\n",
              "      <td>41.90096</td>\n",
              "      <td>-87.623777</td>\n",
              "      <td>15.0</td>\n",
              "      <td>73.9</td>\n",
              "      <td>10.0</td>\n",
              "      <td>12.7</td>\n",
              "      <td>-9999.0</td>\n",
              "      <td>mostlycloudy</td>\n",
              "    </tr>\n",
              "    <tr>\n",
              "      <th>1</th>\n",
              "      <td>7524</td>\n",
              "      <td>Subscriber</td>\n",
              "      <td>Male</td>\n",
              "      <td>2013-06-28 22:53:00</td>\n",
              "      <td>2013-06-28 23:03:00</td>\n",
              "      <td>623</td>\n",
              "      <td>Clinton St &amp; Washington Blvd</td>\n",
              "      <td>41.883380</td>\n",
              "      <td>-87.641170</td>\n",
              "      <td>31.0</td>\n",
              "      <td>Wells St &amp; Walton St</td>\n",
              "      <td>41.89993</td>\n",
              "      <td>-87.634430</td>\n",
              "      <td>19.0</td>\n",
              "      <td>69.1</td>\n",
              "      <td>10.0</td>\n",
              "      <td>6.9</td>\n",
              "      <td>-9999.0</td>\n",
              "      <td>partlycloudy</td>\n",
              "    </tr>\n",
              "    <tr>\n",
              "      <th>2</th>\n",
              "      <td>10927</td>\n",
              "      <td>Subscriber</td>\n",
              "      <td>Male</td>\n",
              "      <td>2013-06-30 14:43:00</td>\n",
              "      <td>2013-06-30 15:01:00</td>\n",
              "      <td>1040</td>\n",
              "      <td>Sheffield Ave &amp; Kingsbury St</td>\n",
              "      <td>41.909592</td>\n",
              "      <td>-87.653497</td>\n",
              "      <td>15.0</td>\n",
              "      <td>Dearborn St &amp; Monroe St</td>\n",
              "      <td>41.88132</td>\n",
              "      <td>-87.629521</td>\n",
              "      <td>23.0</td>\n",
              "      <td>73.0</td>\n",
              "      <td>10.0</td>\n",
              "      <td>16.1</td>\n",
              "      <td>-9999.0</td>\n",
              "      <td>mostlycloudy</td>\n",
              "    </tr>\n",
              "  </tbody>\n",
              "</table>\n",
              "</div>"
            ],
            "text/plain": [
              "   trip_id    usertype gender  ... wind_speed precipitation        events\n",
              "0     7147  Subscriber   Male  ...       12.7       -9999.0  mostlycloudy\n",
              "1     7524  Subscriber   Male  ...        6.9       -9999.0  partlycloudy\n",
              "2    10927  Subscriber   Male  ...       16.1       -9999.0  mostlycloudy\n",
              "\n",
              "[3 rows x 19 columns]"
            ]
          },
          "metadata": {
            "tags": []
          },
          "execution_count": 2
        }
      ]
    },
    {
      "cell_type": "markdown",
      "metadata": {
        "id": "vtWlDSyAsj8m"
      },
      "source": [
        "Let's get the data types of each column in our `bikes` DataFrame. The returned object is a Series with the data types as the values and the column names as the index."
      ]
    },
    {
      "cell_type": "code",
      "metadata": {
        "id": "H-mUO5fasj8o",
        "colab": {
          "base_uri": "https://localhost:8080/",
          "height": 363
        },
        "outputId": "988bf73e-c12b-48ab-92f7-a00558e9ddd4"
      },
      "source": [
        "bikes.dtypes"
      ],
      "execution_count": null,
      "outputs": [
        {
          "output_type": "execute_result",
          "data": {
            "text/plain": [
              "trip_id                int64\n",
              "usertype              object\n",
              "gender                object\n",
              "starttime             object\n",
              "stoptime              object\n",
              "tripduration           int64\n",
              "from_station_name     object\n",
              "latitude_start       float64\n",
              "longitude_start      float64\n",
              "dpcapacity_start     float64\n",
              "to_station_name       object\n",
              "latitude_end         float64\n",
              "longitude_end        float64\n",
              "dpcapacity_end       float64\n",
              "temperature          float64\n",
              "visibility           float64\n",
              "wind_speed           float64\n",
              "precipitation        float64\n",
              "events                object\n",
              "dtype: object"
            ]
          },
          "metadata": {
            "tags": []
          },
          "execution_count": 3
        }
      ]
    },
    {
      "cell_type": "markdown",
      "metadata": {
        "id": "0DAB26wtsj8r"
      },
      "source": [
        "### Why do `starttime` and `stoptime` have object as the data type?\n",
        "\n",
        "From the visual display of the bikes DataFrame above, it appears that both the `starttime` and `stoptime` columns are datetimes. The result of the `dtypes` attribute shows that they are objects (strings).\n",
        "\n",
        "The `read_csv` function requires that you provide a list of columns that are datetimes to the `parse_dates` parameter, otherwise it will read them in as strings. Let's reread the data using the `parse_dates` parameter."
      ]
    },
    {
      "cell_type": "code",
      "metadata": {
        "id": "6nTk20rQsj8t",
        "colab": {
          "base_uri": "https://localhost:8080/",
          "height": 121
        },
        "outputId": "9fd0061a-2149-4379-bd46-4ad4d35389d8"
      },
      "source": [
        "bikes = pd.read_csv('Pandas/bikes.csv', parse_dates=['starttime', 'stoptime'])\n",
        "bikes.dtypes.head()"
      ],
      "execution_count": null,
      "outputs": [
        {
          "output_type": "execute_result",
          "data": {
            "text/plain": [
              "trip_id               int64\n",
              "usertype             object\n",
              "gender               object\n",
              "starttime    datetime64[ns]\n",
              "stoptime     datetime64[ns]\n",
              "dtype: object"
            ]
          },
          "metadata": {
            "tags": []
          },
          "execution_count": 4
        }
      ]
    },
    {
      "cell_type": "markdown",
      "metadata": {
        "id": "sMgBYoiwsj8w"
      },
      "source": [
        "### What are all those 64's at the end of the data types?\n",
        "\n",
        "Booleans, integers, floats, and datetimes all use a particular amount of memory for each of their values. The memory is measured in **bits**. The number of bits used for each value is the number appended to the end of the data type name. For instance, integers can be either 8, 16, 32, or 64 bits while floats can be 16, 32, 64, or 128. A 128-bit float column will show up as `float128`. \n",
        "\n",
        "Technically a `float128` is a different data type than a `float64` but generally you will not have to worry about such a distinction as the operations between different float columns will be the same. \n",
        "\n",
        "**Booleans** are always stored as 8-bits. There is no set bit size for values in an **object** column as each value can be of any size.\n",
        "\n",
        "## Getting more metadata\n",
        "\n",
        "**Metadata** can be defined as data on the data. The data type of each column is an example of metadata. The number of rows and columns is another piece of metadata. We find this with the `shape` attribute, which returns a tuple of integers."
      ]
    },
    {
      "cell_type": "code",
      "metadata": {
        "id": "DRn3-Nc5sj8y",
        "colab": {
          "base_uri": "https://localhost:8080/",
          "height": 34
        },
        "outputId": "497655c4-a812-4d40-f9af-8f8fa8c44768"
      },
      "source": [
        "bikes.shape"
      ],
      "execution_count": null,
      "outputs": [
        {
          "output_type": "execute_result",
          "data": {
            "text/plain": [
              "(50089, 19)"
            ]
          },
          "metadata": {
            "tags": []
          },
          "execution_count": 5
        }
      ]
    },
    {
      "cell_type": "markdown",
      "metadata": {
        "id": "8Ljt4TDKsj80"
      },
      "source": [
        "### Total number of values with the `size` attribute\n",
        "The `size` attribute returns the total number of values (the number of columns multiplied by the number of rows) in the DataFrame."
      ]
    },
    {
      "cell_type": "code",
      "metadata": {
        "id": "AhUaWFe_sj80",
        "colab": {
          "base_uri": "https://localhost:8080/",
          "height": 34
        },
        "outputId": "43cb3d60-7b6c-4a3d-fef2-b55c861706e9"
      },
      "source": [
        "bikes.size"
      ],
      "execution_count": null,
      "outputs": [
        {
          "output_type": "execute_result",
          "data": {
            "text/plain": [
              "951691"
            ]
          },
          "metadata": {
            "tags": []
          },
          "execution_count": 6
        }
      ]
    },
    {
      "cell_type": "markdown",
      "metadata": {
        "id": "cFDrrSPMsj82"
      },
      "source": [
        "### Get data types plus more with the `info` method\n",
        "The `info` DataFrame method provides output similar to `dtypes`, but also shows the number of non-missing values in each column along with more info such as:  \n",
        "\n",
        "* Type of object (always a DataFrame)\n",
        "* The type of index and number of rows\n",
        "* The number of columns\n",
        "* The data types of each column and the number of non-missing (a.k.a non-null)\n",
        "* The frequency count of all data types\n",
        "* The total memory usage"
      ]
    },
    {
      "cell_type": "code",
      "metadata": {
        "id": "FRLT0Xzbsj83",
        "colab": {
          "base_uri": "https://localhost:8080/",
          "height": 433
        },
        "outputId": "66cda57b-848b-4c9e-adb8-5ed6bfbb26f1"
      },
      "source": [
        "bikes.info()"
      ],
      "execution_count": null,
      "outputs": [
        {
          "output_type": "stream",
          "text": [
            "<class 'pandas.core.frame.DataFrame'>\n",
            "RangeIndex: 50089 entries, 0 to 50088\n",
            "Data columns (total 19 columns):\n",
            "trip_id              50089 non-null int64\n",
            "usertype             50089 non-null object\n",
            "gender               50089 non-null object\n",
            "starttime            50089 non-null datetime64[ns]\n",
            "stoptime             50089 non-null datetime64[ns]\n",
            "tripduration         50089 non-null int64\n",
            "from_station_name    50089 non-null object\n",
            "latitude_start       50083 non-null float64\n",
            "longitude_start      50083 non-null float64\n",
            "dpcapacity_start     50083 non-null float64\n",
            "to_station_name      50089 non-null object\n",
            "latitude_end         50077 non-null float64\n",
            "longitude_end        50077 non-null float64\n",
            "dpcapacity_end       50077 non-null float64\n",
            "temperature          50089 non-null float64\n",
            "visibility           50089 non-null float64\n",
            "wind_speed           50089 non-null float64\n",
            "precipitation        50089 non-null float64\n",
            "events               50089 non-null object\n",
            "dtypes: datetime64[ns](2), float64(10), int64(2), object(5)\n",
            "memory usage: 7.3+ MB\n"
          ],
          "name": "stdout"
        }
      ]
    },
    {
      "cell_type": "markdown",
      "metadata": {
        "id": "n-jPHW7Jsj85"
      },
      "source": [
        "## More data types\n",
        "\n",
        "There are several more data types available in pandas. An extensive and formal discussion on all data types is available in the chapter **Changing Data Types** from the **Essential Commands** part."
      ]
    },
    {
      "cell_type": "markdown",
      "metadata": {
        "id": "oe-5RLUJsj85"
      },
      "source": [
        "## Exercises\n",
        "Use the `bikes` DataFrame for the following:"
      ]
    },
    {
      "cell_type": "markdown",
      "metadata": {
        "id": "idRKifAEsj86"
      },
      "source": [
        "### Exercise 1\n",
        "<span  style=\"color:green; font-size:16px\">What type of object is returned from the `dtypes` attribute?</span>"
      ]
    },
    {
      "cell_type": "code",
      "metadata": {
        "id": "DTdvWfugsj87"
      },
      "source": [
        ""
      ],
      "execution_count": null,
      "outputs": []
    },
    {
      "cell_type": "markdown",
      "metadata": {
        "id": "ABOtfE9xsj88"
      },
      "source": [
        "### Exercise 2\n",
        "<span  style=\"color:green; font-size:16px\">What type of object is returned from the `shape` attribute?</span>"
      ]
    },
    {
      "cell_type": "code",
      "metadata": {
        "id": "Qdco4tFxsj89"
      },
      "source": [
        ""
      ],
      "execution_count": null,
      "outputs": []
    },
    {
      "cell_type": "markdown",
      "metadata": {
        "id": "s8xyk04Psj8_"
      },
      "source": [
        "### Exercise 3\n",
        "<span style=\"color:green; font-size:16px\">What type of object is returned from the `info` method?</span>"
      ]
    },
    {
      "cell_type": "code",
      "metadata": {
        "id": "MbVyl9rGsj8_"
      },
      "source": [
        ""
      ],
      "execution_count": null,
      "outputs": []
    },
    {
      "cell_type": "markdown",
      "metadata": {
        "id": "A6g-TvHqsj9C"
      },
      "source": [
        "### Exercise 4\n",
        "<span  style=\"color:green; font-size:16px\">The memory usage from the `info` method isn't correct when you have objects in your DataFrame. Read the docstrings from it and get the true memory usage.</span>"
      ]
    },
    {
      "cell_type": "code",
      "metadata": {
        "id": "8FRXr0NOsj9C"
      },
      "source": [
        ""
      ],
      "execution_count": null,
      "outputs": []
    }
  ]
}